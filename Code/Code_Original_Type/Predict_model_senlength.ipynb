{
 "cells": [
  {
   "cell_type": "markdown",
   "id": "712e06f2",
   "metadata": {},
   "source": [
    "# Predict the senlength according to different x variable"
   ]
  },
  {
   "cell_type": "code",
   "execution_count": 2,
   "id": "a811d7e1",
   "metadata": {},
   "outputs": [],
   "source": [
    "# Import basic functionality\n",
    "import pandas as pd\n",
    "import numpy as np\n",
    "import plotnine\n",
    "from plotnine import *\n",
    "import re\n",
    "import os"
   ]
  },
  {
   "cell_type": "code",
   "execution_count": 3,
   "id": "f7c33c69",
   "metadata": {
    "scrolled": true
   },
   "outputs": [
    {
     "name": "stderr",
     "output_type": "stream",
     "text": [
      "/var/folders/39/p0rpjrxj68l4cbrkhyvw78fm0000gn/T/ipykernel_44852/3056575544.py:2: DtypeWarning: Columns (10,11,16,25) have mixed types. Specify dtype option on import or set low_memory=False.\n"
     ]
    }
   ],
   "source": [
    "# Read the data\n",
    "sentencing_cleaned = pd.read_csv(\"/Users/leowu/Desktop/Study_Materials/Data_Science1/pset2_inputdata/sentencing_cleaned.csv\")\n",
    "police_stations = pd.read_csv('/Users/leowu/Desktop/Final-Project-Group5/Dataset/Police_Stations.csv')"
   ]
  },
  {
   "cell_type": "markdown",
   "id": "a5510039",
   "metadata": {},
   "source": [
    "## Data cleaning/ Data subsetting\n",
    "### Add neighborhoods of police station"
   ]
  },
  {
   "cell_type": "code",
   "execution_count": 4,
   "id": "7c0add88",
   "metadata": {},
   "outputs": [],
   "source": [
    "police_stations['NEIGHBORHOODS'] = ['Douglas','Near North Side','Lake View','Lincoln Square','Morgan Park',\\\n",
    "                                   'Rogers Park','Belmont Cragin','Near South Side','Fuller Park',\\\n",
    "                                   'Woodlawn','South Deering','Pullman','Auburn Gresham','West Englewood',\\\n",
    "                                   'Chicago Lawn','Bridgeport','North Lawndale','East Garfield Park',\\\n",
    "                                   'Near West Side','Logan Square','Austin','Jefferson Park','Jefferson Park']"
   ]
  },
  {
   "cell_type": "code",
   "execution_count": 5,
   "id": "bc3ac079",
   "metadata": {},
   "outputs": [
    {
     "data": {
      "text/html": [
       "<div>\n",
       "<style scoped>\n",
       "    .dataframe tbody tr th:only-of-type {\n",
       "        vertical-align: middle;\n",
       "    }\n",
       "\n",
       "    .dataframe tbody tr th {\n",
       "        vertical-align: top;\n",
       "    }\n",
       "\n",
       "    .dataframe thead th {\n",
       "        text-align: right;\n",
       "    }\n",
       "</style>\n",
       "<table border=\"1\" class=\"dataframe\">\n",
       "  <thead>\n",
       "    <tr style=\"text-align: right;\">\n",
       "      <th></th>\n",
       "      <th>DISTRICT</th>\n",
       "      <th>DISTRICT NAME</th>\n",
       "      <th>ADDRESS</th>\n",
       "      <th>CITY</th>\n",
       "      <th>STATE</th>\n",
       "      <th>ZIP</th>\n",
       "      <th>WEBSITE</th>\n",
       "      <th>PHONE</th>\n",
       "      <th>FAX</th>\n",
       "      <th>TTY</th>\n",
       "      <th>X COORDINATE</th>\n",
       "      <th>Y COORDINATE</th>\n",
       "      <th>LATITUDE</th>\n",
       "      <th>LONGITUDE</th>\n",
       "      <th>LOCATION</th>\n",
       "      <th>NEIGHBORHOODS</th>\n",
       "    </tr>\n",
       "  </thead>\n",
       "  <tbody>\n",
       "    <tr>\n",
       "      <th>0</th>\n",
       "      <td>Headquarters</td>\n",
       "      <td>Headquarters</td>\n",
       "      <td>3510 S Michigan Ave</td>\n",
       "      <td>Chicago</td>\n",
       "      <td>IL</td>\n",
       "      <td>60653</td>\n",
       "      <td>http://home.chicagopolice.org</td>\n",
       "      <td>NaN</td>\n",
       "      <td>NaN</td>\n",
       "      <td>NaN</td>\n",
       "      <td>1177731.401</td>\n",
       "      <td>1881697.404</td>\n",
       "      <td>41.830702</td>\n",
       "      <td>-87.623395</td>\n",
       "      <td>(41.8307016873, -87.6233953459)</td>\n",
       "      <td>Douglas</td>\n",
       "    </tr>\n",
       "    <tr>\n",
       "      <th>1</th>\n",
       "      <td>18</td>\n",
       "      <td>Near North</td>\n",
       "      <td>1160 N Larrabee St</td>\n",
       "      <td>Chicago</td>\n",
       "      <td>IL</td>\n",
       "      <td>60610</td>\n",
       "      <td>http://home.chicagopolice.org/community/distri...</td>\n",
       "      <td>312-742-5870</td>\n",
       "      <td>312-742-5771</td>\n",
       "      <td>312-742-5773</td>\n",
       "      <td>1172080.029</td>\n",
       "      <td>1908086.527</td>\n",
       "      <td>41.903242</td>\n",
       "      <td>-87.643352</td>\n",
       "      <td>(41.9032416531, -87.6433521393)</td>\n",
       "      <td>Near North Side</td>\n",
       "    </tr>\n",
       "    <tr>\n",
       "      <th>2</th>\n",
       "      <td>19</td>\n",
       "      <td>Town Hall</td>\n",
       "      <td>850 W Addison St</td>\n",
       "      <td>Chicago</td>\n",
       "      <td>IL</td>\n",
       "      <td>60613</td>\n",
       "      <td>http://home.chicagopolice.org/community/distri...</td>\n",
       "      <td>312-744-8320</td>\n",
       "      <td>312-744-4481</td>\n",
       "      <td>312-744-8011</td>\n",
       "      <td>1169730.744</td>\n",
       "      <td>1924160.317</td>\n",
       "      <td>41.947400</td>\n",
       "      <td>-87.651512</td>\n",
       "      <td>(41.9474004564, -87.651512018)</td>\n",
       "      <td>Lake View</td>\n",
       "    </tr>\n",
       "    <tr>\n",
       "      <th>3</th>\n",
       "      <td>20</td>\n",
       "      <td>Lincoln</td>\n",
       "      <td>5400 N Lincoln Ave</td>\n",
       "      <td>Chicago</td>\n",
       "      <td>IL</td>\n",
       "      <td>60625</td>\n",
       "      <td>http://home.chicagopolice.org/community/distri...</td>\n",
       "      <td>312-742-8714</td>\n",
       "      <td>312-742-8803</td>\n",
       "      <td>312-742-8841</td>\n",
       "      <td>1158399.146</td>\n",
       "      <td>1935788.826</td>\n",
       "      <td>41.979550</td>\n",
       "      <td>-87.692845</td>\n",
       "      <td>(41.9795495131, -87.6928445094)</td>\n",
       "      <td>Lincoln Square</td>\n",
       "    </tr>\n",
       "    <tr>\n",
       "      <th>4</th>\n",
       "      <td>22</td>\n",
       "      <td>Morgan Park</td>\n",
       "      <td>1900 W Monterey Ave</td>\n",
       "      <td>Chicago</td>\n",
       "      <td>IL</td>\n",
       "      <td>60643</td>\n",
       "      <td>http://home.chicagopolice.org/community/distri...</td>\n",
       "      <td>312-745-0710</td>\n",
       "      <td>312-745-0814</td>\n",
       "      <td>312-745-0569</td>\n",
       "      <td>1165825.476</td>\n",
       "      <td>1830851.333</td>\n",
       "      <td>41.691435</td>\n",
       "      <td>-87.668520</td>\n",
       "      <td>(41.6914347795, -87.6685203937)</td>\n",
       "      <td>Morgan Park</td>\n",
       "    </tr>\n",
       "  </tbody>\n",
       "</table>\n",
       "</div>"
      ],
      "text/plain": [
       "       DISTRICT DISTRICT NAME              ADDRESS     CITY STATE    ZIP  \\\n",
       "0  Headquarters  Headquarters  3510 S Michigan Ave  Chicago    IL  60653   \n",
       "1            18    Near North   1160 N Larrabee St  Chicago    IL  60610   \n",
       "2            19     Town Hall     850 W Addison St  Chicago    IL  60613   \n",
       "3            20       Lincoln   5400 N Lincoln Ave  Chicago    IL  60625   \n",
       "4            22   Morgan Park  1900 W Monterey Ave  Chicago    IL  60643   \n",
       "\n",
       "                                             WEBSITE         PHONE  \\\n",
       "0                      http://home.chicagopolice.org           NaN   \n",
       "1  http://home.chicagopolice.org/community/distri...  312-742-5870   \n",
       "2  http://home.chicagopolice.org/community/distri...  312-744-8320   \n",
       "3  http://home.chicagopolice.org/community/distri...  312-742-8714   \n",
       "4  http://home.chicagopolice.org/community/distri...  312-745-0710   \n",
       "\n",
       "            FAX           TTY  X COORDINATE  Y COORDINATE   LATITUDE  \\\n",
       "0           NaN           NaN   1177731.401   1881697.404  41.830702   \n",
       "1  312-742-5771  312-742-5773   1172080.029   1908086.527  41.903242   \n",
       "2  312-744-4481  312-744-8011   1169730.744   1924160.317  41.947400   \n",
       "3  312-742-8803  312-742-8841   1158399.146   1935788.826  41.979550   \n",
       "4  312-745-0814  312-745-0569   1165825.476   1830851.333  41.691435   \n",
       "\n",
       "   LONGITUDE                         LOCATION    NEIGHBORHOODS  \n",
       "0 -87.623395  (41.8307016873, -87.6233953459)          Douglas  \n",
       "1 -87.643352  (41.9032416531, -87.6433521393)  Near North Side  \n",
       "2 -87.651512   (41.9474004564, -87.651512018)        Lake View  \n",
       "3 -87.692845  (41.9795495131, -87.6928445094)   Lincoln Square  \n",
       "4 -87.668520  (41.6914347795, -87.6685203937)      Morgan Park  "
      ]
     },
     "execution_count": 5,
     "metadata": {},
     "output_type": "execute_result"
    }
   ],
   "source": [
    "police_stations.head()"
   ]
  },
  {
   "cell_type": "markdown",
   "id": "24abbc9c",
   "metadata": {},
   "source": [
    "### Add count of sentences in different police station"
   ]
  },
  {
   "cell_type": "code",
   "execution_count": 6,
   "id": "0c1f7636",
   "metadata": {},
   "outputs": [
    {
     "data": {
      "text/html": [
       "<div>\n",
       "<style scoped>\n",
       "    .dataframe tbody tr th:only-of-type {\n",
       "        vertical-align: middle;\n",
       "    }\n",
       "\n",
       "    .dataframe tbody tr th {\n",
       "        vertical-align: top;\n",
       "    }\n",
       "\n",
       "    .dataframe thead th {\n",
       "        text-align: right;\n",
       "    }\n",
       "</style>\n",
       "<table border=\"1\" class=\"dataframe\">\n",
       "  <thead>\n",
       "    <tr style=\"text-align: right;\">\n",
       "      <th></th>\n",
       "      <th>LAW_ENFORCEMENT_UNIT</th>\n",
       "      <th>COUNT</th>\n",
       "    </tr>\n",
       "  </thead>\n",
       "  <tbody>\n",
       "    <tr>\n",
       "      <th>0</th>\n",
       "      <td>District 11 - Harrison</td>\n",
       "      <td>10328</td>\n",
       "    </tr>\n",
       "    <tr>\n",
       "      <th>1</th>\n",
       "      <td>District 10 - Ogden</td>\n",
       "      <td>3393</td>\n",
       "    </tr>\n",
       "    <tr>\n",
       "      <th>2</th>\n",
       "      <td>District 15 - Austin</td>\n",
       "      <td>3178</td>\n",
       "    </tr>\n",
       "    <tr>\n",
       "      <th>3</th>\n",
       "      <td>District 7 - Englewood</td>\n",
       "      <td>2639</td>\n",
       "    </tr>\n",
       "    <tr>\n",
       "      <th>4</th>\n",
       "      <td>District 6 - Gresham</td>\n",
       "      <td>2329</td>\n",
       "    </tr>\n",
       "  </tbody>\n",
       "</table>\n",
       "</div>"
      ],
      "text/plain": [
       "     LAW_ENFORCEMENT_UNIT  COUNT\n",
       "0  District 11 - Harrison  10328\n",
       "1     District 10 - Ogden   3393\n",
       "2    District 15 - Austin   3178\n",
       "3  District 7 - Englewood   2639\n",
       "4    District 6 - Gresham   2329"
      ]
     },
     "execution_count": 6,
     "metadata": {},
     "output_type": "execute_result"
    }
   ],
   "source": [
    "new_df = sentencing_cleaned[~sentencing_cleaned['LAW_ENFORCEMENT_UNIT'].isnull()]\n",
    "new_df_count = new_df.groupby('LAW_ENFORCEMENT_UNIT').agg(COUNT = ('CASE_ID','count')).\\\n",
    "sort_values('COUNT',ascending = False).reset_index()\n",
    "new_df_count.head()"
   ]
  },
  {
   "cell_type": "code",
   "execution_count": 7,
   "id": "d83e32b1",
   "metadata": {},
   "outputs": [
    {
     "data": {
      "text/html": [
       "<div>\n",
       "<style scoped>\n",
       "    .dataframe tbody tr th:only-of-type {\n",
       "        vertical-align: middle;\n",
       "    }\n",
       "\n",
       "    .dataframe tbody tr th {\n",
       "        vertical-align: top;\n",
       "    }\n",
       "\n",
       "    .dataframe thead th {\n",
       "        text-align: right;\n",
       "    }\n",
       "</style>\n",
       "<table border=\"1\" class=\"dataframe\">\n",
       "  <thead>\n",
       "    <tr style=\"text-align: right;\">\n",
       "      <th></th>\n",
       "      <th>LAW_ENFORCEMENT_UNIT</th>\n",
       "      <th>COUNT</th>\n",
       "      <th>DISTRICT NAME</th>\n",
       "    </tr>\n",
       "  </thead>\n",
       "  <tbody>\n",
       "    <tr>\n",
       "      <th>0</th>\n",
       "      <td>District 11 - Harrison</td>\n",
       "      <td>10328</td>\n",
       "      <td>Harrison</td>\n",
       "    </tr>\n",
       "    <tr>\n",
       "      <th>1</th>\n",
       "      <td>District 10 - Ogden</td>\n",
       "      <td>3393</td>\n",
       "      <td>Ogden</td>\n",
       "    </tr>\n",
       "    <tr>\n",
       "      <th>2</th>\n",
       "      <td>District 15 - Austin</td>\n",
       "      <td>3178</td>\n",
       "      <td>Austin</td>\n",
       "    </tr>\n",
       "    <tr>\n",
       "      <th>3</th>\n",
       "      <td>District 7 - Englewood</td>\n",
       "      <td>2639</td>\n",
       "      <td>Englewood</td>\n",
       "    </tr>\n",
       "    <tr>\n",
       "      <th>4</th>\n",
       "      <td>District 6 - Gresham</td>\n",
       "      <td>2329</td>\n",
       "      <td>Gresham</td>\n",
       "    </tr>\n",
       "  </tbody>\n",
       "</table>\n",
       "</div>"
      ],
      "text/plain": [
       "     LAW_ENFORCEMENT_UNIT  COUNT DISTRICT NAME\n",
       "0  District 11 - Harrison  10328      Harrison\n",
       "1     District 10 - Ogden   3393         Ogden\n",
       "2    District 15 - Austin   3178        Austin\n",
       "3  District 7 - Englewood   2639     Englewood\n",
       "4    District 6 - Gresham   2329       Gresham"
      ]
     },
     "execution_count": 7,
     "metadata": {},
     "output_type": "execute_result"
    }
   ],
   "source": [
    "new_df_up = new_df_count[new_df_count.LAW_ENFORCEMENT_UNIT.str.contains('District')].\\\n",
    "reset_index().drop(columns=['index'])\n",
    "new_df_up['DISTRICT NAME'] = [new_df_up.LAW_ENFORCEMENT_UNIT.str.split(' - ')[i][1] for i in range(len(new_df_up))]\n",
    "new_df_up.head()"
   ]
  },
  {
   "cell_type": "code",
   "execution_count": 8,
   "id": "22a83b4b",
   "metadata": {},
   "outputs": [
    {
     "data": {
      "text/html": [
       "<div>\n",
       "<style scoped>\n",
       "    .dataframe tbody tr th:only-of-type {\n",
       "        vertical-align: middle;\n",
       "    }\n",
       "\n",
       "    .dataframe tbody tr th {\n",
       "        vertical-align: top;\n",
       "    }\n",
       "\n",
       "    .dataframe thead th {\n",
       "        text-align: right;\n",
       "    }\n",
       "</style>\n",
       "<table border=\"1\" class=\"dataframe\">\n",
       "  <thead>\n",
       "    <tr style=\"text-align: right;\">\n",
       "      <th></th>\n",
       "      <th>LAW_ENFORCEMENT_UNIT</th>\n",
       "      <th>COUNT</th>\n",
       "      <th>DISTRICT NAME</th>\n",
       "      <th>LATITUDE</th>\n",
       "      <th>LONGITUDE</th>\n",
       "      <th>NEIGHBORHOODS</th>\n",
       "    </tr>\n",
       "  </thead>\n",
       "  <tbody>\n",
       "    <tr>\n",
       "      <th>0</th>\n",
       "      <td>District 11 - Harrison</td>\n",
       "      <td>10328</td>\n",
       "      <td>Harrison</td>\n",
       "      <td>41.873582</td>\n",
       "      <td>-87.705488</td>\n",
       "      <td>East Garfield Park</td>\n",
       "    </tr>\n",
       "    <tr>\n",
       "      <th>1</th>\n",
       "      <td>District 10 - Ogden</td>\n",
       "      <td>3393</td>\n",
       "      <td>Ogden</td>\n",
       "      <td>41.856685</td>\n",
       "      <td>-87.708382</td>\n",
       "      <td>North Lawndale</td>\n",
       "    </tr>\n",
       "    <tr>\n",
       "      <th>2</th>\n",
       "      <td>District 15 - Austin</td>\n",
       "      <td>3178</td>\n",
       "      <td>Austin</td>\n",
       "      <td>41.880083</td>\n",
       "      <td>-87.768200</td>\n",
       "      <td>Austin</td>\n",
       "    </tr>\n",
       "    <tr>\n",
       "      <th>3</th>\n",
       "      <td>District 7 - Englewood</td>\n",
       "      <td>2639</td>\n",
       "      <td>Englewood</td>\n",
       "      <td>41.779632</td>\n",
       "      <td>-87.660887</td>\n",
       "      <td>West Englewood</td>\n",
       "    </tr>\n",
       "    <tr>\n",
       "      <th>4</th>\n",
       "      <td>District 6 - Gresham</td>\n",
       "      <td>2329</td>\n",
       "      <td>Gresham</td>\n",
       "      <td>41.752137</td>\n",
       "      <td>-87.644229</td>\n",
       "      <td>Auburn Gresham</td>\n",
       "    </tr>\n",
       "  </tbody>\n",
       "</table>\n",
       "</div>"
      ],
      "text/plain": [
       "     LAW_ENFORCEMENT_UNIT  COUNT DISTRICT NAME   LATITUDE  LONGITUDE  \\\n",
       "0  District 11 - Harrison  10328      Harrison  41.873582 -87.705488   \n",
       "1     District 10 - Ogden   3393         Ogden  41.856685 -87.708382   \n",
       "2    District 15 - Austin   3178        Austin  41.880083 -87.768200   \n",
       "3  District 7 - Englewood   2639     Englewood  41.779632 -87.660887   \n",
       "4    District 6 - Gresham   2329       Gresham  41.752137 -87.644229   \n",
       "\n",
       "        NEIGHBORHOODS  \n",
       "0  East Garfield Park  \n",
       "1      North Lawndale  \n",
       "2              Austin  \n",
       "3      West Englewood  \n",
       "4      Auburn Gresham  "
      ]
     },
     "execution_count": 8,
     "metadata": {},
     "output_type": "execute_result"
    }
   ],
   "source": [
    "new_df_con = pd.merge(new_df_up,\n",
    "                     police_stations[['DISTRICT NAME','LATITUDE','LONGITUDE','NEIGHBORHOODS']],\n",
    "                     how = 'inner',\n",
    "                     on = 'DISTRICT NAME')\n",
    "new_df_con.head()"
   ]
  },
  {
   "cell_type": "markdown",
   "id": "82dcfce1",
   "metadata": {},
   "source": [
    "### Guess the gender of judges, and add is_judge_male column¶"
   ]
  },
  {
   "cell_type": "code",
   "execution_count": 9,
   "id": "0d4a2ff9",
   "metadata": {},
   "outputs": [
    {
     "name": "stdout",
     "output_type": "stream",
     "text": [
      "Requirement already satisfied: gender_guesser in /Users/leowu/opt/anaconda3/lib/python3.9/site-packages (0.4.0)\n",
      "Requirement already satisfied: xlrd in /Users/leowu/opt/anaconda3/lib/python3.9/site-packages (2.0.1)\n",
      "Requirement already satisfied: openpyxl in /Users/leowu/opt/anaconda3/lib/python3.9/site-packages (3.0.9)\n",
      "Requirement already satisfied: et-xmlfile in /Users/leowu/opt/anaconda3/lib/python3.9/site-packages (from openpyxl) (1.1.0)\n"
     ]
    }
   ],
   "source": [
    "## Load the packages\n",
    "!pip install gender_guesser\n",
    "!pip install xlrd\n",
    "!pip install openpyxl\n",
    "\n",
    "import gender_guesser.detector as gender"
   ]
  },
  {
   "cell_type": "code",
   "execution_count": 10,
   "id": "63f731b0",
   "metadata": {},
   "outputs": [
    {
     "data": {
      "text/plain": [
       "0    Clayton\n",
       "1     Thomas\n",
       "2        Kay\n",
       "3    William\n",
       "4    Timothy\n",
       "Name: FN_judge, dtype: object"
      ]
     },
     "execution_count": 10,
     "metadata": {},
     "output_type": "execute_result"
    }
   ],
   "source": [
    "# Get the first name of judgers\n",
    "sentencing_cleaned['FN_judge'] = [i.split(' ')[0] for i in sentencing_cleaned['SENTENCE_JUDGE']]\n",
    "sentencing_cleaned['FN_judge'].head()"
   ]
  },
  {
   "cell_type": "code",
   "execution_count": 11,
   "id": "9270f315",
   "metadata": {},
   "outputs": [
    {
     "data": {
      "text/html": [
       "<div>\n",
       "<style scoped>\n",
       "    .dataframe tbody tr th:only-of-type {\n",
       "        vertical-align: middle;\n",
       "    }\n",
       "\n",
       "    .dataframe tbody tr th {\n",
       "        vertical-align: top;\n",
       "    }\n",
       "\n",
       "    .dataframe thead th {\n",
       "        text-align: right;\n",
       "    }\n",
       "</style>\n",
       "<table border=\"1\" class=\"dataframe\">\n",
       "  <thead>\n",
       "    <tr style=\"text-align: right;\">\n",
       "      <th></th>\n",
       "      <th>FN_judge</th>\n",
       "      <th>Gender_judge</th>\n",
       "    </tr>\n",
       "  </thead>\n",
       "  <tbody>\n",
       "    <tr>\n",
       "      <th>0</th>\n",
       "      <td>Clayton</td>\n",
       "      <td>male</td>\n",
       "    </tr>\n",
       "    <tr>\n",
       "      <th>1</th>\n",
       "      <td>Thomas</td>\n",
       "      <td>male</td>\n",
       "    </tr>\n",
       "    <tr>\n",
       "      <th>2</th>\n",
       "      <td>Kay</td>\n",
       "      <td>male</td>\n",
       "    </tr>\n",
       "    <tr>\n",
       "      <th>3</th>\n",
       "      <td>William</td>\n",
       "      <td>male</td>\n",
       "    </tr>\n",
       "    <tr>\n",
       "      <th>4</th>\n",
       "      <td>Timothy</td>\n",
       "      <td>male</td>\n",
       "    </tr>\n",
       "  </tbody>\n",
       "</table>\n",
       "</div>"
      ],
      "text/plain": [
       "  FN_judge Gender_judge\n",
       "0  Clayton         male\n",
       "1   Thomas         male\n",
       "2      Kay         male\n",
       "3  William         male\n",
       "4  Timothy         male"
      ]
     },
     "execution_count": 11,
     "metadata": {},
     "output_type": "execute_result"
    }
   ],
   "source": [
    "# Predict the judgers' genders\n",
    "gd = gender.Detector()\n",
    "sentencing_cleaned['Gender_judge'] = sentencing_cleaned['FN_judge'].apply(str.capitalize).map(lambda x: gd.get_gender(x))\n",
    "sentencing_cleaned[['FN_judge','Gender_judge']].head()"
   ]
  },
  {
   "cell_type": "code",
   "execution_count": 12,
   "id": "ade2e403",
   "metadata": {},
   "outputs": [
    {
     "data": {
      "text/html": [
       "<div>\n",
       "<style scoped>\n",
       "    .dataframe tbody tr th:only-of-type {\n",
       "        vertical-align: middle;\n",
       "    }\n",
       "\n",
       "    .dataframe tbody tr th {\n",
       "        vertical-align: top;\n",
       "    }\n",
       "\n",
       "    .dataframe thead th {\n",
       "        text-align: right;\n",
       "    }\n",
       "</style>\n",
       "<table border=\"1\" class=\"dataframe\">\n",
       "  <thead>\n",
       "    <tr style=\"text-align: right;\">\n",
       "      <th></th>\n",
       "      <th>Gender_judge</th>\n",
       "      <th>num_judge</th>\n",
       "    </tr>\n",
       "  </thead>\n",
       "  <tbody>\n",
       "    <tr>\n",
       "      <th>0</th>\n",
       "      <td>andy</td>\n",
       "      <td>98</td>\n",
       "    </tr>\n",
       "    <tr>\n",
       "      <th>1</th>\n",
       "      <td>female</td>\n",
       "      <td>33910</td>\n",
       "    </tr>\n",
       "    <tr>\n",
       "      <th>2</th>\n",
       "      <td>male</td>\n",
       "      <td>87835</td>\n",
       "    </tr>\n",
       "    <tr>\n",
       "      <th>3</th>\n",
       "      <td>mostly_female</td>\n",
       "      <td>9680</td>\n",
       "    </tr>\n",
       "    <tr>\n",
       "      <th>4</th>\n",
       "      <td>mostly_male</td>\n",
       "      <td>1</td>\n",
       "    </tr>\n",
       "    <tr>\n",
       "      <th>5</th>\n",
       "      <td>unknown</td>\n",
       "      <td>3641</td>\n",
       "    </tr>\n",
       "  </tbody>\n",
       "</table>\n",
       "</div>"
      ],
      "text/plain": [
       "    Gender_judge  num_judge\n",
       "0           andy         98\n",
       "1         female      33910\n",
       "2           male      87835\n",
       "3  mostly_female       9680\n",
       "4    mostly_male          1\n",
       "5        unknown       3641"
      ]
     },
     "execution_count": 12,
     "metadata": {},
     "output_type": "execute_result"
    }
   ],
   "source": [
    "# To see the diffence of judge made by judgers with different genders\n",
    "sentencing_cleaned.groupby('Gender_judge').agg(num_judge = ('Gender_judge', 'count')).reset_index()"
   ]
  },
  {
   "cell_type": "code",
   "execution_count": 13,
   "id": "af25d1d9",
   "metadata": {},
   "outputs": [
    {
     "name": "stderr",
     "output_type": "stream",
     "text": [
      "/var/folders/39/p0rpjrxj68l4cbrkhyvw78fm0000gn/T/ipykernel_44852/391556450.py:4: SettingWithCopyWarning: \n",
      "A value is trying to be set on a copy of a slice from a DataFrame.\n",
      "Try using .loc[row_indexer,col_indexer] = value instead\n",
      "\n",
      "See the caveats in the documentation: https://pandas.pydata.org/pandas-docs/stable/user_guide/indexing.html#returning-a-view-versus-a-copy\n"
     ]
    }
   ],
   "source": [
    "# Rename the is_judge_gender\n",
    "sentencing_cleaned1 = sentencing_cleaned[sentencing_cleaned.Gender_judge.isin(['female','male',\\\n",
    "                                                                               'mostly_female','mostly_male'])]\n",
    "sentencing_cleaned1['is_judge_male'] = np.where(sentencing_cleaned1.Gender_judge.isin(['mostly_male','male']), True, False)"
   ]
  },
  {
   "cell_type": "code",
   "execution_count": 14,
   "id": "298ce982",
   "metadata": {},
   "outputs": [
    {
     "data": {
      "text/html": [
       "<div>\n",
       "<style scoped>\n",
       "    .dataframe tbody tr th:only-of-type {\n",
       "        vertical-align: middle;\n",
       "    }\n",
       "\n",
       "    .dataframe tbody tr th {\n",
       "        vertical-align: top;\n",
       "    }\n",
       "\n",
       "    .dataframe thead th {\n",
       "        text-align: right;\n",
       "    }\n",
       "</style>\n",
       "<table border=\"1\" class=\"dataframe\">\n",
       "  <thead>\n",
       "    <tr style=\"text-align: right;\">\n",
       "      <th></th>\n",
       "      <th>is_judge_male</th>\n",
       "      <th>Gender_judge</th>\n",
       "    </tr>\n",
       "  </thead>\n",
       "  <tbody>\n",
       "    <tr>\n",
       "      <th>0</th>\n",
       "      <td>True</td>\n",
       "      <td>male</td>\n",
       "    </tr>\n",
       "    <tr>\n",
       "      <th>1</th>\n",
       "      <td>True</td>\n",
       "      <td>male</td>\n",
       "    </tr>\n",
       "    <tr>\n",
       "      <th>2</th>\n",
       "      <td>True</td>\n",
       "      <td>male</td>\n",
       "    </tr>\n",
       "    <tr>\n",
       "      <th>3</th>\n",
       "      <td>True</td>\n",
       "      <td>male</td>\n",
       "    </tr>\n",
       "    <tr>\n",
       "      <th>4</th>\n",
       "      <td>True</td>\n",
       "      <td>male</td>\n",
       "    </tr>\n",
       "  </tbody>\n",
       "</table>\n",
       "</div>"
      ],
      "text/plain": [
       "   is_judge_male Gender_judge\n",
       "0           True         male\n",
       "1           True         male\n",
       "2           True         male\n",
       "3           True         male\n",
       "4           True         male"
      ]
     },
     "execution_count": 14,
     "metadata": {},
     "output_type": "execute_result"
    }
   ],
   "source": [
    "sentencing_cleaned1[['is_judge_male','Gender_judge']].head()"
   ]
  },
  {
   "cell_type": "markdown",
   "id": "471bbb37",
   "metadata": {},
   "source": [
    "### Add a variable called is_covid to research the influence of covid\n",
    "We select 2020 as the seperate line, <2020 is False, >=2020 is True"
   ]
  },
  {
   "cell_type": "code",
   "execution_count": 15,
   "id": "336e33f5",
   "metadata": {},
   "outputs": [
    {
     "data": {
      "text/plain": [
       "0     8/15/1984 12:00:00 AM\n",
       "1     2/10/1983 12:00:00 AM\n",
       "2    10/26/2000 12:00:00 AM\n",
       "3      1/30/2001 2:10:00 AM\n",
       "4      1/14/2001 6:45:00 PM\n",
       "Name: ARREST_DATE, dtype: object"
      ]
     },
     "execution_count": 15,
     "metadata": {},
     "output_type": "execute_result"
    }
   ],
   "source": [
    "sentencing_cleaned1[\"ARREST_DATE\"].head()"
   ]
  },
  {
   "cell_type": "code",
   "execution_count": 16,
   "id": "75709ae7",
   "metadata": {},
   "outputs": [
    {
     "name": "stderr",
     "output_type": "stream",
     "text": [
      "/var/folders/39/p0rpjrxj68l4cbrkhyvw78fm0000gn/T/ipykernel_44852/1805039885.py:2: SettingWithCopyWarning: \n",
      "A value is trying to be set on a copy of a slice from a DataFrame.\n",
      "Try using .loc[row_indexer,col_indexer] = value instead\n",
      "\n",
      "See the caveats in the documentation: https://pandas.pydata.org/pandas-docs/stable/user_guide/indexing.html#returning-a-view-versus-a-copy\n"
     ]
    },
    {
     "data": {
      "text/plain": [
       "0     8/15/1984 12:00:00 AM\n",
       "1     2/10/1983 12:00:00 AM\n",
       "2    10/26/2000 12:00:00 AM\n",
       "3      1/30/2001 2:10:00 AM\n",
       "4      1/14/2001 6:45:00 PM\n",
       "Name: ARREST_DATE, dtype: object"
      ]
     },
     "execution_count": 16,
     "metadata": {},
     "output_type": "execute_result"
    }
   ],
   "source": [
    "# Use regex to clean up the date columns\n",
    "sentencing_cleaned1[\"ARREST_DATE\"]  = [re.sub(r'2[1-9]([0-9]+)', r\"20\\1\", str(date)) \n",
    "                                               if bool(re.search('\\/2[1-9][0-9]+', str(date))) else \n",
    "                                               str(date) \n",
    "                                               for date in \n",
    "                                               sentencing_cleaned1[\"ARREST_DATE\"]]\n",
    "sentencing_cleaned1[\"ARREST_DATE\"].head()"
   ]
  },
  {
   "cell_type": "code",
   "execution_count": 17,
   "id": "0ba0a387",
   "metadata": {},
   "outputs": [
    {
     "name": "stderr",
     "output_type": "stream",
     "text": [
      "/var/folders/39/p0rpjrxj68l4cbrkhyvw78fm0000gn/T/ipykernel_44852/4269650148.py:2: SettingWithCopyWarning: \n",
      "A value is trying to be set on a copy of a slice from a DataFrame.\n",
      "Try using .loc[row_indexer,col_indexer] = value instead\n",
      "\n",
      "See the caveats in the documentation: https://pandas.pydata.org/pandas-docs/stable/user_guide/indexing.html#returning-a-view-versus-a-copy\n"
     ]
    },
    {
     "data": {
      "text/plain": [
       "0   1984-08-15 00:00:00\n",
       "1   1983-02-10 00:00:00\n",
       "2   2000-10-26 00:00:00\n",
       "3   2001-01-30 02:10:00\n",
       "4   2001-01-14 18:45:00\n",
       "Name: ARREST_DATE, dtype: datetime64[ns]"
      ]
     },
     "execution_count": 17,
     "metadata": {},
     "output_type": "execute_result"
    }
   ],
   "source": [
    "# Transfer date to datetime \n",
    "sentencing_cleaned1[\"ARREST_DATE\"] = pd.to_datetime(sentencing_cleaned1.ARREST_DATE)                                                  \n",
    "sentencing_cleaned1[\"ARREST_DATE\"].head()"
   ]
  },
  {
   "cell_type": "code",
   "execution_count": 18,
   "id": "7272956f",
   "metadata": {},
   "outputs": [
    {
     "name": "stderr",
     "output_type": "stream",
     "text": [
      "/var/folders/39/p0rpjrxj68l4cbrkhyvw78fm0000gn/T/ipykernel_44852/2658925552.py:1: SettingWithCopyWarning: \n",
      "A value is trying to be set on a copy of a slice from a DataFrame.\n",
      "Try using .loc[row_indexer,col_indexer] = value instead\n",
      "\n",
      "See the caveats in the documentation: https://pandas.pydata.org/pandas-docs/stable/user_guide/indexing.html#returning-a-view-versus-a-copy\n"
     ]
    },
    {
     "data": {
      "text/plain": [
       "0    1984.0\n",
       "1    1983.0\n",
       "2    2000.0\n",
       "3    2001.0\n",
       "4    2001.0\n",
       "Name: arrest_year, dtype: float64"
      ]
     },
     "execution_count": 18,
     "metadata": {},
     "output_type": "execute_result"
    }
   ],
   "source": [
    "sentencing_cleaned1[\"arrest_year\"] = sentencing_cleaned1[\"ARREST_DATE\"].dt.year\n",
    "sentencing_cleaned1[\"arrest_year\"].head()"
   ]
  },
  {
   "cell_type": "code",
   "execution_count": 19,
   "id": "45780771",
   "metadata": {},
   "outputs": [
    {
     "name": "stderr",
     "output_type": "stream",
     "text": [
      "/var/folders/39/p0rpjrxj68l4cbrkhyvw78fm0000gn/T/ipykernel_44852/844829083.py:1: SettingWithCopyWarning: \n",
      "A value is trying to be set on a copy of a slice from a DataFrame.\n",
      "Try using .loc[row_indexer,col_indexer] = value instead\n",
      "\n",
      "See the caveats in the documentation: https://pandas.pydata.org/pandas-docs/stable/user_guide/indexing.html#returning-a-view-versus-a-copy\n"
     ]
    },
    {
     "data": {
      "text/plain": [
       "0    False\n",
       "1    False\n",
       "2    False\n",
       "3    False\n",
       "4    False\n",
       "Name: is_covid, dtype: bool"
      ]
     },
     "execution_count": 19,
     "metadata": {},
     "output_type": "execute_result"
    }
   ],
   "source": [
    "sentencing_cleaned1[\"is_covid\"] = np.where(sentencing_cleaned1[\"arrest_year\"]>=2020 , True, False)\n",
    "sentencing_cleaned1[\"is_covid\"].head()"
   ]
  },
  {
   "cell_type": "code",
   "execution_count": 245,
   "id": "c71ceb35",
   "metadata": {},
   "outputs": [
    {
     "data": {
      "text/html": [
       "<div>\n",
       "<style scoped>\n",
       "    .dataframe tbody tr th:only-of-type {\n",
       "        vertical-align: middle;\n",
       "    }\n",
       "\n",
       "    .dataframe tbody tr th {\n",
       "        vertical-align: top;\n",
       "    }\n",
       "\n",
       "    .dataframe thead th {\n",
       "        text-align: right;\n",
       "    }\n",
       "</style>\n",
       "<table border=\"1\" class=\"dataframe\">\n",
       "  <thead>\n",
       "    <tr style=\"text-align: right;\">\n",
       "      <th></th>\n",
       "      <th>is_covid</th>\n",
       "      <th>mean_senlength</th>\n",
       "    </tr>\n",
       "  </thead>\n",
       "  <tbody>\n",
       "    <tr>\n",
       "      <th>0</th>\n",
       "      <td>False</td>\n",
       "      <td>2.481601</td>\n",
       "    </tr>\n",
       "    <tr>\n",
       "      <th>1</th>\n",
       "      <td>True</td>\n",
       "      <td>1.607943</td>\n",
       "    </tr>\n",
       "  </tbody>\n",
       "</table>\n",
       "</div>"
      ],
      "text/plain": [
       "   is_covid  mean_senlength\n",
       "0     False        2.481601\n",
       "1      True        1.607943"
      ]
     },
     "execution_count": 245,
     "metadata": {},
     "output_type": "execute_result"
    }
   ],
   "source": [
    "covid = sentencing_conc1.groupby('is_covid').agg(mean_senlength = ('senlength_derived', 'mean')).reset_index()\n",
    "covid"
   ]
  },
  {
   "cell_type": "code",
   "execution_count": 247,
   "id": "83c59c86",
   "metadata": {},
   "outputs": [
    {
     "data": {
      "image/png": "[encoded data removed]",
      "text/plain": [
       "<Figure size 640x480 with 1 Axes>"
      ]
     },
     "metadata": {},
     "output_type": "display_data"
    },
    {
     "data": {
      "text/plain": [
       "<ggplot: (8764797995132)>"
      ]
     },
     "execution_count": 247,
     "metadata": {},
     "output_type": "execute_result"
    }
   ],
   "source": [
    "ggplot(covid, aes(x='is_covid',y='mean_senlength',fill='is_covid')) +\\\n",
    "geom_col() +\\\n",
    "labs(title = 'Relationship between COVID-19 and sentence length', x = 'COVID-19', y = 'Mean sentence length')+\\\n",
    "theme_bw()"
   ]
  },
  {
   "cell_type": "markdown",
   "id": "d8f7bcfb",
   "metadata": {},
   "source": [
    "### Add livability index\n",
    "Livability from website: https://www.areavibes.com/"
   ]
  },
  {
   "cell_type": "code",
   "execution_count": 20,
   "id": "9fc22937",
   "metadata": {},
   "outputs": [
    {
     "data": {
      "text/html": [
       "<div>\n",
       "<style scoped>\n",
       "    .dataframe tbody tr th:only-of-type {\n",
       "        vertical-align: middle;\n",
       "    }\n",
       "\n",
       "    .dataframe tbody tr th {\n",
       "        vertical-align: top;\n",
       "    }\n",
       "\n",
       "    .dataframe thead th {\n",
       "        text-align: right;\n",
       "    }\n",
       "</style>\n",
       "<table border=\"1\" class=\"dataframe\">\n",
       "  <thead>\n",
       "    <tr style=\"text-align: right;\">\n",
       "      <th></th>\n",
       "      <th>LAW_ENFORCEMENT_UNIT</th>\n",
       "      <th>COUNT</th>\n",
       "      <th>DISTRICT NAME</th>\n",
       "      <th>LATITUDE</th>\n",
       "      <th>LONGITUDE</th>\n",
       "      <th>NEIGHBORHOODS</th>\n",
       "      <th>Livability</th>\n",
       "    </tr>\n",
       "  </thead>\n",
       "  <tbody>\n",
       "    <tr>\n",
       "      <th>0</th>\n",
       "      <td>District 11 - Harrison</td>\n",
       "      <td>10328</td>\n",
       "      <td>Harrison</td>\n",
       "      <td>41.873582</td>\n",
       "      <td>-87.705488</td>\n",
       "      <td>East Garfield Park</td>\n",
       "      <td>62</td>\n",
       "    </tr>\n",
       "    <tr>\n",
       "      <th>1</th>\n",
       "      <td>District 10 - Ogden</td>\n",
       "      <td>3393</td>\n",
       "      <td>Ogden</td>\n",
       "      <td>41.856685</td>\n",
       "      <td>-87.708382</td>\n",
       "      <td>North Lawndale</td>\n",
       "      <td>51</td>\n",
       "    </tr>\n",
       "    <tr>\n",
       "      <th>2</th>\n",
       "      <td>District 15 - Austin</td>\n",
       "      <td>3178</td>\n",
       "      <td>Austin</td>\n",
       "      <td>41.880083</td>\n",
       "      <td>-87.768200</td>\n",
       "      <td>Austin</td>\n",
       "      <td>60</td>\n",
       "    </tr>\n",
       "    <tr>\n",
       "      <th>3</th>\n",
       "      <td>District 7 - Englewood</td>\n",
       "      <td>2639</td>\n",
       "      <td>Englewood</td>\n",
       "      <td>41.779632</td>\n",
       "      <td>-87.660887</td>\n",
       "      <td>West Englewood</td>\n",
       "      <td>56</td>\n",
       "    </tr>\n",
       "    <tr>\n",
       "      <th>4</th>\n",
       "      <td>District 6 - Gresham</td>\n",
       "      <td>2329</td>\n",
       "      <td>Gresham</td>\n",
       "      <td>41.752137</td>\n",
       "      <td>-87.644229</td>\n",
       "      <td>Auburn Gresham</td>\n",
       "      <td>58</td>\n",
       "    </tr>\n",
       "  </tbody>\n",
       "</table>\n",
       "</div>"
      ],
      "text/plain": [
       "     LAW_ENFORCEMENT_UNIT  COUNT DISTRICT NAME   LATITUDE  LONGITUDE  \\\n",
       "0  District 11 - Harrison  10328      Harrison  41.873582 -87.705488   \n",
       "1     District 10 - Ogden   3393         Ogden  41.856685 -87.708382   \n",
       "2    District 15 - Austin   3178        Austin  41.880083 -87.768200   \n",
       "3  District 7 - Englewood   2639     Englewood  41.779632 -87.660887   \n",
       "4    District 6 - Gresham   2329       Gresham  41.752137 -87.644229   \n",
       "\n",
       "        NEIGHBORHOODS  Livability  \n",
       "0  East Garfield Park          62  \n",
       "1      North Lawndale          51  \n",
       "2              Austin          60  \n",
       "3      West Englewood          56  \n",
       "4      Auburn Gresham          58  "
      ]
     },
     "execution_count": 20,
     "metadata": {},
     "output_type": "execute_result"
    }
   ],
   "source": [
    "new_df_con['Livability'] = [62, 51, 60, 56, 58, 64, 58, 56, 66, 55, 54, 57, 63, 68, 73, 73, 55, 63, 76, 76, 67, 69]\n",
    "new_df_con.head()"
   ]
  },
  {
   "cell_type": "markdown",
   "id": "58db03ed",
   "metadata": {},
   "source": [
    "Merge them together"
   ]
  },
  {
   "cell_type": "code",
   "execution_count": 21,
   "id": "40c9fca7",
   "metadata": {},
   "outputs": [
    {
     "data": {
      "text/html": [
       "<div>\n",
       "<style scoped>\n",
       "    .dataframe tbody tr th:only-of-type {\n",
       "        vertical-align: middle;\n",
       "    }\n",
       "\n",
       "    .dataframe tbody tr th {\n",
       "        vertical-align: top;\n",
       "    }\n",
       "\n",
       "    .dataframe thead th {\n",
       "        text-align: right;\n",
       "    }\n",
       "</style>\n",
       "<table border=\"1\" class=\"dataframe\">\n",
       "  <thead>\n",
       "    <tr style=\"text-align: right;\">\n",
       "      <th></th>\n",
       "      <th>CASE_ID</th>\n",
       "      <th>CASE_PARTICIPANT_ID</th>\n",
       "      <th>RECEIVED_DATE</th>\n",
       "      <th>OFFENSE_CATEGORY</th>\n",
       "      <th>PRIMARY_CHARGE_FLAG</th>\n",
       "      <th>CHARGE_ID</th>\n",
       "      <th>CHARGE_VERSION_ID</th>\n",
       "      <th>DISPOSITION_CHARGED_OFFENSE_TITLE</th>\n",
       "      <th>CHARGE_COUNT</th>\n",
       "      <th>DISPOSITION_DATE</th>\n",
       "      <th>...</th>\n",
       "      <th>age_derived</th>\n",
       "      <th>sentenceymd_derived</th>\n",
       "      <th>sentenceym_derived</th>\n",
       "      <th>judgeid_derived</th>\n",
       "      <th>FN_judge</th>\n",
       "      <th>Gender_judge</th>\n",
       "      <th>is_judge_male</th>\n",
       "      <th>arrest_year</th>\n",
       "      <th>is_covid</th>\n",
       "      <th>Livability</th>\n",
       "    </tr>\n",
       "  </thead>\n",
       "  <tbody>\n",
       "    <tr>\n",
       "      <th>0</th>\n",
       "      <td>377339554790</td>\n",
       "      <td>694908976813</td>\n",
       "      <td>4/20/2010 12:00:00 AM</td>\n",
       "      <td>Residential Burglary</td>\n",
       "      <td>True</td>\n",
       "      <td>333678120296</td>\n",
       "      <td>620028456139</td>\n",
       "      <td>RESIDENTIAL BURGLARY</td>\n",
       "      <td>1</td>\n",
       "      <td>8/17/2014 12:00:00 AM</td>\n",
       "      <td>...</td>\n",
       "      <td>20.0</td>\n",
       "      <td>2014-08-17</td>\n",
       "      <td>2014-08-01</td>\n",
       "      <td>judge_279</td>\n",
       "      <td>Shelley</td>\n",
       "      <td>female</td>\n",
       "      <td>False</td>\n",
       "      <td>2010.0</td>\n",
       "      <td>False</td>\n",
       "      <td>76</td>\n",
       "    </tr>\n",
       "    <tr>\n",
       "      <th>1</th>\n",
       "      <td>377483178659</td>\n",
       "      <td>695319307216</td>\n",
       "      <td>4/25/2010 12:00:00 AM</td>\n",
       "      <td>Vehicular Hijacking</td>\n",
       "      <td>True</td>\n",
       "      <td>333898177372</td>\n",
       "      <td>657484590678</td>\n",
       "      <td>ARMED ROBBERY</td>\n",
       "      <td>1</td>\n",
       "      <td>1/20/2012 12:00:00 AM</td>\n",
       "      <td>...</td>\n",
       "      <td>18.0</td>\n",
       "      <td>2012-01-20</td>\n",
       "      <td>2012-01-01</td>\n",
       "      <td>judge_334</td>\n",
       "      <td>William</td>\n",
       "      <td>male</td>\n",
       "      <td>True</td>\n",
       "      <td>2010.0</td>\n",
       "      <td>False</td>\n",
       "      <td>76</td>\n",
       "    </tr>\n",
       "    <tr>\n",
       "      <th>2</th>\n",
       "      <td>378092331838</td>\n",
       "      <td>697088125695</td>\n",
       "      <td>5/19/2010 12:00:00 AM</td>\n",
       "      <td>Narcotics</td>\n",
       "      <td>True</td>\n",
       "      <td>335399060145</td>\n",
       "      <td>623393931974</td>\n",
       "      <td>[POSSESSION OF CONTROLLED SUBSTANCE WITH INTEN...</td>\n",
       "      <td>1</td>\n",
       "      <td>7/10/2012 12:00:00 AM</td>\n",
       "      <td>...</td>\n",
       "      <td>38.0</td>\n",
       "      <td>2012-07-10</td>\n",
       "      <td>2012-07-01</td>\n",
       "      <td>judge_178</td>\n",
       "      <td>Lawrence</td>\n",
       "      <td>male</td>\n",
       "      <td>True</td>\n",
       "      <td>2010.0</td>\n",
       "      <td>False</td>\n",
       "      <td>76</td>\n",
       "    </tr>\n",
       "    <tr>\n",
       "      <th>3</th>\n",
       "      <td>378609260283</td>\n",
       "      <td>698663575500</td>\n",
       "      <td>6/14/2010 12:00:00 AM</td>\n",
       "      <td>Narcotics</td>\n",
       "      <td>True</td>\n",
       "      <td>336236855694</td>\n",
       "      <td>624986192074</td>\n",
       "      <td>POSSESSION OF A CONTROLLED SUBSTANCE</td>\n",
       "      <td>1</td>\n",
       "      <td>2/27/2012 12:00:00 AM</td>\n",
       "      <td>...</td>\n",
       "      <td>23.0</td>\n",
       "      <td>2012-02-27</td>\n",
       "      <td>2012-02-01</td>\n",
       "      <td>judge_279</td>\n",
       "      <td>Shelley</td>\n",
       "      <td>female</td>\n",
       "      <td>False</td>\n",
       "      <td>2010.0</td>\n",
       "      <td>False</td>\n",
       "      <td>76</td>\n",
       "    </tr>\n",
       "    <tr>\n",
       "      <th>4</th>\n",
       "      <td>379857965557</td>\n",
       "      <td>702470456396</td>\n",
       "      <td>8/11/2010 12:00:00 AM</td>\n",
       "      <td>Burglary</td>\n",
       "      <td>True</td>\n",
       "      <td>337103911746</td>\n",
       "      <td>626633943991</td>\n",
       "      <td>BURGLARY</td>\n",
       "      <td>1</td>\n",
       "      <td>2/8/2012 12:00:00 AM</td>\n",
       "      <td>...</td>\n",
       "      <td>24.0</td>\n",
       "      <td>2012-02-08</td>\n",
       "      <td>2012-02-01</td>\n",
       "      <td>judge_275</td>\n",
       "      <td>Sharon</td>\n",
       "      <td>female</td>\n",
       "      <td>False</td>\n",
       "      <td>2010.0</td>\n",
       "      <td>False</td>\n",
       "      <td>76</td>\n",
       "    </tr>\n",
       "  </tbody>\n",
       "</table>\n",
       "<p>5 rows × 58 columns</p>\n",
       "</div>"
      ],
      "text/plain": [
       "        CASE_ID  CASE_PARTICIPANT_ID          RECEIVED_DATE  \\\n",
       "0  377339554790         694908976813  4/20/2010 12:00:00 AM   \n",
       "1  377483178659         695319307216  4/25/2010 12:00:00 AM   \n",
       "2  378092331838         697088125695  5/19/2010 12:00:00 AM   \n",
       "3  378609260283         698663575500  6/14/2010 12:00:00 AM   \n",
       "4  379857965557         702470456396  8/11/2010 12:00:00 AM   \n",
       "\n",
       "       OFFENSE_CATEGORY  PRIMARY_CHARGE_FLAG     CHARGE_ID  CHARGE_VERSION_ID  \\\n",
       "0  Residential Burglary                 True  333678120296       620028456139   \n",
       "1   Vehicular Hijacking                 True  333898177372       657484590678   \n",
       "2             Narcotics                 True  335399060145       623393931974   \n",
       "3             Narcotics                 True  336236855694       624986192074   \n",
       "4              Burglary                 True  337103911746       626633943991   \n",
       "\n",
       "                   DISPOSITION_CHARGED_OFFENSE_TITLE  CHARGE_COUNT  \\\n",
       "0                               RESIDENTIAL BURGLARY             1   \n",
       "1                                      ARMED ROBBERY             1   \n",
       "2  [POSSESSION OF CONTROLLED SUBSTANCE WITH INTEN...             1   \n",
       "3               POSSESSION OF A CONTROLLED SUBSTANCE             1   \n",
       "4                                           BURGLARY             1   \n",
       "\n",
       "        DISPOSITION_DATE  ... age_derived sentenceymd_derived  \\\n",
       "0  8/17/2014 12:00:00 AM  ...        20.0          2014-08-17   \n",
       "1  1/20/2012 12:00:00 AM  ...        18.0          2012-01-20   \n",
       "2  7/10/2012 12:00:00 AM  ...        38.0          2012-07-10   \n",
       "3  2/27/2012 12:00:00 AM  ...        23.0          2012-02-27   \n",
       "4   2/8/2012 12:00:00 AM  ...        24.0          2012-02-08   \n",
       "\n",
       "  sentenceym_derived judgeid_derived  FN_judge Gender_judge is_judge_male  \\\n",
       "0         2014-08-01       judge_279   Shelley       female         False   \n",
       "1         2012-01-01       judge_334   William         male          True   \n",
       "2         2012-07-01       judge_178  Lawrence         male          True   \n",
       "3         2012-02-01       judge_279   Shelley       female         False   \n",
       "4         2012-02-01       judge_275    Sharon       female         False   \n",
       "\n",
       "  arrest_year is_covid Livability  \n",
       "0      2010.0    False         76  \n",
       "1      2010.0    False         76  \n",
       "2      2010.0    False         76  \n",
       "3      2010.0    False         76  \n",
       "4      2010.0    False         76  \n",
       "\n",
       "[5 rows x 58 columns]"
      ]
     },
     "execution_count": 21,
     "metadata": {},
     "output_type": "execute_result"
    }
   ],
   "source": [
    "sentencing_cleaned2 = sentencing_cleaned1[(~sentencing_cleaned1.LAW_ENFORCEMENT_UNIT.isnull())&\n",
    "                                         (~sentencing_cleaned1.arrest_year.isna())]\n",
    "sentencing_conc = pd.merge(sentencing_cleaned2,\n",
    "                            new_df_con[['Livability','LAW_ENFORCEMENT_UNIT']],\n",
    "                            how='inner',\n",
    "                            on='LAW_ENFORCEMENT_UNIT')\n",
    "sentencing_conc.head()"
   ]
  },
  {
   "cell_type": "markdown",
   "id": "db40ae47",
   "metadata": {},
   "source": [
    "### Add Arrest police station history record index\n",
    "In detailed, it refers to the proportion of different police station history record number"
   ]
  },
  {
   "cell_type": "code",
   "execution_count": 22,
   "id": "caf68331",
   "metadata": {},
   "outputs": [],
   "source": [
    "new_df_con['his_prop'] = new_df_con.COUNT / new_df_con.COUNT.sum()"
   ]
  },
  {
   "cell_type": "code",
   "execution_count": 23,
   "id": "f504a8dc",
   "metadata": {},
   "outputs": [
    {
     "data": {
      "text/html": [
       "<div>\n",
       "<style scoped>\n",
       "    .dataframe tbody tr th:only-of-type {\n",
       "        vertical-align: middle;\n",
       "    }\n",
       "\n",
       "    .dataframe tbody tr th {\n",
       "        vertical-align: top;\n",
       "    }\n",
       "\n",
       "    .dataframe thead th {\n",
       "        text-align: right;\n",
       "    }\n",
       "</style>\n",
       "<table border=\"1\" class=\"dataframe\">\n",
       "  <thead>\n",
       "    <tr style=\"text-align: right;\">\n",
       "      <th></th>\n",
       "      <th>LAW_ENFORCEMENT_UNIT</th>\n",
       "      <th>COUNT</th>\n",
       "      <th>DISTRICT NAME</th>\n",
       "      <th>LATITUDE</th>\n",
       "      <th>LONGITUDE</th>\n",
       "      <th>NEIGHBORHOODS</th>\n",
       "      <th>Livability</th>\n",
       "      <th>his_prop</th>\n",
       "    </tr>\n",
       "  </thead>\n",
       "  <tbody>\n",
       "    <tr>\n",
       "      <th>0</th>\n",
       "      <td>District 11 - Harrison</td>\n",
       "      <td>10328</td>\n",
       "      <td>Harrison</td>\n",
       "      <td>41.873582</td>\n",
       "      <td>-87.705488</td>\n",
       "      <td>East Garfield Park</td>\n",
       "      <td>62</td>\n",
       "      <td>0.264049</td>\n",
       "    </tr>\n",
       "    <tr>\n",
       "      <th>1</th>\n",
       "      <td>District 10 - Ogden</td>\n",
       "      <td>3393</td>\n",
       "      <td>Ogden</td>\n",
       "      <td>41.856685</td>\n",
       "      <td>-87.708382</td>\n",
       "      <td>North Lawndale</td>\n",
       "      <td>51</td>\n",
       "      <td>0.086746</td>\n",
       "    </tr>\n",
       "    <tr>\n",
       "      <th>2</th>\n",
       "      <td>District 15 - Austin</td>\n",
       "      <td>3178</td>\n",
       "      <td>Austin</td>\n",
       "      <td>41.880083</td>\n",
       "      <td>-87.768200</td>\n",
       "      <td>Austin</td>\n",
       "      <td>60</td>\n",
       "      <td>0.081250</td>\n",
       "    </tr>\n",
       "    <tr>\n",
       "      <th>3</th>\n",
       "      <td>District 7 - Englewood</td>\n",
       "      <td>2639</td>\n",
       "      <td>Englewood</td>\n",
       "      <td>41.779632</td>\n",
       "      <td>-87.660887</td>\n",
       "      <td>West Englewood</td>\n",
       "      <td>56</td>\n",
       "      <td>0.067469</td>\n",
       "    </tr>\n",
       "    <tr>\n",
       "      <th>4</th>\n",
       "      <td>District 6 - Gresham</td>\n",
       "      <td>2329</td>\n",
       "      <td>Gresham</td>\n",
       "      <td>41.752137</td>\n",
       "      <td>-87.644229</td>\n",
       "      <td>Auburn Gresham</td>\n",
       "      <td>58</td>\n",
       "      <td>0.059544</td>\n",
       "    </tr>\n",
       "  </tbody>\n",
       "</table>\n",
       "</div>"
      ],
      "text/plain": [
       "     LAW_ENFORCEMENT_UNIT  COUNT DISTRICT NAME   LATITUDE  LONGITUDE  \\\n",
       "0  District 11 - Harrison  10328      Harrison  41.873582 -87.705488   \n",
       "1     District 10 - Ogden   3393         Ogden  41.856685 -87.708382   \n",
       "2    District 15 - Austin   3178        Austin  41.880083 -87.768200   \n",
       "3  District 7 - Englewood   2639     Englewood  41.779632 -87.660887   \n",
       "4    District 6 - Gresham   2329       Gresham  41.752137 -87.644229   \n",
       "\n",
       "        NEIGHBORHOODS  Livability  his_prop  \n",
       "0  East Garfield Park          62  0.264049  \n",
       "1      North Lawndale          51  0.086746  \n",
       "2              Austin          60  0.081250  \n",
       "3      West Englewood          56  0.067469  \n",
       "4      Auburn Gresham          58  0.059544  "
      ]
     },
     "execution_count": 23,
     "metadata": {},
     "output_type": "execute_result"
    }
   ],
   "source": [
    "new_df_con.head()"
   ]
  },
  {
   "cell_type": "code",
   "execution_count": 24,
   "id": "87c8fd78",
   "metadata": {},
   "outputs": [
    {
     "data": {
      "text/html": [
       "<div>\n",
       "<style scoped>\n",
       "    .dataframe tbody tr th:only-of-type {\n",
       "        vertical-align: middle;\n",
       "    }\n",
       "\n",
       "    .dataframe tbody tr th {\n",
       "        vertical-align: top;\n",
       "    }\n",
       "\n",
       "    .dataframe thead th {\n",
       "        text-align: right;\n",
       "    }\n",
       "</style>\n",
       "<table border=\"1\" class=\"dataframe\">\n",
       "  <thead>\n",
       "    <tr style=\"text-align: right;\">\n",
       "      <th></th>\n",
       "      <th>CASE_ID</th>\n",
       "      <th>CASE_PARTICIPANT_ID</th>\n",
       "      <th>RECEIVED_DATE</th>\n",
       "      <th>OFFENSE_CATEGORY</th>\n",
       "      <th>PRIMARY_CHARGE_FLAG</th>\n",
       "      <th>CHARGE_ID</th>\n",
       "      <th>CHARGE_VERSION_ID</th>\n",
       "      <th>DISPOSITION_CHARGED_OFFENSE_TITLE</th>\n",
       "      <th>CHARGE_COUNT</th>\n",
       "      <th>DISPOSITION_DATE</th>\n",
       "      <th>...</th>\n",
       "      <th>sentenceymd_derived</th>\n",
       "      <th>sentenceym_derived</th>\n",
       "      <th>judgeid_derived</th>\n",
       "      <th>FN_judge</th>\n",
       "      <th>Gender_judge</th>\n",
       "      <th>is_judge_male</th>\n",
       "      <th>arrest_year</th>\n",
       "      <th>is_covid</th>\n",
       "      <th>Livability</th>\n",
       "      <th>his_prop</th>\n",
       "    </tr>\n",
       "  </thead>\n",
       "  <tbody>\n",
       "    <tr>\n",
       "      <th>0</th>\n",
       "      <td>377339554790</td>\n",
       "      <td>694908976813</td>\n",
       "      <td>4/20/2010 12:00:00 AM</td>\n",
       "      <td>Residential Burglary</td>\n",
       "      <td>True</td>\n",
       "      <td>333678120296</td>\n",
       "      <td>620028456139</td>\n",
       "      <td>RESIDENTIAL BURGLARY</td>\n",
       "      <td>1</td>\n",
       "      <td>8/17/2014 12:00:00 AM</td>\n",
       "      <td>...</td>\n",
       "      <td>2014-08-17</td>\n",
       "      <td>2014-08-01</td>\n",
       "      <td>judge_279</td>\n",
       "      <td>Shelley</td>\n",
       "      <td>female</td>\n",
       "      <td>False</td>\n",
       "      <td>2010.0</td>\n",
       "      <td>False</td>\n",
       "      <td>76</td>\n",
       "      <td>0.015877</td>\n",
       "    </tr>\n",
       "    <tr>\n",
       "      <th>1</th>\n",
       "      <td>377483178659</td>\n",
       "      <td>695319307216</td>\n",
       "      <td>4/25/2010 12:00:00 AM</td>\n",
       "      <td>Vehicular Hijacking</td>\n",
       "      <td>True</td>\n",
       "      <td>333898177372</td>\n",
       "      <td>657484590678</td>\n",
       "      <td>ARMED ROBBERY</td>\n",
       "      <td>1</td>\n",
       "      <td>1/20/2012 12:00:00 AM</td>\n",
       "      <td>...</td>\n",
       "      <td>2012-01-20</td>\n",
       "      <td>2012-01-01</td>\n",
       "      <td>judge_334</td>\n",
       "      <td>William</td>\n",
       "      <td>male</td>\n",
       "      <td>True</td>\n",
       "      <td>2010.0</td>\n",
       "      <td>False</td>\n",
       "      <td>76</td>\n",
       "      <td>0.015877</td>\n",
       "    </tr>\n",
       "    <tr>\n",
       "      <th>2</th>\n",
       "      <td>378092331838</td>\n",
       "      <td>697088125695</td>\n",
       "      <td>5/19/2010 12:00:00 AM</td>\n",
       "      <td>Narcotics</td>\n",
       "      <td>True</td>\n",
       "      <td>335399060145</td>\n",
       "      <td>623393931974</td>\n",
       "      <td>[POSSESSION OF CONTROLLED SUBSTANCE WITH INTEN...</td>\n",
       "      <td>1</td>\n",
       "      <td>7/10/2012 12:00:00 AM</td>\n",
       "      <td>...</td>\n",
       "      <td>2012-07-10</td>\n",
       "      <td>2012-07-01</td>\n",
       "      <td>judge_178</td>\n",
       "      <td>Lawrence</td>\n",
       "      <td>male</td>\n",
       "      <td>True</td>\n",
       "      <td>2010.0</td>\n",
       "      <td>False</td>\n",
       "      <td>76</td>\n",
       "      <td>0.015877</td>\n",
       "    </tr>\n",
       "    <tr>\n",
       "      <th>3</th>\n",
       "      <td>378609260283</td>\n",
       "      <td>698663575500</td>\n",
       "      <td>6/14/2010 12:00:00 AM</td>\n",
       "      <td>Narcotics</td>\n",
       "      <td>True</td>\n",
       "      <td>336236855694</td>\n",
       "      <td>624986192074</td>\n",
       "      <td>POSSESSION OF A CONTROLLED SUBSTANCE</td>\n",
       "      <td>1</td>\n",
       "      <td>2/27/2012 12:00:00 AM</td>\n",
       "      <td>...</td>\n",
       "      <td>2012-02-27</td>\n",
       "      <td>2012-02-01</td>\n",
       "      <td>judge_279</td>\n",
       "      <td>Shelley</td>\n",
       "      <td>female</td>\n",
       "      <td>False</td>\n",
       "      <td>2010.0</td>\n",
       "      <td>False</td>\n",
       "      <td>76</td>\n",
       "      <td>0.015877</td>\n",
       "    </tr>\n",
       "    <tr>\n",
       "      <th>4</th>\n",
       "      <td>379857965557</td>\n",
       "      <td>702470456396</td>\n",
       "      <td>8/11/2010 12:00:00 AM</td>\n",
       "      <td>Burglary</td>\n",
       "      <td>True</td>\n",
       "      <td>337103911746</td>\n",
       "      <td>626633943991</td>\n",
       "      <td>BURGLARY</td>\n",
       "      <td>1</td>\n",
       "      <td>2/8/2012 12:00:00 AM</td>\n",
       "      <td>...</td>\n",
       "      <td>2012-02-08</td>\n",
       "      <td>2012-02-01</td>\n",
       "      <td>judge_275</td>\n",
       "      <td>Sharon</td>\n",
       "      <td>female</td>\n",
       "      <td>False</td>\n",
       "      <td>2010.0</td>\n",
       "      <td>False</td>\n",
       "      <td>76</td>\n",
       "      <td>0.015877</td>\n",
       "    </tr>\n",
       "  </tbody>\n",
       "</table>\n",
       "<p>5 rows × 59 columns</p>\n",
       "</div>"
      ],
      "text/plain": [
       "        CASE_ID  CASE_PARTICIPANT_ID          RECEIVED_DATE  \\\n",
       "0  377339554790         694908976813  4/20/2010 12:00:00 AM   \n",
       "1  377483178659         695319307216  4/25/2010 12:00:00 AM   \n",
       "2  378092331838         697088125695  5/19/2010 12:00:00 AM   \n",
       "3  378609260283         698663575500  6/14/2010 12:00:00 AM   \n",
       "4  379857965557         702470456396  8/11/2010 12:00:00 AM   \n",
       "\n",
       "       OFFENSE_CATEGORY  PRIMARY_CHARGE_FLAG     CHARGE_ID  CHARGE_VERSION_ID  \\\n",
       "0  Residential Burglary                 True  333678120296       620028456139   \n",
       "1   Vehicular Hijacking                 True  333898177372       657484590678   \n",
       "2             Narcotics                 True  335399060145       623393931974   \n",
       "3             Narcotics                 True  336236855694       624986192074   \n",
       "4              Burglary                 True  337103911746       626633943991   \n",
       "\n",
       "                   DISPOSITION_CHARGED_OFFENSE_TITLE  CHARGE_COUNT  \\\n",
       "0                               RESIDENTIAL BURGLARY             1   \n",
       "1                                      ARMED ROBBERY             1   \n",
       "2  [POSSESSION OF CONTROLLED SUBSTANCE WITH INTEN...             1   \n",
       "3               POSSESSION OF A CONTROLLED SUBSTANCE             1   \n",
       "4                                           BURGLARY             1   \n",
       "\n",
       "        DISPOSITION_DATE  ... sentenceymd_derived sentenceym_derived  \\\n",
       "0  8/17/2014 12:00:00 AM  ...          2014-08-17         2014-08-01   \n",
       "1  1/20/2012 12:00:00 AM  ...          2012-01-20         2012-01-01   \n",
       "2  7/10/2012 12:00:00 AM  ...          2012-07-10         2012-07-01   \n",
       "3  2/27/2012 12:00:00 AM  ...          2012-02-27         2012-02-01   \n",
       "4   2/8/2012 12:00:00 AM  ...          2012-02-08         2012-02-01   \n",
       "\n",
       "  judgeid_derived  FN_judge Gender_judge is_judge_male arrest_year is_covid  \\\n",
       "0       judge_279   Shelley       female         False      2010.0    False   \n",
       "1       judge_334   William         male          True      2010.0    False   \n",
       "2       judge_178  Lawrence         male          True      2010.0    False   \n",
       "3       judge_279   Shelley       female         False      2010.0    False   \n",
       "4       judge_275    Sharon       female         False      2010.0    False   \n",
       "\n",
       "  Livability  his_prop  \n",
       "0         76  0.015877  \n",
       "1         76  0.015877  \n",
       "2         76  0.015877  \n",
       "3         76  0.015877  \n",
       "4         76  0.015877  \n",
       "\n",
       "[5 rows x 59 columns]"
      ]
     },
     "execution_count": 24,
     "metadata": {},
     "output_type": "execute_result"
    }
   ],
   "source": [
    "sentencing_conc = pd.merge(sentencing_conc,\n",
    "                            new_df_con[['his_prop','LAW_ENFORCEMENT_UNIT']],\n",
    "                            how='inner',\n",
    "                            on='LAW_ENFORCEMENT_UNIT')\n",
    "sentencing_conc.head()"
   ]
  },
  {
   "cell_type": "markdown",
   "id": "de626dde",
   "metadata": {},
   "source": [
    "### Add senlength (unit: year) variable"
   ]
  },
  {
   "cell_type": "code",
   "execution_count": 25,
   "id": "52dc7a4d",
   "metadata": {},
   "outputs": [],
   "source": [
    "sentencing_conc = sentencing_conc[(~sentencing_conc.COMMITMENT_TERM.isna())\n",
    "                                     & (sentencing_conc.COMMITMENT_UNIT.isin(['Days','Hours','Year(s)','Months','Weeks','Natural Life']))]"
   ]
  },
  {
   "cell_type": "code",
   "execution_count": 26,
   "id": "f6929ed4",
   "metadata": {},
   "outputs": [],
   "source": [
    "# Change the units to year\n",
    "def transition(df: pd.DataFrame):\n",
    "    df['senlength_derived'] = [float(u)\n",
    "      if v == 'Year(s)'\n",
    "      else float(float(u) / (24*365)) \n",
    "           if v == 'Hours'\n",
    "           else float(float(u)/ 365) \n",
    "                if v == 'Days'\n",
    "                else float(float(u)/ 12) \n",
    "                    if v == 'Months'\n",
    "                    else float(float(u) *7 / 365) \n",
    "                        if v == 'Weeks'\n",
    "                        else float(100-20)\n",
    "                               if (v == 'Natural Life') & (np.isnan(i))\n",
    "                               else float(100-float(i)) \n",
    "      for u,v,i in zip(df.COMMITMENT_TERM,df.COMMITMENT_UNIT,df.age_derived)]\n",
    "    \n",
    "    return df"
   ]
  },
  {
   "cell_type": "code",
   "execution_count": 27,
   "id": "ae033944",
   "metadata": {},
   "outputs": [
    {
     "data": {
      "text/html": [
       "<div>\n",
       "<style scoped>\n",
       "    .dataframe tbody tr th:only-of-type {\n",
       "        vertical-align: middle;\n",
       "    }\n",
       "\n",
       "    .dataframe tbody tr th {\n",
       "        vertical-align: top;\n",
       "    }\n",
       "\n",
       "    .dataframe thead th {\n",
       "        text-align: right;\n",
       "    }\n",
       "</style>\n",
       "<table border=\"1\" class=\"dataframe\">\n",
       "  <thead>\n",
       "    <tr style=\"text-align: right;\">\n",
       "      <th></th>\n",
       "      <th>CASE_ID</th>\n",
       "      <th>CASE_PARTICIPANT_ID</th>\n",
       "      <th>RECEIVED_DATE</th>\n",
       "      <th>OFFENSE_CATEGORY</th>\n",
       "      <th>PRIMARY_CHARGE_FLAG</th>\n",
       "      <th>CHARGE_ID</th>\n",
       "      <th>CHARGE_VERSION_ID</th>\n",
       "      <th>DISPOSITION_CHARGED_OFFENSE_TITLE</th>\n",
       "      <th>CHARGE_COUNT</th>\n",
       "      <th>DISPOSITION_DATE</th>\n",
       "      <th>...</th>\n",
       "      <th>sentenceym_derived</th>\n",
       "      <th>judgeid_derived</th>\n",
       "      <th>FN_judge</th>\n",
       "      <th>Gender_judge</th>\n",
       "      <th>is_judge_male</th>\n",
       "      <th>arrest_year</th>\n",
       "      <th>is_covid</th>\n",
       "      <th>Livability</th>\n",
       "      <th>his_prop</th>\n",
       "      <th>senlength_derived</th>\n",
       "    </tr>\n",
       "  </thead>\n",
       "  <tbody>\n",
       "    <tr>\n",
       "      <th>0</th>\n",
       "      <td>377339554790</td>\n",
       "      <td>694908976813</td>\n",
       "      <td>4/20/2010 12:00:00 AM</td>\n",
       "      <td>Residential Burglary</td>\n",
       "      <td>True</td>\n",
       "      <td>333678120296</td>\n",
       "      <td>620028456139</td>\n",
       "      <td>RESIDENTIAL BURGLARY</td>\n",
       "      <td>1</td>\n",
       "      <td>8/17/2014 12:00:00 AM</td>\n",
       "      <td>...</td>\n",
       "      <td>2014-08-01</td>\n",
       "      <td>judge_279</td>\n",
       "      <td>Shelley</td>\n",
       "      <td>female</td>\n",
       "      <td>False</td>\n",
       "      <td>2010.0</td>\n",
       "      <td>False</td>\n",
       "      <td>76</td>\n",
       "      <td>0.015877</td>\n",
       "      <td>6.0</td>\n",
       "    </tr>\n",
       "    <tr>\n",
       "      <th>1</th>\n",
       "      <td>377483178659</td>\n",
       "      <td>695319307216</td>\n",
       "      <td>4/25/2010 12:00:00 AM</td>\n",
       "      <td>Vehicular Hijacking</td>\n",
       "      <td>True</td>\n",
       "      <td>333898177372</td>\n",
       "      <td>657484590678</td>\n",
       "      <td>ARMED ROBBERY</td>\n",
       "      <td>1</td>\n",
       "      <td>1/20/2012 12:00:00 AM</td>\n",
       "      <td>...</td>\n",
       "      <td>2012-01-01</td>\n",
       "      <td>judge_334</td>\n",
       "      <td>William</td>\n",
       "      <td>male</td>\n",
       "      <td>True</td>\n",
       "      <td>2010.0</td>\n",
       "      <td>False</td>\n",
       "      <td>76</td>\n",
       "      <td>0.015877</td>\n",
       "      <td>21.0</td>\n",
       "    </tr>\n",
       "    <tr>\n",
       "      <th>2</th>\n",
       "      <td>378092331838</td>\n",
       "      <td>697088125695</td>\n",
       "      <td>5/19/2010 12:00:00 AM</td>\n",
       "      <td>Narcotics</td>\n",
       "      <td>True</td>\n",
       "      <td>335399060145</td>\n",
       "      <td>623393931974</td>\n",
       "      <td>[POSSESSION OF CONTROLLED SUBSTANCE WITH INTEN...</td>\n",
       "      <td>1</td>\n",
       "      <td>7/10/2012 12:00:00 AM</td>\n",
       "      <td>...</td>\n",
       "      <td>2012-07-01</td>\n",
       "      <td>judge_178</td>\n",
       "      <td>Lawrence</td>\n",
       "      <td>male</td>\n",
       "      <td>True</td>\n",
       "      <td>2010.0</td>\n",
       "      <td>False</td>\n",
       "      <td>76</td>\n",
       "      <td>0.015877</td>\n",
       "      <td>2.0</td>\n",
       "    </tr>\n",
       "    <tr>\n",
       "      <th>3</th>\n",
       "      <td>378609260283</td>\n",
       "      <td>698663575500</td>\n",
       "      <td>6/14/2010 12:00:00 AM</td>\n",
       "      <td>Narcotics</td>\n",
       "      <td>True</td>\n",
       "      <td>336236855694</td>\n",
       "      <td>624986192074</td>\n",
       "      <td>POSSESSION OF A CONTROLLED SUBSTANCE</td>\n",
       "      <td>1</td>\n",
       "      <td>2/27/2012 12:00:00 AM</td>\n",
       "      <td>...</td>\n",
       "      <td>2012-02-01</td>\n",
       "      <td>judge_279</td>\n",
       "      <td>Shelley</td>\n",
       "      <td>female</td>\n",
       "      <td>False</td>\n",
       "      <td>2010.0</td>\n",
       "      <td>False</td>\n",
       "      <td>76</td>\n",
       "      <td>0.015877</td>\n",
       "      <td>1.0</td>\n",
       "    </tr>\n",
       "    <tr>\n",
       "      <th>4</th>\n",
       "      <td>379857965557</td>\n",
       "      <td>702470456396</td>\n",
       "      <td>8/11/2010 12:00:00 AM</td>\n",
       "      <td>Burglary</td>\n",
       "      <td>True</td>\n",
       "      <td>337103911746</td>\n",
       "      <td>626633943991</td>\n",
       "      <td>BURGLARY</td>\n",
       "      <td>1</td>\n",
       "      <td>2/8/2012 12:00:00 AM</td>\n",
       "      <td>...</td>\n",
       "      <td>2012-02-01</td>\n",
       "      <td>judge_275</td>\n",
       "      <td>Sharon</td>\n",
       "      <td>female</td>\n",
       "      <td>False</td>\n",
       "      <td>2010.0</td>\n",
       "      <td>False</td>\n",
       "      <td>76</td>\n",
       "      <td>0.015877</td>\n",
       "      <td>2.0</td>\n",
       "    </tr>\n",
       "  </tbody>\n",
       "</table>\n",
       "<p>5 rows × 60 columns</p>\n",
       "</div>"
      ],
      "text/plain": [
       "        CASE_ID  CASE_PARTICIPANT_ID          RECEIVED_DATE  \\\n",
       "0  377339554790         694908976813  4/20/2010 12:00:00 AM   \n",
       "1  377483178659         695319307216  4/25/2010 12:00:00 AM   \n",
       "2  378092331838         697088125695  5/19/2010 12:00:00 AM   \n",
       "3  378609260283         698663575500  6/14/2010 12:00:00 AM   \n",
       "4  379857965557         702470456396  8/11/2010 12:00:00 AM   \n",
       "\n",
       "       OFFENSE_CATEGORY  PRIMARY_CHARGE_FLAG     CHARGE_ID  CHARGE_VERSION_ID  \\\n",
       "0  Residential Burglary                 True  333678120296       620028456139   \n",
       "1   Vehicular Hijacking                 True  333898177372       657484590678   \n",
       "2             Narcotics                 True  335399060145       623393931974   \n",
       "3             Narcotics                 True  336236855694       624986192074   \n",
       "4              Burglary                 True  337103911746       626633943991   \n",
       "\n",
       "                   DISPOSITION_CHARGED_OFFENSE_TITLE  CHARGE_COUNT  \\\n",
       "0                               RESIDENTIAL BURGLARY             1   \n",
       "1                                      ARMED ROBBERY             1   \n",
       "2  [POSSESSION OF CONTROLLED SUBSTANCE WITH INTEN...             1   \n",
       "3               POSSESSION OF A CONTROLLED SUBSTANCE             1   \n",
       "4                                           BURGLARY             1   \n",
       "\n",
       "        DISPOSITION_DATE  ... sentenceym_derived judgeid_derived  FN_judge  \\\n",
       "0  8/17/2014 12:00:00 AM  ...         2014-08-01       judge_279   Shelley   \n",
       "1  1/20/2012 12:00:00 AM  ...         2012-01-01       judge_334   William   \n",
       "2  7/10/2012 12:00:00 AM  ...         2012-07-01       judge_178  Lawrence   \n",
       "3  2/27/2012 12:00:00 AM  ...         2012-02-01       judge_279   Shelley   \n",
       "4   2/8/2012 12:00:00 AM  ...         2012-02-01       judge_275    Sharon   \n",
       "\n",
       "  Gender_judge is_judge_male arrest_year is_covid Livability  his_prop  \\\n",
       "0       female         False      2010.0    False         76  0.015877   \n",
       "1         male          True      2010.0    False         76  0.015877   \n",
       "2         male          True      2010.0    False         76  0.015877   \n",
       "3       female         False      2010.0    False         76  0.015877   \n",
       "4       female         False      2010.0    False         76  0.015877   \n",
       "\n",
       "  senlength_derived  \n",
       "0               6.0  \n",
       "1              21.0  \n",
       "2               2.0  \n",
       "3               1.0  \n",
       "4               2.0  \n",
       "\n",
       "[5 rows x 60 columns]"
      ]
     },
     "execution_count": 27,
     "metadata": {},
     "output_type": "execute_result"
    }
   ],
   "source": [
    "sentencing_conc1 = transition(df = sentencing_conc)\n",
    "sentencing_conc1.head()"
   ]
  },
  {
   "cell_type": "markdown",
   "id": "0006ad6b",
   "metadata": {},
   "source": [
    "### Add Incar variable\n",
    "Judge by COMMITMENT_TYPE == 'Illinois Department of Corrections"
   ]
  },
  {
   "cell_type": "code",
   "execution_count": 28,
   "id": "be4643c8",
   "metadata": {},
   "outputs": [
    {
     "data": {
      "text/plain": [
       "Illinois Department of Corrections       20010\n",
       "Probation                                11142\n",
       "710/410 Probation                         2280\n",
       "Cook County Department of Corrections     1283\n",
       "Intensive Probation Services               656\n",
       "Name: COMMITMENT_TYPE, dtype: int64"
      ]
     },
     "execution_count": 28,
     "metadata": {},
     "output_type": "execute_result"
    }
   ],
   "source": [
    "sentencing_conc.COMMITMENT_TYPE.value_counts().head(5)"
   ]
  },
  {
   "cell_type": "code",
   "execution_count": 29,
   "id": "d82b1391",
   "metadata": {},
   "outputs": [
    {
     "data": {
      "text/html": [
       "<div>\n",
       "<style scoped>\n",
       "    .dataframe tbody tr th:only-of-type {\n",
       "        vertical-align: middle;\n",
       "    }\n",
       "\n",
       "    .dataframe tbody tr th {\n",
       "        vertical-align: top;\n",
       "    }\n",
       "\n",
       "    .dataframe thead th {\n",
       "        text-align: right;\n",
       "    }\n",
       "</style>\n",
       "<table border=\"1\" class=\"dataframe\">\n",
       "  <thead>\n",
       "    <tr style=\"text-align: right;\">\n",
       "      <th></th>\n",
       "      <th>CASE_ID</th>\n",
       "      <th>CASE_PARTICIPANT_ID</th>\n",
       "      <th>RECEIVED_DATE</th>\n",
       "      <th>OFFENSE_CATEGORY</th>\n",
       "      <th>PRIMARY_CHARGE_FLAG</th>\n",
       "      <th>CHARGE_ID</th>\n",
       "      <th>CHARGE_VERSION_ID</th>\n",
       "      <th>DISPOSITION_CHARGED_OFFENSE_TITLE</th>\n",
       "      <th>CHARGE_COUNT</th>\n",
       "      <th>DISPOSITION_DATE</th>\n",
       "      <th>...</th>\n",
       "      <th>judgeid_derived</th>\n",
       "      <th>FN_judge</th>\n",
       "      <th>Gender_judge</th>\n",
       "      <th>is_judge_male</th>\n",
       "      <th>arrest_year</th>\n",
       "      <th>is_covid</th>\n",
       "      <th>Livability</th>\n",
       "      <th>his_prop</th>\n",
       "      <th>senlength_derived</th>\n",
       "      <th>Incar</th>\n",
       "    </tr>\n",
       "  </thead>\n",
       "  <tbody>\n",
       "    <tr>\n",
       "      <th>0</th>\n",
       "      <td>377339554790</td>\n",
       "      <td>694908976813</td>\n",
       "      <td>4/20/2010 12:00:00 AM</td>\n",
       "      <td>Residential Burglary</td>\n",
       "      <td>True</td>\n",
       "      <td>333678120296</td>\n",
       "      <td>620028456139</td>\n",
       "      <td>RESIDENTIAL BURGLARY</td>\n",
       "      <td>1</td>\n",
       "      <td>8/17/2014 12:00:00 AM</td>\n",
       "      <td>...</td>\n",
       "      <td>judge_279</td>\n",
       "      <td>Shelley</td>\n",
       "      <td>female</td>\n",
       "      <td>False</td>\n",
       "      <td>2010.0</td>\n",
       "      <td>False</td>\n",
       "      <td>76</td>\n",
       "      <td>0.015877</td>\n",
       "      <td>6.0</td>\n",
       "      <td>True</td>\n",
       "    </tr>\n",
       "    <tr>\n",
       "      <th>1</th>\n",
       "      <td>377483178659</td>\n",
       "      <td>695319307216</td>\n",
       "      <td>4/25/2010 12:00:00 AM</td>\n",
       "      <td>Vehicular Hijacking</td>\n",
       "      <td>True</td>\n",
       "      <td>333898177372</td>\n",
       "      <td>657484590678</td>\n",
       "      <td>ARMED ROBBERY</td>\n",
       "      <td>1</td>\n",
       "      <td>1/20/2012 12:00:00 AM</td>\n",
       "      <td>...</td>\n",
       "      <td>judge_334</td>\n",
       "      <td>William</td>\n",
       "      <td>male</td>\n",
       "      <td>True</td>\n",
       "      <td>2010.0</td>\n",
       "      <td>False</td>\n",
       "      <td>76</td>\n",
       "      <td>0.015877</td>\n",
       "      <td>21.0</td>\n",
       "      <td>True</td>\n",
       "    </tr>\n",
       "    <tr>\n",
       "      <th>2</th>\n",
       "      <td>378092331838</td>\n",
       "      <td>697088125695</td>\n",
       "      <td>5/19/2010 12:00:00 AM</td>\n",
       "      <td>Narcotics</td>\n",
       "      <td>True</td>\n",
       "      <td>335399060145</td>\n",
       "      <td>623393931974</td>\n",
       "      <td>[POSSESSION OF CONTROLLED SUBSTANCE WITH INTEN...</td>\n",
       "      <td>1</td>\n",
       "      <td>7/10/2012 12:00:00 AM</td>\n",
       "      <td>...</td>\n",
       "      <td>judge_178</td>\n",
       "      <td>Lawrence</td>\n",
       "      <td>male</td>\n",
       "      <td>True</td>\n",
       "      <td>2010.0</td>\n",
       "      <td>False</td>\n",
       "      <td>76</td>\n",
       "      <td>0.015877</td>\n",
       "      <td>2.0</td>\n",
       "      <td>False</td>\n",
       "    </tr>\n",
       "    <tr>\n",
       "      <th>3</th>\n",
       "      <td>378609260283</td>\n",
       "      <td>698663575500</td>\n",
       "      <td>6/14/2010 12:00:00 AM</td>\n",
       "      <td>Narcotics</td>\n",
       "      <td>True</td>\n",
       "      <td>336236855694</td>\n",
       "      <td>624986192074</td>\n",
       "      <td>POSSESSION OF A CONTROLLED SUBSTANCE</td>\n",
       "      <td>1</td>\n",
       "      <td>2/27/2012 12:00:00 AM</td>\n",
       "      <td>...</td>\n",
       "      <td>judge_279</td>\n",
       "      <td>Shelley</td>\n",
       "      <td>female</td>\n",
       "      <td>False</td>\n",
       "      <td>2010.0</td>\n",
       "      <td>False</td>\n",
       "      <td>76</td>\n",
       "      <td>0.015877</td>\n",
       "      <td>1.0</td>\n",
       "      <td>True</td>\n",
       "    </tr>\n",
       "    <tr>\n",
       "      <th>4</th>\n",
       "      <td>379857965557</td>\n",
       "      <td>702470456396</td>\n",
       "      <td>8/11/2010 12:00:00 AM</td>\n",
       "      <td>Burglary</td>\n",
       "      <td>True</td>\n",
       "      <td>337103911746</td>\n",
       "      <td>626633943991</td>\n",
       "      <td>BURGLARY</td>\n",
       "      <td>1</td>\n",
       "      <td>2/8/2012 12:00:00 AM</td>\n",
       "      <td>...</td>\n",
       "      <td>judge_275</td>\n",
       "      <td>Sharon</td>\n",
       "      <td>female</td>\n",
       "      <td>False</td>\n",
       "      <td>2010.0</td>\n",
       "      <td>False</td>\n",
       "      <td>76</td>\n",
       "      <td>0.015877</td>\n",
       "      <td>2.0</td>\n",
       "      <td>False</td>\n",
       "    </tr>\n",
       "  </tbody>\n",
       "</table>\n",
       "<p>5 rows × 61 columns</p>\n",
       "</div>"
      ],
      "text/plain": [
       "        CASE_ID  CASE_PARTICIPANT_ID          RECEIVED_DATE  \\\n",
       "0  377339554790         694908976813  4/20/2010 12:00:00 AM   \n",
       "1  377483178659         695319307216  4/25/2010 12:00:00 AM   \n",
       "2  378092331838         697088125695  5/19/2010 12:00:00 AM   \n",
       "3  378609260283         698663575500  6/14/2010 12:00:00 AM   \n",
       "4  379857965557         702470456396  8/11/2010 12:00:00 AM   \n",
       "\n",
       "       OFFENSE_CATEGORY  PRIMARY_CHARGE_FLAG     CHARGE_ID  CHARGE_VERSION_ID  \\\n",
       "0  Residential Burglary                 True  333678120296       620028456139   \n",
       "1   Vehicular Hijacking                 True  333898177372       657484590678   \n",
       "2             Narcotics                 True  335399060145       623393931974   \n",
       "3             Narcotics                 True  336236855694       624986192074   \n",
       "4              Burglary                 True  337103911746       626633943991   \n",
       "\n",
       "                   DISPOSITION_CHARGED_OFFENSE_TITLE  CHARGE_COUNT  \\\n",
       "0                               RESIDENTIAL BURGLARY             1   \n",
       "1                                      ARMED ROBBERY             1   \n",
       "2  [POSSESSION OF CONTROLLED SUBSTANCE WITH INTEN...             1   \n",
       "3               POSSESSION OF A CONTROLLED SUBSTANCE             1   \n",
       "4                                           BURGLARY             1   \n",
       "\n",
       "        DISPOSITION_DATE  ... judgeid_derived  FN_judge Gender_judge  \\\n",
       "0  8/17/2014 12:00:00 AM  ...       judge_279   Shelley       female   \n",
       "1  1/20/2012 12:00:00 AM  ...       judge_334   William         male   \n",
       "2  7/10/2012 12:00:00 AM  ...       judge_178  Lawrence         male   \n",
       "3  2/27/2012 12:00:00 AM  ...       judge_279   Shelley       female   \n",
       "4   2/8/2012 12:00:00 AM  ...       judge_275    Sharon       female   \n",
       "\n",
       "  is_judge_male arrest_year is_covid Livability  his_prop senlength_derived  \\\n",
       "0         False      2010.0    False         76  0.015877               6.0   \n",
       "1          True      2010.0    False         76  0.015877              21.0   \n",
       "2          True      2010.0    False         76  0.015877               2.0   \n",
       "3         False      2010.0    False         76  0.015877               1.0   \n",
       "4         False      2010.0    False         76  0.015877               2.0   \n",
       "\n",
       "   Incar  \n",
       "0   True  \n",
       "1   True  \n",
       "2  False  \n",
       "3   True  \n",
       "4  False  \n",
       "\n",
       "[5 rows x 61 columns]"
      ]
     },
     "execution_count": 29,
     "metadata": {},
     "output_type": "execute_result"
    }
   ],
   "source": [
    "sentencing_conc1['Incar'] = np.where(sentencing_conc1.COMMITMENT_TYPE == 'Illinois Department of Corrections', True , False)\n",
    "sentencing_conc1.head()"
   ]
  },
  {
   "cell_type": "code",
   "execution_count": 238,
   "id": "41590481",
   "metadata": {},
   "outputs": [
    {
     "data": {
      "text/html": [
       "<div>\n",
       "<style scoped>\n",
       "    .dataframe tbody tr th:only-of-type {\n",
       "        vertical-align: middle;\n",
       "    }\n",
       "\n",
       "    .dataframe tbody tr th {\n",
       "        vertical-align: top;\n",
       "    }\n",
       "\n",
       "    .dataframe thead th {\n",
       "        text-align: right;\n",
       "    }\n",
       "</style>\n",
       "<table border=\"1\" class=\"dataframe\">\n",
       "  <thead>\n",
       "    <tr style=\"text-align: right;\">\n",
       "      <th></th>\n",
       "      <th>Incar</th>\n",
       "      <th>mean_senlength</th>\n",
       "    </tr>\n",
       "  </thead>\n",
       "  <tbody>\n",
       "    <tr>\n",
       "      <th>0</th>\n",
       "      <td>False</td>\n",
       "      <td>1.800948</td>\n",
       "    </tr>\n",
       "    <tr>\n",
       "      <th>1</th>\n",
       "      <td>True</td>\n",
       "      <td>3.052360</td>\n",
       "    </tr>\n",
       "  </tbody>\n",
       "</table>\n",
       "</div>"
      ],
      "text/plain": [
       "   Incar  mean_senlength\n",
       "0  False        1.800948\n",
       "1   True        3.052360"
      ]
     },
     "execution_count": 238,
     "metadata": {},
     "output_type": "execute_result"
    }
   ],
   "source": [
    "incar = sentencing_conc1.groupby('Incar').agg(mean_senlength = ('senlength_derived', 'mean')).reset_index()\n",
    "incar"
   ]
  },
  {
   "cell_type": "code",
   "execution_count": 242,
   "id": "bd127ed9",
   "metadata": {},
   "outputs": [
    {
     "data": {
      "image/png": "[encoded data removed]",
      "text/plain": [
       "<Figure size 640x480 with 1 Axes>"
      ]
     },
     "metadata": {},
     "output_type": "display_data"
    },
    {
     "data": {
      "text/plain": [
       "<ggplot: (8764797989723)>"
      ]
     },
     "execution_count": 242,
     "metadata": {},
     "output_type": "execute_result"
    }
   ],
   "source": [
    "ggplot(incar, aes(x='Incar',y='mean_senlength',fill='Incar')) +\\\n",
    "geom_col() +\\\n",
    "labs(title = 'Relationship between incarceration and sentence length', x = 'Incar', y = 'Mean sentence length')+\\\n",
    "theme_bw()"
   ]
  },
  {
   "cell_type": "markdown",
   "id": "15156968",
   "metadata": {},
   "source": [
    "### Rename the column with value of True/False as dummy variable (0/1)"
   ]
  },
  {
   "cell_type": "code",
   "execution_count": 97,
   "id": "5ff97e51",
   "metadata": {},
   "outputs": [
    {
     "data": {
      "text/html": [
       "<div>\n",
       "<style scoped>\n",
       "    .dataframe tbody tr th:only-of-type {\n",
       "        vertical-align: middle;\n",
       "    }\n",
       "\n",
       "    .dataframe tbody tr th {\n",
       "        vertical-align: top;\n",
       "    }\n",
       "\n",
       "    .dataframe thead th {\n",
       "        text-align: right;\n",
       "    }\n",
       "</style>\n",
       "<table border=\"1\" class=\"dataframe\">\n",
       "  <thead>\n",
       "    <tr style=\"text-align: right;\">\n",
       "      <th></th>\n",
       "      <th>is_changed_offense</th>\n",
       "      <th>is_black_derived</th>\n",
       "      <th>is_hisp_derived</th>\n",
       "      <th>is_white_derived</th>\n",
       "      <th>is_male_derived</th>\n",
       "      <th>is_judge_male</th>\n",
       "      <th>is_covid</th>\n",
       "      <th>Livability</th>\n",
       "      <th>his_prop</th>\n",
       "      <th>Incar</th>\n",
       "      <th>senlength_derived</th>\n",
       "    </tr>\n",
       "  </thead>\n",
       "  <tbody>\n",
       "    <tr>\n",
       "      <th>0</th>\n",
       "      <td>False</td>\n",
       "      <td>False</td>\n",
       "      <td>True</td>\n",
       "      <td>False</td>\n",
       "      <td>True</td>\n",
       "      <td>False</td>\n",
       "      <td>False</td>\n",
       "      <td>76</td>\n",
       "      <td>0.015877</td>\n",
       "      <td>True</td>\n",
       "      <td>6.0</td>\n",
       "    </tr>\n",
       "    <tr>\n",
       "      <th>1</th>\n",
       "      <td>False</td>\n",
       "      <td>True</td>\n",
       "      <td>False</td>\n",
       "      <td>False</td>\n",
       "      <td>True</td>\n",
       "      <td>True</td>\n",
       "      <td>False</td>\n",
       "      <td>76</td>\n",
       "      <td>0.015877</td>\n",
       "      <td>True</td>\n",
       "      <td>21.0</td>\n",
       "    </tr>\n",
       "    <tr>\n",
       "      <th>2</th>\n",
       "      <td>False</td>\n",
       "      <td>False</td>\n",
       "      <td>False</td>\n",
       "      <td>False</td>\n",
       "      <td>True</td>\n",
       "      <td>True</td>\n",
       "      <td>False</td>\n",
       "      <td>76</td>\n",
       "      <td>0.015877</td>\n",
       "      <td>False</td>\n",
       "      <td>2.0</td>\n",
       "    </tr>\n",
       "    <tr>\n",
       "      <th>3</th>\n",
       "      <td>False</td>\n",
       "      <td>True</td>\n",
       "      <td>False</td>\n",
       "      <td>False</td>\n",
       "      <td>True</td>\n",
       "      <td>False</td>\n",
       "      <td>False</td>\n",
       "      <td>76</td>\n",
       "      <td>0.015877</td>\n",
       "      <td>True</td>\n",
       "      <td>1.0</td>\n",
       "    </tr>\n",
       "    <tr>\n",
       "      <th>4</th>\n",
       "      <td>False</td>\n",
       "      <td>False</td>\n",
       "      <td>True</td>\n",
       "      <td>False</td>\n",
       "      <td>True</td>\n",
       "      <td>False</td>\n",
       "      <td>False</td>\n",
       "      <td>76</td>\n",
       "      <td>0.015877</td>\n",
       "      <td>False</td>\n",
       "      <td>2.0</td>\n",
       "    </tr>\n",
       "  </tbody>\n",
       "</table>\n",
       "</div>"
      ],
      "text/plain": [
       "   is_changed_offense  is_black_derived  is_hisp_derived  is_white_derived  \\\n",
       "0               False             False             True             False   \n",
       "1               False              True            False             False   \n",
       "2               False             False            False             False   \n",
       "3               False              True            False             False   \n",
       "4               False             False             True             False   \n",
       "\n",
       "   is_male_derived  is_judge_male  is_covid  Livability  his_prop  Incar  \\\n",
       "0             True          False     False          76  0.015877   True   \n",
       "1             True           True     False          76  0.015877   True   \n",
       "2             True           True     False          76  0.015877  False   \n",
       "3             True          False     False          76  0.015877   True   \n",
       "4             True          False     False          76  0.015877  False   \n",
       "\n",
       "   senlength_derived  \n",
       "0                6.0  \n",
       "1               21.0  \n",
       "2                2.0  \n",
       "3                1.0  \n",
       "4                2.0  "
      ]
     },
     "execution_count": 97,
     "metadata": {},
     "output_type": "execute_result"
    }
   ],
   "source": [
    "sentencing_concat = sentencing_conc1[['is_changed_offense','is_black_derived','is_hisp_derived'\\\n",
    "                                         ,'is_white_derived','is_male_derived','is_judge_male',\\\n",
    "                                      'is_covid','Livability','his_prop','Incar','senlength_derived']]\n",
    "sentencing_concat.head()"
   ]
  },
  {
   "cell_type": "code",
   "execution_count": 98,
   "id": "87e05458",
   "metadata": {},
   "outputs": [],
   "source": [
    "def tran(a):\n",
    "    sentencing_concat[a] = (sentencing_concat[a]==True).astype(int)\n",
    "    return sentencing_concat"
   ]
  },
  {
   "cell_type": "code",
   "execution_count": 99,
   "id": "01e62665",
   "metadata": {},
   "outputs": [],
   "source": [
    "for i in ['is_changed_offense','is_black_derived','is_hisp_derived'\\\n",
    "                                         ,'is_white_derived','is_male_derived','is_judge_male',\\\n",
    "                                      'is_covid','Incar']:\n",
    "    sentencing_concat = tran(i)"
   ]
  },
  {
   "cell_type": "code",
   "execution_count": 100,
   "id": "2b136965",
   "metadata": {},
   "outputs": [
    {
     "data": {
      "text/html": [
       "<div>\n",
       "<style scoped>\n",
       "    .dataframe tbody tr th:only-of-type {\n",
       "        vertical-align: middle;\n",
       "    }\n",
       "\n",
       "    .dataframe tbody tr th {\n",
       "        vertical-align: top;\n",
       "    }\n",
       "\n",
       "    .dataframe thead th {\n",
       "        text-align: right;\n",
       "    }\n",
       "</style>\n",
       "<table border=\"1\" class=\"dataframe\">\n",
       "  <thead>\n",
       "    <tr style=\"text-align: right;\">\n",
       "      <th></th>\n",
       "      <th>is_changed_offense</th>\n",
       "      <th>is_black_derived</th>\n",
       "      <th>is_hisp_derived</th>\n",
       "      <th>is_white_derived</th>\n",
       "      <th>is_male_derived</th>\n",
       "      <th>is_judge_male</th>\n",
       "      <th>is_covid</th>\n",
       "      <th>Livability</th>\n",
       "      <th>his_prop</th>\n",
       "      <th>Incar</th>\n",
       "      <th>senlength_derived</th>\n",
       "    </tr>\n",
       "  </thead>\n",
       "  <tbody>\n",
       "    <tr>\n",
       "      <th>0</th>\n",
       "      <td>0</td>\n",
       "      <td>0</td>\n",
       "      <td>1</td>\n",
       "      <td>0</td>\n",
       "      <td>1</td>\n",
       "      <td>0</td>\n",
       "      <td>0</td>\n",
       "      <td>76</td>\n",
       "      <td>0.015877</td>\n",
       "      <td>1</td>\n",
       "      <td>6.0</td>\n",
       "    </tr>\n",
       "    <tr>\n",
       "      <th>1</th>\n",
       "      <td>0</td>\n",
       "      <td>1</td>\n",
       "      <td>0</td>\n",
       "      <td>0</td>\n",
       "      <td>1</td>\n",
       "      <td>1</td>\n",
       "      <td>0</td>\n",
       "      <td>76</td>\n",
       "      <td>0.015877</td>\n",
       "      <td>1</td>\n",
       "      <td>21.0</td>\n",
       "    </tr>\n",
       "    <tr>\n",
       "      <th>2</th>\n",
       "      <td>0</td>\n",
       "      <td>0</td>\n",
       "      <td>0</td>\n",
       "      <td>0</td>\n",
       "      <td>1</td>\n",
       "      <td>1</td>\n",
       "      <td>0</td>\n",
       "      <td>76</td>\n",
       "      <td>0.015877</td>\n",
       "      <td>0</td>\n",
       "      <td>2.0</td>\n",
       "    </tr>\n",
       "    <tr>\n",
       "      <th>3</th>\n",
       "      <td>0</td>\n",
       "      <td>1</td>\n",
       "      <td>0</td>\n",
       "      <td>0</td>\n",
       "      <td>1</td>\n",
       "      <td>0</td>\n",
       "      <td>0</td>\n",
       "      <td>76</td>\n",
       "      <td>0.015877</td>\n",
       "      <td>1</td>\n",
       "      <td>1.0</td>\n",
       "    </tr>\n",
       "    <tr>\n",
       "      <th>4</th>\n",
       "      <td>0</td>\n",
       "      <td>0</td>\n",
       "      <td>1</td>\n",
       "      <td>0</td>\n",
       "      <td>1</td>\n",
       "      <td>0</td>\n",
       "      <td>0</td>\n",
       "      <td>76</td>\n",
       "      <td>0.015877</td>\n",
       "      <td>0</td>\n",
       "      <td>2.0</td>\n",
       "    </tr>\n",
       "  </tbody>\n",
       "</table>\n",
       "</div>"
      ],
      "text/plain": [
       "   is_changed_offense  is_black_derived  is_hisp_derived  is_white_derived  \\\n",
       "0                   0                 0                1                 0   \n",
       "1                   0                 1                0                 0   \n",
       "2                   0                 0                0                 0   \n",
       "3                   0                 1                0                 0   \n",
       "4                   0                 0                1                 0   \n",
       "\n",
       "   is_male_derived  is_judge_male  is_covid  Livability  his_prop  Incar  \\\n",
       "0                1              0         0          76  0.015877      1   \n",
       "1                1              1         0          76  0.015877      1   \n",
       "2                1              1         0          76  0.015877      0   \n",
       "3                1              0         0          76  0.015877      1   \n",
       "4                1              0         0          76  0.015877      0   \n",
       "\n",
       "   senlength_derived  \n",
       "0                6.0  \n",
       "1               21.0  \n",
       "2                2.0  \n",
       "3                1.0  \n",
       "4                2.0  "
      ]
     },
     "execution_count": 100,
     "metadata": {},
     "output_type": "execute_result"
    }
   ],
   "source": [
    "sentencing_concat.head()"
   ]
  },
  {
   "cell_type": "code",
   "execution_count": 101,
   "id": "7effedc1",
   "metadata": {},
   "outputs": [
    {
     "data": {
      "text/html": [
       "<div>\n",
       "<style scoped>\n",
       "    .dataframe tbody tr th:only-of-type {\n",
       "        vertical-align: middle;\n",
       "    }\n",
       "\n",
       "    .dataframe tbody tr th {\n",
       "        vertical-align: top;\n",
       "    }\n",
       "\n",
       "    .dataframe thead th {\n",
       "        text-align: right;\n",
       "    }\n",
       "</style>\n",
       "<table border=\"1\" class=\"dataframe\">\n",
       "  <thead>\n",
       "    <tr style=\"text-align: right;\">\n",
       "      <th></th>\n",
       "      <th>is_changed_offense</th>\n",
       "      <th>is_black_derived</th>\n",
       "      <th>is_hisp_derived</th>\n",
       "      <th>is_white_derived</th>\n",
       "      <th>is_male_derived</th>\n",
       "      <th>is_judge_male</th>\n",
       "      <th>is_covid</th>\n",
       "      <th>Livability</th>\n",
       "      <th>his_prop</th>\n",
       "      <th>Incar</th>\n",
       "      <th>senlength_derived</th>\n",
       "    </tr>\n",
       "  </thead>\n",
       "  <tbody>\n",
       "    <tr>\n",
       "      <th>count</th>\n",
       "      <td>36978.000000</td>\n",
       "      <td>36978.000000</td>\n",
       "      <td>36978.000000</td>\n",
       "      <td>36978.000000</td>\n",
       "      <td>36978.000000</td>\n",
       "      <td>36978.000000</td>\n",
       "      <td>36978.000000</td>\n",
       "      <td>36978.00000</td>\n",
       "      <td>36978.000000</td>\n",
       "      <td>36978.000000</td>\n",
       "      <td>36978.000000</td>\n",
       "    </tr>\n",
       "    <tr>\n",
       "      <th>mean</th>\n",
       "      <td>0.042944</td>\n",
       "      <td>0.794743</td>\n",
       "      <td>0.133025</td>\n",
       "      <td>0.067932</td>\n",
       "      <td>0.895235</td>\n",
       "      <td>0.721889</td>\n",
       "      <td>0.003975</td>\n",
       "      <td>60.19974</td>\n",
       "      <td>0.106220</td>\n",
       "      <td>0.541133</td>\n",
       "      <td>2.478128</td>\n",
       "    </tr>\n",
       "    <tr>\n",
       "      <th>std</th>\n",
       "      <td>0.202735</td>\n",
       "      <td>0.403895</td>\n",
       "      <td>0.339606</td>\n",
       "      <td>0.251633</td>\n",
       "      <td>0.306255</td>\n",
       "      <td>0.448075</td>\n",
       "      <td>0.062926</td>\n",
       "      <td>5.49458</td>\n",
       "      <td>0.095808</td>\n",
       "      <td>0.498312</td>\n",
       "      <td>3.455747</td>\n",
       "    </tr>\n",
       "    <tr>\n",
       "      <th>min</th>\n",
       "      <td>0.000000</td>\n",
       "      <td>0.000000</td>\n",
       "      <td>0.000000</td>\n",
       "      <td>0.000000</td>\n",
       "      <td>0.000000</td>\n",
       "      <td>0.000000</td>\n",
       "      <td>0.000000</td>\n",
       "      <td>51.00000</td>\n",
       "      <td>0.001253</td>\n",
       "      <td>0.000000</td>\n",
       "      <td>0.000000</td>\n",
       "    </tr>\n",
       "    <tr>\n",
       "      <th>25%</th>\n",
       "      <td>0.000000</td>\n",
       "      <td>1.000000</td>\n",
       "      <td>0.000000</td>\n",
       "      <td>0.000000</td>\n",
       "      <td>1.000000</td>\n",
       "      <td>0.000000</td>\n",
       "      <td>0.000000</td>\n",
       "      <td>56.00000</td>\n",
       "      <td>0.037506</td>\n",
       "      <td>0.000000</td>\n",
       "      <td>1.250000</td>\n",
       "    </tr>\n",
       "    <tr>\n",
       "      <th>50%</th>\n",
       "      <td>0.000000</td>\n",
       "      <td>1.000000</td>\n",
       "      <td>0.000000</td>\n",
       "      <td>0.000000</td>\n",
       "      <td>1.000000</td>\n",
       "      <td>1.000000</td>\n",
       "      <td>0.000000</td>\n",
       "      <td>60.00000</td>\n",
       "      <td>0.059544</td>\n",
       "      <td>1.000000</td>\n",
       "      <td>2.000000</td>\n",
       "    </tr>\n",
       "    <tr>\n",
       "      <th>75%</th>\n",
       "      <td>0.000000</td>\n",
       "      <td>1.000000</td>\n",
       "      <td>0.000000</td>\n",
       "      <td>0.000000</td>\n",
       "      <td>1.000000</td>\n",
       "      <td>1.000000</td>\n",
       "      <td>0.000000</td>\n",
       "      <td>62.00000</td>\n",
       "      <td>0.264049</td>\n",
       "      <td>1.000000</td>\n",
       "      <td>2.500000</td>\n",
       "    </tr>\n",
       "    <tr>\n",
       "      <th>max</th>\n",
       "      <td>1.000000</td>\n",
       "      <td>1.000000</td>\n",
       "      <td>1.000000</td>\n",
       "      <td>1.000000</td>\n",
       "      <td>1.000000</td>\n",
       "      <td>1.000000</td>\n",
       "      <td>1.000000</td>\n",
       "      <td>76.00000</td>\n",
       "      <td>0.264049</td>\n",
       "      <td>1.000000</td>\n",
       "      <td>364.000000</td>\n",
       "    </tr>\n",
       "  </tbody>\n",
       "</table>\n",
       "</div>"
      ],
      "text/plain": [
       "       is_changed_offense  is_black_derived  is_hisp_derived  \\\n",
       "count        36978.000000      36978.000000     36978.000000   \n",
       "mean             0.042944          0.794743         0.133025   \n",
       "std              0.202735          0.403895         0.339606   \n",
       "min              0.000000          0.000000         0.000000   \n",
       "25%              0.000000          1.000000         0.000000   \n",
       "50%              0.000000          1.000000         0.000000   \n",
       "75%              0.000000          1.000000         0.000000   \n",
       "max              1.000000          1.000000         1.000000   \n",
       "\n",
       "       is_white_derived  is_male_derived  is_judge_male      is_covid  \\\n",
       "count      36978.000000     36978.000000   36978.000000  36978.000000   \n",
       "mean           0.067932         0.895235       0.721889      0.003975   \n",
       "std            0.251633         0.306255       0.448075      0.062926   \n",
       "min            0.000000         0.000000       0.000000      0.000000   \n",
       "25%            0.000000         1.000000       0.000000      0.000000   \n",
       "50%            0.000000         1.000000       1.000000      0.000000   \n",
       "75%            0.000000         1.000000       1.000000      0.000000   \n",
       "max            1.000000         1.000000       1.000000      1.000000   \n",
       "\n",
       "        Livability      his_prop         Incar  senlength_derived  \n",
       "count  36978.00000  36978.000000  36978.000000       36978.000000  \n",
       "mean      60.19974      0.106220      0.541133           2.478128  \n",
       "std        5.49458      0.095808      0.498312           3.455747  \n",
       "min       51.00000      0.001253      0.000000           0.000000  \n",
       "25%       56.00000      0.037506      0.000000           1.250000  \n",
       "50%       60.00000      0.059544      1.000000           2.000000  \n",
       "75%       62.00000      0.264049      1.000000           2.500000  \n",
       "max       76.00000      0.264049      1.000000         364.000000  "
      ]
     },
     "execution_count": 101,
     "metadata": {},
     "output_type": "execute_result"
    }
   ],
   "source": [
    "sentencing_concat.describe()"
   ]
  },
  {
   "cell_type": "code",
   "execution_count": 102,
   "id": "2f97f151",
   "metadata": {},
   "outputs": [
    {
     "data": {
      "image/png": "[encoded data removed]",
      "text/plain": [
       "<Figure size 3600x1200 with 1 Axes>"
      ]
     },
     "metadata": {
      "needs_background": "light"
     },
     "output_type": "display_data"
    }
   ],
   "source": [
    "## The relation between race and senlength \n",
    "g = sns.catplot(y = \"senlength_derived\", \n",
    "                x = \"is_black_derived\",\n",
    "                data = sentencing_concat,\n",
    "                kind=\"boxen\", \n",
    "                height = 8, \n",
    "                aspect = 3)\n",
    "g.fig.set_dpi(150)"
   ]
  },
  {
   "cell_type": "code",
   "execution_count": 103,
   "id": "697159af",
   "metadata": {},
   "outputs": [
    {
     "data": {
      "image/png": "[encoded data removed]",
      "text/plain": [
       "<Figure size 3600x1200 with 1 Axes>"
      ]
     },
     "metadata": {
      "needs_background": "light"
     },
     "output_type": "display_data"
    }
   ],
   "source": [
    "## The relation between gender and senlength\n",
    "g = sns.catplot(y = \"senlength_derived\", \n",
    "                x = \"is_male_derived\",\n",
    "                data = sentencing_concat,\n",
    "                kind=\"boxen\", \n",
    "                height = 8, \n",
    "                aspect = 3)\n",
    "g.fig.set_dpi(150)"
   ]
  },
  {
   "cell_type": "code",
   "execution_count": 104,
   "id": "894148d4",
   "metadata": {},
   "outputs": [
    {
     "data": {
      "image/png": "[encoded data removed]",
      "text/plain": [
       "<Figure size 3600x1200 with 1 Axes>"
      ]
     },
     "metadata": {
      "needs_background": "light"
     },
     "output_type": "display_data"
    }
   ],
   "source": [
    "## The relation between changed_offense and senlength\n",
    "g = sns.catplot(y = \"senlength_derived\", \n",
    "                x = \"is_changed_offense\",\n",
    "                data = sentencing_concat,\n",
    "                kind=\"boxen\", \n",
    "                height = 8, \n",
    "                aspect = 3)\n",
    "g.fig.set_dpi(150)"
   ]
  },
  {
   "cell_type": "code",
   "execution_count": 105,
   "id": "c5e3284c",
   "metadata": {},
   "outputs": [
    {
     "data": {
      "image/png": "[encoded data removed]",
      "text/plain": [
       "<Figure size 3600x1200 with 1 Axes>"
      ]
     },
     "metadata": {
      "needs_background": "light"
     },
     "output_type": "display_data"
    }
   ],
   "source": [
    "## The relation between judge's gender and senlength\n",
    "g = sns.catplot(y = \"senlength_derived\", \n",
    "                x = \"is_judge_male\",\n",
    "                data = sentencing_concat,\n",
    "                kind=\"boxen\", \n",
    "                height = 8, \n",
    "                aspect = 3)\n",
    "g.fig.set_dpi(150)"
   ]
  },
  {
   "cell_type": "code",
   "execution_count": 106,
   "id": "e38dd7a6",
   "metadata": {},
   "outputs": [
    {
     "data": {
      "image/png": "[encoded data removed]",
      "text/plain": [
       "<Figure size 3600x1200 with 1 Axes>"
      ]
     },
     "metadata": {
      "needs_background": "light"
     },
     "output_type": "display_data"
    }
   ],
   "source": [
    "## The relation between covid and senlength\n",
    "g = sns.catplot(y = \"senlength_derived\", \n",
    "                x = \"is_covid\",\n",
    "                data = sentencing_concat,\n",
    "                kind=\"boxen\", \n",
    "                height = 8, \n",
    "                aspect = 3)\n",
    "g.fig.set_dpi(150)"
   ]
  },
  {
   "cell_type": "code",
   "execution_count": 107,
   "id": "fc98b64c",
   "metadata": {},
   "outputs": [
    {
     "data": {
      "image/png": "[encoded data removed]",
      "text/plain": [
       "<Figure size 3600x1200 with 1 Axes>"
      ]
     },
     "metadata": {
      "needs_background": "light"
     },
     "output_type": "display_data"
    }
   ],
   "source": [
    "## The relation between livability of neighborhood and senlength\n",
    "g = sns.catplot(y = \"senlength_derived\", \n",
    "                x = \"Livability\",\n",
    "                data = sentencing_concat,\n",
    "                kind=\"boxen\", \n",
    "                height = 8, \n",
    "                aspect = 3)\n",
    "g.fig.set_dpi(150)"
   ]
  },
  {
   "cell_type": "code",
   "execution_count": 108,
   "id": "9d2ee9ce",
   "metadata": {},
   "outputs": [
    {
     "data": {
      "image/png": "[encoded data removed]",
      "text/plain": [
       "<Figure size 3600x1200 with 1 Axes>"
      ]
     },
     "metadata": {
      "needs_background": "light"
     },
     "output_type": "display_data"
    }
   ],
   "source": [
    "## The relation between the history sentence proportion and senlength\n",
    "g = sns.catplot(y = \"senlength_derived\", \n",
    "                x = \"his_prop\",\n",
    "                data = sentencing_concat,\n",
    "                kind=\"boxen\", \n",
    "                height = 8, \n",
    "                aspect = 3)\n",
    "g.fig.set_dpi(150)"
   ]
  },
  {
   "cell_type": "code",
   "execution_count": 109,
   "id": "821a449d",
   "metadata": {},
   "outputs": [
    {
     "data": {
      "image/png": "[encoded data removed]",
      "text/plain": [
       "<Figure size 3600x1200 with 1 Axes>"
      ]
     },
     "metadata": {
      "needs_background": "light"
     },
     "output_type": "display_data"
    }
   ],
   "source": [
    "## The relation between incarcerated and senlength\n",
    "g = sns.catplot(y = \"senlength_derived\", \n",
    "                x = \"Incar\",\n",
    "                data = sentencing_concat,\n",
    "                kind=\"boxen\", \n",
    "                height = 8, \n",
    "                aspect = 3)\n",
    "g.fig.set_dpi(150)"
   ]
  },
  {
   "cell_type": "markdown",
   "id": "034bd57a",
   "metadata": {},
   "source": [
    "## Linear Regression Model Results"
   ]
  },
  {
   "cell_type": "code",
   "execution_count": 34,
   "id": "50dcc769",
   "metadata": {},
   "outputs": [],
   "source": [
    "## Get y_variable\n",
    "y = pd.DataFrame(sentencing_concat.senlength_derived)\n",
    "## Get X variable\n",
    "X = pd.DataFrame(sentencing_concat.drop(['senlength_derived'], axis = 1))"
   ]
  },
  {
   "cell_type": "code",
   "execution_count": 35,
   "id": "4a2a6cfb",
   "metadata": {},
   "outputs": [
    {
     "name": "stdout",
     "output_type": "stream",
     "text": [
      "                            OLS Regression Results                            \n",
      "==============================================================================\n",
      "Dep. Variable:      senlength_derived   R-squared:                       0.039\n",
      "Model:                            OLS   Adj. R-squared:                  0.038\n",
      "Method:                 Least Squares   F-statistic:                     148.3\n",
      "Date:                Wed, 23 Nov 2022   Prob (F-statistic):          2.41e-306\n",
      "Time:                        21:42:20   Log-Likelihood:                -97596.\n",
      "No. Observations:               36978   AIC:                         1.952e+05\n",
      "Df Residuals:                   36967   BIC:                         1.953e+05\n",
      "Df Model:                          10                                         \n",
      "Covariance Type:            nonrobust                                         \n",
      "======================================================================================\n",
      "                         coef    std err          t      P>|t|      [0.025      0.975]\n",
      "--------------------------------------------------------------------------------------\n",
      "const                  1.0456      0.356      2.939      0.003       0.348       1.743\n",
      "is_changed_offense     0.9653      0.088     11.025      0.000       0.794       1.137\n",
      "is_black_derived       0.1752      0.271      0.645      0.519      -0.357       0.707\n",
      "is_hisp_derived        0.2916      0.274      1.066      0.287      -0.245       0.828\n",
      "is_white_derived       0.0703      0.277      0.254      0.800      -0.473       0.614\n",
      "is_male_derived        0.1778      0.058      3.046      0.002       0.063       0.292\n",
      "is_judge_male          0.1446      0.039      3.665      0.000       0.067       0.222\n",
      "is_covid              -0.4772      0.280     -1.702      0.089      -1.027       0.072\n",
      "Livability             0.0067      0.003      1.992      0.046       0.000       0.013\n",
      "his_prop              -1.2620      0.191     -6.602      0.000      -1.637      -0.887\n",
      "Incar                  1.2483      0.036     34.342      0.000       1.177       1.320\n",
      "==============================================================================\n",
      "Omnibus:                   106259.335   Durbin-Watson:                   1.902\n",
      "Prob(Omnibus):                  0.000   Jarque-Bera (JB):      19641255360.375\n",
      "Skew:                          38.474   Prob(JB):                         0.00\n",
      "Kurtosis:                    3572.584   Cond. No.                     1.92e+03\n",
      "==============================================================================\n",
      "\n",
      "Notes:\n",
      "[1] Standard Errors assume that the covariance matrix of the errors is correctly specified.\n",
      "[2] The condition number is large, 1.92e+03. This might indicate that there are\n",
      "strong multicollinearity or other numerical problems.\n"
     ]
    }
   ],
   "source": [
    "## Add constant of X variable\n",
    "import statsmodels.api as sm\n",
    "X = sm.add_constant(X)\n",
    "\n",
    "## Train the model\n",
    "model = sm.OLS(y, X).fit()\n",
    "## See the regression results\n",
    "print(model.summary())"
   ]
  },
  {
   "cell_type": "markdown",
   "id": "076b30e3",
   "metadata": {},
   "source": [
    "We can see is_black_derived, is_hisp_derived, is_white_derived have no relevant with y variable, is_covid and Livability has less relevant with y variable."
   ]
  },
  {
   "cell_type": "markdown",
   "id": "630a167c",
   "metadata": {},
   "source": [
    "### Plot the residual correlation of the model using one of the significant independent variables (Incar)"
   ]
  },
  {
   "cell_type": "code",
   "execution_count": 36,
   "id": "83d5a7da",
   "metadata": {},
   "outputs": [
    {
     "name": "stdout",
     "output_type": "stream",
     "text": [
      "eval_env: 1\n"
     ]
    },
    {
     "data": {
      "image/png": "[encoded data removed]",
      "text/plain": [
       "<Figure size 1080x576 with 4 Axes>"
      ]
     },
     "metadata": {
      "needs_background": "light"
     },
     "output_type": "display_data"
    }
   ],
   "source": [
    "import matplotlib.pyplot as plt\n",
    "import seaborn as sns\n",
    "import warnings \n",
    "warnings.filterwarnings(\"ignore\")\n",
    "\n",
    "## The regression model was tested for CRIM variables\n",
    "fig = plt.figure(figsize=(15,8))\n",
    "fig = sm.graphics.plot_regress_exog(model,\"Incar\", fig =fig)"
   ]
  },
  {
   "cell_type": "code",
   "execution_count": 37,
   "id": "90f80351",
   "metadata": {},
   "outputs": [
    {
     "data": {
      "text/plain": [
       "const                 1.045606\n",
       "is_changed_offense    0.965320\n",
       "is_black_derived      0.175163\n",
       "is_hisp_derived       0.291564\n",
       "is_white_derived      0.070332\n",
       "is_male_derived       0.177768\n",
       "is_judge_male         0.144593\n",
       "is_covid             -0.477214\n",
       "Livability            0.006731\n",
       "his_prop             -1.262022\n",
       "Incar                 1.248345\n",
       "dtype: float64"
      ]
     },
     "execution_count": 37,
     "metadata": {},
     "output_type": "execute_result"
    }
   ],
   "source": [
    "# Get the regression coefficient\n",
    "model.params"
   ]
  },
  {
   "cell_type": "code",
   "execution_count": 38,
   "id": "df942bf7",
   "metadata": {},
   "outputs": [
    {
     "data": {
      "text/plain": [
       "const                  3.292154e-03\n",
       "is_changed_offense     3.211862e-28\n",
       "is_black_derived       5.186682e-01\n",
       "is_hisp_derived        2.865593e-01\n",
       "is_white_derived       7.998644e-01\n",
       "is_male_derived        2.323591e-03\n",
       "is_judge_male          2.475548e-04\n",
       "is_covid               8.875191e-02\n",
       "Livability             4.637482e-02\n",
       "his_prop               4.109040e-11\n",
       "Incar                 1.896402e-254\n",
       "dtype: float64"
      ]
     },
     "execution_count": 38,
     "metadata": {},
     "output_type": "execute_result"
    }
   ],
   "source": [
    "# Get the p-value\n",
    "model.pvalues"
   ]
  },
  {
   "cell_type": "code",
   "execution_count": 39,
   "id": "c9db8004",
   "metadata": {},
   "outputs": [
    {
     "data": {
      "text/html": [
       "<div>\n",
       "<style scoped>\n",
       "    .dataframe tbody tr th:only-of-type {\n",
       "        vertical-align: middle;\n",
       "    }\n",
       "\n",
       "    .dataframe tbody tr th {\n",
       "        vertical-align: top;\n",
       "    }\n",
       "\n",
       "    .dataframe thead th {\n",
       "        text-align: right;\n",
       "    }\n",
       "</style>\n",
       "<table border=\"1\" class=\"dataframe\">\n",
       "  <thead>\n",
       "    <tr style=\"text-align: right;\">\n",
       "      <th></th>\n",
       "      <th>params</th>\n",
       "      <th>std err</th>\n",
       "      <th>t</th>\n",
       "      <th>p-values</th>\n",
       "      <th>coef_0.025</th>\n",
       "      <th>coef_0.975</th>\n",
       "    </tr>\n",
       "  </thead>\n",
       "  <tbody>\n",
       "    <tr>\n",
       "      <th>const</th>\n",
       "      <td>1.045606</td>\n",
       "      <td>0.355740</td>\n",
       "      <td>2.939</td>\n",
       "      <td>0.003</td>\n",
       "      <td>0.348346</td>\n",
       "      <td>1.742865</td>\n",
       "    </tr>\n",
       "    <tr>\n",
       "      <th>is_changed_offense</th>\n",
       "      <td>0.965320</td>\n",
       "      <td>0.087559</td>\n",
       "      <td>11.025</td>\n",
       "      <td>0.000</td>\n",
       "      <td>0.793702</td>\n",
       "      <td>1.136939</td>\n",
       "    </tr>\n",
       "    <tr>\n",
       "      <th>is_black_derived</th>\n",
       "      <td>0.175163</td>\n",
       "      <td>0.271399</td>\n",
       "      <td>0.645</td>\n",
       "      <td>0.519</td>\n",
       "      <td>-0.356788</td>\n",
       "      <td>0.707113</td>\n",
       "    </tr>\n",
       "    <tr>\n",
       "      <th>is_hisp_derived</th>\n",
       "      <td>0.291564</td>\n",
       "      <td>0.273585</td>\n",
       "      <td>1.066</td>\n",
       "      <td>0.287</td>\n",
       "      <td>-0.244671</td>\n",
       "      <td>0.827799</td>\n",
       "    </tr>\n",
       "    <tr>\n",
       "      <th>is_white_derived</th>\n",
       "      <td>0.070332</td>\n",
       "      <td>0.277417</td>\n",
       "      <td>0.254</td>\n",
       "      <td>0.800</td>\n",
       "      <td>-0.473413</td>\n",
       "      <td>0.614076</td>\n",
       "    </tr>\n",
       "    <tr>\n",
       "      <th>is_male_derived</th>\n",
       "      <td>0.177768</td>\n",
       "      <td>0.058368</td>\n",
       "      <td>3.046</td>\n",
       "      <td>0.002</td>\n",
       "      <td>0.063365</td>\n",
       "      <td>0.292172</td>\n",
       "    </tr>\n",
       "    <tr>\n",
       "      <th>is_judge_male</th>\n",
       "      <td>0.144593</td>\n",
       "      <td>0.039451</td>\n",
       "      <td>3.665</td>\n",
       "      <td>0.000</td>\n",
       "      <td>0.067268</td>\n",
       "      <td>0.221918</td>\n",
       "    </tr>\n",
       "    <tr>\n",
       "      <th>is_covid</th>\n",
       "      <td>-0.477214</td>\n",
       "      <td>0.280374</td>\n",
       "      <td>-1.702</td>\n",
       "      <td>0.089</td>\n",
       "      <td>-1.026755</td>\n",
       "      <td>0.072327</td>\n",
       "    </tr>\n",
       "    <tr>\n",
       "      <th>Livability</th>\n",
       "      <td>0.006731</td>\n",
       "      <td>0.003379</td>\n",
       "      <td>1.992</td>\n",
       "      <td>0.046</td>\n",
       "      <td>0.000108</td>\n",
       "      <td>0.013354</td>\n",
       "    </tr>\n",
       "    <tr>\n",
       "      <th>his_prop</th>\n",
       "      <td>-1.262022</td>\n",
       "      <td>0.191155</td>\n",
       "      <td>-6.602</td>\n",
       "      <td>0.000</td>\n",
       "      <td>-1.636691</td>\n",
       "      <td>-0.887352</td>\n",
       "    </tr>\n",
       "    <tr>\n",
       "      <th>Incar</th>\n",
       "      <td>1.248345</td>\n",
       "      <td>0.036351</td>\n",
       "      <td>34.342</td>\n",
       "      <td>0.000</td>\n",
       "      <td>1.177097</td>\n",
       "      <td>1.319593</td>\n",
       "    </tr>\n",
       "  </tbody>\n",
       "</table>\n",
       "</div>"
      ],
      "text/plain": [
       "                      params   std err       t  p-values  coef_0.025  \\\n",
       "const               1.045606  0.355740   2.939     0.003    0.348346   \n",
       "is_changed_offense  0.965320  0.087559  11.025     0.000    0.793702   \n",
       "is_black_derived    0.175163  0.271399   0.645     0.519   -0.356788   \n",
       "is_hisp_derived     0.291564  0.273585   1.066     0.287   -0.244671   \n",
       "is_white_derived    0.070332  0.277417   0.254     0.800   -0.473413   \n",
       "is_male_derived     0.177768  0.058368   3.046     0.002    0.063365   \n",
       "is_judge_male       0.144593  0.039451   3.665     0.000    0.067268   \n",
       "is_covid           -0.477214  0.280374  -1.702     0.089   -1.026755   \n",
       "Livability          0.006731  0.003379   1.992     0.046    0.000108   \n",
       "his_prop           -1.262022  0.191155  -6.602     0.000   -1.636691   \n",
       "Incar               1.248345  0.036351  34.342     0.000    1.177097   \n",
       "\n",
       "                    coef_0.975  \n",
       "const                 1.742865  \n",
       "is_changed_offense    1.136939  \n",
       "is_black_derived      0.707113  \n",
       "is_hisp_derived       0.827799  \n",
       "is_white_derived      0.614076  \n",
       "is_male_derived       0.292172  \n",
       "is_judge_male         0.221918  \n",
       "is_covid              0.072327  \n",
       "Livability            0.013354  \n",
       "his_prop             -0.887352  \n",
       "Incar                 1.319593  "
      ]
     },
     "execution_count": 39,
     "metadata": {},
     "output_type": "execute_result"
    }
   ],
   "source": [
    "# Summary of regression coefficient table\n",
    "coef_df = pd.DataFrame({\"params\": model.params,   # Coefficient\n",
    "                        \"std err\": model.bse,     # Standard deviation of regression coefficient\n",
    "                        \"t\": round(model.tvalues,3),       # t-value\n",
    "                        \"p-values\": round(model.pvalues,3) # P-value\n",
    "                         })\n",
    "\n",
    "coef_df[['coef_0.025','coef_0.975']] = model.conf_int() # The regression coefficient confidence interval defaults to 5%\n",
    "coef_df"
   ]
  },
  {
   "cell_type": "markdown",
   "id": "3d65f340",
   "metadata": {},
   "source": [
    "senlength_derived = 0.96532*is_changed_offense + 0.175163*is_black_derived + 0.291564*is_hisp_derived + 0.070332*is_white_derived + 0.177768*is_male_derived + 0.144593*is_judge_male - 0.477214*is_covid + 0.006731*Livability - 1.262022*his_prop + 1.248345*Incar + 1.045606"
   ]
  },
  {
   "cell_type": "code",
   "execution_count": 40,
   "id": "5624141e",
   "metadata": {},
   "outputs": [
    {
     "data": {
      "text/plain": [
       "0    3.254796\n",
       "1    3.282987\n",
       "2    1.859479\n",
       "3    3.138394\n",
       "4    2.006451\n",
       "dtype: float64"
      ]
     },
     "execution_count": 40,
     "metadata": {},
     "output_type": "execute_result"
    }
   ],
   "source": [
    "# Model fitted values\n",
    "model.fittedvalues.head()"
   ]
  },
  {
   "cell_type": "code",
   "execution_count": 41,
   "id": "071bd5da",
   "metadata": {},
   "outputs": [
    {
     "data": {
      "text/plain": [
       "10.0"
      ]
     },
     "execution_count": 41,
     "metadata": {},
     "output_type": "execute_result"
    }
   ],
   "source": [
    "# Model freedom (coefficient freedom)\n",
    "model.df_model"
   ]
  },
  {
   "cell_type": "code",
   "execution_count": 42,
   "id": "7b4afd0b",
   "metadata": {},
   "outputs": [
    {
     "data": {
      "text/plain": [
       "0.038559309884280246"
      ]
     },
     "execution_count": 42,
     "metadata": {},
     "output_type": "execute_result"
    }
   ],
   "source": [
    "# R-squared\n",
    "model.rsquared"
   ]
  },
  {
   "cell_type": "code",
   "execution_count": 43,
   "id": "b3a840c2",
   "metadata": {},
   "outputs": [
    {
     "data": {
      "text/plain": [
       "0.038299229085157815"
      ]
     },
     "execution_count": 43,
     "metadata": {},
     "output_type": "execute_result"
    }
   ],
   "source": [
    "# Adjusted R-squared\n",
    "model.rsquared_adj"
   ]
  },
  {
   "cell_type": "markdown",
   "id": "074cee7d",
   "metadata": {},
   "source": [
    "## Test and compare different models to predict the sentence length according to the different variables"
   ]
  },
  {
   "cell_type": "code",
   "execution_count": 122,
   "id": "54fdbcf2",
   "metadata": {},
   "outputs": [],
   "source": [
    "y = sentencing_concat.senlength_derived\n",
    "X = sentencing_concat.drop(['senlength_derived'], axis = 1)\n",
    "from sklearn.model_selection import train_test_split\n",
    "X_train,X_test,y_train,y_test = train_test_split(X,y,random_state=6) "
   ]
  },
  {
   "cell_type": "code",
   "execution_count": 259,
   "id": "fcc5098d",
   "metadata": {},
   "outputs": [],
   "source": [
    "feature_list = list(X.columns)"
   ]
  },
  {
   "cell_type": "code",
   "execution_count": 181,
   "id": "ee74daf9",
   "metadata": {},
   "outputs": [
    {
     "name": "stdout",
     "output_type": "stream",
     "text": [
      "Training Features Shape: (27733, 10)\n",
      "Training Labels Shape: (27733,)\n",
      "Testing Features Shape: (9245, 10)\n",
      "Testing Labels Shape: (9245,)\n"
     ]
    }
   ],
   "source": [
    "## Describe the training and test shape\n",
    "print('Training Features Shape:', X_train.shape)\n",
    "print('Training Labels Shape:', y_train.shape)\n",
    "print('Testing Features Shape:', X_test.shape)\n",
    "print('Testing Labels Shape:', y_test.shape)"
   ]
  },
  {
   "cell_type": "markdown",
   "id": "168820ba",
   "metadata": {},
   "source": [
    "### Ridge Regression"
   ]
  },
  {
   "cell_type": "code",
   "execution_count": 118,
   "id": "c8b68179",
   "metadata": {},
   "outputs": [
    {
     "data": {
      "text/plain": [
       "GridSearchCV(cv=5, estimator=Ridge(), n_jobs=-1,\n",
       "             param_grid={'alpha': [0.0001, 0.001, 0.01, 0.1, 1, 10, 100, 1000,\n",
       "                                   10000, 100000]},\n",
       "             scoring='neg_mean_absolute_error')"
      ]
     },
     "execution_count": 118,
     "metadata": {},
     "output_type": "execute_result"
    }
   ],
   "source": [
    "params = {'alpha' : [0.0001, 0.001, 0.01, 0.1, 1, 10, 100, 1000, 10000, 100000]}\n",
    "ridge_regressor = GridSearchCV(Ridge(), params, cv = 5, \n",
    "                               scoring = 'neg_mean_absolute_error',\n",
    "                               n_jobs = -1)\n",
    "ridge_regressor.fit(X_train, y_train)"
   ]
  },
  {
   "cell_type": "code",
   "execution_count": 156,
   "id": "7cdaf49a",
   "metadata": {},
   "outputs": [
    {
     "data": {
      "text/html": [
       "<div>\n",
       "<style scoped>\n",
       "    .dataframe tbody tr th:only-of-type {\n",
       "        vertical-align: middle;\n",
       "    }\n",
       "\n",
       "    .dataframe tbody tr th {\n",
       "        vertical-align: top;\n",
       "    }\n",
       "\n",
       "    .dataframe thead th {\n",
       "        text-align: right;\n",
       "    }\n",
       "</style>\n",
       "<table border=\"1\" class=\"dataframe\">\n",
       "  <thead>\n",
       "    <tr style=\"text-align: right;\">\n",
       "      <th></th>\n",
       "      <th>senlength_derived</th>\n",
       "      <th>ridge</th>\n",
       "    </tr>\n",
       "  </thead>\n",
       "  <tbody>\n",
       "    <tr>\n",
       "      <th>0</th>\n",
       "      <td>1.5</td>\n",
       "      <td>1.838394</td>\n",
       "    </tr>\n",
       "    <tr>\n",
       "      <th>1</th>\n",
       "      <td>2.0</td>\n",
       "      <td>3.002735</td>\n",
       "    </tr>\n",
       "    <tr>\n",
       "      <th>2</th>\n",
       "      <td>1.0</td>\n",
       "      <td>2.822862</td>\n",
       "    </tr>\n",
       "    <tr>\n",
       "      <th>3</th>\n",
       "      <td>1.0</td>\n",
       "      <td>2.866395</td>\n",
       "    </tr>\n",
       "    <tr>\n",
       "      <th>4</th>\n",
       "      <td>1.0</td>\n",
       "      <td>2.937738</td>\n",
       "    </tr>\n",
       "  </tbody>\n",
       "</table>\n",
       "</div>"
      ],
      "text/plain": [
       "   senlength_derived     ridge\n",
       "0                1.5  1.838394\n",
       "1                2.0  3.002735\n",
       "2                1.0  2.822862\n",
       "3                1.0  2.866395\n",
       "4                1.0  2.937738"
      ]
     },
     "execution_count": 156,
     "metadata": {},
     "output_type": "execute_result"
    }
   ],
   "source": [
    "## The predict value of test dataset\n",
    "y_train_pred = ridge_regressor.predict(X_train)\n",
    "y_test_pred = ridge_regressor.predict(X_test)\n",
    "y_pre_df_ridge = pd.DataFrame(y_test_pred)\n",
    "y_test_df = y_test.reset_index().drop(columns=['index'])\n",
    "y_pre_df_ridge.columns = ['ridge']\n",
    "pd.concat([y_test_df, y_pre_df_ridge],axis=1).head()"
   ]
  },
  {
   "cell_type": "code",
   "execution_count": 125,
   "id": "da27a449",
   "metadata": {},
   "outputs": [
    {
     "name": "stdout",
     "output_type": "stream",
     "text": [
      "Train Results for Ridge Regressor Model:\n",
      "Root Mean Squared Error:  2.8164648506113035\n",
      "R-Squared:  0.05040277086826339\n"
     ]
    }
   ],
   "source": [
    "## The result of train dataset\n",
    "print(\"Train Results for Ridge Regressor Model:\")\n",
    "print(\"Root Mean Squared Error: \", sqrt(mse(y_train.values, y_train_pred)))\n",
    "print(\"R-Squared: \", r2_score(y_train.values, y_train_pred))"
   ]
  },
  {
   "cell_type": "code",
   "execution_count": null,
   "id": "31515f78",
   "metadata": {},
   "outputs": [],
   "source": [
    "## The result of test dataset\n",
    "print(\"Test Results for Ridge Regressor Model:\")\n",
    "print(\"Root Mean Squared Error: \", sqrt(mse(y_test, y_test_pred)))\n",
    "print(\"R-Squared: \", r2_score(y_test, y_test_pred))"
   ]
  },
  {
   "cell_type": "markdown",
   "id": "e744a34b",
   "metadata": {},
   "source": [
    "### Lasso Model"
   ]
  },
  {
   "cell_type": "code",
   "execution_count": 147,
   "id": "2ed9ce91",
   "metadata": {},
   "outputs": [
    {
     "data": {
      "text/plain": [
       "GridSearchCV(cv=15, estimator=Lasso(), n_jobs=-1,\n",
       "             param_grid={'alpha': [0.0001, 0.001, 0.01, 0.1, 1, 10, 100, 1000,\n",
       "                                   10000, 100000]},\n",
       "             scoring='neg_mean_absolute_error')"
      ]
     },
     "execution_count": 147,
     "metadata": {},
     "output_type": "execute_result"
    }
   ],
   "source": [
    "from sklearn.linear_model import Lasso\n",
    "params = {'alpha' : [0.0001, 0.001, 0.01, 0.1, 1, 10, 100, 1000, 10000, 100000]}\n",
    "lasso_regressor = GridSearchCV(Lasso(), params , cv = 15,\n",
    "                               scoring = 'neg_mean_absolute_error', \n",
    "                               n_jobs = -1)\n",
    "lasso_regressor.fit(X_train, y_train)"
   ]
  },
  {
   "cell_type": "code",
   "execution_count": 213,
   "id": "a75189c9",
   "metadata": {},
   "outputs": [
    {
     "data": {
      "text/html": [
       "<div>\n",
       "<style scoped>\n",
       "    .dataframe tbody tr th:only-of-type {\n",
       "        vertical-align: middle;\n",
       "    }\n",
       "\n",
       "    .dataframe tbody tr th {\n",
       "        vertical-align: top;\n",
       "    }\n",
       "\n",
       "    .dataframe thead th {\n",
       "        text-align: right;\n",
       "    }\n",
       "</style>\n",
       "<table border=\"1\" class=\"dataframe\">\n",
       "  <thead>\n",
       "    <tr style=\"text-align: right;\">\n",
       "      <th></th>\n",
       "      <th>senlength_derived</th>\n",
       "      <th>lasso</th>\n",
       "    </tr>\n",
       "  </thead>\n",
       "  <tbody>\n",
       "    <tr>\n",
       "      <th>0</th>\n",
       "      <td>1.5</td>\n",
       "      <td>2.023137</td>\n",
       "    </tr>\n",
       "    <tr>\n",
       "      <th>1</th>\n",
       "      <td>2.0</td>\n",
       "      <td>2.848288</td>\n",
       "    </tr>\n",
       "    <tr>\n",
       "      <th>2</th>\n",
       "      <td>1.0</td>\n",
       "      <td>2.848288</td>\n",
       "    </tr>\n",
       "    <tr>\n",
       "      <th>3</th>\n",
       "      <td>1.0</td>\n",
       "      <td>2.848288</td>\n",
       "    </tr>\n",
       "    <tr>\n",
       "      <th>4</th>\n",
       "      <td>1.0</td>\n",
       "      <td>2.848288</td>\n",
       "    </tr>\n",
       "  </tbody>\n",
       "</table>\n",
       "</div>"
      ],
      "text/plain": [
       "   senlength_derived     lasso\n",
       "0                1.5  2.023137\n",
       "1                2.0  2.848288\n",
       "2                1.0  2.848288\n",
       "3                1.0  2.848288\n",
       "4                1.0  2.848288"
      ]
     },
     "execution_count": 213,
     "metadata": {},
     "output_type": "execute_result"
    }
   ],
   "source": [
    "y_train_pred = lasso_regressor.predict(X_train)\n",
    "y_test_pred = lasso_regressor.predict(X_test)\n",
    "y_pre_df_lasso = pd.DataFrame(y_test_pred)\n",
    "y_test_df = y_test.reset_index().drop(columns=['index'])\n",
    "y_pre_df_lasso.columns = ['lasso']\n",
    "pd.concat([y_test_df, y_pre_df_lasso],axis=1).head()"
   ]
  },
  {
   "cell_type": "code",
   "execution_count": 214,
   "id": "e8ac5d42",
   "metadata": {},
   "outputs": [
    {
     "name": "stdout",
     "output_type": "stream",
     "text": [
      "Train Results for Lasso Regressor Model:\n",
      "Root Mean Squared Error:  2.831860527558309\n",
      "R-Squared:  0.039992806001035164\n"
     ]
    }
   ],
   "source": [
    "## The result of train dataset\n",
    "print(\"Train Results for Lasso Regressor Model:\")\n",
    "print(\"Root Mean Squared Error: \", sqrt(mse(y_train.values, y_train_pred)))\n",
    "print(\"R-Squared: \", r2_score(y_train.values, y_train_pred))"
   ]
  },
  {
   "cell_type": "code",
   "execution_count": 215,
   "id": "d49b67d9",
   "metadata": {},
   "outputs": [
    {
     "name": "stdout",
     "output_type": "stream",
     "text": [
      "Test Results for Lasso Regressor Model:\n",
      "Root Mean Squared Error:  4.7258543500189285\n",
      "R-Squared:  0.016366983205232888\n"
     ]
    }
   ],
   "source": [
    "## The result of test dataset\n",
    "print(\"Test Results for Lasso Regressor Model:\")\n",
    "print(\"Root Mean Squared Error: \", sqrt(mse(y_test, y_test_pred)))\n",
    "print(\"R-Squared: \", r2_score(y_test, y_test_pred))"
   ]
  },
  {
   "cell_type": "markdown",
   "id": "a1342e03",
   "metadata": {},
   "source": [
    "### ElasticNet Model"
   ]
  },
  {
   "cell_type": "code",
   "execution_count": 169,
   "id": "b261f31d",
   "metadata": {},
   "outputs": [
    {
     "data": {
      "text/plain": [
       "GridSearchCV(cv=15, estimator=ElasticNet(), n_jobs=-1,\n",
       "             param_grid={'alpha': [0.0001, 0.001, 0.01, 0.1, 1, 10, 100, 1000,\n",
       "                                   10000, 100000]},\n",
       "             scoring='neg_mean_absolute_error')"
      ]
     },
     "execution_count": 169,
     "metadata": {},
     "output_type": "execute_result"
    }
   ],
   "source": [
    "from sklearn.linear_model import ElasticNet\n",
    "params = {'alpha' : [0.0001, 0.001, 0.01, 0.1, 1, 10, 100, 1000, 10000, 100000]}\n",
    "elastic_regressor = GridSearchCV(ElasticNet(), params, cv = 15, \n",
    "                               scoring = 'neg_mean_absolute_error',\n",
    "                               n_jobs = -1)\n",
    "elastic_regressor.fit(X_train, y_train)"
   ]
  },
  {
   "cell_type": "code",
   "execution_count": 207,
   "id": "117d9b93",
   "metadata": {},
   "outputs": [
    {
     "data": {
      "text/html": [
       "<div>\n",
       "<style scoped>\n",
       "    .dataframe tbody tr th:only-of-type {\n",
       "        vertical-align: middle;\n",
       "    }\n",
       "\n",
       "    .dataframe tbody tr th {\n",
       "        vertical-align: top;\n",
       "    }\n",
       "\n",
       "    .dataframe thead th {\n",
       "        text-align: right;\n",
       "    }\n",
       "</style>\n",
       "<table border=\"1\" class=\"dataframe\">\n",
       "  <thead>\n",
       "    <tr style=\"text-align: right;\">\n",
       "      <th></th>\n",
       "      <th>senlength_derived</th>\n",
       "      <th>elastic</th>\n",
       "    </tr>\n",
       "  </thead>\n",
       "  <tbody>\n",
       "    <tr>\n",
       "      <th>0</th>\n",
       "      <td>1.5</td>\n",
       "      <td>2.012676</td>\n",
       "    </tr>\n",
       "    <tr>\n",
       "      <th>1</th>\n",
       "      <td>2.0</td>\n",
       "      <td>2.867361</td>\n",
       "    </tr>\n",
       "    <tr>\n",
       "      <th>2</th>\n",
       "      <td>1.0</td>\n",
       "      <td>2.855766</td>\n",
       "    </tr>\n",
       "    <tr>\n",
       "      <th>3</th>\n",
       "      <td>1.0</td>\n",
       "      <td>2.855766</td>\n",
       "    </tr>\n",
       "    <tr>\n",
       "      <th>4</th>\n",
       "      <td>1.0</td>\n",
       "      <td>2.864462</td>\n",
       "    </tr>\n",
       "  </tbody>\n",
       "</table>\n",
       "</div>"
      ],
      "text/plain": [
       "   senlength_derived   elastic\n",
       "0                1.5  2.012676\n",
       "1                2.0  2.867361\n",
       "2                1.0  2.855766\n",
       "3                1.0  2.855766\n",
       "4                1.0  2.864462"
      ]
     },
     "execution_count": 207,
     "metadata": {},
     "output_type": "execute_result"
    }
   ],
   "source": [
    "y_train_pred = elastic_regressor.predict(X_train)\n",
    "y_test_pred = elastic_regressor.predict(X_test)\n",
    "y_pre_df_elastic = pd.DataFrame(y_test_pred)\n",
    "y_test_df = y_test.reset_index().drop(columns=['index'])\n",
    "y_pre_df_elastic.columns = ['elastic']\n",
    "pd.concat([y_test_df, y_pre_df_elastic],axis=1).head()"
   ]
  },
  {
   "cell_type": "code",
   "execution_count": 208,
   "id": "ce8d7b8b",
   "metadata": {},
   "outputs": [
    {
     "name": "stdout",
     "output_type": "stream",
     "text": [
      "Train Results for ElasticNet Regressor Model:\n",
      "Root Mean Squared Error:  2.830818848166204\n",
      "R-Squared:  0.04069893949562353\n"
     ]
    }
   ],
   "source": [
    "## The result of train dataset\n",
    "print(\"Train Results for ElasticNet Regressor Model:\")\n",
    "print(\"Root Mean Squared Error: \", sqrt(mse(y_train.values, y_train_pred)))\n",
    "print(\"R-Squared: \", r2_score(y_train.values, y_train_pred))"
   ]
  },
  {
   "cell_type": "code",
   "execution_count": 209,
   "id": "02085340",
   "metadata": {},
   "outputs": [
    {
     "name": "stdout",
     "output_type": "stream",
     "text": [
      "Test Results for ElasticNet Regressor Model:\n",
      "Root Mean Squared Error:  4.72501160406027\n",
      "R-Squared:  0.016717767963338903\n"
     ]
    }
   ],
   "source": [
    "## The result of test dataset\n",
    "print(\"Test Results for ElasticNet Regressor Model:\")\n",
    "print(\"Root Mean Squared Error: \", sqrt(mse(y_test, y_test_pred)))\n",
    "print(\"R-Squared: \", r2_score(y_test, y_test_pred))"
   ]
  },
  {
   "cell_type": "markdown",
   "id": "1f1f15ae",
   "metadata": {},
   "source": [
    "### KNN Model"
   ]
  },
  {
   "cell_type": "code",
   "execution_count": 201,
   "id": "f1292626",
   "metadata": {},
   "outputs": [
    {
     "data": {
      "text/plain": [
       "GridSearchCV(cv=10, estimator=KNeighborsRegressor(),\n",
       "             param_grid=[{'n_neighbors': [1, 2, 3, 4, 5, 6, 7, 8, 9, 10, 11, 12,\n",
       "                                          13, 14, 15, 16, 17, 18, 19, 20, 21,\n",
       "                                          22, 23, 24, 25, 26, 27, 28, 29, 30],\n",
       "                          'weights': ['uniform']},\n",
       "                         {'n_neighbors': [1, 2, 3, 4, 5, 6, 7, 8, 9, 10, 11, 12,\n",
       "                                          13, 14, 15, 16, 17, 18, 19, 20, 21,\n",
       "                                          22, 23, 24, 25, 26, 27, 28, 29, 30],\n",
       "                          'p': [1, 2, 3, 4, 5], 'weights': ['distance']}])"
      ]
     },
     "execution_count": 201,
     "metadata": {},
     "output_type": "execute_result"
    }
   ],
   "source": [
    "param_grid = [\n",
    "    {\n",
    "        'weights':['uniform'],\n",
    "        'n_neighbors':[i for i in range(1,31)]\n",
    "    },\n",
    "    {\n",
    "        'weights':['distance'],\n",
    "        'n_neighbors':[i for i in range(1,31)],\n",
    "        'p':[i for i in range(1,6)]\n",
    "    }\n",
    "]\n",
    "from sklearn.neighbors import KNeighborsRegressor\n",
    "knn = GridSearchCV(KNeighborsRegressor(), param_grid, cv = 10)\n",
    "knn.fit(X_train,y_train)"
   ]
  },
  {
   "cell_type": "code",
   "execution_count": 202,
   "id": "22a9b4c1",
   "metadata": {},
   "outputs": [
    {
     "data": {
      "text/html": [
       "<div>\n",
       "<style scoped>\n",
       "    .dataframe tbody tr th:only-of-type {\n",
       "        vertical-align: middle;\n",
       "    }\n",
       "\n",
       "    .dataframe tbody tr th {\n",
       "        vertical-align: top;\n",
       "    }\n",
       "\n",
       "    .dataframe thead th {\n",
       "        text-align: right;\n",
       "    }\n",
       "</style>\n",
       "<table border=\"1\" class=\"dataframe\">\n",
       "  <thead>\n",
       "    <tr style=\"text-align: right;\">\n",
       "      <th></th>\n",
       "      <th>senlength_derived</th>\n",
       "      <th>knn</th>\n",
       "    </tr>\n",
       "  </thead>\n",
       "  <tbody>\n",
       "    <tr>\n",
       "      <th>0</th>\n",
       "      <td>1.5</td>\n",
       "      <td>1.579269</td>\n",
       "    </tr>\n",
       "    <tr>\n",
       "      <th>1</th>\n",
       "      <td>2.0</td>\n",
       "      <td>2.700000</td>\n",
       "    </tr>\n",
       "    <tr>\n",
       "      <th>2</th>\n",
       "      <td>1.0</td>\n",
       "      <td>2.583333</td>\n",
       "    </tr>\n",
       "    <tr>\n",
       "      <th>3</th>\n",
       "      <td>1.0</td>\n",
       "      <td>2.605556</td>\n",
       "    </tr>\n",
       "    <tr>\n",
       "      <th>4</th>\n",
       "      <td>1.0</td>\n",
       "      <td>2.808333</td>\n",
       "    </tr>\n",
       "  </tbody>\n",
       "</table>\n",
       "</div>"
      ],
      "text/plain": [
       "   senlength_derived       knn\n",
       "0                1.5  1.579269\n",
       "1                2.0  2.700000\n",
       "2                1.0  2.583333\n",
       "3                1.0  2.605556\n",
       "4                1.0  2.808333"
      ]
     },
     "execution_count": 202,
     "metadata": {},
     "output_type": "execute_result"
    }
   ],
   "source": [
    "y_train_pred = knn.predict(X_train)\n",
    "y_test_pred = knn.predict(X_test)\n",
    "y_pre_df_knn = pd.DataFrame(y_test_pred)\n",
    "y_test_df = y_test.reset_index().drop(columns=['index'])\n",
    "y_pre_df_knn.columns = ['knn']\n",
    "pd.concat([y_test_df, y_pre_df_knn],axis=1).head()"
   ]
  },
  {
   "cell_type": "code",
   "execution_count": 206,
   "id": "4d3ee517",
   "metadata": {},
   "outputs": [
    {
     "name": "stdout",
     "output_type": "stream",
     "text": [
      "Train Results for KNN Regressor Model:\n",
      "Root Mean Squared Error:  2.8079041250147054\n",
      "R-Squared:  0.05616665375372609\n"
     ]
    }
   ],
   "source": [
    "## The result of train dataset\n",
    "print(\"Train Results for KNN Regressor Model:\")\n",
    "print(\"Root Mean Squared Error: \", sqrt(mse(y_train.values, y_train_pred)))\n",
    "print(\"R-Squared: \", r2_score(y_train.values, y_train_pred))"
   ]
  },
  {
   "cell_type": "code",
   "execution_count": 205,
   "id": "f58329dd",
   "metadata": {},
   "outputs": [
    {
     "name": "stdout",
     "output_type": "stream",
     "text": [
      "Test Results for KNN Regressor Model:\n",
      "Root Mean Squared Error:  4.729948446817644\n",
      "R-Squared:  0.014661965293855217\n"
     ]
    }
   ],
   "source": [
    "## The result of test dataset\n",
    "print(\"Test Results for KNN Regressor Model:\")\n",
    "print(\"Root Mean Squared Error: \", sqrt(mse(y_test, y_test_pred)))\n",
    "print(\"R-Squared: \", r2_score(y_test, y_test_pred))"
   ]
  },
  {
   "cell_type": "markdown",
   "id": "953f787e",
   "metadata": {},
   "source": [
    "### Decision Tree"
   ]
  },
  {
   "cell_type": "code",
   "execution_count": 191,
   "id": "70006770",
   "metadata": {},
   "outputs": [
    {
     "data": {
      "text/plain": [
       "GridSearchCV(cv=10, estimator=DecisionTreeRegressor(),\n",
       "             param_grid=[{'max_features': ['auto', 'sqrt', 'log2'],\n",
       "                          'min_samples_leaf': [1, 2, 3, 4, 5, 6, 7, 8, 9, 10,\n",
       "                                               11],\n",
       "                          'min_samples_split': [2, 3, 4, 5, 6, 7, 8, 9, 10, 11,\n",
       "                                                12, 13, 14, 15, 16, 17, 18]}])"
      ]
     },
     "execution_count": 191,
     "metadata": {},
     "output_type": "execute_result"
    }
   ],
   "source": [
    "param_grid = [\n",
    "    {\n",
    "        'max_features':['auto','sqrt','log2'],\n",
    "        'min_samples_split':[2,3,4,5,6,7,8,9,10,11,12,13,14,15,16,17,18],\n",
    "        'min_samples_leaf':[1,2,3,4,5,6,7,8,9,10,11]\n",
    "    }\n",
    "]\n",
    "from sklearn.tree import DecisionTreeRegressor\n",
    "tree = GridSearchCV(DecisionTreeRegressor(), param_grid, cv = 10)\n",
    "tree.fit(X_train,y_train)"
   ]
  },
  {
   "cell_type": "code",
   "execution_count": 210,
   "id": "ca5e181a",
   "metadata": {},
   "outputs": [
    {
     "data": {
      "text/html": [
       "<div>\n",
       "<style scoped>\n",
       "    .dataframe tbody tr th:only-of-type {\n",
       "        vertical-align: middle;\n",
       "    }\n",
       "\n",
       "    .dataframe tbody tr th {\n",
       "        vertical-align: top;\n",
       "    }\n",
       "\n",
       "    .dataframe thead th {\n",
       "        text-align: right;\n",
       "    }\n",
       "</style>\n",
       "<table border=\"1\" class=\"dataframe\">\n",
       "  <thead>\n",
       "    <tr style=\"text-align: right;\">\n",
       "      <th></th>\n",
       "      <th>senlength_derived</th>\n",
       "      <th>decisiontree</th>\n",
       "    </tr>\n",
       "  </thead>\n",
       "  <tbody>\n",
       "    <tr>\n",
       "      <th>0</th>\n",
       "      <td>1.5</td>\n",
       "      <td>1.571946</td>\n",
       "    </tr>\n",
       "    <tr>\n",
       "      <th>1</th>\n",
       "      <td>2.0</td>\n",
       "      <td>2.768373</td>\n",
       "    </tr>\n",
       "    <tr>\n",
       "      <th>2</th>\n",
       "      <td>1.0</td>\n",
       "      <td>2.543086</td>\n",
       "    </tr>\n",
       "    <tr>\n",
       "      <th>3</th>\n",
       "      <td>1.0</td>\n",
       "      <td>3.752604</td>\n",
       "    </tr>\n",
       "    <tr>\n",
       "      <th>4</th>\n",
       "      <td>1.0</td>\n",
       "      <td>2.720181</td>\n",
       "    </tr>\n",
       "  </tbody>\n",
       "</table>\n",
       "</div>"
      ],
      "text/plain": [
       "   senlength_derived  decisiontree\n",
       "0                1.5      1.571946\n",
       "1                2.0      2.768373\n",
       "2                1.0      2.543086\n",
       "3                1.0      3.752604\n",
       "4                1.0      2.720181"
      ]
     },
     "execution_count": 210,
     "metadata": {},
     "output_type": "execute_result"
    }
   ],
   "source": [
    "y_train_pred = tree.predict(X_train)\n",
    "y_test_pred = tree.predict(X_test)\n",
    "y_pre_df_decisiontree = pd.DataFrame(y_test_pred)\n",
    "y_test_df = y_test.reset_index().drop(columns=['index'])\n",
    "y_pre_df_decisiontree.columns = ['decisiontree']\n",
    "pd.concat([y_test_df, y_pre_df_decisiontree],axis=1).head()"
   ]
  },
  {
   "cell_type": "code",
   "execution_count": 211,
   "id": "64af2776",
   "metadata": {},
   "outputs": [
    {
     "name": "stdout",
     "output_type": "stream",
     "text": [
      "Train Results for Decision Tree Regressor Model:\n",
      "Root Mean Squared Error:  2.783343484941888\n",
      "R-Squared:  0.07260579676974344\n"
     ]
    }
   ],
   "source": [
    "## The result of train dataset\n",
    "print(\"Train Results for Decision Tree Regressor Model:\")\n",
    "print(\"Root Mean Squared Error: \", sqrt(mse(y_train.values, y_train_pred)))\n",
    "print(\"R-Squared: \", r2_score(y_train.values, y_train_pred))"
   ]
  },
  {
   "cell_type": "code",
   "execution_count": 212,
   "id": "2d1161fd",
   "metadata": {},
   "outputs": [
    {
     "name": "stdout",
     "output_type": "stream",
     "text": [
      "Test Results for Decision Tree Regressor Model:\n",
      "Root Mean Squared Error:  4.708955759053349\n",
      "R-Squared:  0.023388906648567076\n"
     ]
    }
   ],
   "source": [
    "## The result of test dataset\n",
    "print(\"Test Results for Decision Tree Regressor Model:\")\n",
    "print(\"Root Mean Squared Error: \", sqrt(mse(y_test, y_test_pred)))\n",
    "print(\"R-Squared: \", r2_score(y_test, y_test_pred))"
   ]
  },
  {
   "cell_type": "markdown",
   "id": "1bb2b6e0",
   "metadata": {},
   "source": [
    "### Random Forest Model"
   ]
  },
  {
   "cell_type": "code",
   "execution_count": 222,
   "id": "27418082",
   "metadata": {},
   "outputs": [
    {
     "data": {
      "text/plain": [
       "GridSearchCV(cv=10, estimator=RandomForestRegressor(),\n",
       "             param_grid={'max_depth': [1, 2, 3, 4],\n",
       "                         'n_estimators': [100, 150, 200, 250, 300]})"
      ]
     },
     "execution_count": 222,
     "metadata": {},
     "output_type": "execute_result"
    }
   ],
   "source": [
    "from sklearn.ensemble import RandomForestRegressor\n",
    "param_grid = {\n",
    "    'n_estimators': [100, 150, 200, 250, 300],\n",
    "    'max_depth': [1,2,3,4],\n",
    "}\n",
    "forest = GridSearchCV(RandomForestRegressor(), param_grid, cv=10)\n",
    "forest.fit(X_train,y_train)"
   ]
  },
  {
   "cell_type": "code",
   "execution_count": 224,
   "id": "21f0e4a5",
   "metadata": {},
   "outputs": [
    {
     "data": {
      "text/html": [
       "<div>\n",
       "<style scoped>\n",
       "    .dataframe tbody tr th:only-of-type {\n",
       "        vertical-align: middle;\n",
       "    }\n",
       "\n",
       "    .dataframe tbody tr th {\n",
       "        vertical-align: top;\n",
       "    }\n",
       "\n",
       "    .dataframe thead th {\n",
       "        text-align: right;\n",
       "    }\n",
       "</style>\n",
       "<table border=\"1\" class=\"dataframe\">\n",
       "  <thead>\n",
       "    <tr style=\"text-align: right;\">\n",
       "      <th></th>\n",
       "      <th>senlength_derived</th>\n",
       "      <th>randomforest</th>\n",
       "    </tr>\n",
       "  </thead>\n",
       "  <tbody>\n",
       "    <tr>\n",
       "      <th>0</th>\n",
       "      <td>1.5</td>\n",
       "      <td>1.714895</td>\n",
       "    </tr>\n",
       "    <tr>\n",
       "      <th>1</th>\n",
       "      <td>2.0</td>\n",
       "      <td>3.176130</td>\n",
       "    </tr>\n",
       "    <tr>\n",
       "      <th>2</th>\n",
       "      <td>1.0</td>\n",
       "      <td>2.910035</td>\n",
       "    </tr>\n",
       "    <tr>\n",
       "      <th>3</th>\n",
       "      <td>1.0</td>\n",
       "      <td>3.192925</td>\n",
       "    </tr>\n",
       "    <tr>\n",
       "      <th>4</th>\n",
       "      <td>1.0</td>\n",
       "      <td>2.647177</td>\n",
       "    </tr>\n",
       "  </tbody>\n",
       "</table>\n",
       "</div>"
      ],
      "text/plain": [
       "   senlength_derived  randomforest\n",
       "0                1.5      1.714895\n",
       "1                2.0      3.176130\n",
       "2                1.0      2.910035\n",
       "3                1.0      3.192925\n",
       "4                1.0      2.647177"
      ]
     },
     "execution_count": 224,
     "metadata": {},
     "output_type": "execute_result"
    }
   ],
   "source": [
    "y_train_pred = forest.predict(X_train)\n",
    "y_test_pred = forest.predict(X_test)\n",
    "y_pre_df_randomforest = pd.DataFrame(y_test_pred)\n",
    "y_test_df = y_test.reset_index().drop(columns=['index'])\n",
    "y_pre_df_randomforest.columns = ['randomforest']\n",
    "pd.concat([y_test_df, y_pre_df_randomforest],axis=1).head()"
   ]
  },
  {
   "cell_type": "code",
   "execution_count": 225,
   "id": "35350de0",
   "metadata": {},
   "outputs": [
    {
     "name": "stdout",
     "output_type": "stream",
     "text": [
      "Train Results for Random Forest Regressor Model:\n",
      "Root Mean Squared Error:  2.7957662334027353\n",
      "R-Squared:  0.06430894442253987\n"
     ]
    }
   ],
   "source": [
    "## The result of train dataset\n",
    "print(\"Train Results for Random Forest Regressor Model:\")\n",
    "print(\"Root Mean Squared Error: \", sqrt(mse(y_train.values, y_train_pred)))\n",
    "print(\"R-Squared: \", r2_score(y_train.values, y_train_pred))"
   ]
  },
  {
   "cell_type": "code",
   "execution_count": 226,
   "id": "ec521b77",
   "metadata": {},
   "outputs": [
    {
     "name": "stdout",
     "output_type": "stream",
     "text": [
      "Test Results for Random Forest Regressor Model:\n",
      "Root Mean Squared Error:  4.708151661072128\n",
      "R-Squared:  0.023722409021878277\n"
     ]
    }
   ],
   "source": [
    "## The result of test dataset\n",
    "print(\"Test Results for Random Forest Regressor Model:\")\n",
    "print(\"Root Mean Squared Error: \", sqrt(mse(y_test, y_test_pred)))\n",
    "print(\"R-Squared: \", r2_score(y_test, y_test_pred))"
   ]
  },
  {
   "cell_type": "markdown",
   "id": "3538bb1e",
   "metadata": {},
   "source": [
    "### Compare the predict results"
   ]
  },
  {
   "cell_type": "code",
   "execution_count": 227,
   "id": "c63d5a83",
   "metadata": {},
   "outputs": [
    {
     "data": {
      "text/html": [
       "<div>\n",
       "<style scoped>\n",
       "    .dataframe tbody tr th:only-of-type {\n",
       "        vertical-align: middle;\n",
       "    }\n",
       "\n",
       "    .dataframe tbody tr th {\n",
       "        vertical-align: top;\n",
       "    }\n",
       "\n",
       "    .dataframe thead th {\n",
       "        text-align: right;\n",
       "    }\n",
       "</style>\n",
       "<table border=\"1\" class=\"dataframe\">\n",
       "  <thead>\n",
       "    <tr style=\"text-align: right;\">\n",
       "      <th></th>\n",
       "      <th>senlength_derived</th>\n",
       "      <th>ridge</th>\n",
       "      <th>lasso</th>\n",
       "      <th>elastic</th>\n",
       "      <th>knn</th>\n",
       "      <th>decisiontree</th>\n",
       "      <th>randomforest</th>\n",
       "    </tr>\n",
       "  </thead>\n",
       "  <tbody>\n",
       "    <tr>\n",
       "      <th>0</th>\n",
       "      <td>1.5</td>\n",
       "      <td>1.838394</td>\n",
       "      <td>2.023137</td>\n",
       "      <td>2.012676</td>\n",
       "      <td>1.579269</td>\n",
       "      <td>1.571946</td>\n",
       "      <td>1.714895</td>\n",
       "    </tr>\n",
       "    <tr>\n",
       "      <th>1</th>\n",
       "      <td>2.0</td>\n",
       "      <td>3.002735</td>\n",
       "      <td>2.848288</td>\n",
       "      <td>2.867361</td>\n",
       "      <td>2.700000</td>\n",
       "      <td>2.768373</td>\n",
       "      <td>3.176130</td>\n",
       "    </tr>\n",
       "    <tr>\n",
       "      <th>2</th>\n",
       "      <td>1.0</td>\n",
       "      <td>2.822862</td>\n",
       "      <td>2.848288</td>\n",
       "      <td>2.855766</td>\n",
       "      <td>2.583333</td>\n",
       "      <td>2.543086</td>\n",
       "      <td>2.910035</td>\n",
       "    </tr>\n",
       "    <tr>\n",
       "      <th>3</th>\n",
       "      <td>1.0</td>\n",
       "      <td>2.866395</td>\n",
       "      <td>2.848288</td>\n",
       "      <td>2.855766</td>\n",
       "      <td>2.605556</td>\n",
       "      <td>3.752604</td>\n",
       "      <td>3.192925</td>\n",
       "    </tr>\n",
       "    <tr>\n",
       "      <th>4</th>\n",
       "      <td>1.0</td>\n",
       "      <td>2.937738</td>\n",
       "      <td>2.848288</td>\n",
       "      <td>2.864462</td>\n",
       "      <td>2.808333</td>\n",
       "      <td>2.720181</td>\n",
       "      <td>2.647177</td>\n",
       "    </tr>\n",
       "    <tr>\n",
       "      <th>5</th>\n",
       "      <td>2.0</td>\n",
       "      <td>1.820758</td>\n",
       "      <td>2.023137</td>\n",
       "      <td>2.006879</td>\n",
       "      <td>1.950000</td>\n",
       "      <td>1.913886</td>\n",
       "      <td>1.814838</td>\n",
       "    </tr>\n",
       "    <tr>\n",
       "      <th>6</th>\n",
       "      <td>2.0</td>\n",
       "      <td>1.954355</td>\n",
       "      <td>2.023137</td>\n",
       "      <td>1.993834</td>\n",
       "      <td>1.764155</td>\n",
       "      <td>1.845303</td>\n",
       "      <td>1.873833</td>\n",
       "    </tr>\n",
       "    <tr>\n",
       "      <th>7</th>\n",
       "      <td>6.0</td>\n",
       "      <td>2.834770</td>\n",
       "      <td>2.848288</td>\n",
       "      <td>2.864462</td>\n",
       "      <td>2.566667</td>\n",
       "      <td>2.636782</td>\n",
       "      <td>2.644773</td>\n",
       "    </tr>\n",
       "    <tr>\n",
       "      <th>8</th>\n",
       "      <td>1.0</td>\n",
       "      <td>2.970329</td>\n",
       "      <td>2.848288</td>\n",
       "      <td>2.852867</td>\n",
       "      <td>3.858333</td>\n",
       "      <td>3.135373</td>\n",
       "      <td>3.277132</td>\n",
       "    </tr>\n",
       "    <tr>\n",
       "      <th>9</th>\n",
       "      <td>1.5</td>\n",
       "      <td>2.979230</td>\n",
       "      <td>2.848288</td>\n",
       "      <td>2.858664</td>\n",
       "      <td>3.616667</td>\n",
       "      <td>3.135373</td>\n",
       "      <td>3.191120</td>\n",
       "    </tr>\n",
       "    <tr>\n",
       "      <th>10</th>\n",
       "      <td>3.5</td>\n",
       "      <td>2.834770</td>\n",
       "      <td>2.848288</td>\n",
       "      <td>2.864462</td>\n",
       "      <td>2.566667</td>\n",
       "      <td>2.636782</td>\n",
       "      <td>2.644773</td>\n",
       "    </tr>\n",
       "    <tr>\n",
       "      <th>11</th>\n",
       "      <td>3.0</td>\n",
       "      <td>2.937738</td>\n",
       "      <td>2.848288</td>\n",
       "      <td>2.864462</td>\n",
       "      <td>2.808333</td>\n",
       "      <td>2.720181</td>\n",
       "      <td>2.647177</td>\n",
       "    </tr>\n",
       "    <tr>\n",
       "      <th>12</th>\n",
       "      <td>2.0</td>\n",
       "      <td>1.919490</td>\n",
       "      <td>2.023137</td>\n",
       "      <td>2.006879</td>\n",
       "      <td>1.891849</td>\n",
       "      <td>1.745200</td>\n",
       "      <td>1.776338</td>\n",
       "    </tr>\n",
       "    <tr>\n",
       "      <th>13</th>\n",
       "      <td>3.0</td>\n",
       "      <td>2.969363</td>\n",
       "      <td>2.848288</td>\n",
       "      <td>2.855766</td>\n",
       "      <td>3.569444</td>\n",
       "      <td>3.135373</td>\n",
       "      <td>3.192925</td>\n",
       "    </tr>\n",
       "    <tr>\n",
       "      <th>14</th>\n",
       "      <td>2.0</td>\n",
       "      <td>1.656540</td>\n",
       "      <td>2.023137</td>\n",
       "      <td>2.001081</td>\n",
       "      <td>1.852960</td>\n",
       "      <td>1.727771</td>\n",
       "      <td>1.812565</td>\n",
       "    </tr>\n",
       "    <tr>\n",
       "      <th>15</th>\n",
       "      <td>2.0</td>\n",
       "      <td>1.883471</td>\n",
       "      <td>2.023137</td>\n",
       "      <td>1.993834</td>\n",
       "      <td>2.282268</td>\n",
       "      <td>1.921389</td>\n",
       "      <td>1.847893</td>\n",
       "    </tr>\n",
       "    <tr>\n",
       "      <th>16</th>\n",
       "      <td>6.0</td>\n",
       "      <td>2.937738</td>\n",
       "      <td>2.848288</td>\n",
       "      <td>2.864462</td>\n",
       "      <td>2.808333</td>\n",
       "      <td>2.720181</td>\n",
       "      <td>2.647177</td>\n",
       "    </tr>\n",
       "    <tr>\n",
       "      <th>17</th>\n",
       "      <td>2.0</td>\n",
       "      <td>1.883471</td>\n",
       "      <td>2.023137</td>\n",
       "      <td>1.993834</td>\n",
       "      <td>2.282268</td>\n",
       "      <td>1.921389</td>\n",
       "      <td>1.847893</td>\n",
       "    </tr>\n",
       "    <tr>\n",
       "      <th>18</th>\n",
       "      <td>2.5</td>\n",
       "      <td>2.937738</td>\n",
       "      <td>2.848288</td>\n",
       "      <td>2.864462</td>\n",
       "      <td>2.808333</td>\n",
       "      <td>2.720181</td>\n",
       "      <td>2.647177</td>\n",
       "    </tr>\n",
       "    <tr>\n",
       "      <th>19</th>\n",
       "      <td>2.0</td>\n",
       "      <td>1.711519</td>\n",
       "      <td>2.023137</td>\n",
       "      <td>2.018474</td>\n",
       "      <td>1.572877</td>\n",
       "      <td>1.750000</td>\n",
       "      <td>1.717165</td>\n",
       "    </tr>\n",
       "  </tbody>\n",
       "</table>\n",
       "</div>"
      ],
      "text/plain": [
       "    senlength_derived     ridge     lasso   elastic       knn  decisiontree  \\\n",
       "0                 1.5  1.838394  2.023137  2.012676  1.579269      1.571946   \n",
       "1                 2.0  3.002735  2.848288  2.867361  2.700000      2.768373   \n",
       "2                 1.0  2.822862  2.848288  2.855766  2.583333      2.543086   \n",
       "3                 1.0  2.866395  2.848288  2.855766  2.605556      3.752604   \n",
       "4                 1.0  2.937738  2.848288  2.864462  2.808333      2.720181   \n",
       "5                 2.0  1.820758  2.023137  2.006879  1.950000      1.913886   \n",
       "6                 2.0  1.954355  2.023137  1.993834  1.764155      1.845303   \n",
       "7                 6.0  2.834770  2.848288  2.864462  2.566667      2.636782   \n",
       "8                 1.0  2.970329  2.848288  2.852867  3.858333      3.135373   \n",
       "9                 1.5  2.979230  2.848288  2.858664  3.616667      3.135373   \n",
       "10                3.5  2.834770  2.848288  2.864462  2.566667      2.636782   \n",
       "11                3.0  2.937738  2.848288  2.864462  2.808333      2.720181   \n",
       "12                2.0  1.919490  2.023137  2.006879  1.891849      1.745200   \n",
       "13                3.0  2.969363  2.848288  2.855766  3.569444      3.135373   \n",
       "14                2.0  1.656540  2.023137  2.001081  1.852960      1.727771   \n",
       "15                2.0  1.883471  2.023137  1.993834  2.282268      1.921389   \n",
       "16                6.0  2.937738  2.848288  2.864462  2.808333      2.720181   \n",
       "17                2.0  1.883471  2.023137  1.993834  2.282268      1.921389   \n",
       "18                2.5  2.937738  2.848288  2.864462  2.808333      2.720181   \n",
       "19                2.0  1.711519  2.023137  2.018474  1.572877      1.750000   \n",
       "\n",
       "    randomforest  \n",
       "0       1.714895  \n",
       "1       3.176130  \n",
       "2       2.910035  \n",
       "3       3.192925  \n",
       "4       2.647177  \n",
       "5       1.814838  \n",
       "6       1.873833  \n",
       "7       2.644773  \n",
       "8       3.277132  \n",
       "9       3.191120  \n",
       "10      2.644773  \n",
       "11      2.647177  \n",
       "12      1.776338  \n",
       "13      3.192925  \n",
       "14      1.812565  \n",
       "15      1.847893  \n",
       "16      2.647177  \n",
       "17      1.847893  \n",
       "18      2.647177  \n",
       "19      1.717165  "
      ]
     },
     "execution_count": 227,
     "metadata": {},
     "output_type": "execute_result"
    }
   ],
   "source": [
    "df = pd.concat([y_test_df, y_pre_df_ridge,y_pre_df_lasso, y_pre_df_elastic, y_pre_df_knn, \\\n",
    "                y_pre_df_decisiontree, y_pre_df_randomforest],axis=1)\n",
    "df.head(20)"
   ]
  },
  {
   "cell_type": "markdown",
   "id": "48c91bcf",
   "metadata": {},
   "source": [
    "### Compare these six models"
   ]
  },
  {
   "cell_type": "code",
   "execution_count": 229,
   "id": "c451ccf1",
   "metadata": {},
   "outputs": [],
   "source": [
    "ridge_score = round(ridge_regressor.score(X_train, y_train) * 100, 2)\n",
    "ridge_score_test = round(ridge_regressor.score(X_test, y_test) * 100, 2)\n",
    "\n",
    "lasso_score = round(lasso_regressor.score(X_train, y_train) * 100, 2)\n",
    "lasso_score_test = round(lasso_regressor.score(X_test, y_test) * 100, 2)\n",
    "\n",
    "elastic_score = round(elastic_regressor.score(X_train, y_train) * 100, 2)\n",
    "elastic_score_test = round(elastic_regressor.score(X_test, y_test) * 100, 2)\n",
    "\n",
    "knn_score = round(knn.score(X_train, y_train) * 100, 2)\n",
    "knn_score_test = round(knn.score(X_test, y_test) * 100, 2)\n",
    "\n",
    "decision_score = round(tree.score(X_train, y_train) * 100, 2)\n",
    "decision_score_test = round(tree.score(X_test, y_test) * 100, 2)\n",
    "\n",
    "random_score = round(forest.score(X_train, y_train) * 100, 2)\n",
    "random_score_test = round(forest.score(X_test, y_test) * 100, 2)"
   ]
  },
  {
   "cell_type": "code",
   "execution_count": 230,
   "id": "b040c592",
   "metadata": {},
   "outputs": [
    {
     "data": {
      "text/html": [
       "<div>\n",
       "<style scoped>\n",
       "    .dataframe tbody tr th:only-of-type {\n",
       "        vertical-align: middle;\n",
       "    }\n",
       "\n",
       "    .dataframe tbody tr th {\n",
       "        vertical-align: top;\n",
       "    }\n",
       "\n",
       "    .dataframe thead th {\n",
       "        text-align: right;\n",
       "    }\n",
       "</style>\n",
       "<table border=\"1\" class=\"dataframe\">\n",
       "  <thead>\n",
       "    <tr style=\"text-align: right;\">\n",
       "      <th></th>\n",
       "      <th>Model</th>\n",
       "      <th>Score</th>\n",
       "      <th>Test Score</th>\n",
       "    </tr>\n",
       "  </thead>\n",
       "  <tbody>\n",
       "    <tr>\n",
       "      <th>5</th>\n",
       "      <td>Random Forest Regression</td>\n",
       "      <td>6.43</td>\n",
       "      <td>2.37</td>\n",
       "    </tr>\n",
       "    <tr>\n",
       "      <th>4</th>\n",
       "      <td>Decision Tree Regression</td>\n",
       "      <td>7.26</td>\n",
       "      <td>2.34</td>\n",
       "    </tr>\n",
       "    <tr>\n",
       "      <th>3</th>\n",
       "      <td>KNN Regression</td>\n",
       "      <td>5.62</td>\n",
       "      <td>1.47</td>\n",
       "    </tr>\n",
       "    <tr>\n",
       "      <th>2</th>\n",
       "      <td>ElasticNet Regression</td>\n",
       "      <td>-118.84</td>\n",
       "      <td>-122.63</td>\n",
       "    </tr>\n",
       "    <tr>\n",
       "      <th>1</th>\n",
       "      <td>Lasso Regression</td>\n",
       "      <td>-119.34</td>\n",
       "      <td>-123.14</td>\n",
       "    </tr>\n",
       "    <tr>\n",
       "      <th>0</th>\n",
       "      <td>Ridge Regression</td>\n",
       "      <td>-122.59</td>\n",
       "      <td>-126.50</td>\n",
       "    </tr>\n",
       "  </tbody>\n",
       "</table>\n",
       "</div>"
      ],
      "text/plain": [
       "                      Model   Score  Test Score\n",
       "5  Random Forest Regression    6.43        2.37\n",
       "4  Decision Tree Regression    7.26        2.34\n",
       "3            KNN Regression    5.62        1.47\n",
       "2     ElasticNet Regression -118.84     -122.63\n",
       "1          Lasso Regression -119.34     -123.14\n",
       "0          Ridge Regression -122.59     -126.50"
      ]
     },
     "execution_count": 230,
     "metadata": {},
     "output_type": "execute_result"
    }
   ],
   "source": [
    "models = pd.DataFrame({\n",
    "    'Model': [ 'Ridge Regression', 'Lasso Regression', 'ElasticNet Regression','KNN Regression', \\\n",
    "              'Decision Tree Regression','Random Forest Regression'],\n",
    "    'Score': [ ridge_score, lasso_score, elastic_score, knn_score, decision_score, random_score],\n",
    "    'Test Score': [ ridge_score_test, lasso_score_test, elastic_score_test, knn_score_test, \\\n",
    "                   decision_score_test, random_score_test]})\n",
    "models.sort_values(by='Test Score', ascending=False)"
   ]
  },
  {
   "cell_type": "code",
   "execution_count": 233,
   "id": "6c149931",
   "metadata": {},
   "outputs": [
    {
     "name": "stdout",
     "output_type": "stream",
     "text": [
      "+--------------------------+-----------+---------------+----------+---------------+\n",
      "|        Model Name        |  Tr. RMSE | Tr. R-Squared | Te. RMSE | Te. R-Squared |\n",
      "+--------------------------+-----------+---------------+----------+---------------+\n",
      "|     Ridge Regression     | 2.8164648 |   0.0504202   | 4.715435 |   0.0206992   |\n",
      "|     Lasso Regression     | 2.8318605 |   0.0399928   | 4.725854 |   0.0163669   |\n",
      "|  ElasticNet Regression   | 2.8308184 |   0.0406989   | 4.725011 |   0.0167177   |\n",
      "|      KNN Regression      | 2.8079041 |   0.0561666   | 4.729948 |   0.0146619   |\n",
      "| Decision Tree Regression | 2.7833434 |   0.0726057   | 4.708955 |   0.0233889   |\n",
      "| Random Forest Regression | 2.7957662 |   0.0643089   | 4.708151 |   0.0237224   |\n",
      "+--------------------------+-----------+---------------+----------+---------------+\n"
     ]
    }
   ],
   "source": [
    "from prettytable import PrettyTable   \n",
    "x = PrettyTable()\n",
    "x.field_names = [\"Model Name\", \"Tr. RMSE\",\"Tr. R-Squared\", \"Te. RMSE\", \"Te. R-Squared\",]\n",
    "x.add_row(['Ridge Regression','2.8164648','0.0504202','4.715435','0.0206992'])\n",
    "x.add_row(['Lasso Regression','2.8318605','0.0399928','4.725854','0.0163669'])\n",
    "x.add_row(['ElasticNet Regression','2.8308184','0.0406989','4.725011','0.0167177'])\n",
    "x.add_row(['KNN Regression','2.8079041','0.0561666','4.729948','0.0146619'])\n",
    "x.add_row(['Decision Tree Regression','2.7833434','0.0726057','4.708955','0.0233889'])\n",
    "x.add_row(['Random Forest Regression', '2.7957662','0.0643089','4.708151','0.0237224'])\n",
    "print(x)"
   ]
  },
  {
   "cell_type": "markdown",
   "id": "de21c21a",
   "metadata": {},
   "source": [
    "## Compare the feature importances of Random Forest and Decision Tree"
   ]
  },
  {
   "cell_type": "markdown",
   "id": "3550e0f9",
   "metadata": {},
   "source": [
    "### Random Forest"
   ]
  },
  {
   "cell_type": "code",
   "execution_count": 260,
   "id": "93ce20fe",
   "metadata": {},
   "outputs": [
    {
     "name": "stdout",
     "output_type": "stream",
     "text": [
      "Variable: Incar                Importance: 0.7\n",
      "Variable: is_changed_offense   Importance: 0.13\n",
      "Variable: his_prop             Importance: 0.12\n",
      "Variable: Livability           Importance: 0.02\n",
      "Variable: is_white_derived     Importance: 0.01\n",
      "Variable: is_male_derived      Importance: 0.01\n",
      "Variable: is_judge_male        Importance: 0.01\n",
      "Variable: is_black_derived     Importance: 0.0\n",
      "Variable: is_hisp_derived      Importance: 0.0\n",
      "Variable: is_covid             Importance: 0.0\n"
     ]
    }
   ],
   "source": [
    "# Get numerical feature importances\n",
    "importances = list(forest.best_estimator_.feature_importances_)\n",
    "\n",
    "# List of tuples with variable and importance\n",
    "feature_importances = [(feature, round(importance, 2)) for feature, importance in zip(feature_list, importances)]\n",
    "\n",
    "# Sort the feature importances by most important first\n",
    "feature_importances = sorted(feature_importances, key = lambda x: x[1], reverse = True)\n",
    "\n",
    "# Print out the feature and importances \n",
    "[print('Variable: {:20} Importance: {}'.format(*pair)) for pair in feature_importances];"
   ]
  },
  {
   "cell_type": "markdown",
   "id": "38775aff",
   "metadata": {},
   "source": [
    "### Decision Tree"
   ]
  },
  {
   "cell_type": "code",
   "execution_count": 261,
   "id": "934afcc5",
   "metadata": {},
   "outputs": [
    {
     "name": "stdout",
     "output_type": "stream",
     "text": [
      "Variable: Incar                Importance: 0.62\n",
      "Variable: is_changed_offense   Importance: 0.13\n",
      "Variable: his_prop             Importance: 0.09\n",
      "Variable: Livability           Importance: 0.06\n",
      "Variable: is_judge_male        Importance: 0.05\n",
      "Variable: is_white_derived     Importance: 0.02\n",
      "Variable: is_male_derived      Importance: 0.02\n",
      "Variable: is_black_derived     Importance: 0.01\n",
      "Variable: is_hisp_derived      Importance: 0.01\n",
      "Variable: is_covid             Importance: 0.0\n"
     ]
    }
   ],
   "source": [
    "# Get numerical feature importances\n",
    "importances = list(tree.best_estimator_.feature_importances_)\n",
    "\n",
    "# List of tuples with variable and importance\n",
    "feature_importances = [(feature, round(importance, 2)) for feature, importance in zip(feature_list, importances)]\n",
    "\n",
    "# Sort the feature importances by most important first\n",
    "feature_importances = sorted(feature_importances, key = lambda x: x[1], reverse = True)\n",
    "\n",
    "# Print out the feature and importances \n",
    "[print('Variable: {:20} Importance: {}'.format(*pair)) for pair in feature_importances];"
   ]
  },
  {
   "cell_type": "markdown",
   "id": "89972215",
   "metadata": {},
   "source": [
    "### Plot comparison"
   ]
  },
  {
   "cell_type": "code",
   "execution_count": 257,
   "id": "900e724c",
   "metadata": {},
   "outputs": [
    {
     "data": {
      "image/png": "[encoded data removed]",
      "text/plain": [
       "<Figure size 1296x576 with 1 Axes>"
      ]
     },
     "metadata": {
      "needs_background": "light"
     },
     "output_type": "display_data"
    }
   ],
   "source": [
    "feature_importance1=pd.DataFrame({\n",
    "    'rfc':forest.best_estimator_.feature_importances_,\n",
    "    'dt':tree.best_estimator_.feature_importances_,\n",
    "},index=sentencing_concat.drop(['Incar'], axis = 1).columns)\n",
    "feature_importance1.sort_values(by='rfc',ascending=True,inplace=True)\n",
    "\n",
    "index = np.arange(len(feature_importance1))\n",
    "fig, ax = plt.subplots(figsize=(18,8))\n",
    "rfc_feature=ax.barh(index,feature_importance1['rfc'],0.4,color='purple',label='Random Forest')\n",
    "dt_feature=ax.barh(index+0.4,feature_importance1['dt'],0.4,color='red',label='Decision Tree')\n",
    "ax.set(yticks=index+0.4,yticklabels=feature_importance1.index)\n",
    "\n",
    "ax.legend()\n",
    "plt.show()"
   ]
  }
 ],
 "metadata": {
  "kernelspec": {
   "display_name": "Python 3 (ipykernel)",
   "language": "python",
   "name": "python3"
  },
  "language_info": {
   "codemirror_mode": {
    "name": "ipython",
    "version": 3
   },
   "file_extension": ".py",
   "mimetype": "text/x-python",
   "name": "python",
   "nbconvert_exporter": "python",
   "pygments_lexer": "ipython3",
   "version": "3.9.15"
  }
 },
 "nbformat": 4,
 "nbformat_minor": 5
}
