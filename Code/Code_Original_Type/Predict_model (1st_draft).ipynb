{
 "cells": [
  {
   "cell_type": "markdown",
   "id": "f4f8f688",
   "metadata": {},
   "source": [
    "# Predict Model"
   ]
  },
  {
   "cell_type": "code",
   "execution_count": 1,
   "id": "34cc9072",
   "metadata": {},
   "outputs": [],
   "source": [
    "# Import basic functionality\n",
    "import pandas as pd\n",
    "import numpy as np\n",
    "import plotnine\n",
    "from plotnine import *\n",
    "import re\n",
    "import os"
   ]
  },
  {
   "cell_type": "code",
   "execution_count": 2,
   "id": "e56b5804",
   "metadata": {},
   "outputs": [
    {
     "name": "stderr",
     "output_type": "stream",
     "text": [
      "/var/folders/39/p0rpjrxj68l4cbrkhyvw78fm0000gn/T/ipykernel_76237/3105782160.py:2: DtypeWarning: Columns (10,11,16,25) have mixed types. Specify dtype option on import or set low_memory=False.\n"
     ]
    }
   ],
   "source": [
    "# Read the data\n",
    "sentencing_cleaned = pd.read_csv(\"/Users/leowu/Desktop/Study_Materials/Data_Science1/pset2_inputdata/sentencing_cleaned.csv\")"
   ]
  },
  {
   "cell_type": "code",
   "execution_count": 3,
   "id": "a9989b96",
   "metadata": {},
   "outputs": [
    {
     "data": {
      "text/html": [
       "<div>\n",
       "<style scoped>\n",
       "    .dataframe tbody tr th:only-of-type {\n",
       "        vertical-align: middle;\n",
       "    }\n",
       "\n",
       "    .dataframe tbody tr th {\n",
       "        vertical-align: top;\n",
       "    }\n",
       "\n",
       "    .dataframe thead th {\n",
       "        text-align: right;\n",
       "    }\n",
       "</style>\n",
       "<table border=\"1\" class=\"dataframe\">\n",
       "  <thead>\n",
       "    <tr style=\"text-align: right;\">\n",
       "      <th></th>\n",
       "      <th>CASE_ID</th>\n",
       "      <th>CASE_PARTICIPANT_ID</th>\n",
       "      <th>RECEIVED_DATE</th>\n",
       "      <th>OFFENSE_CATEGORY</th>\n",
       "      <th>PRIMARY_CHARGE_FLAG</th>\n",
       "      <th>CHARGE_ID</th>\n",
       "      <th>CHARGE_VERSION_ID</th>\n",
       "      <th>DISPOSITION_CHARGED_OFFENSE_TITLE</th>\n",
       "      <th>CHARGE_COUNT</th>\n",
       "      <th>DISPOSITION_DATE</th>\n",
       "      <th>...</th>\n",
       "      <th>simplified_offense_derived</th>\n",
       "      <th>is_black_derived</th>\n",
       "      <th>is_hisp_derived</th>\n",
       "      <th>is_white_derived</th>\n",
       "      <th>is_other_derived</th>\n",
       "      <th>is_male_derived</th>\n",
       "      <th>age_derived</th>\n",
       "      <th>sentenceymd_derived</th>\n",
       "      <th>sentenceym_derived</th>\n",
       "      <th>judgeid_derived</th>\n",
       "    </tr>\n",
       "  </thead>\n",
       "  <tbody>\n",
       "    <tr>\n",
       "      <th>0</th>\n",
       "      <td>149765331439</td>\n",
       "      <td>175691153649</td>\n",
       "      <td>8/15/1984 12:00:00 AM</td>\n",
       "      <td>PROMIS Conversion</td>\n",
       "      <td>True</td>\n",
       "      <td>50510062193</td>\n",
       "      <td>112898098217</td>\n",
       "      <td>FIRST DEGREE MURDER</td>\n",
       "      <td>1</td>\n",
       "      <td>12/17/2014 12:00:00 AM</td>\n",
       "      <td>...</td>\n",
       "      <td>Homicide</td>\n",
       "      <td>True</td>\n",
       "      <td>False</td>\n",
       "      <td>False</td>\n",
       "      <td>False</td>\n",
       "      <td>True</td>\n",
       "      <td>27.0</td>\n",
       "      <td>2014-10-16</td>\n",
       "      <td>2014-10-01</td>\n",
       "      <td>judge_40</td>\n",
       "    </tr>\n",
       "    <tr>\n",
       "      <th>1</th>\n",
       "      <td>150065796098</td>\n",
       "      <td>162105612284</td>\n",
       "      <td>8/23/1984 12:00:00 AM</td>\n",
       "      <td>PROMIS Conversion</td>\n",
       "      <td>True</td>\n",
       "      <td>50792360681</td>\n",
       "      <td>113332130159</td>\n",
       "      <td>FIRST DEGREE MURDER</td>\n",
       "      <td>1</td>\n",
       "      <td>8/6/2014 12:00:00 AM</td>\n",
       "      <td>...</td>\n",
       "      <td>Homicide</td>\n",
       "      <td>True</td>\n",
       "      <td>False</td>\n",
       "      <td>False</td>\n",
       "      <td>False</td>\n",
       "      <td>True</td>\n",
       "      <td>30.0</td>\n",
       "      <td>2014-08-06</td>\n",
       "      <td>2014-08-01</td>\n",
       "      <td>judge_310</td>\n",
       "    </tr>\n",
       "    <tr>\n",
       "      <th>2</th>\n",
       "      <td>154954734978</td>\n",
       "      <td>225758446387</td>\n",
       "      <td>6/8/2001 12:00:00 AM</td>\n",
       "      <td>PROMIS Conversion</td>\n",
       "      <td>True</td>\n",
       "      <td>54885211141</td>\n",
       "      <td>174293345821</td>\n",
       "      <td>VIO BAIL BOND/CLASS 1</td>\n",
       "      <td>1</td>\n",
       "      <td>12/2/2013 12:00:00 AM</td>\n",
       "      <td>...</td>\n",
       "      <td>PROMIS Conversion</td>\n",
       "      <td>False</td>\n",
       "      <td>True</td>\n",
       "      <td>False</td>\n",
       "      <td>False</td>\n",
       "      <td>True</td>\n",
       "      <td>38.0</td>\n",
       "      <td>2013-12-02</td>\n",
       "      <td>2013-12-01</td>\n",
       "      <td>judge_162</td>\n",
       "    </tr>\n",
       "    <tr>\n",
       "      <th>3</th>\n",
       "      <td>155222744754</td>\n",
       "      <td>217349881776</td>\n",
       "      <td>1/31/2001 12:00:00 AM</td>\n",
       "      <td>PROMIS Conversion</td>\n",
       "      <td>True</td>\n",
       "      <td>53899906462</td>\n",
       "      <td>280120721775</td>\n",
       "      <td>POSS AMT CON SUB EXCEPT (A)/(D)</td>\n",
       "      <td>1</td>\n",
       "      <td>9/10/2012 12:00:00 AM</td>\n",
       "      <td>...</td>\n",
       "      <td>Narcotics</td>\n",
       "      <td>True</td>\n",
       "      <td>False</td>\n",
       "      <td>False</td>\n",
       "      <td>False</td>\n",
       "      <td>False</td>\n",
       "      <td>33.0</td>\n",
       "      <td>2012-09-10</td>\n",
       "      <td>2012-09-01</td>\n",
       "      <td>judge_331</td>\n",
       "    </tr>\n",
       "    <tr>\n",
       "      <th>4</th>\n",
       "      <td>155327892699</td>\n",
       "      <td>217212381455</td>\n",
       "      <td>2/6/2001 12:00:00 AM</td>\n",
       "      <td>PROMIS Conversion</td>\n",
       "      <td>True</td>\n",
       "      <td>53938518259</td>\n",
       "      <td>164877860811</td>\n",
       "      <td>DUI LIC SUSPENDED OR REVOKED (EFFECTIVE 4-13-2...</td>\n",
       "      <td>1</td>\n",
       "      <td>9/19/2014 12:00:00 AM</td>\n",
       "      <td>...</td>\n",
       "      <td>PROMIS Conversion</td>\n",
       "      <td>False</td>\n",
       "      <td>False</td>\n",
       "      <td>True</td>\n",
       "      <td>False</td>\n",
       "      <td>True</td>\n",
       "      <td>49.0</td>\n",
       "      <td>2014-09-19</td>\n",
       "      <td>2014-09-01</td>\n",
       "      <td>judge_314</td>\n",
       "    </tr>\n",
       "  </tbody>\n",
       "</table>\n",
       "<p>5 rows × 52 columns</p>\n",
       "</div>"
      ],
      "text/plain": [
       "        CASE_ID  CASE_PARTICIPANT_ID          RECEIVED_DATE  \\\n",
       "0  149765331439         175691153649  8/15/1984 12:00:00 AM   \n",
       "1  150065796098         162105612284  8/23/1984 12:00:00 AM   \n",
       "2  154954734978         225758446387   6/8/2001 12:00:00 AM   \n",
       "3  155222744754         217349881776  1/31/2001 12:00:00 AM   \n",
       "4  155327892699         217212381455   2/6/2001 12:00:00 AM   \n",
       "\n",
       "    OFFENSE_CATEGORY  PRIMARY_CHARGE_FLAG    CHARGE_ID  CHARGE_VERSION_ID  \\\n",
       "0  PROMIS Conversion                 True  50510062193       112898098217   \n",
       "1  PROMIS Conversion                 True  50792360681       113332130159   \n",
       "2  PROMIS Conversion                 True  54885211141       174293345821   \n",
       "3  PROMIS Conversion                 True  53899906462       280120721775   \n",
       "4  PROMIS Conversion                 True  53938518259       164877860811   \n",
       "\n",
       "                   DISPOSITION_CHARGED_OFFENSE_TITLE  CHARGE_COUNT  \\\n",
       "0                                FIRST DEGREE MURDER             1   \n",
       "1                                FIRST DEGREE MURDER             1   \n",
       "2                              VIO BAIL BOND/CLASS 1             1   \n",
       "3                    POSS AMT CON SUB EXCEPT (A)/(D)             1   \n",
       "4  DUI LIC SUSPENDED OR REVOKED (EFFECTIVE 4-13-2...             1   \n",
       "\n",
       "         DISPOSITION_DATE  ... simplified_offense_derived is_black_derived  \\\n",
       "0  12/17/2014 12:00:00 AM  ...                   Homicide             True   \n",
       "1    8/6/2014 12:00:00 AM  ...                   Homicide             True   \n",
       "2   12/2/2013 12:00:00 AM  ...          PROMIS Conversion            False   \n",
       "3   9/10/2012 12:00:00 AM  ...                  Narcotics             True   \n",
       "4   9/19/2014 12:00:00 AM  ...          PROMIS Conversion            False   \n",
       "\n",
       "  is_hisp_derived is_white_derived is_other_derived is_male_derived  \\\n",
       "0           False            False            False            True   \n",
       "1           False            False            False            True   \n",
       "2            True            False            False            True   \n",
       "3           False            False            False           False   \n",
       "4           False             True            False            True   \n",
       "\n",
       "  age_derived sentenceymd_derived sentenceym_derived judgeid_derived  \n",
       "0        27.0          2014-10-16         2014-10-01        judge_40  \n",
       "1        30.0          2014-08-06         2014-08-01       judge_310  \n",
       "2        38.0          2013-12-02         2013-12-01       judge_162  \n",
       "3        33.0          2012-09-10         2012-09-01       judge_331  \n",
       "4        49.0          2014-09-19         2014-09-01       judge_314  \n",
       "\n",
       "[5 rows x 52 columns]"
      ]
     },
     "execution_count": 3,
     "metadata": {},
     "output_type": "execute_result"
    }
   ],
   "source": [
    "# Get the head of the data\n",
    "sentencing_cleaned.head()"
   ]
  },
  {
   "cell_type": "markdown",
   "id": "164f2873",
   "metadata": {},
   "source": [
    "# To judge whether people will incarcerated or not"
   ]
  },
  {
   "cell_type": "code",
   "execution_count": 186,
   "id": "aa5fdb4d",
   "metadata": {},
   "outputs": [
    {
     "data": {
      "text/plain": [
       "Illinois Department of Corrections       68241\n",
       "Probation                                46540\n",
       "Cook County Department of Corrections     5044\n",
       "710/410 Probation                         3813\n",
       "Conditional Discharge                     2270\n",
       "Name: COMMITMENT_TYPE, dtype: int64"
      ]
     },
     "execution_count": 186,
     "metadata": {},
     "output_type": "execute_result"
    }
   ],
   "source": [
    "sentencing_cleaned.COMMITMENT_TYPE.value_counts().head(5)"
   ]
  },
  {
   "cell_type": "code",
   "execution_count": 187,
   "id": "c75d1cdd",
   "metadata": {},
   "outputs": [
    {
     "data": {
      "text/html": [
       "<div>\n",
       "<style scoped>\n",
       "    .dataframe tbody tr th:only-of-type {\n",
       "        vertical-align: middle;\n",
       "    }\n",
       "\n",
       "    .dataframe tbody tr th {\n",
       "        vertical-align: top;\n",
       "    }\n",
       "\n",
       "    .dataframe thead th {\n",
       "        text-align: right;\n",
       "    }\n",
       "</style>\n",
       "<table border=\"1\" class=\"dataframe\">\n",
       "  <thead>\n",
       "    <tr style=\"text-align: right;\">\n",
       "      <th></th>\n",
       "      <th>CASE_ID</th>\n",
       "      <th>CASE_PARTICIPANT_ID</th>\n",
       "      <th>RECEIVED_DATE</th>\n",
       "      <th>OFFENSE_CATEGORY</th>\n",
       "      <th>PRIMARY_CHARGE_FLAG</th>\n",
       "      <th>CHARGE_ID</th>\n",
       "      <th>CHARGE_VERSION_ID</th>\n",
       "      <th>DISPOSITION_CHARGED_OFFENSE_TITLE</th>\n",
       "      <th>CHARGE_COUNT</th>\n",
       "      <th>DISPOSITION_DATE</th>\n",
       "      <th>...</th>\n",
       "      <th>is_black_derived</th>\n",
       "      <th>is_hisp_derived</th>\n",
       "      <th>is_white_derived</th>\n",
       "      <th>is_other_derived</th>\n",
       "      <th>is_male_derived</th>\n",
       "      <th>age_derived</th>\n",
       "      <th>sentenceymd_derived</th>\n",
       "      <th>sentenceym_derived</th>\n",
       "      <th>judgeid_derived</th>\n",
       "      <th>Incar</th>\n",
       "    </tr>\n",
       "  </thead>\n",
       "  <tbody>\n",
       "    <tr>\n",
       "      <th>0</th>\n",
       "      <td>149765331439</td>\n",
       "      <td>175691153649</td>\n",
       "      <td>8/15/1984 12:00:00 AM</td>\n",
       "      <td>PROMIS Conversion</td>\n",
       "      <td>True</td>\n",
       "      <td>50510062193</td>\n",
       "      <td>112898098217</td>\n",
       "      <td>FIRST DEGREE MURDER</td>\n",
       "      <td>1</td>\n",
       "      <td>12/17/2014 12:00:00 AM</td>\n",
       "      <td>...</td>\n",
       "      <td>True</td>\n",
       "      <td>False</td>\n",
       "      <td>False</td>\n",
       "      <td>False</td>\n",
       "      <td>True</td>\n",
       "      <td>27.0</td>\n",
       "      <td>2014-10-16</td>\n",
       "      <td>2014-10-01</td>\n",
       "      <td>judge_40</td>\n",
       "      <td>True</td>\n",
       "    </tr>\n",
       "    <tr>\n",
       "      <th>1</th>\n",
       "      <td>150065796098</td>\n",
       "      <td>162105612284</td>\n",
       "      <td>8/23/1984 12:00:00 AM</td>\n",
       "      <td>PROMIS Conversion</td>\n",
       "      <td>True</td>\n",
       "      <td>50792360681</td>\n",
       "      <td>113332130159</td>\n",
       "      <td>FIRST DEGREE MURDER</td>\n",
       "      <td>1</td>\n",
       "      <td>8/6/2014 12:00:00 AM</td>\n",
       "      <td>...</td>\n",
       "      <td>True</td>\n",
       "      <td>False</td>\n",
       "      <td>False</td>\n",
       "      <td>False</td>\n",
       "      <td>True</td>\n",
       "      <td>30.0</td>\n",
       "      <td>2014-08-06</td>\n",
       "      <td>2014-08-01</td>\n",
       "      <td>judge_310</td>\n",
       "      <td>True</td>\n",
       "    </tr>\n",
       "    <tr>\n",
       "      <th>2</th>\n",
       "      <td>154954734978</td>\n",
       "      <td>225758446387</td>\n",
       "      <td>6/8/2001 12:00:00 AM</td>\n",
       "      <td>PROMIS Conversion</td>\n",
       "      <td>True</td>\n",
       "      <td>54885211141</td>\n",
       "      <td>174293345821</td>\n",
       "      <td>VIO BAIL BOND/CLASS 1</td>\n",
       "      <td>1</td>\n",
       "      <td>12/2/2013 12:00:00 AM</td>\n",
       "      <td>...</td>\n",
       "      <td>False</td>\n",
       "      <td>True</td>\n",
       "      <td>False</td>\n",
       "      <td>False</td>\n",
       "      <td>True</td>\n",
       "      <td>38.0</td>\n",
       "      <td>2013-12-02</td>\n",
       "      <td>2013-12-01</td>\n",
       "      <td>judge_162</td>\n",
       "      <td>True</td>\n",
       "    </tr>\n",
       "    <tr>\n",
       "      <th>3</th>\n",
       "      <td>155222744754</td>\n",
       "      <td>217349881776</td>\n",
       "      <td>1/31/2001 12:00:00 AM</td>\n",
       "      <td>PROMIS Conversion</td>\n",
       "      <td>True</td>\n",
       "      <td>53899906462</td>\n",
       "      <td>280120721775</td>\n",
       "      <td>POSS AMT CON SUB EXCEPT (A)/(D)</td>\n",
       "      <td>1</td>\n",
       "      <td>9/10/2012 12:00:00 AM</td>\n",
       "      <td>...</td>\n",
       "      <td>True</td>\n",
       "      <td>False</td>\n",
       "      <td>False</td>\n",
       "      <td>False</td>\n",
       "      <td>False</td>\n",
       "      <td>33.0</td>\n",
       "      <td>2012-09-10</td>\n",
       "      <td>2012-09-01</td>\n",
       "      <td>judge_331</td>\n",
       "      <td>False</td>\n",
       "    </tr>\n",
       "    <tr>\n",
       "      <th>4</th>\n",
       "      <td>155327892699</td>\n",
       "      <td>217212381455</td>\n",
       "      <td>2/6/2001 12:00:00 AM</td>\n",
       "      <td>PROMIS Conversion</td>\n",
       "      <td>True</td>\n",
       "      <td>53938518259</td>\n",
       "      <td>164877860811</td>\n",
       "      <td>DUI LIC SUSPENDED OR REVOKED (EFFECTIVE 4-13-2...</td>\n",
       "      <td>1</td>\n",
       "      <td>9/19/2014 12:00:00 AM</td>\n",
       "      <td>...</td>\n",
       "      <td>False</td>\n",
       "      <td>False</td>\n",
       "      <td>True</td>\n",
       "      <td>False</td>\n",
       "      <td>True</td>\n",
       "      <td>49.0</td>\n",
       "      <td>2014-09-19</td>\n",
       "      <td>2014-09-01</td>\n",
       "      <td>judge_314</td>\n",
       "      <td>False</td>\n",
       "    </tr>\n",
       "  </tbody>\n",
       "</table>\n",
       "<p>5 rows × 53 columns</p>\n",
       "</div>"
      ],
      "text/plain": [
       "        CASE_ID  CASE_PARTICIPANT_ID          RECEIVED_DATE  \\\n",
       "0  149765331439         175691153649  8/15/1984 12:00:00 AM   \n",
       "1  150065796098         162105612284  8/23/1984 12:00:00 AM   \n",
       "2  154954734978         225758446387   6/8/2001 12:00:00 AM   \n",
       "3  155222744754         217349881776  1/31/2001 12:00:00 AM   \n",
       "4  155327892699         217212381455   2/6/2001 12:00:00 AM   \n",
       "\n",
       "    OFFENSE_CATEGORY  PRIMARY_CHARGE_FLAG    CHARGE_ID  CHARGE_VERSION_ID  \\\n",
       "0  PROMIS Conversion                 True  50510062193       112898098217   \n",
       "1  PROMIS Conversion                 True  50792360681       113332130159   \n",
       "2  PROMIS Conversion                 True  54885211141       174293345821   \n",
       "3  PROMIS Conversion                 True  53899906462       280120721775   \n",
       "4  PROMIS Conversion                 True  53938518259       164877860811   \n",
       "\n",
       "                   DISPOSITION_CHARGED_OFFENSE_TITLE  CHARGE_COUNT  \\\n",
       "0                                FIRST DEGREE MURDER             1   \n",
       "1                                FIRST DEGREE MURDER             1   \n",
       "2                              VIO BAIL BOND/CLASS 1             1   \n",
       "3                    POSS AMT CON SUB EXCEPT (A)/(D)             1   \n",
       "4  DUI LIC SUSPENDED OR REVOKED (EFFECTIVE 4-13-2...             1   \n",
       "\n",
       "         DISPOSITION_DATE  ... is_black_derived is_hisp_derived  \\\n",
       "0  12/17/2014 12:00:00 AM  ...             True           False   \n",
       "1    8/6/2014 12:00:00 AM  ...             True           False   \n",
       "2   12/2/2013 12:00:00 AM  ...            False            True   \n",
       "3   9/10/2012 12:00:00 AM  ...             True           False   \n",
       "4   9/19/2014 12:00:00 AM  ...            False           False   \n",
       "\n",
       "  is_white_derived is_other_derived is_male_derived age_derived  \\\n",
       "0            False            False            True        27.0   \n",
       "1            False            False            True        30.0   \n",
       "2            False            False            True        38.0   \n",
       "3            False            False           False        33.0   \n",
       "4             True            False            True        49.0   \n",
       "\n",
       "  sentenceymd_derived sentenceym_derived judgeid_derived  Incar  \n",
       "0          2014-10-16         2014-10-01        judge_40   True  \n",
       "1          2014-08-06         2014-08-01       judge_310   True  \n",
       "2          2013-12-02         2013-12-01       judge_162   True  \n",
       "3          2012-09-10         2012-09-01       judge_331  False  \n",
       "4          2014-09-19         2014-09-01       judge_314  False  \n",
       "\n",
       "[5 rows x 53 columns]"
      ]
     },
     "execution_count": 187,
     "metadata": {},
     "output_type": "execute_result"
    }
   ],
   "source": [
    "## Rename the COMMITMENT_TYPE to rename incarceration as 1, and others as 0\n",
    "## incarceration is indicated by COMMITMENT_TYPE == \"Illinois Department of Corrections\"\n",
    "sentencing_cleaned['Incar'] = np.where(sentencing_cleaned.COMMITMENT_TYPE == 'Illinois Department of Corrections', True , False)\n",
    "sentencing_cleaned.head()"
   ]
  },
  {
   "cell_type": "code",
   "execution_count": 188,
   "id": "f91a1433",
   "metadata": {},
   "outputs": [
    {
     "data": {
      "text/html": [
       "<div>\n",
       "<style scoped>\n",
       "    .dataframe tbody tr th:only-of-type {\n",
       "        vertical-align: middle;\n",
       "    }\n",
       "\n",
       "    .dataframe tbody tr th {\n",
       "        vertical-align: top;\n",
       "    }\n",
       "\n",
       "    .dataframe thead th {\n",
       "        text-align: right;\n",
       "    }\n",
       "</style>\n",
       "<table border=\"1\" class=\"dataframe\">\n",
       "  <thead>\n",
       "    <tr style=\"text-align: right;\">\n",
       "      <th></th>\n",
       "      <th>CASE_ID</th>\n",
       "      <th>CASE_PARTICIPANT_ID</th>\n",
       "      <th>RECEIVED_DATE</th>\n",
       "      <th>OFFENSE_CATEGORY</th>\n",
       "      <th>PRIMARY_CHARGE_FLAG</th>\n",
       "      <th>CHARGE_ID</th>\n",
       "      <th>CHARGE_VERSION_ID</th>\n",
       "      <th>DISPOSITION_CHARGED_OFFENSE_TITLE</th>\n",
       "      <th>CHARGE_COUNT</th>\n",
       "      <th>DISPOSITION_DATE</th>\n",
       "      <th>...</th>\n",
       "      <th>is_black_derived</th>\n",
       "      <th>is_hisp_derived</th>\n",
       "      <th>is_white_derived</th>\n",
       "      <th>is_other_derived</th>\n",
       "      <th>is_male_derived</th>\n",
       "      <th>age_derived</th>\n",
       "      <th>sentenceymd_derived</th>\n",
       "      <th>sentenceym_derived</th>\n",
       "      <th>judgeid_derived</th>\n",
       "      <th>Incar</th>\n",
       "    </tr>\n",
       "  </thead>\n",
       "  <tbody>\n",
       "    <tr>\n",
       "      <th>0</th>\n",
       "      <td>149765331439</td>\n",
       "      <td>175691153649</td>\n",
       "      <td>8/15/1984 12:00:00 AM</td>\n",
       "      <td>PROMIS Conversion</td>\n",
       "      <td>True</td>\n",
       "      <td>50510062193</td>\n",
       "      <td>112898098217</td>\n",
       "      <td>FIRST DEGREE MURDER</td>\n",
       "      <td>1</td>\n",
       "      <td>12/17/2014 12:00:00 AM</td>\n",
       "      <td>...</td>\n",
       "      <td>True</td>\n",
       "      <td>False</td>\n",
       "      <td>False</td>\n",
       "      <td>False</td>\n",
       "      <td>True</td>\n",
       "      <td>27.0</td>\n",
       "      <td>2014-10-16</td>\n",
       "      <td>2014-10-01</td>\n",
       "      <td>judge_40</td>\n",
       "      <td>True</td>\n",
       "    </tr>\n",
       "    <tr>\n",
       "      <th>1</th>\n",
       "      <td>150065796098</td>\n",
       "      <td>162105612284</td>\n",
       "      <td>8/23/1984 12:00:00 AM</td>\n",
       "      <td>PROMIS Conversion</td>\n",
       "      <td>True</td>\n",
       "      <td>50792360681</td>\n",
       "      <td>113332130159</td>\n",
       "      <td>FIRST DEGREE MURDER</td>\n",
       "      <td>1</td>\n",
       "      <td>8/6/2014 12:00:00 AM</td>\n",
       "      <td>...</td>\n",
       "      <td>True</td>\n",
       "      <td>False</td>\n",
       "      <td>False</td>\n",
       "      <td>False</td>\n",
       "      <td>True</td>\n",
       "      <td>30.0</td>\n",
       "      <td>2014-08-06</td>\n",
       "      <td>2014-08-01</td>\n",
       "      <td>judge_310</td>\n",
       "      <td>True</td>\n",
       "    </tr>\n",
       "    <tr>\n",
       "      <th>2</th>\n",
       "      <td>154954734978</td>\n",
       "      <td>225758446387</td>\n",
       "      <td>6/8/2001 12:00:00 AM</td>\n",
       "      <td>PROMIS Conversion</td>\n",
       "      <td>True</td>\n",
       "      <td>54885211141</td>\n",
       "      <td>174293345821</td>\n",
       "      <td>VIO BAIL BOND/CLASS 1</td>\n",
       "      <td>1</td>\n",
       "      <td>12/2/2013 12:00:00 AM</td>\n",
       "      <td>...</td>\n",
       "      <td>False</td>\n",
       "      <td>True</td>\n",
       "      <td>False</td>\n",
       "      <td>False</td>\n",
       "      <td>True</td>\n",
       "      <td>38.0</td>\n",
       "      <td>2013-12-02</td>\n",
       "      <td>2013-12-01</td>\n",
       "      <td>judge_162</td>\n",
       "      <td>True</td>\n",
       "    </tr>\n",
       "    <tr>\n",
       "      <th>3</th>\n",
       "      <td>155222744754</td>\n",
       "      <td>217349881776</td>\n",
       "      <td>1/31/2001 12:00:00 AM</td>\n",
       "      <td>PROMIS Conversion</td>\n",
       "      <td>True</td>\n",
       "      <td>53899906462</td>\n",
       "      <td>280120721775</td>\n",
       "      <td>POSS AMT CON SUB EXCEPT (A)/(D)</td>\n",
       "      <td>1</td>\n",
       "      <td>9/10/2012 12:00:00 AM</td>\n",
       "      <td>...</td>\n",
       "      <td>True</td>\n",
       "      <td>False</td>\n",
       "      <td>False</td>\n",
       "      <td>False</td>\n",
       "      <td>False</td>\n",
       "      <td>33.0</td>\n",
       "      <td>2012-09-10</td>\n",
       "      <td>2012-09-01</td>\n",
       "      <td>judge_331</td>\n",
       "      <td>False</td>\n",
       "    </tr>\n",
       "    <tr>\n",
       "      <th>4</th>\n",
       "      <td>155327892699</td>\n",
       "      <td>217212381455</td>\n",
       "      <td>2/6/2001 12:00:00 AM</td>\n",
       "      <td>PROMIS Conversion</td>\n",
       "      <td>True</td>\n",
       "      <td>53938518259</td>\n",
       "      <td>164877860811</td>\n",
       "      <td>DUI LIC SUSPENDED OR REVOKED (EFFECTIVE 4-13-2...</td>\n",
       "      <td>1</td>\n",
       "      <td>9/19/2014 12:00:00 AM</td>\n",
       "      <td>...</td>\n",
       "      <td>False</td>\n",
       "      <td>False</td>\n",
       "      <td>True</td>\n",
       "      <td>False</td>\n",
       "      <td>True</td>\n",
       "      <td>49.0</td>\n",
       "      <td>2014-09-19</td>\n",
       "      <td>2014-09-01</td>\n",
       "      <td>judge_314</td>\n",
       "      <td>False</td>\n",
       "    </tr>\n",
       "  </tbody>\n",
       "</table>\n",
       "<p>5 rows × 53 columns</p>\n",
       "</div>"
      ],
      "text/plain": [
       "        CASE_ID  CASE_PARTICIPANT_ID          RECEIVED_DATE  \\\n",
       "0  149765331439         175691153649  8/15/1984 12:00:00 AM   \n",
       "1  150065796098         162105612284  8/23/1984 12:00:00 AM   \n",
       "2  154954734978         225758446387   6/8/2001 12:00:00 AM   \n",
       "3  155222744754         217349881776  1/31/2001 12:00:00 AM   \n",
       "4  155327892699         217212381455   2/6/2001 12:00:00 AM   \n",
       "\n",
       "    OFFENSE_CATEGORY  PRIMARY_CHARGE_FLAG    CHARGE_ID  CHARGE_VERSION_ID  \\\n",
       "0  PROMIS Conversion                 True  50510062193       112898098217   \n",
       "1  PROMIS Conversion                 True  50792360681       113332130159   \n",
       "2  PROMIS Conversion                 True  54885211141       174293345821   \n",
       "3  PROMIS Conversion                 True  53899906462       280120721775   \n",
       "4  PROMIS Conversion                 True  53938518259       164877860811   \n",
       "\n",
       "                   DISPOSITION_CHARGED_OFFENSE_TITLE  CHARGE_COUNT  \\\n",
       "0                                FIRST DEGREE MURDER             1   \n",
       "1                                FIRST DEGREE MURDER             1   \n",
       "2                              VIO BAIL BOND/CLASS 1             1   \n",
       "3                    POSS AMT CON SUB EXCEPT (A)/(D)             1   \n",
       "4  DUI LIC SUSPENDED OR REVOKED (EFFECTIVE 4-13-2...             1   \n",
       "\n",
       "         DISPOSITION_DATE  ... is_black_derived is_hisp_derived  \\\n",
       "0  12/17/2014 12:00:00 AM  ...             True           False   \n",
       "1    8/6/2014 12:00:00 AM  ...             True           False   \n",
       "2   12/2/2013 12:00:00 AM  ...            False            True   \n",
       "3   9/10/2012 12:00:00 AM  ...             True           False   \n",
       "4   9/19/2014 12:00:00 AM  ...            False           False   \n",
       "\n",
       "  is_white_derived is_other_derived is_male_derived age_derived  \\\n",
       "0            False            False            True        27.0   \n",
       "1            False            False            True        30.0   \n",
       "2            False            False            True        38.0   \n",
       "3            False            False           False        33.0   \n",
       "4             True            False            True        49.0   \n",
       "\n",
       "  sentenceymd_derived sentenceym_derived judgeid_derived  Incar  \n",
       "0          2014-10-16         2014-10-01        judge_40   True  \n",
       "1          2014-08-06         2014-08-01       judge_310   True  \n",
       "2          2013-12-02         2013-12-01       judge_162   True  \n",
       "3          2012-09-10         2012-09-01       judge_331  False  \n",
       "4          2014-09-19         2014-09-01       judge_314  False  \n",
       "\n",
       "[5 rows x 53 columns]"
      ]
     },
     "execution_count": 188,
     "metadata": {},
     "output_type": "execute_result"
    }
   ],
   "source": [
    "sentence_filter1 = sentencing_cleaned[(~sentencing_cleaned.COMMITMENT_TERM.isin(['18 months','30 months']))\n",
    "                                     & (sentencing_cleaned.COMMITMENT_UNIT.isin(['Days','Hours','Year(s)','Months','Weeks','Natural Life']))]\n",
    "sentence_filter1.head()"
   ]
  },
  {
   "cell_type": "code",
   "execution_count": 189,
   "id": "7552ce5b",
   "metadata": {},
   "outputs": [],
   "source": [
    "## Change the units to year\n",
    "def transition(df: pd.DataFrame):\n",
    "    df['senlength_derived'] = [float(u)\n",
    "      if v == 'Year(s)'\n",
    "      else float(float(u) / (24*365)) \n",
    "           if v == 'Hours'\n",
    "           else float(float(u)/ 365) \n",
    "                if v == 'Days'\n",
    "                else float(float(u)/ 12) \n",
    "                    if v == 'Months'\n",
    "                    else float(float(u) *7 / 365) \n",
    "                        if v == 'Weeks'\n",
    "                        else float(100-20)\n",
    "                               if (v == 'Natural Life') & (np.isnan(i))\n",
    "                               else float(100-float(i)) \n",
    "      for u,v,i in zip(df.COMMITMENT_TERM,df.COMMITMENT_UNIT,df.age_derived)]\n",
    "    \n",
    "    return df"
   ]
  },
  {
   "cell_type": "code",
   "execution_count": 190,
   "id": "7638ba9c",
   "metadata": {},
   "outputs": [
    {
     "name": "stderr",
     "output_type": "stream",
     "text": [
      "/var/folders/39/p0rpjrxj68l4cbrkhyvw78fm0000gn/T/ipykernel_76237/4129742438.py:3: SettingWithCopyWarning: \n",
      "A value is trying to be set on a copy of a slice from a DataFrame.\n",
      "Try using .loc[row_indexer,col_indexer] = value instead\n",
      "\n",
      "See the caveats in the documentation: https://pandas.pydata.org/pandas-docs/stable/user_guide/indexing.html#returning-a-view-versus-a-copy\n"
     ]
    },
    {
     "data": {
      "text/html": [
       "<div>\n",
       "<style scoped>\n",
       "    .dataframe tbody tr th:only-of-type {\n",
       "        vertical-align: middle;\n",
       "    }\n",
       "\n",
       "    .dataframe tbody tr th {\n",
       "        vertical-align: top;\n",
       "    }\n",
       "\n",
       "    .dataframe thead th {\n",
       "        text-align: right;\n",
       "    }\n",
       "</style>\n",
       "<table border=\"1\" class=\"dataframe\">\n",
       "  <thead>\n",
       "    <tr style=\"text-align: right;\">\n",
       "      <th></th>\n",
       "      <th>CASE_ID</th>\n",
       "      <th>CASE_PARTICIPANT_ID</th>\n",
       "      <th>RECEIVED_DATE</th>\n",
       "      <th>OFFENSE_CATEGORY</th>\n",
       "      <th>PRIMARY_CHARGE_FLAG</th>\n",
       "      <th>CHARGE_ID</th>\n",
       "      <th>CHARGE_VERSION_ID</th>\n",
       "      <th>DISPOSITION_CHARGED_OFFENSE_TITLE</th>\n",
       "      <th>CHARGE_COUNT</th>\n",
       "      <th>DISPOSITION_DATE</th>\n",
       "      <th>...</th>\n",
       "      <th>is_hisp_derived</th>\n",
       "      <th>is_white_derived</th>\n",
       "      <th>is_other_derived</th>\n",
       "      <th>is_male_derived</th>\n",
       "      <th>age_derived</th>\n",
       "      <th>sentenceymd_derived</th>\n",
       "      <th>sentenceym_derived</th>\n",
       "      <th>judgeid_derived</th>\n",
       "      <th>Incar</th>\n",
       "      <th>senlength_derived</th>\n",
       "    </tr>\n",
       "  </thead>\n",
       "  <tbody>\n",
       "    <tr>\n",
       "      <th>0</th>\n",
       "      <td>149765331439</td>\n",
       "      <td>175691153649</td>\n",
       "      <td>8/15/1984 12:00:00 AM</td>\n",
       "      <td>PROMIS Conversion</td>\n",
       "      <td>True</td>\n",
       "      <td>50510062193</td>\n",
       "      <td>112898098217</td>\n",
       "      <td>FIRST DEGREE MURDER</td>\n",
       "      <td>1</td>\n",
       "      <td>12/17/2014 12:00:00 AM</td>\n",
       "      <td>...</td>\n",
       "      <td>False</td>\n",
       "      <td>False</td>\n",
       "      <td>False</td>\n",
       "      <td>True</td>\n",
       "      <td>27.0</td>\n",
       "      <td>2014-10-16</td>\n",
       "      <td>2014-10-01</td>\n",
       "      <td>judge_40</td>\n",
       "      <td>True</td>\n",
       "      <td>62.0</td>\n",
       "    </tr>\n",
       "    <tr>\n",
       "      <th>1</th>\n",
       "      <td>150065796098</td>\n",
       "      <td>162105612284</td>\n",
       "      <td>8/23/1984 12:00:00 AM</td>\n",
       "      <td>PROMIS Conversion</td>\n",
       "      <td>True</td>\n",
       "      <td>50792360681</td>\n",
       "      <td>113332130159</td>\n",
       "      <td>FIRST DEGREE MURDER</td>\n",
       "      <td>1</td>\n",
       "      <td>8/6/2014 12:00:00 AM</td>\n",
       "      <td>...</td>\n",
       "      <td>False</td>\n",
       "      <td>False</td>\n",
       "      <td>False</td>\n",
       "      <td>True</td>\n",
       "      <td>30.0</td>\n",
       "      <td>2014-08-06</td>\n",
       "      <td>2014-08-01</td>\n",
       "      <td>judge_310</td>\n",
       "      <td>True</td>\n",
       "      <td>70.0</td>\n",
       "    </tr>\n",
       "    <tr>\n",
       "      <th>2</th>\n",
       "      <td>154954734978</td>\n",
       "      <td>225758446387</td>\n",
       "      <td>6/8/2001 12:00:00 AM</td>\n",
       "      <td>PROMIS Conversion</td>\n",
       "      <td>True</td>\n",
       "      <td>54885211141</td>\n",
       "      <td>174293345821</td>\n",
       "      <td>VIO BAIL BOND/CLASS 1</td>\n",
       "      <td>1</td>\n",
       "      <td>12/2/2013 12:00:00 AM</td>\n",
       "      <td>...</td>\n",
       "      <td>True</td>\n",
       "      <td>False</td>\n",
       "      <td>False</td>\n",
       "      <td>True</td>\n",
       "      <td>38.0</td>\n",
       "      <td>2013-12-02</td>\n",
       "      <td>2013-12-01</td>\n",
       "      <td>judge_162</td>\n",
       "      <td>True</td>\n",
       "      <td>3.0</td>\n",
       "    </tr>\n",
       "    <tr>\n",
       "      <th>3</th>\n",
       "      <td>155222744754</td>\n",
       "      <td>217349881776</td>\n",
       "      <td>1/31/2001 12:00:00 AM</td>\n",
       "      <td>PROMIS Conversion</td>\n",
       "      <td>True</td>\n",
       "      <td>53899906462</td>\n",
       "      <td>280120721775</td>\n",
       "      <td>POSS AMT CON SUB EXCEPT (A)/(D)</td>\n",
       "      <td>1</td>\n",
       "      <td>9/10/2012 12:00:00 AM</td>\n",
       "      <td>...</td>\n",
       "      <td>False</td>\n",
       "      <td>False</td>\n",
       "      <td>False</td>\n",
       "      <td>False</td>\n",
       "      <td>33.0</td>\n",
       "      <td>2012-09-10</td>\n",
       "      <td>2012-09-01</td>\n",
       "      <td>judge_331</td>\n",
       "      <td>False</td>\n",
       "      <td>2.0</td>\n",
       "    </tr>\n",
       "    <tr>\n",
       "      <th>4</th>\n",
       "      <td>155327892699</td>\n",
       "      <td>217212381455</td>\n",
       "      <td>2/6/2001 12:00:00 AM</td>\n",
       "      <td>PROMIS Conversion</td>\n",
       "      <td>True</td>\n",
       "      <td>53938518259</td>\n",
       "      <td>164877860811</td>\n",
       "      <td>DUI LIC SUSPENDED OR REVOKED (EFFECTIVE 4-13-2...</td>\n",
       "      <td>1</td>\n",
       "      <td>9/19/2014 12:00:00 AM</td>\n",
       "      <td>...</td>\n",
       "      <td>False</td>\n",
       "      <td>True</td>\n",
       "      <td>False</td>\n",
       "      <td>True</td>\n",
       "      <td>49.0</td>\n",
       "      <td>2014-09-19</td>\n",
       "      <td>2014-09-01</td>\n",
       "      <td>judge_314</td>\n",
       "      <td>False</td>\n",
       "      <td>2.0</td>\n",
       "    </tr>\n",
       "  </tbody>\n",
       "</table>\n",
       "<p>5 rows × 54 columns</p>\n",
       "</div>"
      ],
      "text/plain": [
       "        CASE_ID  CASE_PARTICIPANT_ID          RECEIVED_DATE  \\\n",
       "0  149765331439         175691153649  8/15/1984 12:00:00 AM   \n",
       "1  150065796098         162105612284  8/23/1984 12:00:00 AM   \n",
       "2  154954734978         225758446387   6/8/2001 12:00:00 AM   \n",
       "3  155222744754         217349881776  1/31/2001 12:00:00 AM   \n",
       "4  155327892699         217212381455   2/6/2001 12:00:00 AM   \n",
       "\n",
       "    OFFENSE_CATEGORY  PRIMARY_CHARGE_FLAG    CHARGE_ID  CHARGE_VERSION_ID  \\\n",
       "0  PROMIS Conversion                 True  50510062193       112898098217   \n",
       "1  PROMIS Conversion                 True  50792360681       113332130159   \n",
       "2  PROMIS Conversion                 True  54885211141       174293345821   \n",
       "3  PROMIS Conversion                 True  53899906462       280120721775   \n",
       "4  PROMIS Conversion                 True  53938518259       164877860811   \n",
       "\n",
       "                   DISPOSITION_CHARGED_OFFENSE_TITLE  CHARGE_COUNT  \\\n",
       "0                                FIRST DEGREE MURDER             1   \n",
       "1                                FIRST DEGREE MURDER             1   \n",
       "2                              VIO BAIL BOND/CLASS 1             1   \n",
       "3                    POSS AMT CON SUB EXCEPT (A)/(D)             1   \n",
       "4  DUI LIC SUSPENDED OR REVOKED (EFFECTIVE 4-13-2...             1   \n",
       "\n",
       "         DISPOSITION_DATE  ... is_hisp_derived is_white_derived  \\\n",
       "0  12/17/2014 12:00:00 AM  ...           False            False   \n",
       "1    8/6/2014 12:00:00 AM  ...           False            False   \n",
       "2   12/2/2013 12:00:00 AM  ...            True            False   \n",
       "3   9/10/2012 12:00:00 AM  ...           False            False   \n",
       "4   9/19/2014 12:00:00 AM  ...           False             True   \n",
       "\n",
       "  is_other_derived is_male_derived age_derived sentenceymd_derived  \\\n",
       "0            False            True        27.0          2014-10-16   \n",
       "1            False            True        30.0          2014-08-06   \n",
       "2            False            True        38.0          2013-12-02   \n",
       "3            False           False        33.0          2012-09-10   \n",
       "4            False            True        49.0          2014-09-19   \n",
       "\n",
       "  sentenceym_derived judgeid_derived  Incar senlength_derived  \n",
       "0         2014-10-01        judge_40   True              62.0  \n",
       "1         2014-08-01       judge_310   True              70.0  \n",
       "2         2013-12-01       judge_162   True               3.0  \n",
       "3         2012-09-01       judge_331  False               2.0  \n",
       "4         2014-09-01       judge_314  False               2.0  \n",
       "\n",
       "[5 rows x 54 columns]"
      ]
     },
     "execution_count": 190,
     "metadata": {},
     "output_type": "execute_result"
    }
   ],
   "source": [
    "sentencing_cleaned_upd = transition(df = sentence_filter1)\n",
    "sentencing_cleaned_upd.head()"
   ]
  },
  {
   "cell_type": "code",
   "execution_count": 192,
   "id": "436fca01",
   "metadata": {},
   "outputs": [
    {
     "data": {
      "text/html": [
       "<div>\n",
       "<style scoped>\n",
       "    .dataframe tbody tr th:only-of-type {\n",
       "        vertical-align: middle;\n",
       "    }\n",
       "\n",
       "    .dataframe tbody tr th {\n",
       "        vertical-align: top;\n",
       "    }\n",
       "\n",
       "    .dataframe thead th {\n",
       "        text-align: right;\n",
       "    }\n",
       "</style>\n",
       "<table border=\"1\" class=\"dataframe\">\n",
       "  <thead>\n",
       "    <tr style=\"text-align: right;\">\n",
       "      <th></th>\n",
       "      <th>is_changed_offense</th>\n",
       "      <th>is_black_derived</th>\n",
       "      <th>is_hisp_derived</th>\n",
       "      <th>is_white_derived</th>\n",
       "      <th>is_male_derived</th>\n",
       "      <th>senlength_derived</th>\n",
       "      <th>Incar</th>\n",
       "    </tr>\n",
       "  </thead>\n",
       "  <tbody>\n",
       "    <tr>\n",
       "      <th>0</th>\n",
       "      <td>True</td>\n",
       "      <td>True</td>\n",
       "      <td>False</td>\n",
       "      <td>False</td>\n",
       "      <td>True</td>\n",
       "      <td>62.0</td>\n",
       "      <td>True</td>\n",
       "    </tr>\n",
       "    <tr>\n",
       "      <th>1</th>\n",
       "      <td>True</td>\n",
       "      <td>True</td>\n",
       "      <td>False</td>\n",
       "      <td>False</td>\n",
       "      <td>True</td>\n",
       "      <td>70.0</td>\n",
       "      <td>True</td>\n",
       "    </tr>\n",
       "    <tr>\n",
       "      <th>2</th>\n",
       "      <td>False</td>\n",
       "      <td>False</td>\n",
       "      <td>True</td>\n",
       "      <td>False</td>\n",
       "      <td>True</td>\n",
       "      <td>3.0</td>\n",
       "      <td>True</td>\n",
       "    </tr>\n",
       "    <tr>\n",
       "      <th>3</th>\n",
       "      <td>True</td>\n",
       "      <td>True</td>\n",
       "      <td>False</td>\n",
       "      <td>False</td>\n",
       "      <td>False</td>\n",
       "      <td>2.0</td>\n",
       "      <td>False</td>\n",
       "    </tr>\n",
       "    <tr>\n",
       "      <th>4</th>\n",
       "      <td>False</td>\n",
       "      <td>False</td>\n",
       "      <td>False</td>\n",
       "      <td>True</td>\n",
       "      <td>True</td>\n",
       "      <td>2.0</td>\n",
       "      <td>False</td>\n",
       "    </tr>\n",
       "  </tbody>\n",
       "</table>\n",
       "</div>"
      ],
      "text/plain": [
       "   is_changed_offense  is_black_derived  is_hisp_derived  is_white_derived  \\\n",
       "0                True              True            False             False   \n",
       "1                True              True            False             False   \n",
       "2               False             False             True             False   \n",
       "3                True              True            False             False   \n",
       "4               False             False            False              True   \n",
       "\n",
       "   is_male_derived  senlength_derived  Incar  \n",
       "0             True               62.0   True  \n",
       "1             True               70.0   True  \n",
       "2             True                3.0   True  \n",
       "3            False                2.0  False  \n",
       "4             True                2.0  False  "
      ]
     },
     "execution_count": 192,
     "metadata": {},
     "output_type": "execute_result"
    }
   ],
   "source": [
    "sentencing_inc = sentencing_cleaned_upd[['is_changed_offense','is_black_derived','is_hisp_derived'\\\n",
    "                                         ,'is_white_derived','is_male_derived','senlength_derived','Incar']]\n",
    "sentencing_inc.head()"
   ]
  },
  {
   "cell_type": "markdown",
   "id": "6c87b745",
   "metadata": {},
   "source": [
    "### Rename the True/False column, change True to 1, False to 0"
   ]
  },
  {
   "cell_type": "code",
   "execution_count": 193,
   "id": "d3b31110",
   "metadata": {},
   "outputs": [
    {
     "name": "stderr",
     "output_type": "stream",
     "text": [
      "/var/folders/39/p0rpjrxj68l4cbrkhyvw78fm0000gn/T/ipykernel_76237/944494596.py:3: SettingWithCopyWarning: \n",
      "A value is trying to be set on a copy of a slice from a DataFrame.\n",
      "Try using .loc[row_indexer,col_indexer] = value instead\n",
      "\n",
      "See the caveats in the documentation: https://pandas.pydata.org/pandas-docs/stable/user_guide/indexing.html#returning-a-view-versus-a-copy\n",
      "/var/folders/39/p0rpjrxj68l4cbrkhyvw78fm0000gn/T/ipykernel_76237/944494596.py:4: SettingWithCopyWarning: \n",
      "A value is trying to be set on a copy of a slice from a DataFrame.\n",
      "Try using .loc[row_indexer,col_indexer] = value instead\n",
      "\n",
      "See the caveats in the documentation: https://pandas.pydata.org/pandas-docs/stable/user_guide/indexing.html#returning-a-view-versus-a-copy\n",
      "/var/folders/39/p0rpjrxj68l4cbrkhyvw78fm0000gn/T/ipykernel_76237/944494596.py:5: SettingWithCopyWarning: \n",
      "A value is trying to be set on a copy of a slice from a DataFrame.\n",
      "Try using .loc[row_indexer,col_indexer] = value instead\n",
      "\n",
      "See the caveats in the documentation: https://pandas.pydata.org/pandas-docs/stable/user_guide/indexing.html#returning-a-view-versus-a-copy\n",
      "/var/folders/39/p0rpjrxj68l4cbrkhyvw78fm0000gn/T/ipykernel_76237/944494596.py:6: SettingWithCopyWarning: \n",
      "A value is trying to be set on a copy of a slice from a DataFrame.\n",
      "Try using .loc[row_indexer,col_indexer] = value instead\n",
      "\n",
      "See the caveats in the documentation: https://pandas.pydata.org/pandas-docs/stable/user_guide/indexing.html#returning-a-view-versus-a-copy\n",
      "/var/folders/39/p0rpjrxj68l4cbrkhyvw78fm0000gn/T/ipykernel_76237/944494596.py:7: SettingWithCopyWarning: \n",
      "A value is trying to be set on a copy of a slice from a DataFrame.\n",
      "Try using .loc[row_indexer,col_indexer] = value instead\n",
      "\n",
      "See the caveats in the documentation: https://pandas.pydata.org/pandas-docs/stable/user_guide/indexing.html#returning-a-view-versus-a-copy\n",
      "/var/folders/39/p0rpjrxj68l4cbrkhyvw78fm0000gn/T/ipykernel_76237/944494596.py:8: SettingWithCopyWarning: \n",
      "A value is trying to be set on a copy of a slice from a DataFrame.\n",
      "Try using .loc[row_indexer,col_indexer] = value instead\n",
      "\n",
      "See the caveats in the documentation: https://pandas.pydata.org/pandas-docs/stable/user_guide/indexing.html#returning-a-view-versus-a-copy\n"
     ]
    }
   ],
   "source": [
    "le = LabelEncoder()\n",
    "le.fit(sentencing_inc['is_black_derived']) \n",
    "sentencing_inc['is_black_derived'] = le.transform(sentencing_inc['is_black_derived'])   \n",
    "sentencing_inc['is_white_derived'] = le.transform(sentencing_inc['is_white_derived'])\n",
    "sentencing_inc['is_hisp_derived'] = le.transform(sentencing_inc['is_hisp_derived'])\n",
    "sentencing_inc['is_male_derived'] = le.transform(sentencing_inc['is_male_derived'])\n",
    "sentencing_inc['is_changed_offense'] = le.transform(sentencing_inc['is_changed_offense'])\n",
    "sentencing_inc['Incar'] = le.transform(sentencing_inc['Incar'])"
   ]
  },
  {
   "cell_type": "code",
   "execution_count": 194,
   "id": "ff610b6f",
   "metadata": {},
   "outputs": [
    {
     "data": {
      "text/html": [
       "<div>\n",
       "<style scoped>\n",
       "    .dataframe tbody tr th:only-of-type {\n",
       "        vertical-align: middle;\n",
       "    }\n",
       "\n",
       "    .dataframe tbody tr th {\n",
       "        vertical-align: top;\n",
       "    }\n",
       "\n",
       "    .dataframe thead th {\n",
       "        text-align: right;\n",
       "    }\n",
       "</style>\n",
       "<table border=\"1\" class=\"dataframe\">\n",
       "  <thead>\n",
       "    <tr style=\"text-align: right;\">\n",
       "      <th></th>\n",
       "      <th>is_changed_offense</th>\n",
       "      <th>is_black_derived</th>\n",
       "      <th>is_hisp_derived</th>\n",
       "      <th>is_white_derived</th>\n",
       "      <th>is_male_derived</th>\n",
       "      <th>senlength_derived</th>\n",
       "      <th>Incar</th>\n",
       "    </tr>\n",
       "  </thead>\n",
       "  <tbody>\n",
       "    <tr>\n",
       "      <th>0</th>\n",
       "      <td>1</td>\n",
       "      <td>1</td>\n",
       "      <td>0</td>\n",
       "      <td>0</td>\n",
       "      <td>1</td>\n",
       "      <td>62.0</td>\n",
       "      <td>1</td>\n",
       "    </tr>\n",
       "    <tr>\n",
       "      <th>1</th>\n",
       "      <td>1</td>\n",
       "      <td>1</td>\n",
       "      <td>0</td>\n",
       "      <td>0</td>\n",
       "      <td>1</td>\n",
       "      <td>70.0</td>\n",
       "      <td>1</td>\n",
       "    </tr>\n",
       "    <tr>\n",
       "      <th>2</th>\n",
       "      <td>0</td>\n",
       "      <td>0</td>\n",
       "      <td>1</td>\n",
       "      <td>0</td>\n",
       "      <td>1</td>\n",
       "      <td>3.0</td>\n",
       "      <td>1</td>\n",
       "    </tr>\n",
       "    <tr>\n",
       "      <th>3</th>\n",
       "      <td>1</td>\n",
       "      <td>1</td>\n",
       "      <td>0</td>\n",
       "      <td>0</td>\n",
       "      <td>0</td>\n",
       "      <td>2.0</td>\n",
       "      <td>0</td>\n",
       "    </tr>\n",
       "    <tr>\n",
       "      <th>4</th>\n",
       "      <td>0</td>\n",
       "      <td>0</td>\n",
       "      <td>0</td>\n",
       "      <td>1</td>\n",
       "      <td>1</td>\n",
       "      <td>2.0</td>\n",
       "      <td>0</td>\n",
       "    </tr>\n",
       "  </tbody>\n",
       "</table>\n",
       "</div>"
      ],
      "text/plain": [
       "   is_changed_offense  is_black_derived  is_hisp_derived  is_white_derived  \\\n",
       "0                   1                 1                0                 0   \n",
       "1                   1                 1                0                 0   \n",
       "2                   0                 0                1                 0   \n",
       "3                   1                 1                0                 0   \n",
       "4                   0                 0                0                 1   \n",
       "\n",
       "   is_male_derived  senlength_derived  Incar  \n",
       "0                1               62.0      1  \n",
       "1                1               70.0      1  \n",
       "2                1                3.0      1  \n",
       "3                0                2.0      0  \n",
       "4                1                2.0      0  "
      ]
     },
     "execution_count": 194,
     "metadata": {},
     "output_type": "execute_result"
    }
   ],
   "source": [
    "sentencing_inc.head()"
   ]
  },
  {
   "cell_type": "code",
   "execution_count": 206,
   "id": "1ca3f6f6",
   "metadata": {},
   "outputs": [
    {
     "data": {
      "text/html": [
       "<div>\n",
       "<style scoped>\n",
       "    .dataframe tbody tr th:only-of-type {\n",
       "        vertical-align: middle;\n",
       "    }\n",
       "\n",
       "    .dataframe tbody tr th {\n",
       "        vertical-align: top;\n",
       "    }\n",
       "\n",
       "    .dataframe thead th {\n",
       "        text-align: right;\n",
       "    }\n",
       "</style>\n",
       "<table border=\"1\" class=\"dataframe\">\n",
       "  <thead>\n",
       "    <tr style=\"text-align: right;\">\n",
       "      <th></th>\n",
       "      <th>is_changed_offense</th>\n",
       "      <th>is_black_derived</th>\n",
       "      <th>is_hisp_derived</th>\n",
       "      <th>is_white_derived</th>\n",
       "      <th>is_male_derived</th>\n",
       "      <th>senlength_derived</th>\n",
       "      <th>Incar</th>\n",
       "    </tr>\n",
       "  </thead>\n",
       "  <tbody>\n",
       "    <tr>\n",
       "      <th>count</th>\n",
       "      <td>133373.000000</td>\n",
       "      <td>133373.000000</td>\n",
       "      <td>133373.000000</td>\n",
       "      <td>133373.000000</td>\n",
       "      <td>133373.000000</td>\n",
       "      <td>133373.000000</td>\n",
       "      <td>133373.000000</td>\n",
       "    </tr>\n",
       "    <tr>\n",
       "      <th>mean</th>\n",
       "      <td>0.100763</td>\n",
       "      <td>0.653551</td>\n",
       "      <td>0.186282</td>\n",
       "      <td>0.152227</td>\n",
       "      <td>0.871308</td>\n",
       "      <td>2.859283</td>\n",
       "      <td>0.511543</td>\n",
       "    </tr>\n",
       "    <tr>\n",
       "      <th>std</th>\n",
       "      <td>0.301015</td>\n",
       "      <td>0.475840</td>\n",
       "      <td>0.389336</td>\n",
       "      <td>0.359242</td>\n",
       "      <td>0.334860</td>\n",
       "      <td>4.286118</td>\n",
       "      <td>0.499869</td>\n",
       "    </tr>\n",
       "    <tr>\n",
       "      <th>min</th>\n",
       "      <td>0.000000</td>\n",
       "      <td>0.000000</td>\n",
       "      <td>0.000000</td>\n",
       "      <td>0.000000</td>\n",
       "      <td>0.000000</td>\n",
       "      <td>0.000000</td>\n",
       "      <td>0.000000</td>\n",
       "    </tr>\n",
       "    <tr>\n",
       "      <th>25%</th>\n",
       "      <td>0.000000</td>\n",
       "      <td>0.000000</td>\n",
       "      <td>0.000000</td>\n",
       "      <td>0.000000</td>\n",
       "      <td>1.000000</td>\n",
       "      <td>1.500000</td>\n",
       "      <td>0.000000</td>\n",
       "    </tr>\n",
       "    <tr>\n",
       "      <th>50%</th>\n",
       "      <td>0.000000</td>\n",
       "      <td>1.000000</td>\n",
       "      <td>0.000000</td>\n",
       "      <td>0.000000</td>\n",
       "      <td>1.000000</td>\n",
       "      <td>2.000000</td>\n",
       "      <td>1.000000</td>\n",
       "    </tr>\n",
       "    <tr>\n",
       "      <th>75%</th>\n",
       "      <td>0.000000</td>\n",
       "      <td>1.000000</td>\n",
       "      <td>0.000000</td>\n",
       "      <td>0.000000</td>\n",
       "      <td>1.000000</td>\n",
       "      <td>3.000000</td>\n",
       "      <td>1.000000</td>\n",
       "    </tr>\n",
       "    <tr>\n",
       "      <th>max</th>\n",
       "      <td>1.000000</td>\n",
       "      <td>1.000000</td>\n",
       "      <td>1.000000</td>\n",
       "      <td>1.000000</td>\n",
       "      <td>1.000000</td>\n",
       "      <td>405.000000</td>\n",
       "      <td>1.000000</td>\n",
       "    </tr>\n",
       "  </tbody>\n",
       "</table>\n",
       "</div>"
      ],
      "text/plain": [
       "       is_changed_offense  is_black_derived  is_hisp_derived  \\\n",
       "count       133373.000000     133373.000000    133373.000000   \n",
       "mean             0.100763          0.653551         0.186282   \n",
       "std              0.301015          0.475840         0.389336   \n",
       "min              0.000000          0.000000         0.000000   \n",
       "25%              0.000000          0.000000         0.000000   \n",
       "50%              0.000000          1.000000         0.000000   \n",
       "75%              0.000000          1.000000         0.000000   \n",
       "max              1.000000          1.000000         1.000000   \n",
       "\n",
       "       is_white_derived  is_male_derived  senlength_derived          Incar  \n",
       "count     133373.000000    133373.000000      133373.000000  133373.000000  \n",
       "mean           0.152227         0.871308           2.859283       0.511543  \n",
       "std            0.359242         0.334860           4.286118       0.499869  \n",
       "min            0.000000         0.000000           0.000000       0.000000  \n",
       "25%            0.000000         1.000000           1.500000       0.000000  \n",
       "50%            0.000000         1.000000           2.000000       1.000000  \n",
       "75%            0.000000         1.000000           3.000000       1.000000  \n",
       "max            1.000000         1.000000         405.000000       1.000000  "
      ]
     },
     "execution_count": 206,
     "metadata": {},
     "output_type": "execute_result"
    }
   ],
   "source": [
    "## Describe the data\n",
    "sentencing_inc.describe(include='all')"
   ]
  },
  {
   "cell_type": "markdown",
   "id": "82347dff",
   "metadata": {},
   "source": [
    "## Test different models"
   ]
  },
  {
   "cell_type": "markdown",
   "id": "6a095b5d",
   "metadata": {},
   "source": [
    "### Logistic Regression Model"
   ]
  },
  {
   "cell_type": "code",
   "execution_count": 195,
   "id": "f9e99473",
   "metadata": {},
   "outputs": [],
   "source": [
    "y = sentencing_inc.Incar.values\n",
    "X = sentencing_inc.drop(['Incar'], axis = 1)\n",
    "from sklearn.model_selection import train_test_split\n",
    "X_train,X_test,y_train,y_test = train_test_split(X,y,random_state=6)  \n",
    "\n",
    "from sklearn.preprocessing import StandardScaler\n",
    "\n",
    "standardScaler = StandardScaler()\n",
    "standardScaler.fit(X_train)\n",
    "X_train = standardScaler.transform(X_train)\n",
    "X_test = standardScaler.transform(X_test) "
   ]
  },
  {
   "cell_type": "code",
   "execution_count": 196,
   "id": "7db2cec0",
   "metadata": {},
   "outputs": [
    {
     "data": {
      "text/plain": [
       "0.6324265962870768"
      ]
     },
     "execution_count": 196,
     "metadata": {},
     "output_type": "execute_result"
    }
   ],
   "source": [
    "## Create Logistic Regression Model\n",
    "from sklearn.linear_model import LogisticRegression \n",
    "\n",
    "log_reg = LogisticRegression()\n",
    "log_reg.fit(X_train,y_train)\n",
    "\n",
    "log_reg.score(X_train,y_train)"
   ]
  },
  {
   "cell_type": "code",
   "execution_count": 197,
   "id": "e86ff38a",
   "metadata": {},
   "outputs": [
    {
     "data": {
      "text/plain": [
       "0.6330074376199616"
      ]
     },
     "execution_count": 197,
     "metadata": {},
     "output_type": "execute_result"
    }
   ],
   "source": [
    "log_reg.score(X_test,y_test)"
   ]
  },
  {
   "cell_type": "code",
   "execution_count": 198,
   "id": "3efb1474",
   "metadata": {},
   "outputs": [
    {
     "data": {
      "text/plain": [
       "0.6330074376199616"
      ]
     },
     "execution_count": 198,
     "metadata": {},
     "output_type": "execute_result"
    }
   ],
   "source": [
    "from sklearn.metrics import accuracy_score\n",
    "y_predict_log = log_reg.predict(X_test)\n",
    "\n",
    "# Get the accuracy\n",
    "accuracy_score(y_test,y_predict_log)"
   ]
  },
  {
   "cell_type": "code",
   "execution_count": 199,
   "id": "1c1dd2d0",
   "metadata": {},
   "outputs": [
    {
     "name": "stdout",
     "output_type": "stream",
     "text": [
      "0.6335459527445872\n",
      "              precision    recall  f1-score   support\n",
      "\n",
      "           0       0.62      0.65      0.63     16308\n",
      "           1       0.65      0.62      0.63     17036\n",
      "\n",
      "    accuracy                           0.63     33344\n",
      "   macro avg       0.63      0.63      0.63     33344\n",
      "weighted avg       0.63      0.63      0.63     33344\n",
      "\n"
     ]
    }
   ],
   "source": [
    "## Get f1-score\n",
    "from sklearn.metrics import f1_score\n",
    "\n",
    "print(f1_score(y_test,y_predict_log))\n",
    "\n",
    "from sklearn.metrics import classification_report\n",
    "print(classification_report(y_test,y_predict_log))"
   ]
  },
  {
   "cell_type": "code",
   "execution_count": 200,
   "id": "703c959e",
   "metadata": {},
   "outputs": [
    {
     "data": {
      "image/png": "[encoded data removed]",
      "text/plain": [
       "<Figure size 432x288 with 2 Axes>"
      ]
     },
     "metadata": {},
     "output_type": "display_data"
    }
   ],
   "source": [
    "## Create Matrix\n",
    "from sklearn.metrics import confusion_matrix\n",
    "cnf_matrix = confusion_matrix(y_test,y_predict_log)\n",
    "cnf_matrix\n",
    "\n",
    "def plot_cnf_matirx(cnf_matrix,description):\n",
    "    class_names = [0,1]\n",
    "    fig,ax = plt.subplots()\n",
    "    tick_marks = np.arange(len(class_names))\n",
    "    plt.xticks(tick_marks,class_names)\n",
    "    plt.yticks(tick_marks,class_names)\n",
    "\n",
    "# Create a heat map\n",
    "    sns.heatmap(pd.DataFrame(cnf_matrix), annot = True, cmap = 'OrRd',\n",
    "               fmt = 'g')\n",
    "    ax.xaxis.set_label_position('top')\n",
    "    plt.tight_layout()\n",
    "    plt.title(description, y = 1.1,fontsize=16)\n",
    "    plt.ylabel('Actual Value 0/1',fontsize=12)\n",
    "    plt.xlabel('Predict Value 0/1',fontsize=12)\n",
    "    plt.show()\n",
    "    \n",
    "plot_cnf_matirx(cnf_matrix,'Confusion matrix -- Logistic Regression')"
   ]
  },
  {
   "cell_type": "code",
   "execution_count": 201,
   "id": "94bbe944",
   "metadata": {},
   "outputs": [
    {
     "data": {
      "image/png": "[encoded data removed]",
      "text/plain": [
       "<Figure size 432x288 with 1 Axes>"
      ]
     },
     "metadata": {},
     "output_type": "display_data"
    }
   ],
   "source": [
    "decision_scores = log_reg.decision_function(X_test)\n",
    "\n",
    "from sklearn.metrics import precision_recall_curve\n",
    "\n",
    "precisions,recalls,thresholds = precision_recall_curve(y_test,decision_scores)\n",
    "\n",
    "plt.plot(thresholds,precisions[:-1])\n",
    "plt.plot(thresholds,recalls[:-1])\n",
    "plt.grid()\n",
    "plt.show() "
   ]
  },
  {
   "cell_type": "code",
   "execution_count": 202,
   "id": "1fb476f4",
   "metadata": {},
   "outputs": [
    {
     "data": {
      "image/png": "[encoded data removed]",
      "text/plain": [
       "<Figure size 640x480 with 1 Axes>"
      ]
     },
     "metadata": {},
     "output_type": "display_data"
    }
   ],
   "source": [
    "# Plot ROC curve\n",
    "from sklearn.metrics import roc_curve\n",
    "\n",
    "fprs,tprs,thresholds = roc_curve(y_test,decision_scores)\n",
    "\n",
    "def plot_roc_curve(fprs,tprs):\n",
    "    plt.figure(figsize=(8,6),dpi=80)\n",
    "    plt.plot(fprs,tprs)\n",
    "    plt.plot([0,1],linestyle='--')\n",
    "    plt.xticks(fontsize=13)\n",
    "    plt.yticks(fontsize=13)\n",
    "    plt.ylabel('TP rate',fontsize=15)\n",
    "    plt.xlabel('FP rate',fontsize=15)\n",
    "    plt.title('ROC Curve',fontsize=17)\n",
    "    plt.show()\n",
    "    \n",
    "plot_roc_curve(fprs,tprs)"
   ]
  },
  {
   "cell_type": "code",
   "execution_count": 203,
   "id": "50cc5835",
   "metadata": {},
   "outputs": [
    {
     "data": {
      "text/plain": [
       "0.7472014852847652"
      ]
     },
     "execution_count": 203,
     "metadata": {},
     "output_type": "execute_result"
    }
   ],
   "source": [
    "# Get the area, which is equal to score\n",
    "from sklearn.metrics import roc_auc_score \n",
    "\n",
    "roc_auc_score(y_test,decision_scores)"
   ]
  },
  {
   "cell_type": "markdown",
   "id": "e0b516a0",
   "metadata": {},
   "source": [
    "## KNN Neighbor Model"
   ]
  },
  {
   "cell_type": "code",
   "execution_count": 237,
   "id": "2d33b13d",
   "metadata": {},
   "outputs": [],
   "source": [
    "param_grid = [\n",
    "    {\n",
    "        'weights':['uniform'],\n",
    "        'n_neighbors':[i for i in range(1,31)]\n",
    "    },\n",
    "    {\n",
    "        'weights':['distance'],\n",
    "        'n_neighbors':[i for i in range(1,31)],\n",
    "        'p':[i for i in range(1,6)]\n",
    "    }\n",
    "]"
   ]
  },
  {
   "cell_type": "code",
   "execution_count": 238,
   "id": "9ce3eb95",
   "metadata": {},
   "outputs": [
    {
     "data": {
      "text/plain": [
       "GridSearchCV(estimator=KNeighborsClassifier(),\n",
       "             param_grid=[{'n_neighbors': [1, 2, 3, 4, 5, 6, 7, 8, 9, 10, 11, 12,\n",
       "                                          13, 14, 15, 16, 17, 18, 19, 20, 21,\n",
       "                                          22, 23, 24, 25, 26, 27, 28, 29, 30],\n",
       "                          'weights': ['uniform']},\n",
       "                         {'n_neighbors': [1, 2, 3, 4, 5, 6, 7, 8, 9, 10, 11, 12,\n",
       "                                          13, 14, 15, 16, 17, 18, 19, 20, 21,\n",
       "                                          22, 23, 24, 25, 26, 27, 28, 29, 30],\n",
       "                          'p': [1, 2, 3, 4, 5], 'weights': ['distance']}])"
      ]
     },
     "execution_count": 238,
     "metadata": {},
     "output_type": "execute_result"
    }
   ],
   "source": [
    "from sklearn.neighbors import KNeighborsClassifier\n",
    "knn_clf = KNeighborsClassifier()\n",
    "\n",
    "grid_search = GridSearchCV(knn_clf,param_grid)\n",
    "\n",
    "grid_search.fit(X_train,y_train)"
   ]
  },
  {
   "cell_type": "code",
   "execution_count": 239,
   "id": "fcd7c8ba",
   "metadata": {},
   "outputs": [
    {
     "data": {
      "text/plain": [
       "0.8264803128419136"
      ]
     },
     "execution_count": 239,
     "metadata": {},
     "output_type": "execute_result"
    }
   ],
   "source": [
    "grid_search.best_score_"
   ]
  },
  {
   "cell_type": "code",
   "execution_count": 240,
   "id": "cced06df",
   "metadata": {},
   "outputs": [
    {
     "data": {
      "text/plain": [
       "0.8279698887322676"
      ]
     },
     "execution_count": 240,
     "metadata": {},
     "output_type": "execute_result"
    }
   ],
   "source": [
    "knn_clf = grid_search.best_estimator_\n",
    "knn_clf.score(X_train,y_train)"
   ]
  },
  {
   "cell_type": "code",
   "execution_count": 241,
   "id": "4d1fff23",
   "metadata": {},
   "outputs": [
    {
     "data": {
      "text/plain": [
       "0.8272852687140115"
      ]
     },
     "execution_count": 241,
     "metadata": {},
     "output_type": "execute_result"
    }
   ],
   "source": [
    "knn_clf.score(X_test,y_test)"
   ]
  },
  {
   "cell_type": "code",
   "execution_count": 242,
   "id": "6fd15768",
   "metadata": {},
   "outputs": [
    {
     "data": {
      "text/plain": [
       "0.8182879500205092"
      ]
     },
     "execution_count": 242,
     "metadata": {},
     "output_type": "execute_result"
    }
   ],
   "source": [
    "## Get F1-score\n",
    "y_predict_knn = knn_clf.predict(X_test)\n",
    "f1_score(y_test,y_predict_knn)"
   ]
  },
  {
   "cell_type": "code",
   "execution_count": 243,
   "id": "280d2f58",
   "metadata": {},
   "outputs": [
    {
     "name": "stdout",
     "output_type": "stream",
     "text": [
      "              precision    recall  f1-score   support\n",
      "\n",
      "           0       0.78      0.90      0.84     16308\n",
      "           1       0.88      0.76      0.82     17036\n",
      "\n",
      "    accuracy                           0.83     33344\n",
      "   macro avg       0.83      0.83      0.83     33344\n",
      "weighted avg       0.83      0.83      0.83     33344\n",
      "\n"
     ]
    }
   ],
   "source": [
    "print(classification_report(y_test,y_predict_knn))"
   ]
  },
  {
   "cell_type": "code",
   "execution_count": 244,
   "id": "4a5fc52a",
   "metadata": {},
   "outputs": [
    {
     "data": {
      "text/plain": [
       "array([[14618,  1690],\n",
       "       [ 4069, 12967]])"
      ]
     },
     "execution_count": 244,
     "metadata": {},
     "output_type": "execute_result"
    }
   ],
   "source": [
    "## Get the matrix\n",
    "cnf_matrix = confusion_matrix(y_test,y_predict_knn)\n",
    "cnf_matrix"
   ]
  },
  {
   "cell_type": "code",
   "execution_count": 245,
   "id": "ca068767",
   "metadata": {},
   "outputs": [
    {
     "data": {
      "image/png": "[encoded data removed]",
      "text/plain": [
       "<Figure size 432x288 with 2 Axes>"
      ]
     },
     "metadata": {},
     "output_type": "display_data"
    }
   ],
   "source": [
    "# Plot the matrix graph\n",
    "plot_cnf_matirx(cnf_matrix,'Confusion matrix -- KNN Neighbor')"
   ]
  },
  {
   "cell_type": "code",
   "execution_count": 246,
   "id": "03864f3a",
   "metadata": {},
   "outputs": [
    {
     "data": {
      "image/png": "[encoded data removed]",
      "text/plain": [
       "<Figure size 432x288 with 1 Axes>"
      ]
     },
     "metadata": {},
     "output_type": "display_data"
    }
   ],
   "source": [
    "## Plot line graph\n",
    "y_probabilities = knn_clf.predict_proba(X_test)[:,1]\n",
    "\n",
    "from sklearn.metrics import precision_recall_curve\n",
    "\n",
    "precisions,recalls,thresholds = precision_recall_curve(y_test,y_probabilities)\n",
    "\n",
    "plt.plot(thresholds,precisions[:-1])\n",
    "plt.plot(thresholds,recalls[:-1])\n",
    "plt.grid()\n",
    "plt.show()    "
   ]
  },
  {
   "cell_type": "code",
   "execution_count": 247,
   "id": "0668806c",
   "metadata": {},
   "outputs": [
    {
     "data": {
      "image/png": "[encoded data removed]",
      "text/plain": [
       "<Figure size 640x480 with 1 Axes>"
      ]
     },
     "metadata": {},
     "output_type": "display_data"
    }
   ],
   "source": [
    "## Plot the ROC Curve\n",
    "from sklearn.metrics import roc_curve\n",
    "fprs2,tprs2,thresholds2 = roc_curve(y_test,y_probabilities)\n",
    "plot_roc_curve(fprs2,tprs2)"
   ]
  },
  {
   "cell_type": "code",
   "execution_count": 248,
   "id": "e05266c0",
   "metadata": {},
   "outputs": [
    {
     "data": {
      "text/plain": [
       "0.8886227465011836"
      ]
     },
     "execution_count": 248,
     "metadata": {},
     "output_type": "execute_result"
    }
   ],
   "source": [
    "# Get the area, which is equal to the score\n",
    "from sklearn.metrics import roc_auc_score  \n",
    "roc_auc_score(y_test,y_probabilities)"
   ]
  },
  {
   "cell_type": "markdown",
   "id": "5bc646a7",
   "metadata": {},
   "source": [
    "## Decision Tree"
   ]
  },
  {
   "cell_type": "code",
   "execution_count": 225,
   "id": "107e0b30",
   "metadata": {},
   "outputs": [],
   "source": [
    "from sklearn.tree import DecisionTreeClassifier\n",
    "dt_clf= DecisionTreeClassifier(random_state=6)"
   ]
  },
  {
   "cell_type": "code",
   "execution_count": 226,
   "id": "f4c67bd6",
   "metadata": {},
   "outputs": [
    {
     "data": {
      "text/plain": [
       "GridSearchCV(estimator=DecisionTreeClassifier(random_state=6),\n",
       "             param_grid=[{'max_features': ['auto', 'sqrt', 'log2'],\n",
       "                          'min_samples_leaf': [1, 2, 3, 4, 5, 6, 7, 8, 9, 10,\n",
       "                                               11],\n",
       "                          'min_samples_split': [2, 3, 4, 5, 6, 7, 8, 9, 10, 11,\n",
       "                                                12, 13, 14, 15, 16, 17, 18]}])"
      ]
     },
     "execution_count": 226,
     "metadata": {},
     "output_type": "execute_result"
    }
   ],
   "source": [
    "from sklearn.model_selection import GridSearchCV\n",
    "param_grid = [\n",
    "    {\n",
    "        'max_features':['auto','sqrt','log2'],\n",
    "        'min_samples_split':[2,3,4,5,6,7,8,9,10,11,12,13,14,15,16,17,18],\n",
    "        'min_samples_leaf':[1,2,3,4,5,6,7,8,9,10,11]\n",
    "    }\n",
    "]\n",
    "grid_search = GridSearchCV(dt_clf,param_grid)\n",
    "\n",
    "grid_search.fit(X_train,y_train)"
   ]
  },
  {
   "cell_type": "code",
   "execution_count": 227,
   "id": "3b3bbdc3",
   "metadata": {},
   "outputs": [
    {
     "data": {
      "text/plain": [
       "DecisionTreeClassifier(max_features='auto', min_samples_leaf=7, random_state=6)"
      ]
     },
     "execution_count": 227,
     "metadata": {},
     "output_type": "execute_result"
    }
   ],
   "source": [
    "grid_search.best_estimator_"
   ]
  },
  {
   "cell_type": "code",
   "execution_count": 228,
   "id": "03a7759b",
   "metadata": {},
   "outputs": [
    {
     "data": {
      "text/plain": [
       "0.8269001908775031"
      ]
     },
     "execution_count": 228,
     "metadata": {},
     "output_type": "execute_result"
    }
   ],
   "source": [
    "grid_search.best_score_"
   ]
  },
  {
   "cell_type": "code",
   "execution_count": 229,
   "id": "d63d3e7d",
   "metadata": {},
   "outputs": [
    {
     "data": {
      "text/plain": [
       "0.8272401003708925"
      ]
     },
     "execution_count": 229,
     "metadata": {},
     "output_type": "execute_result"
    }
   ],
   "source": [
    "dt_clf = grid_search.best_estimator_\n",
    "dt_clf.score(X_train,y_train)"
   ]
  },
  {
   "cell_type": "code",
   "execution_count": 230,
   "id": "ae70b2b1",
   "metadata": {},
   "outputs": [
    {
     "data": {
      "text/plain": [
       "0.8178086517208714"
      ]
     },
     "execution_count": 230,
     "metadata": {},
     "output_type": "execute_result"
    }
   ],
   "source": [
    "## Get F1-score\n",
    "y_predict_dt = dt_clf.predict(X_test)\n",
    "f1_score(y_test,y_predict_dt)"
   ]
  },
  {
   "cell_type": "code",
   "execution_count": 231,
   "id": "703339a8",
   "metadata": {},
   "outputs": [
    {
     "name": "stdout",
     "output_type": "stream",
     "text": [
      "              precision    recall  f1-score   support\n",
      "\n",
      "           0       0.78      0.90      0.84     16308\n",
      "           1       0.88      0.76      0.82     17036\n",
      "\n",
      "    accuracy                           0.83     33344\n",
      "   macro avg       0.83      0.83      0.83     33344\n",
      "weighted avg       0.83      0.83      0.83     33344\n",
      "\n"
     ]
    },
    {
     "data": {
      "text/plain": [
       "array([[14624,  1684],\n",
       "       [ 4086, 12950]])"
      ]
     },
     "execution_count": 231,
     "metadata": {},
     "output_type": "execute_result"
    }
   ],
   "source": [
    "## Plot the matrix\n",
    "print(classification_report(y_test,y_predict_dt))\n",
    "cnf_matrix = confusion_matrix(y_test,y_predict_dt)\n",
    "cnf_matrix"
   ]
  },
  {
   "cell_type": "code",
   "execution_count": 232,
   "id": "2fc50a75",
   "metadata": {},
   "outputs": [
    {
     "data": {
      "image/png": "[encoded data removed]",
      "text/plain": [
       "<Figure size 432x288 with 2 Axes>"
      ]
     },
     "metadata": {},
     "output_type": "display_data"
    }
   ],
   "source": [
    "## Plot the heat graph\n",
    "plot_cnf_matirx(cnf_matrix,'Confusion matrix -- DecisionTree')"
   ]
  },
  {
   "cell_type": "code",
   "execution_count": 233,
   "id": "acb7a1cd",
   "metadata": {},
   "outputs": [],
   "source": [
    "y_probabilities = dt_clf.predict_proba(X_test)[:,1]\n",
    "\n",
    "from sklearn.metrics import precision_recall_curve\n",
    "\n",
    "precisions,recalls,thresholds = precision_recall_curve(y_test,y_probabilities)"
   ]
  },
  {
   "cell_type": "code",
   "execution_count": 234,
   "id": "ebd806b8",
   "metadata": {},
   "outputs": [
    {
     "data": {
      "image/png": "[encoded data removed]",
      "text/plain": [
       "<Figure size 432x288 with 1 Axes>"
      ]
     },
     "metadata": {},
     "output_type": "display_data"
    }
   ],
   "source": [
    "plt.plot(thresholds,precisions[:-1])\n",
    "plt.plot(thresholds,recalls[:-1])\n",
    "plt.grid()\n",
    "plt.show()   "
   ]
  },
  {
   "cell_type": "code",
   "execution_count": 235,
   "id": "23295a03",
   "metadata": {},
   "outputs": [
    {
     "data": {
      "image/png": "[encoded data removed]",
      "text/plain": [
       "<Figure size 640x480 with 1 Axes>"
      ]
     },
     "metadata": {},
     "output_type": "display_data"
    }
   ],
   "source": [
    "## Plot the ROC Curve\n",
    "from sklearn.metrics import roc_curve\n",
    "fprs3,tprs3,thresholds3 = roc_curve(y_test,y_probabilities)\n",
    "plot_roc_curve(fprs3,tprs3)"
   ]
  },
  {
   "cell_type": "code",
   "execution_count": 236,
   "id": "c7369a69",
   "metadata": {},
   "outputs": [
    {
     "data": {
      "text/plain": [
       "0.8940774407489129"
      ]
     },
     "execution_count": 236,
     "metadata": {},
     "output_type": "execute_result"
    }
   ],
   "source": [
    "# Get the area, which is equal to score\n",
    "from sklearn.metrics import roc_auc_score  \n",
    "\n",
    "roc_auc_score(y_test,y_probabilities)"
   ]
  },
  {
   "cell_type": "markdown",
   "id": "a380dc32",
   "metadata": {},
   "source": [
    "## Change the classifier to VotingClassifier"
   ]
  },
  {
   "cell_type": "code",
   "execution_count": 209,
   "id": "ad32e990",
   "metadata": {},
   "outputs": [],
   "source": [
    "from sklearn.ensemble import VotingClassifier\n",
    "\n",
    "voting_clf = VotingClassifier(estimators=[\n",
    "        ('log_clf',log_reg),\n",
    "        ('knn_clf',knn_clf),\n",
    "        ('dt_clf',dt_clf)\n",
    "],voting='soft')"
   ]
  },
  {
   "cell_type": "code",
   "execution_count": 210,
   "id": "4bb9b4ba",
   "metadata": {},
   "outputs": [
    {
     "data": {
      "text/plain": [
       "VotingClassifier(estimators=[('log_clf', LogisticRegression()),\n",
       "                             ('knn_clf', KNeighborsClassifier()),\n",
       "                             ('dt_clf',\n",
       "                              DecisionTreeClassifier(random_state=6))],\n",
       "                 voting='soft')"
      ]
     },
     "execution_count": 210,
     "metadata": {},
     "output_type": "execute_result"
    }
   ],
   "source": [
    "voting_clf.fit(X_train,y_train)"
   ]
  },
  {
   "cell_type": "code",
   "execution_count": 211,
   "id": "eeccd6ab",
   "metadata": {},
   "outputs": [
    {
     "data": {
      "text/plain": [
       "0.8168631096981875"
      ]
     },
     "execution_count": 211,
     "metadata": {},
     "output_type": "execute_result"
    }
   ],
   "source": [
    "voting_clf.score(X_train,y_train)"
   ]
  },
  {
   "cell_type": "code",
   "execution_count": 212,
   "id": "fcd28653",
   "metadata": {},
   "outputs": [
    {
     "data": {
      "text/plain": [
       "0.815978886756238"
      ]
     },
     "execution_count": 212,
     "metadata": {},
     "output_type": "execute_result"
    }
   ],
   "source": [
    "voting_clf.score(X_test,y_test)"
   ]
  },
  {
   "cell_type": "code",
   "execution_count": 213,
   "id": "4cdd5af6",
   "metadata": {},
   "outputs": [
    {
     "data": {
      "text/plain": [
       "0.7999478351591027"
      ]
     },
     "execution_count": 213,
     "metadata": {},
     "output_type": "execute_result"
    }
   ],
   "source": [
    "## Get the F1-score\n",
    "y_predict_voting = voting_clf.predict(X_test)\n",
    "f1_score(y_test,y_predict_voting)"
   ]
  },
  {
   "cell_type": "code",
   "execution_count": 214,
   "id": "02ccf79f",
   "metadata": {},
   "outputs": [
    {
     "name": "stdout",
     "output_type": "stream",
     "text": [
      "              precision    recall  f1-score   support\n",
      "\n",
      "           0       0.76      0.92      0.83     16308\n",
      "           1       0.90      0.72      0.80     17036\n",
      "\n",
      "    accuracy                           0.82     33344\n",
      "   macro avg       0.83      0.82      0.81     33344\n",
      "weighted avg       0.83      0.82      0.81     33344\n",
      "\n"
     ]
    },
    {
     "data": {
      "text/plain": [
       "array([[14940,  1368],\n",
       "       [ 4768, 12268]])"
      ]
     },
     "execution_count": 214,
     "metadata": {},
     "output_type": "execute_result"
    }
   ],
   "source": [
    "## Plot the matrix\n",
    "print(classification_report(y_test,y_predict_voting))\n",
    "cnv_matrix = confusion_matrix(y_test,y_predict_voting)\n",
    "cnv_matrix"
   ]
  },
  {
   "cell_type": "code",
   "execution_count": 215,
   "id": "1c15bb8e",
   "metadata": {},
   "outputs": [
    {
     "data": {
      "image/png": "[encoded data removed]",
      "text/plain": [
       "<Figure size 432x288 with 2 Axes>"
      ]
     },
     "metadata": {},
     "output_type": "display_data"
    }
   ],
   "source": [
    "## Plot the heat graph\n",
    "plot_cnf_matirx(cnv_matrix,'Confusion matrix -- Voting')"
   ]
  },
  {
   "cell_type": "code",
   "execution_count": 216,
   "id": "7d8934f1",
   "metadata": {},
   "outputs": [
    {
     "data": {
      "text/plain": [
       "0.8893090627514729"
      ]
     },
     "execution_count": 216,
     "metadata": {},
     "output_type": "execute_result"
    }
   ],
   "source": [
    "# Get the area, which is equal to score\n",
    "from sklearn.metrics import roc_auc_score\n",
    "y_probabilities = voting_clf.predict_proba(X_test)[:,1]\n",
    "\n",
    "roc_auc_score(y_test,y_probabilities)"
   ]
  },
  {
   "cell_type": "markdown",
   "id": "2bd0b99c",
   "metadata": {},
   "source": [
    "## Random Forest"
   ]
  },
  {
   "cell_type": "code",
   "execution_count": 217,
   "id": "231c6524",
   "metadata": {},
   "outputs": [
    {
     "data": {
      "text/plain": [
       "RandomForestClassifier(n_estimators=500, n_jobs=-1, oob_score=True,\n",
       "                       random_state=666)"
      ]
     },
     "execution_count": 217,
     "metadata": {},
     "output_type": "execute_result"
    }
   ],
   "source": [
    "from sklearn.ensemble import RandomForestClassifier\n",
    "\n",
    "rf_clf = RandomForestClassifier(n_estimators=500,random_state=666,oob_score=True,n_jobs=-1)\n",
    "rf_clf.fit(X,y)"
   ]
  },
  {
   "cell_type": "code",
   "execution_count": 218,
   "id": "876b9e3a",
   "metadata": {},
   "outputs": [
    {
     "data": {
      "text/plain": [
       "0.8267640376987846"
      ]
     },
     "execution_count": 218,
     "metadata": {},
     "output_type": "execute_result"
    }
   ],
   "source": [
    "rf_clf.oob_score_"
   ]
  },
  {
   "cell_type": "code",
   "execution_count": 219,
   "id": "a577ef5a",
   "metadata": {},
   "outputs": [
    {
     "name": "stderr",
     "output_type": "stream",
     "text": [
      "/Users/leowu/opt/anaconda3/lib/python3.9/site-packages/sklearn/base.py:450: UserWarning: X does not have valid feature names, but RandomForestClassifier was fitted with feature names\n"
     ]
    },
    {
     "data": {
      "text/plain": [
       "0.5149952015355086"
      ]
     },
     "execution_count": 219,
     "metadata": {},
     "output_type": "execute_result"
    }
   ],
   "source": [
    "rf_clf.score(X_test,y_test)"
   ]
  },
  {
   "cell_type": "code",
   "execution_count": 250,
   "id": "5b5c2beb",
   "metadata": {},
   "outputs": [
    {
     "name": "stderr",
     "output_type": "stream",
     "text": [
      "/Users/leowu/opt/anaconda3/lib/python3.9/site-packages/sklearn/base.py:450: UserWarning: X does not have valid feature names, but RandomForestClassifier was fitted with feature names\n"
     ]
    },
    {
     "data": {
      "text/plain": [
       "0.09845021741554241"
      ]
     },
     "execution_count": 250,
     "metadata": {},
     "output_type": "execute_result"
    }
   ],
   "source": [
    "## Get the F1-score\n",
    "y_predict_rf = rf_clf.predict(X_test)\n",
    "f1_score(y_test,y_predict_rf)"
   ]
  },
  {
   "cell_type": "code",
   "execution_count": 251,
   "id": "f6433d0e",
   "metadata": {},
   "outputs": [
    {
     "name": "stdout",
     "output_type": "stream",
     "text": [
      "              precision    recall  f1-score   support\n",
      "\n",
      "           0       0.50      1.00      0.67     16308\n",
      "           1       0.98      0.05      0.10     17036\n",
      "\n",
      "    accuracy                           0.51     33344\n",
      "   macro avg       0.74      0.53      0.38     33344\n",
      "weighted avg       0.75      0.51      0.38     33344\n",
      "\n"
     ]
    },
    {
     "data": {
      "text/plain": [
       "array([[16289,    19],\n",
       "       [16153,   883]])"
      ]
     },
     "execution_count": 251,
     "metadata": {},
     "output_type": "execute_result"
    }
   ],
   "source": [
    "print(classification_report(y_test,y_predict_rf))\n",
    "cnv_matrix = confusion_matrix(y_test,y_predict_rf)\n",
    "cnv_matrix"
   ]
  },
  {
   "cell_type": "code",
   "execution_count": 252,
   "id": "ebfb4334",
   "metadata": {},
   "outputs": [
    {
     "data": {
      "image/png": "[encoded data removed]",
      "text/plain": [
       "<Figure size 432x288 with 2 Axes>"
      ]
     },
     "metadata": {},
     "output_type": "display_data"
    }
   ],
   "source": [
    "## Plot the heat graph\n",
    "plot_cnf_matirx(cnv_matrix,'Confusion matrix -- Random Forest')"
   ]
  },
  {
   "cell_type": "code",
   "execution_count": 255,
   "id": "659c8f63",
   "metadata": {},
   "outputs": [
    {
     "name": "stderr",
     "output_type": "stream",
     "text": [
      "/Users/leowu/opt/anaconda3/lib/python3.9/site-packages/sklearn/base.py:450: UserWarning: X does not have valid feature names, but RandomForestClassifier was fitted with feature names\n"
     ]
    }
   ],
   "source": [
    "y_probabilities_rf = rf_clf.predict_proba(X_test)[:,1]\n",
    "\n",
    "from sklearn.metrics import precision_recall_curve\n",
    "\n",
    "precisions,recalls,thresholds = precision_recall_curve(y_test,y_probabilities_rf)"
   ]
  },
  {
   "cell_type": "code",
   "execution_count": 256,
   "id": "f4d98551",
   "metadata": {},
   "outputs": [
    {
     "data": {
      "image/png": "[encoded data removed]",
      "text/plain": [
       "<Figure size 432x288 with 1 Axes>"
      ]
     },
     "metadata": {},
     "output_type": "display_data"
    }
   ],
   "source": [
    "plt.plot(thresholds,precisions[:-1])\n",
    "plt.plot(thresholds,recalls[:-1])\n",
    "plt.grid()\n",
    "plt.show()   "
   ]
  },
  {
   "cell_type": "code",
   "execution_count": 254,
   "id": "447aa8e3",
   "metadata": {},
   "outputs": [
    {
     "data": {
      "image/png": "[encoded data removed]",
      "text/plain": [
       "<Figure size 640x480 with 1 Axes>"
      ]
     },
     "metadata": {},
     "output_type": "display_data"
    }
   ],
   "source": [
    "# Plot ROC Curve\n",
    "from sklearn.metrics import roc_curve\n",
    "fprs4,tprs4,thresholds4 = roc_curve(y_test,y_probabilities_rf)\n",
    "plot_roc_curve(fprs4,tprs4)"
   ]
  },
  {
   "cell_type": "code",
   "execution_count": 253,
   "id": "98aa1582",
   "metadata": {},
   "outputs": [
    {
     "name": "stderr",
     "output_type": "stream",
     "text": [
      "/Users/leowu/opt/anaconda3/lib/python3.9/site-packages/sklearn/base.py:450: UserWarning: X does not have valid feature names, but RandomForestClassifier was fitted with feature names\n"
     ]
    },
    {
     "data": {
      "text/plain": [
       "0.4735148847672444"
      ]
     },
     "execution_count": 253,
     "metadata": {},
     "output_type": "execute_result"
    }
   ],
   "source": [
    "## Get the area, which is equal to score\n",
    "\n",
    "roc_auc_score(y_test,y_probabilities_rf)"
   ]
  },
  {
   "cell_type": "markdown",
   "id": "50ec857e",
   "metadata": {},
   "source": [
    "## Plot these ROC Curve together"
   ]
  },
  {
   "cell_type": "code",
   "execution_count": 249,
   "id": "4356e579",
   "metadata": {},
   "outputs": [
    {
     "data": {
      "image/png": "[encoded data removed]",
      "text/plain": [
       "<Figure size 864x576 with 1 Axes>"
      ]
     },
     "metadata": {},
     "output_type": "display_data"
    }
   ],
   "source": [
    "## Plot these curve together\n",
    "sns.set_style('whitegrid')\n",
    "plt.figure(figsize=(12,8))\n",
    "plt.title('ROC Curve',fontsize=18)\n",
    "plt.plot(fprs,tprs,label='Log_Reg')\n",
    "plt.plot(fprs2,tprs2,label='KNN')\n",
    "plt.plot(fprs3,tprs3,label='DT_Clf')\n",
    "plt.plot(fprs4,tprs4,label='RF_Clf')\n",
    "plt.plot([0,1],ls='--')\n",
    "plt.plot([0,0],[1,0],c='.8')\n",
    "plt.plot([1,1],c='.8')\n",
    "plt.ylabel('TP rate',fontsize=15)\n",
    "plt.xlabel('FP rate',fontsize=15)\n",
    "plt.xticks(fontsize=13)\n",
    "plt.yticks(fontsize=13)\n",
    "plt.legend()\n",
    "plt.show()"
   ]
  },
  {
   "cell_type": "markdown",
   "id": "f02fbdd4",
   "metadata": {},
   "source": [
    "## Another df"
   ]
  },
  {
   "cell_type": "markdown",
   "id": "a3f1e0b3",
   "metadata": {},
   "source": [
    "# Transfer the units of sentence length into year\n",
    "### Subset the certain type of commitment term and unit"
   ]
  },
  {
   "cell_type": "code",
   "execution_count": 7,
   "id": "a2108c10",
   "metadata": {},
   "outputs": [
    {
     "data": {
      "text/html": [
       "<div>\n",
       "<style scoped>\n",
       "    .dataframe tbody tr th:only-of-type {\n",
       "        vertical-align: middle;\n",
       "    }\n",
       "\n",
       "    .dataframe tbody tr th {\n",
       "        vertical-align: top;\n",
       "    }\n",
       "\n",
       "    .dataframe thead th {\n",
       "        text-align: right;\n",
       "    }\n",
       "</style>\n",
       "<table border=\"1\" class=\"dataframe\">\n",
       "  <thead>\n",
       "    <tr style=\"text-align: right;\">\n",
       "      <th></th>\n",
       "      <th>CASE_ID</th>\n",
       "      <th>CASE_PARTICIPANT_ID</th>\n",
       "      <th>RECEIVED_DATE</th>\n",
       "      <th>OFFENSE_CATEGORY</th>\n",
       "      <th>PRIMARY_CHARGE_FLAG</th>\n",
       "      <th>CHARGE_ID</th>\n",
       "      <th>CHARGE_VERSION_ID</th>\n",
       "      <th>DISPOSITION_CHARGED_OFFENSE_TITLE</th>\n",
       "      <th>CHARGE_COUNT</th>\n",
       "      <th>DISPOSITION_DATE</th>\n",
       "      <th>...</th>\n",
       "      <th>simplified_offense_derived</th>\n",
       "      <th>is_black_derived</th>\n",
       "      <th>is_hisp_derived</th>\n",
       "      <th>is_white_derived</th>\n",
       "      <th>is_other_derived</th>\n",
       "      <th>is_male_derived</th>\n",
       "      <th>age_derived</th>\n",
       "      <th>sentenceymd_derived</th>\n",
       "      <th>sentenceym_derived</th>\n",
       "      <th>judgeid_derived</th>\n",
       "    </tr>\n",
       "  </thead>\n",
       "  <tbody>\n",
       "    <tr>\n",
       "      <th>0</th>\n",
       "      <td>149765331439</td>\n",
       "      <td>175691153649</td>\n",
       "      <td>8/15/1984 12:00:00 AM</td>\n",
       "      <td>PROMIS Conversion</td>\n",
       "      <td>True</td>\n",
       "      <td>50510062193</td>\n",
       "      <td>112898098217</td>\n",
       "      <td>FIRST DEGREE MURDER</td>\n",
       "      <td>1</td>\n",
       "      <td>12/17/2014 12:00:00 AM</td>\n",
       "      <td>...</td>\n",
       "      <td>Homicide</td>\n",
       "      <td>True</td>\n",
       "      <td>False</td>\n",
       "      <td>False</td>\n",
       "      <td>False</td>\n",
       "      <td>True</td>\n",
       "      <td>27.0</td>\n",
       "      <td>2014-10-16</td>\n",
       "      <td>2014-10-01</td>\n",
       "      <td>judge_40</td>\n",
       "    </tr>\n",
       "    <tr>\n",
       "      <th>1</th>\n",
       "      <td>150065796098</td>\n",
       "      <td>162105612284</td>\n",
       "      <td>8/23/1984 12:00:00 AM</td>\n",
       "      <td>PROMIS Conversion</td>\n",
       "      <td>True</td>\n",
       "      <td>50792360681</td>\n",
       "      <td>113332130159</td>\n",
       "      <td>FIRST DEGREE MURDER</td>\n",
       "      <td>1</td>\n",
       "      <td>8/6/2014 12:00:00 AM</td>\n",
       "      <td>...</td>\n",
       "      <td>Homicide</td>\n",
       "      <td>True</td>\n",
       "      <td>False</td>\n",
       "      <td>False</td>\n",
       "      <td>False</td>\n",
       "      <td>True</td>\n",
       "      <td>30.0</td>\n",
       "      <td>2014-08-06</td>\n",
       "      <td>2014-08-01</td>\n",
       "      <td>judge_310</td>\n",
       "    </tr>\n",
       "    <tr>\n",
       "      <th>2</th>\n",
       "      <td>154954734978</td>\n",
       "      <td>225758446387</td>\n",
       "      <td>6/8/2001 12:00:00 AM</td>\n",
       "      <td>PROMIS Conversion</td>\n",
       "      <td>True</td>\n",
       "      <td>54885211141</td>\n",
       "      <td>174293345821</td>\n",
       "      <td>VIO BAIL BOND/CLASS 1</td>\n",
       "      <td>1</td>\n",
       "      <td>12/2/2013 12:00:00 AM</td>\n",
       "      <td>...</td>\n",
       "      <td>PROMIS Conversion</td>\n",
       "      <td>False</td>\n",
       "      <td>True</td>\n",
       "      <td>False</td>\n",
       "      <td>False</td>\n",
       "      <td>True</td>\n",
       "      <td>38.0</td>\n",
       "      <td>2013-12-02</td>\n",
       "      <td>2013-12-01</td>\n",
       "      <td>judge_162</td>\n",
       "    </tr>\n",
       "    <tr>\n",
       "      <th>3</th>\n",
       "      <td>155222744754</td>\n",
       "      <td>217349881776</td>\n",
       "      <td>1/31/2001 12:00:00 AM</td>\n",
       "      <td>PROMIS Conversion</td>\n",
       "      <td>True</td>\n",
       "      <td>53899906462</td>\n",
       "      <td>280120721775</td>\n",
       "      <td>POSS AMT CON SUB EXCEPT (A)/(D)</td>\n",
       "      <td>1</td>\n",
       "      <td>9/10/2012 12:00:00 AM</td>\n",
       "      <td>...</td>\n",
       "      <td>Narcotics</td>\n",
       "      <td>True</td>\n",
       "      <td>False</td>\n",
       "      <td>False</td>\n",
       "      <td>False</td>\n",
       "      <td>False</td>\n",
       "      <td>33.0</td>\n",
       "      <td>2012-09-10</td>\n",
       "      <td>2012-09-01</td>\n",
       "      <td>judge_331</td>\n",
       "    </tr>\n",
       "    <tr>\n",
       "      <th>4</th>\n",
       "      <td>155327892699</td>\n",
       "      <td>217212381455</td>\n",
       "      <td>2/6/2001 12:00:00 AM</td>\n",
       "      <td>PROMIS Conversion</td>\n",
       "      <td>True</td>\n",
       "      <td>53938518259</td>\n",
       "      <td>164877860811</td>\n",
       "      <td>DUI LIC SUSPENDED OR REVOKED (EFFECTIVE 4-13-2...</td>\n",
       "      <td>1</td>\n",
       "      <td>9/19/2014 12:00:00 AM</td>\n",
       "      <td>...</td>\n",
       "      <td>PROMIS Conversion</td>\n",
       "      <td>False</td>\n",
       "      <td>False</td>\n",
       "      <td>True</td>\n",
       "      <td>False</td>\n",
       "      <td>True</td>\n",
       "      <td>49.0</td>\n",
       "      <td>2014-09-19</td>\n",
       "      <td>2014-09-01</td>\n",
       "      <td>judge_314</td>\n",
       "    </tr>\n",
       "  </tbody>\n",
       "</table>\n",
       "<p>5 rows × 52 columns</p>\n",
       "</div>"
      ],
      "text/plain": [
       "        CASE_ID  CASE_PARTICIPANT_ID          RECEIVED_DATE  \\\n",
       "0  149765331439         175691153649  8/15/1984 12:00:00 AM   \n",
       "1  150065796098         162105612284  8/23/1984 12:00:00 AM   \n",
       "2  154954734978         225758446387   6/8/2001 12:00:00 AM   \n",
       "3  155222744754         217349881776  1/31/2001 12:00:00 AM   \n",
       "4  155327892699         217212381455   2/6/2001 12:00:00 AM   \n",
       "\n",
       "    OFFENSE_CATEGORY  PRIMARY_CHARGE_FLAG    CHARGE_ID  CHARGE_VERSION_ID  \\\n",
       "0  PROMIS Conversion                 True  50510062193       112898098217   \n",
       "1  PROMIS Conversion                 True  50792360681       113332130159   \n",
       "2  PROMIS Conversion                 True  54885211141       174293345821   \n",
       "3  PROMIS Conversion                 True  53899906462       280120721775   \n",
       "4  PROMIS Conversion                 True  53938518259       164877860811   \n",
       "\n",
       "                   DISPOSITION_CHARGED_OFFENSE_TITLE  CHARGE_COUNT  \\\n",
       "0                                FIRST DEGREE MURDER             1   \n",
       "1                                FIRST DEGREE MURDER             1   \n",
       "2                              VIO BAIL BOND/CLASS 1             1   \n",
       "3                    POSS AMT CON SUB EXCEPT (A)/(D)             1   \n",
       "4  DUI LIC SUSPENDED OR REVOKED (EFFECTIVE 4-13-2...             1   \n",
       "\n",
       "         DISPOSITION_DATE  ... simplified_offense_derived is_black_derived  \\\n",
       "0  12/17/2014 12:00:00 AM  ...                   Homicide             True   \n",
       "1    8/6/2014 12:00:00 AM  ...                   Homicide             True   \n",
       "2   12/2/2013 12:00:00 AM  ...          PROMIS Conversion            False   \n",
       "3   9/10/2012 12:00:00 AM  ...                  Narcotics             True   \n",
       "4   9/19/2014 12:00:00 AM  ...          PROMIS Conversion            False   \n",
       "\n",
       "  is_hisp_derived is_white_derived is_other_derived is_male_derived  \\\n",
       "0           False            False            False            True   \n",
       "1           False            False            False            True   \n",
       "2            True            False            False            True   \n",
       "3           False            False            False           False   \n",
       "4           False             True            False            True   \n",
       "\n",
       "  age_derived sentenceymd_derived sentenceym_derived judgeid_derived  \n",
       "0        27.0          2014-10-16         2014-10-01        judge_40  \n",
       "1        30.0          2014-08-06         2014-08-01       judge_310  \n",
       "2        38.0          2013-12-02         2013-12-01       judge_162  \n",
       "3        33.0          2012-09-10         2012-09-01       judge_331  \n",
       "4        49.0          2014-09-19         2014-09-01       judge_314  \n",
       "\n",
       "[5 rows x 52 columns]"
      ]
     },
     "execution_count": 7,
     "metadata": {},
     "output_type": "execute_result"
    }
   ],
   "source": [
    "sentence_filter = sentencing_cleaned[(~sentencing_cleaned.COMMITMENT_TERM.isin(['18 months','30 months']))\n",
    "                                     & (sentencing_cleaned.COMMITMENT_UNIT.isin(['Days','Hours','Year(s)','Months','Weeks','Natural Life']))]\n",
    "sentence_filter.head()"
   ]
  },
  {
   "cell_type": "code",
   "execution_count": 36,
   "id": "5e72d5ae",
   "metadata": {},
   "outputs": [],
   "source": [
    "## Change the units to year\n",
    "def transition(df: pd.DataFrame):\n",
    "    df['senlength_derived'] = [float(u)\n",
    "      if v == 'Year(s)'\n",
    "      else float(float(u) / (24*365)) \n",
    "           if v == 'Hours'\n",
    "           else float(float(u)/ 365) \n",
    "                if v == 'Days'\n",
    "                else float(float(u)/ 12) \n",
    "                    if v == 'Months'\n",
    "                    else float(float(u) *7 / 365) \n",
    "                        if v == 'Weeks'\n",
    "                        else float(100-20)\n",
    "                               if (v == 'Natural Life') & (np.isnan(i))\n",
    "                               else float(100-float(i)) \n",
    "      for u,v,i in zip(df.COMMITMENT_TERM,df.COMMITMENT_UNIT,df.age_derived)]\n",
    "    \n",
    "    return df"
   ]
  },
  {
   "cell_type": "code",
   "execution_count": 38,
   "id": "dd4ab466",
   "metadata": {},
   "outputs": [
    {
     "data": {
      "text/html": [
       "<div>\n",
       "<style scoped>\n",
       "    .dataframe tbody tr th:only-of-type {\n",
       "        vertical-align: middle;\n",
       "    }\n",
       "\n",
       "    .dataframe tbody tr th {\n",
       "        vertical-align: top;\n",
       "    }\n",
       "\n",
       "    .dataframe thead th {\n",
       "        text-align: right;\n",
       "    }\n",
       "</style>\n",
       "<table border=\"1\" class=\"dataframe\">\n",
       "  <thead>\n",
       "    <tr style=\"text-align: right;\">\n",
       "      <th></th>\n",
       "      <th>CASE_ID</th>\n",
       "      <th>CASE_PARTICIPANT_ID</th>\n",
       "      <th>RECEIVED_DATE</th>\n",
       "      <th>OFFENSE_CATEGORY</th>\n",
       "      <th>PRIMARY_CHARGE_FLAG</th>\n",
       "      <th>CHARGE_ID</th>\n",
       "      <th>CHARGE_VERSION_ID</th>\n",
       "      <th>DISPOSITION_CHARGED_OFFENSE_TITLE</th>\n",
       "      <th>CHARGE_COUNT</th>\n",
       "      <th>DISPOSITION_DATE</th>\n",
       "      <th>...</th>\n",
       "      <th>is_black_derived</th>\n",
       "      <th>is_hisp_derived</th>\n",
       "      <th>is_white_derived</th>\n",
       "      <th>is_other_derived</th>\n",
       "      <th>is_male_derived</th>\n",
       "      <th>age_derived</th>\n",
       "      <th>sentenceymd_derived</th>\n",
       "      <th>sentenceym_derived</th>\n",
       "      <th>judgeid_derived</th>\n",
       "      <th>senlength_derived</th>\n",
       "    </tr>\n",
       "  </thead>\n",
       "  <tbody>\n",
       "    <tr>\n",
       "      <th>0</th>\n",
       "      <td>149765331439</td>\n",
       "      <td>175691153649</td>\n",
       "      <td>8/15/1984 12:00:00 AM</td>\n",
       "      <td>PROMIS Conversion</td>\n",
       "      <td>True</td>\n",
       "      <td>50510062193</td>\n",
       "      <td>112898098217</td>\n",
       "      <td>FIRST DEGREE MURDER</td>\n",
       "      <td>1</td>\n",
       "      <td>12/17/2014 12:00:00 AM</td>\n",
       "      <td>...</td>\n",
       "      <td>True</td>\n",
       "      <td>False</td>\n",
       "      <td>False</td>\n",
       "      <td>False</td>\n",
       "      <td>True</td>\n",
       "      <td>27.0</td>\n",
       "      <td>2014-10-16</td>\n",
       "      <td>2014-10-01</td>\n",
       "      <td>judge_40</td>\n",
       "      <td>62.0</td>\n",
       "    </tr>\n",
       "    <tr>\n",
       "      <th>1</th>\n",
       "      <td>150065796098</td>\n",
       "      <td>162105612284</td>\n",
       "      <td>8/23/1984 12:00:00 AM</td>\n",
       "      <td>PROMIS Conversion</td>\n",
       "      <td>True</td>\n",
       "      <td>50792360681</td>\n",
       "      <td>113332130159</td>\n",
       "      <td>FIRST DEGREE MURDER</td>\n",
       "      <td>1</td>\n",
       "      <td>8/6/2014 12:00:00 AM</td>\n",
       "      <td>...</td>\n",
       "      <td>True</td>\n",
       "      <td>False</td>\n",
       "      <td>False</td>\n",
       "      <td>False</td>\n",
       "      <td>True</td>\n",
       "      <td>30.0</td>\n",
       "      <td>2014-08-06</td>\n",
       "      <td>2014-08-01</td>\n",
       "      <td>judge_310</td>\n",
       "      <td>70.0</td>\n",
       "    </tr>\n",
       "    <tr>\n",
       "      <th>2</th>\n",
       "      <td>154954734978</td>\n",
       "      <td>225758446387</td>\n",
       "      <td>6/8/2001 12:00:00 AM</td>\n",
       "      <td>PROMIS Conversion</td>\n",
       "      <td>True</td>\n",
       "      <td>54885211141</td>\n",
       "      <td>174293345821</td>\n",
       "      <td>VIO BAIL BOND/CLASS 1</td>\n",
       "      <td>1</td>\n",
       "      <td>12/2/2013 12:00:00 AM</td>\n",
       "      <td>...</td>\n",
       "      <td>False</td>\n",
       "      <td>True</td>\n",
       "      <td>False</td>\n",
       "      <td>False</td>\n",
       "      <td>True</td>\n",
       "      <td>38.0</td>\n",
       "      <td>2013-12-02</td>\n",
       "      <td>2013-12-01</td>\n",
       "      <td>judge_162</td>\n",
       "      <td>3.0</td>\n",
       "    </tr>\n",
       "    <tr>\n",
       "      <th>3</th>\n",
       "      <td>155222744754</td>\n",
       "      <td>217349881776</td>\n",
       "      <td>1/31/2001 12:00:00 AM</td>\n",
       "      <td>PROMIS Conversion</td>\n",
       "      <td>True</td>\n",
       "      <td>53899906462</td>\n",
       "      <td>280120721775</td>\n",
       "      <td>POSS AMT CON SUB EXCEPT (A)/(D)</td>\n",
       "      <td>1</td>\n",
       "      <td>9/10/2012 12:00:00 AM</td>\n",
       "      <td>...</td>\n",
       "      <td>True</td>\n",
       "      <td>False</td>\n",
       "      <td>False</td>\n",
       "      <td>False</td>\n",
       "      <td>False</td>\n",
       "      <td>33.0</td>\n",
       "      <td>2012-09-10</td>\n",
       "      <td>2012-09-01</td>\n",
       "      <td>judge_331</td>\n",
       "      <td>2.0</td>\n",
       "    </tr>\n",
       "    <tr>\n",
       "      <th>4</th>\n",
       "      <td>155327892699</td>\n",
       "      <td>217212381455</td>\n",
       "      <td>2/6/2001 12:00:00 AM</td>\n",
       "      <td>PROMIS Conversion</td>\n",
       "      <td>True</td>\n",
       "      <td>53938518259</td>\n",
       "      <td>164877860811</td>\n",
       "      <td>DUI LIC SUSPENDED OR REVOKED (EFFECTIVE 4-13-2...</td>\n",
       "      <td>1</td>\n",
       "      <td>9/19/2014 12:00:00 AM</td>\n",
       "      <td>...</td>\n",
       "      <td>False</td>\n",
       "      <td>False</td>\n",
       "      <td>True</td>\n",
       "      <td>False</td>\n",
       "      <td>True</td>\n",
       "      <td>49.0</td>\n",
       "      <td>2014-09-19</td>\n",
       "      <td>2014-09-01</td>\n",
       "      <td>judge_314</td>\n",
       "      <td>2.0</td>\n",
       "    </tr>\n",
       "  </tbody>\n",
       "</table>\n",
       "<p>5 rows × 53 columns</p>\n",
       "</div>"
      ],
      "text/plain": [
       "        CASE_ID  CASE_PARTICIPANT_ID          RECEIVED_DATE  \\\n",
       "0  149765331439         175691153649  8/15/1984 12:00:00 AM   \n",
       "1  150065796098         162105612284  8/23/1984 12:00:00 AM   \n",
       "2  154954734978         225758446387   6/8/2001 12:00:00 AM   \n",
       "3  155222744754         217349881776  1/31/2001 12:00:00 AM   \n",
       "4  155327892699         217212381455   2/6/2001 12:00:00 AM   \n",
       "\n",
       "    OFFENSE_CATEGORY  PRIMARY_CHARGE_FLAG    CHARGE_ID  CHARGE_VERSION_ID  \\\n",
       "0  PROMIS Conversion                 True  50510062193       112898098217   \n",
       "1  PROMIS Conversion                 True  50792360681       113332130159   \n",
       "2  PROMIS Conversion                 True  54885211141       174293345821   \n",
       "3  PROMIS Conversion                 True  53899906462       280120721775   \n",
       "4  PROMIS Conversion                 True  53938518259       164877860811   \n",
       "\n",
       "                   DISPOSITION_CHARGED_OFFENSE_TITLE  CHARGE_COUNT  \\\n",
       "0                                FIRST DEGREE MURDER             1   \n",
       "1                                FIRST DEGREE MURDER             1   \n",
       "2                              VIO BAIL BOND/CLASS 1             1   \n",
       "3                    POSS AMT CON SUB EXCEPT (A)/(D)             1   \n",
       "4  DUI LIC SUSPENDED OR REVOKED (EFFECTIVE 4-13-2...             1   \n",
       "\n",
       "         DISPOSITION_DATE  ... is_black_derived is_hisp_derived  \\\n",
       "0  12/17/2014 12:00:00 AM  ...             True           False   \n",
       "1    8/6/2014 12:00:00 AM  ...             True           False   \n",
       "2   12/2/2013 12:00:00 AM  ...            False            True   \n",
       "3   9/10/2012 12:00:00 AM  ...             True           False   \n",
       "4   9/19/2014 12:00:00 AM  ...            False           False   \n",
       "\n",
       "  is_white_derived is_other_derived is_male_derived age_derived  \\\n",
       "0            False            False            True        27.0   \n",
       "1            False            False            True        30.0   \n",
       "2            False            False            True        38.0   \n",
       "3            False            False           False        33.0   \n",
       "4             True            False            True        49.0   \n",
       "\n",
       "  sentenceymd_derived sentenceym_derived judgeid_derived senlength_derived  \n",
       "0          2014-10-16         2014-10-01        judge_40              62.0  \n",
       "1          2014-08-06         2014-08-01       judge_310              70.0  \n",
       "2          2013-12-02         2013-12-01       judge_162               3.0  \n",
       "3          2012-09-10         2012-09-01       judge_331               2.0  \n",
       "4          2014-09-19         2014-09-01       judge_314               2.0  \n",
       "\n",
       "[5 rows x 53 columns]"
      ]
     },
     "execution_count": 38,
     "metadata": {},
     "output_type": "execute_result"
    }
   ],
   "source": [
    "sentencing_cleaned_up = transition(df = sentence_filter)\n",
    "sentencing_cleaned_up.head()"
   ]
  },
  {
   "cell_type": "code",
   "execution_count": 53,
   "id": "6d679104",
   "metadata": {},
   "outputs": [],
   "source": [
    "from sklearn import linear_model\n",
    "from sklearn.model_selection import  cross_val_score\n",
    "from sklearn.preprocessing import LabelEncoder"
   ]
  },
  {
   "cell_type": "markdown",
   "id": "8291fcbb",
   "metadata": {},
   "source": [
    "### Rename the True/False column, change True to 1, False to 0"
   ]
  },
  {
   "cell_type": "code",
   "execution_count": 42,
   "id": "9b70d7fe",
   "metadata": {
    "scrolled": true
   },
   "outputs": [
    {
     "name": "stderr",
     "output_type": "stream",
     "text": [
      "/var/folders/39/p0rpjrxj68l4cbrkhyvw78fm0000gn/T/ipykernel_76237/3356775588.py:4: SettingWithCopyWarning: \n",
      "A value is trying to be set on a copy of a slice from a DataFrame.\n",
      "Try using .loc[row_indexer,col_indexer] = value instead\n",
      "\n",
      "See the caveats in the documentation: https://pandas.pydata.org/pandas-docs/stable/user_guide/indexing.html#returning-a-view-versus-a-copy\n",
      "/var/folders/39/p0rpjrxj68l4cbrkhyvw78fm0000gn/T/ipykernel_76237/3356775588.py:5: SettingWithCopyWarning: \n",
      "A value is trying to be set on a copy of a slice from a DataFrame.\n",
      "Try using .loc[row_indexer,col_indexer] = value instead\n",
      "\n",
      "See the caveats in the documentation: https://pandas.pydata.org/pandas-docs/stable/user_guide/indexing.html#returning-a-view-versus-a-copy\n",
      "/var/folders/39/p0rpjrxj68l4cbrkhyvw78fm0000gn/T/ipykernel_76237/3356775588.py:6: SettingWithCopyWarning: \n",
      "A value is trying to be set on a copy of a slice from a DataFrame.\n",
      "Try using .loc[row_indexer,col_indexer] = value instead\n",
      "\n",
      "See the caveats in the documentation: https://pandas.pydata.org/pandas-docs/stable/user_guide/indexing.html#returning-a-view-versus-a-copy\n",
      "/var/folders/39/p0rpjrxj68l4cbrkhyvw78fm0000gn/T/ipykernel_76237/3356775588.py:7: SettingWithCopyWarning: \n",
      "A value is trying to be set on a copy of a slice from a DataFrame.\n",
      "Try using .loc[row_indexer,col_indexer] = value instead\n",
      "\n",
      "See the caveats in the documentation: https://pandas.pydata.org/pandas-docs/stable/user_guide/indexing.html#returning-a-view-versus-a-copy\n"
     ]
    }
   ],
   "source": [
    "le = LabelEncoder()\n",
    "le.fit(sentence_cleaned['is_black_derived']) \n",
    "sentence_cleaned['is_black_derived'] = le.transform(sentence_cleaned['is_black_derived'])   \n",
    "sentence_cleaned['is_white_derived'] = le.transform(sentence_cleaned['is_white_derived'])\n",
    "sentence_cleaned['is_hisp_derived'] = le.transform(sentence_cleaned['is_hisp_derived'])\n",
    "sentence_cleaned['is_male_derived'] = le.transform(sentence_cleaned['is_male_derived'])"
   ]
  },
  {
   "cell_type": "markdown",
   "id": "d28632c1",
   "metadata": {},
   "source": [
    "# To research the predict model more precisely, we focus on the Illinois Department"
   ]
  },
  {
   "cell_type": "code",
   "execution_count": 89,
   "id": "22c203f1",
   "metadata": {},
   "outputs": [
    {
     "data": {
      "text/html": [
       "<div>\n",
       "<style scoped>\n",
       "    .dataframe tbody tr th:only-of-type {\n",
       "        vertical-align: middle;\n",
       "    }\n",
       "\n",
       "    .dataframe tbody tr th {\n",
       "        vertical-align: top;\n",
       "    }\n",
       "\n",
       "    .dataframe thead th {\n",
       "        text-align: right;\n",
       "    }\n",
       "</style>\n",
       "<table border=\"1\" class=\"dataframe\">\n",
       "  <thead>\n",
       "    <tr style=\"text-align: right;\">\n",
       "      <th></th>\n",
       "      <th>CASE_ID</th>\n",
       "      <th>CASE_PARTICIPANT_ID</th>\n",
       "      <th>RECEIVED_DATE</th>\n",
       "      <th>OFFENSE_CATEGORY</th>\n",
       "      <th>PRIMARY_CHARGE_FLAG</th>\n",
       "      <th>CHARGE_ID</th>\n",
       "      <th>CHARGE_VERSION_ID</th>\n",
       "      <th>DISPOSITION_CHARGED_OFFENSE_TITLE</th>\n",
       "      <th>CHARGE_COUNT</th>\n",
       "      <th>DISPOSITION_DATE</th>\n",
       "      <th>...</th>\n",
       "      <th>simplified_offense_derived</th>\n",
       "      <th>is_black_derived</th>\n",
       "      <th>is_hisp_derived</th>\n",
       "      <th>is_white_derived</th>\n",
       "      <th>is_other_derived</th>\n",
       "      <th>is_male_derived</th>\n",
       "      <th>age_derived</th>\n",
       "      <th>sentenceymd_derived</th>\n",
       "      <th>sentenceym_derived</th>\n",
       "      <th>judgeid_derived</th>\n",
       "    </tr>\n",
       "  </thead>\n",
       "  <tbody>\n",
       "    <tr>\n",
       "      <th>0</th>\n",
       "      <td>149765331439</td>\n",
       "      <td>175691153649</td>\n",
       "      <td>8/15/1984 12:00:00 AM</td>\n",
       "      <td>PROMIS Conversion</td>\n",
       "      <td>True</td>\n",
       "      <td>50510062193</td>\n",
       "      <td>112898098217</td>\n",
       "      <td>FIRST DEGREE MURDER</td>\n",
       "      <td>1</td>\n",
       "      <td>12/17/2014 12:00:00 AM</td>\n",
       "      <td>...</td>\n",
       "      <td>Homicide</td>\n",
       "      <td>True</td>\n",
       "      <td>False</td>\n",
       "      <td>False</td>\n",
       "      <td>False</td>\n",
       "      <td>True</td>\n",
       "      <td>27.0</td>\n",
       "      <td>2014-10-16</td>\n",
       "      <td>2014-10-01</td>\n",
       "      <td>judge_40</td>\n",
       "    </tr>\n",
       "    <tr>\n",
       "      <th>1</th>\n",
       "      <td>150065796098</td>\n",
       "      <td>162105612284</td>\n",
       "      <td>8/23/1984 12:00:00 AM</td>\n",
       "      <td>PROMIS Conversion</td>\n",
       "      <td>True</td>\n",
       "      <td>50792360681</td>\n",
       "      <td>113332130159</td>\n",
       "      <td>FIRST DEGREE MURDER</td>\n",
       "      <td>1</td>\n",
       "      <td>8/6/2014 12:00:00 AM</td>\n",
       "      <td>...</td>\n",
       "      <td>Homicide</td>\n",
       "      <td>True</td>\n",
       "      <td>False</td>\n",
       "      <td>False</td>\n",
       "      <td>False</td>\n",
       "      <td>True</td>\n",
       "      <td>30.0</td>\n",
       "      <td>2014-08-06</td>\n",
       "      <td>2014-08-01</td>\n",
       "      <td>judge_310</td>\n",
       "    </tr>\n",
       "    <tr>\n",
       "      <th>5</th>\n",
       "      <td>155685924389</td>\n",
       "      <td>221749325828</td>\n",
       "      <td>6/15/2001 12:00:00 AM</td>\n",
       "      <td>PROMIS Conversion</td>\n",
       "      <td>True</td>\n",
       "      <td>55017536987</td>\n",
       "      <td>687589180737</td>\n",
       "      <td>AGGRAVATED CRIMINAL SEXUAL ASSAULT</td>\n",
       "      <td>1</td>\n",
       "      <td>5/3/2013 12:00:00 AM</td>\n",
       "      <td>...</td>\n",
       "      <td>PROMIS Conversion</td>\n",
       "      <td>True</td>\n",
       "      <td>False</td>\n",
       "      <td>False</td>\n",
       "      <td>False</td>\n",
       "      <td>True</td>\n",
       "      <td>NaN</td>\n",
       "      <td>2013-05-03</td>\n",
       "      <td>2013-05-01</td>\n",
       "      <td>judge_287</td>\n",
       "    </tr>\n",
       "    <tr>\n",
       "      <th>7</th>\n",
       "      <td>156558681704</td>\n",
       "      <td>231553844285</td>\n",
       "      <td>7/17/2001 12:00:00 AM</td>\n",
       "      <td>PROMIS Conversion</td>\n",
       "      <td>True</td>\n",
       "      <td>58235136444</td>\n",
       "      <td>720561595284</td>\n",
       "      <td>2ND DEGREE MURDER</td>\n",
       "      <td>1</td>\n",
       "      <td>12/4/2014 12:00:00 AM</td>\n",
       "      <td>...</td>\n",
       "      <td>Homicide</td>\n",
       "      <td>True</td>\n",
       "      <td>False</td>\n",
       "      <td>False</td>\n",
       "      <td>False</td>\n",
       "      <td>True</td>\n",
       "      <td>17.0</td>\n",
       "      <td>2014-12-04</td>\n",
       "      <td>2014-12-01</td>\n",
       "      <td>judge_329</td>\n",
       "    </tr>\n",
       "    <tr>\n",
       "      <th>9</th>\n",
       "      <td>156996749190</td>\n",
       "      <td>238415836990</td>\n",
       "      <td>10/20/2001 12:00:00 AM</td>\n",
       "      <td>PROMIS Conversion</td>\n",
       "      <td>True</td>\n",
       "      <td>58424726399</td>\n",
       "      <td>219609793234</td>\n",
       "      <td>MURDER/INTENT TO KILL/INJURE</td>\n",
       "      <td>1</td>\n",
       "      <td>3/14/2012 12:00:00 AM</td>\n",
       "      <td>...</td>\n",
       "      <td>Homicide</td>\n",
       "      <td>True</td>\n",
       "      <td>False</td>\n",
       "      <td>False</td>\n",
       "      <td>False</td>\n",
       "      <td>True</td>\n",
       "      <td>23.0</td>\n",
       "      <td>2012-03-14</td>\n",
       "      <td>2012-03-01</td>\n",
       "      <td>judge_113</td>\n",
       "    </tr>\n",
       "  </tbody>\n",
       "</table>\n",
       "<p>5 rows × 52 columns</p>\n",
       "</div>"
      ],
      "text/plain": [
       "        CASE_ID  CASE_PARTICIPANT_ID           RECEIVED_DATE  \\\n",
       "0  149765331439         175691153649   8/15/1984 12:00:00 AM   \n",
       "1  150065796098         162105612284   8/23/1984 12:00:00 AM   \n",
       "5  155685924389         221749325828   6/15/2001 12:00:00 AM   \n",
       "7  156558681704         231553844285   7/17/2001 12:00:00 AM   \n",
       "9  156996749190         238415836990  10/20/2001 12:00:00 AM   \n",
       "\n",
       "    OFFENSE_CATEGORY  PRIMARY_CHARGE_FLAG    CHARGE_ID  CHARGE_VERSION_ID  \\\n",
       "0  PROMIS Conversion                 True  50510062193       112898098217   \n",
       "1  PROMIS Conversion                 True  50792360681       113332130159   \n",
       "5  PROMIS Conversion                 True  55017536987       687589180737   \n",
       "7  PROMIS Conversion                 True  58235136444       720561595284   \n",
       "9  PROMIS Conversion                 True  58424726399       219609793234   \n",
       "\n",
       "    DISPOSITION_CHARGED_OFFENSE_TITLE  CHARGE_COUNT        DISPOSITION_DATE  \\\n",
       "0                 FIRST DEGREE MURDER             1  12/17/2014 12:00:00 AM   \n",
       "1                 FIRST DEGREE MURDER             1    8/6/2014 12:00:00 AM   \n",
       "5  AGGRAVATED CRIMINAL SEXUAL ASSAULT             1    5/3/2013 12:00:00 AM   \n",
       "7                   2ND DEGREE MURDER             1   12/4/2014 12:00:00 AM   \n",
       "9        MURDER/INTENT TO KILL/INJURE             1   3/14/2012 12:00:00 AM   \n",
       "\n",
       "   ... simplified_offense_derived is_black_derived is_hisp_derived  \\\n",
       "0  ...                   Homicide             True           False   \n",
       "1  ...                   Homicide             True           False   \n",
       "5  ...          PROMIS Conversion             True           False   \n",
       "7  ...                   Homicide             True           False   \n",
       "9  ...                   Homicide             True           False   \n",
       "\n",
       "  is_white_derived is_other_derived is_male_derived age_derived  \\\n",
       "0            False            False            True        27.0   \n",
       "1            False            False            True        30.0   \n",
       "5            False            False            True         NaN   \n",
       "7            False            False            True        17.0   \n",
       "9            False            False            True        23.0   \n",
       "\n",
       "  sentenceymd_derived sentenceym_derived judgeid_derived  \n",
       "0          2014-10-16         2014-10-01        judge_40  \n",
       "1          2014-08-06         2014-08-01       judge_310  \n",
       "5          2013-05-03         2013-05-01       judge_287  \n",
       "7          2014-12-04         2014-12-01       judge_329  \n",
       "9          2012-03-14         2012-03-01       judge_113  \n",
       "\n",
       "[5 rows x 52 columns]"
      ]
     },
     "execution_count": 89,
     "metadata": {},
     "output_type": "execute_result"
    }
   ],
   "source": [
    "## Subset to the Illinois Department\n",
    "sentence_filter1 = sentencing_cleaned[(sentencing_cleaned.COMMITMENT_TYPE == 'Illinois Department of Corrections') \n",
    "                                     & ((sentencing_cleaned.is_white_derived == True)| (sentencing_cleaned.is_black_derived == True)) \n",
    "                                     & (~sentencing_cleaned.COMMITMENT_UNIT.isin(['Term','Pounds','Dollars']))]\n",
    "sentence_filter1.head()"
   ]
  },
  {
   "cell_type": "markdown",
   "id": "9627e1bd",
   "metadata": {},
   "source": [
    "### Subset the column we will use"
   ]
  },
  {
   "cell_type": "code",
   "execution_count": 90,
   "id": "dc6d6624",
   "metadata": {},
   "outputs": [
    {
     "name": "stderr",
     "output_type": "stream",
     "text": [
      "/var/folders/39/p0rpjrxj68l4cbrkhyvw78fm0000gn/T/ipykernel_76237/1234244138.py:3: SettingWithCopyWarning: \n",
      "A value is trying to be set on a copy of a slice from a DataFrame.\n",
      "Try using .loc[row_indexer,col_indexer] = value instead\n",
      "\n",
      "See the caveats in the documentation: https://pandas.pydata.org/pandas-docs/stable/user_guide/indexing.html#returning-a-view-versus-a-copy\n"
     ]
    },
    {
     "data": {
      "text/html": [
       "<div>\n",
       "<style scoped>\n",
       "    .dataframe tbody tr th:only-of-type {\n",
       "        vertical-align: middle;\n",
       "    }\n",
       "\n",
       "    .dataframe tbody tr th {\n",
       "        vertical-align: top;\n",
       "    }\n",
       "\n",
       "    .dataframe thead th {\n",
       "        text-align: right;\n",
       "    }\n",
       "</style>\n",
       "<table border=\"1\" class=\"dataframe\">\n",
       "  <thead>\n",
       "    <tr style=\"text-align: right;\">\n",
       "      <th></th>\n",
       "      <th>is_black_derived</th>\n",
       "      <th>is_white_derived</th>\n",
       "      <th>is_male_derived</th>\n",
       "      <th>senlength_derived</th>\n",
       "      <th>SENTENCE_TYPE</th>\n",
       "    </tr>\n",
       "  </thead>\n",
       "  <tbody>\n",
       "    <tr>\n",
       "      <th>0</th>\n",
       "      <td>True</td>\n",
       "      <td>False</td>\n",
       "      <td>True</td>\n",
       "      <td>62.0</td>\n",
       "      <td>Prison</td>\n",
       "    </tr>\n",
       "    <tr>\n",
       "      <th>1</th>\n",
       "      <td>True</td>\n",
       "      <td>False</td>\n",
       "      <td>True</td>\n",
       "      <td>70.0</td>\n",
       "      <td>Prison</td>\n",
       "    </tr>\n",
       "    <tr>\n",
       "      <th>5</th>\n",
       "      <td>True</td>\n",
       "      <td>False</td>\n",
       "      <td>True</td>\n",
       "      <td>10.0</td>\n",
       "      <td>Prison</td>\n",
       "    </tr>\n",
       "    <tr>\n",
       "      <th>7</th>\n",
       "      <td>True</td>\n",
       "      <td>False</td>\n",
       "      <td>True</td>\n",
       "      <td>20.0</td>\n",
       "      <td>Prison</td>\n",
       "    </tr>\n",
       "    <tr>\n",
       "      <th>9</th>\n",
       "      <td>True</td>\n",
       "      <td>False</td>\n",
       "      <td>True</td>\n",
       "      <td>45.0</td>\n",
       "      <td>Prison</td>\n",
       "    </tr>\n",
       "  </tbody>\n",
       "</table>\n",
       "</div>"
      ],
      "text/plain": [
       "   is_black_derived  is_white_derived  is_male_derived  senlength_derived  \\\n",
       "0              True             False             True               62.0   \n",
       "1              True             False             True               70.0   \n",
       "5              True             False             True               10.0   \n",
       "7              True             False             True               20.0   \n",
       "9              True             False             True               45.0   \n",
       "\n",
       "  SENTENCE_TYPE  \n",
       "0        Prison  \n",
       "1        Prison  \n",
       "5        Prison  \n",
       "7        Prison  \n",
       "9        Prison  "
      ]
     },
     "execution_count": 90,
     "metadata": {},
     "output_type": "execute_result"
    }
   ],
   "source": [
    "sentencing_chi = transition(df = sentence_filter1)\n",
    "sentencing_chi = sentencing_chi[['is_black_derived','is_white_derived','is_male_derived','senlength_derived','SENTENCE_TYPE']]\n",
    "sentencing_chi.head()"
   ]
  },
  {
   "cell_type": "markdown",
   "id": "8f924031",
   "metadata": {},
   "source": [
    "## View the type of sentence"
   ]
  },
  {
   "cell_type": "code",
   "execution_count": 91,
   "id": "327b0117",
   "metadata": {},
   "outputs": [
    {
     "data": {
      "text/html": [
       "<div>\n",
       "<style scoped>\n",
       "    .dataframe tbody tr th:only-of-type {\n",
       "        vertical-align: middle;\n",
       "    }\n",
       "\n",
       "    .dataframe tbody tr th {\n",
       "        vertical-align: top;\n",
       "    }\n",
       "\n",
       "    .dataframe thead th {\n",
       "        text-align: right;\n",
       "    }\n",
       "</style>\n",
       "<table border=\"1\" class=\"dataframe\">\n",
       "  <thead>\n",
       "    <tr style=\"text-align: right;\">\n",
       "      <th></th>\n",
       "      <th>SENTENCE_TYPE</th>\n",
       "      <th>Number</th>\n",
       "    </tr>\n",
       "  </thead>\n",
       "  <tbody>\n",
       "    <tr>\n",
       "      <th>6</th>\n",
       "      <td>Prison</td>\n",
       "      <td>57332</td>\n",
       "    </tr>\n",
       "    <tr>\n",
       "      <th>5</th>\n",
       "      <td>Jail</td>\n",
       "      <td>759</td>\n",
       "    </tr>\n",
       "    <tr>\n",
       "      <th>7</th>\n",
       "      <td>Probation</td>\n",
       "      <td>115</td>\n",
       "    </tr>\n",
       "    <tr>\n",
       "      <th>9</th>\n",
       "      <td>Probation Terminated Unsatisfactorily</td>\n",
       "      <td>45</td>\n",
       "    </tr>\n",
       "    <tr>\n",
       "      <th>4</th>\n",
       "      <td>Death</td>\n",
       "      <td>26</td>\n",
       "    </tr>\n",
       "    <tr>\n",
       "      <th>1</th>\n",
       "      <td>Conditional Discharge</td>\n",
       "      <td>4</td>\n",
       "    </tr>\n",
       "    <tr>\n",
       "      <th>0</th>\n",
       "      <td>2nd Chance Probation</td>\n",
       "      <td>3</td>\n",
       "    </tr>\n",
       "    <tr>\n",
       "      <th>10</th>\n",
       "      <td>Supervision</td>\n",
       "      <td>2</td>\n",
       "    </tr>\n",
       "    <tr>\n",
       "      <th>2</th>\n",
       "      <td>Conditional Release</td>\n",
       "      <td>1</td>\n",
       "    </tr>\n",
       "    <tr>\n",
       "      <th>3</th>\n",
       "      <td>Cook County Boot Camp</td>\n",
       "      <td>1</td>\n",
       "    </tr>\n",
       "    <tr>\n",
       "      <th>8</th>\n",
       "      <td>Probation Terminated Satisfactorily</td>\n",
       "      <td>1</td>\n",
       "    </tr>\n",
       "  </tbody>\n",
       "</table>\n",
       "</div>"
      ],
      "text/plain": [
       "                            SENTENCE_TYPE  Number\n",
       "6                                  Prison   57332\n",
       "5                                    Jail     759\n",
       "7                               Probation     115\n",
       "9   Probation Terminated Unsatisfactorily      45\n",
       "4                                   Death      26\n",
       "1                   Conditional Discharge       4\n",
       "0                    2nd Chance Probation       3\n",
       "10                            Supervision       2\n",
       "2                     Conditional Release       1\n",
       "3                   Cook County Boot Camp       1\n",
       "8     Probation Terminated Satisfactorily       1"
      ]
     },
     "execution_count": 91,
     "metadata": {},
     "output_type": "execute_result"
    }
   ],
   "source": [
    "sentencing_chi.groupby('SENTENCE_TYPE').agg(Number = ('senlength_derived', 'count')).reset_index().sort_values(by='Number',ascending=False)"
   ]
  },
  {
   "cell_type": "markdown",
   "id": "23ab0b52",
   "metadata": {},
   "source": [
    "## To predict whether people will be prison or others, we rename prison as 1, others as 0"
   ]
  },
  {
   "cell_type": "code",
   "execution_count": 93,
   "id": "d30ba401",
   "metadata": {},
   "outputs": [
    {
     "name": "stderr",
     "output_type": "stream",
     "text": [
      "/var/folders/39/p0rpjrxj68l4cbrkhyvw78fm0000gn/T/ipykernel_76237/388141005.py:2: SettingWithCopyWarning: \n",
      "A value is trying to be set on a copy of a slice from a DataFrame.\n",
      "Try using .loc[row_indexer,col_indexer] = value instead\n",
      "\n",
      "See the caveats in the documentation: https://pandas.pydata.org/pandas-docs/stable/user_guide/indexing.html#returning-a-view-versus-a-copy\n"
     ]
    },
    {
     "data": {
      "text/html": [
       "<div>\n",
       "<style scoped>\n",
       "    .dataframe tbody tr th:only-of-type {\n",
       "        vertical-align: middle;\n",
       "    }\n",
       "\n",
       "    .dataframe tbody tr th {\n",
       "        vertical-align: top;\n",
       "    }\n",
       "\n",
       "    .dataframe thead th {\n",
       "        text-align: right;\n",
       "    }\n",
       "</style>\n",
       "<table border=\"1\" class=\"dataframe\">\n",
       "  <thead>\n",
       "    <tr style=\"text-align: right;\">\n",
       "      <th></th>\n",
       "      <th>is_black_derived</th>\n",
       "      <th>is_white_derived</th>\n",
       "      <th>is_male_derived</th>\n",
       "      <th>senlength_derived</th>\n",
       "      <th>SENTENCE_TYPE</th>\n",
       "      <th>Updated</th>\n",
       "    </tr>\n",
       "  </thead>\n",
       "  <tbody>\n",
       "    <tr>\n",
       "      <th>0</th>\n",
       "      <td>True</td>\n",
       "      <td>False</td>\n",
       "      <td>True</td>\n",
       "      <td>62.0</td>\n",
       "      <td>Prison</td>\n",
       "      <td>True</td>\n",
       "    </tr>\n",
       "    <tr>\n",
       "      <th>1</th>\n",
       "      <td>True</td>\n",
       "      <td>False</td>\n",
       "      <td>True</td>\n",
       "      <td>70.0</td>\n",
       "      <td>Prison</td>\n",
       "      <td>True</td>\n",
       "    </tr>\n",
       "    <tr>\n",
       "      <th>5</th>\n",
       "      <td>True</td>\n",
       "      <td>False</td>\n",
       "      <td>True</td>\n",
       "      <td>10.0</td>\n",
       "      <td>Prison</td>\n",
       "      <td>True</td>\n",
       "    </tr>\n",
       "    <tr>\n",
       "      <th>7</th>\n",
       "      <td>True</td>\n",
       "      <td>False</td>\n",
       "      <td>True</td>\n",
       "      <td>20.0</td>\n",
       "      <td>Prison</td>\n",
       "      <td>True</td>\n",
       "    </tr>\n",
       "    <tr>\n",
       "      <th>9</th>\n",
       "      <td>True</td>\n",
       "      <td>False</td>\n",
       "      <td>True</td>\n",
       "      <td>45.0</td>\n",
       "      <td>Prison</td>\n",
       "      <td>True</td>\n",
       "    </tr>\n",
       "  </tbody>\n",
       "</table>\n",
       "</div>"
      ],
      "text/plain": [
       "   is_black_derived  is_white_derived  is_male_derived  senlength_derived  \\\n",
       "0              True             False             True               62.0   \n",
       "1              True             False             True               70.0   \n",
       "5              True             False             True               10.0   \n",
       "7              True             False             True               20.0   \n",
       "9              True             False             True               45.0   \n",
       "\n",
       "  SENTENCE_TYPE  Updated  \n",
       "0        Prison     True  \n",
       "1        Prison     True  \n",
       "5        Prison     True  \n",
       "7        Prison     True  \n",
       "9        Prison     True  "
      ]
     },
     "execution_count": 93,
     "metadata": {},
     "output_type": "execute_result"
    }
   ],
   "source": [
    "## Only to predict whether they will be prison or others(Name prison as 1, others as 0)\n",
    "sentencing_chi['Updated'] = np.where(sentencing_chi.SENTENCE_TYPE == 'Prison', True , False)\n",
    "sentencing_chi.head()"
   ]
  },
  {
   "cell_type": "code",
   "execution_count": 95,
   "id": "f903f112",
   "metadata": {},
   "outputs": [
    {
     "name": "stderr",
     "output_type": "stream",
     "text": [
      "/var/folders/39/p0rpjrxj68l4cbrkhyvw78fm0000gn/T/ipykernel_76237/937755227.py:4: SettingWithCopyWarning: \n",
      "A value is trying to be set on a copy of a slice from a DataFrame.\n",
      "Try using .loc[row_indexer,col_indexer] = value instead\n",
      "\n",
      "See the caveats in the documentation: https://pandas.pydata.org/pandas-docs/stable/user_guide/indexing.html#returning-a-view-versus-a-copy\n",
      "/var/folders/39/p0rpjrxj68l4cbrkhyvw78fm0000gn/T/ipykernel_76237/937755227.py:5: SettingWithCopyWarning: \n",
      "A value is trying to be set on a copy of a slice from a DataFrame.\n",
      "Try using .loc[row_indexer,col_indexer] = value instead\n",
      "\n",
      "See the caveats in the documentation: https://pandas.pydata.org/pandas-docs/stable/user_guide/indexing.html#returning-a-view-versus-a-copy\n",
      "/var/folders/39/p0rpjrxj68l4cbrkhyvw78fm0000gn/T/ipykernel_76237/937755227.py:6: SettingWithCopyWarning: \n",
      "A value is trying to be set on a copy of a slice from a DataFrame.\n",
      "Try using .loc[row_indexer,col_indexer] = value instead\n",
      "\n",
      "See the caveats in the documentation: https://pandas.pydata.org/pandas-docs/stable/user_guide/indexing.html#returning-a-view-versus-a-copy\n",
      "/var/folders/39/p0rpjrxj68l4cbrkhyvw78fm0000gn/T/ipykernel_76237/937755227.py:7: SettingWithCopyWarning: \n",
      "A value is trying to be set on a copy of a slice from a DataFrame.\n",
      "Try using .loc[row_indexer,col_indexer] = value instead\n",
      "\n",
      "See the caveats in the documentation: https://pandas.pydata.org/pandas-docs/stable/user_guide/indexing.html#returning-a-view-versus-a-copy\n"
     ]
    },
    {
     "data": {
      "text/html": [
       "<div>\n",
       "<style scoped>\n",
       "    .dataframe tbody tr th:only-of-type {\n",
       "        vertical-align: middle;\n",
       "    }\n",
       "\n",
       "    .dataframe tbody tr th {\n",
       "        vertical-align: top;\n",
       "    }\n",
       "\n",
       "    .dataframe thead th {\n",
       "        text-align: right;\n",
       "    }\n",
       "</style>\n",
       "<table border=\"1\" class=\"dataframe\">\n",
       "  <thead>\n",
       "    <tr style=\"text-align: right;\">\n",
       "      <th></th>\n",
       "      <th>is_black_derived</th>\n",
       "      <th>is_white_derived</th>\n",
       "      <th>is_male_derived</th>\n",
       "      <th>senlength_derived</th>\n",
       "      <th>SENTENCE_TYPE</th>\n",
       "      <th>Updated</th>\n",
       "    </tr>\n",
       "  </thead>\n",
       "  <tbody>\n",
       "    <tr>\n",
       "      <th>0</th>\n",
       "      <td>1</td>\n",
       "      <td>0</td>\n",
       "      <td>1</td>\n",
       "      <td>62.0</td>\n",
       "      <td>Prison</td>\n",
       "      <td>1</td>\n",
       "    </tr>\n",
       "    <tr>\n",
       "      <th>1</th>\n",
       "      <td>1</td>\n",
       "      <td>0</td>\n",
       "      <td>1</td>\n",
       "      <td>70.0</td>\n",
       "      <td>Prison</td>\n",
       "      <td>1</td>\n",
       "    </tr>\n",
       "    <tr>\n",
       "      <th>5</th>\n",
       "      <td>1</td>\n",
       "      <td>0</td>\n",
       "      <td>1</td>\n",
       "      <td>10.0</td>\n",
       "      <td>Prison</td>\n",
       "      <td>1</td>\n",
       "    </tr>\n",
       "    <tr>\n",
       "      <th>7</th>\n",
       "      <td>1</td>\n",
       "      <td>0</td>\n",
       "      <td>1</td>\n",
       "      <td>20.0</td>\n",
       "      <td>Prison</td>\n",
       "      <td>1</td>\n",
       "    </tr>\n",
       "    <tr>\n",
       "      <th>9</th>\n",
       "      <td>1</td>\n",
       "      <td>0</td>\n",
       "      <td>1</td>\n",
       "      <td>45.0</td>\n",
       "      <td>Prison</td>\n",
       "      <td>1</td>\n",
       "    </tr>\n",
       "  </tbody>\n",
       "</table>\n",
       "</div>"
      ],
      "text/plain": [
       "   is_black_derived  is_white_derived  is_male_derived  senlength_derived  \\\n",
       "0                 1                 0                1               62.0   \n",
       "1                 1                 0                1               70.0   \n",
       "5                 1                 0                1               10.0   \n",
       "7                 1                 0                1               20.0   \n",
       "9                 1                 0                1               45.0   \n",
       "\n",
       "  SENTENCE_TYPE  Updated  \n",
       "0        Prison        1  \n",
       "1        Prison        1  \n",
       "5        Prison        1  \n",
       "7        Prison        1  \n",
       "9        Prison        1  "
      ]
     },
     "execution_count": 95,
     "metadata": {},
     "output_type": "execute_result"
    }
   ],
   "source": [
    "## Rename the True/False column, change True to 1, False to 0\n",
    "le = LabelEncoder()\n",
    "le.fit(sentencing_chi['is_black_derived']) \n",
    "sentencing_chi['is_black_derived'] = le.transform(sentencing_chi['is_black_derived'])   \n",
    "sentencing_chi['is_white_derived'] = le.transform(sentencing_chi['is_white_derived'])\n",
    "sentencing_chi['Updated'] = le.transform(sentencing_chi['Updated'])\n",
    "sentencing_chi['is_male_derived'] = le.transform(sentencing_chi['is_male_derived'])\n",
    "sentencing_chi.head()"
   ]
  },
  {
   "cell_type": "markdown",
   "id": "0ea1f5be",
   "metadata": {},
   "source": [
    "# Test different models"
   ]
  },
  {
   "cell_type": "markdown",
   "id": "351328f9",
   "metadata": {},
   "source": [
    "## Logistic Regression Model"
   ]
  },
  {
   "cell_type": "code",
   "execution_count": 99,
   "id": "8beeaf2e",
   "metadata": {},
   "outputs": [],
   "source": [
    "y = sentencing_chi.Updated.values\n",
    "X = sentencing_chi.drop(['Updated','SENTENCE_TYPE'], axis = 1)\n",
    "from sklearn.model_selection import train_test_split\n",
    "X_train,X_test,y_train,y_test = train_test_split(X,y,random_state=6)  \n",
    "\n",
    "from sklearn.preprocessing import StandardScaler\n",
    "\n",
    "standardScaler = StandardScaler()\n",
    "standardScaler.fit(X_train)\n",
    "X_train = standardScaler.transform(X_train)\n",
    "X_test = standardScaler.transform(X_test) \n"
   ]
  },
  {
   "cell_type": "code",
   "execution_count": 100,
   "id": "39f67250",
   "metadata": {},
   "outputs": [
    {
     "name": "stdout",
     "output_type": "stream",
     "text": [
      "0.9831183090859182\n",
      "0.9849722088794346\n"
     ]
    },
    {
     "data": {
      "text/plain": [
       "0.9849722088794346"
      ]
     },
     "execution_count": 100,
     "metadata": {},
     "output_type": "execute_result"
    }
   ],
   "source": [
    "## Create Logistic Regression Model\n",
    "from sklearn.linear_model import LogisticRegression \n",
    "\n",
    "log_reg = LogisticRegression()\n",
    "log_reg.fit(X_train,y_train)\n",
    "\n",
    "print(log_reg.score(X_train,y_train))\n",
    "print(log_reg.score(X_test,y_test))\n",
    "\n",
    "from sklearn.metrics import accuracy_score\n",
    "y_predict_log = log_reg.predict(X_test)\n",
    "\n",
    "# Get the accuracy\n",
    "accuracy_score(y_test,y_predict_log)\n"
   ]
  },
  {
   "cell_type": "code",
   "execution_count": 102,
   "id": "33996b72",
   "metadata": {},
   "outputs": [
    {
     "name": "stdout",
     "output_type": "stream",
     "text": [
      "0.9924292183772946\n",
      "              precision    recall  f1-score   support\n",
      "\n",
      "           0       0.00      0.00      0.00       219\n",
      "           1       0.98      1.00      0.99     14354\n",
      "\n",
      "    accuracy                           0.98     14573\n",
      "   macro avg       0.49      0.50      0.50     14573\n",
      "weighted avg       0.97      0.98      0.98     14573\n",
      "\n"
     ]
    },
    {
     "name": "stderr",
     "output_type": "stream",
     "text": [
      "/Users/leowu/opt/anaconda3/lib/python3.9/site-packages/sklearn/metrics/_classification.py:1318: UndefinedMetricWarning: Precision and F-score are ill-defined and being set to 0.0 in labels with no predicted samples. Use `zero_division` parameter to control this behavior.\n",
      "/Users/leowu/opt/anaconda3/lib/python3.9/site-packages/sklearn/metrics/_classification.py:1318: UndefinedMetricWarning: Precision and F-score are ill-defined and being set to 0.0 in labels with no predicted samples. Use `zero_division` parameter to control this behavior.\n",
      "/Users/leowu/opt/anaconda3/lib/python3.9/site-packages/sklearn/metrics/_classification.py:1318: UndefinedMetricWarning: Precision and F-score are ill-defined and being set to 0.0 in labels with no predicted samples. Use `zero_division` parameter to control this behavior.\n"
     ]
    }
   ],
   "source": [
    "## Get f1-score\n",
    "from sklearn.metrics import f1_score\n",
    "\n",
    "print(f1_score(y_test,y_predict_log))\n",
    "\n",
    "from sklearn.metrics import classification_report\n",
    "print(classification_report(y_test,y_predict_log))"
   ]
  },
  {
   "cell_type": "code",
   "execution_count": 103,
   "id": "23f4c75a",
   "metadata": {},
   "outputs": [
    {
     "data": {
      "image/png": "[encoded data removed]",
      "text/plain": [
       "<Figure size 432x288 with 2 Axes>"
      ]
     },
     "metadata": {
      "needs_background": "light"
     },
     "output_type": "display_data"
    }
   ],
   "source": [
    "## Create Matrix\n",
    "from sklearn.metrics import confusion_matrix\n",
    "cnf_matrix = confusion_matrix(y_test,y_predict_log)\n",
    "cnf_matrix\n",
    "\n",
    "def plot_cnf_matirx(cnf_matrix,description):\n",
    "    class_names = [0,1]\n",
    "    fig,ax = plt.subplots()\n",
    "    tick_marks = np.arange(len(class_names))\n",
    "    plt.xticks(tick_marks,class_names)\n",
    "    plt.yticks(tick_marks,class_names)\n",
    "\n",
    "# Create a heat map\n",
    "    sns.heatmap(pd.DataFrame(cnf_matrix), annot = True, cmap = 'OrRd',\n",
    "               fmt = 'g')\n",
    "    ax.xaxis.set_label_position('top')\n",
    "    plt.tight_layout()\n",
    "    plt.title(description, y = 1.1,fontsize=16)\n",
    "    plt.ylabel('Actual Value 0/1',fontsize=12)\n",
    "    plt.xlabel('Predict Value 0/1',fontsize=12)\n",
    "    plt.show()\n",
    "    \n",
    "plot_cnf_matirx(cnf_matrix,'Confusion matrix -- Logistic Regression')"
   ]
  },
  {
   "cell_type": "code",
   "execution_count": 104,
   "id": "d3b186fb",
   "metadata": {},
   "outputs": [
    {
     "data": {
      "image/png": "[encoded data removed]",
      "text/plain": [
       "<Figure size 432x288 with 1 Axes>"
      ]
     },
     "metadata": {
      "needs_background": "light"
     },
     "output_type": "display_data"
    }
   ],
   "source": [
    "decision_scores = log_reg.decision_function(X_test)\n",
    "\n",
    "from sklearn.metrics import precision_recall_curve\n",
    "\n",
    "precisions,recalls,thresholds = precision_recall_curve(y_test,decision_scores)\n",
    "\n",
    "plt.plot(thresholds,precisions[:-1])\n",
    "plt.plot(thresholds,recalls[:-1])\n",
    "plt.grid()\n",
    "plt.show()  "
   ]
  },
  {
   "cell_type": "code",
   "execution_count": 105,
   "id": "671fdd8e",
   "metadata": {},
   "outputs": [
    {
     "data": {
      "image/png": "[encoded data removed]",
      "text/plain": [
       "<Figure size 640x480 with 1 Axes>"
      ]
     },
     "metadata": {
      "needs_background": "light"
     },
     "output_type": "display_data"
    }
   ],
   "source": [
    "# Plot ROC curve\n",
    "from sklearn.metrics import roc_curve\n",
    "\n",
    "fprs,tprs,thresholds = roc_curve(y_test,decision_scores)\n",
    "\n",
    "def plot_roc_curve(fprs,tprs):\n",
    "    plt.figure(figsize=(8,6),dpi=80)\n",
    "    plt.plot(fprs,tprs)\n",
    "    plt.plot([0,1],linestyle='--')\n",
    "    plt.xticks(fontsize=13)\n",
    "    plt.yticks(fontsize=13)\n",
    "    plt.ylabel('TP rate',fontsize=15)\n",
    "    plt.xlabel('FP rate',fontsize=15)\n",
    "    plt.title('ROC Curve',fontsize=17)\n",
    "    plt.show()\n",
    "    \n",
    "plot_roc_curve(fprs,tprs)"
   ]
  },
  {
   "cell_type": "code",
   "execution_count": 106,
   "id": "16a9d8c6",
   "metadata": {},
   "outputs": [
    {
     "data": {
      "text/plain": [
       "0.5295297382620663"
      ]
     },
     "execution_count": 106,
     "metadata": {},
     "output_type": "execute_result"
    }
   ],
   "source": [
    "# Get the area, which is equal to score\n",
    "from sklearn.metrics import roc_auc_score \n",
    "\n",
    "roc_auc_score(y_test,decision_scores)"
   ]
  },
  {
   "cell_type": "markdown",
   "id": "96dc424c",
   "metadata": {},
   "source": [
    "## KNN Neighbor Model"
   ]
  },
  {
   "cell_type": "code",
   "execution_count": 165,
   "id": "54d74a35",
   "metadata": {},
   "outputs": [],
   "source": [
    "param_grid = [\n",
    "    {\n",
    "        'weights':['uniform'],\n",
    "        'n_neighbors':[i for i in range(1,31)]\n",
    "    },\n",
    "    {\n",
    "        'weights':['distance'],\n",
    "        'n_neighbors':[i for i in range(1,31)],\n",
    "        'p':[i for i in range(1,6)]\n",
    "    }\n",
    "]"
   ]
  },
  {
   "cell_type": "code",
   "execution_count": 166,
   "id": "a4fb0ff4",
   "metadata": {},
   "outputs": [
    {
     "data": {
      "text/plain": [
       "GridSearchCV(estimator=KNeighborsClassifier(),\n",
       "             param_grid=[{'n_neighbors': [1, 2, 3, 4, 5, 6, 7, 8, 9, 10, 11, 12,\n",
       "                                          13, 14, 15, 16, 17, 18, 19, 20, 21,\n",
       "                                          22, 23, 24, 25, 26, 27, 28, 29, 30],\n",
       "                          'weights': ['uniform']},\n",
       "                         {'n_neighbors': [1, 2, 3, 4, 5, 6, 7, 8, 9, 10, 11, 12,\n",
       "                                          13, 14, 15, 16, 17, 18, 19, 20, 21,\n",
       "                                          22, 23, 24, 25, 26, 27, 28, 29, 30],\n",
       "                          'p': [1, 2, 3, 4, 5], 'weights': ['distance']}])"
      ]
     },
     "execution_count": 166,
     "metadata": {},
     "output_type": "execute_result"
    }
   ],
   "source": [
    "from sklearn.neighbors import KNeighborsClassifier\n",
    "knn_clf = KNeighborsClassifier()\n",
    "\n",
    "grid_search = GridSearchCV(knn_clf,param_grid)\n",
    "\n",
    "grid_search.fit(X_train,y_train)\n"
   ]
  },
  {
   "cell_type": "code",
   "execution_count": 167,
   "id": "70a933b0",
   "metadata": {},
   "outputs": [
    {
     "data": {
      "text/plain": [
       "0.9833241838536834"
      ]
     },
     "execution_count": 167,
     "metadata": {},
     "output_type": "execute_result"
    }
   ],
   "source": [
    "grid_search.best_score_"
   ]
  },
  {
   "cell_type": "code",
   "execution_count": 168,
   "id": "24f3e873",
   "metadata": {},
   "outputs": [
    {
     "data": {
      "text/plain": [
       "0.9838045566840516"
      ]
     },
     "execution_count": 168,
     "metadata": {},
     "output_type": "execute_result"
    }
   ],
   "source": [
    "knn_clf = grid_search.best_estimator_\n",
    "knn_clf.score(X_train,y_train)"
   ]
  },
  {
   "cell_type": "code",
   "execution_count": 169,
   "id": "6ae10b75",
   "metadata": {},
   "outputs": [
    {
     "data": {
      "text/plain": [
       "0.9846977286763192"
      ]
     },
     "execution_count": 169,
     "metadata": {},
     "output_type": "execute_result"
    }
   ],
   "source": [
    "knn_clf.score(X_test,y_test)"
   ]
  },
  {
   "cell_type": "code",
   "execution_count": 170,
   "id": "6fbb56a0",
   "metadata": {},
   "outputs": [
    {
     "data": {
      "text/plain": [
       "0.992287206446927"
      ]
     },
     "execution_count": 170,
     "metadata": {},
     "output_type": "execute_result"
    }
   ],
   "source": [
    "## Get F1-score\n",
    "y_predict_knn = knn_clf.predict(X_test)\n",
    "f1_score(y_test,y_predict_knn)"
   ]
  },
  {
   "cell_type": "code",
   "execution_count": 171,
   "id": "3dcbaa3a",
   "metadata": {},
   "outputs": [
    {
     "name": "stdout",
     "output_type": "stream",
     "text": [
      "              precision    recall  f1-score   support\n",
      "\n",
      "           0       0.36      0.02      0.04       219\n",
      "           1       0.99      1.00      0.99     14354\n",
      "\n",
      "    accuracy                           0.98     14573\n",
      "   macro avg       0.67      0.51      0.52     14573\n",
      "weighted avg       0.98      0.98      0.98     14573\n",
      "\n"
     ]
    }
   ],
   "source": [
    "print(classification_report(y_test,y_predict_knn))"
   ]
  },
  {
   "cell_type": "code",
   "execution_count": 172,
   "id": "7ec53d00",
   "metadata": {},
   "outputs": [
    {
     "data": {
      "text/plain": [
       "array([[    5,   214],\n",
       "       [    9, 14345]])"
      ]
     },
     "execution_count": 172,
     "metadata": {},
     "output_type": "execute_result"
    }
   ],
   "source": [
    "## Get the matrix\n",
    "cnf_matrix = confusion_matrix(y_test,y_predict_knn)\n",
    "cnf_matrix"
   ]
  },
  {
   "cell_type": "code",
   "execution_count": 173,
   "id": "ab9d1263",
   "metadata": {},
   "outputs": [
    {
     "data": {
      "image/png": "[encoded data removed]",
      "text/plain": [
       "<Figure size 432x288 with 2 Axes>"
      ]
     },
     "metadata": {},
     "output_type": "display_data"
    }
   ],
   "source": [
    "# Plot the matrix graph\n",
    "plot_cnf_matirx(cnf_matrix,'Confusion matrix -- KNN')"
   ]
  },
  {
   "cell_type": "code",
   "execution_count": 174,
   "id": "a7f3e9c9",
   "metadata": {},
   "outputs": [
    {
     "data": {
      "image/png": "[encoded data removed]",
      "text/plain": [
       "<Figure size 432x288 with 1 Axes>"
      ]
     },
     "metadata": {},
     "output_type": "display_data"
    }
   ],
   "source": [
    "## Plot line graph\n",
    "y_probabilities = knn_clf.predict_proba(X_test)[:,1]\n",
    "\n",
    "from sklearn.metrics import precision_recall_curve\n",
    "\n",
    "precisions,recalls,thresholds = precision_recall_curve(y_test,y_probabilities)\n",
    "\n",
    "plt.plot(thresholds,precisions[:-1])\n",
    "plt.plot(thresholds,recalls[:-1])\n",
    "plt.grid()\n",
    "plt.show()    "
   ]
  },
  {
   "cell_type": "code",
   "execution_count": 175,
   "id": "075cfb90",
   "metadata": {},
   "outputs": [
    {
     "data": {
      "image/png": "[encoded data removed]",
      "text/plain": [
       "<Figure size 640x480 with 1 Axes>"
      ]
     },
     "metadata": {},
     "output_type": "display_data"
    }
   ],
   "source": [
    "## Plot the ROC Curve\n",
    "from sklearn.metrics import roc_curve\n",
    "fprs2,tprs2,thresholds2 = roc_curve(y_test,y_probabilities)\n",
    "plot_roc_curve(fprs2,tprs2)"
   ]
  },
  {
   "cell_type": "code",
   "execution_count": 176,
   "id": "cca0c13d",
   "metadata": {},
   "outputs": [
    {
     "data": {
      "text/plain": [
       "0.507095058224427"
      ]
     },
     "execution_count": 176,
     "metadata": {},
     "output_type": "execute_result"
    }
   ],
   "source": [
    "# Get the area, which is equal to the score\n",
    "from sklearn.metrics import roc_auc_score  \n",
    "roc_auc_score(y_test,y_probabilities)"
   ]
  },
  {
   "cell_type": "markdown",
   "id": "c0c498b8",
   "metadata": {},
   "source": [
    "## Decision Tree"
   ]
  },
  {
   "cell_type": "code",
   "execution_count": 125,
   "id": "0088ba06",
   "metadata": {},
   "outputs": [],
   "source": [
    "from sklearn.tree import DecisionTreeClassifier\n",
    "dt_clf= DecisionTreeClassifier(random_state=6)"
   ]
  },
  {
   "cell_type": "code",
   "execution_count": 126,
   "id": "074d0c9b",
   "metadata": {},
   "outputs": [
    {
     "data": {
      "text/plain": [
       "GridSearchCV(estimator=DecisionTreeClassifier(random_state=6),\n",
       "             param_grid=[{'max_features': ['auto', 'sqrt', 'log2'],\n",
       "                          'min_samples_leaf': [1, 2, 3, 4, 5, 6, 7, 8, 9, 10,\n",
       "                                               11],\n",
       "                          'min_samples_split': [2, 3, 4, 5, 6, 7, 8, 9, 10, 11,\n",
       "                                                12, 13, 14, 15, 16, 17, 18]}])"
      ]
     },
     "execution_count": 126,
     "metadata": {},
     "output_type": "execute_result"
    }
   ],
   "source": [
    "from sklearn.model_selection import GridSearchCV\n",
    "param_grid = [\n",
    "    {\n",
    "        'max_features':['auto','sqrt','log2'],\n",
    "        'min_samples_split':[2,3,4,5,6,7,8,9,10,11,12,13,14,15,16,17,18],\n",
    "        'min_samples_leaf':[1,2,3,4,5,6,7,8,9,10,11]\n",
    "    }\n",
    "]\n",
    "grid_search = GridSearchCV(dt_clf,param_grid)\n",
    "\n",
    "grid_search.fit(X_train,y_train)\n"
   ]
  },
  {
   "cell_type": "code",
   "execution_count": 127,
   "id": "e5f28d98",
   "metadata": {},
   "outputs": [
    {
     "data": {
      "text/plain": [
       "DecisionTreeClassifier(max_features='auto', min_samples_leaf=2,\n",
       "                       min_samples_split=6, random_state=6)"
      ]
     },
     "execution_count": 127,
     "metadata": {},
     "output_type": "execute_result"
    }
   ],
   "source": [
    "grid_search.best_estimator_"
   ]
  },
  {
   "cell_type": "code",
   "execution_count": 128,
   "id": "c0894b21",
   "metadata": {},
   "outputs": [
    {
     "data": {
      "text/plain": [
       "0.9833013084104717"
      ]
     },
     "execution_count": 128,
     "metadata": {},
     "output_type": "execute_result"
    }
   ],
   "source": [
    "grid_search.best_score_"
   ]
  },
  {
   "cell_type": "code",
   "execution_count": 129,
   "id": "d78010bf",
   "metadata": {},
   "outputs": [
    {
     "data": {
      "text/plain": [
       "0.9836444322444872"
      ]
     },
     "execution_count": 129,
     "metadata": {},
     "output_type": "execute_result"
    }
   ],
   "source": [
    "dt_clf = grid_search.best_estimator_\n",
    "dt_clf.score(X_train,y_train)"
   ]
  },
  {
   "cell_type": "code",
   "execution_count": 130,
   "id": "28aa311f",
   "metadata": {},
   "outputs": [
    {
     "data": {
      "text/plain": [
       "0.9922523519645822"
      ]
     },
     "execution_count": 130,
     "metadata": {},
     "output_type": "execute_result"
    }
   ],
   "source": [
    "## Get F1-score\n",
    "y_predict_dt = dt_clf.predict(X_test)\n",
    "f1_score(y_test,y_predict_dt)"
   ]
  },
  {
   "cell_type": "code",
   "execution_count": 132,
   "id": "45b93d35",
   "metadata": {},
   "outputs": [
    {
     "name": "stdout",
     "output_type": "stream",
     "text": [
      "              precision    recall  f1-score   support\n",
      "\n",
      "           0       0.33      0.02      0.04       219\n",
      "           1       0.99      1.00      0.99     14354\n",
      "\n",
      "    accuracy                           0.98     14573\n",
      "   macro avg       0.66      0.51      0.52     14573\n",
      "weighted avg       0.98      0.98      0.98     14573\n",
      "\n"
     ]
    },
    {
     "data": {
      "text/plain": [
       "array([[    5,   214],\n",
       "       [   10, 14344]])"
      ]
     },
     "execution_count": 132,
     "metadata": {},
     "output_type": "execute_result"
    }
   ],
   "source": [
    "## Plot the matrix\n",
    "print(classification_report(y_test,y_predict_dt))\n",
    "cnf_matrix = confusion_matrix(y_test,y_predict_dt)\n",
    "cnf_matrix"
   ]
  },
  {
   "cell_type": "code",
   "execution_count": 134,
   "id": "c1bc4518",
   "metadata": {},
   "outputs": [
    {
     "data": {
      "image/png": "[encoded data removed]",
      "text/plain": [
       "<Figure size 432x288 with 2 Axes>"
      ]
     },
     "metadata": {
      "needs_background": "light"
     },
     "output_type": "display_data"
    }
   ],
   "source": [
    "## Plot the heat graph\n",
    "plot_cnf_matirx(cnf_matrix,'Confusion matrix -- DecisionTree')"
   ]
  },
  {
   "cell_type": "code",
   "execution_count": 135,
   "id": "1731c0f0",
   "metadata": {},
   "outputs": [],
   "source": [
    "y_probabilities = dt_clf.predict_proba(X_test)[:,1]\n",
    "\n",
    "from sklearn.metrics import precision_recall_curve\n",
    "\n",
    "precisions,recalls,thresholds = precision_recall_curve(y_test,y_probabilities)"
   ]
  },
  {
   "cell_type": "code",
   "execution_count": 136,
   "id": "c12e0281",
   "metadata": {},
   "outputs": [
    {
     "data": {
      "image/png": "[encoded data removed]",
      "text/plain": [
       "<Figure size 432x288 with 1 Axes>"
      ]
     },
     "metadata": {
      "needs_background": "light"
     },
     "output_type": "display_data"
    }
   ],
   "source": [
    "plt.plot(thresholds,precisions[:-1])\n",
    "plt.plot(thresholds,recalls[:-1])\n",
    "plt.grid()\n",
    "plt.show()   "
   ]
  },
  {
   "cell_type": "code",
   "execution_count": 137,
   "id": "d7f28e1b",
   "metadata": {},
   "outputs": [
    {
     "data": {
      "image/png": "[encoded data removed]",
      "text/plain": [
       "<Figure size 640x480 with 1 Axes>"
      ]
     },
     "metadata": {
      "needs_background": "light"
     },
     "output_type": "display_data"
    }
   ],
   "source": [
    "## Plot the ROC Curve\n",
    "from sklearn.metrics import roc_curve\n",
    "fprs3,tprs3,thresholds3 = roc_curve(y_test,y_probabilities)\n",
    "plot_roc_curve(fprs3,tprs3)"
   ]
  },
  {
   "cell_type": "code",
   "execution_count": 138,
   "id": "4b8b1ed0",
   "metadata": {},
   "outputs": [
    {
     "data": {
      "text/plain": [
       "0.5563318070217965"
      ]
     },
     "execution_count": 138,
     "metadata": {},
     "output_type": "execute_result"
    }
   ],
   "source": [
    "# Get the area, which is equal to score\n",
    "from sklearn.metrics import roc_auc_score  \n",
    "\n",
    "roc_auc_score(y_test,y_probabilities)"
   ]
  },
  {
   "cell_type": "markdown",
   "id": "2ffd3599",
   "metadata": {},
   "source": [
    "## VotingClassifier"
   ]
  },
  {
   "cell_type": "code",
   "execution_count": 142,
   "id": "890cae10",
   "metadata": {},
   "outputs": [],
   "source": [
    "from sklearn.ensemble import VotingClassifier\n",
    "\n",
    "voting_clf = VotingClassifier(estimators=[\n",
    "        ('log_clf',log_reg),\n",
    "        ('knn_clf',knn_clf),\n",
    "        ('dt_clf',dt_clf)\n",
    "],voting='soft')\n"
   ]
  },
  {
   "cell_type": "code",
   "execution_count": 143,
   "id": "e23edec4",
   "metadata": {},
   "outputs": [
    {
     "data": {
      "text/plain": [
       "VotingClassifier(estimators=[('log_clf', LogisticRegression()),\n",
       "                             ('knn_clf', KNeighborsClassifier()),\n",
       "                             ('dt_clf',\n",
       "                              DecisionTreeClassifier(max_features='auto',\n",
       "                                                     min_samples_leaf=2,\n",
       "                                                     min_samples_split=6,\n",
       "                                                     random_state=6))],\n",
       "                 voting='soft')"
      ]
     },
     "execution_count": 143,
     "metadata": {},
     "output_type": "execute_result"
    }
   ],
   "source": [
    "voting_clf.fit(X_train,y_train)"
   ]
  },
  {
   "cell_type": "code",
   "execution_count": 144,
   "id": "05bd32cc",
   "metadata": {},
   "outputs": [
    {
     "data": {
      "text/plain": [
       "0.9834385579650471"
      ]
     },
     "execution_count": 144,
     "metadata": {},
     "output_type": "execute_result"
    }
   ],
   "source": [
    "voting_clf.score(X_train,y_train)"
   ]
  },
  {
   "cell_type": "code",
   "execution_count": 145,
   "id": "ed0e685c",
   "metadata": {},
   "outputs": [
    {
     "data": {
      "text/plain": [
       "0.9849035888286557"
      ]
     },
     "execution_count": 145,
     "metadata": {},
     "output_type": "execute_result"
    }
   ],
   "source": [
    "voting_clf.score(X_test,y_test)"
   ]
  },
  {
   "cell_type": "code",
   "execution_count": 147,
   "id": "b7589ae3",
   "metadata": {},
   "outputs": [
    {
     "data": {
      "text/plain": [
       "0.9923928077455049"
      ]
     },
     "execution_count": 147,
     "metadata": {},
     "output_type": "execute_result"
    }
   ],
   "source": [
    "## Get the F1-score\n",
    "y_predict_voting = voting_clf.predict(X_test)\n",
    "f1_score(y_test,y_predict_voting)"
   ]
  },
  {
   "cell_type": "code",
   "execution_count": 152,
   "id": "aef36258",
   "metadata": {},
   "outputs": [
    {
     "name": "stdout",
     "output_type": "stream",
     "text": [
      "              precision    recall  f1-score   support\n",
      "\n",
      "           0       0.43      0.01      0.03       219\n",
      "           1       0.99      1.00      0.99     14354\n",
      "\n",
      "    accuracy                           0.98     14573\n",
      "   macro avg       0.71      0.51      0.51     14573\n",
      "weighted avg       0.98      0.98      0.98     14573\n",
      "\n"
     ]
    },
    {
     "data": {
      "text/plain": [
       "array([[    3,   216],\n",
       "       [    4, 14350]])"
      ]
     },
     "execution_count": 152,
     "metadata": {},
     "output_type": "execute_result"
    }
   ],
   "source": [
    "## Plot the matrix\n",
    "print(classification_report(y_test,y_predict_voting))\n",
    "cnv_matrix = confusion_matrix(y_test,y_predict_voting)\n",
    "cnv_matrix"
   ]
  },
  {
   "cell_type": "code",
   "execution_count": 153,
   "id": "4c5311d9",
   "metadata": {},
   "outputs": [
    {
     "data": {
      "image/png": "[encoded data removed]",
      "text/plain": [
       "<Figure size 432x288 with 2 Axes>"
      ]
     },
     "metadata": {
      "needs_background": "light"
     },
     "output_type": "display_data"
    }
   ],
   "source": [
    "## Plot the heat graph\n",
    "plot_cnf_matirx(cnv_matrix,'Confusion matrix -- Voting')"
   ]
  },
  {
   "cell_type": "code",
   "execution_count": 148,
   "id": "706d2af7",
   "metadata": {},
   "outputs": [
    {
     "data": {
      "text/plain": [
       "0.5527278921822183"
      ]
     },
     "execution_count": 148,
     "metadata": {},
     "output_type": "execute_result"
    }
   ],
   "source": [
    "# Get the area, which is equal to score\n",
    "y_probabilities = voting_clf.predict_proba(X_test)[:,1]\n",
    "\n",
    "roc_auc_score(y_test,y_probabilities)"
   ]
  },
  {
   "cell_type": "markdown",
   "id": "1fea9be8",
   "metadata": {},
   "source": [
    "## Random Forest"
   ]
  },
  {
   "cell_type": "code",
   "execution_count": 157,
   "id": "7817cf0f",
   "metadata": {},
   "outputs": [
    {
     "data": {
      "text/plain": [
       "RandomForestClassifier(n_estimators=500, n_jobs=-1, oob_score=True,\n",
       "                       random_state=666)"
      ]
     },
     "execution_count": 157,
     "metadata": {},
     "output_type": "execute_result"
    }
   ],
   "source": [
    "from sklearn.ensemble import RandomForestClassifier\n",
    "\n",
    "rf_clf = RandomForestClassifier(n_estimators=500,random_state=666,oob_score=True,n_jobs=-1)\n",
    "rf_clf.fit(X,y)"
   ]
  },
  {
   "cell_type": "code",
   "execution_count": 158,
   "id": "0a40bbc9",
   "metadata": {},
   "outputs": [
    {
     "data": {
      "text/plain": [
       "0.9838563022182573"
      ]
     },
     "execution_count": 158,
     "metadata": {},
     "output_type": "execute_result"
    }
   ],
   "source": [
    "rf_clf.oob_score_"
   ]
  },
  {
   "cell_type": "code",
   "execution_count": 159,
   "id": "88a3f81d",
   "metadata": {},
   "outputs": [
    {
     "name": "stderr",
     "output_type": "stream",
     "text": [
      "/Users/leowu/opt/anaconda3/lib/python3.9/site-packages/sklearn/base.py:450: UserWarning: X does not have valid feature names, but RandomForestClassifier was fitted with feature names\n"
     ]
    },
    {
     "data": {
      "text/plain": [
       "0.1391614629794826"
      ]
     },
     "execution_count": 159,
     "metadata": {},
     "output_type": "execute_result"
    }
   ],
   "source": [
    "rf_clf.score(X_test,y_test)"
   ]
  },
  {
   "cell_type": "code",
   "execution_count": 160,
   "id": "d74f19d0",
   "metadata": {},
   "outputs": [
    {
     "name": "stderr",
     "output_type": "stream",
     "text": [
      "/Users/leowu/opt/anaconda3/lib/python3.9/site-packages/sklearn/base.py:450: UserWarning: X does not have valid feature names, but RandomForestClassifier was fitted with feature names\n"
     ]
    },
    {
     "data": {
      "text/plain": [
       "0.499356773253983"
      ]
     },
     "execution_count": 160,
     "metadata": {},
     "output_type": "execute_result"
    }
   ],
   "source": [
    "## Get the area\n",
    "y_probabilities_rf = rf_clf.predict_proba(X_test)[:,1]\n",
    "\n",
    "roc_auc_score(y_test,y_probabilities_rf)"
   ]
  },
  {
   "cell_type": "code",
   "execution_count": 161,
   "id": "2476edbd",
   "metadata": {},
   "outputs": [
    {
     "data": {
      "text/plain": [
       "0.6249832867732362"
      ]
     },
     "execution_count": 161,
     "metadata": {},
     "output_type": "execute_result"
    }
   ],
   "source": [
    "## Updated area\n",
    "y_probabilities = rf_clf.predict_proba(X)[:,1]\n",
    "\n",
    "roc_auc_score(y,y_probabilities)"
   ]
  },
  {
   "cell_type": "code",
   "execution_count": 162,
   "id": "e1de9b2d",
   "metadata": {},
   "outputs": [
    {
     "data": {
      "image/png": "[encoded data removed]",
      "text/plain": [
       "<Figure size 640x480 with 1 Axes>"
      ]
     },
     "metadata": {
      "needs_background": "light"
     },
     "output_type": "display_data"
    }
   ],
   "source": [
    "from sklearn.metrics import roc_curve\n",
    "fprs4,tprs4,thresholds4 = roc_curve(y_test,y_probabilities_rf)\n",
    "# Plot ROC Curve\n",
    "plot_roc_curve(fprs4,tprs4)"
   ]
  },
  {
   "cell_type": "markdown",
   "id": "0cb64c1f",
   "metadata": {},
   "source": [
    "## Plot these ROC curve together"
   ]
  },
  {
   "cell_type": "code",
   "execution_count": 177,
   "id": "c05ab0c9",
   "metadata": {},
   "outputs": [
    {
     "data": {
      "image/png": "[encoded data removed]",
      "text/plain": [
       "<Figure size 864x576 with 1 Axes>"
      ]
     },
     "metadata": {},
     "output_type": "display_data"
    }
   ],
   "source": [
    "## Plot these curve together\n",
    "sns.set_style('whitegrid')\n",
    "plt.figure(figsize=(12,8))\n",
    "plt.title('ROC Curve',fontsize=18)\n",
    "plt.plot(fprs,tprs,label='Log_Reg')\n",
    "plt.plot(fprs2,tprs2,label='KNN')\n",
    "plt.plot(fprs3,tprs3,label='DT_Clf')\n",
    "plt.plot(fprs4,tprs4,label='RF_Clf')\n",
    "plt.plot([0,1],ls='--')\n",
    "plt.plot([0,0],[1,0],c='.8')\n",
    "plt.plot([1,1],c='.8')\n",
    "plt.ylabel('TP rate',fontsize=15)\n",
    "plt.xlabel('FP rate',fontsize=15)\n",
    "plt.xticks(fontsize=13)\n",
    "plt.yticks(fontsize=13)\n",
    "plt.legend()\n",
    "plt.show()"
   ]
  },
  {
   "cell_type": "code",
   "execution_count": null,
   "id": "54fe91f3",
   "metadata": {},
   "outputs": [],
   "source": []
  },
  {
   "cell_type": "markdown",
   "id": "ba7aa97d",
   "metadata": {},
   "source": [
    "# Predict the different sentence type of people"
   ]
  },
  {
   "cell_type": "markdown",
   "id": "52822e4f",
   "metadata": {},
   "source": [
    "### We choose the raw data of cleaned df"
   ]
  },
  {
   "cell_type": "code",
   "execution_count": 40,
   "id": "2c3add73",
   "metadata": {},
   "outputs": [
    {
     "data": {
      "text/html": [
       "<div>\n",
       "<style scoped>\n",
       "    .dataframe tbody tr th:only-of-type {\n",
       "        vertical-align: middle;\n",
       "    }\n",
       "\n",
       "    .dataframe tbody tr th {\n",
       "        vertical-align: top;\n",
       "    }\n",
       "\n",
       "    .dataframe thead th {\n",
       "        text-align: right;\n",
       "    }\n",
       "</style>\n",
       "<table border=\"1\" class=\"dataframe\">\n",
       "  <thead>\n",
       "    <tr style=\"text-align: right;\">\n",
       "      <th></th>\n",
       "      <th>is_black_derived</th>\n",
       "      <th>is_hisp_derived</th>\n",
       "      <th>is_white_derived</th>\n",
       "      <th>is_male_derived</th>\n",
       "      <th>senlength_derived</th>\n",
       "      <th>SENTENCE_TYPE</th>\n",
       "    </tr>\n",
       "  </thead>\n",
       "  <tbody>\n",
       "    <tr>\n",
       "      <th>0</th>\n",
       "      <td>True</td>\n",
       "      <td>False</td>\n",
       "      <td>False</td>\n",
       "      <td>True</td>\n",
       "      <td>62.0</td>\n",
       "      <td>Prison</td>\n",
       "    </tr>\n",
       "    <tr>\n",
       "      <th>1</th>\n",
       "      <td>True</td>\n",
       "      <td>False</td>\n",
       "      <td>False</td>\n",
       "      <td>True</td>\n",
       "      <td>70.0</td>\n",
       "      <td>Prison</td>\n",
       "    </tr>\n",
       "    <tr>\n",
       "      <th>2</th>\n",
       "      <td>False</td>\n",
       "      <td>True</td>\n",
       "      <td>False</td>\n",
       "      <td>True</td>\n",
       "      <td>3.0</td>\n",
       "      <td>Prison</td>\n",
       "    </tr>\n",
       "    <tr>\n",
       "      <th>3</th>\n",
       "      <td>True</td>\n",
       "      <td>False</td>\n",
       "      <td>False</td>\n",
       "      <td>False</td>\n",
       "      <td>2.0</td>\n",
       "      <td>Probation</td>\n",
       "    </tr>\n",
       "    <tr>\n",
       "      <th>4</th>\n",
       "      <td>False</td>\n",
       "      <td>False</td>\n",
       "      <td>True</td>\n",
       "      <td>True</td>\n",
       "      <td>2.0</td>\n",
       "      <td>Probation</td>\n",
       "    </tr>\n",
       "  </tbody>\n",
       "</table>\n",
       "</div>"
      ],
      "text/plain": [
       "   is_black_derived  is_hisp_derived  is_white_derived  is_male_derived  \\\n",
       "0              True            False             False             True   \n",
       "1              True            False             False             True   \n",
       "2             False             True             False             True   \n",
       "3              True            False             False            False   \n",
       "4             False            False              True             True   \n",
       "\n",
       "   senlength_derived SENTENCE_TYPE  \n",
       "0               62.0        Prison  \n",
       "1               70.0        Prison  \n",
       "2                3.0        Prison  \n",
       "3                2.0     Probation  \n",
       "4                2.0     Probation  "
      ]
     },
     "execution_count": 40,
     "metadata": {},
     "output_type": "execute_result"
    }
   ],
   "source": [
    "sentence_cleaned = sentencing_cleaned_up[['is_black_derived','is_hisp_derived','is_white_derived','is_male_derived','senlength_derived','SENTENCE_TYPE']]\n",
    "sentence_cleaned.head()"
   ]
  },
  {
   "cell_type": "code",
   "execution_count": 43,
   "id": "7ee0d5c2",
   "metadata": {},
   "outputs": [
    {
     "data": {
      "text/html": [
       "<div>\n",
       "<style scoped>\n",
       "    .dataframe tbody tr th:only-of-type {\n",
       "        vertical-align: middle;\n",
       "    }\n",
       "\n",
       "    .dataframe tbody tr th {\n",
       "        vertical-align: top;\n",
       "    }\n",
       "\n",
       "    .dataframe thead th {\n",
       "        text-align: right;\n",
       "    }\n",
       "</style>\n",
       "<table border=\"1\" class=\"dataframe\">\n",
       "  <thead>\n",
       "    <tr style=\"text-align: right;\">\n",
       "      <th></th>\n",
       "      <th>SENTENCE_TYPE</th>\n",
       "      <th>Number</th>\n",
       "    </tr>\n",
       "  </thead>\n",
       "  <tbody>\n",
       "    <tr>\n",
       "      <th>7</th>\n",
       "      <td>Prison</td>\n",
       "      <td>67502</td>\n",
       "    </tr>\n",
       "    <tr>\n",
       "      <th>8</th>\n",
       "      <td>Probation</td>\n",
       "      <td>54432</td>\n",
       "    </tr>\n",
       "    <tr>\n",
       "      <th>6</th>\n",
       "      <td>Jail</td>\n",
       "      <td>5496</td>\n",
       "    </tr>\n",
       "    <tr>\n",
       "      <th>1</th>\n",
       "      <td>Conditional Discharge</td>\n",
       "      <td>2224</td>\n",
       "    </tr>\n",
       "    <tr>\n",
       "      <th>12</th>\n",
       "      <td>Supervision</td>\n",
       "      <td>1737</td>\n",
       "    </tr>\n",
       "    <tr>\n",
       "      <th>0</th>\n",
       "      <td>2nd Chance Probation</td>\n",
       "      <td>1514</td>\n",
       "    </tr>\n",
       "    <tr>\n",
       "      <th>3</th>\n",
       "      <td>Cook County Boot Camp</td>\n",
       "      <td>145</td>\n",
       "    </tr>\n",
       "    <tr>\n",
       "      <th>11</th>\n",
       "      <td>Probation Terminated Unsatisfactorily</td>\n",
       "      <td>133</td>\n",
       "    </tr>\n",
       "    <tr>\n",
       "      <th>2</th>\n",
       "      <td>Conditional Release</td>\n",
       "      <td>52</td>\n",
       "    </tr>\n",
       "    <tr>\n",
       "      <th>9</th>\n",
       "      <td>Probation Terminated Instanter</td>\n",
       "      <td>46</td>\n",
       "    </tr>\n",
       "    <tr>\n",
       "      <th>5</th>\n",
       "      <td>Inpatient Mental Health Services</td>\n",
       "      <td>38</td>\n",
       "    </tr>\n",
       "    <tr>\n",
       "      <th>4</th>\n",
       "      <td>Death</td>\n",
       "      <td>33</td>\n",
       "    </tr>\n",
       "    <tr>\n",
       "      <th>10</th>\n",
       "      <td>Probation Terminated Satisfactorily</td>\n",
       "      <td>21</td>\n",
       "    </tr>\n",
       "  </tbody>\n",
       "</table>\n",
       "</div>"
      ],
      "text/plain": [
       "                            SENTENCE_TYPE  Number\n",
       "7                                  Prison   67502\n",
       "8                               Probation   54432\n",
       "6                                    Jail    5496\n",
       "1                   Conditional Discharge    2224\n",
       "12                            Supervision    1737\n",
       "0                    2nd Chance Probation    1514\n",
       "3                   Cook County Boot Camp     145\n",
       "11  Probation Terminated Unsatisfactorily     133\n",
       "2                     Conditional Release      52\n",
       "9          Probation Terminated Instanter      46\n",
       "5        Inpatient Mental Health Services      38\n",
       "4                                   Death      33\n",
       "10    Probation Terminated Satisfactorily      21"
      ]
     },
     "execution_count": 43,
     "metadata": {},
     "output_type": "execute_result"
    }
   ],
   "source": [
    "sentence_count = sentence_cleaned.groupby('SENTENCE_TYPE').agg(Number = ('senlength_derived', 'count')).reset_index()\n",
    "sentence_count.sort_values(by='Number',ascending=False)"
   ]
  },
  {
   "cell_type": "markdown",
   "id": "49dce4bc",
   "metadata": {},
   "source": [
    "### To keep the precion of machine predict, we choose the type with number over 1000 as examples"
   ]
  },
  {
   "cell_type": "code",
   "execution_count": 44,
   "id": "0e579a95",
   "metadata": {},
   "outputs": [
    {
     "data": {
      "text/html": [
       "<div>\n",
       "<style scoped>\n",
       "    .dataframe tbody tr th:only-of-type {\n",
       "        vertical-align: middle;\n",
       "    }\n",
       "\n",
       "    .dataframe tbody tr th {\n",
       "        vertical-align: top;\n",
       "    }\n",
       "\n",
       "    .dataframe thead th {\n",
       "        text-align: right;\n",
       "    }\n",
       "</style>\n",
       "<table border=\"1\" class=\"dataframe\">\n",
       "  <thead>\n",
       "    <tr style=\"text-align: right;\">\n",
       "      <th></th>\n",
       "      <th>is_black_derived</th>\n",
       "      <th>is_hisp_derived</th>\n",
       "      <th>is_white_derived</th>\n",
       "      <th>is_male_derived</th>\n",
       "      <th>senlength_derived</th>\n",
       "      <th>SENTENCE_TYPE</th>\n",
       "    </tr>\n",
       "  </thead>\n",
       "  <tbody>\n",
       "    <tr>\n",
       "      <th>0</th>\n",
       "      <td>1</td>\n",
       "      <td>0</td>\n",
       "      <td>0</td>\n",
       "      <td>1</td>\n",
       "      <td>62.0</td>\n",
       "      <td>Prison</td>\n",
       "    </tr>\n",
       "    <tr>\n",
       "      <th>1</th>\n",
       "      <td>1</td>\n",
       "      <td>0</td>\n",
       "      <td>0</td>\n",
       "      <td>1</td>\n",
       "      <td>70.0</td>\n",
       "      <td>Prison</td>\n",
       "    </tr>\n",
       "    <tr>\n",
       "      <th>2</th>\n",
       "      <td>0</td>\n",
       "      <td>1</td>\n",
       "      <td>0</td>\n",
       "      <td>1</td>\n",
       "      <td>3.0</td>\n",
       "      <td>Prison</td>\n",
       "    </tr>\n",
       "    <tr>\n",
       "      <th>3</th>\n",
       "      <td>1</td>\n",
       "      <td>0</td>\n",
       "      <td>0</td>\n",
       "      <td>0</td>\n",
       "      <td>2.0</td>\n",
       "      <td>Probation</td>\n",
       "    </tr>\n",
       "    <tr>\n",
       "      <th>4</th>\n",
       "      <td>0</td>\n",
       "      <td>0</td>\n",
       "      <td>1</td>\n",
       "      <td>1</td>\n",
       "      <td>2.0</td>\n",
       "      <td>Probation</td>\n",
       "    </tr>\n",
       "  </tbody>\n",
       "</table>\n",
       "</div>"
      ],
      "text/plain": [
       "   is_black_derived  is_hisp_derived  is_white_derived  is_male_derived  \\\n",
       "0                 1                0                 0                1   \n",
       "1                 1                0                 0                1   \n",
       "2                 0                1                 0                1   \n",
       "3                 1                0                 0                0   \n",
       "4                 0                0                 1                1   \n",
       "\n",
       "   senlength_derived SENTENCE_TYPE  \n",
       "0               62.0        Prison  \n",
       "1               70.0        Prison  \n",
       "2                3.0        Prison  \n",
       "3                2.0     Probation  \n",
       "4                2.0     Probation  "
      ]
     },
     "execution_count": 44,
     "metadata": {},
     "output_type": "execute_result"
    }
   ],
   "source": [
    "sentence_cleaned_fil = sentence_cleaned[sentence_cleaned.SENTENCE_TYPE.\\\n",
    "                                        isin(['Prison','Probation','Jail','Conditional Discharge','Supervision','2nd Chance Probation'])]\n",
    "sentence_cleaned_fil.head()"
   ]
  },
  {
   "cell_type": "markdown",
   "id": "975d5fe8",
   "metadata": {},
   "source": [
    "### Rename the category to the number"
   ]
  },
  {
   "cell_type": "code",
   "execution_count": 46,
   "id": "c923f2e7",
   "metadata": {},
   "outputs": [
    {
     "name": "stderr",
     "output_type": "stream",
     "text": [
      "/var/folders/39/p0rpjrxj68l4cbrkhyvw78fm0000gn/T/ipykernel_76237/2747757774.py:10: SettingWithCopyWarning: \n",
      "A value is trying to be set on a copy of a slice from a DataFrame.\n",
      "Try using .loc[row_indexer,col_indexer] = value instead\n",
      "\n",
      "See the caveats in the documentation: https://pandas.pydata.org/pandas-docs/stable/user_guide/indexing.html#returning-a-view-versus-a-copy\n"
     ]
    }
   ],
   "source": [
    "## To predict the category of sentence type, we only subset the first 6 categories and rename them from 5 to 0\n",
    "species_dict={\n",
    "    '2nd Chance Probation': 0,\n",
    "    'Supervision': 1,\n",
    "    'Conditional Discharge': 2,\n",
    "    'Jail': 3,\n",
    "    'Probation' : 4,\n",
    "    'Prison' :5\n",
    "}\n",
    "sentence_cleaned_fil['SENTENCE_TYPE_UPDATE'] = sentence_cleaned_fil.SENTENCE_TYPE.map(species_dict)"
   ]
  },
  {
   "cell_type": "code",
   "execution_count": 47,
   "id": "10029b3a",
   "metadata": {
    "scrolled": false
   },
   "outputs": [
    {
     "data": {
      "text/html": [
       "<div>\n",
       "<style scoped>\n",
       "    .dataframe tbody tr th:only-of-type {\n",
       "        vertical-align: middle;\n",
       "    }\n",
       "\n",
       "    .dataframe tbody tr th {\n",
       "        vertical-align: top;\n",
       "    }\n",
       "\n",
       "    .dataframe thead th {\n",
       "        text-align: right;\n",
       "    }\n",
       "</style>\n",
       "<table border=\"1\" class=\"dataframe\">\n",
       "  <thead>\n",
       "    <tr style=\"text-align: right;\">\n",
       "      <th></th>\n",
       "      <th>is_black_derived</th>\n",
       "      <th>is_hisp_derived</th>\n",
       "      <th>is_white_derived</th>\n",
       "      <th>is_male_derived</th>\n",
       "      <th>senlength_derived</th>\n",
       "      <th>SENTENCE_TYPE</th>\n",
       "      <th>SENTENCE_TYPE_UPDATE</th>\n",
       "    </tr>\n",
       "  </thead>\n",
       "  <tbody>\n",
       "    <tr>\n",
       "      <th>0</th>\n",
       "      <td>1</td>\n",
       "      <td>0</td>\n",
       "      <td>0</td>\n",
       "      <td>1</td>\n",
       "      <td>62.0</td>\n",
       "      <td>Prison</td>\n",
       "      <td>5</td>\n",
       "    </tr>\n",
       "    <tr>\n",
       "      <th>1</th>\n",
       "      <td>1</td>\n",
       "      <td>0</td>\n",
       "      <td>0</td>\n",
       "      <td>1</td>\n",
       "      <td>70.0</td>\n",
       "      <td>Prison</td>\n",
       "      <td>5</td>\n",
       "    </tr>\n",
       "    <tr>\n",
       "      <th>2</th>\n",
       "      <td>0</td>\n",
       "      <td>1</td>\n",
       "      <td>0</td>\n",
       "      <td>1</td>\n",
       "      <td>3.0</td>\n",
       "      <td>Prison</td>\n",
       "      <td>5</td>\n",
       "    </tr>\n",
       "    <tr>\n",
       "      <th>3</th>\n",
       "      <td>1</td>\n",
       "      <td>0</td>\n",
       "      <td>0</td>\n",
       "      <td>0</td>\n",
       "      <td>2.0</td>\n",
       "      <td>Probation</td>\n",
       "      <td>4</td>\n",
       "    </tr>\n",
       "    <tr>\n",
       "      <th>4</th>\n",
       "      <td>0</td>\n",
       "      <td>0</td>\n",
       "      <td>1</td>\n",
       "      <td>1</td>\n",
       "      <td>2.0</td>\n",
       "      <td>Probation</td>\n",
       "      <td>4</td>\n",
       "    </tr>\n",
       "  </tbody>\n",
       "</table>\n",
       "</div>"
      ],
      "text/plain": [
       "   is_black_derived  is_hisp_derived  is_white_derived  is_male_derived  \\\n",
       "0                 1                0                 0                1   \n",
       "1                 1                0                 0                1   \n",
       "2                 0                1                 0                1   \n",
       "3                 1                0                 0                0   \n",
       "4                 0                0                 1                1   \n",
       "\n",
       "   senlength_derived SENTENCE_TYPE  SENTENCE_TYPE_UPDATE  \n",
       "0               62.0        Prison                     5  \n",
       "1               70.0        Prison                     5  \n",
       "2                3.0        Prison                     5  \n",
       "3                2.0     Probation                     4  \n",
       "4                2.0     Probation                     4  "
      ]
     },
     "execution_count": 47,
     "metadata": {},
     "output_type": "execute_result"
    }
   ],
   "source": [
    "sentence_cleaned_fil.head()"
   ]
  },
  {
   "cell_type": "code",
   "execution_count": 65,
   "id": "65be57a4",
   "metadata": {},
   "outputs": [
    {
     "data": {
      "text/html": [
       "<div>\n",
       "<style scoped>\n",
       "    .dataframe tbody tr th:only-of-type {\n",
       "        vertical-align: middle;\n",
       "    }\n",
       "\n",
       "    .dataframe tbody tr th {\n",
       "        vertical-align: top;\n",
       "    }\n",
       "\n",
       "    .dataframe thead th {\n",
       "        text-align: right;\n",
       "    }\n",
       "</style>\n",
       "<table border=\"1\" class=\"dataframe\">\n",
       "  <thead>\n",
       "    <tr style=\"text-align: right;\">\n",
       "      <th></th>\n",
       "      <th>is_black_derived</th>\n",
       "      <th>is_hisp_derived</th>\n",
       "      <th>is_white_derived</th>\n",
       "      <th>is_male_derived</th>\n",
       "      <th>senlength_derived</th>\n",
       "      <th>SENTENCE_TYPE_UPDATE</th>\n",
       "    </tr>\n",
       "  </thead>\n",
       "  <tbody>\n",
       "    <tr>\n",
       "      <th>count</th>\n",
       "      <td>132905.000000</td>\n",
       "      <td>132905.000000</td>\n",
       "      <td>132905.000000</td>\n",
       "      <td>132905.000000</td>\n",
       "      <td>132905.000000</td>\n",
       "      <td>132905.000000</td>\n",
       "    </tr>\n",
       "    <tr>\n",
       "      <th>mean</th>\n",
       "      <td>0.653677</td>\n",
       "      <td>0.186314</td>\n",
       "      <td>0.152064</td>\n",
       "      <td>0.871307</td>\n",
       "      <td>2.858158</td>\n",
       "      <td>4.348301</td>\n",
       "    </tr>\n",
       "    <tr>\n",
       "      <th>std</th>\n",
       "      <td>0.475799</td>\n",
       "      <td>0.389361</td>\n",
       "      <td>0.359084</td>\n",
       "      <td>0.334862</td>\n",
       "      <td>4.251369</td>\n",
       "      <td>0.891497</td>\n",
       "    </tr>\n",
       "    <tr>\n",
       "      <th>min</th>\n",
       "      <td>0.000000</td>\n",
       "      <td>0.000000</td>\n",
       "      <td>0.000000</td>\n",
       "      <td>0.000000</td>\n",
       "      <td>0.000000</td>\n",
       "      <td>0.000000</td>\n",
       "    </tr>\n",
       "    <tr>\n",
       "      <th>25%</th>\n",
       "      <td>0.000000</td>\n",
       "      <td>0.000000</td>\n",
       "      <td>0.000000</td>\n",
       "      <td>1.000000</td>\n",
       "      <td>1.500000</td>\n",
       "      <td>4.000000</td>\n",
       "    </tr>\n",
       "    <tr>\n",
       "      <th>50%</th>\n",
       "      <td>1.000000</td>\n",
       "      <td>0.000000</td>\n",
       "      <td>0.000000</td>\n",
       "      <td>1.000000</td>\n",
       "      <td>2.000000</td>\n",
       "      <td>5.000000</td>\n",
       "    </tr>\n",
       "    <tr>\n",
       "      <th>75%</th>\n",
       "      <td>1.000000</td>\n",
       "      <td>0.000000</td>\n",
       "      <td>0.000000</td>\n",
       "      <td>1.000000</td>\n",
       "      <td>3.000000</td>\n",
       "      <td>5.000000</td>\n",
       "    </tr>\n",
       "    <tr>\n",
       "      <th>max</th>\n",
       "      <td>1.000000</td>\n",
       "      <td>1.000000</td>\n",
       "      <td>1.000000</td>\n",
       "      <td>1.000000</td>\n",
       "      <td>405.000000</td>\n",
       "      <td>5.000000</td>\n",
       "    </tr>\n",
       "  </tbody>\n",
       "</table>\n",
       "</div>"
      ],
      "text/plain": [
       "       is_black_derived  is_hisp_derived  is_white_derived  is_male_derived  \\\n",
       "count     132905.000000    132905.000000     132905.000000    132905.000000   \n",
       "mean           0.653677         0.186314          0.152064         0.871307   \n",
       "std            0.475799         0.389361          0.359084         0.334862   \n",
       "min            0.000000         0.000000          0.000000         0.000000   \n",
       "25%            0.000000         0.000000          0.000000         1.000000   \n",
       "50%            1.000000         0.000000          0.000000         1.000000   \n",
       "75%            1.000000         0.000000          0.000000         1.000000   \n",
       "max            1.000000         1.000000          1.000000         1.000000   \n",
       "\n",
       "       senlength_derived  SENTENCE_TYPE_UPDATE  \n",
       "count      132905.000000         132905.000000  \n",
       "mean            2.858158              4.348301  \n",
       "std             4.251369              0.891497  \n",
       "min             0.000000              0.000000  \n",
       "25%             1.500000              4.000000  \n",
       "50%             2.000000              5.000000  \n",
       "75%             3.000000              5.000000  \n",
       "max           405.000000              5.000000  "
      ]
     },
     "execution_count": 65,
     "metadata": {},
     "output_type": "execute_result"
    }
   ],
   "source": [
    "sentence_cleaned_fil.describe()"
   ]
  },
  {
   "cell_type": "markdown",
   "id": "0e6ab348",
   "metadata": {},
   "source": [
    "50.52步需要思考一下有没有必要 因为是我们给命名的分类变量，感觉不太需要求linear regression model"
   ]
  },
  {
   "cell_type": "code",
   "execution_count": 50,
   "id": "8a31ccaa",
   "metadata": {},
   "outputs": [],
   "source": [
    "from sklearn import linear_model\n",
    "lm=linear_model.LinearRegression()\n",
    "from sklearn.model_selection import cross_val_score"
   ]
  },
  {
   "cell_type": "code",
   "execution_count": 52,
   "id": "1eea56fc",
   "metadata": {},
   "outputs": [
    {
     "name": "stdout",
     "output_type": "stream",
     "text": [
      "3.593828980279709 [0.37819648 0.12400566 0.14131723 0.41093498 0.03660065]\n",
      "0.7470411331266474\n"
     ]
    }
   ],
   "source": [
    "## Linear Regression Model\n",
    "features=['is_black_derived','is_hisp_derived','is_white_derived','is_male_derived','senlength_derived']\n",
    "X = sentence_cleaned_fil[features]\n",
    "y = sentence_cleaned_fil['SENTENCE_TYPE_UPDATE']\n",
    "model = lm.fit(X,y)\n",
    "print(model.intercept_, model.coef_)\n",
    "scores = - cross_val_score(lm, X, y, cv=5, scoring='neg_mean_squared_error')\n",
    "print(np.mean(scores))"
   ]
  },
  {
   "cell_type": "markdown",
   "id": "57a48e8f",
   "metadata": {},
   "source": [
    "## Logistic Regression Model"
   ]
  },
  {
   "cell_type": "code",
   "execution_count": 59,
   "id": "d2bda189",
   "metadata": {},
   "outputs": [],
   "source": [
    "features=['is_black_derived','is_hisp_derived','is_white_derived','is_male_derived','senlength_derived']\n",
    "X = sentence_cleaned_fil[features]\n",
    "y = sentence_cleaned_fil['SENTENCE_TYPE_UPDATE']"
   ]
  },
  {
   "cell_type": "code",
   "execution_count": 60,
   "id": "0c426bc8",
   "metadata": {},
   "outputs": [
    {
     "name": "stderr",
     "output_type": "stream",
     "text": [
      "/Users/leowu/opt/anaconda3/lib/python3.9/site-packages/sklearn/linear_model/_logistic.py:814: ConvergenceWarning: lbfgs failed to converge (status=1):\n",
      "STOP: TOTAL NO. of ITERATIONS REACHED LIMIT.\n",
      "\n",
      "Increase the number of iterations (max_iter) or scale the data as shown in:\n",
      "    https://scikit-learn.org/stable/modules/preprocessing.html\n",
      "Please also refer to the documentation for alternative solver options:\n",
      "    https://scikit-learn.org/stable/modules/linear_model.html#logistic-regression\n",
      "/Users/leowu/opt/anaconda3/lib/python3.9/site-packages/sklearn/linear_model/_logistic.py:814: ConvergenceWarning: lbfgs failed to converge (status=1):\n",
      "STOP: TOTAL NO. of ITERATIONS REACHED LIMIT.\n",
      "\n",
      "Increase the number of iterations (max_iter) or scale the data as shown in:\n",
      "    https://scikit-learn.org/stable/modules/preprocessing.html\n",
      "Please also refer to the documentation for alternative solver options:\n",
      "    https://scikit-learn.org/stable/modules/linear_model.html#logistic-regression\n",
      "/Users/leowu/opt/anaconda3/lib/python3.9/site-packages/sklearn/linear_model/_logistic.py:814: ConvergenceWarning: lbfgs failed to converge (status=1):\n",
      "STOP: TOTAL NO. of ITERATIONS REACHED LIMIT.\n",
      "\n",
      "Increase the number of iterations (max_iter) or scale the data as shown in:\n",
      "    https://scikit-learn.org/stable/modules/preprocessing.html\n",
      "Please also refer to the documentation for alternative solver options:\n",
      "    https://scikit-learn.org/stable/modules/linear_model.html#logistic-regression\n",
      "/Users/leowu/opt/anaconda3/lib/python3.9/site-packages/sklearn/linear_model/_logistic.py:814: ConvergenceWarning: lbfgs failed to converge (status=1):\n",
      "STOP: TOTAL NO. of ITERATIONS REACHED LIMIT.\n",
      "\n",
      "Increase the number of iterations (max_iter) or scale the data as shown in:\n",
      "    https://scikit-learn.org/stable/modules/preprocessing.html\n",
      "Please also refer to the documentation for alternative solver options:\n",
      "    https://scikit-learn.org/stable/modules/linear_model.html#logistic-regression\n",
      "/Users/leowu/opt/anaconda3/lib/python3.9/site-packages/sklearn/linear_model/_logistic.py:814: ConvergenceWarning: lbfgs failed to converge (status=1):\n",
      "STOP: TOTAL NO. of ITERATIONS REACHED LIMIT.\n",
      "\n",
      "Increase the number of iterations (max_iter) or scale the data as shown in:\n",
      "    https://scikit-learn.org/stable/modules/preprocessing.html\n",
      "Please also refer to the documentation for alternative solver options:\n",
      "    https://scikit-learn.org/stable/modules/linear_model.html#logistic-regression\n"
     ]
    },
    {
     "name": "stdout",
     "output_type": "stream",
     "text": [
      "0.6130619615514841\n"
     ]
    },
    {
     "name": "stderr",
     "output_type": "stream",
     "text": [
      "/Users/leowu/opt/anaconda3/lib/python3.9/site-packages/sklearn/linear_model/_logistic.py:814: ConvergenceWarning: lbfgs failed to converge (status=1):\n",
      "STOP: TOTAL NO. of ITERATIONS REACHED LIMIT.\n",
      "\n",
      "Increase the number of iterations (max_iter) or scale the data as shown in:\n",
      "    https://scikit-learn.org/stable/modules/preprocessing.html\n",
      "Please also refer to the documentation for alternative solver options:\n",
      "    https://scikit-learn.org/stable/modules/linear_model.html#logistic-regression\n"
     ]
    }
   ],
   "source": [
    "## Logistic Regression Model\n",
    "model_log = linear_model.LogisticRegression()\n",
    "model_log.fit(X,y)\n",
    "#Assess the model\n",
    "scores = cross_val_score(model_log, X, y, cv=5, scoring='accuracy')    \n",
    "print(np.mean(scores))"
   ]
  },
  {
   "cell_type": "markdown",
   "id": "f35c5a70",
   "metadata": {},
   "source": [
    "## K Neighbors"
   ]
  },
  {
   "cell_type": "code",
   "execution_count": 56,
   "id": "81fdb301",
   "metadata": {},
   "outputs": [
    {
     "name": "stdout",
     "output_type": "stream",
     "text": [
      "0.6945336894774463\n"
     ]
    }
   ],
   "source": [
    "## K Neighbors\n",
    "from sklearn import neighbors\n",
    "knn = neighbors.KNeighborsClassifier(5, weights='uniform')\n",
    "knn.fit(X,y)\n",
    "scores = cross_val_score(knn, X, y, cv=5, scoring='accuracy') \n",
    "print(np.mean(scores))"
   ]
  },
  {
   "cell_type": "markdown",
   "id": "b54513d9",
   "metadata": {},
   "source": [
    "## Design Trees"
   ]
  },
  {
   "cell_type": "code",
   "execution_count": 61,
   "id": "7dae1873",
   "metadata": {},
   "outputs": [
    {
     "name": "stdout",
     "output_type": "stream",
     "text": [
      "0.7915578796884992\n"
     ]
    }
   ],
   "source": [
    "## Design Trees\n",
    "from sklearn import tree\n",
    "dt = tree.DecisionTreeClassifier()\n",
    "dt.fit(X,y)\n",
    "scores = cross_val_score(dt, X, y, cv=5, scoring='accuracy') \n",
    "print(np.mean(scores))"
   ]
  },
  {
   "cell_type": "markdown",
   "id": "21330a37",
   "metadata": {},
   "source": [
    "## Random Forest"
   ]
  },
  {
   "cell_type": "code",
   "execution_count": 63,
   "id": "b7a0ff52",
   "metadata": {},
   "outputs": [
    {
     "name": "stdout",
     "output_type": "stream",
     "text": [
      "0.7913848237462849\n"
     ]
    }
   ],
   "source": [
    "## Random Forest\n",
    "from sklearn import ensemble\n",
    "rf = ensemble.RandomForestClassifier()\n",
    "rf.fit(X,y)\n",
    "scores = cross_val_score(rf, X, y, cv=5, scoring='accuracy') \n",
    "print(np.mean(scores))"
   ]
  },
  {
   "cell_type": "code",
   "execution_count": null,
   "id": "b0f82ebe",
   "metadata": {},
   "outputs": [],
   "source": []
  },
  {
   "cell_type": "code",
   "execution_count": 66,
   "id": "d724db35",
   "metadata": {},
   "outputs": [
    {
     "data": {
      "text/html": [
       "<div>\n",
       "<style scoped>\n",
       "    .dataframe tbody tr th:only-of-type {\n",
       "        vertical-align: middle;\n",
       "    }\n",
       "\n",
       "    .dataframe tbody tr th {\n",
       "        vertical-align: top;\n",
       "    }\n",
       "\n",
       "    .dataframe thead th {\n",
       "        text-align: right;\n",
       "    }\n",
       "</style>\n",
       "<table border=\"1\" class=\"dataframe\">\n",
       "  <thead>\n",
       "    <tr style=\"text-align: right;\">\n",
       "      <th></th>\n",
       "      <th>is_black_derived</th>\n",
       "      <th>is_hisp_derived</th>\n",
       "      <th>is_white_derived</th>\n",
       "      <th>is_male_derived</th>\n",
       "      <th>senlength_derived</th>\n",
       "    </tr>\n",
       "  </thead>\n",
       "  <tbody>\n",
       "    <tr>\n",
       "      <th>is_black_derived</th>\n",
       "      <td>1.000000</td>\n",
       "      <td>-0.657408</td>\n",
       "      <td>-0.581798</td>\n",
       "      <td>0.007580</td>\n",
       "      <td>0.042055</td>\n",
       "    </tr>\n",
       "    <tr>\n",
       "      <th>is_hisp_derived</th>\n",
       "      <td>-0.657408</td>\n",
       "      <td>1.000000</td>\n",
       "      <td>-0.202640</td>\n",
       "      <td>0.061905</td>\n",
       "      <td>-0.018534</td>\n",
       "    </tr>\n",
       "    <tr>\n",
       "      <th>is_white_derived</th>\n",
       "      <td>-0.581798</td>\n",
       "      <td>-0.202640</td>\n",
       "      <td>1.000000</td>\n",
       "      <td>-0.074033</td>\n",
       "      <td>-0.033733</td>\n",
       "    </tr>\n",
       "    <tr>\n",
       "      <th>is_male_derived</th>\n",
       "      <td>0.007580</td>\n",
       "      <td>0.061905</td>\n",
       "      <td>-0.074033</td>\n",
       "      <td>1.000000</td>\n",
       "      <td>0.072162</td>\n",
       "    </tr>\n",
       "    <tr>\n",
       "      <th>senlength_derived</th>\n",
       "      <td>0.042055</td>\n",
       "      <td>-0.018534</td>\n",
       "      <td>-0.033733</td>\n",
       "      <td>0.072162</td>\n",
       "      <td>1.000000</td>\n",
       "    </tr>\n",
       "  </tbody>\n",
       "</table>\n",
       "</div>"
      ],
      "text/plain": [
       "                   is_black_derived  is_hisp_derived  is_white_derived  \\\n",
       "is_black_derived           1.000000        -0.657408         -0.581798   \n",
       "is_hisp_derived           -0.657408         1.000000         -0.202640   \n",
       "is_white_derived          -0.581798        -0.202640          1.000000   \n",
       "is_male_derived            0.007580         0.061905         -0.074033   \n",
       "senlength_derived          0.042055        -0.018534         -0.033733   \n",
       "\n",
       "                   is_male_derived  senlength_derived  \n",
       "is_black_derived          0.007580           0.042055  \n",
       "is_hisp_derived           0.061905          -0.018534  \n",
       "is_white_derived         -0.074033          -0.033733  \n",
       "is_male_derived           1.000000           0.072162  \n",
       "senlength_derived         0.072162           1.000000  "
      ]
     },
     "execution_count": 66,
     "metadata": {},
     "output_type": "execute_result"
    }
   ],
   "source": [
    "corr=sentence_cleaned_fil[['is_black_derived','is_hisp_derived','is_white_derived','is_male_derived','senlength_derived']].corr()\n",
    "corr"
   ]
  },
  {
   "cell_type": "code",
   "execution_count": 68,
   "id": "9f71b6de",
   "metadata": {},
   "outputs": [
    {
     "data": {
      "text/plain": [
       "<AxesSubplot:>"
      ]
     },
     "execution_count": 68,
     "metadata": {},
     "output_type": "execute_result"
    },
    {
     "data": {
      "image/png": "[encoded data removed]",
      "text/plain": [
       "<Figure size 432x288 with 2 Axes>"
      ]
     },
     "metadata": {
      "needs_background": "light"
     },
     "output_type": "display_data"
    }
   ],
   "source": [
    "import seaborn as sns\n",
    "sns.heatmap(corr, xticklabels=corr.columns,yticklabels=corr.columns)"
   ]
  },
  {
   "cell_type": "code",
   "execution_count": 75,
   "id": "a06161b5",
   "metadata": {},
   "outputs": [
    {
     "name": "stdout",
     "output_type": "stream",
     "text": [
      "LogisticRegression()\n",
      "0.64530115496031\n",
      "0.6390278770550393\n",
      "predict [5 5 4 ... 4 5 5]\n"
     ]
    },
    {
     "name": "stderr",
     "output_type": "stream",
     "text": [
      "/Users/leowu/opt/anaconda3/lib/python3.9/site-packages/sklearn/linear_model/_logistic.py:814: ConvergenceWarning: lbfgs failed to converge (status=1):\n",
      "STOP: TOTAL NO. of ITERATIONS REACHED LIMIT.\n",
      "\n",
      "Increase the number of iterations (max_iter) or scale the data as shown in:\n",
      "    https://scikit-learn.org/stable/modules/preprocessing.html\n",
      "Please also refer to the documentation for alternative solver options:\n",
      "    https://scikit-learn.org/stable/modules/linear_model.html#logistic-regression\n"
     ]
    },
    {
     "data": {
      "text/plain": [
       "0.6390278770550393"
      ]
     },
     "execution_count": 75,
     "metadata": {},
     "output_type": "execute_result"
    }
   ],
   "source": [
    "from sklearn.model_selection import train_test_split\n",
    "from sklearn.linear_model import LogisticRegression\n",
    "from sklearn.metrics import accuracy_score\n",
    "\n",
    "#Create character and target variables\n",
    "x= sentence_cleaned_fil.drop(['SENTENCE_TYPE','SENTENCE_TYPE_UPDATE'],axis=1)\n",
    "x= pd.get_dummies(x) #Create dummy variables\n",
    "y= sentence_cleaned_fil['SENTENCE_TYPE_UPDATE']\n",
    "\n",
    "x_train,x_test,y_train,y_test = train_test_split(x,y,test_size = 0.2,random_state = 10)#建立训练集和测试集\n",
    "\n",
    "#Train the model\n",
    "logit = LogisticRegression()\n",
    "print(logit.fit(x_train,y_train))\n",
    "print(logit.score(x_train,y_train))\n",
    "print(logit.score(x_test,y_test))\n",
    "\n",
    "#Predict\n",
    "predict=logit.predict(x_test)\n",
    "print('predict',predict)\n",
    "\n",
    "#Grade the accuracy\n",
    "Score = accuracy_score(y_test, predict)\n",
    "Score"
   ]
  },
  {
   "cell_type": "code",
   "execution_count": 81,
   "id": "62933f59",
   "metadata": {},
   "outputs": [
    {
     "name": "stdout",
     "output_type": "stream",
     "text": [
      "              precision    recall  f1-score   support\n",
      "\n",
      "           0       0.00      0.00      0.00       303\n",
      "           1       0.00      0.00      0.00       369\n",
      "           2       0.00      0.00      0.00       446\n",
      "           3       0.87      0.23      0.37      1104\n",
      "           4       0.59      0.55      0.57     10838\n",
      "           5       0.67      0.79      0.72     13521\n",
      "\n",
      "    accuracy                           0.64     26581\n",
      "   macro avg       0.35      0.26      0.28     26581\n",
      "weighted avg       0.62      0.64      0.62     26581\n",
      "\n"
     ]
    },
    {
     "name": "stderr",
     "output_type": "stream",
     "text": [
      "/Users/leowu/opt/anaconda3/lib/python3.9/site-packages/sklearn/metrics/_classification.py:1318: UndefinedMetricWarning: Precision and F-score are ill-defined and being set to 0.0 in labels with no predicted samples. Use `zero_division` parameter to control this behavior.\n",
      "/Users/leowu/opt/anaconda3/lib/python3.9/site-packages/sklearn/metrics/_classification.py:1318: UndefinedMetricWarning: Precision and F-score are ill-defined and being set to 0.0 in labels with no predicted samples. Use `zero_division` parameter to control this behavior.\n",
      "/Users/leowu/opt/anaconda3/lib/python3.9/site-packages/sklearn/metrics/_classification.py:1318: UndefinedMetricWarning: Precision and F-score are ill-defined and being set to 0.0 in labels with no predicted samples. Use `zero_division` parameter to control this behavior.\n"
     ]
    }
   ],
   "source": [
    "## Get f1-score indicator\n",
    "from sklearn.metrics import classification_report\n",
    "print(classification_report(y_test,predict))\n"
   ]
  },
  {
   "cell_type": "code",
   "execution_count": 82,
   "id": "64026116",
   "metadata": {},
   "outputs": [
    {
     "data": {
      "text/plain": [
       "array([[    0,     0,     0,     0,   198,   105],\n",
       "       [    0,     0,     0,     0,   262,   107],\n",
       "       [    0,     0,     0,     4,   318,   124],\n",
       "       [    0,     0,     0,   258,   628,   218],\n",
       "       [    0,     0,     0,    23,  5981,  4834],\n",
       "       [    0,     0,     0,    10,  2764, 10747]])"
      ]
     },
     "execution_count": 82,
     "metadata": {},
     "output_type": "execute_result"
    }
   ],
   "source": [
    "# Plot the matrix\n",
    "from sklearn.metrics import confusion_matrix\n",
    "cnf_matrix = confusion_matrix(y_test,predict)\n",
    "cnf_matrix\n"
   ]
  },
  {
   "cell_type": "code",
   "execution_count": 84,
   "id": "47cb47d4",
   "metadata": {},
   "outputs": [
    {
     "data": {
      "image/png": "[encoded data removed]",
      "text/plain": [
       "<Figure size 432x288 with 2 Axes>"
      ]
     },
     "metadata": {
      "needs_background": "light"
     },
     "output_type": "display_data"
    }
   ],
   "source": [
    "import matplotlib.pyplot as plt\n",
    "def plot_cnf_matirx(cnf_matrix,description):\n",
    "    class_names = [0,1]\n",
    "    fig,ax = plt.subplots()\n",
    "    tick_marks = np.arange(len(class_names))\n",
    "    plt.xticks(tick_marks,class_names)\n",
    "    plt.yticks(tick_marks,class_names)\n",
    "\n",
    "# Create a heat map\n",
    "    sns.heatmap(pd.DataFrame(cnf_matrix), annot = True, cmap = 'OrRd',\n",
    "               fmt = 'g')\n",
    "    ax.xaxis.set_label_position('top')\n",
    "    plt.tight_layout()\n",
    "    plt.title(description, y = 1.1,fontsize=16)\n",
    "    plt.ylabel('Actual Value 0/1',fontsize=12)\n",
    "    plt.xlabel('Predict Value 0/1',fontsize=12)\n",
    "    plt.show()\n",
    "    \n",
    "plot_cnf_matirx(cnf_matrix,'Confusion matrix -- Logistic Regression')\n"
   ]
  },
  {
   "cell_type": "code",
   "execution_count": 178,
   "id": "057041c0",
   "metadata": {},
   "outputs": [
    {
     "name": "stdout",
     "output_type": "stream",
     "text": [
      "[[-1.37833145 -1.98007192 -1.39407396 -0.51047575  2.41044964  2.85250344]\n",
      " [-0.77706417 -1.99651207 -1.37752025 -1.81020522  2.91486319  3.04643852]\n",
      " [-1.48407788 -1.3729347  -0.69181826 -1.0299016   2.52231546  2.05641698]\n",
      " ...\n",
      " [-1.3627408  -1.32183916 -1.03138391 -0.77683202  2.39525261  2.09754328]\n",
      " [-0.20697819 -3.32941775 -2.08634665 -2.57722215  3.44967081  4.75029392]\n",
      " [-1.96400808 -1.30539901 -1.04793761  0.52289745  1.89083906  1.9036082 ]]\n"
     ]
    }
   ],
   "source": [
    "decision_scores = logit.decision_function(x_test)\n",
    "print(decision_scores)\n",
    "from sklearn.metrics import precision_recall_curve"
   ]
  },
  {
   "cell_type": "code",
   "execution_count": null,
   "id": "568f8132",
   "metadata": {},
   "outputs": [],
   "source": [
    "precisions,recalls,thresholds = precision_recall_curve(y_test,decision_scores)\n",
    "\n",
    "plt.plot(thresholds,precisions[:-1])\n",
    "plt.plot(thresholds,recalls[:-1])\n",
    "plt.grid()\n",
    "plt.show()   "
   ]
  },
  {
   "cell_type": "code",
   "execution_count": null,
   "id": "7ae38d3a",
   "metadata": {},
   "outputs": [],
   "source": []
  },
  {
   "cell_type": "markdown",
   "id": "37489e80",
   "metadata": {},
   "source": [
    "# Predict the sentence length of people"
   ]
  },
  {
   "cell_type": "code",
   "execution_count": 365,
   "id": "85fdcc88",
   "metadata": {},
   "outputs": [
    {
     "name": "stderr",
     "output_type": "stream",
     "text": [
      "/var/folders/39/p0rpjrxj68l4cbrkhyvw78fm0000gn/T/ipykernel_76237/4183380707.py:3: SettingWithCopyWarning: \n",
      "A value is trying to be set on a copy of a slice from a DataFrame.\n",
      "Try using .loc[row_indexer,col_indexer] = value instead\n",
      "\n",
      "See the caveats in the documentation: https://pandas.pydata.org/pandas-docs/stable/user_guide/indexing.html#returning-a-view-versus-a-copy\n"
     ]
    },
    {
     "data": {
      "text/html": [
       "<div>\n",
       "<style scoped>\n",
       "    .dataframe tbody tr th:only-of-type {\n",
       "        vertical-align: middle;\n",
       "    }\n",
       "\n",
       "    .dataframe tbody tr th {\n",
       "        vertical-align: top;\n",
       "    }\n",
       "\n",
       "    .dataframe thead th {\n",
       "        text-align: right;\n",
       "    }\n",
       "</style>\n",
       "<table border=\"1\" class=\"dataframe\">\n",
       "  <thead>\n",
       "    <tr style=\"text-align: right;\">\n",
       "      <th></th>\n",
       "      <th>is_changed_offense</th>\n",
       "      <th>is_black_derived</th>\n",
       "      <th>is_hisp_derived</th>\n",
       "      <th>is_white_derived</th>\n",
       "      <th>is_male_derived</th>\n",
       "      <th>Incar</th>\n",
       "      <th>age_derived</th>\n",
       "      <th>sentenceym_derived</th>\n",
       "      <th>senlength_derived</th>\n",
       "    </tr>\n",
       "  </thead>\n",
       "  <tbody>\n",
       "    <tr>\n",
       "      <th>0</th>\n",
       "      <td>True</td>\n",
       "      <td>True</td>\n",
       "      <td>False</td>\n",
       "      <td>False</td>\n",
       "      <td>True</td>\n",
       "      <td>True</td>\n",
       "      <td>27.0</td>\n",
       "      <td>2014-10-01</td>\n",
       "      <td>62.0</td>\n",
       "    </tr>\n",
       "    <tr>\n",
       "      <th>1</th>\n",
       "      <td>True</td>\n",
       "      <td>True</td>\n",
       "      <td>False</td>\n",
       "      <td>False</td>\n",
       "      <td>True</td>\n",
       "      <td>True</td>\n",
       "      <td>30.0</td>\n",
       "      <td>2014-08-01</td>\n",
       "      <td>70.0</td>\n",
       "    </tr>\n",
       "    <tr>\n",
       "      <th>2</th>\n",
       "      <td>False</td>\n",
       "      <td>False</td>\n",
       "      <td>True</td>\n",
       "      <td>False</td>\n",
       "      <td>True</td>\n",
       "      <td>True</td>\n",
       "      <td>38.0</td>\n",
       "      <td>2013-12-01</td>\n",
       "      <td>3.0</td>\n",
       "    </tr>\n",
       "    <tr>\n",
       "      <th>3</th>\n",
       "      <td>True</td>\n",
       "      <td>True</td>\n",
       "      <td>False</td>\n",
       "      <td>False</td>\n",
       "      <td>False</td>\n",
       "      <td>False</td>\n",
       "      <td>33.0</td>\n",
       "      <td>2012-09-01</td>\n",
       "      <td>2.0</td>\n",
       "    </tr>\n",
       "    <tr>\n",
       "      <th>4</th>\n",
       "      <td>False</td>\n",
       "      <td>False</td>\n",
       "      <td>False</td>\n",
       "      <td>True</td>\n",
       "      <td>True</td>\n",
       "      <td>False</td>\n",
       "      <td>49.0</td>\n",
       "      <td>2014-09-01</td>\n",
       "      <td>2.0</td>\n",
       "    </tr>\n",
       "  </tbody>\n",
       "</table>\n",
       "</div>"
      ],
      "text/plain": [
       "   is_changed_offense  is_black_derived  is_hisp_derived  is_white_derived  \\\n",
       "0                True              True            False             False   \n",
       "1                True              True            False             False   \n",
       "2               False             False             True             False   \n",
       "3                True              True            False             False   \n",
       "4               False             False            False              True   \n",
       "\n",
       "   is_male_derived  Incar  age_derived sentenceym_derived  senlength_derived  \n",
       "0             True   True         27.0         2014-10-01               62.0  \n",
       "1             True   True         30.0         2014-08-01               70.0  \n",
       "2             True   True         38.0         2013-12-01                3.0  \n",
       "3            False  False         33.0         2012-09-01                2.0  \n",
       "4             True  False         49.0         2014-09-01                2.0  "
      ]
     },
     "execution_count": 365,
     "metadata": {},
     "output_type": "execute_result"
    }
   ],
   "source": [
    "sentencing_sent = sentencing_cleaned_upd[['is_changed_offense','is_black_derived','is_hisp_derived'\\\n",
    "                                         ,'is_white_derived','is_male_derived','Incar','age_derived','sentenceym_derived','senlength_derived']]\n",
    "sentencing_sent['age_derived']=sentencing_sent['age_derived'].fillna(sentencing_sent['age_derived'].mean() )\n",
    "sentencing_sent.head()"
   ]
  },
  {
   "cell_type": "code",
   "execution_count": 366,
   "id": "912070df",
   "metadata": {},
   "outputs": [
    {
     "name": "stderr",
     "output_type": "stream",
     "text": [
      "/var/folders/39/p0rpjrxj68l4cbrkhyvw78fm0000gn/T/ipykernel_76237/2810892458.py:3: SettingWithCopyWarning: \n",
      "A value is trying to be set on a copy of a slice from a DataFrame.\n",
      "Try using .loc[row_indexer,col_indexer] = value instead\n",
      "\n",
      "See the caveats in the documentation: https://pandas.pydata.org/pandas-docs/stable/user_guide/indexing.html#returning-a-view-versus-a-copy\n",
      "/var/folders/39/p0rpjrxj68l4cbrkhyvw78fm0000gn/T/ipykernel_76237/2810892458.py:4: SettingWithCopyWarning: \n",
      "A value is trying to be set on a copy of a slice from a DataFrame.\n",
      "Try using .loc[row_indexer,col_indexer] = value instead\n",
      "\n",
      "See the caveats in the documentation: https://pandas.pydata.org/pandas-docs/stable/user_guide/indexing.html#returning-a-view-versus-a-copy\n",
      "/var/folders/39/p0rpjrxj68l4cbrkhyvw78fm0000gn/T/ipykernel_76237/2810892458.py:5: SettingWithCopyWarning: \n",
      "A value is trying to be set on a copy of a slice from a DataFrame.\n",
      "Try using .loc[row_indexer,col_indexer] = value instead\n",
      "\n",
      "See the caveats in the documentation: https://pandas.pydata.org/pandas-docs/stable/user_guide/indexing.html#returning-a-view-versus-a-copy\n",
      "/var/folders/39/p0rpjrxj68l4cbrkhyvw78fm0000gn/T/ipykernel_76237/2810892458.py:6: SettingWithCopyWarning: \n",
      "A value is trying to be set on a copy of a slice from a DataFrame.\n",
      "Try using .loc[row_indexer,col_indexer] = value instead\n",
      "\n",
      "See the caveats in the documentation: https://pandas.pydata.org/pandas-docs/stable/user_guide/indexing.html#returning-a-view-versus-a-copy\n",
      "/var/folders/39/p0rpjrxj68l4cbrkhyvw78fm0000gn/T/ipykernel_76237/2810892458.py:7: SettingWithCopyWarning: \n",
      "A value is trying to be set on a copy of a slice from a DataFrame.\n",
      "Try using .loc[row_indexer,col_indexer] = value instead\n",
      "\n",
      "See the caveats in the documentation: https://pandas.pydata.org/pandas-docs/stable/user_guide/indexing.html#returning-a-view-versus-a-copy\n",
      "/var/folders/39/p0rpjrxj68l4cbrkhyvw78fm0000gn/T/ipykernel_76237/2810892458.py:8: SettingWithCopyWarning: \n",
      "A value is trying to be set on a copy of a slice from a DataFrame.\n",
      "Try using .loc[row_indexer,col_indexer] = value instead\n",
      "\n",
      "See the caveats in the documentation: https://pandas.pydata.org/pandas-docs/stable/user_guide/indexing.html#returning-a-view-versus-a-copy\n"
     ]
    }
   ],
   "source": [
    "le = LabelEncoder()\n",
    "le.fit(sentencing_sent['is_black_derived']) \n",
    "sentencing_sent['is_black_derived'] = le.transform(sentencing_sent['is_black_derived'])   \n",
    "sentencing_sent['is_white_derived'] = le.transform(sentencing_sent['is_white_derived'])\n",
    "sentencing_sent['is_hisp_derived'] = le.transform(sentencing_sent['is_hisp_derived'])\n",
    "sentencing_sent['is_male_derived'] = le.transform(sentencing_sent['is_male_derived'])\n",
    "sentencing_sent['is_changed_offense'] = le.transform(sentencing_sent['is_changed_offense'])\n",
    "sentencing_sent['Incar'] = le.transform(sentencing_sent['Incar'])"
   ]
  },
  {
   "cell_type": "code",
   "execution_count": 367,
   "id": "bbda4ec0",
   "metadata": {},
   "outputs": [
    {
     "data": {
      "text/html": [
       "<div>\n",
       "<style scoped>\n",
       "    .dataframe tbody tr th:only-of-type {\n",
       "        vertical-align: middle;\n",
       "    }\n",
       "\n",
       "    .dataframe tbody tr th {\n",
       "        vertical-align: top;\n",
       "    }\n",
       "\n",
       "    .dataframe thead th {\n",
       "        text-align: right;\n",
       "    }\n",
       "</style>\n",
       "<table border=\"1\" class=\"dataframe\">\n",
       "  <thead>\n",
       "    <tr style=\"text-align: right;\">\n",
       "      <th></th>\n",
       "      <th>is_changed_offense</th>\n",
       "      <th>is_black_derived</th>\n",
       "      <th>is_hisp_derived</th>\n",
       "      <th>is_white_derived</th>\n",
       "      <th>is_male_derived</th>\n",
       "      <th>Incar</th>\n",
       "      <th>age_derived</th>\n",
       "      <th>sentenceym_derived</th>\n",
       "      <th>senlength_derived</th>\n",
       "    </tr>\n",
       "  </thead>\n",
       "  <tbody>\n",
       "    <tr>\n",
       "      <th>0</th>\n",
       "      <td>1</td>\n",
       "      <td>1</td>\n",
       "      <td>0</td>\n",
       "      <td>0</td>\n",
       "      <td>1</td>\n",
       "      <td>1</td>\n",
       "      <td>27.0</td>\n",
       "      <td>2014-10-01</td>\n",
       "      <td>62.0</td>\n",
       "    </tr>\n",
       "    <tr>\n",
       "      <th>1</th>\n",
       "      <td>1</td>\n",
       "      <td>1</td>\n",
       "      <td>0</td>\n",
       "      <td>0</td>\n",
       "      <td>1</td>\n",
       "      <td>1</td>\n",
       "      <td>30.0</td>\n",
       "      <td>2014-08-01</td>\n",
       "      <td>70.0</td>\n",
       "    </tr>\n",
       "    <tr>\n",
       "      <th>2</th>\n",
       "      <td>0</td>\n",
       "      <td>0</td>\n",
       "      <td>1</td>\n",
       "      <td>0</td>\n",
       "      <td>1</td>\n",
       "      <td>1</td>\n",
       "      <td>38.0</td>\n",
       "      <td>2013-12-01</td>\n",
       "      <td>3.0</td>\n",
       "    </tr>\n",
       "    <tr>\n",
       "      <th>3</th>\n",
       "      <td>1</td>\n",
       "      <td>1</td>\n",
       "      <td>0</td>\n",
       "      <td>0</td>\n",
       "      <td>0</td>\n",
       "      <td>0</td>\n",
       "      <td>33.0</td>\n",
       "      <td>2012-09-01</td>\n",
       "      <td>2.0</td>\n",
       "    </tr>\n",
       "    <tr>\n",
       "      <th>4</th>\n",
       "      <td>0</td>\n",
       "      <td>0</td>\n",
       "      <td>0</td>\n",
       "      <td>1</td>\n",
       "      <td>1</td>\n",
       "      <td>0</td>\n",
       "      <td>49.0</td>\n",
       "      <td>2014-09-01</td>\n",
       "      <td>2.0</td>\n",
       "    </tr>\n",
       "  </tbody>\n",
       "</table>\n",
       "</div>"
      ],
      "text/plain": [
       "   is_changed_offense  is_black_derived  is_hisp_derived  is_white_derived  \\\n",
       "0                   1                 1                0                 0   \n",
       "1                   1                 1                0                 0   \n",
       "2                   0                 0                1                 0   \n",
       "3                   1                 1                0                 0   \n",
       "4                   0                 0                0                 1   \n",
       "\n",
       "   is_male_derived  Incar  age_derived sentenceym_derived  senlength_derived  \n",
       "0                1      1         27.0         2014-10-01               62.0  \n",
       "1                1      1         30.0         2014-08-01               70.0  \n",
       "2                1      1         38.0         2013-12-01                3.0  \n",
       "3                0      0         33.0         2012-09-01                2.0  \n",
       "4                1      0         49.0         2014-09-01                2.0  "
      ]
     },
     "execution_count": 367,
     "metadata": {},
     "output_type": "execute_result"
    }
   ],
   "source": [
    "sentencing_sent.head()"
   ]
  },
  {
   "cell_type": "code",
   "execution_count": 370,
   "id": "079414f8",
   "metadata": {},
   "outputs": [],
   "source": [
    "sentencing_sente = sentencing_sent.drop(['sentenceym_derived'],axis=1)"
   ]
  },
  {
   "cell_type": "code",
   "execution_count": 371,
   "id": "bbbed98c",
   "metadata": {},
   "outputs": [
    {
     "data": {
      "text/html": [
       "<div>\n",
       "<style scoped>\n",
       "    .dataframe tbody tr th:only-of-type {\n",
       "        vertical-align: middle;\n",
       "    }\n",
       "\n",
       "    .dataframe tbody tr th {\n",
       "        vertical-align: top;\n",
       "    }\n",
       "\n",
       "    .dataframe thead th {\n",
       "        text-align: right;\n",
       "    }\n",
       "</style>\n",
       "<table border=\"1\" class=\"dataframe\">\n",
       "  <thead>\n",
       "    <tr style=\"text-align: right;\">\n",
       "      <th></th>\n",
       "      <th>is_changed_offense</th>\n",
       "      <th>is_black_derived</th>\n",
       "      <th>is_hisp_derived</th>\n",
       "      <th>is_white_derived</th>\n",
       "      <th>is_male_derived</th>\n",
       "      <th>Incar</th>\n",
       "      <th>age_derived</th>\n",
       "      <th>senlength_derived</th>\n",
       "    </tr>\n",
       "  </thead>\n",
       "  <tbody>\n",
       "    <tr>\n",
       "      <th>count</th>\n",
       "      <td>133373.000000</td>\n",
       "      <td>133373.000000</td>\n",
       "      <td>133373.000000</td>\n",
       "      <td>133373.000000</td>\n",
       "      <td>133373.000000</td>\n",
       "      <td>133373.000000</td>\n",
       "      <td>133373.000000</td>\n",
       "      <td>133373.000000</td>\n",
       "    </tr>\n",
       "    <tr>\n",
       "      <th>mean</th>\n",
       "      <td>0.100763</td>\n",
       "      <td>0.653551</td>\n",
       "      <td>0.186282</td>\n",
       "      <td>0.152227</td>\n",
       "      <td>0.871308</td>\n",
       "      <td>0.511543</td>\n",
       "      <td>33.463300</td>\n",
       "      <td>2.859283</td>\n",
       "    </tr>\n",
       "    <tr>\n",
       "      <th>std</th>\n",
       "      <td>0.301015</td>\n",
       "      <td>0.475840</td>\n",
       "      <td>0.389336</td>\n",
       "      <td>0.359242</td>\n",
       "      <td>0.334860</td>\n",
       "      <td>0.499869</td>\n",
       "      <td>11.679296</td>\n",
       "      <td>4.286118</td>\n",
       "    </tr>\n",
       "    <tr>\n",
       "      <th>min</th>\n",
       "      <td>0.000000</td>\n",
       "      <td>0.000000</td>\n",
       "      <td>0.000000</td>\n",
       "      <td>0.000000</td>\n",
       "      <td>0.000000</td>\n",
       "      <td>0.000000</td>\n",
       "      <td>17.000000</td>\n",
       "      <td>0.000000</td>\n",
       "    </tr>\n",
       "    <tr>\n",
       "      <th>25%</th>\n",
       "      <td>0.000000</td>\n",
       "      <td>0.000000</td>\n",
       "      <td>0.000000</td>\n",
       "      <td>0.000000</td>\n",
       "      <td>1.000000</td>\n",
       "      <td>0.000000</td>\n",
       "      <td>24.000000</td>\n",
       "      <td>1.500000</td>\n",
       "    </tr>\n",
       "    <tr>\n",
       "      <th>50%</th>\n",
       "      <td>0.000000</td>\n",
       "      <td>1.000000</td>\n",
       "      <td>0.000000</td>\n",
       "      <td>0.000000</td>\n",
       "      <td>1.000000</td>\n",
       "      <td>1.000000</td>\n",
       "      <td>31.000000</td>\n",
       "      <td>2.000000</td>\n",
       "    </tr>\n",
       "    <tr>\n",
       "      <th>75%</th>\n",
       "      <td>0.000000</td>\n",
       "      <td>1.000000</td>\n",
       "      <td>0.000000</td>\n",
       "      <td>0.000000</td>\n",
       "      <td>1.000000</td>\n",
       "      <td>1.000000</td>\n",
       "      <td>41.000000</td>\n",
       "      <td>3.000000</td>\n",
       "    </tr>\n",
       "    <tr>\n",
       "      <th>max</th>\n",
       "      <td>1.000000</td>\n",
       "      <td>1.000000</td>\n",
       "      <td>1.000000</td>\n",
       "      <td>1.000000</td>\n",
       "      <td>1.000000</td>\n",
       "      <td>1.000000</td>\n",
       "      <td>81.000000</td>\n",
       "      <td>405.000000</td>\n",
       "    </tr>\n",
       "  </tbody>\n",
       "</table>\n",
       "</div>"
      ],
      "text/plain": [
       "       is_changed_offense  is_black_derived  is_hisp_derived  \\\n",
       "count       133373.000000     133373.000000    133373.000000   \n",
       "mean             0.100763          0.653551         0.186282   \n",
       "std              0.301015          0.475840         0.389336   \n",
       "min              0.000000          0.000000         0.000000   \n",
       "25%              0.000000          0.000000         0.000000   \n",
       "50%              0.000000          1.000000         0.000000   \n",
       "75%              0.000000          1.000000         0.000000   \n",
       "max              1.000000          1.000000         1.000000   \n",
       "\n",
       "       is_white_derived  is_male_derived          Incar    age_derived  \\\n",
       "count     133373.000000    133373.000000  133373.000000  133373.000000   \n",
       "mean           0.152227         0.871308       0.511543      33.463300   \n",
       "std            0.359242         0.334860       0.499869      11.679296   \n",
       "min            0.000000         0.000000       0.000000      17.000000   \n",
       "25%            0.000000         1.000000       0.000000      24.000000   \n",
       "50%            0.000000         1.000000       1.000000      31.000000   \n",
       "75%            0.000000         1.000000       1.000000      41.000000   \n",
       "max            1.000000         1.000000       1.000000      81.000000   \n",
       "\n",
       "       senlength_derived  \n",
       "count      133373.000000  \n",
       "mean            2.859283  \n",
       "std             4.286118  \n",
       "min             0.000000  \n",
       "25%             1.500000  \n",
       "50%             2.000000  \n",
       "75%             3.000000  \n",
       "max           405.000000  "
      ]
     },
     "execution_count": 371,
     "metadata": {},
     "output_type": "execute_result"
    }
   ],
   "source": [
    "## Describe the data\n",
    "sentencing_sente.describe(include='all')"
   ]
  },
  {
   "cell_type": "code",
   "execution_count": 373,
   "id": "e1d052b7",
   "metadata": {},
   "outputs": [
    {
     "data": {
      "text/html": [
       "<div>\n",
       "<style scoped>\n",
       "    .dataframe tbody tr th:only-of-type {\n",
       "        vertical-align: middle;\n",
       "    }\n",
       "\n",
       "    .dataframe tbody tr th {\n",
       "        vertical-align: top;\n",
       "    }\n",
       "\n",
       "    .dataframe thead th {\n",
       "        text-align: right;\n",
       "    }\n",
       "</style>\n",
       "<table border=\"1\" class=\"dataframe\">\n",
       "  <thead>\n",
       "    <tr style=\"text-align: right;\">\n",
       "      <th></th>\n",
       "      <th>is_changed_offense</th>\n",
       "      <th>is_black_derived</th>\n",
       "      <th>is_hisp_derived</th>\n",
       "      <th>is_white_derived</th>\n",
       "      <th>is_male_derived</th>\n",
       "      <th>Incar</th>\n",
       "      <th>age_derived</th>\n",
       "      <th>senlength_derived</th>\n",
       "    </tr>\n",
       "  </thead>\n",
       "  <tbody>\n",
       "    <tr>\n",
       "      <th>is_changed_offense</th>\n",
       "      <td>1.000000</td>\n",
       "      <td>-0.052664</td>\n",
       "      <td>0.053264</td>\n",
       "      <td>0.009792</td>\n",
       "      <td>-0.004055</td>\n",
       "      <td>0.000966</td>\n",
       "      <td>-0.007853</td>\n",
       "      <td>0.084164</td>\n",
       "    </tr>\n",
       "    <tr>\n",
       "      <th>is_black_derived</th>\n",
       "      <td>-0.052664</td>\n",
       "      <td>1.000000</td>\n",
       "      <td>-0.657156</td>\n",
       "      <td>-0.582004</td>\n",
       "      <td>0.007554</td>\n",
       "      <td>0.183582</td>\n",
       "      <td>-0.014539</td>\n",
       "      <td>0.041649</td>\n",
       "    </tr>\n",
       "    <tr>\n",
       "      <th>is_hisp_derived</th>\n",
       "      <td>0.053264</td>\n",
       "      <td>-0.657156</td>\n",
       "      <td>1.000000</td>\n",
       "      <td>-0.202747</td>\n",
       "      <td>0.061959</td>\n",
       "      <td>-0.119712</td>\n",
       "      <td>-0.042132</td>\n",
       "      <td>-0.018568</td>\n",
       "    </tr>\n",
       "    <tr>\n",
       "      <th>is_white_derived</th>\n",
       "      <td>0.009792</td>\n",
       "      <td>-0.582004</td>\n",
       "      <td>-0.202747</td>\n",
       "      <td>1.000000</td>\n",
       "      <td>-0.073994</td>\n",
       "      <td>-0.104795</td>\n",
       "      <td>0.062578</td>\n",
       "      <td>-0.033147</td>\n",
       "    </tr>\n",
       "    <tr>\n",
       "      <th>is_male_derived</th>\n",
       "      <td>-0.004055</td>\n",
       "      <td>0.007554</td>\n",
       "      <td>0.061959</td>\n",
       "      <td>-0.073994</td>\n",
       "      <td>1.000000</td>\n",
       "      <td>0.186705</td>\n",
       "      <td>-0.031590</td>\n",
       "      <td>0.071601</td>\n",
       "    </tr>\n",
       "    <tr>\n",
       "      <th>Incar</th>\n",
       "      <td>0.000966</td>\n",
       "      <td>0.183582</td>\n",
       "      <td>-0.119712</td>\n",
       "      <td>-0.104795</td>\n",
       "      <td>0.186705</td>\n",
       "      <td>1.000000</td>\n",
       "      <td>0.042767</td>\n",
       "      <td>0.237714</td>\n",
       "    </tr>\n",
       "    <tr>\n",
       "      <th>age_derived</th>\n",
       "      <td>-0.007853</td>\n",
       "      <td>-0.014539</td>\n",
       "      <td>-0.042132</td>\n",
       "      <td>0.062578</td>\n",
       "      <td>-0.031590</td>\n",
       "      <td>0.042767</td>\n",
       "      <td>1.000000</td>\n",
       "      <td>-0.033063</td>\n",
       "    </tr>\n",
       "    <tr>\n",
       "      <th>senlength_derived</th>\n",
       "      <td>0.084164</td>\n",
       "      <td>0.041649</td>\n",
       "      <td>-0.018568</td>\n",
       "      <td>-0.033147</td>\n",
       "      <td>0.071601</td>\n",
       "      <td>0.237714</td>\n",
       "      <td>-0.033063</td>\n",
       "      <td>1.000000</td>\n",
       "    </tr>\n",
       "  </tbody>\n",
       "</table>\n",
       "</div>"
      ],
      "text/plain": [
       "                    is_changed_offense  is_black_derived  is_hisp_derived  \\\n",
       "is_changed_offense            1.000000         -0.052664         0.053264   \n",
       "is_black_derived             -0.052664          1.000000        -0.657156   \n",
       "is_hisp_derived               0.053264         -0.657156         1.000000   \n",
       "is_white_derived              0.009792         -0.582004        -0.202747   \n",
       "is_male_derived              -0.004055          0.007554         0.061959   \n",
       "Incar                         0.000966          0.183582        -0.119712   \n",
       "age_derived                  -0.007853         -0.014539        -0.042132   \n",
       "senlength_derived             0.084164          0.041649        -0.018568   \n",
       "\n",
       "                    is_white_derived  is_male_derived     Incar  age_derived  \\\n",
       "is_changed_offense          0.009792        -0.004055  0.000966    -0.007853   \n",
       "is_black_derived           -0.582004         0.007554  0.183582    -0.014539   \n",
       "is_hisp_derived            -0.202747         0.061959 -0.119712    -0.042132   \n",
       "is_white_derived            1.000000        -0.073994 -0.104795     0.062578   \n",
       "is_male_derived            -0.073994         1.000000  0.186705    -0.031590   \n",
       "Incar                      -0.104795         0.186705  1.000000     0.042767   \n",
       "age_derived                 0.062578        -0.031590  0.042767     1.000000   \n",
       "senlength_derived          -0.033147         0.071601  0.237714    -0.033063   \n",
       "\n",
       "                    senlength_derived  \n",
       "is_changed_offense           0.084164  \n",
       "is_black_derived             0.041649  \n",
       "is_hisp_derived             -0.018568  \n",
       "is_white_derived            -0.033147  \n",
       "is_male_derived              0.071601  \n",
       "Incar                        0.237714  \n",
       "age_derived                 -0.033063  \n",
       "senlength_derived            1.000000  "
      ]
     },
     "execution_count": 373,
     "metadata": {},
     "output_type": "execute_result"
    }
   ],
   "source": [
    "corrDf = sentencing_sente.corr() \n",
    "corrDf"
   ]
  },
  {
   "cell_type": "code",
   "execution_count": 295,
   "id": "af17f573",
   "metadata": {},
   "outputs": [
    {
     "data": {
      "text/plain": [
       "<AxesSubplot:>"
      ]
     },
     "execution_count": 295,
     "metadata": {},
     "output_type": "execute_result"
    },
    {
     "data": {
      "image/png": "[encoded data removed]",
      "text/plain": [
       "<Figure size 864x864 with 2 Axes>"
      ]
     },
     "metadata": {},
     "output_type": "display_data"
    }
   ],
   "source": [
    "import seaborn as sns\n",
    "\n",
    "fig=plt.figure(figsize=(12,12))\n",
    "sns.heatmap(sentencing_sent.corr(),vmax=1,square=True,annot=True)"
   ]
  },
  {
   "cell_type": "markdown",
   "id": "bd84a61e",
   "metadata": {},
   "source": [
    "## Features and Labels and Convert Data to Arrays"
   ]
  },
  {
   "cell_type": "code",
   "execution_count": 313,
   "id": "a00db49f",
   "metadata": {},
   "outputs": [],
   "source": [
    "# Labels are the values we want to predict\n",
    "labels = np.array(sentencing_sente['senlength_derived'])\n",
    "\n",
    "# Remove the labels from the features\n",
    "# axis 1 refers to the columns\n",
    "features= sentencing_sente.drop('senlength_derived', axis = 1)\n",
    "\n",
    "# Saving feature names for later use\n",
    "feature_list = list(features.columns)\n",
    "\n",
    "# Convert to numpy array\n",
    "features = np.array(features)"
   ]
  },
  {
   "cell_type": "markdown",
   "id": "06e32de4",
   "metadata": {},
   "source": [
    "## Training and Testing Sets"
   ]
  },
  {
   "cell_type": "code",
   "execution_count": 314,
   "id": "2c4ec68c",
   "metadata": {},
   "outputs": [],
   "source": [
    "# Using Skicit-learn to split data into training and testing sets\n",
    "from sklearn.model_selection import train_test_split\n",
    "\n",
    "# Split the data into training and testing sets\n",
    "train_features, test_features, train_labels, test_labels = train_test_split(features, labels, test_size = 0.25,\n",
    "                                                                           random_state = 42)"
   ]
  },
  {
   "cell_type": "code",
   "execution_count": 316,
   "id": "e28e0d3b",
   "metadata": {},
   "outputs": [
    {
     "name": "stdout",
     "output_type": "stream",
     "text": [
      "Training Features Shape: (100029, 7)\n",
      "Training Labels Shape: (100029,)\n",
      "Testing Features Shape: (33344, 7)\n",
      "Testing Labels Shape: (33344,)\n"
     ]
    }
   ],
   "source": [
    "print('Training Features Shape:', train_features.shape)\n",
    "print('Training Labels Shape:', train_labels.shape)\n",
    "print('Testing Features Shape:', test_features.shape)\n",
    "print('Testing Labels Shape:', test_labels.shape)"
   ]
  },
  {
   "cell_type": "markdown",
   "id": "6d7f0fea",
   "metadata": {},
   "source": [
    "## Train Model"
   ]
  },
  {
   "cell_type": "code",
   "execution_count": 318,
   "id": "ceed2725",
   "metadata": {},
   "outputs": [],
   "source": [
    "# Import the model we are using\n",
    "from sklearn.ensemble import RandomForestRegressor\n",
    "\n",
    "# Instantiate model \n",
    "rf = RandomForestRegressor(n_estimators= 1000, random_state=42)\n",
    "\n",
    "# Train the model on training data\n",
    "rf.fit(train_features, train_labels);"
   ]
  },
  {
   "cell_type": "markdown",
   "id": "d4061585",
   "metadata": {},
   "source": [
    "## Make Predictions on Test Data"
   ]
  },
  {
   "cell_type": "code",
   "execution_count": 319,
   "id": "edee777b",
   "metadata": {},
   "outputs": [
    {
     "name": "stdout",
     "output_type": "stream",
     "text": [
      "Mean Absolute Error: 1.64 degrees.\n"
     ]
    }
   ],
   "source": [
    "# Use the forest's predict method on the test data\n",
    "predictions = rf.predict(test_features)\n",
    "\n",
    "# Calculate the absolute errors\n",
    "errors = abs(predictions - test_labels)\n",
    "\n",
    "# Print out the mean absolute error (mae)\n",
    "print('Mean Absolute Error:', round(np.mean(errors), 2), 'degrees.')"
   ]
  },
  {
   "cell_type": "markdown",
   "id": "e4490512",
   "metadata": {},
   "source": [
    "## Determine Performance Metrics"
   ]
  },
  {
   "cell_type": "code",
   "execution_count": 339,
   "id": "57e85888",
   "metadata": {},
   "outputs": [
    {
     "name": "stdout",
     "output_type": "stream",
     "text": [
      "Accuracy: -inf %.\n"
     ]
    },
    {
     "name": "stderr",
     "output_type": "stream",
     "text": [
      "/var/folders/39/p0rpjrxj68l4cbrkhyvw78fm0000gn/T/ipykernel_76237/3952369233.py:2: RuntimeWarning: divide by zero encountered in true_divide\n"
     ]
    }
   ],
   "source": [
    "# Calculate mean absolute percentage error (MAPE)\n",
    "mape = 100 * (errors / test_labels)\n",
    "\n",
    "# Calculate and display accuracy\n",
    "accuracy = 100 - np.mean(mape)\n",
    "print('Accuracy:', round(accuracy, 2), '%.')"
   ]
  },
  {
   "cell_type": "markdown",
   "id": "b2b37ade",
   "metadata": {},
   "source": [
    "## Improve the model"
   ]
  },
  {
   "cell_type": "code",
   "execution_count": 340,
   "id": "327b36d2",
   "metadata": {},
   "outputs": [],
   "source": [
    "rf_new = RandomForestRegressor(n_estimators = 100, criterion = 'mse', max_depth = None, \n",
    "                               min_samples_split = 2, min_samples_leaf = 1)"
   ]
  },
  {
   "cell_type": "markdown",
   "id": "95d9b3b3",
   "metadata": {},
   "source": [
    "## Interpret Model Results\n",
    "### Visualizing a Single Decision Tree"
   ]
  },
  {
   "cell_type": "code",
   "execution_count": 344,
   "id": "a0ca3987",
   "metadata": {},
   "outputs": [
    {
     "name": "stdout",
     "output_type": "stream",
     "text": [
      "Requirement already satisfied: pydot in /Users/leowu/opt/anaconda3/lib/python3.9/site-packages (1.4.2)\r\n",
      "Requirement already satisfied: pyparsing>=2.1.4 in /Users/leowu/opt/anaconda3/lib/python3.9/site-packages (from pydot) (3.0.4)\r\n"
     ]
    }
   ],
   "source": [
    "# Import tools needed for visualization\n",
    "from sklearn.tree import export_graphviz\n",
    "!pip install pydot\n",
    "import pydot\n",
    "\n",
    "# Pull out one tree from the forest\n",
    "tree = rf.estimators_[5]\n",
    "\n",
    "# Export the image to a dot file\n",
    "export_graphviz(tree, out_file = 'tree.dot', feature_names = feature_list, rounded = True, precision = 1)\n",
    "\n"
   ]
  },
  {
   "cell_type": "code",
   "execution_count": 348,
   "id": "3bf1e355",
   "metadata": {},
   "outputs": [
    {
     "name": "stdout",
     "output_type": "stream",
     "text": [
      "/Users/leowu/Desktop/Study_Materials/Data_Science1/Final-Project-Group5/tree.dot\n"
     ]
    }
   ],
   "source": [
    "import os\n",
    "print (os.path.abspath('tree.dot'))\n"
   ]
  },
  {
   "cell_type": "code",
   "execution_count": 350,
   "id": "1a4e88f3",
   "metadata": {},
   "outputs": [],
   "source": [
    "# Use dot file to create a graph\n",
    "(graph, ) = pydot.graph_from_dot_file('/Users/leowu/Desktop/tree.dot')"
   ]
  },
  {
   "cell_type": "code",
   "execution_count": 354,
   "id": "b8aa667b",
   "metadata": {},
   "outputs": [
    {
     "name": "stdout",
     "output_type": "stream",
     "text": [
      "The depth of this tree is: 21\n"
     ]
    }
   ],
   "source": [
    "print('The depth of this tree is:', tree.tree_.max_depth)"
   ]
  },
  {
   "cell_type": "code",
   "execution_count": 359,
   "id": "3587a218",
   "metadata": {},
   "outputs": [
    {
     "name": "stdout",
     "output_type": "stream",
     "text": [
      "Requirement already satisfied: graphviz in /Users/leowu/opt/anaconda3/lib/python3.9/site-packages (0.20.1)\r\n"
     ]
    }
   ],
   "source": [
    "!pip install graphviz"
   ]
  },
  {
   "cell_type": "markdown",
   "id": "0d274d5e",
   "metadata": {},
   "source": [
    "## Variable Importances"
   ]
  },
  {
   "cell_type": "code",
   "execution_count": 361,
   "id": "3f3375c2",
   "metadata": {},
   "outputs": [
    {
     "name": "stdout",
     "output_type": "stream",
     "text": [
      "Variable: Incar                Importance: 0.58\n",
      "Variable: age_derived          Importance: 0.19\n",
      "Variable: is_changed_offense   Importance: 0.12\n",
      "Variable: is_male_derived      Importance: 0.04\n",
      "Variable: is_black_derived     Importance: 0.02\n",
      "Variable: is_hisp_derived      Importance: 0.02\n",
      "Variable: is_white_derived     Importance: 0.02\n"
     ]
    }
   ],
   "source": [
    "# Get numerical feature importances\n",
    "importances = list(rf.feature_importances_)\n",
    "\n",
    "# List of tuples with variable and importance\n",
    "feature_importances = [(feature, round(importance, 2)) for feature, importance in zip(feature_list, importances)]\n",
    "\n",
    "# Sort the feature importances by most important first\n",
    "feature_importances = sorted(feature_importances, key = lambda x: x[1], reverse = True)\n",
    "\n",
    "# Print out the feature and importances \n",
    "[print('Variable: {:20} Importance: {}'.format(*pair)) for pair in feature_importances];"
   ]
  },
  {
   "cell_type": "markdown",
   "id": "db64339d",
   "metadata": {},
   "source": [
    "## Model with Two Most Important Features"
   ]
  },
  {
   "cell_type": "code",
   "execution_count": 363,
   "id": "ec0a0c95",
   "metadata": {},
   "outputs": [
    {
     "name": "stdout",
     "output_type": "stream",
     "text": [
      "Mean Absolute Error: 1.63 degrees.\n",
      "Accuracy: -inf %.\n"
     ]
    },
    {
     "name": "stderr",
     "output_type": "stream",
     "text": [
      "/var/folders/39/p0rpjrxj68l4cbrkhyvw78fm0000gn/T/ipykernel_76237/3181406501.py:20: RuntimeWarning: divide by zero encountered in true_divide\n"
     ]
    }
   ],
   "source": [
    "# New random forest with only the two most important variables\n",
    "rf_most_important = RandomForestRegressor(n_estimators= 1000, random_state=42)\n",
    "\n",
    "# Extract the two most important features\n",
    "important_indices = [feature_list.index('Incar'), feature_list.index('age_derived')]\n",
    "train_important = train_features[:, important_indices]\n",
    "test_important = test_features[:, important_indices]\n",
    "\n",
    "# Train the random forest\n",
    "rf_most_important.fit(train_important, train_labels)\n",
    "\n",
    "# Make predictions and determine the error\n",
    "predictions = rf_most_important.predict(test_important)\n",
    "\n",
    "errors = abs(predictions - test_labels)\n",
    "\n",
    "# Display the performance metrics\n",
    "print('Mean Absolute Error:', round(np.mean(errors), 2), 'degrees.')\n",
    "\n",
    "mape = np.mean(100 * (errors / test_labels))\n",
    "accuracy = 100 - mape\n",
    "\n",
    "print('Accuracy:', round(accuracy, 2), '%.')"
   ]
  },
  {
   "cell_type": "markdown",
   "id": "05062ca0",
   "metadata": {},
   "source": [
    "## Visualizations\n",
    "### Variable Importances"
   ]
  },
  {
   "cell_type": "code",
   "execution_count": 364,
   "id": "3a79183b",
   "metadata": {},
   "outputs": [
    {
     "data": {
      "image/png": "[encoded data removed]",
      "text/plain": [
       "<Figure size 432x288 with 1 Axes>"
      ]
     },
     "metadata": {},
     "output_type": "display_data"
    }
   ],
   "source": [
    "# list of x locations for plotting\n",
    "x_values = list(range(len(importances)))\n",
    "\n",
    "# Make a bar chart\n",
    "plt.bar(x_values, importances, orientation = 'vertical')\n",
    "\n",
    "# Tick labels for x axis\n",
    "plt.xticks(x_values, feature_list, rotation='vertical')\n",
    "\n",
    "# Axis labels and title\n",
    "plt.ylabel('Importance'); plt.xlabel('Variable'); plt.title('Variable Importances'); "
   ]
  },
  {
   "cell_type": "code",
   "execution_count": null,
   "id": "b4a04679",
   "metadata": {},
   "outputs": [],
   "source": []
  }
 ],
 "metadata": {
  "kernelspec": {
   "display_name": "Python 3 (ipykernel)",
   "language": "python",
   "name": "python3"
  },
  "language_info": {
   "codemirror_mode": {
    "name": "ipython",
    "version": 3
   },
   "file_extension": ".py",
   "mimetype": "text/x-python",
   "name": "python",
   "nbconvert_exporter": "python",
   "pygments_lexer": "ipython3",
   "version": "3.9.15"
  }
 },
 "nbformat": 4,
 "nbformat_minor": 5
}
