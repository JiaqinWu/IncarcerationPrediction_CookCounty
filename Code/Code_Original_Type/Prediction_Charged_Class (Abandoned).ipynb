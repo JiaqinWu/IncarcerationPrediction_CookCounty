{
 "cells": [
  {
   "cell_type": "markdown",
   "id": "139b921f",
   "metadata": {},
   "source": [
    "# Predict the DISPOSITION_CHARGED_CLASS of defendants"
   ]
  },
  {
   "cell_type": "code",
   "execution_count": 1,
   "id": "d17d1f36",
   "metadata": {},
   "outputs": [
    {
     "name": "stdout",
     "output_type": "stream",
     "text": [
      "Requirement already satisfied: gender_guesser in /Users/leowu/opt/anaconda3/lib/python3.9/site-packages (0.4.0)\n",
      "Requirement already satisfied: xlrd in /Users/leowu/opt/anaconda3/lib/python3.9/site-packages (2.0.1)\n",
      "Requirement already satisfied: openpyxl in /Users/leowu/opt/anaconda3/lib/python3.9/site-packages (3.0.10)\n",
      "Requirement already satisfied: et_xmlfile in /Users/leowu/opt/anaconda3/lib/python3.9/site-packages (from openpyxl) (1.1.0)\n"
     ]
    }
   ],
   "source": [
    "# Import basic functionality\n",
    "import pandas as pd\n",
    "import numpy as np\n",
    "!pip install gender_guesser\n",
    "!pip install xlrd\n",
    "!pip install openpyxl\n",
    "import gender_guesser.detector as gender\n",
    "import re"
   ]
  },
  {
   "cell_type": "code",
   "execution_count": 2,
   "id": "6a00d0c2",
   "metadata": {},
   "outputs": [
    {
     "name": "stderr",
     "output_type": "stream",
     "text": [
      "/var/folders/39/p0rpjrxj68l4cbrkhyvw78fm0000gn/T/ipykernel_20213/2811122065.py:2: DtypeWarning: Columns (10,11,14,25) have mixed types. Specify dtype option on import or set low_memory=False.\n",
      "  df = pd.read_csv(\"/Users/leowu/Desktop/Study_Materials/Data_Science1/pset2_inputdata/sentencing_asof0405.csv\")\n"
     ]
    }
   ],
   "source": [
    "# Read the data\n",
    "df = pd.read_csv(\"/Users/leowu/Desktop/Study_Materials/Data_Science1/pset2_inputdata/sentencing_asof0405.csv\")\n",
    "police_stations = pd.read_csv('/Users/leowu/Desktop/Final-Project-Group5/Dataset/Police_Stations.csv')\n",
    "# Clean the df, subset the PRIMARY_CHARGE_FLAG == True\n",
    "df1 = df[df.PRIMARY_CHARGE_FLAG == True]"
   ]
  },
  {
   "cell_type": "code",
   "execution_count": 3,
   "id": "fe56ddca",
   "metadata": {},
   "outputs": [
    {
     "name": "stdout",
     "output_type": "stream",
     "text": [
      "(180625, 41)\n"
     ]
    },
    {
     "data": {
      "text/html": [
       "<div>\n",
       "<style scoped>\n",
       "    .dataframe tbody tr th:only-of-type {\n",
       "        vertical-align: middle;\n",
       "    }\n",
       "\n",
       "    .dataframe tbody tr th {\n",
       "        vertical-align: top;\n",
       "    }\n",
       "\n",
       "    .dataframe thead th {\n",
       "        text-align: right;\n",
       "    }\n",
       "</style>\n",
       "<table border=\"1\" class=\"dataframe\">\n",
       "  <thead>\n",
       "    <tr style=\"text-align: right;\">\n",
       "      <th></th>\n",
       "      <th>CASE_ID</th>\n",
       "      <th>CASE_PARTICIPANT_ID</th>\n",
       "      <th>RECEIVED_DATE</th>\n",
       "      <th>OFFENSE_CATEGORY</th>\n",
       "      <th>PRIMARY_CHARGE_FLAG</th>\n",
       "      <th>CHARGE_ID</th>\n",
       "      <th>CHARGE_VERSION_ID</th>\n",
       "      <th>DISPOSITION_CHARGED_OFFENSE_TITLE</th>\n",
       "      <th>CHARGE_COUNT</th>\n",
       "      <th>DISPOSITION_DATE</th>\n",
       "      <th>...</th>\n",
       "      <th>INCIDENT_CITY</th>\n",
       "      <th>INCIDENT_BEGIN_DATE</th>\n",
       "      <th>INCIDENT_END_DATE</th>\n",
       "      <th>LAW_ENFORCEMENT_AGENCY</th>\n",
       "      <th>LAW_ENFORCEMENT_UNIT</th>\n",
       "      <th>ARREST_DATE</th>\n",
       "      <th>FELONY_REVIEW_DATE</th>\n",
       "      <th>FELONY_REVIEW_RESULT</th>\n",
       "      <th>ARRAIGNMENT_DATE</th>\n",
       "      <th>UPDATED_OFFENSE_CATEGORY</th>\n",
       "    </tr>\n",
       "  </thead>\n",
       "  <tbody>\n",
       "    <tr>\n",
       "      <th>9</th>\n",
       "      <td>149765331439</td>\n",
       "      <td>175691153649</td>\n",
       "      <td>8/15/1984 12:00:00 AM</td>\n",
       "      <td>PROMIS Conversion</td>\n",
       "      <td>True</td>\n",
       "      <td>50510062193</td>\n",
       "      <td>112898098217</td>\n",
       "      <td>FIRST DEGREE MURDER</td>\n",
       "      <td>1</td>\n",
       "      <td>12/17/2014 12:00:00 AM</td>\n",
       "      <td>...</td>\n",
       "      <td>NaN</td>\n",
       "      <td>8/9/1984 12:00:00 AM</td>\n",
       "      <td>NaN</td>\n",
       "      <td>CHICAGO POLICE DEPT</td>\n",
       "      <td>NaN</td>\n",
       "      <td>8/15/1984 12:00:00 AM</td>\n",
       "      <td>08/15/1984 12:00:00 AM</td>\n",
       "      <td>Charge(S) Approved</td>\n",
       "      <td>9/21/1984 12:00:00 AM</td>\n",
       "      <td>Homicide</td>\n",
       "    </tr>\n",
       "    <tr>\n",
       "      <th>10</th>\n",
       "      <td>149765331439</td>\n",
       "      <td>175691153649</td>\n",
       "      <td>8/15/1984 12:00:00 AM</td>\n",
       "      <td>PROMIS Conversion</td>\n",
       "      <td>True</td>\n",
       "      <td>50510062193</td>\n",
       "      <td>112898098217</td>\n",
       "      <td>FIRST DEGREE MURDER</td>\n",
       "      <td>1</td>\n",
       "      <td>12/17/2014 12:00:00 AM</td>\n",
       "      <td>...</td>\n",
       "      <td>NaN</td>\n",
       "      <td>8/9/1984 12:00:00 AM</td>\n",
       "      <td>NaN</td>\n",
       "      <td>CHICAGO POLICE DEPT</td>\n",
       "      <td>NaN</td>\n",
       "      <td>8/15/1984 12:00:00 AM</td>\n",
       "      <td>08/15/1984 12:00:00 AM</td>\n",
       "      <td>Charge(S) Approved</td>\n",
       "      <td>9/21/1984 12:00:00 AM</td>\n",
       "      <td>Homicide</td>\n",
       "    </tr>\n",
       "    <tr>\n",
       "      <th>15</th>\n",
       "      <td>150065796098</td>\n",
       "      <td>162105612284</td>\n",
       "      <td>8/23/1984 12:00:00 AM</td>\n",
       "      <td>PROMIS Conversion</td>\n",
       "      <td>True</td>\n",
       "      <td>50792360681</td>\n",
       "      <td>113332130159</td>\n",
       "      <td>FIRST DEGREE MURDER</td>\n",
       "      <td>1</td>\n",
       "      <td>8/6/2014 12:00:00 AM</td>\n",
       "      <td>...</td>\n",
       "      <td>NaN</td>\n",
       "      <td>2/10/1983 12:00:00 AM</td>\n",
       "      <td>NaN</td>\n",
       "      <td>CHICAGO POLICE DEPT</td>\n",
       "      <td>NaN</td>\n",
       "      <td>2/10/1983 12:00:00 AM</td>\n",
       "      <td>NaN</td>\n",
       "      <td>NaN</td>\n",
       "      <td>NaN</td>\n",
       "      <td>Homicide</td>\n",
       "    </tr>\n",
       "    <tr>\n",
       "      <th>16</th>\n",
       "      <td>150065796098</td>\n",
       "      <td>162105612284</td>\n",
       "      <td>8/23/1984 12:00:00 AM</td>\n",
       "      <td>PROMIS Conversion</td>\n",
       "      <td>True</td>\n",
       "      <td>50792360681</td>\n",
       "      <td>113332130159</td>\n",
       "      <td>FIRST DEGREE MURDER</td>\n",
       "      <td>1</td>\n",
       "      <td>8/6/2014 12:00:00 AM</td>\n",
       "      <td>...</td>\n",
       "      <td>NaN</td>\n",
       "      <td>2/10/1983 12:00:00 AM</td>\n",
       "      <td>NaN</td>\n",
       "      <td>CHICAGO POLICE DEPT</td>\n",
       "      <td>NaN</td>\n",
       "      <td>2/10/1983 12:00:00 AM</td>\n",
       "      <td>NaN</td>\n",
       "      <td>NaN</td>\n",
       "      <td>NaN</td>\n",
       "      <td>Homicide</td>\n",
       "    </tr>\n",
       "    <tr>\n",
       "      <th>18</th>\n",
       "      <td>154954734978</td>\n",
       "      <td>225758446387</td>\n",
       "      <td>6/8/2001 12:00:00 AM</td>\n",
       "      <td>PROMIS Conversion</td>\n",
       "      <td>True</td>\n",
       "      <td>54885211141</td>\n",
       "      <td>174293345821</td>\n",
       "      <td>VIO BAIL BOND/CLASS 1</td>\n",
       "      <td>1</td>\n",
       "      <td>12/2/2013 12:00:00 AM</td>\n",
       "      <td>...</td>\n",
       "      <td>NaN</td>\n",
       "      <td>4/24/2001 12:00:00 AM</td>\n",
       "      <td>NaN</td>\n",
       "      <td>HANOVER PARK POLICE DEPARTMENT</td>\n",
       "      <td>NaN</td>\n",
       "      <td>10/26/2000 12:00:00 AM</td>\n",
       "      <td>NaN</td>\n",
       "      <td>NaN</td>\n",
       "      <td>NaN</td>\n",
       "      <td>PROMIS Conversion</td>\n",
       "    </tr>\n",
       "  </tbody>\n",
       "</table>\n",
       "<p>5 rows × 41 columns</p>\n",
       "</div>"
      ],
      "text/plain": [
       "         CASE_ID  CASE_PARTICIPANT_ID          RECEIVED_DATE  \\\n",
       "9   149765331439         175691153649  8/15/1984 12:00:00 AM   \n",
       "10  149765331439         175691153649  8/15/1984 12:00:00 AM   \n",
       "15  150065796098         162105612284  8/23/1984 12:00:00 AM   \n",
       "16  150065796098         162105612284  8/23/1984 12:00:00 AM   \n",
       "18  154954734978         225758446387   6/8/2001 12:00:00 AM   \n",
       "\n",
       "     OFFENSE_CATEGORY  PRIMARY_CHARGE_FLAG    CHARGE_ID  CHARGE_VERSION_ID  \\\n",
       "9   PROMIS Conversion                 True  50510062193       112898098217   \n",
       "10  PROMIS Conversion                 True  50510062193       112898098217   \n",
       "15  PROMIS Conversion                 True  50792360681       113332130159   \n",
       "16  PROMIS Conversion                 True  50792360681       113332130159   \n",
       "18  PROMIS Conversion                 True  54885211141       174293345821   \n",
       "\n",
       "   DISPOSITION_CHARGED_OFFENSE_TITLE  CHARGE_COUNT        DISPOSITION_DATE  \\\n",
       "9                FIRST DEGREE MURDER             1  12/17/2014 12:00:00 AM   \n",
       "10               FIRST DEGREE MURDER             1  12/17/2014 12:00:00 AM   \n",
       "15               FIRST DEGREE MURDER             1    8/6/2014 12:00:00 AM   \n",
       "16               FIRST DEGREE MURDER             1    8/6/2014 12:00:00 AM   \n",
       "18             VIO BAIL BOND/CLASS 1             1   12/2/2013 12:00:00 AM   \n",
       "\n",
       "    ... INCIDENT_CITY    INCIDENT_BEGIN_DATE INCIDENT_END_DATE  \\\n",
       "9   ...           NaN   8/9/1984 12:00:00 AM               NaN   \n",
       "10  ...           NaN   8/9/1984 12:00:00 AM               NaN   \n",
       "15  ...           NaN  2/10/1983 12:00:00 AM               NaN   \n",
       "16  ...           NaN  2/10/1983 12:00:00 AM               NaN   \n",
       "18  ...           NaN  4/24/2001 12:00:00 AM               NaN   \n",
       "\n",
       "            LAW_ENFORCEMENT_AGENCY LAW_ENFORCEMENT_UNIT  \\\n",
       "9              CHICAGO POLICE DEPT                  NaN   \n",
       "10             CHICAGO POLICE DEPT                  NaN   \n",
       "15             CHICAGO POLICE DEPT                  NaN   \n",
       "16             CHICAGO POLICE DEPT                  NaN   \n",
       "18  HANOVER PARK POLICE DEPARTMENT                  NaN   \n",
       "\n",
       "               ARREST_DATE      FELONY_REVIEW_DATE FELONY_REVIEW_RESULT  \\\n",
       "9    8/15/1984 12:00:00 AM  08/15/1984 12:00:00 AM   Charge(S) Approved   \n",
       "10   8/15/1984 12:00:00 AM  08/15/1984 12:00:00 AM   Charge(S) Approved   \n",
       "15   2/10/1983 12:00:00 AM                     NaN                  NaN   \n",
       "16   2/10/1983 12:00:00 AM                     NaN                  NaN   \n",
       "18  10/26/2000 12:00:00 AM                     NaN                  NaN   \n",
       "\n",
       "         ARRAIGNMENT_DATE UPDATED_OFFENSE_CATEGORY  \n",
       "9   9/21/1984 12:00:00 AM                 Homicide  \n",
       "10  9/21/1984 12:00:00 AM                 Homicide  \n",
       "15                    NaN                 Homicide  \n",
       "16                    NaN                 Homicide  \n",
       "18                    NaN        PROMIS Conversion  \n",
       "\n",
       "[5 rows x 41 columns]"
      ]
     },
     "execution_count": 3,
     "metadata": {},
     "output_type": "execute_result"
    }
   ],
   "source": [
    "print(df1.shape)\n",
    "df1.head()"
   ]
  },
  {
   "cell_type": "markdown",
   "id": "40811489",
   "metadata": {},
   "source": [
    "## Introduce the independant variables\n",
    "### Race variables"
   ]
  },
  {
   "cell_type": "code",
   "execution_count": 4,
   "id": "b13cb068",
   "metadata": {},
   "outputs": [],
   "source": [
    "## Pre-clean\n",
    "df1 = df1[~df1.RACE.isna()]"
   ]
  },
  {
   "cell_type": "code",
   "execution_count": 5,
   "id": "7a57a7a3",
   "metadata": {},
   "outputs": [],
   "source": [
    "# Create is_black_derived, is_white_derived, is_hisp_derived, is_other_derived variables\n",
    "df1['is_black_derived'] = np.where(df1.RACE == 'Black', True, False)\n",
    "df1['is_white_derived'] = np.where(df1.RACE == 'White', True, False)\n",
    "df1['is_hisp_derived'] = np.where(df1.RACE == 'HISPANIC', True, False)\n",
    "df1['is_other_derived'] = np.where(~df1.RACE.isin(['Black','White','HISPANIC']), True, False)"
   ]
  },
  {
   "cell_type": "markdown",
   "id": "0d53d40b",
   "metadata": {},
   "source": [
    "### Gender variables"
   ]
  },
  {
   "cell_type": "code",
   "execution_count": 6,
   "id": "e24dee18",
   "metadata": {},
   "outputs": [],
   "source": [
    "## Pre-clean\n",
    "df1 = df1[(df1.GENDER.isin(['Male','Female']))& (~df1.SENTENCE_JUDGE.isna())]"
   ]
  },
  {
   "cell_type": "code",
   "execution_count": 7,
   "id": "ac727b52",
   "metadata": {},
   "outputs": [],
   "source": [
    "# Create is_defendant_male variable\n",
    "df1['is_defendant_male'] = np.where(df1.GENDER == 'Male', True, False)"
   ]
  },
  {
   "cell_type": "code",
   "execution_count": 8,
   "id": "a2982b2a",
   "metadata": {},
   "outputs": [
    {
     "data": {
      "text/html": [
       "<div>\n",
       "<style scoped>\n",
       "    .dataframe tbody tr th:only-of-type {\n",
       "        vertical-align: middle;\n",
       "    }\n",
       "\n",
       "    .dataframe tbody tr th {\n",
       "        vertical-align: top;\n",
       "    }\n",
       "\n",
       "    .dataframe thead th {\n",
       "        text-align: right;\n",
       "    }\n",
       "</style>\n",
       "<table border=\"1\" class=\"dataframe\">\n",
       "  <thead>\n",
       "    <tr style=\"text-align: right;\">\n",
       "      <th></th>\n",
       "      <th>Gender_judge</th>\n",
       "      <th>num_judge</th>\n",
       "    </tr>\n",
       "  </thead>\n",
       "  <tbody>\n",
       "    <tr>\n",
       "      <th>0</th>\n",
       "      <td>andy</td>\n",
       "      <td>114</td>\n",
       "    </tr>\n",
       "    <tr>\n",
       "      <th>1</th>\n",
       "      <td>female</td>\n",
       "      <td>44056</td>\n",
       "    </tr>\n",
       "    <tr>\n",
       "      <th>2</th>\n",
       "      <td>male</td>\n",
       "      <td>117728</td>\n",
       "    </tr>\n",
       "    <tr>\n",
       "      <th>3</th>\n",
       "      <td>mostly_female</td>\n",
       "      <td>12517</td>\n",
       "    </tr>\n",
       "    <tr>\n",
       "      <th>4</th>\n",
       "      <td>mostly_male</td>\n",
       "      <td>6</td>\n",
       "    </tr>\n",
       "    <tr>\n",
       "      <th>5</th>\n",
       "      <td>unknown</td>\n",
       "      <td>4566</td>\n",
       "    </tr>\n",
       "  </tbody>\n",
       "</table>\n",
       "</div>"
      ],
      "text/plain": [
       "    Gender_judge  num_judge\n",
       "0           andy        114\n",
       "1         female      44056\n",
       "2           male     117728\n",
       "3  mostly_female      12517\n",
       "4    mostly_male          6\n",
       "5        unknown       4566"
      ]
     },
     "execution_count": 8,
     "metadata": {},
     "output_type": "execute_result"
    }
   ],
   "source": [
    "# Create is_judge_male variable\n",
    "\n",
    "### Get the first name of judgers\n",
    "df1['FN_judge'] = [i.split(' ')[0] for i in df1['SENTENCE_JUDGE']]\n",
    "\n",
    "### Predict the judgers' genders\n",
    "gd = gender.Detector()\n",
    "df1['Gender_judge'] = df1['FN_judge'].\\\n",
    "apply(str.capitalize).map(lambda x: gd.get_gender(x))\n",
    "\n",
    "### To see the diffence of judge made by judgers with different genders\n",
    "df1.groupby('Gender_judge').agg(num_judge = ('Gender_judge', 'count')).reset_index()"
   ]
  },
  {
   "cell_type": "code",
   "execution_count": 9,
   "id": "6d87a0ec",
   "metadata": {},
   "outputs": [],
   "source": [
    "### Rename the is_judge_gender\n",
    "df1 = df1[df1.Gender_judge.isin(['female','male','mostly_female','mostly_male'])]\n",
    "df1['is_judge_male'] = np.where(df1.Gender_judge.isin(['mostly_male','male']), True, False)"
   ]
  },
  {
   "cell_type": "code",
   "execution_count": 10,
   "id": "3350d4f9",
   "metadata": {},
   "outputs": [
    {
     "data": {
      "text/html": [
       "<div>\n",
       "<style scoped>\n",
       "    .dataframe tbody tr th:only-of-type {\n",
       "        vertical-align: middle;\n",
       "    }\n",
       "\n",
       "    .dataframe tbody tr th {\n",
       "        vertical-align: top;\n",
       "    }\n",
       "\n",
       "    .dataframe thead th {\n",
       "        text-align: right;\n",
       "    }\n",
       "</style>\n",
       "<table border=\"1\" class=\"dataframe\">\n",
       "  <thead>\n",
       "    <tr style=\"text-align: right;\">\n",
       "      <th></th>\n",
       "      <th>SENTENCE_JUDGE</th>\n",
       "      <th>FN_judge</th>\n",
       "      <th>is_judge_male</th>\n",
       "      <th>Gender_judge</th>\n",
       "    </tr>\n",
       "  </thead>\n",
       "  <tbody>\n",
       "    <tr>\n",
       "      <th>9</th>\n",
       "      <td>Clayton Jay Crane</td>\n",
       "      <td>Clayton</td>\n",
       "      <td>True</td>\n",
       "      <td>male</td>\n",
       "    </tr>\n",
       "    <tr>\n",
       "      <th>10</th>\n",
       "      <td>John  Mannion</td>\n",
       "      <td>John</td>\n",
       "      <td>True</td>\n",
       "      <td>male</td>\n",
       "    </tr>\n",
       "    <tr>\n",
       "      <th>15</th>\n",
       "      <td>James L Rhodes</td>\n",
       "      <td>James</td>\n",
       "      <td>True</td>\n",
       "      <td>male</td>\n",
       "    </tr>\n",
       "    <tr>\n",
       "      <th>16</th>\n",
       "      <td>Thomas V Gainer</td>\n",
       "      <td>Thomas</td>\n",
       "      <td>True</td>\n",
       "      <td>male</td>\n",
       "    </tr>\n",
       "    <tr>\n",
       "      <th>18</th>\n",
       "      <td>Kay M Hanlon</td>\n",
       "      <td>Kay</td>\n",
       "      <td>True</td>\n",
       "      <td>male</td>\n",
       "    </tr>\n",
       "  </tbody>\n",
       "</table>\n",
       "</div>"
      ],
      "text/plain": [
       "       SENTENCE_JUDGE FN_judge  is_judge_male Gender_judge\n",
       "9   Clayton Jay Crane  Clayton           True         male\n",
       "10      John  Mannion     John           True         male\n",
       "15     James L Rhodes    James           True         male\n",
       "16    Thomas V Gainer   Thomas           True         male\n",
       "18       Kay M Hanlon      Kay           True         male"
      ]
     },
     "execution_count": 10,
     "metadata": {},
     "output_type": "execute_result"
    }
   ],
   "source": [
    "df1[['SENTENCE_JUDGE','FN_judge','is_judge_male','Gender_judge']].head()"
   ]
  },
  {
   "cell_type": "markdown",
   "id": "6f03fb48",
   "metadata": {},
   "source": [
    "### is_changed_offense variable\n",
    "Add a variable called is_changed_offense to research whether the change in offense type will influnece the incarceration condition"
   ]
  },
  {
   "cell_type": "code",
   "execution_count": 11,
   "id": "3e0de8d1",
   "metadata": {},
   "outputs": [],
   "source": [
    "df1['is_changed_offense'] = (df1['OFFENSE_CATEGORY'] == df1['UPDATED_OFFENSE_CATEGORY'])"
   ]
  },
  {
   "cell_type": "markdown",
   "id": "ca990cfc",
   "metadata": {},
   "source": [
    "### is_covid variable\n",
    "Add a variable called is_covid to research the influence of covid.\n",
    "\n",
    "We select 2020 as the seperate line, <2020 is False, >=2020 is True."
   ]
  },
  {
   "cell_type": "code",
   "execution_count": 12,
   "id": "6dcb81ca",
   "metadata": {},
   "outputs": [
    {
     "data": {
      "text/plain": [
       "9      8/15/1984 12:00:00 AM\n",
       "10     8/15/1984 12:00:00 AM\n",
       "15     2/10/1983 12:00:00 AM\n",
       "16     2/10/1983 12:00:00 AM\n",
       "18    10/26/2000 12:00:00 AM\n",
       "Name: ARREST_DATE, dtype: object"
      ]
     },
     "execution_count": 12,
     "metadata": {},
     "output_type": "execute_result"
    }
   ],
   "source": [
    "# Use regex to clean up the date columns\n",
    "df1 = df1[~df1.ARREST_DATE.isna()]\n",
    "df1[\"ARREST_DATE\"]  = [re.sub(r'2[1-9]([0-9]+)', r\"20\\1\", str(date)) \n",
    "                                               if bool(re.search('\\/2[1-9][0-9]+', str(date))) else \n",
    "                                               str(date) \n",
    "                                               for date in \n",
    "                                               df1[\"ARREST_DATE\"]]\n",
    "df1[\"ARREST_DATE\"].head()"
   ]
  },
  {
   "cell_type": "code",
   "execution_count": 13,
   "id": "d5babb68",
   "metadata": {},
   "outputs": [
    {
     "data": {
      "text/plain": [
       "9     1984\n",
       "10    1984\n",
       "15    1983\n",
       "16    1983\n",
       "18    2000\n",
       "Name: arrest_year, dtype: int64"
      ]
     },
     "execution_count": 13,
     "metadata": {},
     "output_type": "execute_result"
    }
   ],
   "source": [
    "# Transfer date to datetime \n",
    "df1[\"ARREST_DATE\"] = pd.to_datetime(df1.ARREST_DATE)                                                  \n",
    "# Extract the arrest year\n",
    "df1[\"arrest_year\"] = df1[\"ARREST_DATE\"].dt.year\n",
    "df1[\"arrest_year\"].head()"
   ]
  },
  {
   "cell_type": "code",
   "execution_count": 14,
   "id": "f8bfcf72",
   "metadata": {},
   "outputs": [
    {
     "data": {
      "text/plain": [
       "9     False\n",
       "10    False\n",
       "15    False\n",
       "16    False\n",
       "18    False\n",
       "Name: is_covid, dtype: bool"
      ]
     },
     "execution_count": 14,
     "metadata": {},
     "output_type": "execute_result"
    }
   ],
   "source": [
    "df1[\"is_covid\"] = np.where(df1[\"arrest_year\"]>=2020 , True, False)\n",
    "df1[\"is_covid\"].head()"
   ]
  },
  {
   "cell_type": "markdown",
   "id": "ba154dd9",
   "metadata": {},
   "source": [
    "### Add livability index\n",
    "Livability from website: https://www.areavibes.com/"
   ]
  },
  {
   "cell_type": "code",
   "execution_count": 15,
   "id": "a193ae21",
   "metadata": {},
   "outputs": [],
   "source": [
    "### Read the file\n",
    "police_stations = pd.read_csv('/Users/leowu/Desktop/Final-Project-Group5/Dataset/Police_Stations.csv')\n",
    "police_stations['NEIGHBORHOODS'] = ['Douglas','Near North Side','Lake View','Lincoln Square','Morgan Park',\\\n",
    "                                   'Rogers Park','Belmont Cragin','Near South Side','Fuller Park',\\\n",
    "                                   'Woodlawn','South Deering','Pullman','Auburn Gresham','West Englewood',\\\n",
    "                                   'Chicago Lawn','Bridgeport','North Lawndale','East Garfield Park',\\\n",
    "                                   'Near West Side','Logan Square','Austin','Jefferson Park','Jefferson Park']\n",
    "new_df = df1[~df1['LAW_ENFORCEMENT_UNIT'].isnull()]"
   ]
  },
  {
   "cell_type": "code",
   "execution_count": 16,
   "id": "ee2c7fe0",
   "metadata": {},
   "outputs": [
    {
     "data": {
      "text/html": [
       "<div>\n",
       "<style scoped>\n",
       "    .dataframe tbody tr th:only-of-type {\n",
       "        vertical-align: middle;\n",
       "    }\n",
       "\n",
       "    .dataframe tbody tr th {\n",
       "        vertical-align: top;\n",
       "    }\n",
       "\n",
       "    .dataframe thead th {\n",
       "        text-align: right;\n",
       "    }\n",
       "</style>\n",
       "<table border=\"1\" class=\"dataframe\">\n",
       "  <thead>\n",
       "    <tr style=\"text-align: right;\">\n",
       "      <th></th>\n",
       "      <th>LAW_ENFORCEMENT_UNIT</th>\n",
       "      <th>COUNT</th>\n",
       "      <th>DISTRICT NAME</th>\n",
       "    </tr>\n",
       "  </thead>\n",
       "  <tbody>\n",
       "    <tr>\n",
       "      <th>0</th>\n",
       "      <td>District 11 - Harrison</td>\n",
       "      <td>13229</td>\n",
       "      <td>Harrison</td>\n",
       "    </tr>\n",
       "    <tr>\n",
       "      <th>1</th>\n",
       "      <td>District 10 - Ogden</td>\n",
       "      <td>4417</td>\n",
       "      <td>Ogden</td>\n",
       "    </tr>\n",
       "    <tr>\n",
       "      <th>2</th>\n",
       "      <td>District 15 - Austin</td>\n",
       "      <td>4242</td>\n",
       "      <td>Austin</td>\n",
       "    </tr>\n",
       "    <tr>\n",
       "      <th>3</th>\n",
       "      <td>District 7 - Englewood</td>\n",
       "      <td>3399</td>\n",
       "      <td>Englewood</td>\n",
       "    </tr>\n",
       "    <tr>\n",
       "      <th>4</th>\n",
       "      <td>District 6 - Gresham</td>\n",
       "      <td>3012</td>\n",
       "      <td>Gresham</td>\n",
       "    </tr>\n",
       "  </tbody>\n",
       "</table>\n",
       "</div>"
      ],
      "text/plain": [
       "     LAW_ENFORCEMENT_UNIT  COUNT DISTRICT NAME\n",
       "0  District 11 - Harrison  13229      Harrison\n",
       "1     District 10 - Ogden   4417         Ogden\n",
       "2    District 15 - Austin   4242        Austin\n",
       "3  District 7 - Englewood   3399     Englewood\n",
       "4    District 6 - Gresham   3012       Gresham"
      ]
     },
     "execution_count": 16,
     "metadata": {},
     "output_type": "execute_result"
    }
   ],
   "source": [
    "new_df_count = new_df.groupby('LAW_ENFORCEMENT_UNIT').agg(COUNT = ('CASE_ID','count')).\\\n",
    "sort_values('COUNT',ascending = False).reset_index()\n",
    "new_df_up = new_df_count[new_df_count.LAW_ENFORCEMENT_UNIT.str.contains('District')].\\\n",
    "reset_index().drop(columns=['index'])\n",
    "new_df_up['DISTRICT NAME'] = [new_df_up.LAW_ENFORCEMENT_UNIT.str.split(' - ')[i][1] for i in range(len(new_df_up))]\n",
    "new_df_up.head()"
   ]
  },
  {
   "cell_type": "code",
   "execution_count": 17,
   "id": "883f7c45",
   "metadata": {},
   "outputs": [
    {
     "data": {
      "text/html": [
       "<div>\n",
       "<style scoped>\n",
       "    .dataframe tbody tr th:only-of-type {\n",
       "        vertical-align: middle;\n",
       "    }\n",
       "\n",
       "    .dataframe tbody tr th {\n",
       "        vertical-align: top;\n",
       "    }\n",
       "\n",
       "    .dataframe thead th {\n",
       "        text-align: right;\n",
       "    }\n",
       "</style>\n",
       "<table border=\"1\" class=\"dataframe\">\n",
       "  <thead>\n",
       "    <tr style=\"text-align: right;\">\n",
       "      <th></th>\n",
       "      <th>LAW_ENFORCEMENT_UNIT</th>\n",
       "      <th>COUNT</th>\n",
       "      <th>DISTRICT NAME</th>\n",
       "      <th>LATITUDE</th>\n",
       "      <th>LONGITUDE</th>\n",
       "      <th>NEIGHBORHOODS</th>\n",
       "    </tr>\n",
       "  </thead>\n",
       "  <tbody>\n",
       "    <tr>\n",
       "      <th>0</th>\n",
       "      <td>District 11 - Harrison</td>\n",
       "      <td>13229</td>\n",
       "      <td>Harrison</td>\n",
       "      <td>41.873582</td>\n",
       "      <td>-87.705488</td>\n",
       "      <td>East Garfield Park</td>\n",
       "    </tr>\n",
       "    <tr>\n",
       "      <th>1</th>\n",
       "      <td>District 10 - Ogden</td>\n",
       "      <td>4417</td>\n",
       "      <td>Ogden</td>\n",
       "      <td>41.856685</td>\n",
       "      <td>-87.708382</td>\n",
       "      <td>North Lawndale</td>\n",
       "    </tr>\n",
       "    <tr>\n",
       "      <th>2</th>\n",
       "      <td>District 15 - Austin</td>\n",
       "      <td>4242</td>\n",
       "      <td>Austin</td>\n",
       "      <td>41.880083</td>\n",
       "      <td>-87.768200</td>\n",
       "      <td>Austin</td>\n",
       "    </tr>\n",
       "    <tr>\n",
       "      <th>3</th>\n",
       "      <td>District 7 - Englewood</td>\n",
       "      <td>3399</td>\n",
       "      <td>Englewood</td>\n",
       "      <td>41.779632</td>\n",
       "      <td>-87.660887</td>\n",
       "      <td>West Englewood</td>\n",
       "    </tr>\n",
       "    <tr>\n",
       "      <th>4</th>\n",
       "      <td>District 6 - Gresham</td>\n",
       "      <td>3012</td>\n",
       "      <td>Gresham</td>\n",
       "      <td>41.752137</td>\n",
       "      <td>-87.644229</td>\n",
       "      <td>Auburn Gresham</td>\n",
       "    </tr>\n",
       "  </tbody>\n",
       "</table>\n",
       "</div>"
      ],
      "text/plain": [
       "     LAW_ENFORCEMENT_UNIT  COUNT DISTRICT NAME   LATITUDE  LONGITUDE  \\\n",
       "0  District 11 - Harrison  13229      Harrison  41.873582 -87.705488   \n",
       "1     District 10 - Ogden   4417         Ogden  41.856685 -87.708382   \n",
       "2    District 15 - Austin   4242        Austin  41.880083 -87.768200   \n",
       "3  District 7 - Englewood   3399     Englewood  41.779632 -87.660887   \n",
       "4    District 6 - Gresham   3012       Gresham  41.752137 -87.644229   \n",
       "\n",
       "        NEIGHBORHOODS  \n",
       "0  East Garfield Park  \n",
       "1      North Lawndale  \n",
       "2              Austin  \n",
       "3      West Englewood  \n",
       "4      Auburn Gresham  "
      ]
     },
     "execution_count": 17,
     "metadata": {},
     "output_type": "execute_result"
    }
   ],
   "source": [
    "new_df_con = pd.merge(new_df_up,\n",
    "                     police_stations[['DISTRICT NAME','LATITUDE','LONGITUDE','NEIGHBORHOODS']],\n",
    "                     how = 'inner',\n",
    "                     on = 'DISTRICT NAME')\n",
    "new_df_con.head()"
   ]
  },
  {
   "cell_type": "code",
   "execution_count": 18,
   "id": "c5c82bbe",
   "metadata": {},
   "outputs": [
    {
     "data": {
      "text/html": [
       "<div>\n",
       "<style scoped>\n",
       "    .dataframe tbody tr th:only-of-type {\n",
       "        vertical-align: middle;\n",
       "    }\n",
       "\n",
       "    .dataframe tbody tr th {\n",
       "        vertical-align: top;\n",
       "    }\n",
       "\n",
       "    .dataframe thead th {\n",
       "        text-align: right;\n",
       "    }\n",
       "</style>\n",
       "<table border=\"1\" class=\"dataframe\">\n",
       "  <thead>\n",
       "    <tr style=\"text-align: right;\">\n",
       "      <th></th>\n",
       "      <th>CASE_ID</th>\n",
       "      <th>CASE_PARTICIPANT_ID</th>\n",
       "      <th>RECEIVED_DATE</th>\n",
       "      <th>OFFENSE_CATEGORY</th>\n",
       "      <th>PRIMARY_CHARGE_FLAG</th>\n",
       "      <th>CHARGE_ID</th>\n",
       "      <th>CHARGE_VERSION_ID</th>\n",
       "      <th>DISPOSITION_CHARGED_OFFENSE_TITLE</th>\n",
       "      <th>CHARGE_COUNT</th>\n",
       "      <th>DISPOSITION_DATE</th>\n",
       "      <th>...</th>\n",
       "      <th>is_hisp_derived</th>\n",
       "      <th>is_other_derived</th>\n",
       "      <th>is_defendant_male</th>\n",
       "      <th>FN_judge</th>\n",
       "      <th>Gender_judge</th>\n",
       "      <th>is_judge_male</th>\n",
       "      <th>is_changed_offense</th>\n",
       "      <th>arrest_year</th>\n",
       "      <th>is_covid</th>\n",
       "      <th>Livability</th>\n",
       "    </tr>\n",
       "  </thead>\n",
       "  <tbody>\n",
       "    <tr>\n",
       "      <th>0</th>\n",
       "      <td>240624757473</td>\n",
       "      <td>214083848061</td>\n",
       "      <td>2/7/2010 12:00:00 AM</td>\n",
       "      <td>PROMIS Conversion</td>\n",
       "      <td>True</td>\n",
       "      <td>190929352317</td>\n",
       "      <td>255873414267</td>\n",
       "      <td>UUW/FELONY POSS/USE WEAPON/FIREARM</td>\n",
       "      <td>1</td>\n",
       "      <td>1/21/2011 12:00:00 AM</td>\n",
       "      <td>...</td>\n",
       "      <td>True</td>\n",
       "      <td>False</td>\n",
       "      <td>False</td>\n",
       "      <td>Catherine</td>\n",
       "      <td>female</td>\n",
       "      <td>False</td>\n",
       "      <td>False</td>\n",
       "      <td>2010</td>\n",
       "      <td>False</td>\n",
       "      <td>64</td>\n",
       "    </tr>\n",
       "    <tr>\n",
       "      <th>1</th>\n",
       "      <td>377335736568</td>\n",
       "      <td>694901143919</td>\n",
       "      <td>4/17/2010 12:00:00 AM</td>\n",
       "      <td>Sex Crimes</td>\n",
       "      <td>True</td>\n",
       "      <td>333676612023</td>\n",
       "      <td>620025653522</td>\n",
       "      <td>VIOLATION OF THE SEX OFFENDER REGISTRATION ACT</td>\n",
       "      <td>1</td>\n",
       "      <td>5/16/2011 12:00:00 AM</td>\n",
       "      <td>...</td>\n",
       "      <td>False</td>\n",
       "      <td>False</td>\n",
       "      <td>True</td>\n",
       "      <td>James</td>\n",
       "      <td>male</td>\n",
       "      <td>True</td>\n",
       "      <td>False</td>\n",
       "      <td>2010</td>\n",
       "      <td>False</td>\n",
       "      <td>64</td>\n",
       "    </tr>\n",
       "    <tr>\n",
       "      <th>2</th>\n",
       "      <td>377394331582</td>\n",
       "      <td>695079507410</td>\n",
       "      <td>4/21/2010 12:00:00 AM</td>\n",
       "      <td>Narcotics</td>\n",
       "      <td>True</td>\n",
       "      <td>334341207520</td>\n",
       "      <td>621377822772</td>\n",
       "      <td>[POSSESSION OF CANNABIS WITH INTENT TO DELIVER...</td>\n",
       "      <td>1</td>\n",
       "      <td>1/12/2011 12:00:00 AM</td>\n",
       "      <td>...</td>\n",
       "      <td>False</td>\n",
       "      <td>False</td>\n",
       "      <td>True</td>\n",
       "      <td>Sharon</td>\n",
       "      <td>female</td>\n",
       "      <td>False</td>\n",
       "      <td>True</td>\n",
       "      <td>2010</td>\n",
       "      <td>False</td>\n",
       "      <td>64</td>\n",
       "    </tr>\n",
       "    <tr>\n",
       "      <th>3</th>\n",
       "      <td>377427373884</td>\n",
       "      <td>695175012095</td>\n",
       "      <td>4/8/2010 12:00:00 AM</td>\n",
       "      <td>Narcotics</td>\n",
       "      <td>True</td>\n",
       "      <td>333825227220</td>\n",
       "      <td>620352718918</td>\n",
       "      <td>[POSSESSION OF CONTROLLED SUBSTANCE WITH INTEN...</td>\n",
       "      <td>1</td>\n",
       "      <td>4/12/2011 12:00:00 AM</td>\n",
       "      <td>...</td>\n",
       "      <td>False</td>\n",
       "      <td>False</td>\n",
       "      <td>False</td>\n",
       "      <td>Maura</td>\n",
       "      <td>female</td>\n",
       "      <td>False</td>\n",
       "      <td>True</td>\n",
       "      <td>2010</td>\n",
       "      <td>False</td>\n",
       "      <td>64</td>\n",
       "    </tr>\n",
       "    <tr>\n",
       "      <th>4</th>\n",
       "      <td>377478919873</td>\n",
       "      <td>695306378222</td>\n",
       "      <td>4/24/2010 12:00:00 AM</td>\n",
       "      <td>Attempt Arson</td>\n",
       "      <td>True</td>\n",
       "      <td>334053278144</td>\n",
       "      <td>620821129628</td>\n",
       "      <td>AGGRAVATED ARSON</td>\n",
       "      <td>1</td>\n",
       "      <td>7/29/2011 12:00:00 AM</td>\n",
       "      <td>...</td>\n",
       "      <td>False</td>\n",
       "      <td>False</td>\n",
       "      <td>True</td>\n",
       "      <td>James</td>\n",
       "      <td>male</td>\n",
       "      <td>True</td>\n",
       "      <td>False</td>\n",
       "      <td>2010</td>\n",
       "      <td>False</td>\n",
       "      <td>64</td>\n",
       "    </tr>\n",
       "  </tbody>\n",
       "</table>\n",
       "<p>5 rows × 53 columns</p>\n",
       "</div>"
      ],
      "text/plain": [
       "        CASE_ID  CASE_PARTICIPANT_ID          RECEIVED_DATE  \\\n",
       "0  240624757473         214083848061   2/7/2010 12:00:00 AM   \n",
       "1  377335736568         694901143919  4/17/2010 12:00:00 AM   \n",
       "2  377394331582         695079507410  4/21/2010 12:00:00 AM   \n",
       "3  377427373884         695175012095   4/8/2010 12:00:00 AM   \n",
       "4  377478919873         695306378222  4/24/2010 12:00:00 AM   \n",
       "\n",
       "    OFFENSE_CATEGORY  PRIMARY_CHARGE_FLAG     CHARGE_ID  CHARGE_VERSION_ID  \\\n",
       "0  PROMIS Conversion                 True  190929352317       255873414267   \n",
       "1         Sex Crimes                 True  333676612023       620025653522   \n",
       "2          Narcotics                 True  334341207520       621377822772   \n",
       "3          Narcotics                 True  333825227220       620352718918   \n",
       "4      Attempt Arson                 True  334053278144       620821129628   \n",
       "\n",
       "                   DISPOSITION_CHARGED_OFFENSE_TITLE  CHARGE_COUNT  \\\n",
       "0                 UUW/FELONY POSS/USE WEAPON/FIREARM             1   \n",
       "1     VIOLATION OF THE SEX OFFENDER REGISTRATION ACT             1   \n",
       "2  [POSSESSION OF CANNABIS WITH INTENT TO DELIVER...             1   \n",
       "3  [POSSESSION OF CONTROLLED SUBSTANCE WITH INTEN...             1   \n",
       "4                                   AGGRAVATED ARSON             1   \n",
       "\n",
       "        DISPOSITION_DATE  ... is_hisp_derived is_other_derived  \\\n",
       "0  1/21/2011 12:00:00 AM  ...            True            False   \n",
       "1  5/16/2011 12:00:00 AM  ...           False            False   \n",
       "2  1/12/2011 12:00:00 AM  ...           False            False   \n",
       "3  4/12/2011 12:00:00 AM  ...           False            False   \n",
       "4  7/29/2011 12:00:00 AM  ...           False            False   \n",
       "\n",
       "  is_defendant_male   FN_judge Gender_judge is_judge_male is_changed_offense  \\\n",
       "0             False  Catherine       female         False              False   \n",
       "1              True      James         male          True              False   \n",
       "2              True     Sharon       female         False               True   \n",
       "3             False      Maura       female         False               True   \n",
       "4              True      James         male          True              False   \n",
       "\n",
       "  arrest_year is_covid Livability  \n",
       "0        2010    False         64  \n",
       "1        2010    False         64  \n",
       "2        2010    False         64  \n",
       "3        2010    False         64  \n",
       "4        2010    False         64  \n",
       "\n",
       "[5 rows x 53 columns]"
      ]
     },
     "execution_count": 18,
     "metadata": {},
     "output_type": "execute_result"
    }
   ],
   "source": [
    "new_df_con['Livability'] = [62, 51, 60, 56, 58, 64, 58, 56, 66, 55, 54, 57, 63, 68,63, 73, 73, 55, 76, 76, 67, 69]\n",
    "### Merge these two dataframes together\n",
    "df1 = pd.merge(df1,\n",
    "        new_df_con[['Livability','LAW_ENFORCEMENT_UNIT']],\n",
    "        how='inner',\n",
    "        on='LAW_ENFORCEMENT_UNIT')\n",
    "df1.head()"
   ]
  },
  {
   "cell_type": "markdown",
   "id": "2246d725",
   "metadata": {},
   "source": [
    "### Add Arrest police station history record index\n",
    "In detailed, it refers to the proportion of different police station history record number"
   ]
  },
  {
   "cell_type": "code",
   "execution_count": 19,
   "id": "3eed4204",
   "metadata": {},
   "outputs": [],
   "source": [
    "new_df_con['his_prop'] = new_df_con.COUNT / new_df_con.COUNT.sum()"
   ]
  },
  {
   "cell_type": "code",
   "execution_count": 20,
   "id": "28460b89",
   "metadata": {},
   "outputs": [
    {
     "data": {
      "text/html": [
       "<div>\n",
       "<style scoped>\n",
       "    .dataframe tbody tr th:only-of-type {\n",
       "        vertical-align: middle;\n",
       "    }\n",
       "\n",
       "    .dataframe tbody tr th {\n",
       "        vertical-align: top;\n",
       "    }\n",
       "\n",
       "    .dataframe thead th {\n",
       "        text-align: right;\n",
       "    }\n",
       "</style>\n",
       "<table border=\"1\" class=\"dataframe\">\n",
       "  <thead>\n",
       "    <tr style=\"text-align: right;\">\n",
       "      <th></th>\n",
       "      <th>CASE_ID</th>\n",
       "      <th>CASE_PARTICIPANT_ID</th>\n",
       "      <th>RECEIVED_DATE</th>\n",
       "      <th>OFFENSE_CATEGORY</th>\n",
       "      <th>PRIMARY_CHARGE_FLAG</th>\n",
       "      <th>CHARGE_ID</th>\n",
       "      <th>CHARGE_VERSION_ID</th>\n",
       "      <th>DISPOSITION_CHARGED_OFFENSE_TITLE</th>\n",
       "      <th>CHARGE_COUNT</th>\n",
       "      <th>DISPOSITION_DATE</th>\n",
       "      <th>...</th>\n",
       "      <th>is_other_derived</th>\n",
       "      <th>is_defendant_male</th>\n",
       "      <th>FN_judge</th>\n",
       "      <th>Gender_judge</th>\n",
       "      <th>is_judge_male</th>\n",
       "      <th>is_changed_offense</th>\n",
       "      <th>arrest_year</th>\n",
       "      <th>is_covid</th>\n",
       "      <th>Livability</th>\n",
       "      <th>his_prop</th>\n",
       "    </tr>\n",
       "  </thead>\n",
       "  <tbody>\n",
       "    <tr>\n",
       "      <th>0</th>\n",
       "      <td>240624757473</td>\n",
       "      <td>214083848061</td>\n",
       "      <td>2/7/2010 12:00:00 AM</td>\n",
       "      <td>PROMIS Conversion</td>\n",
       "      <td>True</td>\n",
       "      <td>190929352317</td>\n",
       "      <td>255873414267</td>\n",
       "      <td>UUW/FELONY POSS/USE WEAPON/FIREARM</td>\n",
       "      <td>1</td>\n",
       "      <td>1/21/2011 12:00:00 AM</td>\n",
       "      <td>...</td>\n",
       "      <td>False</td>\n",
       "      <td>False</td>\n",
       "      <td>Catherine</td>\n",
       "      <td>female</td>\n",
       "      <td>False</td>\n",
       "      <td>False</td>\n",
       "      <td>2010</td>\n",
       "      <td>False</td>\n",
       "      <td>64</td>\n",
       "      <td>0.058098</td>\n",
       "    </tr>\n",
       "    <tr>\n",
       "      <th>1</th>\n",
       "      <td>377335736568</td>\n",
       "      <td>694901143919</td>\n",
       "      <td>4/17/2010 12:00:00 AM</td>\n",
       "      <td>Sex Crimes</td>\n",
       "      <td>True</td>\n",
       "      <td>333676612023</td>\n",
       "      <td>620025653522</td>\n",
       "      <td>VIOLATION OF THE SEX OFFENDER REGISTRATION ACT</td>\n",
       "      <td>1</td>\n",
       "      <td>5/16/2011 12:00:00 AM</td>\n",
       "      <td>...</td>\n",
       "      <td>False</td>\n",
       "      <td>True</td>\n",
       "      <td>James</td>\n",
       "      <td>male</td>\n",
       "      <td>True</td>\n",
       "      <td>False</td>\n",
       "      <td>2010</td>\n",
       "      <td>False</td>\n",
       "      <td>64</td>\n",
       "      <td>0.058098</td>\n",
       "    </tr>\n",
       "    <tr>\n",
       "      <th>2</th>\n",
       "      <td>377394331582</td>\n",
       "      <td>695079507410</td>\n",
       "      <td>4/21/2010 12:00:00 AM</td>\n",
       "      <td>Narcotics</td>\n",
       "      <td>True</td>\n",
       "      <td>334341207520</td>\n",
       "      <td>621377822772</td>\n",
       "      <td>[POSSESSION OF CANNABIS WITH INTENT TO DELIVER...</td>\n",
       "      <td>1</td>\n",
       "      <td>1/12/2011 12:00:00 AM</td>\n",
       "      <td>...</td>\n",
       "      <td>False</td>\n",
       "      <td>True</td>\n",
       "      <td>Sharon</td>\n",
       "      <td>female</td>\n",
       "      <td>False</td>\n",
       "      <td>True</td>\n",
       "      <td>2010</td>\n",
       "      <td>False</td>\n",
       "      <td>64</td>\n",
       "      <td>0.058098</td>\n",
       "    </tr>\n",
       "    <tr>\n",
       "      <th>3</th>\n",
       "      <td>377427373884</td>\n",
       "      <td>695175012095</td>\n",
       "      <td>4/8/2010 12:00:00 AM</td>\n",
       "      <td>Narcotics</td>\n",
       "      <td>True</td>\n",
       "      <td>333825227220</td>\n",
       "      <td>620352718918</td>\n",
       "      <td>[POSSESSION OF CONTROLLED SUBSTANCE WITH INTEN...</td>\n",
       "      <td>1</td>\n",
       "      <td>4/12/2011 12:00:00 AM</td>\n",
       "      <td>...</td>\n",
       "      <td>False</td>\n",
       "      <td>False</td>\n",
       "      <td>Maura</td>\n",
       "      <td>female</td>\n",
       "      <td>False</td>\n",
       "      <td>True</td>\n",
       "      <td>2010</td>\n",
       "      <td>False</td>\n",
       "      <td>64</td>\n",
       "      <td>0.058098</td>\n",
       "    </tr>\n",
       "    <tr>\n",
       "      <th>4</th>\n",
       "      <td>377478919873</td>\n",
       "      <td>695306378222</td>\n",
       "      <td>4/24/2010 12:00:00 AM</td>\n",
       "      <td>Attempt Arson</td>\n",
       "      <td>True</td>\n",
       "      <td>334053278144</td>\n",
       "      <td>620821129628</td>\n",
       "      <td>AGGRAVATED ARSON</td>\n",
       "      <td>1</td>\n",
       "      <td>7/29/2011 12:00:00 AM</td>\n",
       "      <td>...</td>\n",
       "      <td>False</td>\n",
       "      <td>True</td>\n",
       "      <td>James</td>\n",
       "      <td>male</td>\n",
       "      <td>True</td>\n",
       "      <td>False</td>\n",
       "      <td>2010</td>\n",
       "      <td>False</td>\n",
       "      <td>64</td>\n",
       "      <td>0.058098</td>\n",
       "    </tr>\n",
       "  </tbody>\n",
       "</table>\n",
       "<p>5 rows × 54 columns</p>\n",
       "</div>"
      ],
      "text/plain": [
       "        CASE_ID  CASE_PARTICIPANT_ID          RECEIVED_DATE  \\\n",
       "0  240624757473         214083848061   2/7/2010 12:00:00 AM   \n",
       "1  377335736568         694901143919  4/17/2010 12:00:00 AM   \n",
       "2  377394331582         695079507410  4/21/2010 12:00:00 AM   \n",
       "3  377427373884         695175012095   4/8/2010 12:00:00 AM   \n",
       "4  377478919873         695306378222  4/24/2010 12:00:00 AM   \n",
       "\n",
       "    OFFENSE_CATEGORY  PRIMARY_CHARGE_FLAG     CHARGE_ID  CHARGE_VERSION_ID  \\\n",
       "0  PROMIS Conversion                 True  190929352317       255873414267   \n",
       "1         Sex Crimes                 True  333676612023       620025653522   \n",
       "2          Narcotics                 True  334341207520       621377822772   \n",
       "3          Narcotics                 True  333825227220       620352718918   \n",
       "4      Attempt Arson                 True  334053278144       620821129628   \n",
       "\n",
       "                   DISPOSITION_CHARGED_OFFENSE_TITLE  CHARGE_COUNT  \\\n",
       "0                 UUW/FELONY POSS/USE WEAPON/FIREARM             1   \n",
       "1     VIOLATION OF THE SEX OFFENDER REGISTRATION ACT             1   \n",
       "2  [POSSESSION OF CANNABIS WITH INTENT TO DELIVER...             1   \n",
       "3  [POSSESSION OF CONTROLLED SUBSTANCE WITH INTEN...             1   \n",
       "4                                   AGGRAVATED ARSON             1   \n",
       "\n",
       "        DISPOSITION_DATE  ... is_other_derived is_defendant_male   FN_judge  \\\n",
       "0  1/21/2011 12:00:00 AM  ...            False             False  Catherine   \n",
       "1  5/16/2011 12:00:00 AM  ...            False              True      James   \n",
       "2  1/12/2011 12:00:00 AM  ...            False              True     Sharon   \n",
       "3  4/12/2011 12:00:00 AM  ...            False             False      Maura   \n",
       "4  7/29/2011 12:00:00 AM  ...            False              True      James   \n",
       "\n",
       "  Gender_judge is_judge_male is_changed_offense arrest_year is_covid  \\\n",
       "0       female         False              False        2010    False   \n",
       "1         male          True              False        2010    False   \n",
       "2       female         False               True        2010    False   \n",
       "3       female         False               True        2010    False   \n",
       "4         male          True              False        2010    False   \n",
       "\n",
       "  Livability  his_prop  \n",
       "0         64  0.058098  \n",
       "1         64  0.058098  \n",
       "2         64  0.058098  \n",
       "3         64  0.058098  \n",
       "4         64  0.058098  \n",
       "\n",
       "[5 rows x 54 columns]"
      ]
     },
     "execution_count": 20,
     "metadata": {},
     "output_type": "execute_result"
    }
   ],
   "source": [
    "df1 = pd.merge(df1,\n",
    "                new_df_con[['his_prop','LAW_ENFORCEMENT_UNIT']],\n",
    "                how='inner',\n",
    "                on='LAW_ENFORCEMENT_UNIT')\n",
    "df1.head()"
   ]
  },
  {
   "cell_type": "markdown",
   "id": "29fbc9d6",
   "metadata": {},
   "source": [
    "### Add senlength (unit: year) variable"
   ]
  },
  {
   "cell_type": "code",
   "execution_count": 21,
   "id": "8587de5b",
   "metadata": {},
   "outputs": [],
   "source": [
    "## Clean the data\n",
    "df1 = df1[(~df1.COMMITMENT_TERM.isna())&\\\n",
    "          (df1.COMMITMENT_UNIT.isin(['Days','Hours','Year(s)','Months','Weeks','Natural Life']))&\\\n",
    "          (~df1.AGE_AT_INCIDENT.isna())]"
   ]
  },
  {
   "cell_type": "code",
   "execution_count": 22,
   "id": "b1b2b0c5",
   "metadata": {},
   "outputs": [],
   "source": [
    "# Change the units to year\n",
    "def transition(df: pd.DataFrame):\n",
    "    df['senlength_derived'] = [float(u)\n",
    "      if v == 'Year(s)'\n",
    "      else float(float(u) / (24*365)) \n",
    "           if v == 'Hours'\n",
    "           else float(float(u)/ 365) \n",
    "                if v == 'Days'\n",
    "                else float(float(u)/ 12) \n",
    "                    if v == 'Months'\n",
    "                    else float(float(u) *7 / 365) \n",
    "                        if v == 'Weeks'\n",
    "                        else float(100-20)\n",
    "                               if (v == 'Natural Life') & (np.isnan(i))\n",
    "                               else float(100-float(i)) \n",
    "      for u,v,i in zip(df.COMMITMENT_TERM,df.COMMITMENT_UNIT,df.AGE_AT_INCIDENT)]\n",
    "    \n",
    "    return df"
   ]
  },
  {
   "cell_type": "code",
   "execution_count": 23,
   "id": "0a783274",
   "metadata": {},
   "outputs": [
    {
     "data": {
      "text/html": [
       "<div>\n",
       "<style scoped>\n",
       "    .dataframe tbody tr th:only-of-type {\n",
       "        vertical-align: middle;\n",
       "    }\n",
       "\n",
       "    .dataframe tbody tr th {\n",
       "        vertical-align: top;\n",
       "    }\n",
       "\n",
       "    .dataframe thead th {\n",
       "        text-align: right;\n",
       "    }\n",
       "</style>\n",
       "<table border=\"1\" class=\"dataframe\">\n",
       "  <thead>\n",
       "    <tr style=\"text-align: right;\">\n",
       "      <th></th>\n",
       "      <th>CASE_ID</th>\n",
       "      <th>CASE_PARTICIPANT_ID</th>\n",
       "      <th>RECEIVED_DATE</th>\n",
       "      <th>OFFENSE_CATEGORY</th>\n",
       "      <th>PRIMARY_CHARGE_FLAG</th>\n",
       "      <th>CHARGE_ID</th>\n",
       "      <th>CHARGE_VERSION_ID</th>\n",
       "      <th>DISPOSITION_CHARGED_OFFENSE_TITLE</th>\n",
       "      <th>CHARGE_COUNT</th>\n",
       "      <th>DISPOSITION_DATE</th>\n",
       "      <th>...</th>\n",
       "      <th>is_defendant_male</th>\n",
       "      <th>FN_judge</th>\n",
       "      <th>Gender_judge</th>\n",
       "      <th>is_judge_male</th>\n",
       "      <th>is_changed_offense</th>\n",
       "      <th>arrest_year</th>\n",
       "      <th>is_covid</th>\n",
       "      <th>Livability</th>\n",
       "      <th>his_prop</th>\n",
       "      <th>senlength_derived</th>\n",
       "    </tr>\n",
       "  </thead>\n",
       "  <tbody>\n",
       "    <tr>\n",
       "      <th>0</th>\n",
       "      <td>240624757473</td>\n",
       "      <td>214083848061</td>\n",
       "      <td>2/7/2010 12:00:00 AM</td>\n",
       "      <td>PROMIS Conversion</td>\n",
       "      <td>True</td>\n",
       "      <td>190929352317</td>\n",
       "      <td>255873414267</td>\n",
       "      <td>UUW/FELONY POSS/USE WEAPON/FIREARM</td>\n",
       "      <td>1</td>\n",
       "      <td>1/21/2011 12:00:00 AM</td>\n",
       "      <td>...</td>\n",
       "      <td>False</td>\n",
       "      <td>Catherine</td>\n",
       "      <td>female</td>\n",
       "      <td>False</td>\n",
       "      <td>False</td>\n",
       "      <td>2010</td>\n",
       "      <td>False</td>\n",
       "      <td>64</td>\n",
       "      <td>0.058098</td>\n",
       "      <td>2.0</td>\n",
       "    </tr>\n",
       "    <tr>\n",
       "      <th>1</th>\n",
       "      <td>377335736568</td>\n",
       "      <td>694901143919</td>\n",
       "      <td>4/17/2010 12:00:00 AM</td>\n",
       "      <td>Sex Crimes</td>\n",
       "      <td>True</td>\n",
       "      <td>333676612023</td>\n",
       "      <td>620025653522</td>\n",
       "      <td>VIOLATION OF THE SEX OFFENDER REGISTRATION ACT</td>\n",
       "      <td>1</td>\n",
       "      <td>5/16/2011 12:00:00 AM</td>\n",
       "      <td>...</td>\n",
       "      <td>True</td>\n",
       "      <td>James</td>\n",
       "      <td>male</td>\n",
       "      <td>True</td>\n",
       "      <td>False</td>\n",
       "      <td>2010</td>\n",
       "      <td>False</td>\n",
       "      <td>64</td>\n",
       "      <td>0.058098</td>\n",
       "      <td>2.0</td>\n",
       "    </tr>\n",
       "    <tr>\n",
       "      <th>2</th>\n",
       "      <td>377394331582</td>\n",
       "      <td>695079507410</td>\n",
       "      <td>4/21/2010 12:00:00 AM</td>\n",
       "      <td>Narcotics</td>\n",
       "      <td>True</td>\n",
       "      <td>334341207520</td>\n",
       "      <td>621377822772</td>\n",
       "      <td>[POSSESSION OF CANNABIS WITH INTENT TO DELIVER...</td>\n",
       "      <td>1</td>\n",
       "      <td>1/12/2011 12:00:00 AM</td>\n",
       "      <td>...</td>\n",
       "      <td>True</td>\n",
       "      <td>Sharon</td>\n",
       "      <td>female</td>\n",
       "      <td>False</td>\n",
       "      <td>True</td>\n",
       "      <td>2010</td>\n",
       "      <td>False</td>\n",
       "      <td>64</td>\n",
       "      <td>0.058098</td>\n",
       "      <td>2.0</td>\n",
       "    </tr>\n",
       "    <tr>\n",
       "      <th>3</th>\n",
       "      <td>377427373884</td>\n",
       "      <td>695175012095</td>\n",
       "      <td>4/8/2010 12:00:00 AM</td>\n",
       "      <td>Narcotics</td>\n",
       "      <td>True</td>\n",
       "      <td>333825227220</td>\n",
       "      <td>620352718918</td>\n",
       "      <td>[POSSESSION OF CONTROLLED SUBSTANCE WITH INTEN...</td>\n",
       "      <td>1</td>\n",
       "      <td>4/12/2011 12:00:00 AM</td>\n",
       "      <td>...</td>\n",
       "      <td>False</td>\n",
       "      <td>Maura</td>\n",
       "      <td>female</td>\n",
       "      <td>False</td>\n",
       "      <td>True</td>\n",
       "      <td>2010</td>\n",
       "      <td>False</td>\n",
       "      <td>64</td>\n",
       "      <td>0.058098</td>\n",
       "      <td>3.0</td>\n",
       "    </tr>\n",
       "    <tr>\n",
       "      <th>4</th>\n",
       "      <td>377478919873</td>\n",
       "      <td>695306378222</td>\n",
       "      <td>4/24/2010 12:00:00 AM</td>\n",
       "      <td>Attempt Arson</td>\n",
       "      <td>True</td>\n",
       "      <td>334053278144</td>\n",
       "      <td>620821129628</td>\n",
       "      <td>AGGRAVATED ARSON</td>\n",
       "      <td>1</td>\n",
       "      <td>7/29/2011 12:00:00 AM</td>\n",
       "      <td>...</td>\n",
       "      <td>True</td>\n",
       "      <td>James</td>\n",
       "      <td>male</td>\n",
       "      <td>True</td>\n",
       "      <td>False</td>\n",
       "      <td>2010</td>\n",
       "      <td>False</td>\n",
       "      <td>64</td>\n",
       "      <td>0.058098</td>\n",
       "      <td>15.0</td>\n",
       "    </tr>\n",
       "  </tbody>\n",
       "</table>\n",
       "<p>5 rows × 55 columns</p>\n",
       "</div>"
      ],
      "text/plain": [
       "        CASE_ID  CASE_PARTICIPANT_ID          RECEIVED_DATE  \\\n",
       "0  240624757473         214083848061   2/7/2010 12:00:00 AM   \n",
       "1  377335736568         694901143919  4/17/2010 12:00:00 AM   \n",
       "2  377394331582         695079507410  4/21/2010 12:00:00 AM   \n",
       "3  377427373884         695175012095   4/8/2010 12:00:00 AM   \n",
       "4  377478919873         695306378222  4/24/2010 12:00:00 AM   \n",
       "\n",
       "    OFFENSE_CATEGORY  PRIMARY_CHARGE_FLAG     CHARGE_ID  CHARGE_VERSION_ID  \\\n",
       "0  PROMIS Conversion                 True  190929352317       255873414267   \n",
       "1         Sex Crimes                 True  333676612023       620025653522   \n",
       "2          Narcotics                 True  334341207520       621377822772   \n",
       "3          Narcotics                 True  333825227220       620352718918   \n",
       "4      Attempt Arson                 True  334053278144       620821129628   \n",
       "\n",
       "                   DISPOSITION_CHARGED_OFFENSE_TITLE  CHARGE_COUNT  \\\n",
       "0                 UUW/FELONY POSS/USE WEAPON/FIREARM             1   \n",
       "1     VIOLATION OF THE SEX OFFENDER REGISTRATION ACT             1   \n",
       "2  [POSSESSION OF CANNABIS WITH INTENT TO DELIVER...             1   \n",
       "3  [POSSESSION OF CONTROLLED SUBSTANCE WITH INTEN...             1   \n",
       "4                                   AGGRAVATED ARSON             1   \n",
       "\n",
       "        DISPOSITION_DATE  ... is_defendant_male   FN_judge Gender_judge  \\\n",
       "0  1/21/2011 12:00:00 AM  ...             False  Catherine       female   \n",
       "1  5/16/2011 12:00:00 AM  ...              True      James         male   \n",
       "2  1/12/2011 12:00:00 AM  ...              True     Sharon       female   \n",
       "3  4/12/2011 12:00:00 AM  ...             False      Maura       female   \n",
       "4  7/29/2011 12:00:00 AM  ...              True      James         male   \n",
       "\n",
       "  is_judge_male is_changed_offense arrest_year is_covid Livability  his_prop  \\\n",
       "0         False              False        2010    False         64  0.058098   \n",
       "1          True              False        2010    False         64  0.058098   \n",
       "2         False               True        2010    False         64  0.058098   \n",
       "3         False               True        2010    False         64  0.058098   \n",
       "4          True              False        2010    False         64  0.058098   \n",
       "\n",
       "  senlength_derived  \n",
       "0               2.0  \n",
       "1               2.0  \n",
       "2               2.0  \n",
       "3               3.0  \n",
       "4              15.0  \n",
       "\n",
       "[5 rows x 55 columns]"
      ]
     },
     "execution_count": 23,
     "metadata": {},
     "output_type": "execute_result"
    }
   ],
   "source": [
    "df1 = transition(df = df1)\n",
    "df1.head()"
   ]
  },
  {
   "cell_type": "code",
   "execution_count": 24,
   "id": "ed6d40e6",
   "metadata": {},
   "outputs": [],
   "source": [
    "## Clean the abnormal value\n",
    "df1.senlength_derived.describe()\n",
    "## Select 100 as maximum sentence length\n",
    "df1 = df1[df1.senlength_derived < 100]"
   ]
  },
  {
   "cell_type": "markdown",
   "id": "1d80ba36",
   "metadata": {},
   "source": [
    "### Add Incar variable\n",
    "We regarded the defendant whose COMMITMENT_TYPE is Illinois Department of Corrections as incarceration."
   ]
  },
  {
   "cell_type": "code",
   "execution_count": 25,
   "id": "662d8739",
   "metadata": {},
   "outputs": [
    {
     "data": {
      "text/plain": [
       "Illinois Department of Corrections       25979\n",
       "Probation                                15924\n",
       "710/410 Probation                         3312\n",
       "Cook County Department of Corrections     1566\n",
       "Intensive Probation Services              1072\n",
       "Name: COMMITMENT_TYPE, dtype: int64"
      ]
     },
     "execution_count": 25,
     "metadata": {},
     "output_type": "execute_result"
    }
   ],
   "source": [
    "df1.COMMITMENT_TYPE.value_counts().head(5)"
   ]
  },
  {
   "cell_type": "code",
   "execution_count": 26,
   "id": "13ccddcf",
   "metadata": {},
   "outputs": [
    {
     "data": {
      "text/html": [
       "<div>\n",
       "<style scoped>\n",
       "    .dataframe tbody tr th:only-of-type {\n",
       "        vertical-align: middle;\n",
       "    }\n",
       "\n",
       "    .dataframe tbody tr th {\n",
       "        vertical-align: top;\n",
       "    }\n",
       "\n",
       "    .dataframe thead th {\n",
       "        text-align: right;\n",
       "    }\n",
       "</style>\n",
       "<table border=\"1\" class=\"dataframe\">\n",
       "  <thead>\n",
       "    <tr style=\"text-align: right;\">\n",
       "      <th></th>\n",
       "      <th>CASE_ID</th>\n",
       "      <th>CASE_PARTICIPANT_ID</th>\n",
       "      <th>RECEIVED_DATE</th>\n",
       "      <th>OFFENSE_CATEGORY</th>\n",
       "      <th>PRIMARY_CHARGE_FLAG</th>\n",
       "      <th>CHARGE_ID</th>\n",
       "      <th>CHARGE_VERSION_ID</th>\n",
       "      <th>DISPOSITION_CHARGED_OFFENSE_TITLE</th>\n",
       "      <th>CHARGE_COUNT</th>\n",
       "      <th>DISPOSITION_DATE</th>\n",
       "      <th>...</th>\n",
       "      <th>FN_judge</th>\n",
       "      <th>Gender_judge</th>\n",
       "      <th>is_judge_male</th>\n",
       "      <th>is_changed_offense</th>\n",
       "      <th>arrest_year</th>\n",
       "      <th>is_covid</th>\n",
       "      <th>Livability</th>\n",
       "      <th>his_prop</th>\n",
       "      <th>senlength_derived</th>\n",
       "      <th>Incar</th>\n",
       "    </tr>\n",
       "  </thead>\n",
       "  <tbody>\n",
       "    <tr>\n",
       "      <th>0</th>\n",
       "      <td>240624757473</td>\n",
       "      <td>214083848061</td>\n",
       "      <td>2/7/2010 12:00:00 AM</td>\n",
       "      <td>PROMIS Conversion</td>\n",
       "      <td>True</td>\n",
       "      <td>190929352317</td>\n",
       "      <td>255873414267</td>\n",
       "      <td>UUW/FELONY POSS/USE WEAPON/FIREARM</td>\n",
       "      <td>1</td>\n",
       "      <td>1/21/2011 12:00:00 AM</td>\n",
       "      <td>...</td>\n",
       "      <td>Catherine</td>\n",
       "      <td>female</td>\n",
       "      <td>False</td>\n",
       "      <td>False</td>\n",
       "      <td>2010</td>\n",
       "      <td>False</td>\n",
       "      <td>64</td>\n",
       "      <td>0.058098</td>\n",
       "      <td>2.0</td>\n",
       "      <td>False</td>\n",
       "    </tr>\n",
       "    <tr>\n",
       "      <th>1</th>\n",
       "      <td>377335736568</td>\n",
       "      <td>694901143919</td>\n",
       "      <td>4/17/2010 12:00:00 AM</td>\n",
       "      <td>Sex Crimes</td>\n",
       "      <td>True</td>\n",
       "      <td>333676612023</td>\n",
       "      <td>620025653522</td>\n",
       "      <td>VIOLATION OF THE SEX OFFENDER REGISTRATION ACT</td>\n",
       "      <td>1</td>\n",
       "      <td>5/16/2011 12:00:00 AM</td>\n",
       "      <td>...</td>\n",
       "      <td>James</td>\n",
       "      <td>male</td>\n",
       "      <td>True</td>\n",
       "      <td>False</td>\n",
       "      <td>2010</td>\n",
       "      <td>False</td>\n",
       "      <td>64</td>\n",
       "      <td>0.058098</td>\n",
       "      <td>2.0</td>\n",
       "      <td>True</td>\n",
       "    </tr>\n",
       "    <tr>\n",
       "      <th>2</th>\n",
       "      <td>377394331582</td>\n",
       "      <td>695079507410</td>\n",
       "      <td>4/21/2010 12:00:00 AM</td>\n",
       "      <td>Narcotics</td>\n",
       "      <td>True</td>\n",
       "      <td>334341207520</td>\n",
       "      <td>621377822772</td>\n",
       "      <td>[POSSESSION OF CANNABIS WITH INTENT TO DELIVER...</td>\n",
       "      <td>1</td>\n",
       "      <td>1/12/2011 12:00:00 AM</td>\n",
       "      <td>...</td>\n",
       "      <td>Sharon</td>\n",
       "      <td>female</td>\n",
       "      <td>False</td>\n",
       "      <td>True</td>\n",
       "      <td>2010</td>\n",
       "      <td>False</td>\n",
       "      <td>64</td>\n",
       "      <td>0.058098</td>\n",
       "      <td>2.0</td>\n",
       "      <td>False</td>\n",
       "    </tr>\n",
       "    <tr>\n",
       "      <th>3</th>\n",
       "      <td>377427373884</td>\n",
       "      <td>695175012095</td>\n",
       "      <td>4/8/2010 12:00:00 AM</td>\n",
       "      <td>Narcotics</td>\n",
       "      <td>True</td>\n",
       "      <td>333825227220</td>\n",
       "      <td>620352718918</td>\n",
       "      <td>[POSSESSION OF CONTROLLED SUBSTANCE WITH INTEN...</td>\n",
       "      <td>1</td>\n",
       "      <td>4/12/2011 12:00:00 AM</td>\n",
       "      <td>...</td>\n",
       "      <td>Maura</td>\n",
       "      <td>female</td>\n",
       "      <td>False</td>\n",
       "      <td>True</td>\n",
       "      <td>2010</td>\n",
       "      <td>False</td>\n",
       "      <td>64</td>\n",
       "      <td>0.058098</td>\n",
       "      <td>3.0</td>\n",
       "      <td>True</td>\n",
       "    </tr>\n",
       "    <tr>\n",
       "      <th>4</th>\n",
       "      <td>377478919873</td>\n",
       "      <td>695306378222</td>\n",
       "      <td>4/24/2010 12:00:00 AM</td>\n",
       "      <td>Attempt Arson</td>\n",
       "      <td>True</td>\n",
       "      <td>334053278144</td>\n",
       "      <td>620821129628</td>\n",
       "      <td>AGGRAVATED ARSON</td>\n",
       "      <td>1</td>\n",
       "      <td>7/29/2011 12:00:00 AM</td>\n",
       "      <td>...</td>\n",
       "      <td>James</td>\n",
       "      <td>male</td>\n",
       "      <td>True</td>\n",
       "      <td>False</td>\n",
       "      <td>2010</td>\n",
       "      <td>False</td>\n",
       "      <td>64</td>\n",
       "      <td>0.058098</td>\n",
       "      <td>15.0</td>\n",
       "      <td>True</td>\n",
       "    </tr>\n",
       "  </tbody>\n",
       "</table>\n",
       "<p>5 rows × 56 columns</p>\n",
       "</div>"
      ],
      "text/plain": [
       "        CASE_ID  CASE_PARTICIPANT_ID          RECEIVED_DATE  \\\n",
       "0  240624757473         214083848061   2/7/2010 12:00:00 AM   \n",
       "1  377335736568         694901143919  4/17/2010 12:00:00 AM   \n",
       "2  377394331582         695079507410  4/21/2010 12:00:00 AM   \n",
       "3  377427373884         695175012095   4/8/2010 12:00:00 AM   \n",
       "4  377478919873         695306378222  4/24/2010 12:00:00 AM   \n",
       "\n",
       "    OFFENSE_CATEGORY  PRIMARY_CHARGE_FLAG     CHARGE_ID  CHARGE_VERSION_ID  \\\n",
       "0  PROMIS Conversion                 True  190929352317       255873414267   \n",
       "1         Sex Crimes                 True  333676612023       620025653522   \n",
       "2          Narcotics                 True  334341207520       621377822772   \n",
       "3          Narcotics                 True  333825227220       620352718918   \n",
       "4      Attempt Arson                 True  334053278144       620821129628   \n",
       "\n",
       "                   DISPOSITION_CHARGED_OFFENSE_TITLE  CHARGE_COUNT  \\\n",
       "0                 UUW/FELONY POSS/USE WEAPON/FIREARM             1   \n",
       "1     VIOLATION OF THE SEX OFFENDER REGISTRATION ACT             1   \n",
       "2  [POSSESSION OF CANNABIS WITH INTENT TO DELIVER...             1   \n",
       "3  [POSSESSION OF CONTROLLED SUBSTANCE WITH INTEN...             1   \n",
       "4                                   AGGRAVATED ARSON             1   \n",
       "\n",
       "        DISPOSITION_DATE  ...   FN_judge Gender_judge is_judge_male  \\\n",
       "0  1/21/2011 12:00:00 AM  ...  Catherine       female         False   \n",
       "1  5/16/2011 12:00:00 AM  ...      James         male          True   \n",
       "2  1/12/2011 12:00:00 AM  ...     Sharon       female         False   \n",
       "3  4/12/2011 12:00:00 AM  ...      Maura       female         False   \n",
       "4  7/29/2011 12:00:00 AM  ...      James         male          True   \n",
       "\n",
       "  is_changed_offense arrest_year is_covid Livability  his_prop  \\\n",
       "0              False        2010    False         64  0.058098   \n",
       "1              False        2010    False         64  0.058098   \n",
       "2               True        2010    False         64  0.058098   \n",
       "3               True        2010    False         64  0.058098   \n",
       "4              False        2010    False         64  0.058098   \n",
       "\n",
       "  senlength_derived  Incar  \n",
       "0               2.0  False  \n",
       "1               2.0   True  \n",
       "2               2.0  False  \n",
       "3               3.0   True  \n",
       "4              15.0   True  \n",
       "\n",
       "[5 rows x 56 columns]"
      ]
     },
     "execution_count": 26,
     "metadata": {},
     "output_type": "execute_result"
    }
   ],
   "source": [
    "df1['Incar'] = np.where(df1.COMMITMENT_TYPE == 'Illinois Department of Corrections', True , False)\n",
    "df1.head()"
   ]
  },
  {
   "cell_type": "markdown",
   "id": "ca71dfc7",
   "metadata": {},
   "source": [
    "## Create a new df to research our prediction model\n",
    "### We also selected 3 existing variables from the data set to research, including CHARGE_COUNT, DISPOSITION_CHARGED_CLASS and AGE_AT_INCIDENT."
   ]
  },
  {
   "cell_type": "code",
   "execution_count": 27,
   "id": "587464d6",
   "metadata": {},
   "outputs": [
    {
     "data": {
      "text/html": [
       "<div>\n",
       "<style scoped>\n",
       "    .dataframe tbody tr th:only-of-type {\n",
       "        vertical-align: middle;\n",
       "    }\n",
       "\n",
       "    .dataframe tbody tr th {\n",
       "        vertical-align: top;\n",
       "    }\n",
       "\n",
       "    .dataframe thead th {\n",
       "        text-align: right;\n",
       "    }\n",
       "</style>\n",
       "<table border=\"1\" class=\"dataframe\">\n",
       "  <thead>\n",
       "    <tr style=\"text-align: right;\">\n",
       "      <th></th>\n",
       "      <th>CHARGE_COUNT</th>\n",
       "      <th>AGE_AT_INCIDENT</th>\n",
       "      <th>is_changed_offense</th>\n",
       "      <th>is_black_derived</th>\n",
       "      <th>is_hisp_derived</th>\n",
       "      <th>is_other_derived</th>\n",
       "      <th>is_white_derived</th>\n",
       "      <th>is_defendant_male</th>\n",
       "      <th>is_judge_male</th>\n",
       "      <th>is_covid</th>\n",
       "      <th>Livability</th>\n",
       "      <th>his_prop</th>\n",
       "      <th>senlength_derived</th>\n",
       "      <th>Incar</th>\n",
       "      <th>DISPOSITION_CHARGED_CLASS</th>\n",
       "    </tr>\n",
       "  </thead>\n",
       "  <tbody>\n",
       "    <tr>\n",
       "      <th>0</th>\n",
       "      <td>1</td>\n",
       "      <td>26.0</td>\n",
       "      <td>False</td>\n",
       "      <td>False</td>\n",
       "      <td>True</td>\n",
       "      <td>False</td>\n",
       "      <td>False</td>\n",
       "      <td>False</td>\n",
       "      <td>False</td>\n",
       "      <td>False</td>\n",
       "      <td>64</td>\n",
       "      <td>0.058098</td>\n",
       "      <td>2.0</td>\n",
       "      <td>False</td>\n",
       "      <td>2</td>\n",
       "    </tr>\n",
       "    <tr>\n",
       "      <th>1</th>\n",
       "      <td>1</td>\n",
       "      <td>55.0</td>\n",
       "      <td>False</td>\n",
       "      <td>True</td>\n",
       "      <td>False</td>\n",
       "      <td>False</td>\n",
       "      <td>False</td>\n",
       "      <td>True</td>\n",
       "      <td>True</td>\n",
       "      <td>False</td>\n",
       "      <td>64</td>\n",
       "      <td>0.058098</td>\n",
       "      <td>2.0</td>\n",
       "      <td>True</td>\n",
       "      <td>3</td>\n",
       "    </tr>\n",
       "    <tr>\n",
       "      <th>2</th>\n",
       "      <td>1</td>\n",
       "      <td>27.0</td>\n",
       "      <td>True</td>\n",
       "      <td>True</td>\n",
       "      <td>False</td>\n",
       "      <td>False</td>\n",
       "      <td>False</td>\n",
       "      <td>True</td>\n",
       "      <td>False</td>\n",
       "      <td>False</td>\n",
       "      <td>64</td>\n",
       "      <td>0.058098</td>\n",
       "      <td>2.0</td>\n",
       "      <td>False</td>\n",
       "      <td>3</td>\n",
       "    </tr>\n",
       "    <tr>\n",
       "      <th>3</th>\n",
       "      <td>1</td>\n",
       "      <td>52.0</td>\n",
       "      <td>True</td>\n",
       "      <td>True</td>\n",
       "      <td>False</td>\n",
       "      <td>False</td>\n",
       "      <td>False</td>\n",
       "      <td>False</td>\n",
       "      <td>False</td>\n",
       "      <td>False</td>\n",
       "      <td>64</td>\n",
       "      <td>0.058098</td>\n",
       "      <td>3.0</td>\n",
       "      <td>True</td>\n",
       "      <td>1</td>\n",
       "    </tr>\n",
       "    <tr>\n",
       "      <th>4</th>\n",
       "      <td>1</td>\n",
       "      <td>55.0</td>\n",
       "      <td>False</td>\n",
       "      <td>True</td>\n",
       "      <td>False</td>\n",
       "      <td>False</td>\n",
       "      <td>False</td>\n",
       "      <td>True</td>\n",
       "      <td>True</td>\n",
       "      <td>False</td>\n",
       "      <td>64</td>\n",
       "      <td>0.058098</td>\n",
       "      <td>15.0</td>\n",
       "      <td>True</td>\n",
       "      <td>X</td>\n",
       "    </tr>\n",
       "  </tbody>\n",
       "</table>\n",
       "</div>"
      ],
      "text/plain": [
       "   CHARGE_COUNT  AGE_AT_INCIDENT  is_changed_offense  is_black_derived  \\\n",
       "0             1             26.0               False             False   \n",
       "1             1             55.0               False              True   \n",
       "2             1             27.0                True              True   \n",
       "3             1             52.0                True              True   \n",
       "4             1             55.0               False              True   \n",
       "\n",
       "   is_hisp_derived  is_other_derived  is_white_derived  is_defendant_male  \\\n",
       "0             True             False             False              False   \n",
       "1            False             False             False               True   \n",
       "2            False             False             False               True   \n",
       "3            False             False             False              False   \n",
       "4            False             False             False               True   \n",
       "\n",
       "   is_judge_male  is_covid  Livability  his_prop  senlength_derived  Incar  \\\n",
       "0          False     False          64  0.058098                2.0  False   \n",
       "1           True     False          64  0.058098                2.0   True   \n",
       "2          False     False          64  0.058098                2.0  False   \n",
       "3          False     False          64  0.058098                3.0   True   \n",
       "4           True     False          64  0.058098               15.0   True   \n",
       "\n",
       "  DISPOSITION_CHARGED_CLASS  \n",
       "0                         2  \n",
       "1                         3  \n",
       "2                         3  \n",
       "3                         1  \n",
       "4                         X  "
      ]
     },
     "execution_count": 27,
     "metadata": {},
     "output_type": "execute_result"
    }
   ],
   "source": [
    "new_df = df1[['CHARGE_COUNT', 'AGE_AT_INCIDENT',\\\n",
    "             'is_changed_offense','is_black_derived','is_hisp_derived','is_other_derived',\\\n",
    "             'is_white_derived','is_defendant_male','is_judge_male',\\\n",
    "            'is_covid','Livability','his_prop','senlength_derived','Incar','DISPOSITION_CHARGED_CLASS']]\n",
    "new_df = new_df[(~new_df.CHARGE_COUNT.isna()) &\n",
    "               (new_df.DISPOSITION_CHARGED_CLASS.isin(['1','2','3','4','X','M']))&\n",
    "               (~new_df.AGE_AT_INCIDENT.isna())]\n",
    "new_df.head()"
   ]
  },
  {
   "cell_type": "code",
   "execution_count": 28,
   "id": "3aea5ef5",
   "metadata": {},
   "outputs": [],
   "source": [
    "## Write a function to tranfer bool type to binary variables\n",
    "def tran(a):\n",
    "    new_df[a] = (new_df[a]==True).astype(int)\n",
    "    return new_df"
   ]
  },
  {
   "cell_type": "code",
   "execution_count": 29,
   "id": "a2597023",
   "metadata": {},
   "outputs": [
    {
     "data": {
      "text/html": [
       "<div>\n",
       "<style scoped>\n",
       "    .dataframe tbody tr th:only-of-type {\n",
       "        vertical-align: middle;\n",
       "    }\n",
       "\n",
       "    .dataframe tbody tr th {\n",
       "        vertical-align: top;\n",
       "    }\n",
       "\n",
       "    .dataframe thead th {\n",
       "        text-align: right;\n",
       "    }\n",
       "</style>\n",
       "<table border=\"1\" class=\"dataframe\">\n",
       "  <thead>\n",
       "    <tr style=\"text-align: right;\">\n",
       "      <th></th>\n",
       "      <th>CHARGE_COUNT</th>\n",
       "      <th>AGE_AT_INCIDENT</th>\n",
       "      <th>is_changed_offense</th>\n",
       "      <th>is_black_derived</th>\n",
       "      <th>is_hisp_derived</th>\n",
       "      <th>is_other_derived</th>\n",
       "      <th>is_white_derived</th>\n",
       "      <th>is_defendant_male</th>\n",
       "      <th>is_judge_male</th>\n",
       "      <th>is_covid</th>\n",
       "      <th>Livability</th>\n",
       "      <th>his_prop</th>\n",
       "      <th>senlength_derived</th>\n",
       "      <th>Incar</th>\n",
       "      <th>DISPOSITION_CHARGED_CLASS</th>\n",
       "    </tr>\n",
       "  </thead>\n",
       "  <tbody>\n",
       "    <tr>\n",
       "      <th>0</th>\n",
       "      <td>1</td>\n",
       "      <td>26.0</td>\n",
       "      <td>0</td>\n",
       "      <td>0</td>\n",
       "      <td>1</td>\n",
       "      <td>0</td>\n",
       "      <td>0</td>\n",
       "      <td>0</td>\n",
       "      <td>0</td>\n",
       "      <td>0</td>\n",
       "      <td>64</td>\n",
       "      <td>0.058098</td>\n",
       "      <td>2.0</td>\n",
       "      <td>0</td>\n",
       "      <td>2</td>\n",
       "    </tr>\n",
       "    <tr>\n",
       "      <th>1</th>\n",
       "      <td>1</td>\n",
       "      <td>55.0</td>\n",
       "      <td>0</td>\n",
       "      <td>1</td>\n",
       "      <td>0</td>\n",
       "      <td>0</td>\n",
       "      <td>0</td>\n",
       "      <td>1</td>\n",
       "      <td>1</td>\n",
       "      <td>0</td>\n",
       "      <td>64</td>\n",
       "      <td>0.058098</td>\n",
       "      <td>2.0</td>\n",
       "      <td>1</td>\n",
       "      <td>3</td>\n",
       "    </tr>\n",
       "    <tr>\n",
       "      <th>2</th>\n",
       "      <td>1</td>\n",
       "      <td>27.0</td>\n",
       "      <td>1</td>\n",
       "      <td>1</td>\n",
       "      <td>0</td>\n",
       "      <td>0</td>\n",
       "      <td>0</td>\n",
       "      <td>1</td>\n",
       "      <td>0</td>\n",
       "      <td>0</td>\n",
       "      <td>64</td>\n",
       "      <td>0.058098</td>\n",
       "      <td>2.0</td>\n",
       "      <td>0</td>\n",
       "      <td>3</td>\n",
       "    </tr>\n",
       "    <tr>\n",
       "      <th>3</th>\n",
       "      <td>1</td>\n",
       "      <td>52.0</td>\n",
       "      <td>1</td>\n",
       "      <td>1</td>\n",
       "      <td>0</td>\n",
       "      <td>0</td>\n",
       "      <td>0</td>\n",
       "      <td>0</td>\n",
       "      <td>0</td>\n",
       "      <td>0</td>\n",
       "      <td>64</td>\n",
       "      <td>0.058098</td>\n",
       "      <td>3.0</td>\n",
       "      <td>1</td>\n",
       "      <td>1</td>\n",
       "    </tr>\n",
       "    <tr>\n",
       "      <th>4</th>\n",
       "      <td>1</td>\n",
       "      <td>55.0</td>\n",
       "      <td>0</td>\n",
       "      <td>1</td>\n",
       "      <td>0</td>\n",
       "      <td>0</td>\n",
       "      <td>0</td>\n",
       "      <td>1</td>\n",
       "      <td>1</td>\n",
       "      <td>0</td>\n",
       "      <td>64</td>\n",
       "      <td>0.058098</td>\n",
       "      <td>15.0</td>\n",
       "      <td>1</td>\n",
       "      <td>X</td>\n",
       "    </tr>\n",
       "  </tbody>\n",
       "</table>\n",
       "</div>"
      ],
      "text/plain": [
       "   CHARGE_COUNT  AGE_AT_INCIDENT  is_changed_offense  is_black_derived  \\\n",
       "0             1             26.0                   0                 0   \n",
       "1             1             55.0                   0                 1   \n",
       "2             1             27.0                   1                 1   \n",
       "3             1             52.0                   1                 1   \n",
       "4             1             55.0                   0                 1   \n",
       "\n",
       "   is_hisp_derived  is_other_derived  is_white_derived  is_defendant_male  \\\n",
       "0                1                 0                 0                  0   \n",
       "1                0                 0                 0                  1   \n",
       "2                0                 0                 0                  1   \n",
       "3                0                 0                 0                  0   \n",
       "4                0                 0                 0                  1   \n",
       "\n",
       "   is_judge_male  is_covid  Livability  his_prop  senlength_derived  Incar  \\\n",
       "0              0         0          64  0.058098                2.0      0   \n",
       "1              1         0          64  0.058098                2.0      1   \n",
       "2              0         0          64  0.058098                2.0      0   \n",
       "3              0         0          64  0.058098                3.0      1   \n",
       "4              1         0          64  0.058098               15.0      1   \n",
       "\n",
       "  DISPOSITION_CHARGED_CLASS  \n",
       "0                         2  \n",
       "1                         3  \n",
       "2                         3  \n",
       "3                         1  \n",
       "4                         X  "
      ]
     },
     "execution_count": 29,
     "metadata": {},
     "output_type": "execute_result"
    }
   ],
   "source": [
    "### Excuate the function\n",
    "for i in ['is_changed_offense','is_black_derived','is_hisp_derived', 'is_other_derived',\\\n",
    "         'is_white_derived','is_defendant_male','is_judge_male', 'is_covid','Incar']:\n",
    "    new_df = tran(i)\n",
    "    \n",
    "new_df.head()"
   ]
  },
  {
   "cell_type": "code",
   "execution_count": 30,
   "id": "97282404",
   "metadata": {},
   "outputs": [
    {
     "data": {
      "text/html": [
       "<div>\n",
       "<style scoped>\n",
       "    .dataframe tbody tr th:only-of-type {\n",
       "        vertical-align: middle;\n",
       "    }\n",
       "\n",
       "    .dataframe tbody tr th {\n",
       "        vertical-align: top;\n",
       "    }\n",
       "\n",
       "    .dataframe thead th {\n",
       "        text-align: right;\n",
       "    }\n",
       "</style>\n",
       "<table border=\"1\" class=\"dataframe\">\n",
       "  <thead>\n",
       "    <tr style=\"text-align: right;\">\n",
       "      <th></th>\n",
       "      <th>CHARGE_COUNT</th>\n",
       "      <th>AGE_AT_INCIDENT</th>\n",
       "      <th>is_changed_offense</th>\n",
       "      <th>is_black_derived</th>\n",
       "      <th>is_hisp_derived</th>\n",
       "      <th>is_other_derived</th>\n",
       "      <th>is_white_derived</th>\n",
       "      <th>is_defendant_male</th>\n",
       "      <th>is_judge_male</th>\n",
       "      <th>is_covid</th>\n",
       "      <th>Livability</th>\n",
       "      <th>his_prop</th>\n",
       "      <th>senlength_derived</th>\n",
       "      <th>Incar</th>\n",
       "      <th>DISPOSITION_CHARGED_CLASS</th>\n",
       "    </tr>\n",
       "  </thead>\n",
       "  <tbody>\n",
       "    <tr>\n",
       "      <th>0</th>\n",
       "      <td>1</td>\n",
       "      <td>26.0</td>\n",
       "      <td>0</td>\n",
       "      <td>0</td>\n",
       "      <td>1</td>\n",
       "      <td>0</td>\n",
       "      <td>0</td>\n",
       "      <td>0</td>\n",
       "      <td>0</td>\n",
       "      <td>0</td>\n",
       "      <td>64</td>\n",
       "      <td>0.058098</td>\n",
       "      <td>2.0</td>\n",
       "      <td>0</td>\n",
       "      <td>3</td>\n",
       "    </tr>\n",
       "    <tr>\n",
       "      <th>1</th>\n",
       "      <td>1</td>\n",
       "      <td>55.0</td>\n",
       "      <td>0</td>\n",
       "      <td>1</td>\n",
       "      <td>0</td>\n",
       "      <td>0</td>\n",
       "      <td>0</td>\n",
       "      <td>1</td>\n",
       "      <td>1</td>\n",
       "      <td>0</td>\n",
       "      <td>64</td>\n",
       "      <td>0.058098</td>\n",
       "      <td>2.0</td>\n",
       "      <td>1</td>\n",
       "      <td>2</td>\n",
       "    </tr>\n",
       "    <tr>\n",
       "      <th>2</th>\n",
       "      <td>1</td>\n",
       "      <td>27.0</td>\n",
       "      <td>1</td>\n",
       "      <td>1</td>\n",
       "      <td>0</td>\n",
       "      <td>0</td>\n",
       "      <td>0</td>\n",
       "      <td>1</td>\n",
       "      <td>0</td>\n",
       "      <td>0</td>\n",
       "      <td>64</td>\n",
       "      <td>0.058098</td>\n",
       "      <td>2.0</td>\n",
       "      <td>0</td>\n",
       "      <td>2</td>\n",
       "    </tr>\n",
       "    <tr>\n",
       "      <th>3</th>\n",
       "      <td>1</td>\n",
       "      <td>52.0</td>\n",
       "      <td>1</td>\n",
       "      <td>1</td>\n",
       "      <td>0</td>\n",
       "      <td>0</td>\n",
       "      <td>0</td>\n",
       "      <td>0</td>\n",
       "      <td>0</td>\n",
       "      <td>0</td>\n",
       "      <td>64</td>\n",
       "      <td>0.058098</td>\n",
       "      <td>3.0</td>\n",
       "      <td>1</td>\n",
       "      <td>4</td>\n",
       "    </tr>\n",
       "    <tr>\n",
       "      <th>4</th>\n",
       "      <td>1</td>\n",
       "      <td>55.0</td>\n",
       "      <td>0</td>\n",
       "      <td>1</td>\n",
       "      <td>0</td>\n",
       "      <td>0</td>\n",
       "      <td>0</td>\n",
       "      <td>1</td>\n",
       "      <td>1</td>\n",
       "      <td>0</td>\n",
       "      <td>64</td>\n",
       "      <td>0.058098</td>\n",
       "      <td>15.0</td>\n",
       "      <td>1</td>\n",
       "      <td>5</td>\n",
       "    </tr>\n",
       "  </tbody>\n",
       "</table>\n",
       "</div>"
      ],
      "text/plain": [
       "   CHARGE_COUNT  AGE_AT_INCIDENT  is_changed_offense  is_black_derived  \\\n",
       "0             1             26.0                   0                 0   \n",
       "1             1             55.0                   0                 1   \n",
       "2             1             27.0                   1                 1   \n",
       "3             1             52.0                   1                 1   \n",
       "4             1             55.0                   0                 1   \n",
       "\n",
       "   is_hisp_derived  is_other_derived  is_white_derived  is_defendant_male  \\\n",
       "0                1                 0                 0                  0   \n",
       "1                0                 0                 0                  1   \n",
       "2                0                 0                 0                  1   \n",
       "3                0                 0                 0                  0   \n",
       "4                0                 0                 0                  1   \n",
       "\n",
       "   is_judge_male  is_covid  Livability  his_prop  senlength_derived  Incar  \\\n",
       "0              0         0          64  0.058098                2.0      0   \n",
       "1              1         0          64  0.058098                2.0      1   \n",
       "2              0         0          64  0.058098                2.0      0   \n",
       "3              0         0          64  0.058098                3.0      1   \n",
       "4              1         0          64  0.058098               15.0      1   \n",
       "\n",
       "   DISPOSITION_CHARGED_CLASS  \n",
       "0                          3  \n",
       "1                          2  \n",
       "2                          2  \n",
       "3                          4  \n",
       "4                          5  "
      ]
     },
     "execution_count": 30,
     "metadata": {},
     "output_type": "execute_result"
    }
   ],
   "source": [
    "### Transfer the DISPOSITION_CHARGED_CLASS according to their order of severity from 1-6\n",
    "species_dict={\n",
    "    '4': 1,\n",
    "    '3': 2,\n",
    "    '2': 3,\n",
    "    '1': 4,\n",
    "    'X' : 5,\n",
    "    'M' :6\n",
    "}\n",
    "new_df['DISPOSITION_CHARGED_CLASS'] = new_df.DISPOSITION_CHARGED_CLASS\t.map(species_dict)\n",
    "new_df.head()"
   ]
  },
  {
   "cell_type": "code",
   "execution_count": 31,
   "id": "fd77ed3b",
   "metadata": {},
   "outputs": [
    {
     "data": {
      "text/html": [
       "<div>\n",
       "<style scoped>\n",
       "    .dataframe tbody tr th:only-of-type {\n",
       "        vertical-align: middle;\n",
       "    }\n",
       "\n",
       "    .dataframe tbody tr th {\n",
       "        vertical-align: top;\n",
       "    }\n",
       "\n",
       "    .dataframe thead th {\n",
       "        text-align: right;\n",
       "    }\n",
       "</style>\n",
       "<table border=\"1\" class=\"dataframe\">\n",
       "  <thead>\n",
       "    <tr style=\"text-align: right;\">\n",
       "      <th></th>\n",
       "      <th>CHARGE_COUNT</th>\n",
       "      <th>AGE_AT_INCIDENT</th>\n",
       "      <th>is_changed_offense</th>\n",
       "      <th>is_black_derived</th>\n",
       "      <th>is_hisp_derived</th>\n",
       "      <th>is_other_derived</th>\n",
       "      <th>is_white_derived</th>\n",
       "      <th>is_defendant_male</th>\n",
       "      <th>is_judge_male</th>\n",
       "      <th>is_covid</th>\n",
       "      <th>Livability</th>\n",
       "      <th>his_prop</th>\n",
       "      <th>senlength_derived</th>\n",
       "      <th>Incar</th>\n",
       "      <th>DISPOSITION_CHARGED_CLASS</th>\n",
       "    </tr>\n",
       "  </thead>\n",
       "  <tbody>\n",
       "    <tr>\n",
       "      <th>count</th>\n",
       "      <td>47295.000000</td>\n",
       "      <td>47295.000000</td>\n",
       "      <td>47295.000000</td>\n",
       "      <td>47295.000000</td>\n",
       "      <td>47295.000000</td>\n",
       "      <td>47295.000000</td>\n",
       "      <td>47295.000000</td>\n",
       "      <td>47295.000000</td>\n",
       "      <td>47295.000000</td>\n",
       "      <td>47295.000000</td>\n",
       "      <td>47295.000000</td>\n",
       "      <td>47295.000000</td>\n",
       "      <td>47295.000000</td>\n",
       "      <td>47295.000000</td>\n",
       "      <td>47295.000000</td>\n",
       "    </tr>\n",
       "    <tr>\n",
       "      <th>mean</th>\n",
       "      <td>1.073602</td>\n",
       "      <td>33.352257</td>\n",
       "      <td>0.956486</td>\n",
       "      <td>0.792938</td>\n",
       "      <td>0.002410</td>\n",
       "      <td>0.136949</td>\n",
       "      <td>0.067703</td>\n",
       "      <td>0.890010</td>\n",
       "      <td>0.724897</td>\n",
       "      <td>0.002326</td>\n",
       "      <td>60.234253</td>\n",
       "      <td>0.105304</td>\n",
       "      <td>2.626266</td>\n",
       "      <td>0.548134</td>\n",
       "      <td>1.841632</td>\n",
       "    </tr>\n",
       "    <tr>\n",
       "      <th>std</th>\n",
       "      <td>0.602163</td>\n",
       "      <td>12.218837</td>\n",
       "      <td>0.204014</td>\n",
       "      <td>0.405205</td>\n",
       "      <td>0.049037</td>\n",
       "      <td>0.343797</td>\n",
       "      <td>0.251238</td>\n",
       "      <td>0.312881</td>\n",
       "      <td>0.446571</td>\n",
       "      <td>0.048171</td>\n",
       "      <td>5.465972</td>\n",
       "      <td>0.093344</td>\n",
       "      <td>3.013689</td>\n",
       "      <td>0.497683</td>\n",
       "      <td>1.218885</td>\n",
       "    </tr>\n",
       "    <tr>\n",
       "      <th>min</th>\n",
       "      <td>1.000000</td>\n",
       "      <td>17.000000</td>\n",
       "      <td>0.000000</td>\n",
       "      <td>0.000000</td>\n",
       "      <td>0.000000</td>\n",
       "      <td>0.000000</td>\n",
       "      <td>0.000000</td>\n",
       "      <td>0.000000</td>\n",
       "      <td>0.000000</td>\n",
       "      <td>0.000000</td>\n",
       "      <td>51.000000</td>\n",
       "      <td>0.002723</td>\n",
       "      <td>0.000000</td>\n",
       "      <td>0.000000</td>\n",
       "      <td>1.000000</td>\n",
       "    </tr>\n",
       "    <tr>\n",
       "      <th>25%</th>\n",
       "      <td>1.000000</td>\n",
       "      <td>23.000000</td>\n",
       "      <td>1.000000</td>\n",
       "      <td>1.000000</td>\n",
       "      <td>0.000000</td>\n",
       "      <td>0.000000</td>\n",
       "      <td>0.000000</td>\n",
       "      <td>1.000000</td>\n",
       "      <td>0.000000</td>\n",
       "      <td>0.000000</td>\n",
       "      <td>56.000000</td>\n",
       "      <td>0.038162</td>\n",
       "      <td>1.500000</td>\n",
       "      <td>0.000000</td>\n",
       "      <td>1.000000</td>\n",
       "    </tr>\n",
       "    <tr>\n",
       "      <th>50%</th>\n",
       "      <td>1.000000</td>\n",
       "      <td>30.000000</td>\n",
       "      <td>1.000000</td>\n",
       "      <td>1.000000</td>\n",
       "      <td>0.000000</td>\n",
       "      <td>0.000000</td>\n",
       "      <td>0.000000</td>\n",
       "      <td>1.000000</td>\n",
       "      <td>1.000000</td>\n",
       "      <td>0.000000</td>\n",
       "      <td>60.000000</td>\n",
       "      <td>0.058584</td>\n",
       "      <td>2.000000</td>\n",
       "      <td>1.000000</td>\n",
       "      <td>1.000000</td>\n",
       "    </tr>\n",
       "    <tr>\n",
       "      <th>75%</th>\n",
       "      <td>1.000000</td>\n",
       "      <td>43.000000</td>\n",
       "      <td>1.000000</td>\n",
       "      <td>1.000000</td>\n",
       "      <td>0.000000</td>\n",
       "      <td>0.000000</td>\n",
       "      <td>0.000000</td>\n",
       "      <td>1.000000</td>\n",
       "      <td>1.000000</td>\n",
       "      <td>0.000000</td>\n",
       "      <td>62.000000</td>\n",
       "      <td>0.257308</td>\n",
       "      <td>2.500000</td>\n",
       "      <td>1.000000</td>\n",
       "      <td>3.000000</td>\n",
       "    </tr>\n",
       "    <tr>\n",
       "      <th>max</th>\n",
       "      <td>36.000000</td>\n",
       "      <td>124.000000</td>\n",
       "      <td>1.000000</td>\n",
       "      <td>1.000000</td>\n",
       "      <td>1.000000</td>\n",
       "      <td>1.000000</td>\n",
       "      <td>1.000000</td>\n",
       "      <td>1.000000</td>\n",
       "      <td>1.000000</td>\n",
       "      <td>1.000000</td>\n",
       "      <td>76.000000</td>\n",
       "      <td>0.257308</td>\n",
       "      <td>82.000000</td>\n",
       "      <td>1.000000</td>\n",
       "      <td>6.000000</td>\n",
       "    </tr>\n",
       "  </tbody>\n",
       "</table>\n",
       "</div>"
      ],
      "text/plain": [
       "       CHARGE_COUNT  AGE_AT_INCIDENT  is_changed_offense  is_black_derived  \\\n",
       "count  47295.000000     47295.000000        47295.000000      47295.000000   \n",
       "mean       1.073602        33.352257            0.956486          0.792938   \n",
       "std        0.602163        12.218837            0.204014          0.405205   \n",
       "min        1.000000        17.000000            0.000000          0.000000   \n",
       "25%        1.000000        23.000000            1.000000          1.000000   \n",
       "50%        1.000000        30.000000            1.000000          1.000000   \n",
       "75%        1.000000        43.000000            1.000000          1.000000   \n",
       "max       36.000000       124.000000            1.000000          1.000000   \n",
       "\n",
       "       is_hisp_derived  is_other_derived  is_white_derived  is_defendant_male  \\\n",
       "count     47295.000000      47295.000000      47295.000000       47295.000000   \n",
       "mean          0.002410          0.136949          0.067703           0.890010   \n",
       "std           0.049037          0.343797          0.251238           0.312881   \n",
       "min           0.000000          0.000000          0.000000           0.000000   \n",
       "25%           0.000000          0.000000          0.000000           1.000000   \n",
       "50%           0.000000          0.000000          0.000000           1.000000   \n",
       "75%           0.000000          0.000000          0.000000           1.000000   \n",
       "max           1.000000          1.000000          1.000000           1.000000   \n",
       "\n",
       "       is_judge_male      is_covid    Livability      his_prop  \\\n",
       "count   47295.000000  47295.000000  47295.000000  47295.000000   \n",
       "mean        0.724897      0.002326     60.234253      0.105304   \n",
       "std         0.446571      0.048171      5.465972      0.093344   \n",
       "min         0.000000      0.000000     51.000000      0.002723   \n",
       "25%         0.000000      0.000000     56.000000      0.038162   \n",
       "50%         1.000000      0.000000     60.000000      0.058584   \n",
       "75%         1.000000      0.000000     62.000000      0.257308   \n",
       "max         1.000000      1.000000     76.000000      0.257308   \n",
       "\n",
       "       senlength_derived         Incar  DISPOSITION_CHARGED_CLASS  \n",
       "count       47295.000000  47295.000000               47295.000000  \n",
       "mean            2.626266      0.548134                   1.841632  \n",
       "std             3.013689      0.497683                   1.218885  \n",
       "min             0.000000      0.000000                   1.000000  \n",
       "25%             1.500000      0.000000                   1.000000  \n",
       "50%             2.000000      1.000000                   1.000000  \n",
       "75%             2.500000      1.000000                   3.000000  \n",
       "max            82.000000      1.000000                   6.000000  "
      ]
     },
     "execution_count": 31,
     "metadata": {},
     "output_type": "execute_result"
    }
   ],
   "source": [
    "new_df.describe()"
   ]
  },
  {
   "cell_type": "code",
   "execution_count": 182,
   "id": "097a1245",
   "metadata": {},
   "outputs": [
    {
     "data": {
      "text/plain": [
       "1    29578\n",
       "3     7250\n",
       "4     5110\n",
       "2     3845\n",
       "5     1430\n",
       "6       82\n",
       "Name: DISPOSITION_CHARGED_CLASS, dtype: int64"
      ]
     },
     "execution_count": 182,
     "metadata": {},
     "output_type": "execute_result"
    }
   ],
   "source": [
    "new_df.DISPOSITION_CHARGED_CLASS.value_counts()"
   ]
  },
  {
   "cell_type": "markdown",
   "id": "873a0a8c",
   "metadata": {},
   "source": [
    "## Descriptive analysis\n",
    "### CHARGE_COUNT"
   ]
  },
  {
   "cell_type": "code",
   "execution_count": 179,
   "id": "60558acf",
   "metadata": {},
   "outputs": [
    {
     "data": {
      "image/png": "[encoded data removed]",
      "text/plain": [
       "<Figure size 640x480 with 1 Axes>"
      ]
     },
     "metadata": {},
     "output_type": "display_data"
    },
    {
     "data": {
      "text/plain": [
       "<ggplot: (8765133152473)>"
      ]
     },
     "execution_count": 179,
     "metadata": {},
     "output_type": "execute_result"
    }
   ],
   "source": [
    "import plotnine\n",
    "from plotnine import *\n",
    "new_df_cc = new_df.groupby('DISPOSITION_CHARGED_CLASS').agg(Mean = ('CHARGE_COUNT','mean')).reset_index()\n",
    "ggplot(new_df_cc, aes(x='DISPOSITION_CHARGED_CLASS',y='Mean')) +\\\n",
    "geom_col() +\\\n",
    "labs(title = 'Relationship between charged class and mean charge count',\\\n",
    "     x = 'Charged class', y = 'Mean charged count')+\\\n",
    "scale_x_continuous(breaks=(1,2,3,4,5,6))+\\\n",
    "theme_bw()"
   ]
  },
  {
   "cell_type": "markdown",
   "id": "c67c91d3",
   "metadata": {},
   "source": [
    "### AGE_AT_INCIDENT"
   ]
  },
  {
   "cell_type": "code",
   "execution_count": 160,
   "id": "36cebc7a",
   "metadata": {},
   "outputs": [
    {
     "data": {
      "image/png": "[encoded data removed]",
      "text/plain": [
       "<Figure size 640x480 with 1 Axes>"
      ]
     },
     "metadata": {},
     "output_type": "display_data"
    },
    {
     "data": {
      "text/plain": [
       "<ggplot: (8765124100714)>"
      ]
     },
     "execution_count": 160,
     "metadata": {},
     "output_type": "execute_result"
    }
   ],
   "source": [
    "new_df_aai = new_df.groupby('DISPOSITION_CHARGED_CLASS').agg(Mean = ('AGE_AT_INCIDENT','mean')).reset_index()\n",
    "ggplot(new_df_aai, aes(x='DISPOSITION_CHARGED_CLASS',y='Mean')) +\\\n",
    "geom_col() +\\\n",
    "labs(title = 'Relationship between charged class and mean age',\\\n",
    "     x = 'Charged class', y = 'Mean age')+\\\n",
    "scale_x_continuous(breaks=(1,2,3,4,5,6))+\\\n",
    "theme_bw()"
   ]
  },
  {
   "cell_type": "markdown",
   "id": "5c36ca4c",
   "metadata": {},
   "source": [
    "### is_changed_offense"
   ]
  },
  {
   "cell_type": "code",
   "execution_count": 162,
   "id": "7b33054b",
   "metadata": {},
   "outputs": [
    {
     "data": {
      "image/png": "[encoded data removed]",
      "text/plain": [
       "<Figure size 640x480 with 1 Axes>"
      ]
     },
     "metadata": {},
     "output_type": "display_data"
    },
    {
     "data": {
      "text/plain": [
       "<ggplot: (8765133768677)>"
      ]
     },
     "execution_count": 162,
     "metadata": {},
     "output_type": "execute_result"
    }
   ],
   "source": [
    "new_df_ico = new_df.groupby('is_changed_offense').agg(Mean = ('DISPOSITION_CHARGED_CLASS','mean')).reset_index()\n",
    "ggplot(new_df_ico, aes(x='is_changed_offense',y='Mean')) +\\\n",
    "geom_col() +\\\n",
    "labs(title = 'Relationship between is_changed_offense and mean charged class',\\\n",
    "     x = 'is_changed offense', y = 'Mean charged class')+\\\n",
    "scale_x_continuous(breaks=(0,1))+\\\n",
    "theme_bw()"
   ]
  },
  {
   "cell_type": "markdown",
   "id": "1da7b316",
   "metadata": {},
   "source": [
    "### is_black_derived\t\t\t"
   ]
  },
  {
   "cell_type": "code",
   "execution_count": 163,
   "id": "7e134aa6",
   "metadata": {},
   "outputs": [
    {
     "data": {
      "image/png": "[encoded data removed]",
      "text/plain": [
       "<Figure size 640x480 with 1 Axes>"
      ]
     },
     "metadata": {},
     "output_type": "display_data"
    },
    {
     "data": {
      "text/plain": [
       "<ggplot: (8765142599533)>"
      ]
     },
     "execution_count": 163,
     "metadata": {},
     "output_type": "execute_result"
    }
   ],
   "source": [
    "new_df_ibd = new_df.groupby('is_black_derived').agg(Mean = ('DISPOSITION_CHARGED_CLASS','mean')).reset_index()\n",
    "ggplot(new_df_ibd, aes(x='is_black_derived',y='Mean')) +\\\n",
    "geom_col() +\\\n",
    "labs(title = 'Relationship between black people and mean charged class',\\\n",
    "     x = 'Black', y = 'Mean charged class')+\\\n",
    "scale_x_continuous(breaks=(0,1))+\\\n",
    "theme_bw()"
   ]
  },
  {
   "cell_type": "markdown",
   "id": "80f52577",
   "metadata": {},
   "source": [
    "### is_hisp_derived"
   ]
  },
  {
   "cell_type": "code",
   "execution_count": 164,
   "id": "d6c732ae",
   "metadata": {},
   "outputs": [
    {
     "data": {
      "image/png": "[encoded data removed]",
      "text/plain": [
       "<Figure size 640x480 with 1 Axes>"
      ]
     },
     "metadata": {},
     "output_type": "display_data"
    },
    {
     "data": {
      "text/plain": [
       "<ggplot: (8765133752763)>"
      ]
     },
     "execution_count": 164,
     "metadata": {},
     "output_type": "execute_result"
    }
   ],
   "source": [
    "new_df_ihd = new_df.groupby('is_hisp_derived').agg(Mean = ('DISPOSITION_CHARGED_CLASS','mean')).reset_index()\n",
    "ggplot(new_df_ihd, aes(x='is_hisp_derived',y='Mean')) +\\\n",
    "geom_col() +\\\n",
    "labs(title = 'Relationship between hispanic people and mean charged class',\\\n",
    "     x = 'Hispanic', y = 'Mean charged class')+\\\n",
    "scale_x_continuous(breaks=(0,1))+\\\n",
    "theme_bw()"
   ]
  },
  {
   "cell_type": "markdown",
   "id": "bc460c60",
   "metadata": {},
   "source": [
    "### is_other_derived"
   ]
  },
  {
   "cell_type": "code",
   "execution_count": 165,
   "id": "a9b6c680",
   "metadata": {},
   "outputs": [
    {
     "data": {
      "image/png": "[encoded data removed]",
      "text/plain": [
       "<Figure size 640x480 with 1 Axes>"
      ]
     },
     "metadata": {},
     "output_type": "display_data"
    },
    {
     "data": {
      "text/plain": [
       "<ggplot: (8765124280513)>"
      ]
     },
     "execution_count": 165,
     "metadata": {},
     "output_type": "execute_result"
    }
   ],
   "source": [
    "new_df_iod = new_df.groupby('is_other_derived').agg(Mean = ('DISPOSITION_CHARGED_CLASS','mean')).reset_index()\n",
    "ggplot(new_df_iod, aes(x='is_other_derived',y='Mean')) +\\\n",
    "geom_col() +\\\n",
    "labs(title = 'Relationship between other race people and mean charged class',\\\n",
    "     x = 'Other', y = 'Mean charged class')+\\\n",
    "scale_x_continuous(breaks=(0,1))+\\\n",
    "theme_bw()"
   ]
  },
  {
   "cell_type": "markdown",
   "id": "e16dfe7b",
   "metadata": {},
   "source": [
    "### is_white_derived"
   ]
  },
  {
   "cell_type": "code",
   "execution_count": 166,
   "id": "2a2eab3c",
   "metadata": {},
   "outputs": [
    {
     "data": {
      "image/png": "[encoded data removed]",
      "text/plain": [
       "<Figure size 640x480 with 1 Axes>"
      ]
     },
     "metadata": {},
     "output_type": "display_data"
    },
    {
     "data": {
      "text/plain": [
       "<ggplot: (8765142650456)>"
      ]
     },
     "execution_count": 166,
     "metadata": {},
     "output_type": "execute_result"
    }
   ],
   "source": [
    "new_df_iwd = new_df.groupby('is_white_derived').agg(Mean = ('DISPOSITION_CHARGED_CLASS','mean')).reset_index()\n",
    "ggplot(new_df_iwd, aes(x='is_white_derived',y='Mean')) +\\\n",
    "geom_col() +\\\n",
    "labs(title = 'Relationship between white people and mean charged class',\\\n",
    "     x = 'White', y = 'Mean charged class')+\\\n",
    "scale_x_continuous(breaks=(0,1))+\\\n",
    "theme_bw()"
   ]
  },
  {
   "cell_type": "markdown",
   "id": "dc4f258f",
   "metadata": {},
   "source": [
    "### is_defendant_male\t\t\t\t\t\t"
   ]
  },
  {
   "cell_type": "code",
   "execution_count": 167,
   "id": "cc17782c",
   "metadata": {},
   "outputs": [
    {
     "data": {
      "image/png": "[encoded data removed]",
      "text/plain": [
       "<Figure size 640x480 with 1 Axes>"
      ]
     },
     "metadata": {},
     "output_type": "display_data"
    },
    {
     "data": {
      "text/plain": [
       "<ggplot: (8765155906341)>"
      ]
     },
     "execution_count": 167,
     "metadata": {},
     "output_type": "execute_result"
    }
   ],
   "source": [
    "new_df_idm = new_df.groupby('is_defendant_male').agg(Mean = ('DISPOSITION_CHARGED_CLASS','mean')).reset_index()\n",
    "ggplot(new_df_idm, aes(x='is_defendant_male',y='Mean')) +\\\n",
    "geom_col() +\\\n",
    "labs(title = 'Relationship between defendant gender and mean charged class',\\\n",
    "     x = 'Defendant gender(Male)', y = 'Mean charged class')+\\\n",
    "scale_x_continuous(breaks=(0,1))+\\\n",
    "theme_bw()"
   ]
  },
  {
   "cell_type": "markdown",
   "id": "c482ef83",
   "metadata": {},
   "source": [
    "### is_judge_male"
   ]
  },
  {
   "cell_type": "code",
   "execution_count": 168,
   "id": "8e3d2aa2",
   "metadata": {},
   "outputs": [
    {
     "data": {
      "image/png": "[encoded data removed]",
      "text/plain": [
       "<Figure size 640x480 with 1 Axes>"
      ]
     },
     "metadata": {},
     "output_type": "display_data"
    },
    {
     "data": {
      "text/plain": [
       "<ggplot: (8765133744978)>"
      ]
     },
     "execution_count": 168,
     "metadata": {},
     "output_type": "execute_result"
    }
   ],
   "source": [
    "new_df_ijm = new_df.groupby('is_judge_male').agg(Mean = ('DISPOSITION_CHARGED_CLASS','mean')).reset_index()\n",
    "ggplot(new_df_ijm, aes(x='is_judge_male',y='Mean')) +\\\n",
    "geom_col() +\\\n",
    "labs(title = 'Relationship between judge genders and mean charged class',\\\n",
    "     x = 'Judge gender(Male)', y = 'Mean charged class')+\\\n",
    "scale_x_continuous(breaks=(0,1))+\\\n",
    "theme_bw()"
   ]
  },
  {
   "cell_type": "markdown",
   "id": "0a4ec9c2",
   "metadata": {},
   "source": [
    "### is_covid"
   ]
  },
  {
   "cell_type": "code",
   "execution_count": 169,
   "id": "27f312c6",
   "metadata": {},
   "outputs": [
    {
     "data": {
      "image/png": "[encoded data removed]",
      "text/plain": [
       "<Figure size 640x480 with 1 Axes>"
      ]
     },
     "metadata": {},
     "output_type": "display_data"
    },
    {
     "data": {
      "text/plain": [
       "<ggplot: (8765131889529)>"
      ]
     },
     "execution_count": 169,
     "metadata": {},
     "output_type": "execute_result"
    }
   ],
   "source": [
    "new_df_ic = new_df.groupby('is_covid').agg(Mean = ('DISPOSITION_CHARGED_CLASS','mean')).reset_index()\n",
    "ggplot(new_df_ic, aes(x='is_covid',y='Mean')) +\\\n",
    "geom_col() +\\\n",
    "labs(title = 'Relationship between COVID-19 and mean charged class',\\\n",
    "     x = 'COVID-19', y = 'Mean charged class')+\\\n",
    "scale_x_continuous(breaks=(0,1))+\\\n",
    "theme_bw()"
   ]
  },
  {
   "cell_type": "markdown",
   "id": "32d20e0b",
   "metadata": {},
   "source": [
    "### Livability"
   ]
  },
  {
   "cell_type": "code",
   "execution_count": 170,
   "id": "4ab0ddd8",
   "metadata": {},
   "outputs": [
    {
     "data": {
      "image/png": "[encoded data removed]",
      "text/plain": [
       "<Figure size 640x480 with 1 Axes>"
      ]
     },
     "metadata": {},
     "output_type": "display_data"
    },
    {
     "data": {
      "text/plain": [
       "<ggplot: (8765133744996)>"
      ]
     },
     "execution_count": 170,
     "metadata": {},
     "output_type": "execute_result"
    }
   ],
   "source": [
    "new_df_l = new_df.groupby('DISPOSITION_CHARGED_CLASS').agg(Mean = ('Livability','mean')).reset_index()\n",
    "ggplot(new_df_l, aes(x='DISPOSITION_CHARGED_CLASS',y='Mean')) +\\\n",
    "geom_col() +\\\n",
    "labs(title = 'Relationship between charged class and mean livability',\\\n",
    "     x = 'Charged class', y = 'Mean livability')+\\\n",
    "scale_x_continuous(breaks=(1,2,3,4,5,6))+\\\n",
    "theme_bw()"
   ]
  },
  {
   "cell_type": "markdown",
   "id": "31bd4b49",
   "metadata": {},
   "source": [
    "### his_prop"
   ]
  },
  {
   "cell_type": "code",
   "execution_count": 171,
   "id": "9c28a769",
   "metadata": {},
   "outputs": [
    {
     "data": {
      "image/png": "[encoded data removed]",
      "text/plain": [
       "<Figure size 640x480 with 1 Axes>"
      ]
     },
     "metadata": {},
     "output_type": "display_data"
    },
    {
     "data": {
      "text/plain": [
       "<ggplot: (8765124100690)>"
      ]
     },
     "execution_count": 171,
     "metadata": {},
     "output_type": "execute_result"
    }
   ],
   "source": [
    "new_df_hp = new_df.groupby('DISPOSITION_CHARGED_CLASS').agg(Mean = ('his_prop','mean')).reset_index()\n",
    "ggplot(new_df_hp, aes(x='DISPOSITION_CHARGED_CLASS',y='Mean')) +\\\n",
    "geom_col() +\\\n",
    "labs(title = 'Relationship between charged class and mean history proportion of different police stations',\\\n",
    "     x = 'Charged class', y = 'Mean history proportion')+\\\n",
    "scale_x_continuous(breaks=(1,2,3,4,5,6))+\\\n",
    "theme_bw()"
   ]
  },
  {
   "cell_type": "markdown",
   "id": "1afcf9ff",
   "metadata": {},
   "source": [
    "### senlength_derived"
   ]
  },
  {
   "cell_type": "code",
   "execution_count": 172,
   "id": "a04d6e41",
   "metadata": {},
   "outputs": [
    {
     "data": {
      "image/png": "[encoded data removed]",
      "text/plain": [
       "<Figure size 640x480 with 1 Axes>"
      ]
     },
     "metadata": {},
     "output_type": "display_data"
    },
    {
     "data": {
      "text/plain": [
       "<ggplot: (8765131862504)>"
      ]
     },
     "execution_count": 172,
     "metadata": {},
     "output_type": "execute_result"
    }
   ],
   "source": [
    "new_df_sd = new_df.groupby('DISPOSITION_CHARGED_CLASS').agg(Mean = ('senlength_derived','mean')).reset_index()\n",
    "ggplot(new_df_sd, aes(x='DISPOSITION_CHARGED_CLASS',y='Mean')) +\\\n",
    "geom_col() +\\\n",
    "labs(title = 'Relationship between charged class and mean sentence length',\\\n",
    "     x = 'Charged class', y = 'Mean sentence length')+\\\n",
    "scale_x_continuous(breaks=(1,2,3,4,5,6))+\\\n",
    "theme_bw()"
   ]
  },
  {
   "cell_type": "markdown",
   "id": "b956399f",
   "metadata": {},
   "source": [
    "### Incar"
   ]
  },
  {
   "cell_type": "code",
   "execution_count": 183,
   "id": "8845af2b",
   "metadata": {},
   "outputs": [
    {
     "data": {
      "image/png": "[encoded data removed]",
      "text/plain": [
       "<Figure size 640x480 with 1 Axes>"
      ]
     },
     "metadata": {},
     "output_type": "display_data"
    },
    {
     "data": {
      "text/plain": [
       "<ggplot: (8765125976324)>"
      ]
     },
     "execution_count": 183,
     "metadata": {},
     "output_type": "execute_result"
    }
   ],
   "source": [
    "new_df_i = new_df.groupby('Incar').agg(Mean = ('DISPOSITION_CHARGED_CLASS','mean')).reset_index()\n",
    "ggplot(new_df_i, aes(x='Incar',y='Mean')) +\\\n",
    "geom_col() +\\\n",
    "labs(title = 'Relationship between incarceration and mean charged class',\\\n",
    "     x = 'Incar', y = 'Mean charged class')+\\\n",
    "scale_x_continuous(breaks=(0,1))+\\\n",
    "theme_bw()"
   ]
  },
  {
   "cell_type": "markdown",
   "id": "1b141e4a",
   "metadata": {},
   "source": [
    "## Linear Regression Model Results\n",
    "### We choose linear regression model to do regression"
   ]
  },
  {
   "cell_type": "code",
   "execution_count": 69,
   "id": "108e42c3",
   "metadata": {},
   "outputs": [],
   "source": [
    "## Get y_variable\n",
    "y = pd.DataFrame(new_df.DISPOSITION_CHARGED_CLASS)\n",
    "## Get X variable\n",
    "X = pd.DataFrame(new_df.drop(['DISPOSITION_CHARGED_CLASS'], axis = 1))"
   ]
  },
  {
   "cell_type": "code",
   "execution_count": 70,
   "id": "8669cad1",
   "metadata": {},
   "outputs": [
    {
     "name": "stdout",
     "output_type": "stream",
     "text": [
      "                                OLS Regression Results                               \n",
      "=====================================================================================\n",
      "Dep. Variable:     DISPOSITION_CHARGED_CLASS   R-squared:                       0.267\n",
      "Model:                                   OLS   Adj. R-squared:                  0.267\n",
      "Method:                        Least Squares   F-statistic:                     1328.\n",
      "Date:                       Tue, 29 Nov 2022   Prob (F-statistic):               0.00\n",
      "Time:                               18:05:20   Log-Likelihood:                -69110.\n",
      "No. Observations:                      47295   AIC:                         1.382e+05\n",
      "Df Residuals:                          47281   BIC:                         1.384e+05\n",
      "Df Model:                                 13                                         \n",
      "Covariance Type:                   nonrobust                                         \n",
      "======================================================================================\n",
      "                         coef    std err          t      P>|t|      [0.025      0.975]\n",
      "--------------------------------------------------------------------------------------\n",
      "const                  1.5474      0.057     27.113      0.000       1.436       1.659\n",
      "CHARGE_COUNT          -0.0696      0.008     -8.723      0.000      -0.085      -0.054\n",
      "AGE_AT_INCIDENT       -0.0112      0.000    -28.255      0.000      -0.012      -0.010\n",
      "is_changed_offense    -0.3809      0.024    -16.018      0.000      -0.427      -0.334\n",
      "is_black_derived       0.3858      0.024     16.323      0.000       0.339       0.432\n",
      "is_hisp_derived        0.5997      0.080      7.532      0.000       0.444       0.756\n",
      "is_other_derived       0.3341      0.026     12.752      0.000       0.283       0.385\n",
      "is_white_derived       0.2277      0.029      7.955      0.000       0.172       0.284\n",
      "is_defendant_male     -0.0116      0.016     -0.742      0.458      -0.042       0.019\n",
      "is_judge_male          0.0226      0.011      2.092      0.036       0.001       0.044\n",
      "is_covid              -0.0724      0.100     -0.727      0.468      -0.268       0.123\n",
      "Livability             0.0047      0.001      5.048      0.000       0.003       0.006\n",
      "his_prop              -0.7245      0.053    -13.554      0.000      -0.829      -0.620\n",
      "senlength_derived      0.1941      0.002    118.666      0.000       0.191       0.197\n",
      "Incar                  0.0346      0.010      3.415      0.001       0.015       0.054\n",
      "==============================================================================\n",
      "Omnibus:                     6099.224   Durbin-Watson:                   1.779\n",
      "Prob(Omnibus):                  0.000   Jarque-Bera (JB):            29849.398\n",
      "Skew:                           0.539   Prob(JB):                         0.00\n",
      "Kurtosis:                       6.740   Cond. No.                     7.39e+16\n",
      "==============================================================================\n",
      "\n",
      "Notes:\n",
      "[1] Standard Errors assume that the covariance matrix of the errors is correctly specified.\n",
      "[2] The smallest eigenvalue is 4.17e-26. This might indicate that there are\n",
      "strong multicollinearity problems or that the design matrix is singular.\n"
     ]
    }
   ],
   "source": [
    "## Add constant of X variable\n",
    "import statsmodels.api as sm\n",
    "X = sm.add_constant(X)\n",
    "\n",
    "## Train the model\n",
    "model = sm.OLS(y, X).fit()\n",
    "## See the regression results\n",
    "print(model.summary())"
   ]
  },
  {
   "cell_type": "markdown",
   "id": "755ce7d4",
   "metadata": {},
   "source": [
    "We can see is_defendant_male, is_covid have no relevant with y variable, is_judge_male has less relevant with y variable."
   ]
  },
  {
   "cell_type": "code",
   "execution_count": 71,
   "id": "3623ab76",
   "metadata": {},
   "outputs": [
    {
     "data": {
      "text/html": [
       "<div>\n",
       "<style scoped>\n",
       "    .dataframe tbody tr th:only-of-type {\n",
       "        vertical-align: middle;\n",
       "    }\n",
       "\n",
       "    .dataframe tbody tr th {\n",
       "        vertical-align: top;\n",
       "    }\n",
       "\n",
       "    .dataframe thead th {\n",
       "        text-align: right;\n",
       "    }\n",
       "</style>\n",
       "<table border=\"1\" class=\"dataframe\">\n",
       "  <thead>\n",
       "    <tr style=\"text-align: right;\">\n",
       "      <th></th>\n",
       "      <th>params</th>\n",
       "      <th>std err</th>\n",
       "      <th>t</th>\n",
       "      <th>p-values</th>\n",
       "      <th>coef_0.025</th>\n",
       "      <th>coef_0.975</th>\n",
       "    </tr>\n",
       "  </thead>\n",
       "  <tbody>\n",
       "    <tr>\n",
       "      <th>const</th>\n",
       "      <td>1.547381</td>\n",
       "      <td>0.057072</td>\n",
       "      <td>27.113</td>\n",
       "      <td>0.000</td>\n",
       "      <td>1.435518</td>\n",
       "      <td>1.659243</td>\n",
       "    </tr>\n",
       "    <tr>\n",
       "      <th>CHARGE_COUNT</th>\n",
       "      <td>-0.069650</td>\n",
       "      <td>0.007985</td>\n",
       "      <td>-8.723</td>\n",
       "      <td>0.000</td>\n",
       "      <td>-0.085300</td>\n",
       "      <td>-0.054000</td>\n",
       "    </tr>\n",
       "    <tr>\n",
       "      <th>AGE_AT_INCIDENT</th>\n",
       "      <td>-0.011211</td>\n",
       "      <td>0.000397</td>\n",
       "      <td>-28.255</td>\n",
       "      <td>0.000</td>\n",
       "      <td>-0.011989</td>\n",
       "      <td>-0.010433</td>\n",
       "    </tr>\n",
       "    <tr>\n",
       "      <th>is_changed_offense</th>\n",
       "      <td>-0.380875</td>\n",
       "      <td>0.023778</td>\n",
       "      <td>-16.018</td>\n",
       "      <td>0.000</td>\n",
       "      <td>-0.427481</td>\n",
       "      <td>-0.334269</td>\n",
       "    </tr>\n",
       "    <tr>\n",
       "      <th>is_black_derived</th>\n",
       "      <td>0.385768</td>\n",
       "      <td>0.023633</td>\n",
       "      <td>16.323</td>\n",
       "      <td>0.000</td>\n",
       "      <td>0.339447</td>\n",
       "      <td>0.432090</td>\n",
       "    </tr>\n",
       "    <tr>\n",
       "      <th>is_hisp_derived</th>\n",
       "      <td>0.599746</td>\n",
       "      <td>0.079631</td>\n",
       "      <td>7.532</td>\n",
       "      <td>0.000</td>\n",
       "      <td>0.443669</td>\n",
       "      <td>0.755824</td>\n",
       "    </tr>\n",
       "    <tr>\n",
       "      <th>is_other_derived</th>\n",
       "      <td>0.334120</td>\n",
       "      <td>0.026202</td>\n",
       "      <td>12.752</td>\n",
       "      <td>0.000</td>\n",
       "      <td>0.282763</td>\n",
       "      <td>0.385476</td>\n",
       "    </tr>\n",
       "    <tr>\n",
       "      <th>is_white_derived</th>\n",
       "      <td>0.227747</td>\n",
       "      <td>0.028628</td>\n",
       "      <td>7.955</td>\n",
       "      <td>0.000</td>\n",
       "      <td>0.171635</td>\n",
       "      <td>0.283858</td>\n",
       "    </tr>\n",
       "    <tr>\n",
       "      <th>is_defendant_male</th>\n",
       "      <td>-0.011620</td>\n",
       "      <td>0.015654</td>\n",
       "      <td>-0.742</td>\n",
       "      <td>0.458</td>\n",
       "      <td>-0.042302</td>\n",
       "      <td>0.019063</td>\n",
       "    </tr>\n",
       "    <tr>\n",
       "      <th>is_judge_male</th>\n",
       "      <td>0.022584</td>\n",
       "      <td>0.010797</td>\n",
       "      <td>2.092</td>\n",
       "      <td>0.036</td>\n",
       "      <td>0.001422</td>\n",
       "      <td>0.043746</td>\n",
       "    </tr>\n",
       "    <tr>\n",
       "      <th>is_covid</th>\n",
       "      <td>-0.072404</td>\n",
       "      <td>0.099655</td>\n",
       "      <td>-0.727</td>\n",
       "      <td>0.468</td>\n",
       "      <td>-0.267730</td>\n",
       "      <td>0.122921</td>\n",
       "    </tr>\n",
       "    <tr>\n",
       "      <th>Livability</th>\n",
       "      <td>0.004656</td>\n",
       "      <td>0.000922</td>\n",
       "      <td>5.048</td>\n",
       "      <td>0.000</td>\n",
       "      <td>0.002848</td>\n",
       "      <td>0.006463</td>\n",
       "    </tr>\n",
       "    <tr>\n",
       "      <th>his_prop</th>\n",
       "      <td>-0.724473</td>\n",
       "      <td>0.053450</td>\n",
       "      <td>-13.554</td>\n",
       "      <td>0.000</td>\n",
       "      <td>-0.829236</td>\n",
       "      <td>-0.619710</td>\n",
       "    </tr>\n",
       "    <tr>\n",
       "      <th>senlength_derived</th>\n",
       "      <td>0.194100</td>\n",
       "      <td>0.001636</td>\n",
       "      <td>118.666</td>\n",
       "      <td>0.000</td>\n",
       "      <td>0.190894</td>\n",
       "      <td>0.197306</td>\n",
       "    </tr>\n",
       "    <tr>\n",
       "      <th>Incar</th>\n",
       "      <td>0.034603</td>\n",
       "      <td>0.010132</td>\n",
       "      <td>3.415</td>\n",
       "      <td>0.001</td>\n",
       "      <td>0.014744</td>\n",
       "      <td>0.054462</td>\n",
       "    </tr>\n",
       "  </tbody>\n",
       "</table>\n",
       "</div>"
      ],
      "text/plain": [
       "                      params   std err        t  p-values  coef_0.025  \\\n",
       "const               1.547381  0.057072   27.113     0.000    1.435518   \n",
       "CHARGE_COUNT       -0.069650  0.007985   -8.723     0.000   -0.085300   \n",
       "AGE_AT_INCIDENT    -0.011211  0.000397  -28.255     0.000   -0.011989   \n",
       "is_changed_offense -0.380875  0.023778  -16.018     0.000   -0.427481   \n",
       "is_black_derived    0.385768  0.023633   16.323     0.000    0.339447   \n",
       "is_hisp_derived     0.599746  0.079631    7.532     0.000    0.443669   \n",
       "is_other_derived    0.334120  0.026202   12.752     0.000    0.282763   \n",
       "is_white_derived    0.227747  0.028628    7.955     0.000    0.171635   \n",
       "is_defendant_male  -0.011620  0.015654   -0.742     0.458   -0.042302   \n",
       "is_judge_male       0.022584  0.010797    2.092     0.036    0.001422   \n",
       "is_covid           -0.072404  0.099655   -0.727     0.468   -0.267730   \n",
       "Livability          0.004656  0.000922    5.048     0.000    0.002848   \n",
       "his_prop           -0.724473  0.053450  -13.554     0.000   -0.829236   \n",
       "senlength_derived   0.194100  0.001636  118.666     0.000    0.190894   \n",
       "Incar               0.034603  0.010132    3.415     0.001    0.014744   \n",
       "\n",
       "                    coef_0.975  \n",
       "const                 1.659243  \n",
       "CHARGE_COUNT         -0.054000  \n",
       "AGE_AT_INCIDENT      -0.010433  \n",
       "is_changed_offense   -0.334269  \n",
       "is_black_derived      0.432090  \n",
       "is_hisp_derived       0.755824  \n",
       "is_other_derived      0.385476  \n",
       "is_white_derived      0.283858  \n",
       "is_defendant_male     0.019063  \n",
       "is_judge_male         0.043746  \n",
       "is_covid              0.122921  \n",
       "Livability            0.006463  \n",
       "his_prop             -0.619710  \n",
       "senlength_derived     0.197306  \n",
       "Incar                 0.054462  "
      ]
     },
     "execution_count": 71,
     "metadata": {},
     "output_type": "execute_result"
    }
   ],
   "source": [
    "# Summary of regression coefficient table\n",
    "coef_df = pd.DataFrame({\"params\": model.params,   # Coefficient\n",
    "                        \"std err\": model.bse,     # Standard deviation of regression coefficient\n",
    "                        \"t\": round(model.tvalues,3),       # t-value\n",
    "                        \"p-values\": round(model.pvalues,3) # P-value\n",
    "                         })\n",
    "\n",
    "coef_df[['coef_0.025','coef_0.975']] = model.conf_int() # The regression coefficient confidence interval defaults to 5%\n",
    "coef_df"
   ]
  },
  {
   "cell_type": "markdown",
   "id": "7878dcde",
   "metadata": {},
   "source": [
    "## Test different models to predict which charged type the people will be sentenced"
   ]
  },
  {
   "cell_type": "code",
   "execution_count": 72,
   "id": "5fa415b5",
   "metadata": {},
   "outputs": [],
   "source": [
    "y = new_df.DISPOSITION_CHARGED_CLASS\n",
    "X = new_df.drop(['DISPOSITION_CHARGED_CLASS'], axis = 1)\n",
    "from sklearn.model_selection import train_test_split\n",
    "X_train,X_test,y_train,y_test = train_test_split(X,y,random_state=6) \n",
    "feature_list = list(X.columns)"
   ]
  },
  {
   "cell_type": "code",
   "execution_count": 73,
   "id": "fdd26896",
   "metadata": {},
   "outputs": [
    {
     "name": "stdout",
     "output_type": "stream",
     "text": [
      "Training Features Shape: (35471, 14)\n",
      "Training Labels Shape: (35471,)\n",
      "Testing Features Shape: (11824, 14)\n",
      "Testing Labels Shape: (11824,)\n"
     ]
    }
   ],
   "source": [
    "## Describe the training and test shape\n",
    "print('Training Features Shape:', X_train.shape)\n",
    "print('Training Labels Shape:', y_train.shape)\n",
    "print('Testing Features Shape:', X_test.shape)\n",
    "print('Testing Labels Shape:', y_test.shape)"
   ]
  },
  {
   "cell_type": "markdown",
   "id": "117c8a5e",
   "metadata": {},
   "source": [
    "### Logistic Regression Model"
   ]
  },
  {
   "cell_type": "code",
   "execution_count": 74,
   "id": "a9f0b73a",
   "metadata": {},
   "outputs": [
    {
     "name": "stderr",
     "output_type": "stream",
     "text": [
      "/Users/leowu/opt/anaconda3/lib/python3.9/site-packages/sklearn/linear_model/_logistic.py:814: ConvergenceWarning: lbfgs failed to converge (status=1):\n",
      "STOP: TOTAL NO. of ITERATIONS REACHED LIMIT.\n",
      "\n",
      "Increase the number of iterations (max_iter) or scale the data as shown in:\n",
      "    https://scikit-learn.org/stable/modules/preprocessing.html\n",
      "Please also refer to the documentation for alternative solver options:\n",
      "    https://scikit-learn.org/stable/modules/linear_model.html#logistic-regression\n"
     ]
    },
    {
     "data": {
      "text/plain": [
       "0.6642891376053678"
      ]
     },
     "execution_count": 74,
     "metadata": {},
     "output_type": "execute_result"
    }
   ],
   "source": [
    "## Create Logistic Regression Model\n",
    "from sklearn.linear_model import LogisticRegression \n",
    "\n",
    "log_reg = LogisticRegression()\n",
    "log_reg.fit(X_train,y_train)\n",
    "\n",
    "## Get the accuracy of train data set\n",
    "log_reg.score(X_train,y_train)"
   ]
  },
  {
   "cell_type": "code",
   "execution_count": 75,
   "id": "f4be7baf",
   "metadata": {},
   "outputs": [
    {
     "data": {
      "text/plain": [
       "0.6627198917456022"
      ]
     },
     "execution_count": 75,
     "metadata": {},
     "output_type": "execute_result"
    }
   ],
   "source": [
    "## Get the accuracy of test data set\n",
    "log_reg.score(X_test,y_test)"
   ]
  },
  {
   "cell_type": "code",
   "execution_count": 77,
   "id": "11212975",
   "metadata": {},
   "outputs": [
    {
     "data": {
      "text/plain": [
       "1.1187933547636753"
      ]
     },
     "execution_count": 77,
     "metadata": {},
     "output_type": "execute_result"
    }
   ],
   "source": [
    "## The MSE or RMSE (mean square error root) is usually used to evaluate the model\n",
    "## The smaller the value, the closer the predicted value is to the true value\n",
    "## The RMSE of train data set\n",
    "from sklearn.metrics import mean_squared_error\n",
    "from math import sqrt\n",
    "train_preds = log_reg.predict(X_train)\n",
    "mse = mean_squared_error(y_train, train_preds)\n",
    "rmse = sqrt(mse)\n",
    "rmse"
   ]
  },
  {
   "cell_type": "code",
   "execution_count": 78,
   "id": "cbd79501",
   "metadata": {},
   "outputs": [
    {
     "data": {
      "text/plain": [
       "1.1143591640104518"
      ]
     },
     "execution_count": 78,
     "metadata": {},
     "output_type": "execute_result"
    }
   ],
   "source": [
    "## The RMSE of test data set\n",
    "y_pred = log_reg.predict(X_test)\n",
    "mse = mean_squared_error(y_test, y_pred)\n",
    "rmse = sqrt(mse)\n",
    "rmse"
   ]
  },
  {
   "cell_type": "code",
   "execution_count": 84,
   "id": "db657f2c",
   "metadata": {},
   "outputs": [
    {
     "name": "stdout",
     "output_type": "stream",
     "text": [
      "              precision    recall  f1-score   support\n",
      "\n",
      "           1       0.71      0.98      0.82      7420\n",
      "           2       0.00      0.00      0.00       956\n",
      "           3       0.32      0.22      0.26      1822\n",
      "           4       0.32      0.07      0.11      1244\n",
      "           5       0.61      0.31      0.41       360\n",
      "           6       0.56      0.45      0.50        22\n",
      "\n",
      "    accuracy                           0.66     11824\n",
      "   macro avg       0.42      0.34      0.35     11824\n",
      "weighted avg       0.55      0.66      0.58     11824\n",
      "\n"
     ]
    },
    {
     "name": "stderr",
     "output_type": "stream",
     "text": [
      "/Users/leowu/opt/anaconda3/lib/python3.9/site-packages/sklearn/metrics/_classification.py:1318: UndefinedMetricWarning: Precision and F-score are ill-defined and being set to 0.0 in labels with no predicted samples. Use `zero_division` parameter to control this behavior.\n",
      "/Users/leowu/opt/anaconda3/lib/python3.9/site-packages/sklearn/metrics/_classification.py:1318: UndefinedMetricWarning: Precision and F-score are ill-defined and being set to 0.0 in labels with no predicted samples. Use `zero_division` parameter to control this behavior.\n",
      "/Users/leowu/opt/anaconda3/lib/python3.9/site-packages/sklearn/metrics/_classification.py:1318: UndefinedMetricWarning: Precision and F-score are ill-defined and being set to 0.0 in labels with no predicted samples. Use `zero_division` parameter to control this behavior.\n"
     ]
    }
   ],
   "source": [
    "from sklearn.metrics import classification_report\n",
    "from sklearn.metrics import f1_score\n",
    "print(classification_report(y_test, y_pred))"
   ]
  },
  {
   "cell_type": "code",
   "execution_count": 87,
   "id": "d08213f7",
   "metadata": {},
   "outputs": [
    {
     "data": {
      "text/html": [
       "<div>\n",
       "<style scoped>\n",
       "    .dataframe tbody tr th:only-of-type {\n",
       "        vertical-align: middle;\n",
       "    }\n",
       "\n",
       "    .dataframe tbody tr th {\n",
       "        vertical-align: top;\n",
       "    }\n",
       "\n",
       "    .dataframe thead th {\n",
       "        text-align: right;\n",
       "    }\n",
       "</style>\n",
       "<table border=\"1\" class=\"dataframe\">\n",
       "  <thead>\n",
       "    <tr style=\"text-align: right;\">\n",
       "      <th></th>\n",
       "      <th>Real</th>\n",
       "      <th>Predict</th>\n",
       "    </tr>\n",
       "  </thead>\n",
       "  <tbody>\n",
       "    <tr>\n",
       "      <th>8644</th>\n",
       "      <td>1</td>\n",
       "      <td>1</td>\n",
       "    </tr>\n",
       "    <tr>\n",
       "      <th>44774</th>\n",
       "      <td>1</td>\n",
       "      <td>1</td>\n",
       "    </tr>\n",
       "    <tr>\n",
       "      <th>19090</th>\n",
       "      <td>1</td>\n",
       "      <td>1</td>\n",
       "    </tr>\n",
       "    <tr>\n",
       "      <th>22116</th>\n",
       "      <td>1</td>\n",
       "      <td>1</td>\n",
       "    </tr>\n",
       "    <tr>\n",
       "      <th>24332</th>\n",
       "      <td>3</td>\n",
       "      <td>1</td>\n",
       "    </tr>\n",
       "    <tr>\n",
       "      <th>40613</th>\n",
       "      <td>1</td>\n",
       "      <td>1</td>\n",
       "    </tr>\n",
       "    <tr>\n",
       "      <th>39053</th>\n",
       "      <td>1</td>\n",
       "      <td>1</td>\n",
       "    </tr>\n",
       "    <tr>\n",
       "      <th>41290</th>\n",
       "      <td>1</td>\n",
       "      <td>1</td>\n",
       "    </tr>\n",
       "    <tr>\n",
       "      <th>19860</th>\n",
       "      <td>1</td>\n",
       "      <td>1</td>\n",
       "    </tr>\n",
       "    <tr>\n",
       "      <th>34609</th>\n",
       "      <td>1</td>\n",
       "      <td>1</td>\n",
       "    </tr>\n",
       "  </tbody>\n",
       "</table>\n",
       "</div>"
      ],
      "text/plain": [
       "       Real  Predict\n",
       "8644      1        1\n",
       "44774     1        1\n",
       "19090     1        1\n",
       "22116     1        1\n",
       "24332     3        1\n",
       "40613     1        1\n",
       "39053     1        1\n",
       "41290     1        1\n",
       "19860     1        1\n",
       "34609     1        1"
      ]
     },
     "execution_count": 87,
     "metadata": {},
     "output_type": "execute_result"
    }
   ],
   "source": [
    "## Compare the real value and predict value\n",
    "pd.DataFrame({'Real':y_test,'Predict':y_pred}, columns=['Real','Predict']).head(10)"
   ]
  },
  {
   "cell_type": "code",
   "execution_count": 88,
   "id": "dfae2dc1",
   "metadata": {},
   "outputs": [
    {
     "data": {
      "text/plain": [
       "array([[7236,    0,  170,    3,   10,    1],\n",
       "       [ 894,    0,   55,    4,    3,    0],\n",
       "       [1330,    0,  392,   86,   14,    0],\n",
       "       [ 633,    0,  492,   85,   34,    0],\n",
       "       [  31,    0,  122,   87,  113,    7],\n",
       "       [   1,    0,    0,    0,   11,   10]])"
      ]
     },
     "execution_count": 88,
     "metadata": {},
     "output_type": "execute_result"
    }
   ],
   "source": [
    "## Get the matrix\n",
    "from sklearn.metrics import confusion_matrix\n",
    "cnf_matrix = confusion_matrix(y_test,y_pred)\n",
    "cnf_matrix"
   ]
  },
  {
   "cell_type": "code",
   "execution_count": 90,
   "id": "cfa90f5e",
   "metadata": {},
   "outputs": [
    {
     "data": {
      "image/png": "[encoded data removed]",
      "text/plain": [
       "<Figure size 640x480 with 2 Axes>"
      ]
     },
     "metadata": {},
     "output_type": "display_data"
    }
   ],
   "source": [
    "## Plot the matrix\n",
    "import matplotlib.pyplot as plt\n",
    "def plot_cnf_matirx(cnf_matrix,description):\n",
    "    class_names = [0,1]\n",
    "    fig,ax = plt.subplots()\n",
    "    tick_marks = np.arange(len(class_names))\n",
    "    plt.xticks(tick_marks,class_names)\n",
    "    plt.yticks(tick_marks,class_names)\n",
    "\n",
    "# Create a heat map\n",
    "    sns.heatmap(pd.DataFrame(cnf_matrix), annot = True, cmap = 'OrRd',\n",
    "               fmt = 'g')\n",
    "    ax.xaxis.set_label_position('top')\n",
    "    plt.tight_layout()\n",
    "    plt.title(description, y = 1.1,fontsize=16)\n",
    "    plt.ylabel('Actual Value 0/1',fontsize=12)\n",
    "    plt.xlabel('Predict Value 0/1',fontsize=12)\n",
    "    plt.show()\n",
    "    \n",
    "plot_cnf_matirx(cnf_matrix,'Confusion matrix -- Logistic Regression')"
   ]
  },
  {
   "cell_type": "markdown",
   "id": "b94001a0",
   "metadata": {},
   "source": [
    "### KNN Model"
   ]
  },
  {
   "cell_type": "code",
   "execution_count": 145,
   "id": "4ec9039c",
   "metadata": {},
   "outputs": [
    {
     "data": {
      "text/plain": [
       "GridSearchCV(estimator=KNeighborsClassifier(n_neighbors=3),\n",
       "             param_grid=[{'n_neighbors': [1, 2, 3, 4, 5, 6, 7, 8, 9, 10, 11, 12,\n",
       "                                          13, 14, 15, 16, 17, 18, 19, 20, 21,\n",
       "                                          22, 23, 24, 25, 26, 27, 28, 29],\n",
       "                          'weights': ['uniform']},\n",
       "                         {'n_neighbors': [1, 2, 3, 4, 5, 6, 7, 8, 9, 10, 11, 12,\n",
       "                                          13, 14, 15, 16, 17, 18, 19, 20, 21,\n",
       "                                          22, 23, 24, 25, 26, 27, 28, 29],\n",
       "                          'p': [1, 2, 3], 'weights': ['distance']}])"
      ]
     },
     "execution_count": 145,
     "metadata": {},
     "output_type": "execute_result"
    }
   ],
   "source": [
    "from sklearn.neighbors import KNeighborsClassifier\n",
    "knn_model = KNeighborsClassifier(n_neighbors=3)\n",
    "param_grid = [\n",
    "    {\n",
    "        'weights':['uniform'],\n",
    "        'n_neighbors':[i for i in range(1,30)]\n",
    "    },\n",
    "    {\n",
    "        'weights':['distance'],\n",
    "        'n_neighbors':[i for i in range(1,30)],\n",
    "        'p':[i for i in range(1,4)]\n",
    "    }\n",
    "]\n",
    "from sklearn.model_selection import GridSearchCV\n",
    "grid_search = GridSearchCV(knn_model,param_grid)\n",
    "\n",
    "grid_search.fit(X_train,y_train)"
   ]
  },
  {
   "cell_type": "code",
   "execution_count": 146,
   "id": "d06bbf80",
   "metadata": {},
   "outputs": [
    {
     "data": {
      "text/plain": [
       "KNeighborsClassifier(n_neighbors=20)"
      ]
     },
     "execution_count": 146,
     "metadata": {},
     "output_type": "execute_result"
    }
   ],
   "source": [
    "## To see the optimal model information\n",
    "grid_search.best_estimator_"
   ]
  },
  {
   "cell_type": "code",
   "execution_count": 147,
   "id": "c677c444",
   "metadata": {},
   "outputs": [
    {
     "data": {
      "text/plain": [
       "0.7096501367314144"
      ]
     },
     "execution_count": 147,
     "metadata": {},
     "output_type": "execute_result"
    }
   ],
   "source": [
    "## The score of train model\n",
    "knn_clf = grid_search.best_estimator_\n",
    "knn_clf.score(X_train,y_train)"
   ]
  },
  {
   "cell_type": "code",
   "execution_count": 148,
   "id": "b1cddb9a",
   "metadata": {},
   "outputs": [
    {
     "data": {
      "text/plain": [
       "0.6932510148849798"
      ]
     },
     "execution_count": 148,
     "metadata": {},
     "output_type": "execute_result"
    }
   ],
   "source": [
    "## The score of test model\n",
    "knn_clf.score(X_test,y_test)"
   ]
  },
  {
   "cell_type": "code",
   "execution_count": 149,
   "id": "1e655563",
   "metadata": {},
   "outputs": [
    {
     "data": {
      "text/plain": [
       "1.0746042632923702"
      ]
     },
     "execution_count": 149,
     "metadata": {},
     "output_type": "execute_result"
    }
   ],
   "source": [
    "## The RMSE of train data set\n",
    "train_preds = knn_clf.predict(X_train)\n",
    "mse = mean_squared_error(y_train, train_preds)\n",
    "rmse = sqrt(mse)\n",
    "rmse"
   ]
  },
  {
   "cell_type": "code",
   "execution_count": 150,
   "id": "9c5a4f6e",
   "metadata": {},
   "outputs": [
    {
     "data": {
      "text/plain": [
       "1.0987291219203605"
      ]
     },
     "execution_count": 150,
     "metadata": {},
     "output_type": "execute_result"
    }
   ],
   "source": [
    "## The RMSE of test data set\n",
    "y_predict_knn = knn_clf.predict(X_test)\n",
    "mse  = metrics.mean_squared_error(y_test, y_predict_knn)\n",
    "rmse = sqrt(mse)\n",
    "rmse"
   ]
  },
  {
   "cell_type": "code",
   "execution_count": 151,
   "id": "16389ab3",
   "metadata": {},
   "outputs": [
    {
     "name": "stdout",
     "output_type": "stream",
     "text": [
      "              precision    recall  f1-score   support\n",
      "\n",
      "           1       0.73      0.97      0.84      7420\n",
      "           2       0.26      0.01      0.03       956\n",
      "           3       0.52      0.33      0.41      1822\n",
      "           4       0.43      0.19      0.26      1244\n",
      "           5       0.55      0.39      0.45       360\n",
      "           6       0.62      0.36      0.46        22\n",
      "\n",
      "    accuracy                           0.69     11824\n",
      "   macro avg       0.52      0.38      0.41     11824\n",
      "weighted avg       0.63      0.69      0.63     11824\n",
      "\n"
     ]
    }
   ],
   "source": [
    "## Get F1-score\n",
    "print(classification_report(y_test,y_predict_knn))"
   ]
  },
  {
   "cell_type": "code",
   "execution_count": 152,
   "id": "159fcef0",
   "metadata": {},
   "outputs": [
    {
     "data": {
      "text/html": [
       "<div>\n",
       "<style scoped>\n",
       "    .dataframe tbody tr th:only-of-type {\n",
       "        vertical-align: middle;\n",
       "    }\n",
       "\n",
       "    .dataframe tbody tr th {\n",
       "        vertical-align: top;\n",
       "    }\n",
       "\n",
       "    .dataframe thead th {\n",
       "        text-align: right;\n",
       "    }\n",
       "</style>\n",
       "<table border=\"1\" class=\"dataframe\">\n",
       "  <thead>\n",
       "    <tr style=\"text-align: right;\">\n",
       "      <th></th>\n",
       "      <th>Real</th>\n",
       "      <th>Predict</th>\n",
       "    </tr>\n",
       "  </thead>\n",
       "  <tbody>\n",
       "    <tr>\n",
       "      <th>8644</th>\n",
       "      <td>1</td>\n",
       "      <td>1</td>\n",
       "    </tr>\n",
       "    <tr>\n",
       "      <th>44774</th>\n",
       "      <td>1</td>\n",
       "      <td>1</td>\n",
       "    </tr>\n",
       "    <tr>\n",
       "      <th>19090</th>\n",
       "      <td>1</td>\n",
       "      <td>1</td>\n",
       "    </tr>\n",
       "    <tr>\n",
       "      <th>22116</th>\n",
       "      <td>1</td>\n",
       "      <td>1</td>\n",
       "    </tr>\n",
       "    <tr>\n",
       "      <th>24332</th>\n",
       "      <td>3</td>\n",
       "      <td>1</td>\n",
       "    </tr>\n",
       "    <tr>\n",
       "      <th>40613</th>\n",
       "      <td>1</td>\n",
       "      <td>1</td>\n",
       "    </tr>\n",
       "    <tr>\n",
       "      <th>39053</th>\n",
       "      <td>1</td>\n",
       "      <td>1</td>\n",
       "    </tr>\n",
       "    <tr>\n",
       "      <th>41290</th>\n",
       "      <td>1</td>\n",
       "      <td>1</td>\n",
       "    </tr>\n",
       "    <tr>\n",
       "      <th>19860</th>\n",
       "      <td>1</td>\n",
       "      <td>1</td>\n",
       "    </tr>\n",
       "    <tr>\n",
       "      <th>34609</th>\n",
       "      <td>1</td>\n",
       "      <td>1</td>\n",
       "    </tr>\n",
       "  </tbody>\n",
       "</table>\n",
       "</div>"
      ],
      "text/plain": [
       "       Real  Predict\n",
       "8644      1        1\n",
       "44774     1        1\n",
       "19090     1        1\n",
       "22116     1        1\n",
       "24332     3        1\n",
       "40613     1        1\n",
       "39053     1        1\n",
       "41290     1        1\n",
       "19860     1        1\n",
       "34609     1        1"
      ]
     },
     "execution_count": 152,
     "metadata": {},
     "output_type": "execute_result"
    }
   ],
   "source": [
    "## Compare the real value and predict value\n",
    "pd.DataFrame({'Real':y_test,'Predict':y_predict_knn}, columns=['Real','Predict']).head(10)"
   ]
  },
  {
   "cell_type": "code",
   "execution_count": 153,
   "id": "85802d2c",
   "metadata": {},
   "outputs": [
    {
     "data": {
      "text/plain": [
       "array([[7195,   16,  152,   45,   11,    1],\n",
       "       [ 853,   14,   64,   20,    5,    0],\n",
       "       [1023,   17,  610,  143,   29,    0],\n",
       "       [ 694,    6,  259,  231,   54,    0],\n",
       "       [  36,    0,   84,   97,  139,    4],\n",
       "       [   1,    0,    0,    0,   13,    8]])"
      ]
     },
     "execution_count": 153,
     "metadata": {},
     "output_type": "execute_result"
    }
   ],
   "source": [
    "## Get the matrix\n",
    "cnf_matrix = confusion_matrix(y_test,y_predict_knn)\n",
    "cnf_matrix"
   ]
  },
  {
   "cell_type": "code",
   "execution_count": 154,
   "id": "0edfe316",
   "metadata": {},
   "outputs": [
    {
     "data": {
      "image/png": "[encoded data removed]",
      "text/plain": [
       "<Figure size 640x480 with 2 Axes>"
      ]
     },
     "metadata": {},
     "output_type": "display_data"
    }
   ],
   "source": [
    "# Plot the matrix graph\n",
    "plot_cnf_matirx(cnf_matrix,'Confusion matrix -- KNN Model')"
   ]
  },
  {
   "cell_type": "markdown",
   "id": "3ffb37aa",
   "metadata": {},
   "source": [
    "### Decision Tree Model"
   ]
  },
  {
   "cell_type": "code",
   "execution_count": 92,
   "id": "b20aac61",
   "metadata": {},
   "outputs": [],
   "source": [
    "from sklearn.tree import DecisionTreeClassifier\n",
    "dt_clf= DecisionTreeClassifier(random_state=6)"
   ]
  },
  {
   "cell_type": "code",
   "execution_count": 93,
   "id": "6c53d82c",
   "metadata": {},
   "outputs": [
    {
     "data": {
      "text/plain": [
       "GridSearchCV(estimator=DecisionTreeClassifier(random_state=6),\n",
       "             param_grid=[{'max_features': ['auto', 'sqrt', 'log2'],\n",
       "                          'min_samples_leaf': [1, 2, 3, 4, 5, 6, 7, 8, 9, 10,\n",
       "                                               11],\n",
       "                          'min_samples_split': [2, 3, 4, 5, 6, 7, 8, 9, 10, 11,\n",
       "                                                12, 13, 14, 15, 16, 17, 18]}])"
      ]
     },
     "execution_count": 93,
     "metadata": {},
     "output_type": "execute_result"
    }
   ],
   "source": [
    "from sklearn.model_selection import GridSearchCV\n",
    "param_grid = [\n",
    "    {\n",
    "        'max_features':['auto','sqrt','log2'],\n",
    "        'min_samples_split':[2,3,4,5,6,7,8,9,10,11,12,13,14,15,16,17,18],\n",
    "        'min_samples_leaf':[1,2,3,4,5,6,7,8,9,10,11]\n",
    "    }\n",
    "]\n",
    "grid_search = GridSearchCV(dt_clf,param_grid)\n",
    "\n",
    "grid_search.fit(X_train,y_train)"
   ]
  },
  {
   "cell_type": "code",
   "execution_count": 94,
   "id": "504afb5e",
   "metadata": {},
   "outputs": [
    {
     "data": {
      "text/plain": [
       "DecisionTreeClassifier(max_features='auto', min_samples_leaf=4,\n",
       "                       min_samples_split=18, random_state=6)"
      ]
     },
     "execution_count": 94,
     "metadata": {},
     "output_type": "execute_result"
    }
   ],
   "source": [
    "## To see the optimal model information\n",
    "grid_search.best_estimator_"
   ]
  },
  {
   "cell_type": "code",
   "execution_count": 95,
   "id": "d6c2cf86",
   "metadata": {},
   "outputs": [
    {
     "data": {
      "text/plain": [
       "0.6994728087733642"
      ]
     },
     "execution_count": 95,
     "metadata": {},
     "output_type": "execute_result"
    }
   ],
   "source": [
    "## The score of train model\n",
    "dt_clf = grid_search.best_estimator_\n",
    "dt_clf.score(X_train,y_train)"
   ]
  },
  {
   "cell_type": "code",
   "execution_count": 96,
   "id": "6f236d7d",
   "metadata": {},
   "outputs": [
    {
     "data": {
      "text/plain": [
       "0.6716847090663058"
      ]
     },
     "execution_count": 96,
     "metadata": {},
     "output_type": "execute_result"
    }
   ],
   "source": [
    "## The score of test model\n",
    "dt_clf.score(X_test,y_test)"
   ]
  },
  {
   "cell_type": "code",
   "execution_count": 97,
   "id": "cb0d8762",
   "metadata": {},
   "outputs": [
    {
     "data": {
      "text/plain": [
       "1.1098371967843437"
      ]
     },
     "execution_count": 97,
     "metadata": {},
     "output_type": "execute_result"
    }
   ],
   "source": [
    "## The RMSE of train data set\n",
    "train_preds = dt_clf.predict(X_train)\n",
    "mse = mean_squared_error(y_train, train_preds)\n",
    "rmse = sqrt(mse)\n",
    "rmse"
   ]
  },
  {
   "cell_type": "code",
   "execution_count": 98,
   "id": "8ca1e9fb",
   "metadata": {},
   "outputs": [
    {
     "data": {
      "text/plain": [
       "1.147377429693691"
      ]
     },
     "execution_count": 98,
     "metadata": {},
     "output_type": "execute_result"
    }
   ],
   "source": [
    "## The RMSE of test data set\n",
    "y_predict_dt = dt_clf.predict(X_test)\n",
    "mse = mean_squared_error(y_test, y_predict_dt)\n",
    "rmse = sqrt(mse)\n",
    "rmse"
   ]
  },
  {
   "cell_type": "code",
   "execution_count": 99,
   "id": "1c57820e",
   "metadata": {},
   "outputs": [
    {
     "name": "stdout",
     "output_type": "stream",
     "text": [
      "              precision    recall  f1-score   support\n",
      "\n",
      "           1       0.75      0.93      0.83      7420\n",
      "           2       0.33      0.11      0.17       956\n",
      "           3       0.42      0.42      0.42      1822\n",
      "           4       0.43      0.14      0.21      1244\n",
      "           5       0.40      0.09      0.14       360\n",
      "           6       0.00      0.00      0.00        22\n",
      "\n",
      "    accuracy                           0.67     11824\n",
      "   macro avg       0.39      0.28      0.29     11824\n",
      "weighted avg       0.62      0.67      0.62     11824\n",
      "\n"
     ]
    },
    {
     "name": "stderr",
     "output_type": "stream",
     "text": [
      "/Users/leowu/opt/anaconda3/lib/python3.9/site-packages/sklearn/metrics/_classification.py:1318: UndefinedMetricWarning: Precision and F-score are ill-defined and being set to 0.0 in labels with no predicted samples. Use `zero_division` parameter to control this behavior.\n",
      "/Users/leowu/opt/anaconda3/lib/python3.9/site-packages/sklearn/metrics/_classification.py:1318: UndefinedMetricWarning: Precision and F-score are ill-defined and being set to 0.0 in labels with no predicted samples. Use `zero_division` parameter to control this behavior.\n",
      "/Users/leowu/opt/anaconda3/lib/python3.9/site-packages/sklearn/metrics/_classification.py:1318: UndefinedMetricWarning: Precision and F-score are ill-defined and being set to 0.0 in labels with no predicted samples. Use `zero_division` parameter to control this behavior.\n"
     ]
    }
   ],
   "source": [
    "## Get F1-score\n",
    "print(classification_report(y_test,y_predict_dt))"
   ]
  },
  {
   "cell_type": "code",
   "execution_count": 100,
   "id": "abc18402",
   "metadata": {},
   "outputs": [
    {
     "data": {
      "text/html": [
       "<div>\n",
       "<style scoped>\n",
       "    .dataframe tbody tr th:only-of-type {\n",
       "        vertical-align: middle;\n",
       "    }\n",
       "\n",
       "    .dataframe tbody tr th {\n",
       "        vertical-align: top;\n",
       "    }\n",
       "\n",
       "    .dataframe thead th {\n",
       "        text-align: right;\n",
       "    }\n",
       "</style>\n",
       "<table border=\"1\" class=\"dataframe\">\n",
       "  <thead>\n",
       "    <tr style=\"text-align: right;\">\n",
       "      <th></th>\n",
       "      <th>Real</th>\n",
       "      <th>Predict</th>\n",
       "    </tr>\n",
       "  </thead>\n",
       "  <tbody>\n",
       "    <tr>\n",
       "      <th>8644</th>\n",
       "      <td>1</td>\n",
       "      <td>1</td>\n",
       "    </tr>\n",
       "    <tr>\n",
       "      <th>44774</th>\n",
       "      <td>1</td>\n",
       "      <td>1</td>\n",
       "    </tr>\n",
       "    <tr>\n",
       "      <th>19090</th>\n",
       "      <td>1</td>\n",
       "      <td>1</td>\n",
       "    </tr>\n",
       "    <tr>\n",
       "      <th>22116</th>\n",
       "      <td>1</td>\n",
       "      <td>1</td>\n",
       "    </tr>\n",
       "    <tr>\n",
       "      <th>24332</th>\n",
       "      <td>3</td>\n",
       "      <td>1</td>\n",
       "    </tr>\n",
       "    <tr>\n",
       "      <th>40613</th>\n",
       "      <td>1</td>\n",
       "      <td>1</td>\n",
       "    </tr>\n",
       "    <tr>\n",
       "      <th>39053</th>\n",
       "      <td>1</td>\n",
       "      <td>1</td>\n",
       "    </tr>\n",
       "    <tr>\n",
       "      <th>41290</th>\n",
       "      <td>1</td>\n",
       "      <td>2</td>\n",
       "    </tr>\n",
       "    <tr>\n",
       "      <th>19860</th>\n",
       "      <td>1</td>\n",
       "      <td>1</td>\n",
       "    </tr>\n",
       "    <tr>\n",
       "      <th>34609</th>\n",
       "      <td>1</td>\n",
       "      <td>1</td>\n",
       "    </tr>\n",
       "  </tbody>\n",
       "</table>\n",
       "</div>"
      ],
      "text/plain": [
       "       Real  Predict\n",
       "8644      1        1\n",
       "44774     1        1\n",
       "19090     1        1\n",
       "22116     1        1\n",
       "24332     3        1\n",
       "40613     1        1\n",
       "39053     1        1\n",
       "41290     1        2\n",
       "19860     1        1\n",
       "34609     1        1"
      ]
     },
     "execution_count": 100,
     "metadata": {},
     "output_type": "execute_result"
    }
   ],
   "source": [
    "## Compare the real value and predict value\n",
    "pd.DataFrame({'Real':y_test,'Predict':y_predict_dt}, columns=['Real','Predict']).head(10)"
   ]
  },
  {
   "cell_type": "code",
   "execution_count": 101,
   "id": "4766b4fa",
   "metadata": {},
   "outputs": [
    {
     "data": {
      "text/plain": [
       "array([[6868,  130,  370,   49,    3,    0],\n",
       "       [ 733,  106,   99,   14,    4,    0],\n",
       "       [ 872,   49,  766,  116,   19,    0],\n",
       "       [ 662,   28,  364,  171,   19,    0],\n",
       "       [  75,    5,  200,   49,   31,    0],\n",
       "       [   5,    1,   13,    2,    1,    0]])"
      ]
     },
     "execution_count": 101,
     "metadata": {},
     "output_type": "execute_result"
    }
   ],
   "source": [
    "## Plot the matrix\n",
    "cnf_matrix = confusion_matrix(y_test,y_predict_dt)\n",
    "cnf_matrix"
   ]
  },
  {
   "cell_type": "code",
   "execution_count": 102,
   "id": "cf86304a",
   "metadata": {},
   "outputs": [
    {
     "data": {
      "image/png": "[encoded data removed]",
      "text/plain": [
       "<Figure size 640x480 with 2 Axes>"
      ]
     },
     "metadata": {},
     "output_type": "display_data"
    }
   ],
   "source": [
    "## Plot the heat graph\n",
    "plot_cnf_matirx(cnf_matrix,'Confusion matrix -- Decision Tree')"
   ]
  },
  {
   "cell_type": "code",
   "execution_count": 103,
   "id": "c6d09d71",
   "metadata": {},
   "outputs": [
    {
     "name": "stdout",
     "output_type": "stream",
     "text": [
      "Variable: senlength_derived    Importance: 0.64\n",
      "Variable: AGE_AT_INCIDENT      Importance: 0.11\n",
      "Variable: his_prop             Importance: 0.09\n",
      "Variable: Livability           Importance: 0.05\n",
      "Variable: Incar                Importance: 0.04\n",
      "Variable: is_changed_offense   Importance: 0.02\n",
      "Variable: CHARGE_COUNT         Importance: 0.01\n",
      "Variable: is_black_derived     Importance: 0.01\n",
      "Variable: is_other_derived     Importance: 0.01\n",
      "Variable: is_white_derived     Importance: 0.01\n",
      "Variable: is_defendant_male    Importance: 0.01\n",
      "Variable: is_judge_male        Importance: 0.01\n",
      "Variable: is_hisp_derived      Importance: 0.0\n",
      "Variable: is_covid             Importance: 0.0\n"
     ]
    }
   ],
   "source": [
    "# Get numerical feature importances\n",
    "importances = list(dt_clf.feature_importances_)\n",
    "\n",
    "# List of tuples with variable and importance\n",
    "feature_importances = [(feature, round(importance, 2)) for feature, importance in zip(feature_list, importances)]\n",
    "\n",
    "# Sort the feature importances by most important first\n",
    "feature_importances = sorted(feature_importances, key = lambda x: x[1], reverse = True)\n",
    "\n",
    "# Print out the feature and importances \n",
    "[print('Variable: {:20} Importance: {}'.format(*pair)) for pair in feature_importances];"
   ]
  },
  {
   "cell_type": "markdown",
   "id": "b4c8241e",
   "metadata": {},
   "source": [
    "### Random Forest Model"
   ]
  },
  {
   "cell_type": "code",
   "execution_count": 104,
   "id": "ef983c69",
   "metadata": {},
   "outputs": [
    {
     "data": {
      "text/plain": [
       "GridSearchCV(estimator=RandomForestClassifier(),\n",
       "             param_grid={'criterion': ['entropy', 'gini'],\n",
       "                         'max_depth': [5, 6, 7, 8],\n",
       "                         'max_features': [0.3, 0.4, 0.5],\n",
       "                         'min_samples_split': [4, 8, 12, 16],\n",
       "                         'n_estimators': [11, 13, 15]})"
      ]
     },
     "execution_count": 104,
     "metadata": {},
     "output_type": "execute_result"
    }
   ],
   "source": [
    "param_grid = {\n",
    "    'criterion':['entropy','gini'],\n",
    "    'max_depth':[5, 6, 7, 8],    \n",
    "    'n_estimators':[11,13,15], \n",
    "    'max_features':[0.3,0.4,0.5],\n",
    "    'min_samples_split':[4,8,12,16]  \n",
    "}\n",
    "\n",
    "import sklearn.ensemble as ensemble \n",
    "from sklearn.ensemble import RandomForestClassifier\n",
    "rf_clf = ensemble.RandomForestClassifier()\n",
    "grid_search = GridSearchCV(rf_clf,param_grid)\n",
    "grid_search.fit(X_train, y_train)"
   ]
  },
  {
   "cell_type": "code",
   "execution_count": 105,
   "id": "e45a669a",
   "metadata": {},
   "outputs": [
    {
     "data": {
      "text/plain": [
       "RandomForestClassifier(criterion='entropy', max_depth=8, max_features=0.5,\n",
       "                       min_samples_split=4, n_estimators=15)"
      ]
     },
     "execution_count": 105,
     "metadata": {},
     "output_type": "execute_result"
    }
   ],
   "source": [
    "## To see the optimal model information\n",
    "grid_search.best_estimator_"
   ]
  },
  {
   "cell_type": "code",
   "execution_count": 106,
   "id": "f7918672",
   "metadata": {},
   "outputs": [
    {
     "data": {
      "text/plain": [
       "0.7252121451326435"
      ]
     },
     "execution_count": 106,
     "metadata": {},
     "output_type": "execute_result"
    }
   ],
   "source": [
    "## The score of train model\n",
    "rf_clf = grid_search.best_estimator_\n",
    "rf_clf.score(X_train,y_train)"
   ]
  },
  {
   "cell_type": "code",
   "execution_count": 107,
   "id": "258e2261",
   "metadata": {},
   "outputs": [
    {
     "data": {
      "text/plain": [
       "0.7126184032476319"
      ]
     },
     "execution_count": 107,
     "metadata": {},
     "output_type": "execute_result"
    }
   ],
   "source": [
    "## The score of test model\n",
    "rf_clf.score(X_test,y_test)"
   ]
  },
  {
   "cell_type": "code",
   "execution_count": 108,
   "id": "918b2b5e",
   "metadata": {},
   "outputs": [
    {
     "data": {
      "text/plain": [
       "1.0495061539096595"
      ]
     },
     "execution_count": 108,
     "metadata": {},
     "output_type": "execute_result"
    }
   ],
   "source": [
    "## The RMSE of train data set\n",
    "train_preds = rf_clf.predict(X_train)\n",
    "mse = mean_squared_error(y_train, train_preds)\n",
    "rmse = sqrt(mse)\n",
    "rmse"
   ]
  },
  {
   "cell_type": "code",
   "execution_count": 109,
   "id": "e47731f1",
   "metadata": {},
   "outputs": [
    {
     "data": {
      "text/plain": [
       "1.0609790714177487"
      ]
     },
     "execution_count": 109,
     "metadata": {},
     "output_type": "execute_result"
    }
   ],
   "source": [
    "## The RMSE of test data set\n",
    "y_predict_rf = rf_clf.predict(X_test)\n",
    "mse = mean_squared_error(y_test, y_predict_rf)\n",
    "rmse = sqrt(mse)\n",
    "rmse"
   ]
  },
  {
   "cell_type": "code",
   "execution_count": 110,
   "id": "dadeadda",
   "metadata": {},
   "outputs": [
    {
     "name": "stdout",
     "output_type": "stream",
     "text": [
      "              precision    recall  f1-score   support\n",
      "\n",
      "           1       0.76      0.95      0.84      7420\n",
      "           2       0.59      0.12      0.21       956\n",
      "           3       0.56      0.39      0.46      1822\n",
      "           4       0.51      0.27      0.35      1244\n",
      "           5       0.52      0.47      0.49       360\n",
      "           6       0.46      0.27      0.34        22\n",
      "\n",
      "    accuracy                           0.71     11824\n",
      "   macro avg       0.57      0.41      0.45     11824\n",
      "weighted avg       0.68      0.71      0.67     11824\n",
      "\n"
     ]
    }
   ],
   "source": [
    "## Get F1-score\n",
    "print(classification_report(y_test,y_predict_rf))"
   ]
  },
  {
   "cell_type": "code",
   "execution_count": 111,
   "id": "e31a6621",
   "metadata": {},
   "outputs": [
    {
     "data": {
      "text/html": [
       "<div>\n",
       "<style scoped>\n",
       "    .dataframe tbody tr th:only-of-type {\n",
       "        vertical-align: middle;\n",
       "    }\n",
       "\n",
       "    .dataframe tbody tr th {\n",
       "        vertical-align: top;\n",
       "    }\n",
       "\n",
       "    .dataframe thead th {\n",
       "        text-align: right;\n",
       "    }\n",
       "</style>\n",
       "<table border=\"1\" class=\"dataframe\">\n",
       "  <thead>\n",
       "    <tr style=\"text-align: right;\">\n",
       "      <th></th>\n",
       "      <th>Real</th>\n",
       "      <th>Predict</th>\n",
       "    </tr>\n",
       "  </thead>\n",
       "  <tbody>\n",
       "    <tr>\n",
       "      <th>8644</th>\n",
       "      <td>1</td>\n",
       "      <td>1</td>\n",
       "    </tr>\n",
       "    <tr>\n",
       "      <th>44774</th>\n",
       "      <td>1</td>\n",
       "      <td>1</td>\n",
       "    </tr>\n",
       "    <tr>\n",
       "      <th>19090</th>\n",
       "      <td>1</td>\n",
       "      <td>1</td>\n",
       "    </tr>\n",
       "    <tr>\n",
       "      <th>22116</th>\n",
       "      <td>1</td>\n",
       "      <td>1</td>\n",
       "    </tr>\n",
       "    <tr>\n",
       "      <th>24332</th>\n",
       "      <td>3</td>\n",
       "      <td>1</td>\n",
       "    </tr>\n",
       "    <tr>\n",
       "      <th>40613</th>\n",
       "      <td>1</td>\n",
       "      <td>1</td>\n",
       "    </tr>\n",
       "    <tr>\n",
       "      <th>39053</th>\n",
       "      <td>1</td>\n",
       "      <td>1</td>\n",
       "    </tr>\n",
       "    <tr>\n",
       "      <th>41290</th>\n",
       "      <td>1</td>\n",
       "      <td>2</td>\n",
       "    </tr>\n",
       "    <tr>\n",
       "      <th>19860</th>\n",
       "      <td>1</td>\n",
       "      <td>1</td>\n",
       "    </tr>\n",
       "    <tr>\n",
       "      <th>34609</th>\n",
       "      <td>1</td>\n",
       "      <td>1</td>\n",
       "    </tr>\n",
       "  </tbody>\n",
       "</table>\n",
       "</div>"
      ],
      "text/plain": [
       "       Real  Predict\n",
       "8644      1        1\n",
       "44774     1        1\n",
       "19090     1        1\n",
       "22116     1        1\n",
       "24332     3        1\n",
       "40613     1        1\n",
       "39053     1        1\n",
       "41290     1        2\n",
       "19860     1        1\n",
       "34609     1        1"
      ]
     },
     "execution_count": 111,
     "metadata": {},
     "output_type": "execute_result"
    }
   ],
   "source": [
    "## Compare the real value and predict value\n",
    "pd.DataFrame({'Real':y_test,'Predict':y_predict_rf}, columns=['Real','Predict']).head(10)"
   ]
  },
  {
   "cell_type": "code",
   "execution_count": 112,
   "id": "2be7cdd8",
   "metadata": {},
   "outputs": [
    {
     "data": {
      "text/plain": [
       "array([[7080,   69,  214,   53,    4,    0],\n",
       "       [ 727,  119,   83,   22,    5,    0],\n",
       "       [ 870,    9,  715,  179,   49,    0],\n",
       "       [ 650,    5,  171,  338,   80,    0],\n",
       "       [  29,    0,   83,   73,  168,    7],\n",
       "       [   1,    0,    0,    0,   15,    6]])"
      ]
     },
     "execution_count": 112,
     "metadata": {},
     "output_type": "execute_result"
    }
   ],
   "source": [
    "## Plot the matrix\n",
    "cnf_matrix = confusion_matrix(y_test,y_predict_rf)\n",
    "cnf_matrix"
   ]
  },
  {
   "cell_type": "code",
   "execution_count": 113,
   "id": "eaf5965e",
   "metadata": {},
   "outputs": [
    {
     "data": {
      "image/png": "[encoded data removed]",
      "text/plain": [
       "<Figure size 640x480 with 2 Axes>"
      ]
     },
     "metadata": {},
     "output_type": "display_data"
    }
   ],
   "source": [
    "## Plot the heat graph\n",
    "plot_cnf_matirx(cnf_matrix,'Confusion matrix -- Random Forest')"
   ]
  },
  {
   "cell_type": "code",
   "execution_count": 114,
   "id": "76414445",
   "metadata": {},
   "outputs": [
    {
     "name": "stdout",
     "output_type": "stream",
     "text": [
      "Variable: senlength_derived    Importance: 0.69\n",
      "Variable: his_prop             Importance: 0.09\n",
      "Variable: Incar                Importance: 0.09\n",
      "Variable: AGE_AT_INCIDENT      Importance: 0.08\n",
      "Variable: Livability           Importance: 0.02\n",
      "Variable: is_changed_offense   Importance: 0.01\n",
      "Variable: is_black_derived     Importance: 0.01\n",
      "Variable: is_other_derived     Importance: 0.01\n",
      "Variable: is_white_derived     Importance: 0.01\n",
      "Variable: CHARGE_COUNT         Importance: 0.0\n",
      "Variable: is_hisp_derived      Importance: 0.0\n",
      "Variable: is_defendant_male    Importance: 0.0\n",
      "Variable: is_judge_male        Importance: 0.0\n",
      "Variable: is_covid             Importance: 0.0\n"
     ]
    }
   ],
   "source": [
    "# Get numerical feature importances\n",
    "importances = list(rf_clf.feature_importances_)\n",
    "\n",
    "# List of tuples with variable and importance\n",
    "feature_importances = [(feature, round(importance, 2)) for feature, importance in zip(feature_list, importances)]\n",
    "\n",
    "# Sort the feature importances by most important first\n",
    "feature_importances = sorted(feature_importances, key = lambda x: x[1], reverse = True)\n",
    "\n",
    "# Print out the feature and importances \n",
    "[print('Variable: {:20} Importance: {}'.format(*pair)) for pair in feature_importances];"
   ]
  },
  {
   "cell_type": "markdown",
   "id": "7c80fa97",
   "metadata": {},
   "source": [
    "### Refined Decision Tree Model"
   ]
  },
  {
   "cell_type": "code",
   "execution_count": 115,
   "id": "5b420efd",
   "metadata": {},
   "outputs": [],
   "source": [
    "from sklearn.tree import DecisionTreeClassifier\n",
    "dt_clf1= DecisionTreeClassifier(random_state=42)"
   ]
  },
  {
   "cell_type": "code",
   "execution_count": 116,
   "id": "4ee48c4d",
   "metadata": {},
   "outputs": [
    {
     "name": "stderr",
     "output_type": "stream",
     "text": [
      "/Users/leowu/opt/anaconda3/lib/python3.9/site-packages/sklearn/model_selection/_validation.py:372: FitFailedWarning: \n",
      "300 fits failed out of a total of 6000.\n",
      "The score on these train-test partitions for these parameters will be set to nan.\n",
      "If these failures are not expected, you can try to debug them by setting error_score='raise'.\n",
      "\n",
      "Below are more details about the failures:\n",
      "--------------------------------------------------------------------------------\n",
      "300 fits failed with the following error:\n",
      "Traceback (most recent call last):\n",
      "  File \"/Users/leowu/opt/anaconda3/lib/python3.9/site-packages/sklearn/model_selection/_validation.py\", line 680, in _fit_and_score\n",
      "    estimator.fit(X_train, y_train, **fit_params)\n",
      "  File \"/Users/leowu/opt/anaconda3/lib/python3.9/site-packages/sklearn/tree/_classes.py\", line 937, in fit\n",
      "    super().fit(\n",
      "  File \"/Users/leowu/opt/anaconda3/lib/python3.9/site-packages/sklearn/tree/_classes.py\", line 250, in fit\n",
      "    raise ValueError(\n",
      "ValueError: min_samples_split must be an integer greater than 1 or a float in (0.0, 1.0]; got the integer 1\n",
      "\n",
      "/Users/leowu/opt/anaconda3/lib/python3.9/site-packages/sklearn/model_selection/_search.py:969: UserWarning: One or more of the test scores are non-finite: [       nan 0.65036226 0.65769222 ... 0.67528369 0.67528369 0.67528369]\n"
     ]
    },
    {
     "data": {
      "text/plain": [
       "GridSearchCV(estimator=DecisionTreeClassifier(max_features='auto',\n",
       "                                              min_samples_leaf=4,\n",
       "                                              min_samples_split=18,\n",
       "                                              random_state=6),\n",
       "             param_grid=[{'max_features': ['auto', 'sqrt', 'log2'],\n",
       "                          'min_samples_leaf': [1, 2, 3, 4, 5, 6, 7, 8, 9, 10,\n",
       "                                               11, 12, 13, 14, 15, 16, 17, 18,\n",
       "                                               19, 20],\n",
       "                          'min_samples_split': [1, 2, 3, 4, 5, 6, 7, 8, 9, 10,\n",
       "                                                11, 12, 13, 14, 15, 16, 17, 18,\n",
       "                                                19, 20]}])"
      ]
     },
     "execution_count": 116,
     "metadata": {},
     "output_type": "execute_result"
    }
   ],
   "source": [
    "from sklearn.model_selection import GridSearchCV\n",
    "param_grid = [\n",
    "    {\n",
    "        'max_features':['auto','sqrt','log2'],\n",
    "        'min_samples_split':[1,2,3,4,5,6,7,8,9,10,11,12,13,14,15,16,17,18,19,20],\n",
    "        'min_samples_leaf':[1,2,3,4,5,6,7,8,9,10,11,12,13,14,15,16,17,18,19,20]\n",
    "    }\n",
    "]\n",
    "grid_search = GridSearchCV(dt_clf,param_grid)\n",
    "\n",
    "grid_search.fit(X_train,y_train)"
   ]
  },
  {
   "cell_type": "code",
   "execution_count": 118,
   "id": "ac1fa768",
   "metadata": {},
   "outputs": [
    {
     "data": {
      "text/plain": [
       "DecisionTreeClassifier(max_features='auto', min_samples_leaf=4,\n",
       "                       min_samples_split=18, random_state=6)"
      ]
     },
     "execution_count": 118,
     "metadata": {},
     "output_type": "execute_result"
    }
   ],
   "source": [
    "## To see the optimal model information\n",
    "grid_search.best_estimator_"
   ]
  },
  {
   "cell_type": "code",
   "execution_count": 119,
   "id": "dcba3706",
   "metadata": {},
   "outputs": [
    {
     "data": {
      "text/plain": [
       "0.6994728087733642"
      ]
     },
     "execution_count": 119,
     "metadata": {},
     "output_type": "execute_result"
    }
   ],
   "source": [
    "## The score of train model\n",
    "dt_clf1 = grid_search.best_estimator_\n",
    "dt_clf1.score(X_train,y_train)"
   ]
  },
  {
   "cell_type": "code",
   "execution_count": 120,
   "id": "7532d4df",
   "metadata": {},
   "outputs": [
    {
     "data": {
      "text/plain": [
       "0.6716847090663058"
      ]
     },
     "execution_count": 120,
     "metadata": {},
     "output_type": "execute_result"
    }
   ],
   "source": [
    "## The score of test model\n",
    "dt_clf1.score(X_test,y_test)"
   ]
  },
  {
   "cell_type": "code",
   "execution_count": 121,
   "id": "61c1b671",
   "metadata": {},
   "outputs": [
    {
     "data": {
      "text/plain": [
       "1.1098371967843437"
      ]
     },
     "execution_count": 121,
     "metadata": {},
     "output_type": "execute_result"
    }
   ],
   "source": [
    "## The RMSE of train data set\n",
    "train_preds1 = dt_clf1.predict(X_train)\n",
    "mse = mean_squared_error(y_train, train_preds1)\n",
    "rmse = sqrt(mse)\n",
    "rmse"
   ]
  },
  {
   "cell_type": "code",
   "execution_count": 122,
   "id": "2761085b",
   "metadata": {},
   "outputs": [
    {
     "data": {
      "text/plain": [
       "1.147377429693691"
      ]
     },
     "execution_count": 122,
     "metadata": {},
     "output_type": "execute_result"
    }
   ],
   "source": [
    "## The RMSE of test data set\n",
    "y_predict_dt1 = dt_clf1.predict(X_test)\n",
    "mse = mean_squared_error(y_test, y_predict_dt1)\n",
    "rmse = sqrt(mse)\n",
    "rmse"
   ]
  },
  {
   "cell_type": "code",
   "execution_count": 123,
   "id": "c0362716",
   "metadata": {},
   "outputs": [
    {
     "name": "stdout",
     "output_type": "stream",
     "text": [
      "              precision    recall  f1-score   support\n",
      "\n",
      "           1       0.75      0.93      0.83      7420\n",
      "           2       0.33      0.11      0.17       956\n",
      "           3       0.42      0.42      0.42      1822\n",
      "           4       0.43      0.14      0.21      1244\n",
      "           5       0.40      0.09      0.14       360\n",
      "           6       0.00      0.00      0.00        22\n",
      "\n",
      "    accuracy                           0.67     11824\n",
      "   macro avg       0.39      0.28      0.29     11824\n",
      "weighted avg       0.62      0.67      0.62     11824\n",
      "\n"
     ]
    },
    {
     "name": "stderr",
     "output_type": "stream",
     "text": [
      "/Users/leowu/opt/anaconda3/lib/python3.9/site-packages/sklearn/metrics/_classification.py:1318: UndefinedMetricWarning: Precision and F-score are ill-defined and being set to 0.0 in labels with no predicted samples. Use `zero_division` parameter to control this behavior.\n",
      "/Users/leowu/opt/anaconda3/lib/python3.9/site-packages/sklearn/metrics/_classification.py:1318: UndefinedMetricWarning: Precision and F-score are ill-defined and being set to 0.0 in labels with no predicted samples. Use `zero_division` parameter to control this behavior.\n",
      "/Users/leowu/opt/anaconda3/lib/python3.9/site-packages/sklearn/metrics/_classification.py:1318: UndefinedMetricWarning: Precision and F-score are ill-defined and being set to 0.0 in labels with no predicted samples. Use `zero_division` parameter to control this behavior.\n"
     ]
    }
   ],
   "source": [
    "## Get F1-score\n",
    "print(classification_report(y_test,y_predict_dt1))"
   ]
  },
  {
   "cell_type": "code",
   "execution_count": 124,
   "id": "5c965445",
   "metadata": {},
   "outputs": [
    {
     "data": {
      "text/html": [
       "<div>\n",
       "<style scoped>\n",
       "    .dataframe tbody tr th:only-of-type {\n",
       "        vertical-align: middle;\n",
       "    }\n",
       "\n",
       "    .dataframe tbody tr th {\n",
       "        vertical-align: top;\n",
       "    }\n",
       "\n",
       "    .dataframe thead th {\n",
       "        text-align: right;\n",
       "    }\n",
       "</style>\n",
       "<table border=\"1\" class=\"dataframe\">\n",
       "  <thead>\n",
       "    <tr style=\"text-align: right;\">\n",
       "      <th></th>\n",
       "      <th>Real</th>\n",
       "      <th>Predict</th>\n",
       "    </tr>\n",
       "  </thead>\n",
       "  <tbody>\n",
       "    <tr>\n",
       "      <th>8644</th>\n",
       "      <td>1</td>\n",
       "      <td>1</td>\n",
       "    </tr>\n",
       "    <tr>\n",
       "      <th>44774</th>\n",
       "      <td>1</td>\n",
       "      <td>1</td>\n",
       "    </tr>\n",
       "    <tr>\n",
       "      <th>19090</th>\n",
       "      <td>1</td>\n",
       "      <td>1</td>\n",
       "    </tr>\n",
       "    <tr>\n",
       "      <th>22116</th>\n",
       "      <td>1</td>\n",
       "      <td>1</td>\n",
       "    </tr>\n",
       "    <tr>\n",
       "      <th>24332</th>\n",
       "      <td>3</td>\n",
       "      <td>1</td>\n",
       "    </tr>\n",
       "    <tr>\n",
       "      <th>40613</th>\n",
       "      <td>1</td>\n",
       "      <td>1</td>\n",
       "    </tr>\n",
       "    <tr>\n",
       "      <th>39053</th>\n",
       "      <td>1</td>\n",
       "      <td>1</td>\n",
       "    </tr>\n",
       "    <tr>\n",
       "      <th>41290</th>\n",
       "      <td>1</td>\n",
       "      <td>2</td>\n",
       "    </tr>\n",
       "    <tr>\n",
       "      <th>19860</th>\n",
       "      <td>1</td>\n",
       "      <td>1</td>\n",
       "    </tr>\n",
       "    <tr>\n",
       "      <th>34609</th>\n",
       "      <td>1</td>\n",
       "      <td>1</td>\n",
       "    </tr>\n",
       "  </tbody>\n",
       "</table>\n",
       "</div>"
      ],
      "text/plain": [
       "       Real  Predict\n",
       "8644      1        1\n",
       "44774     1        1\n",
       "19090     1        1\n",
       "22116     1        1\n",
       "24332     3        1\n",
       "40613     1        1\n",
       "39053     1        1\n",
       "41290     1        2\n",
       "19860     1        1\n",
       "34609     1        1"
      ]
     },
     "execution_count": 124,
     "metadata": {},
     "output_type": "execute_result"
    }
   ],
   "source": [
    "## Compare the real value and predict value\n",
    "pd.DataFrame({'Real':y_test,'Predict':y_predict_dt1}, columns=['Real','Predict']).head(10)"
   ]
  },
  {
   "cell_type": "code",
   "execution_count": 125,
   "id": "21516324",
   "metadata": {},
   "outputs": [
    {
     "data": {
      "text/plain": [
       "array([[6868,  130,  370,   49,    3,    0],\n",
       "       [ 733,  106,   99,   14,    4,    0],\n",
       "       [ 872,   49,  766,  116,   19,    0],\n",
       "       [ 662,   28,  364,  171,   19,    0],\n",
       "       [  75,    5,  200,   49,   31,    0],\n",
       "       [   5,    1,   13,    2,    1,    0]])"
      ]
     },
     "execution_count": 125,
     "metadata": {},
     "output_type": "execute_result"
    }
   ],
   "source": [
    "## Plot the matrix\n",
    "cnf_matrix = confusion_matrix(y_test,y_predict_dt1)\n",
    "cnf_matrix"
   ]
  },
  {
   "cell_type": "code",
   "execution_count": 126,
   "id": "68789cd9",
   "metadata": {},
   "outputs": [
    {
     "data": {
      "image/png": "[encoded data removed]",
      "text/plain": [
       "<Figure size 640x480 with 2 Axes>"
      ]
     },
     "metadata": {},
     "output_type": "display_data"
    }
   ],
   "source": [
    "## Plot the heat graph\n",
    "plot_cnf_matirx(cnf_matrix,'Confusion matrix -- Decision Tree Refined')"
   ]
  },
  {
   "cell_type": "code",
   "execution_count": 127,
   "id": "b5b24b63",
   "metadata": {},
   "outputs": [
    {
     "name": "stdout",
     "output_type": "stream",
     "text": [
      "Variable: senlength_derived    Importance: 0.64\n",
      "Variable: AGE_AT_INCIDENT      Importance: 0.11\n",
      "Variable: his_prop             Importance: 0.09\n",
      "Variable: Livability           Importance: 0.05\n",
      "Variable: Incar                Importance: 0.04\n",
      "Variable: is_changed_offense   Importance: 0.02\n",
      "Variable: CHARGE_COUNT         Importance: 0.01\n",
      "Variable: is_black_derived     Importance: 0.01\n",
      "Variable: is_other_derived     Importance: 0.01\n",
      "Variable: is_white_derived     Importance: 0.01\n",
      "Variable: is_defendant_male    Importance: 0.01\n",
      "Variable: is_judge_male        Importance: 0.01\n",
      "Variable: is_hisp_derived      Importance: 0.0\n",
      "Variable: is_covid             Importance: 0.0\n"
     ]
    }
   ],
   "source": [
    "# Get numerical feature importances\n",
    "importances = list(dt_clf1.feature_importances_)\n",
    "\n",
    "# List of tuples with variable and importance\n",
    "feature_importances = [(feature, round(importance, 2)) for feature, importance in zip(feature_list, importances)]\n",
    "\n",
    "# Sort the feature importances by most important first\n",
    "feature_importances = sorted(feature_importances, key = lambda x: x[1], reverse = True)\n",
    "\n",
    "# Print out the feature and importances \n",
    "[print('Variable: {:20} Importance: {}'.format(*pair)) for pair in feature_importances];"
   ]
  },
  {
   "cell_type": "markdown",
   "id": "051ed1c0",
   "metadata": {},
   "source": [
    "### Refined Random Forest Model"
   ]
  },
  {
   "cell_type": "code",
   "execution_count": 128,
   "id": "9110b982",
   "metadata": {},
   "outputs": [
    {
     "name": "stderr",
     "output_type": "stream",
     "text": [
      "/Users/leowu/opt/anaconda3/lib/python3.9/site-packages/sklearn/model_selection/_validation.py:372: FitFailedWarning: \n",
      "1200 fits failed out of a total of 4800.\n",
      "The score on these train-test partitions for these parameters will be set to nan.\n",
      "If these failures are not expected, you can try to debug them by setting error_score='raise'.\n",
      "\n",
      "Below are more details about the failures:\n",
      "--------------------------------------------------------------------------------\n",
      "1200 fits failed with the following error:\n",
      "Traceback (most recent call last):\n",
      "  File \"/Users/leowu/opt/anaconda3/lib/python3.9/site-packages/sklearn/model_selection/_validation.py\", line 680, in _fit_and_score\n",
      "    estimator.fit(X_train, y_train, **fit_params)\n",
      "  File \"/Users/leowu/opt/anaconda3/lib/python3.9/site-packages/sklearn/ensemble/_forest.py\", line 450, in fit\n",
      "    trees = Parallel(\n",
      "  File \"/Users/leowu/opt/anaconda3/lib/python3.9/site-packages/joblib/parallel.py\", line 1048, in __call__\n",
      "    if self.dispatch_one_batch(iterator):\n",
      "  File \"/Users/leowu/opt/anaconda3/lib/python3.9/site-packages/joblib/parallel.py\", line 864, in dispatch_one_batch\n",
      "    self._dispatch(tasks)\n",
      "  File \"/Users/leowu/opt/anaconda3/lib/python3.9/site-packages/joblib/parallel.py\", line 782, in _dispatch\n",
      "    job = self._backend.apply_async(batch, callback=cb)\n",
      "  File \"/Users/leowu/opt/anaconda3/lib/python3.9/site-packages/joblib/_parallel_backends.py\", line 208, in apply_async\n",
      "    result = ImmediateResult(func)\n",
      "  File \"/Users/leowu/opt/anaconda3/lib/python3.9/site-packages/joblib/_parallel_backends.py\", line 572, in __init__\n",
      "    self.results = batch()\n",
      "  File \"/Users/leowu/opt/anaconda3/lib/python3.9/site-packages/joblib/parallel.py\", line 263, in __call__\n",
      "    return [func(*args, **kwargs)\n",
      "  File \"/Users/leowu/opt/anaconda3/lib/python3.9/site-packages/joblib/parallel.py\", line 263, in <listcomp>\n",
      "    return [func(*args, **kwargs)\n",
      "  File \"/Users/leowu/opt/anaconda3/lib/python3.9/site-packages/sklearn/utils/fixes.py\", line 216, in __call__\n",
      "    return self.function(*args, **kwargs)\n",
      "  File \"/Users/leowu/opt/anaconda3/lib/python3.9/site-packages/sklearn/ensemble/_forest.py\", line 185, in _parallel_build_trees\n",
      "    tree.fit(X, y, sample_weight=curr_sample_weight, check_input=False)\n",
      "  File \"/Users/leowu/opt/anaconda3/lib/python3.9/site-packages/sklearn/tree/_classes.py\", line 937, in fit\n",
      "    super().fit(\n",
      "  File \"/Users/leowu/opt/anaconda3/lib/python3.9/site-packages/sklearn/tree/_classes.py\", line 250, in fit\n",
      "    raise ValueError(\n",
      "ValueError: min_samples_split must be an integer greater than 1 or a float in (0.0, 1.0]; got the integer 1\n",
      "\n",
      "/Users/leowu/opt/anaconda3/lib/python3.9/site-packages/sklearn/model_selection/_search.py:969: UserWarning: One or more of the test scores are non-finite: [       nan        nan        nan        nan        nan 0.71292051\n",
      " 0.7122157  0.71368171 0.71280772 0.71342797 0.71280775 0.71277955\n",
      " 0.71277953 0.71314604 0.71292044 0.7133716  0.71255398 0.71382265\n",
      " 0.71294864 0.71311784        nan        nan        nan        nan\n",
      "        nan 0.71328696 0.7141046  0.71331523 0.71354074 0.71404818\n",
      " 0.71314603 0.71452749 0.71249759 0.71339974 0.71495035 0.71396361\n",
      " 0.71382265 0.712554   0.71323064 0.71416098        nan        nan\n",
      "        nan        nan        nan 0.71390731 0.71387905 0.71421737\n",
      " 0.71354074 0.71387904 0.71277956 0.71475298 0.71266679 0.71292052\n",
      " 0.71246946 0.71289244 0.71399179 0.71351255 0.71261037 0.71370992\n",
      "        nan        nan        nan        nan        nan 0.71331523\n",
      " 0.71337165 0.71449934 0.71354071 0.71325881 0.71227211 0.71424551\n",
      " 0.71328704 0.71277959 0.71435831 0.71300509 0.7139072  0.71438647\n",
      " 0.71303325 0.71368171        nan        nan        nan        nan\n",
      "        nan 0.7140482  0.71435828 0.71416096 0.71466843 0.71449922\n",
      " 0.71540139 0.71399175 0.71356892 0.71404814 0.71421731 0.71404816\n",
      " 0.71458386 0.7136817  0.71447106 0.71399177        nan        nan\n",
      "        nan        nan        nan 0.71447103 0.71416099 0.71528864\n",
      " 0.71362529 0.71480935 0.71407641 0.71402001 0.7135125  0.71390724\n",
      " 0.7146402  0.71345613 0.71514766 0.71390718 0.71342793 0.71461201\n",
      "        nan        nan        nan        nan        nan 0.71339978\n",
      " 0.71421736 0.71317419 0.7134844  0.71458384 0.71410462 0.71489398\n",
      " 0.71385082 0.71407638 0.71497852 0.713146   0.71573971 0.71514768\n",
      " 0.71325881 0.71565514        nan        nan        nan        nan\n",
      "        nan 0.71393542 0.71407638 0.71520409 0.71416097 0.71345617\n",
      " 0.71399183 0.71475299 0.71475297 0.71362531 0.71404824 0.71433015\n",
      " 0.71413281 0.71469659 0.71379443 0.71427371        nan        nan\n",
      "        nan        nan        nan 0.71339974 0.71416089 0.71337154\n",
      " 0.71511954 0.71495031 0.71370985 0.71345615 0.71373805 0.71421729\n",
      " 0.71427375 0.71348435 0.71303328 0.7153169  0.71523221 0.71514764\n",
      "        nan        nan        nan        nan        nan 0.71495041\n",
      " 0.71249763 0.71339971 0.71449929 0.71528865 0.71258219 0.7135407\n",
      " 0.71441465 0.71424559 0.71418918 0.71390721 0.71345615 0.71362526\n",
      " 0.71401999 0.71399184        nan        nan        nan        nan\n",
      "        nan 0.71359719 0.71345615 0.71399181 0.71379447 0.71452749\n",
      " 0.71308965 0.7143301  0.71435825 0.71421732 0.71345611 0.71303327\n",
      " 0.71396366 0.71348428 0.7139072  0.71373802        nan        nan\n",
      "        nan        nan        nan 0.71263855 0.71365356 0.71362528\n",
      " 0.71362527 0.71424554 0.71334341 0.71365353 0.71325878 0.71441464\n",
      " 0.71506307 0.71401999 0.71227205 0.71438651 0.71458389 0.7146966\n",
      "        nan        nan        nan        nan        nan 0.71292053\n",
      " 0.71345615 0.71311786 0.71373805 0.71368166 0.71404816 0.71370986\n",
      " 0.71402002 0.71325877 0.71370987 0.71286414 0.71404814 0.71300508\n",
      " 0.71373803 0.71345613        nan        nan        nan        nan\n",
      "        nan 0.71201834 0.71193382 0.7129205  0.71199016 0.71351248\n",
      " 0.71277956 0.71275134 0.71331525 0.713879   0.71263854 0.71331522\n",
      " 0.71331515 0.71303324 0.71308959 0.71424552        nan        nan\n",
      "        nan        nan        nan 0.71317422 0.71320249 0.71297684\n",
      " 0.71252583 0.71385085 0.71255392 0.71227211 0.71258221 0.71345613\n",
      " 0.71196203 0.71294863 0.71232849 0.71275139 0.71300503 0.71421732\n",
      "        nan        nan        nan        nan        nan 0.71230032\n",
      " 0.7129769  0.71297692 0.71325873 0.7125822  0.71089064 0.7122439\n",
      " 0.71272323 0.71325879 0.71345617 0.71193375 0.71342793 0.71190555\n",
      " 0.7132588  0.71224396        nan        nan        nan        nan\n",
      "        nan 0.71159555 0.71272309 0.7125541  0.71193375 0.71089056\n",
      " 0.71125715 0.71184916 0.71354067 0.71246947 0.71114433 0.71224385\n",
      " 0.71275135 0.71272314 0.71292047 0.7133153         nan        nan\n",
      "        nan        nan        nan 0.70990402 0.71120076 0.71111613\n",
      " 0.71074979 0.71108804 0.71001669 0.71151091 0.71168006 0.71114443\n",
      " 0.71224387 0.71168002 0.71277955 0.71331521 0.71187745 0.71266678\n",
      "        nan        nan        nan        nan        nan 0.71029877\n",
      " 0.71193382 0.70973478 0.71269493 0.71241303 0.71018587 0.71156728\n",
      " 0.71215932 0.7125822  0.71300505 0.70993214 0.7112854  0.71221569\n",
      " 0.71168003 0.71252581        nan        nan        nan        nan\n",
      "        nan 0.70967844 0.71055234 0.70970662 0.71089064 0.71041145\n",
      " 0.70950931 0.70970665 0.71252575 0.71021407 0.71097519 0.71074976\n",
      " 0.7104678  0.71089062 0.71159554 0.71069337        nan        nan\n",
      "        nan        nan        nan 0.70809971 0.70869171 0.71004488\n",
      " 0.71077787 0.7102422  0.70925559 0.71021405 0.7102705  0.71094707\n",
      " 0.71105985 0.71060876 0.71080613 0.71120082 0.71165185 0.71153903\n",
      "        nan        nan        nan        nan        nan 0.70897368\n",
      " 0.70894545 0.70793058 0.70880457 0.70973473 0.70925557 0.70993215\n",
      " 0.71066511 0.71029868 0.7102423  0.71018586 0.70942477 0.71060875\n",
      " 0.71027043 0.71249764        nan        nan        nan        nan\n",
      "        nan 0.70793052 0.70852255 0.70767685 0.70846617 0.70905819\n",
      " 0.70877629 0.70942471 0.70934012 0.7079587  0.71027047 0.71015768\n",
      " 0.70970665 0.71105985 0.70871988 0.70996037        nan        nan\n",
      "        nan        nan        nan 0.70722577 0.70530865 0.70798688\n",
      " 0.7073103  0.70849439 0.70812783 0.70578799 0.7084944  0.70945283\n",
      " 0.70936827 0.70925559 0.7089736  0.70894543 0.71029861 0.70948107\n",
      "        nan        nan        nan        nan        nan 0.71244122\n",
      " 0.71277963 0.71421732 0.71345613 0.71359716 0.71221562 0.71334329\n",
      " 0.71351258 0.7139355  0.71399178 0.71390723 0.71351251 0.71385082\n",
      " 0.71227207 0.7149221         nan        nan        nan        nan\n",
      "        nan 0.71311784 0.71393536 0.71354068 0.7147248  0.71359709\n",
      " 0.71466838 0.71283593 0.71345614 0.71348434 0.7139636  0.71421733\n",
      " 0.71365351 0.71390722 0.71376627 0.71370991        nan        nan\n",
      "        nan        nan        nan 0.71376624 0.71517583 0.71334337\n",
      " 0.71447106 0.71466841 0.71537318 0.71486572 0.71447106 0.71480933\n",
      " 0.71486574 0.71399181 0.71399177 0.71390716 0.71342799 0.71385086\n",
      "        nan        nan        nan        nan        nan 0.71328699\n",
      " 0.71506307 0.71354073 0.71416097 0.71458381 0.71342791 0.71464028\n",
      " 0.71413273 0.7135408  0.71382269 0.71489393 0.7146402  0.71427373\n",
      " 0.71418917 0.71483757        nan        nan        nan        nan\n",
      "        nan 0.71387902 0.71404815 0.71351252 0.71376628 0.71464021\n",
      " 0.71289233 0.71449923 0.71528864 0.71325882 0.7146402  0.71331516\n",
      " 0.7133152  0.71413276 0.71356893 0.7141045         nan        nan\n",
      "        nan        nan        nan 0.71393532 0.71464021 0.71472476\n",
      " 0.71433013 0.71399177 0.71373809 0.71385081 0.71438643 0.71410449\n",
      " 0.71413279 0.71427373 0.71201834 0.71402008 0.71438642 0.71447106\n",
      "        nan        nan        nan        nan        nan 0.71368164\n",
      " 0.71317427 0.7129487  0.71486574 0.71407637 0.71351248 0.71337156\n",
      " 0.71514766 0.71376619 0.7149503  0.71320251 0.71337155 0.71469669\n",
      " 0.71416093 0.71444287        nan        nan        nan        nan\n",
      "        nan 0.71337164 0.71480931 0.71489392 0.71461199 0.71416099\n",
      " 0.71379448 0.71390726 0.71269506 0.71461202 0.71368171 0.71435838\n",
      " 0.71249767 0.71410453 0.71387906 0.71337161        nan        nan\n",
      "        nan        nan        nan 0.71514772 0.7126104  0.71314602\n",
      " 0.71337152 0.71323056 0.71280775 0.71356885 0.71320233 0.71486572\n",
      " 0.71430186 0.71382264 0.71368166 0.71562695 0.71458384 0.71469653\n",
      "        nan        nan        nan        nan        nan 0.71393542\n",
      " 0.71252582 0.71300505 0.71362533 0.71452747 0.71401999 0.71385078\n",
      " 0.71427372 0.71410454 0.71509123 0.71252572 0.71401993 0.71478121\n",
      " 0.71438651 0.7141609         nan        nan        nan        nan\n",
      "        nan 0.71396361 0.7141891  0.71373809 0.71359713 0.7145556\n",
      " 0.71306144 0.71376622 0.71370985 0.71249763 0.71461195 0.71342789\n",
      " 0.71407643 0.71410455 0.71416088 0.71376622        nan        nan\n",
      "        nan        nan        nan 0.7124412  0.71244124 0.7122157\n",
      " 0.71221573 0.71356893 0.7139354  0.71314608 0.71238484 0.71407635\n",
      " 0.71328698 0.71261034 0.7138791  0.71328698 0.71404819 0.71337154\n",
      "        nan        nan        nan        nan        nan 0.71385084\n",
      " 0.71277957 0.71224391 0.71351251 0.71354067 0.71308962 0.71255398\n",
      " 0.71255401 0.71433008 0.71354076 0.71252572 0.71246935 0.71438641\n",
      " 0.71345612 0.71297689        nan        nan        nan        nan\n",
      "        nan 0.71196197 0.7120184  0.71201834 0.71269495 0.71385089\n",
      " 0.71359707 0.71283591 0.71238486 0.71294865 0.71328695 0.71356892\n",
      " 0.71317417 0.71252579 0.71300509 0.71362532        nan        nan\n",
      "        nan        nan        nan 0.71235662 0.71314608 0.71168005\n",
      " 0.7116237  0.71238482 0.7109471  0.71187741 0.713287   0.71196198\n",
      " 0.71266675 0.71368172 0.71325884 0.71325882 0.71292055 0.71241304\n",
      "        nan        nan        nan        nan        nan 0.71176461\n",
      " 0.7123849  0.71269498 0.71258213 0.71066514 0.71232842 0.71244122\n",
      " 0.71193382 0.71244118 0.71311781 0.7115109  0.7117082  0.71266683\n",
      " 0.71418917 0.71277959        nan        nan        nan        nan\n",
      "        nan 0.71035507 0.71128536 0.7108343  0.71128537 0.71193372\n",
      " 0.71314609 0.71182101 0.71218751 0.71289231 0.71263853 0.71269499\n",
      " 0.71111621 0.7120465  0.711962   0.71317425        nan        nan\n",
      "        nan        nan        nan 0.71182103 0.71182106 0.71190564\n",
      " 0.71114431 0.7118211  0.71131359 0.71007317 0.71224392 0.71213116\n",
      " 0.7121311  0.70973479 0.71187737 0.71354072 0.71134174 0.71272317\n",
      "        nan        nan        nan        nan        nan 0.71063688\n",
      " 0.71041144 0.71108809 0.71105986 0.71153909 0.71052419 0.71148273\n",
      " 0.7113135  0.71125722 0.71176461 0.71125722 0.71207477 0.71072149\n",
      " 0.71097527 0.71213113        nan        nan        nan        nan\n",
      "        nan 0.7087763  0.70996032 0.71210295 0.71029866 0.71173646\n",
      " 0.71032681 0.70967843 0.7109752  0.71137    0.71108801 0.71021406\n",
      " 0.71032676 0.71139816 0.71027043 0.71080605        nan        nan\n",
      "        nan        nan        nan 0.70731029 0.70984755 0.70877622\n",
      " 0.71074968 0.71077797 0.70934009 0.71029868 0.71139816 0.71153904\n",
      " 0.71176462 0.71038326 0.70998861 0.71052417 0.71173643 0.71122895\n",
      "        nan        nan        nan        nan        nan 0.70897362\n",
      " 0.70970664 0.70911456 0.71027043 0.70934005 0.70826882 0.70835342\n",
      " 0.71032686 0.71080616 0.71055238 0.71120077 0.71210293 0.70939659\n",
      " 0.71136994 0.71120081        nan        nan        nan        nan\n",
      "        nan 0.70931196 0.70928375 0.70922733 0.70993212 0.70984753\n",
      " 0.70869165 0.70928384 0.71190564 0.71029868 0.71066511 0.70928378\n",
      " 0.71007305 0.71018586 0.70874807 0.70945285        nan        nan\n",
      "        nan        nan        nan 0.70702824 0.70801514 0.7084098\n",
      " 0.70897368 0.70919914 0.70843798 0.71018595 0.70860707 0.70863531\n",
      " 0.70922736 0.70886081 0.70945291 0.70857895 0.71029865 0.7097912 ]\n"
     ]
    },
    {
     "data": {
      "text/plain": [
       "GridSearchCV(estimator=RandomForestClassifier(),\n",
       "             param_grid={'criterion': ['entropy', 'gini'],\n",
       "                         'max_depth': [8, 9, 10, 11, 12, 13],\n",
       "                         'max_features': [0.5, 0.6, 0.7, 0.8],\n",
       "                         'min_samples_split': [1, 2, 3, 4],\n",
       "                         'n_estimators': [15, 17, 19, 21, 23]})"
      ]
     },
     "execution_count": 128,
     "metadata": {},
     "output_type": "execute_result"
    }
   ],
   "source": [
    "param_grid = {\n",
    "    'criterion':['entropy','gini'],\n",
    "    'max_depth':[8,9,10,11,12,13],    \n",
    "    'n_estimators':[15,17,19,21,23], \n",
    "    'max_features':[0.5,0.6,0.7,0.8],\n",
    "    'min_samples_split':[1,2,3,4]  \n",
    "}\n",
    "\n",
    "import sklearn.ensemble as ensemble \n",
    "from sklearn.ensemble import RandomForestClassifier\n",
    "rf_clf1 = ensemble.RandomForestClassifier()\n",
    "grid_search = GridSearchCV(rf_clf1,param_grid)\n",
    "grid_search.fit(X_train, y_train)"
   ]
  },
  {
   "cell_type": "code",
   "execution_count": 129,
   "id": "22803cfe",
   "metadata": {},
   "outputs": [
    {
     "data": {
      "text/plain": [
       "RandomForestClassifier(criterion='entropy', max_depth=9, max_features=0.7,\n",
       "                       min_samples_split=4, n_estimators=17)"
      ]
     },
     "execution_count": 129,
     "metadata": {},
     "output_type": "execute_result"
    }
   ],
   "source": [
    "## To see the optimal model information\n",
    "grid_search.best_estimator_"
   ]
  },
  {
   "cell_type": "code",
   "execution_count": 130,
   "id": "aed8c849",
   "metadata": {},
   "outputs": [
    {
     "data": {
      "text/plain": [
       "0.7331623015984889"
      ]
     },
     "execution_count": 130,
     "metadata": {},
     "output_type": "execute_result"
    }
   ],
   "source": [
    "## The score of train model\n",
    "rf_clf1 = grid_search.best_estimator_\n",
    "rf_clf1.score(X_train,y_train)"
   ]
  },
  {
   "cell_type": "code",
   "execution_count": 131,
   "id": "1463de69",
   "metadata": {},
   "outputs": [
    {
     "data": {
      "text/plain": [
       "0.7153247631935047"
      ]
     },
     "execution_count": 131,
     "metadata": {},
     "output_type": "execute_result"
    }
   ],
   "source": [
    "## The score of test model\n",
    "rf_clf1.score(X_test,y_test)"
   ]
  },
  {
   "cell_type": "code",
   "execution_count": 132,
   "id": "660b95fa",
   "metadata": {},
   "outputs": [
    {
     "data": {
      "text/plain": [
       "1.0395874251853372"
      ]
     },
     "execution_count": 132,
     "metadata": {},
     "output_type": "execute_result"
    }
   ],
   "source": [
    "## The RMSE of train data set\n",
    "train_preds2 = rf_clf1.predict(X_train)\n",
    "mse = mean_squared_error(y_train, train_preds2)\n",
    "rmse = sqrt(mse)\n",
    "rmse"
   ]
  },
  {
   "cell_type": "code",
   "execution_count": 133,
   "id": "ba9af83f",
   "metadata": {},
   "outputs": [
    {
     "data": {
      "text/plain": [
       "1.0587048154858285"
      ]
     },
     "execution_count": 133,
     "metadata": {},
     "output_type": "execute_result"
    }
   ],
   "source": [
    "## The RMSE of test data set\n",
    "y_predict_rf1 = rf_clf1.predict(X_test)\n",
    "mse = mean_squared_error(y_test, y_predict_rf1)\n",
    "rmse = sqrt(mse)\n",
    "rmse"
   ]
  },
  {
   "cell_type": "code",
   "execution_count": 134,
   "id": "9e690a20",
   "metadata": {},
   "outputs": [
    {
     "name": "stdout",
     "output_type": "stream",
     "text": [
      "              precision    recall  f1-score   support\n",
      "\n",
      "           1       0.76      0.95      0.84      7420\n",
      "           2       0.57      0.12      0.20       956\n",
      "           3       0.59      0.40      0.47      1822\n",
      "           4       0.50      0.30      0.37      1244\n",
      "           5       0.57      0.44      0.50       360\n",
      "           6       0.45      0.41      0.43        22\n",
      "\n",
      "    accuracy                           0.72     11824\n",
      "   macro avg       0.57      0.44      0.47     11824\n",
      "weighted avg       0.68      0.72      0.67     11824\n",
      "\n"
     ]
    }
   ],
   "source": [
    "## Get F1-score\n",
    "print(classification_report(y_test,y_predict_rf1))"
   ]
  },
  {
   "cell_type": "code",
   "execution_count": 135,
   "id": "2029c0fa",
   "metadata": {},
   "outputs": [
    {
     "data": {
      "text/html": [
       "<div>\n",
       "<style scoped>\n",
       "    .dataframe tbody tr th:only-of-type {\n",
       "        vertical-align: middle;\n",
       "    }\n",
       "\n",
       "    .dataframe tbody tr th {\n",
       "        vertical-align: top;\n",
       "    }\n",
       "\n",
       "    .dataframe thead th {\n",
       "        text-align: right;\n",
       "    }\n",
       "</style>\n",
       "<table border=\"1\" class=\"dataframe\">\n",
       "  <thead>\n",
       "    <tr style=\"text-align: right;\">\n",
       "      <th></th>\n",
       "      <th>Real</th>\n",
       "      <th>Predict</th>\n",
       "    </tr>\n",
       "  </thead>\n",
       "  <tbody>\n",
       "    <tr>\n",
       "      <th>8644</th>\n",
       "      <td>1</td>\n",
       "      <td>1</td>\n",
       "    </tr>\n",
       "    <tr>\n",
       "      <th>44774</th>\n",
       "      <td>1</td>\n",
       "      <td>1</td>\n",
       "    </tr>\n",
       "    <tr>\n",
       "      <th>19090</th>\n",
       "      <td>1</td>\n",
       "      <td>1</td>\n",
       "    </tr>\n",
       "    <tr>\n",
       "      <th>22116</th>\n",
       "      <td>1</td>\n",
       "      <td>1</td>\n",
       "    </tr>\n",
       "    <tr>\n",
       "      <th>24332</th>\n",
       "      <td>3</td>\n",
       "      <td>1</td>\n",
       "    </tr>\n",
       "    <tr>\n",
       "      <th>40613</th>\n",
       "      <td>1</td>\n",
       "      <td>1</td>\n",
       "    </tr>\n",
       "    <tr>\n",
       "      <th>39053</th>\n",
       "      <td>1</td>\n",
       "      <td>1</td>\n",
       "    </tr>\n",
       "    <tr>\n",
       "      <th>41290</th>\n",
       "      <td>1</td>\n",
       "      <td>2</td>\n",
       "    </tr>\n",
       "    <tr>\n",
       "      <th>19860</th>\n",
       "      <td>1</td>\n",
       "      <td>1</td>\n",
       "    </tr>\n",
       "    <tr>\n",
       "      <th>34609</th>\n",
       "      <td>1</td>\n",
       "      <td>1</td>\n",
       "    </tr>\n",
       "  </tbody>\n",
       "</table>\n",
       "</div>"
      ],
      "text/plain": [
       "       Real  Predict\n",
       "8644      1        1\n",
       "44774     1        1\n",
       "19090     1        1\n",
       "22116     1        1\n",
       "24332     3        1\n",
       "40613     1        1\n",
       "39053     1        1\n",
       "41290     1        2\n",
       "19860     1        1\n",
       "34609     1        1"
      ]
     },
     "execution_count": 135,
     "metadata": {},
     "output_type": "execute_result"
    }
   ],
   "source": [
    "## Compare the real value and predict value\n",
    "pd.DataFrame({'Real':y_test,'Predict':y_predict_rf1}, columns=['Real','Predict']).head(10)"
   ]
  },
  {
   "cell_type": "code",
   "execution_count": 136,
   "id": "78b1c386",
   "metadata": {},
   "outputs": [
    {
     "data": {
      "text/plain": [
       "array([[7085,   66,  198,   68,    2,    1],\n",
       "       [ 732,  114,   79,   27,    4,    0],\n",
       "       [ 863,   10,  725,  189,   35,    0],\n",
       "       [ 645,   10,  153,  367,   68,    1],\n",
       "       [  29,    0,   76,   88,  158,    9],\n",
       "       [   1,    0,    1,    0,   11,    9]])"
      ]
     },
     "execution_count": 136,
     "metadata": {},
     "output_type": "execute_result"
    }
   ],
   "source": [
    "## Plot the matrix\n",
    "cnf_matrix1 = confusion_matrix(y_test,y_predict_rf1)\n",
    "cnf_matrix1"
   ]
  },
  {
   "cell_type": "code",
   "execution_count": 137,
   "id": "1eba6fdf",
   "metadata": {},
   "outputs": [
    {
     "data": {
      "image/png": "[encoded data removed]",
      "text/plain": [
       "<Figure size 640x480 with 2 Axes>"
      ]
     },
     "metadata": {},
     "output_type": "display_data"
    }
   ],
   "source": [
    "## Plot the heat graph\n",
    "plot_cnf_matirx(cnf_matrix1,'Confusion matrix -- Random Forest Redined')"
   ]
  },
  {
   "cell_type": "code",
   "execution_count": 138,
   "id": "8ed9c0d8",
   "metadata": {},
   "outputs": [
    {
     "name": "stdout",
     "output_type": "stream",
     "text": [
      "Variable: senlength_derived    Importance: 0.64\n",
      "Variable: AGE_AT_INCIDENT      Importance: 0.1\n",
      "Variable: his_prop             Importance: 0.09\n",
      "Variable: Incar                Importance: 0.08\n",
      "Variable: Livability           Importance: 0.03\n",
      "Variable: is_changed_offense   Importance: 0.01\n",
      "Variable: is_black_derived     Importance: 0.01\n",
      "Variable: is_other_derived     Importance: 0.01\n",
      "Variable: is_white_derived     Importance: 0.01\n",
      "Variable: is_defendant_male    Importance: 0.01\n",
      "Variable: is_judge_male        Importance: 0.01\n",
      "Variable: CHARGE_COUNT         Importance: 0.0\n",
      "Variable: is_hisp_derived      Importance: 0.0\n",
      "Variable: is_covid             Importance: 0.0\n"
     ]
    }
   ],
   "source": [
    "# Get numerical feature importances\n",
    "importances = list(rf_clf1.feature_importances_)\n",
    "\n",
    "# List of tuples with variable and importance\n",
    "feature_importances = [(feature, round(importance, 2)) for feature, importance in zip(feature_list, importances)]\n",
    "\n",
    "# Sort the feature importances by most important first\n",
    "feature_importances = sorted(feature_importances, key = lambda x: x[1], reverse = True)\n",
    "\n",
    "# Print out the feature and importances \n",
    "[print('Variable: {:20} Importance: {}'.format(*pair)) for pair in feature_importances];"
   ]
  },
  {
   "cell_type": "markdown",
   "id": "d159ec5d",
   "metadata": {},
   "source": [
    "### View the prediction Result"
   ]
  },
  {
   "cell_type": "code",
   "execution_count": 159,
   "id": "b62493d1",
   "metadata": {},
   "outputs": [
    {
     "data": {
      "text/html": [
       "<div>\n",
       "<style scoped>\n",
       "    .dataframe tbody tr th:only-of-type {\n",
       "        vertical-align: middle;\n",
       "    }\n",
       "\n",
       "    .dataframe tbody tr th {\n",
       "        vertical-align: top;\n",
       "    }\n",
       "\n",
       "    .dataframe thead th {\n",
       "        text-align: right;\n",
       "    }\n",
       "</style>\n",
       "<table border=\"1\" class=\"dataframe\">\n",
       "  <thead>\n",
       "    <tr style=\"text-align: right;\">\n",
       "      <th></th>\n",
       "      <th>Real</th>\n",
       "      <th>Logistic Regression</th>\n",
       "      <th>KNN</th>\n",
       "      <th>Decision Tree</th>\n",
       "      <th>Random Forest</th>\n",
       "      <th>Decision Tree Refined</th>\n",
       "      <th>Random Forest Refined</th>\n",
       "    </tr>\n",
       "  </thead>\n",
       "  <tbody>\n",
       "    <tr>\n",
       "      <th>0</th>\n",
       "      <td>1</td>\n",
       "      <td>1</td>\n",
       "      <td>1</td>\n",
       "      <td>1</td>\n",
       "      <td>1</td>\n",
       "      <td>1</td>\n",
       "      <td>1</td>\n",
       "    </tr>\n",
       "    <tr>\n",
       "      <th>1</th>\n",
       "      <td>1</td>\n",
       "      <td>1</td>\n",
       "      <td>1</td>\n",
       "      <td>1</td>\n",
       "      <td>1</td>\n",
       "      <td>1</td>\n",
       "      <td>1</td>\n",
       "    </tr>\n",
       "    <tr>\n",
       "      <th>2</th>\n",
       "      <td>1</td>\n",
       "      <td>1</td>\n",
       "      <td>1</td>\n",
       "      <td>1</td>\n",
       "      <td>1</td>\n",
       "      <td>1</td>\n",
       "      <td>1</td>\n",
       "    </tr>\n",
       "    <tr>\n",
       "      <th>3</th>\n",
       "      <td>1</td>\n",
       "      <td>1</td>\n",
       "      <td>1</td>\n",
       "      <td>1</td>\n",
       "      <td>1</td>\n",
       "      <td>1</td>\n",
       "      <td>1</td>\n",
       "    </tr>\n",
       "    <tr>\n",
       "      <th>4</th>\n",
       "      <td>3</td>\n",
       "      <td>1</td>\n",
       "      <td>1</td>\n",
       "      <td>1</td>\n",
       "      <td>1</td>\n",
       "      <td>1</td>\n",
       "      <td>1</td>\n",
       "    </tr>\n",
       "    <tr>\n",
       "      <th>5</th>\n",
       "      <td>1</td>\n",
       "      <td>1</td>\n",
       "      <td>1</td>\n",
       "      <td>1</td>\n",
       "      <td>1</td>\n",
       "      <td>1</td>\n",
       "      <td>1</td>\n",
       "    </tr>\n",
       "    <tr>\n",
       "      <th>6</th>\n",
       "      <td>1</td>\n",
       "      <td>1</td>\n",
       "      <td>1</td>\n",
       "      <td>1</td>\n",
       "      <td>1</td>\n",
       "      <td>1</td>\n",
       "      <td>1</td>\n",
       "    </tr>\n",
       "    <tr>\n",
       "      <th>7</th>\n",
       "      <td>1</td>\n",
       "      <td>1</td>\n",
       "      <td>1</td>\n",
       "      <td>2</td>\n",
       "      <td>2</td>\n",
       "      <td>2</td>\n",
       "      <td>2</td>\n",
       "    </tr>\n",
       "    <tr>\n",
       "      <th>8</th>\n",
       "      <td>1</td>\n",
       "      <td>1</td>\n",
       "      <td>1</td>\n",
       "      <td>1</td>\n",
       "      <td>1</td>\n",
       "      <td>1</td>\n",
       "      <td>1</td>\n",
       "    </tr>\n",
       "    <tr>\n",
       "      <th>9</th>\n",
       "      <td>1</td>\n",
       "      <td>1</td>\n",
       "      <td>1</td>\n",
       "      <td>1</td>\n",
       "      <td>1</td>\n",
       "      <td>1</td>\n",
       "      <td>1</td>\n",
       "    </tr>\n",
       "  </tbody>\n",
       "</table>\n",
       "</div>"
      ],
      "text/plain": [
       "   Real  Logistic Regression  KNN  Decision Tree  Random Forest  \\\n",
       "0     1                    1    1              1              1   \n",
       "1     1                    1    1              1              1   \n",
       "2     1                    1    1              1              1   \n",
       "3     1                    1    1              1              1   \n",
       "4     3                    1    1              1              1   \n",
       "5     1                    1    1              1              1   \n",
       "6     1                    1    1              1              1   \n",
       "7     1                    1    1              2              2   \n",
       "8     1                    1    1              1              1   \n",
       "9     1                    1    1              1              1   \n",
       "\n",
       "   Decision Tree Refined  Random Forest Refined  \n",
       "0                      1                      1  \n",
       "1                      1                      1  \n",
       "2                      1                      1  \n",
       "3                      1                      1  \n",
       "4                      1                      1  \n",
       "5                      1                      1  \n",
       "6                      1                      1  \n",
       "7                      2                      2  \n",
       "8                      1                      1  \n",
       "9                      1                      1  "
      ]
     },
     "execution_count": 159,
     "metadata": {},
     "output_type": "execute_result"
    }
   ],
   "source": [
    "pd.DataFrame({'Real':y_test,'Logistic Regression':y_pred, 'KNN':y_predict_knn, 'Decision Tree':y_predict_dt,\n",
    "              'Random Forest':y_predict_rf, 'Decision Tree Refined':y_predict_dt1,\n",
    "              'Random Forest Refined':y_predict_rf1}).reset_index().drop(columns='index').head(10)"
   ]
  },
  {
   "cell_type": "markdown",
   "id": "49384c46",
   "metadata": {},
   "source": [
    "### Compare the model results"
   ]
  },
  {
   "cell_type": "code",
   "execution_count": 155,
   "id": "404c10ca",
   "metadata": {},
   "outputs": [],
   "source": [
    "Logistic_score = log_reg.score(X_test,y_test)\n",
    "KNN_score = knn_clf.score(X_test,y_test)\n",
    "dt_score = dt_clf.score(X_test,y_test)\n",
    "rf_score = rf_clf.score(X_test,y_test)\n",
    "dt_refine_score = dt_clf1.score(X_test,y_test)\n",
    "rf_refine_score = rf_clf1.score(X_test,y_test)"
   ]
  },
  {
   "cell_type": "code",
   "execution_count": 156,
   "id": "d1b6c0f9",
   "metadata": {},
   "outputs": [
    {
     "data": {
      "text/html": [
       "<div>\n",
       "<style scoped>\n",
       "    .dataframe tbody tr th:only-of-type {\n",
       "        vertical-align: middle;\n",
       "    }\n",
       "\n",
       "    .dataframe tbody tr th {\n",
       "        vertical-align: top;\n",
       "    }\n",
       "\n",
       "    .dataframe thead th {\n",
       "        text-align: right;\n",
       "    }\n",
       "</style>\n",
       "<table border=\"1\" class=\"dataframe\">\n",
       "  <thead>\n",
       "    <tr style=\"text-align: right;\">\n",
       "      <th></th>\n",
       "      <th>Model</th>\n",
       "      <th>Score</th>\n",
       "    </tr>\n",
       "  </thead>\n",
       "  <tbody>\n",
       "    <tr>\n",
       "      <th>5</th>\n",
       "      <td>Random Forest Model Refined</td>\n",
       "      <td>0.715325</td>\n",
       "    </tr>\n",
       "    <tr>\n",
       "      <th>3</th>\n",
       "      <td>Random Forest Model</td>\n",
       "      <td>0.712618</td>\n",
       "    </tr>\n",
       "    <tr>\n",
       "      <th>1</th>\n",
       "      <td>KNN Model</td>\n",
       "      <td>0.693251</td>\n",
       "    </tr>\n",
       "    <tr>\n",
       "      <th>2</th>\n",
       "      <td>Decision Tree Model</td>\n",
       "      <td>0.671685</td>\n",
       "    </tr>\n",
       "    <tr>\n",
       "      <th>4</th>\n",
       "      <td>Decision Tree Model Refined</td>\n",
       "      <td>0.671685</td>\n",
       "    </tr>\n",
       "    <tr>\n",
       "      <th>0</th>\n",
       "      <td>Logistic Regression Model</td>\n",
       "      <td>0.662720</td>\n",
       "    </tr>\n",
       "  </tbody>\n",
       "</table>\n",
       "</div>"
      ],
      "text/plain": [
       "                         Model     Score\n",
       "5  Random Forest Model Refined  0.715325\n",
       "3          Random Forest Model  0.712618\n",
       "1                    KNN Model  0.693251\n",
       "2          Decision Tree Model  0.671685\n",
       "4  Decision Tree Model Refined  0.671685\n",
       "0    Logistic Regression Model  0.662720"
      ]
     },
     "execution_count": 156,
     "metadata": {},
     "output_type": "execute_result"
    }
   ],
   "source": [
    "model_result = pd.DataFrame({\n",
    "    'Model': [ 'Logistic Regression Model', 'KNN Model', 'Decision Tree Model','Random Forest Model', \\\n",
    "              'Decision Tree Model Refined','Random Forest Model Refined'],\n",
    "    'Score': [ Logistic_score, KNN_score, dt_score, rf_score, dt_refine_score, rf_refine_score]})\n",
    "model_result.sort_values(by='Score', ascending=False)"
   ]
  },
  {
   "cell_type": "markdown",
   "id": "b33c6866",
   "metadata": {},
   "source": [
    "### Plot the feature importances together"
   ]
  },
  {
   "cell_type": "code",
   "execution_count": 143,
   "id": "c26f609d",
   "metadata": {},
   "outputs": [
    {
     "data": {
      "image/png": "[encoded data removed]",
      "text/plain": [
       "<Figure size 1800x800 with 1 Axes>"
      ]
     },
     "metadata": {},
     "output_type": "display_data"
    }
   ],
   "source": [
    "## Compare the feature importances of Random Forest and Decision Tree\n",
    "feature_importance1=pd.DataFrame({\n",
    "    'dt':dt_clf.feature_importances_,\n",
    "    'rfc':rf_clf.feature_importances_,\n",
    "    'dt_refine':dt_clf1.feature_importances_,\n",
    "    'rfc_refine':rf_clf1.feature_importances_\n",
    "},index=new_df.drop(['DISPOSITION_CHARGED_CLASS'], axis = 1).columns)\n",
    "feature_importance1.sort_values(by='rfc',ascending=True,inplace=True)\n",
    "\n",
    "index = np.arange(len(feature_importance1))\n",
    "fig, ax = plt.subplots(figsize=(18,8))\n",
    "dt_feature=ax.barh(index,feature_importance1['dt'],0.2,color='red',label='Decision Tree')\n",
    "rfc_feature=ax.barh(index+0.2,feature_importance1['rfc'],0.2,color='yellow',label='Random Forest')\n",
    "dt_refine_feature=ax.barh(index+0.4,feature_importance1['dt_refine'],0.2,color='lightgreen',label='Decision Tree Refined')\n",
    "rfc_refine_feature=ax.barh(index+0.6,feature_importance1['rfc_refine'],0.2,color='blue',label='Random Forest Refined')\n",
    "ax.set(yticks=index+0.4,yticklabels=feature_importance1.index)\n",
    "\n",
    "ax.legend()\n",
    "plt.show()"
   ]
  }
 ],
 "metadata": {
  "kernelspec": {
   "display_name": "Python 3 (ipykernel)",
   "language": "python",
   "name": "python3"
  },
  "language_info": {
   "codemirror_mode": {
    "name": "ipython",
    "version": 3
   },
   "file_extension": ".py",
   "mimetype": "text/x-python",
   "name": "python",
   "nbconvert_exporter": "python",
   "pygments_lexer": "ipython3",
   "version": "3.9.15"
  }
 },
 "nbformat": 4,
 "nbformat_minor": 5
}
