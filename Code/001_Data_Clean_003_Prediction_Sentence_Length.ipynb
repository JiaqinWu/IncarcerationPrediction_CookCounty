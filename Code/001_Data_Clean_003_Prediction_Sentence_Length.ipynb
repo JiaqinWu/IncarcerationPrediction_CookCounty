{
 "cells": [
  {
   "cell_type": "markdown",
   "id": "f5d6f73e",
   "metadata": {},
   "source": [
    "# Predict the Sentence Length of defendants\n",
    "## Data Clean and Data Merge"
   ]
  },
  {
   "cell_type": "code",
   "execution_count": 1,
   "id": "6de468e2",
   "metadata": {},
   "outputs": [
    {
     "name": "stdout",
     "output_type": "stream",
     "text": [
      "Requirement already satisfied: gender_guesser in /Users/leowu/opt/anaconda3/lib/python3.9/site-packages (0.4.0)\n",
      "Requirement already satisfied: xlrd in /Users/leowu/opt/anaconda3/lib/python3.9/site-packages (2.0.1)\n",
      "Requirement already satisfied: openpyxl in /Users/leowu/opt/anaconda3/lib/python3.9/site-packages (3.0.10)\n",
      "Requirement already satisfied: et_xmlfile in /Users/leowu/opt/anaconda3/lib/python3.9/site-packages (from openpyxl) (1.1.0)\n"
     ]
    }
   ],
   "source": [
    "# Import basic functionality\n",
    "import pandas as pd\n",
    "import numpy as np\n",
    "!pip install gender_guesser\n",
    "!pip install xlrd\n",
    "!pip install openpyxl\n",
    "import gender_guesser.detector as gender\n",
    "import re"
   ]
  },
  {
   "cell_type": "code",
   "execution_count": 2,
   "id": "05d3cb05",
   "metadata": {},
   "outputs": [
    {
     "name": "stderr",
     "output_type": "stream",
     "text": [
      "/var/folders/39/p0rpjrxj68l4cbrkhyvw78fm0000gn/T/ipykernel_78503/3047373821.py:2: DtypeWarning: Columns (10,11,14,25) have mixed types. Specify dtype option on import or set low_memory=False.\n",
      "  df = pd.read_csv(\"../Dataset/sentencing_asof0405.csv\")\n"
     ]
    }
   ],
   "source": [
    "# Read the data\n",
    "df = pd.read_csv(\"../Dataset/sentencing_asof0405.csv\")\n",
    "police_stations = pd.read_csv('../Dataset/Police_Stations.csv')\n",
    "# Clean the df, subset the PRIMARY_CHARGE_FLAG == True\n",
    "df1 = df[df.PRIMARY_CHARGE_FLAG == True]"
   ]
  },
  {
   "cell_type": "code",
   "execution_count": 3,
   "id": "cad18016",
   "metadata": {},
   "outputs": [
    {
     "name": "stdout",
     "output_type": "stream",
     "text": [
      "(180625, 41)\n"
     ]
    },
    {
     "data": {
      "text/html": [
       "<div>\n",
       "<style scoped>\n",
       "    .dataframe tbody tr th:only-of-type {\n",
       "        vertical-align: middle;\n",
       "    }\n",
       "\n",
       "    .dataframe tbody tr th {\n",
       "        vertical-align: top;\n",
       "    }\n",
       "\n",
       "    .dataframe thead th {\n",
       "        text-align: right;\n",
       "    }\n",
       "</style>\n",
       "<table border=\"1\" class=\"dataframe\">\n",
       "  <thead>\n",
       "    <tr style=\"text-align: right;\">\n",
       "      <th></th>\n",
       "      <th>CASE_ID</th>\n",
       "      <th>CASE_PARTICIPANT_ID</th>\n",
       "      <th>RECEIVED_DATE</th>\n",
       "      <th>OFFENSE_CATEGORY</th>\n",
       "      <th>PRIMARY_CHARGE_FLAG</th>\n",
       "      <th>CHARGE_ID</th>\n",
       "      <th>CHARGE_VERSION_ID</th>\n",
       "      <th>DISPOSITION_CHARGED_OFFENSE_TITLE</th>\n",
       "      <th>CHARGE_COUNT</th>\n",
       "      <th>DISPOSITION_DATE</th>\n",
       "      <th>...</th>\n",
       "      <th>INCIDENT_CITY</th>\n",
       "      <th>INCIDENT_BEGIN_DATE</th>\n",
       "      <th>INCIDENT_END_DATE</th>\n",
       "      <th>LAW_ENFORCEMENT_AGENCY</th>\n",
       "      <th>LAW_ENFORCEMENT_UNIT</th>\n",
       "      <th>ARREST_DATE</th>\n",
       "      <th>FELONY_REVIEW_DATE</th>\n",
       "      <th>FELONY_REVIEW_RESULT</th>\n",
       "      <th>ARRAIGNMENT_DATE</th>\n",
       "      <th>UPDATED_OFFENSE_CATEGORY</th>\n",
       "    </tr>\n",
       "  </thead>\n",
       "  <tbody>\n",
       "    <tr>\n",
       "      <th>9</th>\n",
       "      <td>149765331439</td>\n",
       "      <td>175691153649</td>\n",
       "      <td>8/15/1984 12:00:00 AM</td>\n",
       "      <td>PROMIS Conversion</td>\n",
       "      <td>True</td>\n",
       "      <td>50510062193</td>\n",
       "      <td>112898098217</td>\n",
       "      <td>FIRST DEGREE MURDER</td>\n",
       "      <td>1</td>\n",
       "      <td>12/17/2014 12:00:00 AM</td>\n",
       "      <td>...</td>\n",
       "      <td>NaN</td>\n",
       "      <td>8/9/1984 12:00:00 AM</td>\n",
       "      <td>NaN</td>\n",
       "      <td>CHICAGO POLICE DEPT</td>\n",
       "      <td>NaN</td>\n",
       "      <td>8/15/1984 12:00:00 AM</td>\n",
       "      <td>08/15/1984 12:00:00 AM</td>\n",
       "      <td>Charge(S) Approved</td>\n",
       "      <td>9/21/1984 12:00:00 AM</td>\n",
       "      <td>Homicide</td>\n",
       "    </tr>\n",
       "    <tr>\n",
       "      <th>10</th>\n",
       "      <td>149765331439</td>\n",
       "      <td>175691153649</td>\n",
       "      <td>8/15/1984 12:00:00 AM</td>\n",
       "      <td>PROMIS Conversion</td>\n",
       "      <td>True</td>\n",
       "      <td>50510062193</td>\n",
       "      <td>112898098217</td>\n",
       "      <td>FIRST DEGREE MURDER</td>\n",
       "      <td>1</td>\n",
       "      <td>12/17/2014 12:00:00 AM</td>\n",
       "      <td>...</td>\n",
       "      <td>NaN</td>\n",
       "      <td>8/9/1984 12:00:00 AM</td>\n",
       "      <td>NaN</td>\n",
       "      <td>CHICAGO POLICE DEPT</td>\n",
       "      <td>NaN</td>\n",
       "      <td>8/15/1984 12:00:00 AM</td>\n",
       "      <td>08/15/1984 12:00:00 AM</td>\n",
       "      <td>Charge(S) Approved</td>\n",
       "      <td>9/21/1984 12:00:00 AM</td>\n",
       "      <td>Homicide</td>\n",
       "    </tr>\n",
       "    <tr>\n",
       "      <th>15</th>\n",
       "      <td>150065796098</td>\n",
       "      <td>162105612284</td>\n",
       "      <td>8/23/1984 12:00:00 AM</td>\n",
       "      <td>PROMIS Conversion</td>\n",
       "      <td>True</td>\n",
       "      <td>50792360681</td>\n",
       "      <td>113332130159</td>\n",
       "      <td>FIRST DEGREE MURDER</td>\n",
       "      <td>1</td>\n",
       "      <td>8/6/2014 12:00:00 AM</td>\n",
       "      <td>...</td>\n",
       "      <td>NaN</td>\n",
       "      <td>2/10/1983 12:00:00 AM</td>\n",
       "      <td>NaN</td>\n",
       "      <td>CHICAGO POLICE DEPT</td>\n",
       "      <td>NaN</td>\n",
       "      <td>2/10/1983 12:00:00 AM</td>\n",
       "      <td>NaN</td>\n",
       "      <td>NaN</td>\n",
       "      <td>NaN</td>\n",
       "      <td>Homicide</td>\n",
       "    </tr>\n",
       "    <tr>\n",
       "      <th>16</th>\n",
       "      <td>150065796098</td>\n",
       "      <td>162105612284</td>\n",
       "      <td>8/23/1984 12:00:00 AM</td>\n",
       "      <td>PROMIS Conversion</td>\n",
       "      <td>True</td>\n",
       "      <td>50792360681</td>\n",
       "      <td>113332130159</td>\n",
       "      <td>FIRST DEGREE MURDER</td>\n",
       "      <td>1</td>\n",
       "      <td>8/6/2014 12:00:00 AM</td>\n",
       "      <td>...</td>\n",
       "      <td>NaN</td>\n",
       "      <td>2/10/1983 12:00:00 AM</td>\n",
       "      <td>NaN</td>\n",
       "      <td>CHICAGO POLICE DEPT</td>\n",
       "      <td>NaN</td>\n",
       "      <td>2/10/1983 12:00:00 AM</td>\n",
       "      <td>NaN</td>\n",
       "      <td>NaN</td>\n",
       "      <td>NaN</td>\n",
       "      <td>Homicide</td>\n",
       "    </tr>\n",
       "    <tr>\n",
       "      <th>18</th>\n",
       "      <td>154954734978</td>\n",
       "      <td>225758446387</td>\n",
       "      <td>6/8/2001 12:00:00 AM</td>\n",
       "      <td>PROMIS Conversion</td>\n",
       "      <td>True</td>\n",
       "      <td>54885211141</td>\n",
       "      <td>174293345821</td>\n",
       "      <td>VIO BAIL BOND/CLASS 1</td>\n",
       "      <td>1</td>\n",
       "      <td>12/2/2013 12:00:00 AM</td>\n",
       "      <td>...</td>\n",
       "      <td>NaN</td>\n",
       "      <td>4/24/2001 12:00:00 AM</td>\n",
       "      <td>NaN</td>\n",
       "      <td>HANOVER PARK POLICE DEPARTMENT</td>\n",
       "      <td>NaN</td>\n",
       "      <td>10/26/2000 12:00:00 AM</td>\n",
       "      <td>NaN</td>\n",
       "      <td>NaN</td>\n",
       "      <td>NaN</td>\n",
       "      <td>PROMIS Conversion</td>\n",
       "    </tr>\n",
       "  </tbody>\n",
       "</table>\n",
       "<p>5 rows × 41 columns</p>\n",
       "</div>"
      ],
      "text/plain": [
       "         CASE_ID  CASE_PARTICIPANT_ID          RECEIVED_DATE  \\\n",
       "9   149765331439         175691153649  8/15/1984 12:00:00 AM   \n",
       "10  149765331439         175691153649  8/15/1984 12:00:00 AM   \n",
       "15  150065796098         162105612284  8/23/1984 12:00:00 AM   \n",
       "16  150065796098         162105612284  8/23/1984 12:00:00 AM   \n",
       "18  154954734978         225758446387   6/8/2001 12:00:00 AM   \n",
       "\n",
       "     OFFENSE_CATEGORY  PRIMARY_CHARGE_FLAG    CHARGE_ID  CHARGE_VERSION_ID  \\\n",
       "9   PROMIS Conversion                 True  50510062193       112898098217   \n",
       "10  PROMIS Conversion                 True  50510062193       112898098217   \n",
       "15  PROMIS Conversion                 True  50792360681       113332130159   \n",
       "16  PROMIS Conversion                 True  50792360681       113332130159   \n",
       "18  PROMIS Conversion                 True  54885211141       174293345821   \n",
       "\n",
       "   DISPOSITION_CHARGED_OFFENSE_TITLE  CHARGE_COUNT        DISPOSITION_DATE  \\\n",
       "9                FIRST DEGREE MURDER             1  12/17/2014 12:00:00 AM   \n",
       "10               FIRST DEGREE MURDER             1  12/17/2014 12:00:00 AM   \n",
       "15               FIRST DEGREE MURDER             1    8/6/2014 12:00:00 AM   \n",
       "16               FIRST DEGREE MURDER             1    8/6/2014 12:00:00 AM   \n",
       "18             VIO BAIL BOND/CLASS 1             1   12/2/2013 12:00:00 AM   \n",
       "\n",
       "    ... INCIDENT_CITY    INCIDENT_BEGIN_DATE INCIDENT_END_DATE  \\\n",
       "9   ...           NaN   8/9/1984 12:00:00 AM               NaN   \n",
       "10  ...           NaN   8/9/1984 12:00:00 AM               NaN   \n",
       "15  ...           NaN  2/10/1983 12:00:00 AM               NaN   \n",
       "16  ...           NaN  2/10/1983 12:00:00 AM               NaN   \n",
       "18  ...           NaN  4/24/2001 12:00:00 AM               NaN   \n",
       "\n",
       "            LAW_ENFORCEMENT_AGENCY LAW_ENFORCEMENT_UNIT  \\\n",
       "9              CHICAGO POLICE DEPT                  NaN   \n",
       "10             CHICAGO POLICE DEPT                  NaN   \n",
       "15             CHICAGO POLICE DEPT                  NaN   \n",
       "16             CHICAGO POLICE DEPT                  NaN   \n",
       "18  HANOVER PARK POLICE DEPARTMENT                  NaN   \n",
       "\n",
       "               ARREST_DATE      FELONY_REVIEW_DATE FELONY_REVIEW_RESULT  \\\n",
       "9    8/15/1984 12:00:00 AM  08/15/1984 12:00:00 AM   Charge(S) Approved   \n",
       "10   8/15/1984 12:00:00 AM  08/15/1984 12:00:00 AM   Charge(S) Approved   \n",
       "15   2/10/1983 12:00:00 AM                     NaN                  NaN   \n",
       "16   2/10/1983 12:00:00 AM                     NaN                  NaN   \n",
       "18  10/26/2000 12:00:00 AM                     NaN                  NaN   \n",
       "\n",
       "         ARRAIGNMENT_DATE UPDATED_OFFENSE_CATEGORY  \n",
       "9   9/21/1984 12:00:00 AM                 Homicide  \n",
       "10  9/21/1984 12:00:00 AM                 Homicide  \n",
       "15                    NaN                 Homicide  \n",
       "16                    NaN                 Homicide  \n",
       "18                    NaN        PROMIS Conversion  \n",
       "\n",
       "[5 rows x 41 columns]"
      ]
     },
     "execution_count": 3,
     "metadata": {},
     "output_type": "execute_result"
    }
   ],
   "source": [
    "print(df1.shape)\n",
    "df1.head()"
   ]
  },
  {
   "cell_type": "markdown",
   "id": "3dbd9aad",
   "metadata": {},
   "source": [
    "## Introduce the independant variables\n",
    "### Race variables"
   ]
  },
  {
   "cell_type": "code",
   "execution_count": 4,
   "id": "d3aca7db",
   "metadata": {},
   "outputs": [],
   "source": [
    "## Pre-clean\n",
    "df1 = df1[~df1.RACE.isna()]"
   ]
  },
  {
   "cell_type": "code",
   "execution_count": 5,
   "id": "3bcdf792",
   "metadata": {},
   "outputs": [],
   "source": [
    "# Create is_black_derived, is_white_derived, is_hisp_derived, is_other_derived variables\n",
    "df1['is_black_derived'] = np.where(df1.RACE == 'Black', True, False)\n",
    "df1['is_white_derived'] = np.where(df1.RACE == 'White', True, False)\n",
    "df1['is_hisp_derived'] = np.where(df1.RACE == 'HISPANIC', True, False)\n",
    "df1['is_other_derived'] = np.where(~df1.RACE.isin(['Black','White','HISPANIC']), True, False)"
   ]
  },
  {
   "cell_type": "markdown",
   "id": "5b945260",
   "metadata": {},
   "source": [
    "### Gender variables"
   ]
  },
  {
   "cell_type": "code",
   "execution_count": 6,
   "id": "da032f84",
   "metadata": {},
   "outputs": [],
   "source": [
    "## Pre-clean\n",
    "df1 = df1[(df1.GENDER.isin(['Male','Female']))& (~df1.SENTENCE_JUDGE.isna())]"
   ]
  },
  {
   "cell_type": "code",
   "execution_count": 7,
   "id": "a97933a1",
   "metadata": {},
   "outputs": [],
   "source": [
    "# Create is_defendant_male variable\n",
    "df1['is_defendant_male'] = np.where(df1.GENDER == 'Male', True, False)"
   ]
  },
  {
   "cell_type": "code",
   "execution_count": 8,
   "id": "2fb5e090",
   "metadata": {},
   "outputs": [
    {
     "data": {
      "text/html": [
       "<div>\n",
       "<style scoped>\n",
       "    .dataframe tbody tr th:only-of-type {\n",
       "        vertical-align: middle;\n",
       "    }\n",
       "\n",
       "    .dataframe tbody tr th {\n",
       "        vertical-align: top;\n",
       "    }\n",
       "\n",
       "    .dataframe thead th {\n",
       "        text-align: right;\n",
       "    }\n",
       "</style>\n",
       "<table border=\"1\" class=\"dataframe\">\n",
       "  <thead>\n",
       "    <tr style=\"text-align: right;\">\n",
       "      <th></th>\n",
       "      <th>Gender_judge</th>\n",
       "      <th>num_judge</th>\n",
       "    </tr>\n",
       "  </thead>\n",
       "  <tbody>\n",
       "    <tr>\n",
       "      <th>0</th>\n",
       "      <td>andy</td>\n",
       "      <td>114</td>\n",
       "    </tr>\n",
       "    <tr>\n",
       "      <th>1</th>\n",
       "      <td>female</td>\n",
       "      <td>44056</td>\n",
       "    </tr>\n",
       "    <tr>\n",
       "      <th>2</th>\n",
       "      <td>male</td>\n",
       "      <td>117728</td>\n",
       "    </tr>\n",
       "    <tr>\n",
       "      <th>3</th>\n",
       "      <td>mostly_female</td>\n",
       "      <td>12517</td>\n",
       "    </tr>\n",
       "    <tr>\n",
       "      <th>4</th>\n",
       "      <td>mostly_male</td>\n",
       "      <td>6</td>\n",
       "    </tr>\n",
       "    <tr>\n",
       "      <th>5</th>\n",
       "      <td>unknown</td>\n",
       "      <td>4566</td>\n",
       "    </tr>\n",
       "  </tbody>\n",
       "</table>\n",
       "</div>"
      ],
      "text/plain": [
       "    Gender_judge  num_judge\n",
       "0           andy        114\n",
       "1         female      44056\n",
       "2           male     117728\n",
       "3  mostly_female      12517\n",
       "4    mostly_male          6\n",
       "5        unknown       4566"
      ]
     },
     "execution_count": 8,
     "metadata": {},
     "output_type": "execute_result"
    }
   ],
   "source": [
    "# Create is_judge_male variable\n",
    "\n",
    "### Get the first name of judgers\n",
    "df1['FN_judge'] = [i.split(' ')[0] for i in df1['SENTENCE_JUDGE']]\n",
    "\n",
    "### Predict the judgers' genders\n",
    "gd = gender.Detector()\n",
    "df1['Gender_judge'] = df1['FN_judge'].\\\n",
    "apply(str.capitalize).map(lambda x: gd.get_gender(x))\n",
    "\n",
    "### To see the diffence of judge made by judgers with different genders\n",
    "df1.groupby('Gender_judge').agg(num_judge = ('Gender_judge', 'count')).reset_index()"
   ]
  },
  {
   "cell_type": "code",
   "execution_count": 9,
   "id": "93ebde92",
   "metadata": {},
   "outputs": [],
   "source": [
    "### Rename the is_judge_gender\n",
    "df1 = df1[df1.Gender_judge.isin(['female','male','mostly_female','mostly_male'])]\n",
    "df1['is_judge_male'] = np.where(df1.Gender_judge.isin(['mostly_male','male']), True, False)"
   ]
  },
  {
   "cell_type": "code",
   "execution_count": 10,
   "id": "fdb072ac",
   "metadata": {},
   "outputs": [
    {
     "data": {
      "text/html": [
       "<div>\n",
       "<style scoped>\n",
       "    .dataframe tbody tr th:only-of-type {\n",
       "        vertical-align: middle;\n",
       "    }\n",
       "\n",
       "    .dataframe tbody tr th {\n",
       "        vertical-align: top;\n",
       "    }\n",
       "\n",
       "    .dataframe thead th {\n",
       "        text-align: right;\n",
       "    }\n",
       "</style>\n",
       "<table border=\"1\" class=\"dataframe\">\n",
       "  <thead>\n",
       "    <tr style=\"text-align: right;\">\n",
       "      <th></th>\n",
       "      <th>SENTENCE_JUDGE</th>\n",
       "      <th>FN_judge</th>\n",
       "      <th>is_judge_male</th>\n",
       "      <th>Gender_judge</th>\n",
       "    </tr>\n",
       "  </thead>\n",
       "  <tbody>\n",
       "    <tr>\n",
       "      <th>9</th>\n",
       "      <td>Clayton Jay Crane</td>\n",
       "      <td>Clayton</td>\n",
       "      <td>True</td>\n",
       "      <td>male</td>\n",
       "    </tr>\n",
       "    <tr>\n",
       "      <th>10</th>\n",
       "      <td>John  Mannion</td>\n",
       "      <td>John</td>\n",
       "      <td>True</td>\n",
       "      <td>male</td>\n",
       "    </tr>\n",
       "    <tr>\n",
       "      <th>15</th>\n",
       "      <td>James L Rhodes</td>\n",
       "      <td>James</td>\n",
       "      <td>True</td>\n",
       "      <td>male</td>\n",
       "    </tr>\n",
       "    <tr>\n",
       "      <th>16</th>\n",
       "      <td>Thomas V Gainer</td>\n",
       "      <td>Thomas</td>\n",
       "      <td>True</td>\n",
       "      <td>male</td>\n",
       "    </tr>\n",
       "    <tr>\n",
       "      <th>18</th>\n",
       "      <td>Kay M Hanlon</td>\n",
       "      <td>Kay</td>\n",
       "      <td>True</td>\n",
       "      <td>male</td>\n",
       "    </tr>\n",
       "  </tbody>\n",
       "</table>\n",
       "</div>"
      ],
      "text/plain": [
       "       SENTENCE_JUDGE FN_judge  is_judge_male Gender_judge\n",
       "9   Clayton Jay Crane  Clayton           True         male\n",
       "10      John  Mannion     John           True         male\n",
       "15     James L Rhodes    James           True         male\n",
       "16    Thomas V Gainer   Thomas           True         male\n",
       "18       Kay M Hanlon      Kay           True         male"
      ]
     },
     "execution_count": 10,
     "metadata": {},
     "output_type": "execute_result"
    }
   ],
   "source": [
    "df1[['SENTENCE_JUDGE','FN_judge','is_judge_male','Gender_judge']].head()"
   ]
  },
  {
   "cell_type": "markdown",
   "id": "020fcd96",
   "metadata": {},
   "source": [
    "### is_changed_offense variable\n",
    "Add a variable called is_changed_offense to research whether the change in offense type will influnece the incarceration condition\n",
    "\n"
   ]
  },
  {
   "cell_type": "code",
   "execution_count": 11,
   "id": "e2cfa5b0",
   "metadata": {},
   "outputs": [],
   "source": [
    "df1['is_changed_offense'] = (df1['OFFENSE_CATEGORY'] == df1['UPDATED_OFFENSE_CATEGORY'])"
   ]
  },
  {
   "cell_type": "markdown",
   "id": "09939639",
   "metadata": {},
   "source": [
    "### is_covid variable\n",
    "Add a variable called is_covid to research the influence of covid.\n",
    "\n",
    "We select March 2020 as the seperate line, < March 2020 is False, >= March 2020 is True."
   ]
  },
  {
   "cell_type": "code",
   "execution_count": 12,
   "id": "10080101",
   "metadata": {},
   "outputs": [
    {
     "data": {
      "text/plain": [
       "9     10/16/2014 12:00:00 AM\n",
       "10      6/2/1986 12:00:00 AM\n",
       "15     3/25/1992 12:00:00 AM\n",
       "16      8/6/2014 12:00:00 AM\n",
       "18     12/2/2013 12:00:00 AM\n",
       "Name: SENTENCE_DATE, dtype: object"
      ]
     },
     "execution_count": 12,
     "metadata": {},
     "output_type": "execute_result"
    }
   ],
   "source": [
    "# Use regex to clean up the date columns\n",
    "df1 = df1[~df1.SENTENCE_DATE.isna()]\n",
    "df1[\"SENTENCE_DATE\"]  = [re.sub(r'2[1-9]([0-9]+)', r\"20\\1\", str(date)) \n",
    "                                               if bool(re.search('\\/2[1-9][0-9]+', str(date))) else \n",
    "                                               str(date) \n",
    "                                               for date in \n",
    "                                               df1[\"SENTENCE_DATE\"]]\n",
    "df1[\"SENTENCE_DATE\"].head()"
   ]
  },
  {
   "cell_type": "code",
   "execution_count": 13,
   "id": "f3991a9c",
   "metadata": {},
   "outputs": [
    {
     "name": "stderr",
     "output_type": "stream",
     "text": [
      "/var/folders/39/p0rpjrxj68l4cbrkhyvw78fm0000gn/T/ipykernel_78503/1231093761.py:3: FutureWarning: Treating datetime data as categorical rather than numeric in `.describe` is deprecated and will be removed in a future version of pandas. Specify `datetime_is_numeric=True` to silence this warning and adopt the future behavior now.\n",
      "  df1[\"SENTENCE_DATE\"].describe()\n"
     ]
    },
    {
     "data": {
      "text/plain": [
       "count                  174307\n",
       "unique                   3144\n",
       "top       2012-07-19 00:00:00\n",
       "freq                      153\n",
       "first     1930-06-30 00:00:00\n",
       "last      2051-05-11 00:00:00\n",
       "Name: SENTENCE_DATE, dtype: object"
      ]
     },
     "execution_count": 13,
     "metadata": {},
     "output_type": "execute_result"
    }
   ],
   "source": [
    "# Transfer date to datetime \n",
    "df1[\"SENTENCE_DATE\"] = pd.to_datetime(df1.SENTENCE_DATE)                                                  \n",
    "df1[\"SENTENCE_DATE\"].describe()"
   ]
  },
  {
   "cell_type": "code",
   "execution_count": 14,
   "id": "63be8ae2",
   "metadata": {},
   "outputs": [
    {
     "name": "stderr",
     "output_type": "stream",
     "text": [
      "/var/folders/39/p0rpjrxj68l4cbrkhyvw78fm0000gn/T/ipykernel_78503/3833414029.py:3: FutureWarning: Treating datetime data as categorical rather than numeric in `.describe` is deprecated and will be removed in a future version of pandas. Specify `datetime_is_numeric=True` to silence this warning and adopt the future behavior now.\n",
      "  df1.SENTENCE_DATE.describe()\n"
     ]
    },
    {
     "data": {
      "text/plain": [
       "count                  174297\n",
       "unique                   3134\n",
       "top       2012-07-19 00:00:00\n",
       "freq                      153\n",
       "first     1930-06-30 00:00:00\n",
       "last      2022-04-26 00:00:00\n",
       "Name: SENTENCE_DATE, dtype: object"
      ]
     },
     "execution_count": 14,
     "metadata": {},
     "output_type": "execute_result"
    }
   ],
   "source": [
    "# Clean the abnormal value\n",
    "df1= df1[df1.SENTENCE_DATE <= '2022-10-01']\n",
    "df1.SENTENCE_DATE.describe()"
   ]
  },
  {
   "cell_type": "code",
   "execution_count": 15,
   "id": "644f5479",
   "metadata": {},
   "outputs": [
    {
     "data": {
      "text/plain": [
       "9     False\n",
       "10    False\n",
       "15    False\n",
       "16    False\n",
       "18    False\n",
       "Name: is_covid, dtype: bool"
      ]
     },
     "execution_count": 15,
     "metadata": {},
     "output_type": "execute_result"
    }
   ],
   "source": [
    "df1[\"is_covid\"] = np.where(df1[\"SENTENCE_DATE\"]>= '2020-03-01' , True, False)\n",
    "df1[\"is_covid\"].head()"
   ]
  },
  {
   "cell_type": "code",
   "execution_count": 16,
   "id": "87bcc7e6",
   "metadata": {},
   "outputs": [
    {
     "data": {
      "text/plain": [
       "False    169357\n",
       "True       4940\n",
       "Name: is_covid, dtype: int64"
      ]
     },
     "execution_count": 16,
     "metadata": {},
     "output_type": "execute_result"
    }
   ],
   "source": [
    "df1.is_covid.value_counts()"
   ]
  },
  {
   "cell_type": "markdown",
   "id": "ec81d4e8",
   "metadata": {},
   "source": [
    "### Add livability index\n",
    "Livability from website: https://www.areavibes.com/"
   ]
  },
  {
   "cell_type": "code",
   "execution_count": 17,
   "id": "78166974",
   "metadata": {},
   "outputs": [],
   "source": [
    "### Read the file\n",
    "police_stations = pd.read_csv('/Users/leowu/Desktop/Final-Project-Group5/Dataset/Police_Stations.csv')\n",
    "police_stations['NEIGHBORHOODS'] = ['Douglas','Near North Side','Lake View','Lincoln Square','Morgan Park',\\\n",
    "                                   'Rogers Park','Belmont Cragin','Near South Side','Fuller Park',\\\n",
    "                                   'Woodlawn','South Deering','Pullman','Auburn Gresham','West Englewood',\\\n",
    "                                   'Chicago Lawn','Bridgeport','North Lawndale','East Garfield Park',\\\n",
    "                                   'Near West Side','Logan Square','Austin','Jefferson Park','Jefferson Park']\n",
    "new_df = df1[~df1['LAW_ENFORCEMENT_UNIT'].isnull()]"
   ]
  },
  {
   "cell_type": "code",
   "execution_count": 18,
   "id": "6b6e0a98",
   "metadata": {},
   "outputs": [
    {
     "data": {
      "text/html": [
       "<div>\n",
       "<style scoped>\n",
       "    .dataframe tbody tr th:only-of-type {\n",
       "        vertical-align: middle;\n",
       "    }\n",
       "\n",
       "    .dataframe tbody tr th {\n",
       "        vertical-align: top;\n",
       "    }\n",
       "\n",
       "    .dataframe thead th {\n",
       "        text-align: right;\n",
       "    }\n",
       "</style>\n",
       "<table border=\"1\" class=\"dataframe\">\n",
       "  <thead>\n",
       "    <tr style=\"text-align: right;\">\n",
       "      <th></th>\n",
       "      <th>LAW_ENFORCEMENT_UNIT</th>\n",
       "      <th>COUNT</th>\n",
       "      <th>DISTRICT NAME</th>\n",
       "    </tr>\n",
       "  </thead>\n",
       "  <tbody>\n",
       "    <tr>\n",
       "      <th>0</th>\n",
       "      <td>District 11 - Harrison</td>\n",
       "      <td>13321</td>\n",
       "      <td>Harrison</td>\n",
       "    </tr>\n",
       "    <tr>\n",
       "      <th>1</th>\n",
       "      <td>District 10 - Ogden</td>\n",
       "      <td>4443</td>\n",
       "      <td>Ogden</td>\n",
       "    </tr>\n",
       "    <tr>\n",
       "      <th>2</th>\n",
       "      <td>District 15 - Austin</td>\n",
       "      <td>4264</td>\n",
       "      <td>Austin</td>\n",
       "    </tr>\n",
       "    <tr>\n",
       "      <th>3</th>\n",
       "      <td>District 7 - Englewood</td>\n",
       "      <td>3422</td>\n",
       "      <td>Englewood</td>\n",
       "    </tr>\n",
       "    <tr>\n",
       "      <th>4</th>\n",
       "      <td>District 6 - Gresham</td>\n",
       "      <td>3032</td>\n",
       "      <td>Gresham</td>\n",
       "    </tr>\n",
       "  </tbody>\n",
       "</table>\n",
       "</div>"
      ],
      "text/plain": [
       "     LAW_ENFORCEMENT_UNIT  COUNT DISTRICT NAME\n",
       "0  District 11 - Harrison  13321      Harrison\n",
       "1     District 10 - Ogden   4443         Ogden\n",
       "2    District 15 - Austin   4264        Austin\n",
       "3  District 7 - Englewood   3422     Englewood\n",
       "4    District 6 - Gresham   3032       Gresham"
      ]
     },
     "execution_count": 18,
     "metadata": {},
     "output_type": "execute_result"
    }
   ],
   "source": [
    "new_df_count = new_df.groupby('LAW_ENFORCEMENT_UNIT').agg(COUNT = ('CASE_ID','count')).\\\n",
    "sort_values('COUNT',ascending = False).reset_index()\n",
    "new_df_up = new_df_count[new_df_count.LAW_ENFORCEMENT_UNIT.str.contains('District')].\\\n",
    "reset_index().drop(columns=['index'])\n",
    "new_df_up['DISTRICT NAME'] = [new_df_up.LAW_ENFORCEMENT_UNIT.str.split(' - ')[i][1] for i in range(len(new_df_up))]\n",
    "new_df_up.head()"
   ]
  },
  {
   "cell_type": "code",
   "execution_count": 19,
   "id": "db92b6e2",
   "metadata": {},
   "outputs": [
    {
     "data": {
      "text/html": [
       "<div>\n",
       "<style scoped>\n",
       "    .dataframe tbody tr th:only-of-type {\n",
       "        vertical-align: middle;\n",
       "    }\n",
       "\n",
       "    .dataframe tbody tr th {\n",
       "        vertical-align: top;\n",
       "    }\n",
       "\n",
       "    .dataframe thead th {\n",
       "        text-align: right;\n",
       "    }\n",
       "</style>\n",
       "<table border=\"1\" class=\"dataframe\">\n",
       "  <thead>\n",
       "    <tr style=\"text-align: right;\">\n",
       "      <th></th>\n",
       "      <th>LAW_ENFORCEMENT_UNIT</th>\n",
       "      <th>COUNT</th>\n",
       "      <th>DISTRICT NAME</th>\n",
       "      <th>LATITUDE</th>\n",
       "      <th>LONGITUDE</th>\n",
       "      <th>NEIGHBORHOODS</th>\n",
       "    </tr>\n",
       "  </thead>\n",
       "  <tbody>\n",
       "    <tr>\n",
       "      <th>0</th>\n",
       "      <td>District 11 - Harrison</td>\n",
       "      <td>13321</td>\n",
       "      <td>Harrison</td>\n",
       "      <td>41.873582</td>\n",
       "      <td>-87.705488</td>\n",
       "      <td>East Garfield Park</td>\n",
       "    </tr>\n",
       "    <tr>\n",
       "      <th>1</th>\n",
       "      <td>District 10 - Ogden</td>\n",
       "      <td>4443</td>\n",
       "      <td>Ogden</td>\n",
       "      <td>41.856685</td>\n",
       "      <td>-87.708382</td>\n",
       "      <td>North Lawndale</td>\n",
       "    </tr>\n",
       "    <tr>\n",
       "      <th>2</th>\n",
       "      <td>District 15 - Austin</td>\n",
       "      <td>4264</td>\n",
       "      <td>Austin</td>\n",
       "      <td>41.880083</td>\n",
       "      <td>-87.768200</td>\n",
       "      <td>Austin</td>\n",
       "    </tr>\n",
       "    <tr>\n",
       "      <th>3</th>\n",
       "      <td>District 7 - Englewood</td>\n",
       "      <td>3422</td>\n",
       "      <td>Englewood</td>\n",
       "      <td>41.779632</td>\n",
       "      <td>-87.660887</td>\n",
       "      <td>West Englewood</td>\n",
       "    </tr>\n",
       "    <tr>\n",
       "      <th>4</th>\n",
       "      <td>District 6 - Gresham</td>\n",
       "      <td>3032</td>\n",
       "      <td>Gresham</td>\n",
       "      <td>41.752137</td>\n",
       "      <td>-87.644229</td>\n",
       "      <td>Auburn Gresham</td>\n",
       "    </tr>\n",
       "  </tbody>\n",
       "</table>\n",
       "</div>"
      ],
      "text/plain": [
       "     LAW_ENFORCEMENT_UNIT  COUNT DISTRICT NAME   LATITUDE  LONGITUDE  \\\n",
       "0  District 11 - Harrison  13321      Harrison  41.873582 -87.705488   \n",
       "1     District 10 - Ogden   4443         Ogden  41.856685 -87.708382   \n",
       "2    District 15 - Austin   4264        Austin  41.880083 -87.768200   \n",
       "3  District 7 - Englewood   3422     Englewood  41.779632 -87.660887   \n",
       "4    District 6 - Gresham   3032       Gresham  41.752137 -87.644229   \n",
       "\n",
       "        NEIGHBORHOODS  \n",
       "0  East Garfield Park  \n",
       "1      North Lawndale  \n",
       "2              Austin  \n",
       "3      West Englewood  \n",
       "4      Auburn Gresham  "
      ]
     },
     "execution_count": 19,
     "metadata": {},
     "output_type": "execute_result"
    }
   ],
   "source": [
    "new_df_con = pd.merge(new_df_up,\n",
    "                     police_stations[['DISTRICT NAME','LATITUDE','LONGITUDE','NEIGHBORHOODS']],\n",
    "                     how = 'inner',\n",
    "                     on = 'DISTRICT NAME')\n",
    "new_df_con.head()"
   ]
  },
  {
   "cell_type": "code",
   "execution_count": 20,
   "id": "3ac56cf7",
   "metadata": {},
   "outputs": [
    {
     "data": {
      "text/html": [
       "<div>\n",
       "<style scoped>\n",
       "    .dataframe tbody tr th:only-of-type {\n",
       "        vertical-align: middle;\n",
       "    }\n",
       "\n",
       "    .dataframe tbody tr th {\n",
       "        vertical-align: top;\n",
       "    }\n",
       "\n",
       "    .dataframe thead th {\n",
       "        text-align: right;\n",
       "    }\n",
       "</style>\n",
       "<table border=\"1\" class=\"dataframe\">\n",
       "  <thead>\n",
       "    <tr style=\"text-align: right;\">\n",
       "      <th></th>\n",
       "      <th>CASE_ID</th>\n",
       "      <th>CASE_PARTICIPANT_ID</th>\n",
       "      <th>RECEIVED_DATE</th>\n",
       "      <th>OFFENSE_CATEGORY</th>\n",
       "      <th>PRIMARY_CHARGE_FLAG</th>\n",
       "      <th>CHARGE_ID</th>\n",
       "      <th>CHARGE_VERSION_ID</th>\n",
       "      <th>DISPOSITION_CHARGED_OFFENSE_TITLE</th>\n",
       "      <th>CHARGE_COUNT</th>\n",
       "      <th>DISPOSITION_DATE</th>\n",
       "      <th>...</th>\n",
       "      <th>is_white_derived</th>\n",
       "      <th>is_hisp_derived</th>\n",
       "      <th>is_other_derived</th>\n",
       "      <th>is_defendant_male</th>\n",
       "      <th>FN_judge</th>\n",
       "      <th>Gender_judge</th>\n",
       "      <th>is_judge_male</th>\n",
       "      <th>is_changed_offense</th>\n",
       "      <th>is_covid</th>\n",
       "      <th>Livability</th>\n",
       "    </tr>\n",
       "  </thead>\n",
       "  <tbody>\n",
       "    <tr>\n",
       "      <th>0</th>\n",
       "      <td>240624757473</td>\n",
       "      <td>214083848061</td>\n",
       "      <td>2/7/2010 12:00:00 AM</td>\n",
       "      <td>PROMIS Conversion</td>\n",
       "      <td>True</td>\n",
       "      <td>190929352317</td>\n",
       "      <td>255873414267</td>\n",
       "      <td>UUW/FELONY POSS/USE WEAPON/FIREARM</td>\n",
       "      <td>1</td>\n",
       "      <td>1/21/2011 12:00:00 AM</td>\n",
       "      <td>...</td>\n",
       "      <td>False</td>\n",
       "      <td>True</td>\n",
       "      <td>False</td>\n",
       "      <td>False</td>\n",
       "      <td>Catherine</td>\n",
       "      <td>female</td>\n",
       "      <td>False</td>\n",
       "      <td>False</td>\n",
       "      <td>False</td>\n",
       "      <td>64</td>\n",
       "    </tr>\n",
       "    <tr>\n",
       "      <th>1</th>\n",
       "      <td>377335736568</td>\n",
       "      <td>694901143919</td>\n",
       "      <td>4/17/2010 12:00:00 AM</td>\n",
       "      <td>Sex Crimes</td>\n",
       "      <td>True</td>\n",
       "      <td>333676612023</td>\n",
       "      <td>620025653522</td>\n",
       "      <td>VIOLATION OF THE SEX OFFENDER REGISTRATION ACT</td>\n",
       "      <td>1</td>\n",
       "      <td>5/16/2011 12:00:00 AM</td>\n",
       "      <td>...</td>\n",
       "      <td>False</td>\n",
       "      <td>False</td>\n",
       "      <td>False</td>\n",
       "      <td>True</td>\n",
       "      <td>James</td>\n",
       "      <td>male</td>\n",
       "      <td>True</td>\n",
       "      <td>False</td>\n",
       "      <td>False</td>\n",
       "      <td>64</td>\n",
       "    </tr>\n",
       "    <tr>\n",
       "      <th>2</th>\n",
       "      <td>377394331582</td>\n",
       "      <td>695079507410</td>\n",
       "      <td>4/21/2010 12:00:00 AM</td>\n",
       "      <td>Narcotics</td>\n",
       "      <td>True</td>\n",
       "      <td>334341207520</td>\n",
       "      <td>621377822772</td>\n",
       "      <td>[POSSESSION OF CANNABIS WITH INTENT TO DELIVER...</td>\n",
       "      <td>1</td>\n",
       "      <td>1/12/2011 12:00:00 AM</td>\n",
       "      <td>...</td>\n",
       "      <td>False</td>\n",
       "      <td>False</td>\n",
       "      <td>False</td>\n",
       "      <td>True</td>\n",
       "      <td>Sharon</td>\n",
       "      <td>female</td>\n",
       "      <td>False</td>\n",
       "      <td>True</td>\n",
       "      <td>False</td>\n",
       "      <td>64</td>\n",
       "    </tr>\n",
       "    <tr>\n",
       "      <th>3</th>\n",
       "      <td>377427373884</td>\n",
       "      <td>695175012095</td>\n",
       "      <td>4/8/2010 12:00:00 AM</td>\n",
       "      <td>Narcotics</td>\n",
       "      <td>True</td>\n",
       "      <td>333825227220</td>\n",
       "      <td>620352718918</td>\n",
       "      <td>[POSSESSION OF CONTROLLED SUBSTANCE WITH INTEN...</td>\n",
       "      <td>1</td>\n",
       "      <td>4/12/2011 12:00:00 AM</td>\n",
       "      <td>...</td>\n",
       "      <td>False</td>\n",
       "      <td>False</td>\n",
       "      <td>False</td>\n",
       "      <td>False</td>\n",
       "      <td>Maura</td>\n",
       "      <td>female</td>\n",
       "      <td>False</td>\n",
       "      <td>True</td>\n",
       "      <td>False</td>\n",
       "      <td>64</td>\n",
       "    </tr>\n",
       "    <tr>\n",
       "      <th>4</th>\n",
       "      <td>377478919873</td>\n",
       "      <td>695306378222</td>\n",
       "      <td>4/24/2010 12:00:00 AM</td>\n",
       "      <td>Attempt Arson</td>\n",
       "      <td>True</td>\n",
       "      <td>334053278144</td>\n",
       "      <td>620821129628</td>\n",
       "      <td>AGGRAVATED ARSON</td>\n",
       "      <td>1</td>\n",
       "      <td>7/29/2011 12:00:00 AM</td>\n",
       "      <td>...</td>\n",
       "      <td>False</td>\n",
       "      <td>False</td>\n",
       "      <td>False</td>\n",
       "      <td>True</td>\n",
       "      <td>James</td>\n",
       "      <td>male</td>\n",
       "      <td>True</td>\n",
       "      <td>False</td>\n",
       "      <td>False</td>\n",
       "      <td>64</td>\n",
       "    </tr>\n",
       "  </tbody>\n",
       "</table>\n",
       "<p>5 rows × 52 columns</p>\n",
       "</div>"
      ],
      "text/plain": [
       "        CASE_ID  CASE_PARTICIPANT_ID          RECEIVED_DATE  \\\n",
       "0  240624757473         214083848061   2/7/2010 12:00:00 AM   \n",
       "1  377335736568         694901143919  4/17/2010 12:00:00 AM   \n",
       "2  377394331582         695079507410  4/21/2010 12:00:00 AM   \n",
       "3  377427373884         695175012095   4/8/2010 12:00:00 AM   \n",
       "4  377478919873         695306378222  4/24/2010 12:00:00 AM   \n",
       "\n",
       "    OFFENSE_CATEGORY  PRIMARY_CHARGE_FLAG     CHARGE_ID  CHARGE_VERSION_ID  \\\n",
       "0  PROMIS Conversion                 True  190929352317       255873414267   \n",
       "1         Sex Crimes                 True  333676612023       620025653522   \n",
       "2          Narcotics                 True  334341207520       621377822772   \n",
       "3          Narcotics                 True  333825227220       620352718918   \n",
       "4      Attempt Arson                 True  334053278144       620821129628   \n",
       "\n",
       "                   DISPOSITION_CHARGED_OFFENSE_TITLE  CHARGE_COUNT  \\\n",
       "0                 UUW/FELONY POSS/USE WEAPON/FIREARM             1   \n",
       "1     VIOLATION OF THE SEX OFFENDER REGISTRATION ACT             1   \n",
       "2  [POSSESSION OF CANNABIS WITH INTENT TO DELIVER...             1   \n",
       "3  [POSSESSION OF CONTROLLED SUBSTANCE WITH INTEN...             1   \n",
       "4                                   AGGRAVATED ARSON             1   \n",
       "\n",
       "        DISPOSITION_DATE  ... is_white_derived is_hisp_derived  \\\n",
       "0  1/21/2011 12:00:00 AM  ...            False            True   \n",
       "1  5/16/2011 12:00:00 AM  ...            False           False   \n",
       "2  1/12/2011 12:00:00 AM  ...            False           False   \n",
       "3  4/12/2011 12:00:00 AM  ...            False           False   \n",
       "4  7/29/2011 12:00:00 AM  ...            False           False   \n",
       "\n",
       "  is_other_derived is_defendant_male   FN_judge Gender_judge is_judge_male  \\\n",
       "0            False             False  Catherine       female         False   \n",
       "1            False              True      James         male          True   \n",
       "2            False              True     Sharon       female         False   \n",
       "3            False             False      Maura       female         False   \n",
       "4            False              True      James         male          True   \n",
       "\n",
       "  is_changed_offense is_covid Livability  \n",
       "0              False    False         64  \n",
       "1              False    False         64  \n",
       "2               True    False         64  \n",
       "3               True    False         64  \n",
       "4              False    False         64  \n",
       "\n",
       "[5 rows x 52 columns]"
      ]
     },
     "execution_count": 20,
     "metadata": {},
     "output_type": "execute_result"
    }
   ],
   "source": [
    "new_df_con['Livability'] = [62, 51, 60, 56, 58, 64, 58, 56, 66, 55, 54, 57, 63, 68,63, 73, 73, 55, 76, 76, 67, 69]\n",
    "### Merge these two dataframes together\n",
    "df1 = pd.merge(df1,\n",
    "        new_df_con[['Livability','LAW_ENFORCEMENT_UNIT']],\n",
    "        how='inner',\n",
    "        on='LAW_ENFORCEMENT_UNIT')\n",
    "df1.head()"
   ]
  },
  {
   "cell_type": "markdown",
   "id": "7152e4bf",
   "metadata": {},
   "source": [
    "### Add Arrest police station history record index\n",
    "In detailed, it refers to the proportion of different police station history record number"
   ]
  },
  {
   "cell_type": "code",
   "execution_count": 21,
   "id": "ac84e045",
   "metadata": {},
   "outputs": [],
   "source": [
    "new_df_con['his_prop'] = new_df_con.COUNT / new_df_con.COUNT.sum()"
   ]
  },
  {
   "cell_type": "code",
   "execution_count": 22,
   "id": "b7472ebc",
   "metadata": {},
   "outputs": [
    {
     "data": {
      "text/html": [
       "<div>\n",
       "<style scoped>\n",
       "    .dataframe tbody tr th:only-of-type {\n",
       "        vertical-align: middle;\n",
       "    }\n",
       "\n",
       "    .dataframe tbody tr th {\n",
       "        vertical-align: top;\n",
       "    }\n",
       "\n",
       "    .dataframe thead th {\n",
       "        text-align: right;\n",
       "    }\n",
       "</style>\n",
       "<table border=\"1\" class=\"dataframe\">\n",
       "  <thead>\n",
       "    <tr style=\"text-align: right;\">\n",
       "      <th></th>\n",
       "      <th>CASE_ID</th>\n",
       "      <th>CASE_PARTICIPANT_ID</th>\n",
       "      <th>RECEIVED_DATE</th>\n",
       "      <th>OFFENSE_CATEGORY</th>\n",
       "      <th>PRIMARY_CHARGE_FLAG</th>\n",
       "      <th>CHARGE_ID</th>\n",
       "      <th>CHARGE_VERSION_ID</th>\n",
       "      <th>DISPOSITION_CHARGED_OFFENSE_TITLE</th>\n",
       "      <th>CHARGE_COUNT</th>\n",
       "      <th>DISPOSITION_DATE</th>\n",
       "      <th>...</th>\n",
       "      <th>is_hisp_derived</th>\n",
       "      <th>is_other_derived</th>\n",
       "      <th>is_defendant_male</th>\n",
       "      <th>FN_judge</th>\n",
       "      <th>Gender_judge</th>\n",
       "      <th>is_judge_male</th>\n",
       "      <th>is_changed_offense</th>\n",
       "      <th>is_covid</th>\n",
       "      <th>Livability</th>\n",
       "      <th>his_prop</th>\n",
       "    </tr>\n",
       "  </thead>\n",
       "  <tbody>\n",
       "    <tr>\n",
       "      <th>0</th>\n",
       "      <td>240624757473</td>\n",
       "      <td>214083848061</td>\n",
       "      <td>2/7/2010 12:00:00 AM</td>\n",
       "      <td>PROMIS Conversion</td>\n",
       "      <td>True</td>\n",
       "      <td>190929352317</td>\n",
       "      <td>255873414267</td>\n",
       "      <td>UUW/FELONY POSS/USE WEAPON/FIREARM</td>\n",
       "      <td>1</td>\n",
       "      <td>1/21/2011 12:00:00 AM</td>\n",
       "      <td>...</td>\n",
       "      <td>True</td>\n",
       "      <td>False</td>\n",
       "      <td>False</td>\n",
       "      <td>Catherine</td>\n",
       "      <td>female</td>\n",
       "      <td>False</td>\n",
       "      <td>False</td>\n",
       "      <td>False</td>\n",
       "      <td>64</td>\n",
       "      <td>0.05821</td>\n",
       "    </tr>\n",
       "    <tr>\n",
       "      <th>1</th>\n",
       "      <td>377335736568</td>\n",
       "      <td>694901143919</td>\n",
       "      <td>4/17/2010 12:00:00 AM</td>\n",
       "      <td>Sex Crimes</td>\n",
       "      <td>True</td>\n",
       "      <td>333676612023</td>\n",
       "      <td>620025653522</td>\n",
       "      <td>VIOLATION OF THE SEX OFFENDER REGISTRATION ACT</td>\n",
       "      <td>1</td>\n",
       "      <td>5/16/2011 12:00:00 AM</td>\n",
       "      <td>...</td>\n",
       "      <td>False</td>\n",
       "      <td>False</td>\n",
       "      <td>True</td>\n",
       "      <td>James</td>\n",
       "      <td>male</td>\n",
       "      <td>True</td>\n",
       "      <td>False</td>\n",
       "      <td>False</td>\n",
       "      <td>64</td>\n",
       "      <td>0.05821</td>\n",
       "    </tr>\n",
       "    <tr>\n",
       "      <th>2</th>\n",
       "      <td>377394331582</td>\n",
       "      <td>695079507410</td>\n",
       "      <td>4/21/2010 12:00:00 AM</td>\n",
       "      <td>Narcotics</td>\n",
       "      <td>True</td>\n",
       "      <td>334341207520</td>\n",
       "      <td>621377822772</td>\n",
       "      <td>[POSSESSION OF CANNABIS WITH INTENT TO DELIVER...</td>\n",
       "      <td>1</td>\n",
       "      <td>1/12/2011 12:00:00 AM</td>\n",
       "      <td>...</td>\n",
       "      <td>False</td>\n",
       "      <td>False</td>\n",
       "      <td>True</td>\n",
       "      <td>Sharon</td>\n",
       "      <td>female</td>\n",
       "      <td>False</td>\n",
       "      <td>True</td>\n",
       "      <td>False</td>\n",
       "      <td>64</td>\n",
       "      <td>0.05821</td>\n",
       "    </tr>\n",
       "    <tr>\n",
       "      <th>3</th>\n",
       "      <td>377427373884</td>\n",
       "      <td>695175012095</td>\n",
       "      <td>4/8/2010 12:00:00 AM</td>\n",
       "      <td>Narcotics</td>\n",
       "      <td>True</td>\n",
       "      <td>333825227220</td>\n",
       "      <td>620352718918</td>\n",
       "      <td>[POSSESSION OF CONTROLLED SUBSTANCE WITH INTEN...</td>\n",
       "      <td>1</td>\n",
       "      <td>4/12/2011 12:00:00 AM</td>\n",
       "      <td>...</td>\n",
       "      <td>False</td>\n",
       "      <td>False</td>\n",
       "      <td>False</td>\n",
       "      <td>Maura</td>\n",
       "      <td>female</td>\n",
       "      <td>False</td>\n",
       "      <td>True</td>\n",
       "      <td>False</td>\n",
       "      <td>64</td>\n",
       "      <td>0.05821</td>\n",
       "    </tr>\n",
       "    <tr>\n",
       "      <th>4</th>\n",
       "      <td>377478919873</td>\n",
       "      <td>695306378222</td>\n",
       "      <td>4/24/2010 12:00:00 AM</td>\n",
       "      <td>Attempt Arson</td>\n",
       "      <td>True</td>\n",
       "      <td>334053278144</td>\n",
       "      <td>620821129628</td>\n",
       "      <td>AGGRAVATED ARSON</td>\n",
       "      <td>1</td>\n",
       "      <td>7/29/2011 12:00:00 AM</td>\n",
       "      <td>...</td>\n",
       "      <td>False</td>\n",
       "      <td>False</td>\n",
       "      <td>True</td>\n",
       "      <td>James</td>\n",
       "      <td>male</td>\n",
       "      <td>True</td>\n",
       "      <td>False</td>\n",
       "      <td>False</td>\n",
       "      <td>64</td>\n",
       "      <td>0.05821</td>\n",
       "    </tr>\n",
       "  </tbody>\n",
       "</table>\n",
       "<p>5 rows × 53 columns</p>\n",
       "</div>"
      ],
      "text/plain": [
       "        CASE_ID  CASE_PARTICIPANT_ID          RECEIVED_DATE  \\\n",
       "0  240624757473         214083848061   2/7/2010 12:00:00 AM   \n",
       "1  377335736568         694901143919  4/17/2010 12:00:00 AM   \n",
       "2  377394331582         695079507410  4/21/2010 12:00:00 AM   \n",
       "3  377427373884         695175012095   4/8/2010 12:00:00 AM   \n",
       "4  377478919873         695306378222  4/24/2010 12:00:00 AM   \n",
       "\n",
       "    OFFENSE_CATEGORY  PRIMARY_CHARGE_FLAG     CHARGE_ID  CHARGE_VERSION_ID  \\\n",
       "0  PROMIS Conversion                 True  190929352317       255873414267   \n",
       "1         Sex Crimes                 True  333676612023       620025653522   \n",
       "2          Narcotics                 True  334341207520       621377822772   \n",
       "3          Narcotics                 True  333825227220       620352718918   \n",
       "4      Attempt Arson                 True  334053278144       620821129628   \n",
       "\n",
       "                   DISPOSITION_CHARGED_OFFENSE_TITLE  CHARGE_COUNT  \\\n",
       "0                 UUW/FELONY POSS/USE WEAPON/FIREARM             1   \n",
       "1     VIOLATION OF THE SEX OFFENDER REGISTRATION ACT             1   \n",
       "2  [POSSESSION OF CANNABIS WITH INTENT TO DELIVER...             1   \n",
       "3  [POSSESSION OF CONTROLLED SUBSTANCE WITH INTEN...             1   \n",
       "4                                   AGGRAVATED ARSON             1   \n",
       "\n",
       "        DISPOSITION_DATE  ... is_hisp_derived is_other_derived  \\\n",
       "0  1/21/2011 12:00:00 AM  ...            True            False   \n",
       "1  5/16/2011 12:00:00 AM  ...           False            False   \n",
       "2  1/12/2011 12:00:00 AM  ...           False            False   \n",
       "3  4/12/2011 12:00:00 AM  ...           False            False   \n",
       "4  7/29/2011 12:00:00 AM  ...           False            False   \n",
       "\n",
       "  is_defendant_male   FN_judge Gender_judge is_judge_male is_changed_offense  \\\n",
       "0             False  Catherine       female         False              False   \n",
       "1              True      James         male          True              False   \n",
       "2              True     Sharon       female         False               True   \n",
       "3             False      Maura       female         False               True   \n",
       "4              True      James         male          True              False   \n",
       "\n",
       "  is_covid Livability his_prop  \n",
       "0    False         64  0.05821  \n",
       "1    False         64  0.05821  \n",
       "2    False         64  0.05821  \n",
       "3    False         64  0.05821  \n",
       "4    False         64  0.05821  \n",
       "\n",
       "[5 rows x 53 columns]"
      ]
     },
     "execution_count": 22,
     "metadata": {},
     "output_type": "execute_result"
    }
   ],
   "source": [
    "df1 = pd.merge(df1,\n",
    "                new_df_con[['his_prop','LAW_ENFORCEMENT_UNIT']],\n",
    "                how='inner',\n",
    "                on='LAW_ENFORCEMENT_UNIT')\n",
    "df1.head()"
   ]
  },
  {
   "cell_type": "markdown",
   "id": "7395eeb6",
   "metadata": {},
   "source": [
    "### Add senlength (unit: year) variable"
   ]
  },
  {
   "cell_type": "code",
   "execution_count": 23,
   "id": "bf3c1c2d",
   "metadata": {},
   "outputs": [],
   "source": [
    "## Clean the data\n",
    "df1 = df1[(~df1.COMMITMENT_TERM.isna())&\\\n",
    "          (df1.COMMITMENT_UNIT.isin(['Days','Hours','Year(s)','Months','Weeks','Natural Life']))&\\\n",
    "          (~df1.AGE_AT_INCIDENT.isna())]"
   ]
  },
  {
   "cell_type": "code",
   "execution_count": 24,
   "id": "411a9c45",
   "metadata": {},
   "outputs": [],
   "source": [
    "# Change the units to year\n",
    "def transition(df: pd.DataFrame):\n",
    "    df['senlength_derived'] = [float(u)\n",
    "      if v == 'Year(s)'\n",
    "      else float(float(u) / (24*365)) \n",
    "           if v == 'Hours'\n",
    "           else float(float(u)/ 365) \n",
    "                if v == 'Days'\n",
    "                else float(float(u)/ 12) \n",
    "                    if v == 'Months'\n",
    "                    else float(float(u) *7 / 365) \n",
    "                        if v == 'Weeks'\n",
    "                        else float(100-20)\n",
    "                               if (v == 'Natural Life') & (np.isnan(i))\n",
    "                               else float(100-float(i)) \n",
    "      for u,v,i in zip(df.COMMITMENT_TERM,df.COMMITMENT_UNIT,df.AGE_AT_INCIDENT)]\n",
    "    \n",
    "    return df"
   ]
  },
  {
   "cell_type": "code",
   "execution_count": 25,
   "id": "c7b7a1b8",
   "metadata": {},
   "outputs": [
    {
     "data": {
      "text/html": [
       "<div>\n",
       "<style scoped>\n",
       "    .dataframe tbody tr th:only-of-type {\n",
       "        vertical-align: middle;\n",
       "    }\n",
       "\n",
       "    .dataframe tbody tr th {\n",
       "        vertical-align: top;\n",
       "    }\n",
       "\n",
       "    .dataframe thead th {\n",
       "        text-align: right;\n",
       "    }\n",
       "</style>\n",
       "<table border=\"1\" class=\"dataframe\">\n",
       "  <thead>\n",
       "    <tr style=\"text-align: right;\">\n",
       "      <th></th>\n",
       "      <th>CASE_ID</th>\n",
       "      <th>CASE_PARTICIPANT_ID</th>\n",
       "      <th>RECEIVED_DATE</th>\n",
       "      <th>OFFENSE_CATEGORY</th>\n",
       "      <th>PRIMARY_CHARGE_FLAG</th>\n",
       "      <th>CHARGE_ID</th>\n",
       "      <th>CHARGE_VERSION_ID</th>\n",
       "      <th>DISPOSITION_CHARGED_OFFENSE_TITLE</th>\n",
       "      <th>CHARGE_COUNT</th>\n",
       "      <th>DISPOSITION_DATE</th>\n",
       "      <th>...</th>\n",
       "      <th>is_other_derived</th>\n",
       "      <th>is_defendant_male</th>\n",
       "      <th>FN_judge</th>\n",
       "      <th>Gender_judge</th>\n",
       "      <th>is_judge_male</th>\n",
       "      <th>is_changed_offense</th>\n",
       "      <th>is_covid</th>\n",
       "      <th>Livability</th>\n",
       "      <th>his_prop</th>\n",
       "      <th>senlength_derived</th>\n",
       "    </tr>\n",
       "  </thead>\n",
       "  <tbody>\n",
       "    <tr>\n",
       "      <th>0</th>\n",
       "      <td>240624757473</td>\n",
       "      <td>214083848061</td>\n",
       "      <td>2/7/2010 12:00:00 AM</td>\n",
       "      <td>PROMIS Conversion</td>\n",
       "      <td>True</td>\n",
       "      <td>190929352317</td>\n",
       "      <td>255873414267</td>\n",
       "      <td>UUW/FELONY POSS/USE WEAPON/FIREARM</td>\n",
       "      <td>1</td>\n",
       "      <td>1/21/2011 12:00:00 AM</td>\n",
       "      <td>...</td>\n",
       "      <td>False</td>\n",
       "      <td>False</td>\n",
       "      <td>Catherine</td>\n",
       "      <td>female</td>\n",
       "      <td>False</td>\n",
       "      <td>False</td>\n",
       "      <td>False</td>\n",
       "      <td>64</td>\n",
       "      <td>0.05821</td>\n",
       "      <td>2.0</td>\n",
       "    </tr>\n",
       "    <tr>\n",
       "      <th>1</th>\n",
       "      <td>377335736568</td>\n",
       "      <td>694901143919</td>\n",
       "      <td>4/17/2010 12:00:00 AM</td>\n",
       "      <td>Sex Crimes</td>\n",
       "      <td>True</td>\n",
       "      <td>333676612023</td>\n",
       "      <td>620025653522</td>\n",
       "      <td>VIOLATION OF THE SEX OFFENDER REGISTRATION ACT</td>\n",
       "      <td>1</td>\n",
       "      <td>5/16/2011 12:00:00 AM</td>\n",
       "      <td>...</td>\n",
       "      <td>False</td>\n",
       "      <td>True</td>\n",
       "      <td>James</td>\n",
       "      <td>male</td>\n",
       "      <td>True</td>\n",
       "      <td>False</td>\n",
       "      <td>False</td>\n",
       "      <td>64</td>\n",
       "      <td>0.05821</td>\n",
       "      <td>2.0</td>\n",
       "    </tr>\n",
       "    <tr>\n",
       "      <th>2</th>\n",
       "      <td>377394331582</td>\n",
       "      <td>695079507410</td>\n",
       "      <td>4/21/2010 12:00:00 AM</td>\n",
       "      <td>Narcotics</td>\n",
       "      <td>True</td>\n",
       "      <td>334341207520</td>\n",
       "      <td>621377822772</td>\n",
       "      <td>[POSSESSION OF CANNABIS WITH INTENT TO DELIVER...</td>\n",
       "      <td>1</td>\n",
       "      <td>1/12/2011 12:00:00 AM</td>\n",
       "      <td>...</td>\n",
       "      <td>False</td>\n",
       "      <td>True</td>\n",
       "      <td>Sharon</td>\n",
       "      <td>female</td>\n",
       "      <td>False</td>\n",
       "      <td>True</td>\n",
       "      <td>False</td>\n",
       "      <td>64</td>\n",
       "      <td>0.05821</td>\n",
       "      <td>2.0</td>\n",
       "    </tr>\n",
       "    <tr>\n",
       "      <th>3</th>\n",
       "      <td>377427373884</td>\n",
       "      <td>695175012095</td>\n",
       "      <td>4/8/2010 12:00:00 AM</td>\n",
       "      <td>Narcotics</td>\n",
       "      <td>True</td>\n",
       "      <td>333825227220</td>\n",
       "      <td>620352718918</td>\n",
       "      <td>[POSSESSION OF CONTROLLED SUBSTANCE WITH INTEN...</td>\n",
       "      <td>1</td>\n",
       "      <td>4/12/2011 12:00:00 AM</td>\n",
       "      <td>...</td>\n",
       "      <td>False</td>\n",
       "      <td>False</td>\n",
       "      <td>Maura</td>\n",
       "      <td>female</td>\n",
       "      <td>False</td>\n",
       "      <td>True</td>\n",
       "      <td>False</td>\n",
       "      <td>64</td>\n",
       "      <td>0.05821</td>\n",
       "      <td>3.0</td>\n",
       "    </tr>\n",
       "    <tr>\n",
       "      <th>4</th>\n",
       "      <td>377478919873</td>\n",
       "      <td>695306378222</td>\n",
       "      <td>4/24/2010 12:00:00 AM</td>\n",
       "      <td>Attempt Arson</td>\n",
       "      <td>True</td>\n",
       "      <td>334053278144</td>\n",
       "      <td>620821129628</td>\n",
       "      <td>AGGRAVATED ARSON</td>\n",
       "      <td>1</td>\n",
       "      <td>7/29/2011 12:00:00 AM</td>\n",
       "      <td>...</td>\n",
       "      <td>False</td>\n",
       "      <td>True</td>\n",
       "      <td>James</td>\n",
       "      <td>male</td>\n",
       "      <td>True</td>\n",
       "      <td>False</td>\n",
       "      <td>False</td>\n",
       "      <td>64</td>\n",
       "      <td>0.05821</td>\n",
       "      <td>15.0</td>\n",
       "    </tr>\n",
       "  </tbody>\n",
       "</table>\n",
       "<p>5 rows × 54 columns</p>\n",
       "</div>"
      ],
      "text/plain": [
       "        CASE_ID  CASE_PARTICIPANT_ID          RECEIVED_DATE  \\\n",
       "0  240624757473         214083848061   2/7/2010 12:00:00 AM   \n",
       "1  377335736568         694901143919  4/17/2010 12:00:00 AM   \n",
       "2  377394331582         695079507410  4/21/2010 12:00:00 AM   \n",
       "3  377427373884         695175012095   4/8/2010 12:00:00 AM   \n",
       "4  377478919873         695306378222  4/24/2010 12:00:00 AM   \n",
       "\n",
       "    OFFENSE_CATEGORY  PRIMARY_CHARGE_FLAG     CHARGE_ID  CHARGE_VERSION_ID  \\\n",
       "0  PROMIS Conversion                 True  190929352317       255873414267   \n",
       "1         Sex Crimes                 True  333676612023       620025653522   \n",
       "2          Narcotics                 True  334341207520       621377822772   \n",
       "3          Narcotics                 True  333825227220       620352718918   \n",
       "4      Attempt Arson                 True  334053278144       620821129628   \n",
       "\n",
       "                   DISPOSITION_CHARGED_OFFENSE_TITLE  CHARGE_COUNT  \\\n",
       "0                 UUW/FELONY POSS/USE WEAPON/FIREARM             1   \n",
       "1     VIOLATION OF THE SEX OFFENDER REGISTRATION ACT             1   \n",
       "2  [POSSESSION OF CANNABIS WITH INTENT TO DELIVER...             1   \n",
       "3  [POSSESSION OF CONTROLLED SUBSTANCE WITH INTEN...             1   \n",
       "4                                   AGGRAVATED ARSON             1   \n",
       "\n",
       "        DISPOSITION_DATE  ... is_other_derived is_defendant_male   FN_judge  \\\n",
       "0  1/21/2011 12:00:00 AM  ...            False             False  Catherine   \n",
       "1  5/16/2011 12:00:00 AM  ...            False              True      James   \n",
       "2  1/12/2011 12:00:00 AM  ...            False              True     Sharon   \n",
       "3  4/12/2011 12:00:00 AM  ...            False             False      Maura   \n",
       "4  7/29/2011 12:00:00 AM  ...            False              True      James   \n",
       "\n",
       "  Gender_judge is_judge_male is_changed_offense is_covid Livability his_prop  \\\n",
       "0       female         False              False    False         64  0.05821   \n",
       "1         male          True              False    False         64  0.05821   \n",
       "2       female         False               True    False         64  0.05821   \n",
       "3       female         False               True    False         64  0.05821   \n",
       "4         male          True              False    False         64  0.05821   \n",
       "\n",
       "  senlength_derived  \n",
       "0               2.0  \n",
       "1               2.0  \n",
       "2               2.0  \n",
       "3               3.0  \n",
       "4              15.0  \n",
       "\n",
       "[5 rows x 54 columns]"
      ]
     },
     "execution_count": 25,
     "metadata": {},
     "output_type": "execute_result"
    }
   ],
   "source": [
    "df1 = transition(df = df1)\n",
    "df1.head()"
   ]
  },
  {
   "cell_type": "code",
   "execution_count": 26,
   "id": "ffb5bb84",
   "metadata": {},
   "outputs": [],
   "source": [
    "## Clean the abnormal value\n",
    "df1.senlength_derived.describe()\n",
    "## Select 100 as maximum sentence length\n",
    "df1 = df1[df1.senlength_derived < 100]"
   ]
  },
  {
   "cell_type": "markdown",
   "id": "6414eae9",
   "metadata": {},
   "source": [
    "### Add Incar variable\n",
    "We regarded the defendant whose COMMITMENT_TYPE is Illinois Department of Corrections as incarceration."
   ]
  },
  {
   "cell_type": "code",
   "execution_count": 27,
   "id": "9a8afac5",
   "metadata": {},
   "outputs": [
    {
     "data": {
      "text/plain": [
       "Illinois Department of Corrections       26286\n",
       "Probation                                16024\n",
       "710/410 Probation                         3318\n",
       "Cook County Department of Corrections     1576\n",
       "Intensive Probation Services              1080\n",
       "Name: COMMITMENT_TYPE, dtype: int64"
      ]
     },
     "execution_count": 27,
     "metadata": {},
     "output_type": "execute_result"
    }
   ],
   "source": [
    "df1.COMMITMENT_TYPE.value_counts().head(5)"
   ]
  },
  {
   "cell_type": "code",
   "execution_count": 28,
   "id": "3aec6331",
   "metadata": {},
   "outputs": [
    {
     "data": {
      "text/html": [
       "<div>\n",
       "<style scoped>\n",
       "    .dataframe tbody tr th:only-of-type {\n",
       "        vertical-align: middle;\n",
       "    }\n",
       "\n",
       "    .dataframe tbody tr th {\n",
       "        vertical-align: top;\n",
       "    }\n",
       "\n",
       "    .dataframe thead th {\n",
       "        text-align: right;\n",
       "    }\n",
       "</style>\n",
       "<table border=\"1\" class=\"dataframe\">\n",
       "  <thead>\n",
       "    <tr style=\"text-align: right;\">\n",
       "      <th></th>\n",
       "      <th>CASE_ID</th>\n",
       "      <th>CASE_PARTICIPANT_ID</th>\n",
       "      <th>RECEIVED_DATE</th>\n",
       "      <th>OFFENSE_CATEGORY</th>\n",
       "      <th>PRIMARY_CHARGE_FLAG</th>\n",
       "      <th>CHARGE_ID</th>\n",
       "      <th>CHARGE_VERSION_ID</th>\n",
       "      <th>DISPOSITION_CHARGED_OFFENSE_TITLE</th>\n",
       "      <th>CHARGE_COUNT</th>\n",
       "      <th>DISPOSITION_DATE</th>\n",
       "      <th>...</th>\n",
       "      <th>is_defendant_male</th>\n",
       "      <th>FN_judge</th>\n",
       "      <th>Gender_judge</th>\n",
       "      <th>is_judge_male</th>\n",
       "      <th>is_changed_offense</th>\n",
       "      <th>is_covid</th>\n",
       "      <th>Livability</th>\n",
       "      <th>his_prop</th>\n",
       "      <th>senlength_derived</th>\n",
       "      <th>Incar</th>\n",
       "    </tr>\n",
       "  </thead>\n",
       "  <tbody>\n",
       "    <tr>\n",
       "      <th>0</th>\n",
       "      <td>240624757473</td>\n",
       "      <td>214083848061</td>\n",
       "      <td>2/7/2010 12:00:00 AM</td>\n",
       "      <td>PROMIS Conversion</td>\n",
       "      <td>True</td>\n",
       "      <td>190929352317</td>\n",
       "      <td>255873414267</td>\n",
       "      <td>UUW/FELONY POSS/USE WEAPON/FIREARM</td>\n",
       "      <td>1</td>\n",
       "      <td>1/21/2011 12:00:00 AM</td>\n",
       "      <td>...</td>\n",
       "      <td>False</td>\n",
       "      <td>Catherine</td>\n",
       "      <td>female</td>\n",
       "      <td>False</td>\n",
       "      <td>False</td>\n",
       "      <td>False</td>\n",
       "      <td>64</td>\n",
       "      <td>0.05821</td>\n",
       "      <td>2.0</td>\n",
       "      <td>False</td>\n",
       "    </tr>\n",
       "    <tr>\n",
       "      <th>1</th>\n",
       "      <td>377335736568</td>\n",
       "      <td>694901143919</td>\n",
       "      <td>4/17/2010 12:00:00 AM</td>\n",
       "      <td>Sex Crimes</td>\n",
       "      <td>True</td>\n",
       "      <td>333676612023</td>\n",
       "      <td>620025653522</td>\n",
       "      <td>VIOLATION OF THE SEX OFFENDER REGISTRATION ACT</td>\n",
       "      <td>1</td>\n",
       "      <td>5/16/2011 12:00:00 AM</td>\n",
       "      <td>...</td>\n",
       "      <td>True</td>\n",
       "      <td>James</td>\n",
       "      <td>male</td>\n",
       "      <td>True</td>\n",
       "      <td>False</td>\n",
       "      <td>False</td>\n",
       "      <td>64</td>\n",
       "      <td>0.05821</td>\n",
       "      <td>2.0</td>\n",
       "      <td>True</td>\n",
       "    </tr>\n",
       "    <tr>\n",
       "      <th>2</th>\n",
       "      <td>377394331582</td>\n",
       "      <td>695079507410</td>\n",
       "      <td>4/21/2010 12:00:00 AM</td>\n",
       "      <td>Narcotics</td>\n",
       "      <td>True</td>\n",
       "      <td>334341207520</td>\n",
       "      <td>621377822772</td>\n",
       "      <td>[POSSESSION OF CANNABIS WITH INTENT TO DELIVER...</td>\n",
       "      <td>1</td>\n",
       "      <td>1/12/2011 12:00:00 AM</td>\n",
       "      <td>...</td>\n",
       "      <td>True</td>\n",
       "      <td>Sharon</td>\n",
       "      <td>female</td>\n",
       "      <td>False</td>\n",
       "      <td>True</td>\n",
       "      <td>False</td>\n",
       "      <td>64</td>\n",
       "      <td>0.05821</td>\n",
       "      <td>2.0</td>\n",
       "      <td>False</td>\n",
       "    </tr>\n",
       "    <tr>\n",
       "      <th>3</th>\n",
       "      <td>377427373884</td>\n",
       "      <td>695175012095</td>\n",
       "      <td>4/8/2010 12:00:00 AM</td>\n",
       "      <td>Narcotics</td>\n",
       "      <td>True</td>\n",
       "      <td>333825227220</td>\n",
       "      <td>620352718918</td>\n",
       "      <td>[POSSESSION OF CONTROLLED SUBSTANCE WITH INTEN...</td>\n",
       "      <td>1</td>\n",
       "      <td>4/12/2011 12:00:00 AM</td>\n",
       "      <td>...</td>\n",
       "      <td>False</td>\n",
       "      <td>Maura</td>\n",
       "      <td>female</td>\n",
       "      <td>False</td>\n",
       "      <td>True</td>\n",
       "      <td>False</td>\n",
       "      <td>64</td>\n",
       "      <td>0.05821</td>\n",
       "      <td>3.0</td>\n",
       "      <td>True</td>\n",
       "    </tr>\n",
       "    <tr>\n",
       "      <th>4</th>\n",
       "      <td>377478919873</td>\n",
       "      <td>695306378222</td>\n",
       "      <td>4/24/2010 12:00:00 AM</td>\n",
       "      <td>Attempt Arson</td>\n",
       "      <td>True</td>\n",
       "      <td>334053278144</td>\n",
       "      <td>620821129628</td>\n",
       "      <td>AGGRAVATED ARSON</td>\n",
       "      <td>1</td>\n",
       "      <td>7/29/2011 12:00:00 AM</td>\n",
       "      <td>...</td>\n",
       "      <td>True</td>\n",
       "      <td>James</td>\n",
       "      <td>male</td>\n",
       "      <td>True</td>\n",
       "      <td>False</td>\n",
       "      <td>False</td>\n",
       "      <td>64</td>\n",
       "      <td>0.05821</td>\n",
       "      <td>15.0</td>\n",
       "      <td>True</td>\n",
       "    </tr>\n",
       "  </tbody>\n",
       "</table>\n",
       "<p>5 rows × 55 columns</p>\n",
       "</div>"
      ],
      "text/plain": [
       "        CASE_ID  CASE_PARTICIPANT_ID          RECEIVED_DATE  \\\n",
       "0  240624757473         214083848061   2/7/2010 12:00:00 AM   \n",
       "1  377335736568         694901143919  4/17/2010 12:00:00 AM   \n",
       "2  377394331582         695079507410  4/21/2010 12:00:00 AM   \n",
       "3  377427373884         695175012095   4/8/2010 12:00:00 AM   \n",
       "4  377478919873         695306378222  4/24/2010 12:00:00 AM   \n",
       "\n",
       "    OFFENSE_CATEGORY  PRIMARY_CHARGE_FLAG     CHARGE_ID  CHARGE_VERSION_ID  \\\n",
       "0  PROMIS Conversion                 True  190929352317       255873414267   \n",
       "1         Sex Crimes                 True  333676612023       620025653522   \n",
       "2          Narcotics                 True  334341207520       621377822772   \n",
       "3          Narcotics                 True  333825227220       620352718918   \n",
       "4      Attempt Arson                 True  334053278144       620821129628   \n",
       "\n",
       "                   DISPOSITION_CHARGED_OFFENSE_TITLE  CHARGE_COUNT  \\\n",
       "0                 UUW/FELONY POSS/USE WEAPON/FIREARM             1   \n",
       "1     VIOLATION OF THE SEX OFFENDER REGISTRATION ACT             1   \n",
       "2  [POSSESSION OF CANNABIS WITH INTENT TO DELIVER...             1   \n",
       "3  [POSSESSION OF CONTROLLED SUBSTANCE WITH INTEN...             1   \n",
       "4                                   AGGRAVATED ARSON             1   \n",
       "\n",
       "        DISPOSITION_DATE  ... is_defendant_male   FN_judge Gender_judge  \\\n",
       "0  1/21/2011 12:00:00 AM  ...             False  Catherine       female   \n",
       "1  5/16/2011 12:00:00 AM  ...              True      James         male   \n",
       "2  1/12/2011 12:00:00 AM  ...              True     Sharon       female   \n",
       "3  4/12/2011 12:00:00 AM  ...             False      Maura       female   \n",
       "4  7/29/2011 12:00:00 AM  ...              True      James         male   \n",
       "\n",
       "  is_judge_male is_changed_offense is_covid Livability his_prop  \\\n",
       "0         False              False    False         64  0.05821   \n",
       "1          True              False    False         64  0.05821   \n",
       "2         False               True    False         64  0.05821   \n",
       "3         False               True    False         64  0.05821   \n",
       "4          True              False    False         64  0.05821   \n",
       "\n",
       "  senlength_derived  Incar  \n",
       "0               2.0  False  \n",
       "1               2.0   True  \n",
       "2               2.0  False  \n",
       "3               3.0   True  \n",
       "4              15.0   True  \n",
       "\n",
       "[5 rows x 55 columns]"
      ]
     },
     "execution_count": 28,
     "metadata": {},
     "output_type": "execute_result"
    }
   ],
   "source": [
    "df1['Incar'] = np.where(df1.COMMITMENT_TYPE == 'Illinois Department of Corrections', True , False)\n",
    "df1.head()"
   ]
  },
  {
   "cell_type": "markdown",
   "id": "0eed65ce",
   "metadata": {},
   "source": [
    "## Court variables\n",
    "We created 6 binary variables is_district1_derived, is_district2_derived, is_district3_derived, is_district4_derived, is_district5_derived, and is_district6_derived."
   ]
  },
  {
   "cell_type": "code",
   "execution_count": 29,
   "id": "8185219c",
   "metadata": {},
   "outputs": [],
   "source": [
    "### Clean the data\n",
    "df1 = df1[~df1.SENTENCE_COURT_NAME.isna()]\n",
    "df1 = df1[df1.SENTENCE_COURT_NAME.str.contains('District')]"
   ]
  },
  {
   "cell_type": "markdown",
   "id": "44df403d",
   "metadata": {},
   "source": [
    "### is_district1_derived"
   ]
  },
  {
   "cell_type": "code",
   "execution_count": 30,
   "id": "5558f796",
   "metadata": {},
   "outputs": [],
   "source": [
    "df1['is_district1_derived'] = np.where(df1.SENTENCE_COURT_NAME == 'District 1 - Chicago', True ,False)"
   ]
  },
  {
   "cell_type": "markdown",
   "id": "f95f3882",
   "metadata": {},
   "source": [
    "### is_district2_derived"
   ]
  },
  {
   "cell_type": "code",
   "execution_count": 31,
   "id": "59cf6beb",
   "metadata": {},
   "outputs": [],
   "source": [
    "df1['is_district2_derived'] = np.where(df1.SENTENCE_COURT_NAME == 'District 2 - Skokie', True ,False)"
   ]
  },
  {
   "cell_type": "markdown",
   "id": "dd901843",
   "metadata": {},
   "source": [
    "### is_district3_derived"
   ]
  },
  {
   "cell_type": "code",
   "execution_count": 32,
   "id": "c62c6c69",
   "metadata": {},
   "outputs": [],
   "source": [
    "df1['is_district3_derived'] = np.where(df1.SENTENCE_COURT_NAME == 'District 3 - Rolling Meadows', True ,False)"
   ]
  },
  {
   "cell_type": "markdown",
   "id": "dc211a05",
   "metadata": {},
   "source": [
    "### is_district4_derived"
   ]
  },
  {
   "cell_type": "code",
   "execution_count": 33,
   "id": "ab945001",
   "metadata": {},
   "outputs": [],
   "source": [
    "df1['is_district4_derived'] = np.where(df1.SENTENCE_COURT_NAME == 'District 4 - Maywood', True ,False)"
   ]
  },
  {
   "cell_type": "markdown",
   "id": "ca339f70",
   "metadata": {},
   "source": [
    "### is_district5_derived"
   ]
  },
  {
   "cell_type": "code",
   "execution_count": 34,
   "id": "03c40107",
   "metadata": {},
   "outputs": [],
   "source": [
    "df1['is_district5_derived'] = np.where(df1.SENTENCE_COURT_NAME == 'District 5 - Bridgeview', True ,False)"
   ]
  },
  {
   "cell_type": "markdown",
   "id": "d06c4e5b",
   "metadata": {},
   "source": [
    "### is_district6_derived"
   ]
  },
  {
   "cell_type": "code",
   "execution_count": 35,
   "id": "5a2fda93",
   "metadata": {},
   "outputs": [],
   "source": [
    "df1['is_district6_derived'] = np.where(df1.SENTENCE_COURT_NAME == 'District 6 - Markham', True ,False)"
   ]
  },
  {
   "cell_type": "code",
   "execution_count": 36,
   "id": "e7e25a43",
   "metadata": {},
   "outputs": [
    {
     "data": {
      "text/html": [
       "<div>\n",
       "<style scoped>\n",
       "    .dataframe tbody tr th:only-of-type {\n",
       "        vertical-align: middle;\n",
       "    }\n",
       "\n",
       "    .dataframe tbody tr th {\n",
       "        vertical-align: top;\n",
       "    }\n",
       "\n",
       "    .dataframe thead th {\n",
       "        text-align: right;\n",
       "    }\n",
       "</style>\n",
       "<table border=\"1\" class=\"dataframe\">\n",
       "  <thead>\n",
       "    <tr style=\"text-align: right;\">\n",
       "      <th></th>\n",
       "      <th>CASE_ID</th>\n",
       "      <th>CASE_PARTICIPANT_ID</th>\n",
       "      <th>RECEIVED_DATE</th>\n",
       "      <th>OFFENSE_CATEGORY</th>\n",
       "      <th>PRIMARY_CHARGE_FLAG</th>\n",
       "      <th>CHARGE_ID</th>\n",
       "      <th>CHARGE_VERSION_ID</th>\n",
       "      <th>DISPOSITION_CHARGED_OFFENSE_TITLE</th>\n",
       "      <th>CHARGE_COUNT</th>\n",
       "      <th>DISPOSITION_DATE</th>\n",
       "      <th>...</th>\n",
       "      <th>Livability</th>\n",
       "      <th>his_prop</th>\n",
       "      <th>senlength_derived</th>\n",
       "      <th>Incar</th>\n",
       "      <th>is_district1_derived</th>\n",
       "      <th>is_district2_derived</th>\n",
       "      <th>is_district3_derived</th>\n",
       "      <th>is_district4_derived</th>\n",
       "      <th>is_district5_derived</th>\n",
       "      <th>is_district6_derived</th>\n",
       "    </tr>\n",
       "  </thead>\n",
       "  <tbody>\n",
       "    <tr>\n",
       "      <th>0</th>\n",
       "      <td>240624757473</td>\n",
       "      <td>214083848061</td>\n",
       "      <td>2/7/2010 12:00:00 AM</td>\n",
       "      <td>PROMIS Conversion</td>\n",
       "      <td>True</td>\n",
       "      <td>190929352317</td>\n",
       "      <td>255873414267</td>\n",
       "      <td>UUW/FELONY POSS/USE WEAPON/FIREARM</td>\n",
       "      <td>1</td>\n",
       "      <td>1/21/2011 12:00:00 AM</td>\n",
       "      <td>...</td>\n",
       "      <td>64</td>\n",
       "      <td>0.05821</td>\n",
       "      <td>2.0</td>\n",
       "      <td>False</td>\n",
       "      <td>True</td>\n",
       "      <td>False</td>\n",
       "      <td>False</td>\n",
       "      <td>False</td>\n",
       "      <td>False</td>\n",
       "      <td>False</td>\n",
       "    </tr>\n",
       "    <tr>\n",
       "      <th>1</th>\n",
       "      <td>377335736568</td>\n",
       "      <td>694901143919</td>\n",
       "      <td>4/17/2010 12:00:00 AM</td>\n",
       "      <td>Sex Crimes</td>\n",
       "      <td>True</td>\n",
       "      <td>333676612023</td>\n",
       "      <td>620025653522</td>\n",
       "      <td>VIOLATION OF THE SEX OFFENDER REGISTRATION ACT</td>\n",
       "      <td>1</td>\n",
       "      <td>5/16/2011 12:00:00 AM</td>\n",
       "      <td>...</td>\n",
       "      <td>64</td>\n",
       "      <td>0.05821</td>\n",
       "      <td>2.0</td>\n",
       "      <td>True</td>\n",
       "      <td>True</td>\n",
       "      <td>False</td>\n",
       "      <td>False</td>\n",
       "      <td>False</td>\n",
       "      <td>False</td>\n",
       "      <td>False</td>\n",
       "    </tr>\n",
       "    <tr>\n",
       "      <th>2</th>\n",
       "      <td>377394331582</td>\n",
       "      <td>695079507410</td>\n",
       "      <td>4/21/2010 12:00:00 AM</td>\n",
       "      <td>Narcotics</td>\n",
       "      <td>True</td>\n",
       "      <td>334341207520</td>\n",
       "      <td>621377822772</td>\n",
       "      <td>[POSSESSION OF CANNABIS WITH INTENT TO DELIVER...</td>\n",
       "      <td>1</td>\n",
       "      <td>1/12/2011 12:00:00 AM</td>\n",
       "      <td>...</td>\n",
       "      <td>64</td>\n",
       "      <td>0.05821</td>\n",
       "      <td>2.0</td>\n",
       "      <td>False</td>\n",
       "      <td>False</td>\n",
       "      <td>True</td>\n",
       "      <td>False</td>\n",
       "      <td>False</td>\n",
       "      <td>False</td>\n",
       "      <td>False</td>\n",
       "    </tr>\n",
       "    <tr>\n",
       "      <th>3</th>\n",
       "      <td>377427373884</td>\n",
       "      <td>695175012095</td>\n",
       "      <td>4/8/2010 12:00:00 AM</td>\n",
       "      <td>Narcotics</td>\n",
       "      <td>True</td>\n",
       "      <td>333825227220</td>\n",
       "      <td>620352718918</td>\n",
       "      <td>[POSSESSION OF CONTROLLED SUBSTANCE WITH INTEN...</td>\n",
       "      <td>1</td>\n",
       "      <td>4/12/2011 12:00:00 AM</td>\n",
       "      <td>...</td>\n",
       "      <td>64</td>\n",
       "      <td>0.05821</td>\n",
       "      <td>3.0</td>\n",
       "      <td>True</td>\n",
       "      <td>True</td>\n",
       "      <td>False</td>\n",
       "      <td>False</td>\n",
       "      <td>False</td>\n",
       "      <td>False</td>\n",
       "      <td>False</td>\n",
       "    </tr>\n",
       "    <tr>\n",
       "      <th>4</th>\n",
       "      <td>377478919873</td>\n",
       "      <td>695306378222</td>\n",
       "      <td>4/24/2010 12:00:00 AM</td>\n",
       "      <td>Attempt Arson</td>\n",
       "      <td>True</td>\n",
       "      <td>334053278144</td>\n",
       "      <td>620821129628</td>\n",
       "      <td>AGGRAVATED ARSON</td>\n",
       "      <td>1</td>\n",
       "      <td>7/29/2011 12:00:00 AM</td>\n",
       "      <td>...</td>\n",
       "      <td>64</td>\n",
       "      <td>0.05821</td>\n",
       "      <td>15.0</td>\n",
       "      <td>True</td>\n",
       "      <td>True</td>\n",
       "      <td>False</td>\n",
       "      <td>False</td>\n",
       "      <td>False</td>\n",
       "      <td>False</td>\n",
       "      <td>False</td>\n",
       "    </tr>\n",
       "  </tbody>\n",
       "</table>\n",
       "<p>5 rows × 61 columns</p>\n",
       "</div>"
      ],
      "text/plain": [
       "        CASE_ID  CASE_PARTICIPANT_ID          RECEIVED_DATE  \\\n",
       "0  240624757473         214083848061   2/7/2010 12:00:00 AM   \n",
       "1  377335736568         694901143919  4/17/2010 12:00:00 AM   \n",
       "2  377394331582         695079507410  4/21/2010 12:00:00 AM   \n",
       "3  377427373884         695175012095   4/8/2010 12:00:00 AM   \n",
       "4  377478919873         695306378222  4/24/2010 12:00:00 AM   \n",
       "\n",
       "    OFFENSE_CATEGORY  PRIMARY_CHARGE_FLAG     CHARGE_ID  CHARGE_VERSION_ID  \\\n",
       "0  PROMIS Conversion                 True  190929352317       255873414267   \n",
       "1         Sex Crimes                 True  333676612023       620025653522   \n",
       "2          Narcotics                 True  334341207520       621377822772   \n",
       "3          Narcotics                 True  333825227220       620352718918   \n",
       "4      Attempt Arson                 True  334053278144       620821129628   \n",
       "\n",
       "                   DISPOSITION_CHARGED_OFFENSE_TITLE  CHARGE_COUNT  \\\n",
       "0                 UUW/FELONY POSS/USE WEAPON/FIREARM             1   \n",
       "1     VIOLATION OF THE SEX OFFENDER REGISTRATION ACT             1   \n",
       "2  [POSSESSION OF CANNABIS WITH INTENT TO DELIVER...             1   \n",
       "3  [POSSESSION OF CONTROLLED SUBSTANCE WITH INTEN...             1   \n",
       "4                                   AGGRAVATED ARSON             1   \n",
       "\n",
       "        DISPOSITION_DATE  ... Livability his_prop senlength_derived  Incar  \\\n",
       "0  1/21/2011 12:00:00 AM  ...         64  0.05821               2.0  False   \n",
       "1  5/16/2011 12:00:00 AM  ...         64  0.05821               2.0   True   \n",
       "2  1/12/2011 12:00:00 AM  ...         64  0.05821               2.0  False   \n",
       "3  4/12/2011 12:00:00 AM  ...         64  0.05821               3.0   True   \n",
       "4  7/29/2011 12:00:00 AM  ...         64  0.05821              15.0   True   \n",
       "\n",
       "  is_district1_derived is_district2_derived is_district3_derived  \\\n",
       "0                 True                False                False   \n",
       "1                 True                False                False   \n",
       "2                False                 True                False   \n",
       "3                 True                False                False   \n",
       "4                 True                False                False   \n",
       "\n",
       "  is_district4_derived is_district5_derived is_district6_derived  \n",
       "0                False                False                False  \n",
       "1                False                False                False  \n",
       "2                False                False                False  \n",
       "3                False                False                False  \n",
       "4                False                False                False  \n",
       "\n",
       "[5 rows x 61 columns]"
      ]
     },
     "execution_count": 36,
     "metadata": {},
     "output_type": "execute_result"
    }
   ],
   "source": [
    "df1.head()"
   ]
  },
  {
   "cell_type": "markdown",
   "id": "e9bd234f",
   "metadata": {},
   "source": [
    "## Consider more varibles related to offense type\n",
    "We selected the updated offense category to research."
   ]
  },
  {
   "cell_type": "code",
   "execution_count": 37,
   "id": "5d24f890",
   "metadata": {},
   "outputs": [
    {
     "data": {
      "text/plain": [
       "Narcotics                                    34199\n",
       "UUW - Unlawful Use of Weapon                  3144\n",
       "Aggravated DUI                                2018\n",
       "Retail Theft                                  1797\n",
       "Burglary                                      1356\n",
       "Driving With Suspended Or Revoked License     1278\n",
       "Residential Burglary                           788\n",
       "Possession of Stolen Motor Vehicle             738\n",
       "Robbery                                        673\n",
       "Aggravated Battery Police Officer              634\n",
       "Armed Robbery                                  633\n",
       "Theft                                          552\n",
       "Failure to Register as a Sex Offender          344\n",
       "Other Offense                                  269\n",
       "Aggravated Battery                             260\n",
       "Aggravated Fleeing and Eluding                 257\n",
       "Aggravated Robbery                             225\n",
       "Criminal Damage to Property                    161\n",
       "Identity Theft                                 139\n",
       "Sex Crimes                                     136\n",
       "Name: UPDATED_OFFENSE_CATEGORY, dtype: int64"
      ]
     },
     "execution_count": 37,
     "metadata": {},
     "output_type": "execute_result"
    }
   ],
   "source": [
    "### View most frequent offense type\n",
    "df1.UPDATED_OFFENSE_CATEGORY.value_counts().head(20)"
   ]
  },
  {
   "cell_type": "markdown",
   "id": "2f32edbd",
   "metadata": {},
   "source": [
    "## From the results above, we created 10 binary variables of sentence type to research its influence on sentence length\n",
    "### is_nar_derived\n",
    "includes 'Narcotics'."
   ]
  },
  {
   "cell_type": "code",
   "execution_count": 38,
   "id": "48dbf8e6",
   "metadata": {},
   "outputs": [],
   "source": [
    "df1['is_nar_derived'] = np.where(df1.UPDATED_OFFENSE_CATEGORY.str.contains('Narcotics'), True , False)"
   ]
  },
  {
   "cell_type": "markdown",
   "id": "0c6a42a1",
   "metadata": {},
   "source": [
    "### is_sex_derived\n",
    "includes 'Failure to Register as a Sex Offender', and 'Sex Crimes'."
   ]
  },
  {
   "cell_type": "code",
   "execution_count": 39,
   "id": "36f6db70",
   "metadata": {},
   "outputs": [],
   "source": [
    "df1['is_sex_derived'] = np.where(df1.UPDATED_OFFENSE_CATEGORY.str.contains('Sex'), True , False)"
   ]
  },
  {
   "cell_type": "markdown",
   "id": "4d4ab923",
   "metadata": {},
   "source": [
    "### is_wea_derived\n",
    "includes 'UUW - Unlawful Use of Weapon'."
   ]
  },
  {
   "cell_type": "code",
   "execution_count": 40,
   "id": "ff1ef176",
   "metadata": {},
   "outputs": [],
   "source": [
    "df1['is_wea_derived'] = np.where(df1.UPDATED_OFFENSE_CATEGORY.str.contains('Weapon'), True , False)"
   ]
  },
  {
   "cell_type": "markdown",
   "id": "1bf8596a",
   "metadata": {},
   "source": [
    "### is_vehi_derived\n",
    "includes 'Driving With Suspended Or Revoked License', and 'Possession of Stolen Motor Vehicle'."
   ]
  },
  {
   "cell_type": "code",
   "execution_count": 49,
   "id": "8254c967",
   "metadata": {},
   "outputs": [],
   "source": [
    "df1['is_vehi_derived'] = np.where((df1.UPDATED_OFFENSE_CATEGORY.str.contains('Vehicle')) |\\\n",
    "                                  (df1.UPDATED_OFFENSE_CATEGORY.str.contains('License'))\\\n",
    "                                  , True , False)"
   ]
  },
  {
   "cell_type": "markdown",
   "id": "22c81291",
   "metadata": {},
   "source": [
    "### is_theft_derived\n",
    "includes Theft', 'Retail Theft', 'Identity Theft', 'Aggravated Identity Theft', and 'Theft by Deception'."
   ]
  },
  {
   "cell_type": "code",
   "execution_count": 41,
   "id": "983cfaff",
   "metadata": {},
   "outputs": [],
   "source": [
    "df1['is_theft_derived'] = np.where(df1.UPDATED_OFFENSE_CATEGORY.str.contains('Theft'), True , False)"
   ]
  },
  {
   "cell_type": "markdown",
   "id": "62f18c9e",
   "metadata": {},
   "source": [
    "### is_DUI_derived\n",
    "includes 'Aggravated DUI'."
   ]
  },
  {
   "cell_type": "code",
   "execution_count": 42,
   "id": "c7b7583a",
   "metadata": {},
   "outputs": [],
   "source": [
    "df1['is_DUI_derived'] = np.where(df1.UPDATED_OFFENSE_CATEGORY.str.contains('DUI'), True , False)"
   ]
  },
  {
   "cell_type": "markdown",
   "id": "7290909a",
   "metadata": {},
   "source": [
    "### is_rob_derived\n",
    "includes 'Armed Robbery', 'Aggravated Robbery', 'Attempt Armed Robbery', and 'Robbery'."
   ]
  },
  {
   "cell_type": "code",
   "execution_count": 43,
   "id": "dd7b7be3",
   "metadata": {},
   "outputs": [],
   "source": [
    "df1['is_rob_derived'] = np.where(df1.UPDATED_OFFENSE_CATEGORY.str.contains('Robbery'), True , False)"
   ]
  },
  {
   "cell_type": "markdown",
   "id": "2e34f48b",
   "metadata": {},
   "source": [
    "### is_homi_derived\n",
    "includes'Homicide', 'Reckless Homicide', and 'Attempt Homicide'."
   ]
  },
  {
   "cell_type": "code",
   "execution_count": 44,
   "id": "8440ea30",
   "metadata": {},
   "outputs": [],
   "source": [
    "df1['is_homi_derived'] = np.where(df1.UPDATED_OFFENSE_CATEGORY.str.contains('Homicide'), True , False)"
   ]
  },
  {
   "cell_type": "markdown",
   "id": "609ba8fe",
   "metadata": {},
   "source": [
    "### is_bur_derived\n",
    "burglary + invasion\n",
    "\n",
    "includes 'Burglary', 'Residential Burglary', 'Possession Of Burglary Tools', 'Home Invasion', and 'Vehicular Invasion'."
   ]
  },
  {
   "cell_type": "code",
   "execution_count": 45,
   "id": "e213ec63",
   "metadata": {},
   "outputs": [],
   "source": [
    "df1['is_bur_derived'] = np.where((df1.UPDATED_OFFENSE_CATEGORY.str.contains('Burglary'))|\\\n",
    "                                 (df1.UPDATED_OFFENSE_CATEGORY.str.contains('Invasion'))\\\n",
    "                                 , True , False)"
   ]
  },
  {
   "cell_type": "markdown",
   "id": "066d0e3a",
   "metadata": {},
   "source": [
    "### is_bat_derived\n",
    "includes 'Aggravated Battery Police Officer', 'Aggravated Battery', 'Domestic Battery', and 'Aggravated Battery With A Firearm'."
   ]
  },
  {
   "cell_type": "code",
   "execution_count": 46,
   "id": "6f85ef43",
   "metadata": {},
   "outputs": [],
   "source": [
    "df1['is_bat_derived'] = np.where(df1.UPDATED_OFFENSE_CATEGORY.str.contains('Battery'), True , False)"
   ]
  },
  {
   "cell_type": "code",
   "execution_count": 47,
   "id": "f3a9f653",
   "metadata": {},
   "outputs": [
    {
     "data": {
      "text/html": [
       "<div>\n",
       "<style scoped>\n",
       "    .dataframe tbody tr th:only-of-type {\n",
       "        vertical-align: middle;\n",
       "    }\n",
       "\n",
       "    .dataframe tbody tr th {\n",
       "        vertical-align: top;\n",
       "    }\n",
       "\n",
       "    .dataframe thead th {\n",
       "        text-align: right;\n",
       "    }\n",
       "</style>\n",
       "<table border=\"1\" class=\"dataframe\">\n",
       "  <thead>\n",
       "    <tr style=\"text-align: right;\">\n",
       "      <th></th>\n",
       "      <th>CASE_ID</th>\n",
       "      <th>CASE_PARTICIPANT_ID</th>\n",
       "      <th>RECEIVED_DATE</th>\n",
       "      <th>OFFENSE_CATEGORY</th>\n",
       "      <th>PRIMARY_CHARGE_FLAG</th>\n",
       "      <th>CHARGE_ID</th>\n",
       "      <th>CHARGE_VERSION_ID</th>\n",
       "      <th>DISPOSITION_CHARGED_OFFENSE_TITLE</th>\n",
       "      <th>CHARGE_COUNT</th>\n",
       "      <th>DISPOSITION_DATE</th>\n",
       "      <th>...</th>\n",
       "      <th>is_district6_derived</th>\n",
       "      <th>is_nar_derived</th>\n",
       "      <th>is_sex_derived</th>\n",
       "      <th>is_wea_derived</th>\n",
       "      <th>is_theft_derived</th>\n",
       "      <th>is_DUI_derived</th>\n",
       "      <th>is_rob_derived</th>\n",
       "      <th>is_homi_derived</th>\n",
       "      <th>is_bur_derived</th>\n",
       "      <th>is_bat_derived</th>\n",
       "    </tr>\n",
       "  </thead>\n",
       "  <tbody>\n",
       "    <tr>\n",
       "      <th>0</th>\n",
       "      <td>240624757473</td>\n",
       "      <td>214083848061</td>\n",
       "      <td>2/7/2010 12:00:00 AM</td>\n",
       "      <td>PROMIS Conversion</td>\n",
       "      <td>True</td>\n",
       "      <td>190929352317</td>\n",
       "      <td>255873414267</td>\n",
       "      <td>UUW/FELONY POSS/USE WEAPON/FIREARM</td>\n",
       "      <td>1</td>\n",
       "      <td>1/21/2011 12:00:00 AM</td>\n",
       "      <td>...</td>\n",
       "      <td>False</td>\n",
       "      <td>True</td>\n",
       "      <td>False</td>\n",
       "      <td>False</td>\n",
       "      <td>False</td>\n",
       "      <td>False</td>\n",
       "      <td>False</td>\n",
       "      <td>False</td>\n",
       "      <td>False</td>\n",
       "      <td>False</td>\n",
       "    </tr>\n",
       "    <tr>\n",
       "      <th>1</th>\n",
       "      <td>377335736568</td>\n",
       "      <td>694901143919</td>\n",
       "      <td>4/17/2010 12:00:00 AM</td>\n",
       "      <td>Sex Crimes</td>\n",
       "      <td>True</td>\n",
       "      <td>333676612023</td>\n",
       "      <td>620025653522</td>\n",
       "      <td>VIOLATION OF THE SEX OFFENDER REGISTRATION ACT</td>\n",
       "      <td>1</td>\n",
       "      <td>5/16/2011 12:00:00 AM</td>\n",
       "      <td>...</td>\n",
       "      <td>False</td>\n",
       "      <td>False</td>\n",
       "      <td>True</td>\n",
       "      <td>False</td>\n",
       "      <td>False</td>\n",
       "      <td>False</td>\n",
       "      <td>False</td>\n",
       "      <td>False</td>\n",
       "      <td>False</td>\n",
       "      <td>False</td>\n",
       "    </tr>\n",
       "    <tr>\n",
       "      <th>2</th>\n",
       "      <td>377394331582</td>\n",
       "      <td>695079507410</td>\n",
       "      <td>4/21/2010 12:00:00 AM</td>\n",
       "      <td>Narcotics</td>\n",
       "      <td>True</td>\n",
       "      <td>334341207520</td>\n",
       "      <td>621377822772</td>\n",
       "      <td>[POSSESSION OF CANNABIS WITH INTENT TO DELIVER...</td>\n",
       "      <td>1</td>\n",
       "      <td>1/12/2011 12:00:00 AM</td>\n",
       "      <td>...</td>\n",
       "      <td>False</td>\n",
       "      <td>True</td>\n",
       "      <td>False</td>\n",
       "      <td>False</td>\n",
       "      <td>False</td>\n",
       "      <td>False</td>\n",
       "      <td>False</td>\n",
       "      <td>False</td>\n",
       "      <td>False</td>\n",
       "      <td>False</td>\n",
       "    </tr>\n",
       "    <tr>\n",
       "      <th>3</th>\n",
       "      <td>377427373884</td>\n",
       "      <td>695175012095</td>\n",
       "      <td>4/8/2010 12:00:00 AM</td>\n",
       "      <td>Narcotics</td>\n",
       "      <td>True</td>\n",
       "      <td>333825227220</td>\n",
       "      <td>620352718918</td>\n",
       "      <td>[POSSESSION OF CONTROLLED SUBSTANCE WITH INTEN...</td>\n",
       "      <td>1</td>\n",
       "      <td>4/12/2011 12:00:00 AM</td>\n",
       "      <td>...</td>\n",
       "      <td>False</td>\n",
       "      <td>True</td>\n",
       "      <td>False</td>\n",
       "      <td>False</td>\n",
       "      <td>False</td>\n",
       "      <td>False</td>\n",
       "      <td>False</td>\n",
       "      <td>False</td>\n",
       "      <td>False</td>\n",
       "      <td>False</td>\n",
       "    </tr>\n",
       "    <tr>\n",
       "      <th>4</th>\n",
       "      <td>377478919873</td>\n",
       "      <td>695306378222</td>\n",
       "      <td>4/24/2010 12:00:00 AM</td>\n",
       "      <td>Attempt Arson</td>\n",
       "      <td>True</td>\n",
       "      <td>334053278144</td>\n",
       "      <td>620821129628</td>\n",
       "      <td>AGGRAVATED ARSON</td>\n",
       "      <td>1</td>\n",
       "      <td>7/29/2011 12:00:00 AM</td>\n",
       "      <td>...</td>\n",
       "      <td>False</td>\n",
       "      <td>False</td>\n",
       "      <td>False</td>\n",
       "      <td>False</td>\n",
       "      <td>False</td>\n",
       "      <td>False</td>\n",
       "      <td>False</td>\n",
       "      <td>False</td>\n",
       "      <td>False</td>\n",
       "      <td>False</td>\n",
       "    </tr>\n",
       "  </tbody>\n",
       "</table>\n",
       "<p>5 rows × 70 columns</p>\n",
       "</div>"
      ],
      "text/plain": [
       "        CASE_ID  CASE_PARTICIPANT_ID          RECEIVED_DATE  \\\n",
       "0  240624757473         214083848061   2/7/2010 12:00:00 AM   \n",
       "1  377335736568         694901143919  4/17/2010 12:00:00 AM   \n",
       "2  377394331582         695079507410  4/21/2010 12:00:00 AM   \n",
       "3  377427373884         695175012095   4/8/2010 12:00:00 AM   \n",
       "4  377478919873         695306378222  4/24/2010 12:00:00 AM   \n",
       "\n",
       "    OFFENSE_CATEGORY  PRIMARY_CHARGE_FLAG     CHARGE_ID  CHARGE_VERSION_ID  \\\n",
       "0  PROMIS Conversion                 True  190929352317       255873414267   \n",
       "1         Sex Crimes                 True  333676612023       620025653522   \n",
       "2          Narcotics                 True  334341207520       621377822772   \n",
       "3          Narcotics                 True  333825227220       620352718918   \n",
       "4      Attempt Arson                 True  334053278144       620821129628   \n",
       "\n",
       "                   DISPOSITION_CHARGED_OFFENSE_TITLE  CHARGE_COUNT  \\\n",
       "0                 UUW/FELONY POSS/USE WEAPON/FIREARM             1   \n",
       "1     VIOLATION OF THE SEX OFFENDER REGISTRATION ACT             1   \n",
       "2  [POSSESSION OF CANNABIS WITH INTENT TO DELIVER...             1   \n",
       "3  [POSSESSION OF CONTROLLED SUBSTANCE WITH INTEN...             1   \n",
       "4                                   AGGRAVATED ARSON             1   \n",
       "\n",
       "        DISPOSITION_DATE  ... is_district6_derived is_nar_derived  \\\n",
       "0  1/21/2011 12:00:00 AM  ...                False           True   \n",
       "1  5/16/2011 12:00:00 AM  ...                False          False   \n",
       "2  1/12/2011 12:00:00 AM  ...                False           True   \n",
       "3  4/12/2011 12:00:00 AM  ...                False           True   \n",
       "4  7/29/2011 12:00:00 AM  ...                False          False   \n",
       "\n",
       "  is_sex_derived is_wea_derived is_theft_derived is_DUI_derived  \\\n",
       "0          False          False            False          False   \n",
       "1           True          False            False          False   \n",
       "2          False          False            False          False   \n",
       "3          False          False            False          False   \n",
       "4          False          False            False          False   \n",
       "\n",
       "  is_rob_derived is_homi_derived is_bur_derived is_bat_derived  \n",
       "0          False           False          False          False  \n",
       "1          False           False          False          False  \n",
       "2          False           False          False          False  \n",
       "3          False           False          False          False  \n",
       "4          False           False          False          False  \n",
       "\n",
       "[5 rows x 70 columns]"
      ]
     },
     "execution_count": 47,
     "metadata": {},
     "output_type": "execute_result"
    }
   ],
   "source": [
    "df1.head()"
   ]
  },
  {
   "cell_type": "markdown",
   "id": "2a5e63a3",
   "metadata": {},
   "source": [
    "## Create a new df to research our prediction model\n",
    "### We also selected 3 existing variables from the data set to research, including CHARGE_COUNT, DISPOSITION_CHARGED_CLASS and AGE_AT_INCIDENT."
   ]
  },
  {
   "cell_type": "code",
   "execution_count": 50,
   "id": "93a164ca",
   "metadata": {},
   "outputs": [
    {
     "data": {
      "text/html": [
       "<div>\n",
       "<style scoped>\n",
       "    .dataframe tbody tr th:only-of-type {\n",
       "        vertical-align: middle;\n",
       "    }\n",
       "\n",
       "    .dataframe tbody tr th {\n",
       "        vertical-align: top;\n",
       "    }\n",
       "\n",
       "    .dataframe thead th {\n",
       "        text-align: right;\n",
       "    }\n",
       "</style>\n",
       "<table border=\"1\" class=\"dataframe\">\n",
       "  <thead>\n",
       "    <tr style=\"text-align: right;\">\n",
       "      <th></th>\n",
       "      <th>CHARGE_COUNT</th>\n",
       "      <th>AGE_AT_INCIDENT</th>\n",
       "      <th>is_changed_offense</th>\n",
       "      <th>is_black_derived</th>\n",
       "      <th>is_hisp_derived</th>\n",
       "      <th>is_other_derived</th>\n",
       "      <th>is_white_derived</th>\n",
       "      <th>is_defendant_male</th>\n",
       "      <th>is_judge_male</th>\n",
       "      <th>is_covid</th>\n",
       "      <th>...</th>\n",
       "      <th>is_bat_derived</th>\n",
       "      <th>is_rob_derived</th>\n",
       "      <th>is_DUI_derived</th>\n",
       "      <th>is_district1_derived</th>\n",
       "      <th>is_district2_derived</th>\n",
       "      <th>is_district3_derived</th>\n",
       "      <th>is_district4_derived</th>\n",
       "      <th>is_district5_derived</th>\n",
       "      <th>is_district6_derived</th>\n",
       "      <th>senlength_derived</th>\n",
       "    </tr>\n",
       "  </thead>\n",
       "  <tbody>\n",
       "    <tr>\n",
       "      <th>0</th>\n",
       "      <td>1</td>\n",
       "      <td>26.0</td>\n",
       "      <td>False</td>\n",
       "      <td>False</td>\n",
       "      <td>True</td>\n",
       "      <td>False</td>\n",
       "      <td>False</td>\n",
       "      <td>False</td>\n",
       "      <td>False</td>\n",
       "      <td>False</td>\n",
       "      <td>...</td>\n",
       "      <td>False</td>\n",
       "      <td>False</td>\n",
       "      <td>False</td>\n",
       "      <td>True</td>\n",
       "      <td>False</td>\n",
       "      <td>False</td>\n",
       "      <td>False</td>\n",
       "      <td>False</td>\n",
       "      <td>False</td>\n",
       "      <td>2.0</td>\n",
       "    </tr>\n",
       "    <tr>\n",
       "      <th>1</th>\n",
       "      <td>1</td>\n",
       "      <td>55.0</td>\n",
       "      <td>False</td>\n",
       "      <td>True</td>\n",
       "      <td>False</td>\n",
       "      <td>False</td>\n",
       "      <td>False</td>\n",
       "      <td>True</td>\n",
       "      <td>True</td>\n",
       "      <td>False</td>\n",
       "      <td>...</td>\n",
       "      <td>False</td>\n",
       "      <td>False</td>\n",
       "      <td>False</td>\n",
       "      <td>True</td>\n",
       "      <td>False</td>\n",
       "      <td>False</td>\n",
       "      <td>False</td>\n",
       "      <td>False</td>\n",
       "      <td>False</td>\n",
       "      <td>2.0</td>\n",
       "    </tr>\n",
       "    <tr>\n",
       "      <th>2</th>\n",
       "      <td>1</td>\n",
       "      <td>27.0</td>\n",
       "      <td>True</td>\n",
       "      <td>True</td>\n",
       "      <td>False</td>\n",
       "      <td>False</td>\n",
       "      <td>False</td>\n",
       "      <td>True</td>\n",
       "      <td>False</td>\n",
       "      <td>False</td>\n",
       "      <td>...</td>\n",
       "      <td>False</td>\n",
       "      <td>False</td>\n",
       "      <td>False</td>\n",
       "      <td>False</td>\n",
       "      <td>True</td>\n",
       "      <td>False</td>\n",
       "      <td>False</td>\n",
       "      <td>False</td>\n",
       "      <td>False</td>\n",
       "      <td>2.0</td>\n",
       "    </tr>\n",
       "    <tr>\n",
       "      <th>3</th>\n",
       "      <td>1</td>\n",
       "      <td>52.0</td>\n",
       "      <td>True</td>\n",
       "      <td>True</td>\n",
       "      <td>False</td>\n",
       "      <td>False</td>\n",
       "      <td>False</td>\n",
       "      <td>False</td>\n",
       "      <td>False</td>\n",
       "      <td>False</td>\n",
       "      <td>...</td>\n",
       "      <td>False</td>\n",
       "      <td>False</td>\n",
       "      <td>False</td>\n",
       "      <td>True</td>\n",
       "      <td>False</td>\n",
       "      <td>False</td>\n",
       "      <td>False</td>\n",
       "      <td>False</td>\n",
       "      <td>False</td>\n",
       "      <td>3.0</td>\n",
       "    </tr>\n",
       "    <tr>\n",
       "      <th>4</th>\n",
       "      <td>1</td>\n",
       "      <td>55.0</td>\n",
       "      <td>False</td>\n",
       "      <td>True</td>\n",
       "      <td>False</td>\n",
       "      <td>False</td>\n",
       "      <td>False</td>\n",
       "      <td>True</td>\n",
       "      <td>True</td>\n",
       "      <td>False</td>\n",
       "      <td>...</td>\n",
       "      <td>False</td>\n",
       "      <td>False</td>\n",
       "      <td>False</td>\n",
       "      <td>True</td>\n",
       "      <td>False</td>\n",
       "      <td>False</td>\n",
       "      <td>False</td>\n",
       "      <td>False</td>\n",
       "      <td>False</td>\n",
       "      <td>15.0</td>\n",
       "    </tr>\n",
       "  </tbody>\n",
       "</table>\n",
       "<p>5 rows × 31 columns</p>\n",
       "</div>"
      ],
      "text/plain": [
       "   CHARGE_COUNT  AGE_AT_INCIDENT  is_changed_offense  is_black_derived  \\\n",
       "0             1             26.0               False             False   \n",
       "1             1             55.0               False              True   \n",
       "2             1             27.0                True              True   \n",
       "3             1             52.0                True              True   \n",
       "4             1             55.0               False              True   \n",
       "\n",
       "   is_hisp_derived  is_other_derived  is_white_derived  is_defendant_male  \\\n",
       "0             True             False             False              False   \n",
       "1            False             False             False               True   \n",
       "2            False             False             False               True   \n",
       "3            False             False             False              False   \n",
       "4            False             False             False               True   \n",
       "\n",
       "   is_judge_male  is_covid  ...  is_bat_derived  is_rob_derived  \\\n",
       "0          False     False  ...           False           False   \n",
       "1           True     False  ...           False           False   \n",
       "2          False     False  ...           False           False   \n",
       "3          False     False  ...           False           False   \n",
       "4           True     False  ...           False           False   \n",
       "\n",
       "   is_DUI_derived is_district1_derived  is_district2_derived  \\\n",
       "0           False                 True                 False   \n",
       "1           False                 True                 False   \n",
       "2           False                False                  True   \n",
       "3           False                 True                 False   \n",
       "4           False                 True                 False   \n",
       "\n",
       "   is_district3_derived  is_district4_derived  is_district5_derived  \\\n",
       "0                 False                 False                 False   \n",
       "1                 False                 False                 False   \n",
       "2                 False                 False                 False   \n",
       "3                 False                 False                 False   \n",
       "4                 False                 False                 False   \n",
       "\n",
       "   is_district6_derived  senlength_derived  \n",
       "0                 False                2.0  \n",
       "1                 False                2.0  \n",
       "2                 False                2.0  \n",
       "3                 False                3.0  \n",
       "4                 False               15.0  \n",
       "\n",
       "[5 rows x 31 columns]"
      ]
     },
     "execution_count": 50,
     "metadata": {},
     "output_type": "execute_result"
    }
   ],
   "source": [
    "new_df = df1[['CHARGE_COUNT', 'AGE_AT_INCIDENT','is_changed_offense','is_black_derived','is_hisp_derived',\\\n",
    "              'is_other_derived','is_white_derived','is_defendant_male','is_judge_male',\\\n",
    "            'is_covid','Livability','his_prop','Incar','DISPOSITION_CHARGED_CLASS','is_nar_derived',\\\n",
    "             'is_sex_derived','is_wea_derived','is_vehi_derived','is_theft_derived','is_homi_derived',\\\n",
    "              'is_bur_derived','is_bat_derived','is_rob_derived','is_DUI_derived','is_district1_derived',\\\n",
    "              'is_district2_derived','is_district3_derived','is_district4_derived','is_district5_derived',\\\n",
    "              'is_district6_derived','senlength_derived']]\n",
    "new_df = new_df[(~new_df.CHARGE_COUNT.isna()) &\n",
    "               (new_df.DISPOSITION_CHARGED_CLASS.isin(['1','2','3','4','X','M']))&\n",
    "               (~new_df.AGE_AT_INCIDENT.isna())]\n",
    "new_df = new_df[new_df.AGE_AT_INCIDENT <=80]\n",
    "new_df.head()"
   ]
  },
  {
   "cell_type": "code",
   "execution_count": 51,
   "id": "7e1d27b7",
   "metadata": {},
   "outputs": [],
   "source": [
    "## Write a function to tranfer bool type to binary variables\n",
    "def tran(a):\n",
    "    new_df[a] = (new_df[a]==True).astype(int)\n",
    "    return new_df"
   ]
  },
  {
   "cell_type": "code",
   "execution_count": 52,
   "id": "f30df89a",
   "metadata": {},
   "outputs": [
    {
     "data": {
      "text/html": [
       "<div>\n",
       "<style scoped>\n",
       "    .dataframe tbody tr th:only-of-type {\n",
       "        vertical-align: middle;\n",
       "    }\n",
       "\n",
       "    .dataframe tbody tr th {\n",
       "        vertical-align: top;\n",
       "    }\n",
       "\n",
       "    .dataframe thead th {\n",
       "        text-align: right;\n",
       "    }\n",
       "</style>\n",
       "<table border=\"1\" class=\"dataframe\">\n",
       "  <thead>\n",
       "    <tr style=\"text-align: right;\">\n",
       "      <th></th>\n",
       "      <th>CHARGE_COUNT</th>\n",
       "      <th>AGE_AT_INCIDENT</th>\n",
       "      <th>is_changed_offense</th>\n",
       "      <th>is_black_derived</th>\n",
       "      <th>is_hisp_derived</th>\n",
       "      <th>is_other_derived</th>\n",
       "      <th>is_white_derived</th>\n",
       "      <th>is_defendant_male</th>\n",
       "      <th>is_judge_male</th>\n",
       "      <th>is_covid</th>\n",
       "      <th>...</th>\n",
       "      <th>is_bat_derived</th>\n",
       "      <th>is_rob_derived</th>\n",
       "      <th>is_DUI_derived</th>\n",
       "      <th>is_district1_derived</th>\n",
       "      <th>is_district2_derived</th>\n",
       "      <th>is_district3_derived</th>\n",
       "      <th>is_district4_derived</th>\n",
       "      <th>is_district5_derived</th>\n",
       "      <th>is_district6_derived</th>\n",
       "      <th>senlength_derived</th>\n",
       "    </tr>\n",
       "  </thead>\n",
       "  <tbody>\n",
       "    <tr>\n",
       "      <th>0</th>\n",
       "      <td>1</td>\n",
       "      <td>26.0</td>\n",
       "      <td>0</td>\n",
       "      <td>0</td>\n",
       "      <td>1</td>\n",
       "      <td>0</td>\n",
       "      <td>0</td>\n",
       "      <td>0</td>\n",
       "      <td>0</td>\n",
       "      <td>0</td>\n",
       "      <td>...</td>\n",
       "      <td>0</td>\n",
       "      <td>0</td>\n",
       "      <td>0</td>\n",
       "      <td>1</td>\n",
       "      <td>0</td>\n",
       "      <td>0</td>\n",
       "      <td>0</td>\n",
       "      <td>0</td>\n",
       "      <td>0</td>\n",
       "      <td>2.0</td>\n",
       "    </tr>\n",
       "    <tr>\n",
       "      <th>1</th>\n",
       "      <td>1</td>\n",
       "      <td>55.0</td>\n",
       "      <td>0</td>\n",
       "      <td>1</td>\n",
       "      <td>0</td>\n",
       "      <td>0</td>\n",
       "      <td>0</td>\n",
       "      <td>1</td>\n",
       "      <td>1</td>\n",
       "      <td>0</td>\n",
       "      <td>...</td>\n",
       "      <td>0</td>\n",
       "      <td>0</td>\n",
       "      <td>0</td>\n",
       "      <td>1</td>\n",
       "      <td>0</td>\n",
       "      <td>0</td>\n",
       "      <td>0</td>\n",
       "      <td>0</td>\n",
       "      <td>0</td>\n",
       "      <td>2.0</td>\n",
       "    </tr>\n",
       "    <tr>\n",
       "      <th>2</th>\n",
       "      <td>1</td>\n",
       "      <td>27.0</td>\n",
       "      <td>1</td>\n",
       "      <td>1</td>\n",
       "      <td>0</td>\n",
       "      <td>0</td>\n",
       "      <td>0</td>\n",
       "      <td>1</td>\n",
       "      <td>0</td>\n",
       "      <td>0</td>\n",
       "      <td>...</td>\n",
       "      <td>0</td>\n",
       "      <td>0</td>\n",
       "      <td>0</td>\n",
       "      <td>0</td>\n",
       "      <td>1</td>\n",
       "      <td>0</td>\n",
       "      <td>0</td>\n",
       "      <td>0</td>\n",
       "      <td>0</td>\n",
       "      <td>2.0</td>\n",
       "    </tr>\n",
       "    <tr>\n",
       "      <th>3</th>\n",
       "      <td>1</td>\n",
       "      <td>52.0</td>\n",
       "      <td>1</td>\n",
       "      <td>1</td>\n",
       "      <td>0</td>\n",
       "      <td>0</td>\n",
       "      <td>0</td>\n",
       "      <td>0</td>\n",
       "      <td>0</td>\n",
       "      <td>0</td>\n",
       "      <td>...</td>\n",
       "      <td>0</td>\n",
       "      <td>0</td>\n",
       "      <td>0</td>\n",
       "      <td>1</td>\n",
       "      <td>0</td>\n",
       "      <td>0</td>\n",
       "      <td>0</td>\n",
       "      <td>0</td>\n",
       "      <td>0</td>\n",
       "      <td>3.0</td>\n",
       "    </tr>\n",
       "    <tr>\n",
       "      <th>4</th>\n",
       "      <td>1</td>\n",
       "      <td>55.0</td>\n",
       "      <td>0</td>\n",
       "      <td>1</td>\n",
       "      <td>0</td>\n",
       "      <td>0</td>\n",
       "      <td>0</td>\n",
       "      <td>1</td>\n",
       "      <td>1</td>\n",
       "      <td>0</td>\n",
       "      <td>...</td>\n",
       "      <td>0</td>\n",
       "      <td>0</td>\n",
       "      <td>0</td>\n",
       "      <td>1</td>\n",
       "      <td>0</td>\n",
       "      <td>0</td>\n",
       "      <td>0</td>\n",
       "      <td>0</td>\n",
       "      <td>0</td>\n",
       "      <td>15.0</td>\n",
       "    </tr>\n",
       "  </tbody>\n",
       "</table>\n",
       "<p>5 rows × 31 columns</p>\n",
       "</div>"
      ],
      "text/plain": [
       "   CHARGE_COUNT  AGE_AT_INCIDENT  is_changed_offense  is_black_derived  \\\n",
       "0             1             26.0                   0                 0   \n",
       "1             1             55.0                   0                 1   \n",
       "2             1             27.0                   1                 1   \n",
       "3             1             52.0                   1                 1   \n",
       "4             1             55.0                   0                 1   \n",
       "\n",
       "   is_hisp_derived  is_other_derived  is_white_derived  is_defendant_male  \\\n",
       "0                1                 0                 0                  0   \n",
       "1                0                 0                 0                  1   \n",
       "2                0                 0                 0                  1   \n",
       "3                0                 0                 0                  0   \n",
       "4                0                 0                 0                  1   \n",
       "\n",
       "   is_judge_male  is_covid  ...  is_bat_derived  is_rob_derived  \\\n",
       "0              0         0  ...               0               0   \n",
       "1              1         0  ...               0               0   \n",
       "2              0         0  ...               0               0   \n",
       "3              0         0  ...               0               0   \n",
       "4              1         0  ...               0               0   \n",
       "\n",
       "   is_DUI_derived is_district1_derived  is_district2_derived  \\\n",
       "0               0                    1                     0   \n",
       "1               0                    1                     0   \n",
       "2               0                    0                     1   \n",
       "3               0                    1                     0   \n",
       "4               0                    1                     0   \n",
       "\n",
       "   is_district3_derived  is_district4_derived  is_district5_derived  \\\n",
       "0                     0                     0                     0   \n",
       "1                     0                     0                     0   \n",
       "2                     0                     0                     0   \n",
       "3                     0                     0                     0   \n",
       "4                     0                     0                     0   \n",
       "\n",
       "   is_district6_derived  senlength_derived  \n",
       "0                     0                2.0  \n",
       "1                     0                2.0  \n",
       "2                     0                2.0  \n",
       "3                     0                3.0  \n",
       "4                     0               15.0  \n",
       "\n",
       "[5 rows x 31 columns]"
      ]
     },
     "execution_count": 52,
     "metadata": {},
     "output_type": "execute_result"
    }
   ],
   "source": [
    "### Excuate the function\n",
    "for i in ['is_changed_offense','is_black_derived','is_hisp_derived', 'is_other_derived',\\\n",
    "         'is_white_derived','is_defendant_male','is_judge_male', 'is_covid','Incar','is_nar_derived',\\\n",
    "             'is_sex_derived','is_wea_derived','is_vehi_derived','is_theft_derived','is_homi_derived',\\\n",
    "              'is_bur_derived','is_bat_derived','is_rob_derived','is_DUI_derived','is_district1_derived',\\\n",
    "              'is_district2_derived','is_district3_derived','is_district4_derived','is_district5_derived',\\\n",
    "              'is_district6_derived']:\n",
    "    new_df = tran(i)\n",
    "    \n",
    "new_df.head()"
   ]
  },
  {
   "cell_type": "code",
   "execution_count": 53,
   "id": "b83af7a1",
   "metadata": {},
   "outputs": [
    {
     "data": {
      "text/html": [
       "<div>\n",
       "<style scoped>\n",
       "    .dataframe tbody tr th:only-of-type {\n",
       "        vertical-align: middle;\n",
       "    }\n",
       "\n",
       "    .dataframe tbody tr th {\n",
       "        vertical-align: top;\n",
       "    }\n",
       "\n",
       "    .dataframe thead th {\n",
       "        text-align: right;\n",
       "    }\n",
       "</style>\n",
       "<table border=\"1\" class=\"dataframe\">\n",
       "  <thead>\n",
       "    <tr style=\"text-align: right;\">\n",
       "      <th></th>\n",
       "      <th>CHARGE_COUNT</th>\n",
       "      <th>AGE_AT_INCIDENT</th>\n",
       "      <th>is_changed_offense</th>\n",
       "      <th>is_black_derived</th>\n",
       "      <th>is_hisp_derived</th>\n",
       "      <th>is_other_derived</th>\n",
       "      <th>is_white_derived</th>\n",
       "      <th>is_defendant_male</th>\n",
       "      <th>is_judge_male</th>\n",
       "      <th>is_covid</th>\n",
       "      <th>...</th>\n",
       "      <th>is_bat_derived</th>\n",
       "      <th>is_rob_derived</th>\n",
       "      <th>is_DUI_derived</th>\n",
       "      <th>is_district1_derived</th>\n",
       "      <th>is_district2_derived</th>\n",
       "      <th>is_district3_derived</th>\n",
       "      <th>is_district4_derived</th>\n",
       "      <th>is_district5_derived</th>\n",
       "      <th>is_district6_derived</th>\n",
       "      <th>senlength_derived</th>\n",
       "    </tr>\n",
       "  </thead>\n",
       "  <tbody>\n",
       "    <tr>\n",
       "      <th>0</th>\n",
       "      <td>1</td>\n",
       "      <td>26.0</td>\n",
       "      <td>0</td>\n",
       "      <td>0</td>\n",
       "      <td>1</td>\n",
       "      <td>0</td>\n",
       "      <td>0</td>\n",
       "      <td>0</td>\n",
       "      <td>0</td>\n",
       "      <td>0</td>\n",
       "      <td>...</td>\n",
       "      <td>0</td>\n",
       "      <td>0</td>\n",
       "      <td>0</td>\n",
       "      <td>1</td>\n",
       "      <td>0</td>\n",
       "      <td>0</td>\n",
       "      <td>0</td>\n",
       "      <td>0</td>\n",
       "      <td>0</td>\n",
       "      <td>2.0</td>\n",
       "    </tr>\n",
       "    <tr>\n",
       "      <th>1</th>\n",
       "      <td>1</td>\n",
       "      <td>55.0</td>\n",
       "      <td>0</td>\n",
       "      <td>1</td>\n",
       "      <td>0</td>\n",
       "      <td>0</td>\n",
       "      <td>0</td>\n",
       "      <td>1</td>\n",
       "      <td>1</td>\n",
       "      <td>0</td>\n",
       "      <td>...</td>\n",
       "      <td>0</td>\n",
       "      <td>0</td>\n",
       "      <td>0</td>\n",
       "      <td>1</td>\n",
       "      <td>0</td>\n",
       "      <td>0</td>\n",
       "      <td>0</td>\n",
       "      <td>0</td>\n",
       "      <td>0</td>\n",
       "      <td>2.0</td>\n",
       "    </tr>\n",
       "    <tr>\n",
       "      <th>2</th>\n",
       "      <td>1</td>\n",
       "      <td>27.0</td>\n",
       "      <td>1</td>\n",
       "      <td>1</td>\n",
       "      <td>0</td>\n",
       "      <td>0</td>\n",
       "      <td>0</td>\n",
       "      <td>1</td>\n",
       "      <td>0</td>\n",
       "      <td>0</td>\n",
       "      <td>...</td>\n",
       "      <td>0</td>\n",
       "      <td>0</td>\n",
       "      <td>0</td>\n",
       "      <td>0</td>\n",
       "      <td>1</td>\n",
       "      <td>0</td>\n",
       "      <td>0</td>\n",
       "      <td>0</td>\n",
       "      <td>0</td>\n",
       "      <td>2.0</td>\n",
       "    </tr>\n",
       "    <tr>\n",
       "      <th>3</th>\n",
       "      <td>1</td>\n",
       "      <td>52.0</td>\n",
       "      <td>1</td>\n",
       "      <td>1</td>\n",
       "      <td>0</td>\n",
       "      <td>0</td>\n",
       "      <td>0</td>\n",
       "      <td>0</td>\n",
       "      <td>0</td>\n",
       "      <td>0</td>\n",
       "      <td>...</td>\n",
       "      <td>0</td>\n",
       "      <td>0</td>\n",
       "      <td>0</td>\n",
       "      <td>1</td>\n",
       "      <td>0</td>\n",
       "      <td>0</td>\n",
       "      <td>0</td>\n",
       "      <td>0</td>\n",
       "      <td>0</td>\n",
       "      <td>3.0</td>\n",
       "    </tr>\n",
       "    <tr>\n",
       "      <th>4</th>\n",
       "      <td>1</td>\n",
       "      <td>55.0</td>\n",
       "      <td>0</td>\n",
       "      <td>1</td>\n",
       "      <td>0</td>\n",
       "      <td>0</td>\n",
       "      <td>0</td>\n",
       "      <td>1</td>\n",
       "      <td>1</td>\n",
       "      <td>0</td>\n",
       "      <td>...</td>\n",
       "      <td>0</td>\n",
       "      <td>0</td>\n",
       "      <td>0</td>\n",
       "      <td>1</td>\n",
       "      <td>0</td>\n",
       "      <td>0</td>\n",
       "      <td>0</td>\n",
       "      <td>0</td>\n",
       "      <td>0</td>\n",
       "      <td>15.0</td>\n",
       "    </tr>\n",
       "  </tbody>\n",
       "</table>\n",
       "<p>5 rows × 31 columns</p>\n",
       "</div>"
      ],
      "text/plain": [
       "   CHARGE_COUNT  AGE_AT_INCIDENT  is_changed_offense  is_black_derived  \\\n",
       "0             1             26.0                   0                 0   \n",
       "1             1             55.0                   0                 1   \n",
       "2             1             27.0                   1                 1   \n",
       "3             1             52.0                   1                 1   \n",
       "4             1             55.0                   0                 1   \n",
       "\n",
       "   is_hisp_derived  is_other_derived  is_white_derived  is_defendant_male  \\\n",
       "0                1                 0                 0                  0   \n",
       "1                0                 0                 0                  1   \n",
       "2                0                 0                 0                  1   \n",
       "3                0                 0                 0                  0   \n",
       "4                0                 0                 0                  1   \n",
       "\n",
       "   is_judge_male  is_covid  ...  is_bat_derived  is_rob_derived  \\\n",
       "0              0         0  ...               0               0   \n",
       "1              1         0  ...               0               0   \n",
       "2              0         0  ...               0               0   \n",
       "3              0         0  ...               0               0   \n",
       "4              1         0  ...               0               0   \n",
       "\n",
       "   is_DUI_derived  is_district1_derived  is_district2_derived  \\\n",
       "0               0                     1                     0   \n",
       "1               0                     1                     0   \n",
       "2               0                     0                     1   \n",
       "3               0                     1                     0   \n",
       "4               0                     1                     0   \n",
       "\n",
       "   is_district3_derived  is_district4_derived  is_district5_derived  \\\n",
       "0                     0                     0                     0   \n",
       "1                     0                     0                     0   \n",
       "2                     0                     0                     0   \n",
       "3                     0                     0                     0   \n",
       "4                     0                     0                     0   \n",
       "\n",
       "   is_district6_derived  senlength_derived  \n",
       "0                     0                2.0  \n",
       "1                     0                2.0  \n",
       "2                     0                2.0  \n",
       "3                     0                3.0  \n",
       "4                     0               15.0  \n",
       "\n",
       "[5 rows x 31 columns]"
      ]
     },
     "execution_count": 53,
     "metadata": {},
     "output_type": "execute_result"
    }
   ],
   "source": [
    "### Transfer the DISPOSITION_CHARGED_CLASS according to their order of severity from 1-6\n",
    "species_dict={\n",
    "    '4': 1,\n",
    "    '3': 2,\n",
    "    '2': 3,\n",
    "    '1': 4,\n",
    "    'X' : 5,\n",
    "    'M' :6\n",
    "}\n",
    "new_df['DISPOSITION_CHARGED_CLASS'] = new_df.DISPOSITION_CHARGED_CLASS.map(species_dict)\n",
    "new_df.head()"
   ]
  },
  {
   "cell_type": "code",
   "execution_count": 54,
   "id": "56b3e2e1",
   "metadata": {},
   "outputs": [
    {
     "data": {
      "text/html": [
       "<div>\n",
       "<style scoped>\n",
       "    .dataframe tbody tr th:only-of-type {\n",
       "        vertical-align: middle;\n",
       "    }\n",
       "\n",
       "    .dataframe tbody tr th {\n",
       "        vertical-align: top;\n",
       "    }\n",
       "\n",
       "    .dataframe thead th {\n",
       "        text-align: right;\n",
       "    }\n",
       "</style>\n",
       "<table border=\"1\" class=\"dataframe\">\n",
       "  <thead>\n",
       "    <tr style=\"text-align: right;\">\n",
       "      <th></th>\n",
       "      <th>CHARGE_COUNT</th>\n",
       "      <th>AGE_AT_INCIDENT</th>\n",
       "      <th>is_changed_offense</th>\n",
       "      <th>is_black_derived</th>\n",
       "      <th>is_hisp_derived</th>\n",
       "      <th>is_other_derived</th>\n",
       "      <th>is_white_derived</th>\n",
       "      <th>is_defendant_male</th>\n",
       "      <th>is_judge_male</th>\n",
       "      <th>is_covid</th>\n",
       "      <th>...</th>\n",
       "      <th>is_bat_derived</th>\n",
       "      <th>is_rob_derived</th>\n",
       "      <th>is_DUI_derived</th>\n",
       "      <th>is_district1_derived</th>\n",
       "      <th>is_district2_derived</th>\n",
       "      <th>is_district3_derived</th>\n",
       "      <th>is_district4_derived</th>\n",
       "      <th>is_district5_derived</th>\n",
       "      <th>is_district6_derived</th>\n",
       "      <th>senlength_derived</th>\n",
       "    </tr>\n",
       "  </thead>\n",
       "  <tbody>\n",
       "    <tr>\n",
       "      <th>count</th>\n",
       "      <td>47718.000000</td>\n",
       "      <td>47718.000000</td>\n",
       "      <td>47718.000000</td>\n",
       "      <td>47718.000000</td>\n",
       "      <td>47718.000000</td>\n",
       "      <td>47718.000000</td>\n",
       "      <td>47718.000000</td>\n",
       "      <td>47718.000000</td>\n",
       "      <td>47718.000000</td>\n",
       "      <td>47718.000000</td>\n",
       "      <td>...</td>\n",
       "      <td>47718.000000</td>\n",
       "      <td>47718.000000</td>\n",
       "      <td>47718.000000</td>\n",
       "      <td>47718.000000</td>\n",
       "      <td>47718.000000</td>\n",
       "      <td>47718.0</td>\n",
       "      <td>47718.000000</td>\n",
       "      <td>47718.000000</td>\n",
       "      <td>47718.000000</td>\n",
       "      <td>47718.000000</td>\n",
       "    </tr>\n",
       "    <tr>\n",
       "      <th>mean</th>\n",
       "      <td>1.073536</td>\n",
       "      <td>33.350664</td>\n",
       "      <td>0.956683</td>\n",
       "      <td>0.793307</td>\n",
       "      <td>0.002452</td>\n",
       "      <td>0.136678</td>\n",
       "      <td>0.067564</td>\n",
       "      <td>0.889979</td>\n",
       "      <td>0.725219</td>\n",
       "      <td>0.015277</td>\n",
       "      <td>...</td>\n",
       "      <td>0.017603</td>\n",
       "      <td>0.033132</td>\n",
       "      <td>0.038329</td>\n",
       "      <td>0.827256</td>\n",
       "      <td>0.108492</td>\n",
       "      <td>0.0</td>\n",
       "      <td>0.000042</td>\n",
       "      <td>0.064148</td>\n",
       "      <td>0.000063</td>\n",
       "      <td>2.639544</td>\n",
       "    </tr>\n",
       "    <tr>\n",
       "      <th>std</th>\n",
       "      <td>0.600643</td>\n",
       "      <td>12.196065</td>\n",
       "      <td>0.203572</td>\n",
       "      <td>0.404938</td>\n",
       "      <td>0.049456</td>\n",
       "      <td>0.343511</td>\n",
       "      <td>0.250998</td>\n",
       "      <td>0.312920</td>\n",
       "      <td>0.446409</td>\n",
       "      <td>0.122655</td>\n",
       "      <td>...</td>\n",
       "      <td>0.131506</td>\n",
       "      <td>0.178983</td>\n",
       "      <td>0.191992</td>\n",
       "      <td>0.378030</td>\n",
       "      <td>0.311003</td>\n",
       "      <td>0.0</td>\n",
       "      <td>0.006474</td>\n",
       "      <td>0.245018</td>\n",
       "      <td>0.007929</td>\n",
       "      <td>3.018905</td>\n",
       "    </tr>\n",
       "    <tr>\n",
       "      <th>min</th>\n",
       "      <td>1.000000</td>\n",
       "      <td>17.000000</td>\n",
       "      <td>0.000000</td>\n",
       "      <td>0.000000</td>\n",
       "      <td>0.000000</td>\n",
       "      <td>0.000000</td>\n",
       "      <td>0.000000</td>\n",
       "      <td>0.000000</td>\n",
       "      <td>0.000000</td>\n",
       "      <td>0.000000</td>\n",
       "      <td>...</td>\n",
       "      <td>0.000000</td>\n",
       "      <td>0.000000</td>\n",
       "      <td>0.000000</td>\n",
       "      <td>0.000000</td>\n",
       "      <td>0.000000</td>\n",
       "      <td>0.0</td>\n",
       "      <td>0.000000</td>\n",
       "      <td>0.000000</td>\n",
       "      <td>0.000000</td>\n",
       "      <td>0.000000</td>\n",
       "    </tr>\n",
       "    <tr>\n",
       "      <th>25%</th>\n",
       "      <td>1.000000</td>\n",
       "      <td>23.000000</td>\n",
       "      <td>1.000000</td>\n",
       "      <td>1.000000</td>\n",
       "      <td>0.000000</td>\n",
       "      <td>0.000000</td>\n",
       "      <td>0.000000</td>\n",
       "      <td>1.000000</td>\n",
       "      <td>0.000000</td>\n",
       "      <td>0.000000</td>\n",
       "      <td>...</td>\n",
       "      <td>0.000000</td>\n",
       "      <td>0.000000</td>\n",
       "      <td>0.000000</td>\n",
       "      <td>1.000000</td>\n",
       "      <td>0.000000</td>\n",
       "      <td>0.0</td>\n",
       "      <td>0.000000</td>\n",
       "      <td>0.000000</td>\n",
       "      <td>0.000000</td>\n",
       "      <td>1.500000</td>\n",
       "    </tr>\n",
       "    <tr>\n",
       "      <th>50%</th>\n",
       "      <td>1.000000</td>\n",
       "      <td>30.000000</td>\n",
       "      <td>1.000000</td>\n",
       "      <td>1.000000</td>\n",
       "      <td>0.000000</td>\n",
       "      <td>0.000000</td>\n",
       "      <td>0.000000</td>\n",
       "      <td>1.000000</td>\n",
       "      <td>1.000000</td>\n",
       "      <td>0.000000</td>\n",
       "      <td>...</td>\n",
       "      <td>0.000000</td>\n",
       "      <td>0.000000</td>\n",
       "      <td>0.000000</td>\n",
       "      <td>1.000000</td>\n",
       "      <td>0.000000</td>\n",
       "      <td>0.0</td>\n",
       "      <td>0.000000</td>\n",
       "      <td>0.000000</td>\n",
       "      <td>0.000000</td>\n",
       "      <td>2.000000</td>\n",
       "    </tr>\n",
       "    <tr>\n",
       "      <th>75%</th>\n",
       "      <td>1.000000</td>\n",
       "      <td>43.000000</td>\n",
       "      <td>1.000000</td>\n",
       "      <td>1.000000</td>\n",
       "      <td>0.000000</td>\n",
       "      <td>0.000000</td>\n",
       "      <td>0.000000</td>\n",
       "      <td>1.000000</td>\n",
       "      <td>1.000000</td>\n",
       "      <td>0.000000</td>\n",
       "      <td>...</td>\n",
       "      <td>0.000000</td>\n",
       "      <td>0.000000</td>\n",
       "      <td>0.000000</td>\n",
       "      <td>1.000000</td>\n",
       "      <td>0.000000</td>\n",
       "      <td>0.0</td>\n",
       "      <td>0.000000</td>\n",
       "      <td>0.000000</td>\n",
       "      <td>0.000000</td>\n",
       "      <td>3.000000</td>\n",
       "    </tr>\n",
       "    <tr>\n",
       "      <th>max</th>\n",
       "      <td>36.000000</td>\n",
       "      <td>76.000000</td>\n",
       "      <td>1.000000</td>\n",
       "      <td>1.000000</td>\n",
       "      <td>1.000000</td>\n",
       "      <td>1.000000</td>\n",
       "      <td>1.000000</td>\n",
       "      <td>1.000000</td>\n",
       "      <td>1.000000</td>\n",
       "      <td>1.000000</td>\n",
       "      <td>...</td>\n",
       "      <td>1.000000</td>\n",
       "      <td>1.000000</td>\n",
       "      <td>1.000000</td>\n",
       "      <td>1.000000</td>\n",
       "      <td>1.000000</td>\n",
       "      <td>0.0</td>\n",
       "      <td>1.000000</td>\n",
       "      <td>1.000000</td>\n",
       "      <td>1.000000</td>\n",
       "      <td>82.000000</td>\n",
       "    </tr>\n",
       "  </tbody>\n",
       "</table>\n",
       "<p>8 rows × 31 columns</p>\n",
       "</div>"
      ],
      "text/plain": [
       "       CHARGE_COUNT  AGE_AT_INCIDENT  is_changed_offense  is_black_derived  \\\n",
       "count  47718.000000     47718.000000        47718.000000      47718.000000   \n",
       "mean       1.073536        33.350664            0.956683          0.793307   \n",
       "std        0.600643        12.196065            0.203572          0.404938   \n",
       "min        1.000000        17.000000            0.000000          0.000000   \n",
       "25%        1.000000        23.000000            1.000000          1.000000   \n",
       "50%        1.000000        30.000000            1.000000          1.000000   \n",
       "75%        1.000000        43.000000            1.000000          1.000000   \n",
       "max       36.000000        76.000000            1.000000          1.000000   \n",
       "\n",
       "       is_hisp_derived  is_other_derived  is_white_derived  is_defendant_male  \\\n",
       "count     47718.000000      47718.000000      47718.000000       47718.000000   \n",
       "mean          0.002452          0.136678          0.067564           0.889979   \n",
       "std           0.049456          0.343511          0.250998           0.312920   \n",
       "min           0.000000          0.000000          0.000000           0.000000   \n",
       "25%           0.000000          0.000000          0.000000           1.000000   \n",
       "50%           0.000000          0.000000          0.000000           1.000000   \n",
       "75%           0.000000          0.000000          0.000000           1.000000   \n",
       "max           1.000000          1.000000          1.000000           1.000000   \n",
       "\n",
       "       is_judge_male      is_covid  ...  is_bat_derived  is_rob_derived  \\\n",
       "count   47718.000000  47718.000000  ...    47718.000000    47718.000000   \n",
       "mean        0.725219      0.015277  ...        0.017603        0.033132   \n",
       "std         0.446409      0.122655  ...        0.131506        0.178983   \n",
       "min         0.000000      0.000000  ...        0.000000        0.000000   \n",
       "25%         0.000000      0.000000  ...        0.000000        0.000000   \n",
       "50%         1.000000      0.000000  ...        0.000000        0.000000   \n",
       "75%         1.000000      0.000000  ...        0.000000        0.000000   \n",
       "max         1.000000      1.000000  ...        1.000000        1.000000   \n",
       "\n",
       "       is_DUI_derived  is_district1_derived  is_district2_derived  \\\n",
       "count    47718.000000          47718.000000          47718.000000   \n",
       "mean         0.038329              0.827256              0.108492   \n",
       "std          0.191992              0.378030              0.311003   \n",
       "min          0.000000              0.000000              0.000000   \n",
       "25%          0.000000              1.000000              0.000000   \n",
       "50%          0.000000              1.000000              0.000000   \n",
       "75%          0.000000              1.000000              0.000000   \n",
       "max          1.000000              1.000000              1.000000   \n",
       "\n",
       "       is_district3_derived  is_district4_derived  is_district5_derived  \\\n",
       "count               47718.0          47718.000000          47718.000000   \n",
       "mean                    0.0              0.000042              0.064148   \n",
       "std                     0.0              0.006474              0.245018   \n",
       "min                     0.0              0.000000              0.000000   \n",
       "25%                     0.0              0.000000              0.000000   \n",
       "50%                     0.0              0.000000              0.000000   \n",
       "75%                     0.0              0.000000              0.000000   \n",
       "max                     0.0              1.000000              1.000000   \n",
       "\n",
       "       is_district6_derived  senlength_derived  \n",
       "count          47718.000000       47718.000000  \n",
       "mean               0.000063           2.639544  \n",
       "std                0.007929           3.018905  \n",
       "min                0.000000           0.000000  \n",
       "25%                0.000000           1.500000  \n",
       "50%                0.000000           2.000000  \n",
       "75%                0.000000           3.000000  \n",
       "max                1.000000          82.000000  \n",
       "\n",
       "[8 rows x 31 columns]"
      ]
     },
     "execution_count": 54,
     "metadata": {},
     "output_type": "execute_result"
    }
   ],
   "source": [
    "new_df.describe()"
   ]
  },
  {
   "cell_type": "markdown",
   "id": "928b686d",
   "metadata": {},
   "source": [
    "# Descriptive Analysis\n",
    "## Binary variables"
   ]
  },
  {
   "cell_type": "code",
   "execution_count": 55,
   "id": "ee8e3f95",
   "metadata": {},
   "outputs": [],
   "source": [
    "import plotnine\n",
    "from plotnine import *"
   ]
  },
  {
   "cell_type": "code",
   "execution_count": 56,
   "id": "6c89efa6",
   "metadata": {},
   "outputs": [],
   "source": [
    "def conc(a):\n",
    "    df = new_df.groupby(a).agg(mean=('senlength_derived','mean')).reset_index()\n",
    "    df['type'] = a\n",
    "    df.columns = ['value','mean','type']\n",
    "    return df"
   ]
  },
  {
   "cell_type": "code",
   "execution_count": 57,
   "id": "5dc8b918",
   "metadata": {},
   "outputs": [],
   "source": [
    "list1 = ['is_changed_offense','is_black_derived','is_hisp_derived', 'is_other_derived',\\\n",
    "         'is_white_derived','is_defendant_male','is_judge_male', 'is_covid','is_nar_derived',\\\n",
    "         'is_sex_derived','is_wea_derived','is_vehi_derived','is_theft_derived','is_homi_derived',\\\n",
    "         'is_bur_derived','is_bat_derived','is_rob_derived','is_DUI_derived','is_district1_derived',\\\n",
    "         'is_district2_derived','is_district3_derived','is_district4_derived','is_district5_derived',\\\n",
    "         'is_district6_derived','Incar']\n",
    "new_concat = pd.concat([conc(a) for a in list1]).reset_index().drop(columns=['index'])"
   ]
  },
  {
   "cell_type": "code",
   "execution_count": 58,
   "id": "c66f21a7",
   "metadata": {},
   "outputs": [
    {
     "data": {
      "image/png": "[encoded data removed]",
      "text/plain": [
       "<Figure size 640x480 with 25 Axes>"
      ]
     },
     "metadata": {},
     "output_type": "display_data"
    },
    {
     "data": {
      "text/plain": [
       "<ggplot: (8785915199211)>"
      ]
     },
     "execution_count": 58,
     "metadata": {},
     "output_type": "execute_result"
    }
   ],
   "source": [
    "ggplot(new_concat, aes(x='value',y='mean')) +\\\n",
    "geom_col(position='dodge',fill='darkturquoise') +\\\n",
    "facet_wrap('type')+\\\n",
    "labs(title = 'Relationship between independant variables and mean sentence length',\\\n",
    "     x = 'Independant variables', y = 'Mean sentence length(Year)')+\\\n",
    "scale_x_continuous(breaks=(0,1),labels=('False','True'))+\\\n",
    "theme_bw()+\\\n",
    "theme(text = element_text(size=6))"
   ]
  },
  {
   "cell_type": "markdown",
   "id": "7e5e1ad7",
   "metadata": {},
   "source": [
    "### CHARGE_COUNT"
   ]
  },
  {
   "cell_type": "code",
   "execution_count": 211,
   "id": "8e36e45f",
   "metadata": {},
   "outputs": [
    {
     "data": {
      "text/html": [
       "<div>\n",
       "<style scoped>\n",
       "    .dataframe tbody tr th:only-of-type {\n",
       "        vertical-align: middle;\n",
       "    }\n",
       "\n",
       "    .dataframe tbody tr th {\n",
       "        vertical-align: top;\n",
       "    }\n",
       "\n",
       "    .dataframe thead th {\n",
       "        text-align: right;\n",
       "    }\n",
       "</style>\n",
       "<table border=\"1\" class=\"dataframe\">\n",
       "  <thead>\n",
       "    <tr style=\"text-align: right;\">\n",
       "      <th></th>\n",
       "      <th>CHARGE_COUNT</th>\n",
       "      <th>Number</th>\n",
       "    </tr>\n",
       "  </thead>\n",
       "  <tbody>\n",
       "    <tr>\n",
       "      <th>19</th>\n",
       "      <td>36</td>\n",
       "      <td>1</td>\n",
       "    </tr>\n",
       "    <tr>\n",
       "      <th>17</th>\n",
       "      <td>18</td>\n",
       "      <td>1</td>\n",
       "    </tr>\n",
       "    <tr>\n",
       "      <th>16</th>\n",
       "      <td>17</td>\n",
       "      <td>2</td>\n",
       "    </tr>\n",
       "    <tr>\n",
       "      <th>15</th>\n",
       "      <td>16</td>\n",
       "      <td>3</td>\n",
       "    </tr>\n",
       "    <tr>\n",
       "      <th>14</th>\n",
       "      <td>15</td>\n",
       "      <td>3</td>\n",
       "    </tr>\n",
       "    <tr>\n",
       "      <th>13</th>\n",
       "      <td>14</td>\n",
       "      <td>3</td>\n",
       "    </tr>\n",
       "    <tr>\n",
       "      <th>12</th>\n",
       "      <td>13</td>\n",
       "      <td>3</td>\n",
       "    </tr>\n",
       "    <tr>\n",
       "      <th>18</th>\n",
       "      <td>19</td>\n",
       "      <td>3</td>\n",
       "    </tr>\n",
       "    <tr>\n",
       "      <th>11</th>\n",
       "      <td>12</td>\n",
       "      <td>9</td>\n",
       "    </tr>\n",
       "    <tr>\n",
       "      <th>10</th>\n",
       "      <td>11</td>\n",
       "      <td>10</td>\n",
       "    </tr>\n",
       "  </tbody>\n",
       "</table>\n",
       "</div>"
      ],
      "text/plain": [
       "    CHARGE_COUNT  Number\n",
       "19            36       1\n",
       "17            18       1\n",
       "16            17       2\n",
       "15            16       3\n",
       "14            15       3\n",
       "13            14       3\n",
       "12            13       3\n",
       "18            19       3\n",
       "11            12       9\n",
       "10            11      10"
      ]
     },
     "execution_count": 211,
     "metadata": {},
     "output_type": "execute_result"
    }
   ],
   "source": [
    "new_df.groupby('CHARGE_COUNT').agg(Number = ('senlength_derived','count')).reset_index().\\\n",
    "sort_values(by='Number',ascending=True).head(10)"
   ]
  },
  {
   "cell_type": "code",
   "execution_count": 214,
   "id": "20865c80",
   "metadata": {},
   "outputs": [
    {
     "data": {
      "image/png": "[encoded data removed]",
      "text/plain": [
       "<Figure size 640x480 with 1 Axes>"
      ]
     },
     "metadata": {},
     "output_type": "display_data"
    },
    {
     "data": {
      "text/plain": [
       "<ggplot: (8767157177531)>"
      ]
     },
     "execution_count": 214,
     "metadata": {},
     "output_type": "execute_result"
    }
   ],
   "source": [
    "import plotnine\n",
    "from plotnine import *\n",
    "new_df_cc = new_df.groupby('CHARGE_COUNT').agg(Mean = ('senlength_derived','mean')).reset_index()\n",
    "ggplot(new_df_cc, aes(x='CHARGE_COUNT',y='Mean')) +\\\n",
    "geom_col(fill=\"darkturquoise\") +\\\n",
    "labs(title = 'Relationship between charge count and mean sentence length',\\\n",
    "     x = 'Charge count', y = 'Mean sentence length')+\\\n",
    "theme_bw()"
   ]
  },
  {
   "cell_type": "markdown",
   "id": "2777128b",
   "metadata": {},
   "source": [
    "### AGE_AT_INCIDENT"
   ]
  },
  {
   "cell_type": "code",
   "execution_count": 213,
   "id": "facb9568",
   "metadata": {},
   "outputs": [
    {
     "data": {
      "image/png": "[encoded data removed]",
      "text/plain": [
       "<Figure size 640x480 with 1 Axes>"
      ]
     },
     "metadata": {},
     "output_type": "display_data"
    },
    {
     "data": {
      "text/plain": [
       "<ggplot: (8767140107298)>"
      ]
     },
     "execution_count": 213,
     "metadata": {},
     "output_type": "execute_result"
    }
   ],
   "source": [
    "ggplot(new_df, aes(x='AGE_AT_INCIDENT',y='senlength_derived')) +\\\n",
    "geom_point(color='red') +\\\n",
    "labs(title = 'Relationship between age and sentence length',\\\n",
    "     x = 'Age', y = 'Sentence Length')+\\\n",
    "theme_bw()"
   ]
  },
  {
   "cell_type": "markdown",
   "id": "f80cfd01",
   "metadata": {},
   "source": [
    "### Livability"
   ]
  },
  {
   "cell_type": "code",
   "execution_count": 105,
   "id": "c5ec1578",
   "metadata": {},
   "outputs": [
    {
     "data": {
      "image/png": "[encoded data removed]",
      "text/plain": [
       "<Figure size 640x480 with 1 Axes>"
      ]
     },
     "metadata": {},
     "output_type": "display_data"
    },
    {
     "data": {
      "text/plain": [
       "<ggplot: (8767155016494)>"
      ]
     },
     "execution_count": 105,
     "metadata": {},
     "output_type": "execute_result"
    }
   ],
   "source": [
    "ggplot(new_df, aes(x='Livability',y='senlength_derived')) +\\\n",
    "geom_point(color='red') +\\\n",
    "labs(title = 'Relationship between livability of neighborhoods and sentence length',\\\n",
    "     x = 'Livability', y = 'Sentence Length')+\\\n",
    "theme_bw()"
   ]
  },
  {
   "cell_type": "markdown",
   "id": "61617c49",
   "metadata": {},
   "source": [
    "### his_prop"
   ]
  },
  {
   "cell_type": "code",
   "execution_count": 108,
   "id": "22b887a1",
   "metadata": {},
   "outputs": [
    {
     "data": {
      "image/png": "[encoded data removed]",
      "text/plain": [
       "<Figure size 640x480 with 1 Axes>"
      ]
     },
     "metadata": {},
     "output_type": "display_data"
    },
    {
     "data": {
      "text/plain": [
       "<ggplot: (8767174766469)>"
      ]
     },
     "execution_count": 108,
     "metadata": {},
     "output_type": "execute_result"
    }
   ],
   "source": [
    "ggplot(new_df, aes(x='his_prop',y='senlength_derived')) +\\\n",
    "geom_point(color='red') +\\\n",
    "labs(title = 'Relationship between history arrest proportion in different police stations and sentence length',\\\n",
    "     x = 'History Arrest Proportion', y = 'Sentence Length')+\\\n",
    "theme_bw()"
   ]
  },
  {
   "cell_type": "markdown",
   "id": "f2df8151",
   "metadata": {},
   "source": [
    "### DISPOSITION_CHARGED_CLASS"
   ]
  },
  {
   "cell_type": "code",
   "execution_count": 110,
   "id": "7c9f6750",
   "metadata": {},
   "outputs": [
    {
     "data": {
      "image/png": "[encoded data removed]",
      "text/plain": [
       "<Figure size 640x480 with 1 Axes>"
      ]
     },
     "metadata": {},
     "output_type": "display_data"
    },
    {
     "data": {
      "text/plain": [
       "<ggplot: (8767155679001)>"
      ]
     },
     "execution_count": 110,
     "metadata": {},
     "output_type": "execute_result"
    }
   ],
   "source": [
    "new_df_dcc = new_df.groupby('DISPOSITION_CHARGED_CLASS').agg(Mean = ('senlength_derived','mean')).reset_index()\n",
    "ggplot(new_df_dcc, aes(x='DISPOSITION_CHARGED_CLASS',y='Mean',fill='DISPOSITION_CHARGED_CLASS')) +\\\n",
    "geom_col() +\\\n",
    "labs(title = 'Relationship between DISPOSITION_CHARGED_CLASS and mean sentence length',\\\n",
    "     x = 'DISPOSITION_CHARGED_CLASS', y = 'Mean sentence length')+\\\n",
    "scale_x_continuous(breaks=(1,2,3,4,5,6))+\\\n",
    "theme_bw()"
   ]
  },
  {
   "cell_type": "markdown",
   "id": "9a120311",
   "metadata": {},
   "source": [
    "# Prediction models by using machine learning\n",
    "## Test and compare different models to predict the sentence length according to the different variables"
   ]
  },
  {
   "cell_type": "code",
   "execution_count": 215,
   "id": "ddb15e3f",
   "metadata": {},
   "outputs": [],
   "source": [
    "y = new_df.senlength_derived\n",
    "X = new_df.drop(['senlength_derived'], axis = 1)\n",
    "from sklearn.model_selection import train_test_split\n",
    "X_train,X_test,y_train,y_test = train_test_split(X,y,random_state=6)\n",
    "feature_list = list(X.columns)"
   ]
  },
  {
   "cell_type": "code",
   "execution_count": 216,
   "id": "6b0f1913",
   "metadata": {},
   "outputs": [
    {
     "name": "stdout",
     "output_type": "stream",
     "text": [
      "Training Features Shape: (35788, 30)\n",
      "Training Labels Shape: (35788,)\n",
      "Testing Features Shape: (11930, 30)\n",
      "Testing Labels Shape: (11930,)\n"
     ]
    }
   ],
   "source": [
    "## Describe the training and test shape\n",
    "print('Training Features Shape:', X_train.shape)\n",
    "print('Training Labels Shape:', y_train.shape)\n",
    "print('Testing Features Shape:', X_test.shape)\n",
    "print('Testing Labels Shape:', y_test.shape)"
   ]
  },
  {
   "cell_type": "markdown",
   "id": "1fc9f0a2",
   "metadata": {},
   "source": [
    "## We select four kinds of  linear regression models, including Linear Regression Model, Ridge Regression Model, Lasso Model, and ElasticNet Model.\n",
    "### Linear Regression Model"
   ]
  },
  {
   "cell_type": "code",
   "execution_count": 217,
   "id": "a57bb4c7",
   "metadata": {},
   "outputs": [
    {
     "data": {
      "text/plain": [
       "LinearRegression()"
      ]
     },
     "execution_count": 217,
     "metadata": {},
     "output_type": "execute_result"
    }
   ],
   "source": [
    "from sklearn.linear_model import LinearRegression\n",
    "lr = LinearRegression()\n",
    "lr.fit(X_train, y_train)"
   ]
  },
  {
   "cell_type": "code",
   "execution_count": 218,
   "id": "f5f3aafc",
   "metadata": {},
   "outputs": [
    {
     "data": {
      "text/html": [
       "<div>\n",
       "<style scoped>\n",
       "    .dataframe tbody tr th:only-of-type {\n",
       "        vertical-align: middle;\n",
       "    }\n",
       "\n",
       "    .dataframe tbody tr th {\n",
       "        vertical-align: top;\n",
       "    }\n",
       "\n",
       "    .dataframe thead th {\n",
       "        text-align: right;\n",
       "    }\n",
       "</style>\n",
       "<table border=\"1\" class=\"dataframe\">\n",
       "  <thead>\n",
       "    <tr style=\"text-align: right;\">\n",
       "      <th></th>\n",
       "      <th>senlength_derived</th>\n",
       "      <th>linear regression</th>\n",
       "    </tr>\n",
       "  </thead>\n",
       "  <tbody>\n",
       "    <tr>\n",
       "      <th>0</th>\n",
       "      <td>3.0</td>\n",
       "      <td>6.694594</td>\n",
       "    </tr>\n",
       "    <tr>\n",
       "      <th>1</th>\n",
       "      <td>2.0</td>\n",
       "      <td>3.613373</td>\n",
       "    </tr>\n",
       "    <tr>\n",
       "      <th>2</th>\n",
       "      <td>4.0</td>\n",
       "      <td>7.837221</td>\n",
       "    </tr>\n",
       "    <tr>\n",
       "      <th>3</th>\n",
       "      <td>3.0</td>\n",
       "      <td>3.553045</td>\n",
       "    </tr>\n",
       "    <tr>\n",
       "      <th>4</th>\n",
       "      <td>6.0</td>\n",
       "      <td>5.852120</td>\n",
       "    </tr>\n",
       "  </tbody>\n",
       "</table>\n",
       "</div>"
      ],
      "text/plain": [
       "   senlength_derived  linear regression\n",
       "0                3.0           6.694594\n",
       "1                2.0           3.613373\n",
       "2                4.0           7.837221\n",
       "3                3.0           3.553045\n",
       "4                6.0           5.852120"
      ]
     },
     "execution_count": 218,
     "metadata": {},
     "output_type": "execute_result"
    }
   ],
   "source": [
    "## The predict value of test dataset\n",
    "y_train_pred = lr.predict(X_train)\n",
    "y_test_pred = lr.predict(X_test)\n",
    "y_pre_df_lr = pd.DataFrame(y_test_pred)\n",
    "y_test_df = y_test.reset_index().drop(columns=['index'])\n",
    "y_pre_df_lr.columns = ['linear regression']\n",
    "pd.concat([y_test_df, y_pre_df_lr],axis=1).head()"
   ]
  },
  {
   "cell_type": "code",
   "execution_count": 219,
   "id": "d140cb0d",
   "metadata": {},
   "outputs": [
    {
     "name": "stdout",
     "output_type": "stream",
     "text": [
      "Train Results for Linear Regression Model:\n",
      "Root Mean Squared Error:  2.26307183255056\n",
      "R-Squared:  0.43045301858878016\n"
     ]
    }
   ],
   "source": [
    "## The result of train dataset\n",
    "from sklearn.metrics import mean_squared_error as mse\n",
    "from math import sqrt\n",
    "from sklearn.metrics import r2_score\n",
    "print(\"Train Results for Linear Regression Model:\")\n",
    "print(\"Root Mean Squared Error: \", sqrt(mse(y_train.values, y_train_pred)))\n",
    "print(\"R-Squared: \", r2_score(y_train.values, y_train_pred))"
   ]
  },
  {
   "cell_type": "code",
   "execution_count": 220,
   "id": "f9b58f62",
   "metadata": {},
   "outputs": [
    {
     "name": "stdout",
     "output_type": "stream",
     "text": [
      "Test Results for Linear Regression Model:\n",
      "Root Mean Squared Error:  2.208297960870917\n",
      "R-Squared:  0.4854518413448853\n"
     ]
    }
   ],
   "source": [
    "## The result of test dataset\n",
    "print(\"Test Results for Linear Regression Model:\")\n",
    "print(\"Root Mean Squared Error: \", sqrt(mse(y_test, y_test_pred)))\n",
    "print(\"R-Squared: \", r2_score(y_test, y_test_pred))"
   ]
  },
  {
   "cell_type": "markdown",
   "id": "d3b5f086",
   "metadata": {},
   "source": [
    "### Ridge Regression Model"
   ]
  },
  {
   "cell_type": "code",
   "execution_count": 221,
   "id": "b3c2ba89",
   "metadata": {},
   "outputs": [
    {
     "data": {
      "text/plain": [
       "GridSearchCV(cv=5, estimator=Ridge(), n_jobs=-1,\n",
       "             param_grid={'alpha': [0.0001, 0.001, 0.01, 0.1, 1, 10, 100, 1000,\n",
       "                                   10000, 100000]})"
      ]
     },
     "execution_count": 221,
     "metadata": {},
     "output_type": "execute_result"
    }
   ],
   "source": [
    "from sklearn.model_selection import GridSearchCV\n",
    "from sklearn.linear_model import Ridge\n",
    "params = {'alpha' : [0.0001, 0.001, 0.01, 0.1, 1, 10, 100, 1000, 10000, 100000]}\n",
    "ridge_regressor = GridSearchCV(Ridge(), params, cv = 5, \n",
    "                               n_jobs = -1)\n",
    "ridge_regressor.fit(X_train, y_train)"
   ]
  },
  {
   "cell_type": "code",
   "execution_count": 222,
   "id": "28ca2731",
   "metadata": {},
   "outputs": [
    {
     "data": {
      "text/html": [
       "<div>\n",
       "<style scoped>\n",
       "    .dataframe tbody tr th:only-of-type {\n",
       "        vertical-align: middle;\n",
       "    }\n",
       "\n",
       "    .dataframe tbody tr th {\n",
       "        vertical-align: top;\n",
       "    }\n",
       "\n",
       "    .dataframe thead th {\n",
       "        text-align: right;\n",
       "    }\n",
       "</style>\n",
       "<table border=\"1\" class=\"dataframe\">\n",
       "  <thead>\n",
       "    <tr style=\"text-align: right;\">\n",
       "      <th></th>\n",
       "      <th>senlength_derived</th>\n",
       "      <th>ridge</th>\n",
       "    </tr>\n",
       "  </thead>\n",
       "  <tbody>\n",
       "    <tr>\n",
       "      <th>0</th>\n",
       "      <td>3.0</td>\n",
       "      <td>6.692148</td>\n",
       "    </tr>\n",
       "    <tr>\n",
       "      <th>1</th>\n",
       "      <td>2.0</td>\n",
       "      <td>3.618246</td>\n",
       "    </tr>\n",
       "    <tr>\n",
       "      <th>2</th>\n",
       "      <td>4.0</td>\n",
       "      <td>7.835323</td>\n",
       "    </tr>\n",
       "    <tr>\n",
       "      <th>3</th>\n",
       "      <td>3.0</td>\n",
       "      <td>3.555535</td>\n",
       "    </tr>\n",
       "    <tr>\n",
       "      <th>4</th>\n",
       "      <td>6.0</td>\n",
       "      <td>5.859142</td>\n",
       "    </tr>\n",
       "  </tbody>\n",
       "</table>\n",
       "</div>"
      ],
      "text/plain": [
       "   senlength_derived     ridge\n",
       "0                3.0  6.692148\n",
       "1                2.0  3.618246\n",
       "2                4.0  7.835323\n",
       "3                3.0  3.555535\n",
       "4                6.0  5.859142"
      ]
     },
     "execution_count": 222,
     "metadata": {},
     "output_type": "execute_result"
    }
   ],
   "source": [
    "## The predict value of test dataset\n",
    "y_train_pred = ridge_regressor.predict(X_train)\n",
    "y_test_pred = ridge_regressor.predict(X_test)\n",
    "y_pre_df_ridge = pd.DataFrame(y_test_pred)\n",
    "y_test_df = y_test.reset_index().drop(columns=['index'])\n",
    "y_pre_df_ridge.columns = ['ridge']\n",
    "pd.concat([y_test_df, y_pre_df_ridge],axis=1).head()"
   ]
  },
  {
   "cell_type": "code",
   "execution_count": 223,
   "id": "56405c20",
   "metadata": {
    "scrolled": true
   },
   "outputs": [
    {
     "name": "stdout",
     "output_type": "stream",
     "text": [
      "Train Results for Ridge Regressor Model:\n",
      "Root Mean Squared Error:  2.2631063408731547\n",
      "R-Squared:  0.43043564904661014\n"
     ]
    }
   ],
   "source": [
    "## The result of train dataset\n",
    "print(\"Train Results for Ridge Regressor Model:\")\n",
    "print(\"Root Mean Squared Error: \", sqrt(mse(y_train.values, y_train_pred)))\n",
    "print(\"R-Squared: \", r2_score(y_train.values, y_train_pred))"
   ]
  },
  {
   "cell_type": "code",
   "execution_count": 224,
   "id": "73fb9fbf",
   "metadata": {},
   "outputs": [
    {
     "name": "stdout",
     "output_type": "stream",
     "text": [
      "Test Results for Ridge Regressor Model:\n",
      "Root Mean Squared Error:  2.2089852230412594\n",
      "R-Squared:  0.4851315181652528\n"
     ]
    }
   ],
   "source": [
    "## The result of test dataset\n",
    "print(\"Test Results for Ridge Regressor Model:\")\n",
    "print(\"Root Mean Squared Error: \", sqrt(mse(y_test, y_test_pred)))\n",
    "print(\"R-Squared: \", r2_score(y_test, y_test_pred))"
   ]
  },
  {
   "cell_type": "markdown",
   "id": "b74ef061",
   "metadata": {},
   "source": [
    "### Lasso Model"
   ]
  },
  {
   "cell_type": "code",
   "execution_count": 225,
   "id": "6798460f",
   "metadata": {},
   "outputs": [
    {
     "data": {
      "text/plain": [
       "GridSearchCV(cv=15, estimator=Lasso(), n_jobs=-1,\n",
       "             param_grid={'alpha': [0.0001, 0.001, 0.01, 0.1, 1, 10, 100, 1000,\n",
       "                                   10000, 100000]})"
      ]
     },
     "execution_count": 225,
     "metadata": {},
     "output_type": "execute_result"
    }
   ],
   "source": [
    "from sklearn.linear_model import Lasso\n",
    "params = {'alpha' : [0.0001, 0.001, 0.01, 0.1, 1, 10, 100, 1000, 10000, 100000]}\n",
    "lasso_regressor = GridSearchCV(Lasso(), params , cv = 15,\n",
    "                               n_jobs = -1)\n",
    "lasso_regressor.fit(X_train, y_train)"
   ]
  },
  {
   "cell_type": "code",
   "execution_count": 226,
   "id": "0aae5daf",
   "metadata": {},
   "outputs": [
    {
     "data": {
      "text/html": [
       "<div>\n",
       "<style scoped>\n",
       "    .dataframe tbody tr th:only-of-type {\n",
       "        vertical-align: middle;\n",
       "    }\n",
       "\n",
       "    .dataframe tbody tr th {\n",
       "        vertical-align: top;\n",
       "    }\n",
       "\n",
       "    .dataframe thead th {\n",
       "        text-align: right;\n",
       "    }\n",
       "</style>\n",
       "<table border=\"1\" class=\"dataframe\">\n",
       "  <thead>\n",
       "    <tr style=\"text-align: right;\">\n",
       "      <th></th>\n",
       "      <th>senlength_derived</th>\n",
       "      <th>lasso</th>\n",
       "    </tr>\n",
       "  </thead>\n",
       "  <tbody>\n",
       "    <tr>\n",
       "      <th>0</th>\n",
       "      <td>3.0</td>\n",
       "      <td>6.654204</td>\n",
       "    </tr>\n",
       "    <tr>\n",
       "      <th>1</th>\n",
       "      <td>2.0</td>\n",
       "      <td>3.688057</td>\n",
       "    </tr>\n",
       "    <tr>\n",
       "      <th>2</th>\n",
       "      <td>4.0</td>\n",
       "      <td>7.807579</td>\n",
       "    </tr>\n",
       "    <tr>\n",
       "      <th>3</th>\n",
       "      <td>3.0</td>\n",
       "      <td>3.568014</td>\n",
       "    </tr>\n",
       "    <tr>\n",
       "      <th>4</th>\n",
       "      <td>6.0</td>\n",
       "      <td>5.869148</td>\n",
       "    </tr>\n",
       "  </tbody>\n",
       "</table>\n",
       "</div>"
      ],
      "text/plain": [
       "   senlength_derived     lasso\n",
       "0                3.0  6.654204\n",
       "1                2.0  3.688057\n",
       "2                4.0  7.807579\n",
       "3                3.0  3.568014\n",
       "4                6.0  5.869148"
      ]
     },
     "execution_count": 226,
     "metadata": {},
     "output_type": "execute_result"
    }
   ],
   "source": [
    "y_train_pred = lasso_regressor.predict(X_train)\n",
    "y_test_pred = lasso_regressor.predict(X_test)\n",
    "y_pre_df_lasso = pd.DataFrame(y_test_pred)\n",
    "y_test_df = y_test.reset_index().drop(columns=['index'])\n",
    "y_pre_df_lasso.columns = ['lasso']\n",
    "pd.concat([y_test_df, y_pre_df_lasso],axis=1).head()"
   ]
  },
  {
   "cell_type": "code",
   "execution_count": 227,
   "id": "8429dfd9",
   "metadata": {},
   "outputs": [
    {
     "name": "stdout",
     "output_type": "stream",
     "text": [
      "Train Results for Lasso Regressor Model:\n",
      "Root Mean Squared Error:  2.2633683900221655\n",
      "R-Squared:  0.430303739651135\n"
     ]
    }
   ],
   "source": [
    "## The result of train dataset\n",
    "print(\"Train Results for Lasso Regressor Model:\")\n",
    "print(\"Root Mean Squared Error: \", sqrt(mse(y_train.values, y_train_pred)))\n",
    "print(\"R-Squared: \", r2_score(y_train.values, y_train_pred))"
   ]
  },
  {
   "cell_type": "code",
   "execution_count": 228,
   "id": "7176ca5f",
   "metadata": {},
   "outputs": [
    {
     "name": "stdout",
     "output_type": "stream",
     "text": [
      "Test Results for Lasso Regressor Model:\n",
      "Root Mean Squared Error:  2.209096428171525\n",
      "R-Squared:  0.48507967765750193\n"
     ]
    }
   ],
   "source": [
    "## The result of test dataset\n",
    "print(\"Test Results for Lasso Regressor Model:\")\n",
    "print(\"Root Mean Squared Error: \", sqrt(mse(y_test, y_test_pred)))\n",
    "print(\"R-Squared: \", r2_score(y_test, y_test_pred))"
   ]
  },
  {
   "cell_type": "markdown",
   "id": "594ea00a",
   "metadata": {},
   "source": [
    "### ElasticNet Model"
   ]
  },
  {
   "cell_type": "code",
   "execution_count": 229,
   "id": "c93e3aa7",
   "metadata": {},
   "outputs": [
    {
     "data": {
      "text/plain": [
       "GridSearchCV(cv=15, estimator=ElasticNet(), n_jobs=-1,\n",
       "             param_grid={'alpha': [0.0001, 0.001, 0.01, 0.1, 1, 10, 100, 1000,\n",
       "                                   10000, 100000]})"
      ]
     },
     "execution_count": 229,
     "metadata": {},
     "output_type": "execute_result"
    }
   ],
   "source": [
    "from sklearn.linear_model import ElasticNet\n",
    "params = {'alpha' : [0.0001, 0.001, 0.01, 0.1, 1, 10, 100, 1000, 10000, 100000]}\n",
    "elastic_regressor = GridSearchCV(ElasticNet(), params, cv = 15, \n",
    "                               n_jobs = -1)\n",
    "elastic_regressor.fit(X_train, y_train)"
   ]
  },
  {
   "cell_type": "code",
   "execution_count": 230,
   "id": "73ec7150",
   "metadata": {},
   "outputs": [
    {
     "data": {
      "text/html": [
       "<div>\n",
       "<style scoped>\n",
       "    .dataframe tbody tr th:only-of-type {\n",
       "        vertical-align: middle;\n",
       "    }\n",
       "\n",
       "    .dataframe tbody tr th {\n",
       "        vertical-align: top;\n",
       "    }\n",
       "\n",
       "    .dataframe thead th {\n",
       "        text-align: right;\n",
       "    }\n",
       "</style>\n",
       "<table border=\"1\" class=\"dataframe\">\n",
       "  <thead>\n",
       "    <tr style=\"text-align: right;\">\n",
       "      <th></th>\n",
       "      <th>senlength_derived</th>\n",
       "      <th>elastic</th>\n",
       "    </tr>\n",
       "  </thead>\n",
       "  <tbody>\n",
       "    <tr>\n",
       "      <th>0</th>\n",
       "      <td>3.0</td>\n",
       "      <td>6.688482</td>\n",
       "    </tr>\n",
       "    <tr>\n",
       "      <th>1</th>\n",
       "      <td>2.0</td>\n",
       "      <td>3.625609</td>\n",
       "    </tr>\n",
       "    <tr>\n",
       "      <th>2</th>\n",
       "      <td>4.0</td>\n",
       "      <td>7.832513</td>\n",
       "    </tr>\n",
       "    <tr>\n",
       "      <th>3</th>\n",
       "      <td>3.0</td>\n",
       "      <td>3.558363</td>\n",
       "    </tr>\n",
       "    <tr>\n",
       "      <th>4</th>\n",
       "      <td>6.0</td>\n",
       "      <td>5.865026</td>\n",
       "    </tr>\n",
       "  </tbody>\n",
       "</table>\n",
       "</div>"
      ],
      "text/plain": [
       "   senlength_derived   elastic\n",
       "0                3.0  6.688482\n",
       "1                2.0  3.625609\n",
       "2                4.0  7.832513\n",
       "3                3.0  3.558363\n",
       "4                6.0  5.865026"
      ]
     },
     "execution_count": 230,
     "metadata": {},
     "output_type": "execute_result"
    }
   ],
   "source": [
    "y_train_pred = elastic_regressor.predict(X_train)\n",
    "y_test_pred = elastic_regressor.predict(X_test)\n",
    "y_pre_df_elastic = pd.DataFrame(y_test_pred)\n",
    "y_test_df = y_test.reset_index().drop(columns=['index'])\n",
    "y_pre_df_elastic.columns = ['elastic']\n",
    "pd.concat([y_test_df, y_pre_df_elastic],axis=1).head()"
   ]
  },
  {
   "cell_type": "code",
   "execution_count": 231,
   "id": "6e379e4f",
   "metadata": {},
   "outputs": [
    {
     "name": "stdout",
     "output_type": "stream",
     "text": [
      "Train Results for ElasticNet Regressor Model:\n",
      "Root Mean Squared Error:  2.2631900401429172\n",
      "R-Squared:  0.4303935184573797\n"
     ]
    }
   ],
   "source": [
    "## The result of train dataset\n",
    "print(\"Train Results for ElasticNet Regressor Model:\")\n",
    "print(\"Root Mean Squared Error: \", sqrt(mse(y_train.values, y_train_pred)))\n",
    "print(\"R-Squared: \", r2_score(y_train.values, y_train_pred))"
   ]
  },
  {
   "cell_type": "code",
   "execution_count": 232,
   "id": "3c7fdd41",
   "metadata": {},
   "outputs": [
    {
     "name": "stdout",
     "output_type": "stream",
     "text": [
      "Test Results for ElasticNet Regressor Model:\n",
      "Root Mean Squared Error:  2.2095981570100736\n",
      "R-Squared:  0.4848457542214937\n"
     ]
    }
   ],
   "source": [
    "## The result of test dataset\n",
    "print(\"Test Results for ElasticNet Regressor Model:\")\n",
    "print(\"Root Mean Squared Error: \", sqrt(mse(y_test, y_test_pred)))\n",
    "print(\"R-Squared: \", r2_score(y_test, y_test_pred))"
   ]
  },
  {
   "cell_type": "markdown",
   "id": "cdced076",
   "metadata": {},
   "source": [
    "### KNN Model"
   ]
  },
  {
   "cell_type": "code",
   "execution_count": 267,
   "id": "44a9958f",
   "metadata": {},
   "outputs": [
    {
     "data": {
      "text/plain": [
       "GridSearchCV(cv=10, estimator=KNeighborsRegressor(),\n",
       "             param_grid=[{'n_neighbors': [1, 2, 3, 4, 5, 6, 7, 8, 9, 10, 11, 12,\n",
       "                                          13, 14, 15, 16, 17, 18, 19, 20, 21,\n",
       "                                          22, 23, 24, 25, 26, 27, 28, 29, 30],\n",
       "                          'weights': ['uniform']},\n",
       "                         {'n_neighbors': [1, 2, 3, 4, 5, 6, 7, 8, 9, 10, 11, 12,\n",
       "                                          13, 14, 15, 16, 17, 18, 19, 20, 21,\n",
       "                                          22, 23, 24, 25, 26, 27, 28, 29, 30],\n",
       "                          'p': [1, 2, 3], 'weights': ['distance']}])"
      ]
     },
     "execution_count": 267,
     "metadata": {},
     "output_type": "execute_result"
    }
   ],
   "source": [
    "param_grid = [\n",
    "    {\n",
    "        'weights':['uniform'],\n",
    "        'n_neighbors':[i for i in range(1,31)]\n",
    "    },\n",
    "    {\n",
    "        'weights':['distance'],\n",
    "        'n_neighbors':[i for i in range(1,31)],\n",
    "        'p':[i for i in range(1,4)]\n",
    "    }\n",
    "]\n",
    "from sklearn.neighbors import KNeighborsRegressor\n",
    "knn = GridSearchCV(KNeighborsRegressor(), param_grid, cv = 10)\n",
    "knn.fit(X_train,y_train)"
   ]
  },
  {
   "cell_type": "code",
   "execution_count": 268,
   "id": "d11c1e67",
   "metadata": {},
   "outputs": [
    {
     "data": {
      "text/plain": [
       "KNeighborsRegressor(n_neighbors=10, p=1, weights='distance')"
      ]
     },
     "execution_count": 268,
     "metadata": {},
     "output_type": "execute_result"
    }
   ],
   "source": [
    "knn.best_estimator_"
   ]
  },
  {
   "cell_type": "code",
   "execution_count": 269,
   "id": "f73554d5",
   "metadata": {},
   "outputs": [
    {
     "data": {
      "text/html": [
       "<div>\n",
       "<style scoped>\n",
       "    .dataframe tbody tr th:only-of-type {\n",
       "        vertical-align: middle;\n",
       "    }\n",
       "\n",
       "    .dataframe tbody tr th {\n",
       "        vertical-align: top;\n",
       "    }\n",
       "\n",
       "    .dataframe thead th {\n",
       "        text-align: right;\n",
       "    }\n",
       "</style>\n",
       "<table border=\"1\" class=\"dataframe\">\n",
       "  <thead>\n",
       "    <tr style=\"text-align: right;\">\n",
       "      <th></th>\n",
       "      <th>senlength_derived</th>\n",
       "      <th>knn</th>\n",
       "    </tr>\n",
       "  </thead>\n",
       "  <tbody>\n",
       "    <tr>\n",
       "      <th>0</th>\n",
       "      <td>3.0</td>\n",
       "      <td>4.538865</td>\n",
       "    </tr>\n",
       "    <tr>\n",
       "      <th>1</th>\n",
       "      <td>2.0</td>\n",
       "      <td>2.312500</td>\n",
       "    </tr>\n",
       "    <tr>\n",
       "      <th>2</th>\n",
       "      <td>4.0</td>\n",
       "      <td>5.525144</td>\n",
       "    </tr>\n",
       "    <tr>\n",
       "      <th>3</th>\n",
       "      <td>3.0</td>\n",
       "      <td>3.292032</td>\n",
       "    </tr>\n",
       "    <tr>\n",
       "      <th>4</th>\n",
       "      <td>6.0</td>\n",
       "      <td>6.000000</td>\n",
       "    </tr>\n",
       "  </tbody>\n",
       "</table>\n",
       "</div>"
      ],
      "text/plain": [
       "   senlength_derived       knn\n",
       "0                3.0  4.538865\n",
       "1                2.0  2.312500\n",
       "2                4.0  5.525144\n",
       "3                3.0  3.292032\n",
       "4                6.0  6.000000"
      ]
     },
     "execution_count": 269,
     "metadata": {},
     "output_type": "execute_result"
    }
   ],
   "source": [
    "y_train_pred = knn.predict(X_train)\n",
    "y_test_pred = knn.predict(X_test)\n",
    "y_pre_df_knn = pd.DataFrame(y_test_pred)\n",
    "y_test_df = y_test.reset_index().drop(columns=['index'])\n",
    "y_pre_df_knn.columns = ['knn']\n",
    "pd.concat([y_test_df, y_pre_df_knn],axis=1).head()"
   ]
  },
  {
   "cell_type": "code",
   "execution_count": 270,
   "id": "8b618dda",
   "metadata": {},
   "outputs": [
    {
     "name": "stdout",
     "output_type": "stream",
     "text": [
      "Train Results for KNN Regressor Model:\n",
      "Root Mean Squared Error:  0.8603789639458913\n",
      "R-Squared:  0.9176786577522573\n"
     ]
    }
   ],
   "source": [
    "## The result of train dataset\n",
    "print(\"Train Results for KNN Regressor Model:\")\n",
    "print(\"Root Mean Squared Error: \", sqrt(mse(y_train.values, y_train_pred)))\n",
    "print(\"R-Squared: \", r2_score(y_train.values, y_train_pred))"
   ]
  },
  {
   "cell_type": "code",
   "execution_count": 271,
   "id": "38e603ea",
   "metadata": {},
   "outputs": [
    {
     "name": "stdout",
     "output_type": "stream",
     "text": [
      "Test Results for KNN Regressor Model:\n",
      "Root Mean Squared Error:  2.2440522159175065\n",
      "R-Squared:  0.46865499561265345\n"
     ]
    }
   ],
   "source": [
    "## The result of test dataset\n",
    "print(\"Test Results for KNN Regressor Model:\")\n",
    "print(\"Root Mean Squared Error: \", sqrt(mse(y_test, y_test_pred)))\n",
    "print(\"R-Squared: \", r2_score(y_test, y_test_pred))"
   ]
  },
  {
   "cell_type": "markdown",
   "id": "9607b166",
   "metadata": {},
   "source": [
    "### Decision Tree Model"
   ]
  },
  {
   "cell_type": "code",
   "execution_count": 235,
   "id": "65464caa",
   "metadata": {},
   "outputs": [
    {
     "data": {
      "text/plain": [
       "GridSearchCV(estimator=DecisionTreeRegressor(),\n",
       "             param_grid=[{'max_depth': [5, 6, 7, 8],\n",
       "                          'max_features': ['auto', 'sqrt', 'log2'],\n",
       "                          'min_samples_leaf': [1, 2, 3, 4, 5],\n",
       "                          'min_samples_split': [2, 3, 4, 5, 6]}])"
      ]
     },
     "execution_count": 235,
     "metadata": {},
     "output_type": "execute_result"
    }
   ],
   "source": [
    "param_grid = [\n",
    "    {\n",
    "        'max_features':['auto','sqrt','log2'],\n",
    "        'min_samples_split':[2,3,4,5,6],\n",
    "        'min_samples_leaf':[1,2,3,4,5],\n",
    "        'max_depth':[5, 6, 7, 8]\n",
    "    }\n",
    "]\n",
    "from sklearn.tree import DecisionTreeRegressor\n",
    "tree = GridSearchCV(DecisionTreeRegressor(), param_grid)\n",
    "tree.fit(X_train,y_train)"
   ]
  },
  {
   "cell_type": "code",
   "execution_count": 236,
   "id": "3d0eb943",
   "metadata": {},
   "outputs": [
    {
     "data": {
      "text/plain": [
       "DecisionTreeRegressor(max_depth=6, max_features='auto', min_samples_leaf=5,\n",
       "                      min_samples_split=4)"
      ]
     },
     "execution_count": 236,
     "metadata": {},
     "output_type": "execute_result"
    }
   ],
   "source": [
    "tree.best_estimator_"
   ]
  },
  {
   "cell_type": "code",
   "execution_count": 237,
   "id": "7fc69692",
   "metadata": {},
   "outputs": [
    {
     "data": {
      "text/html": [
       "<div>\n",
       "<style scoped>\n",
       "    .dataframe tbody tr th:only-of-type {\n",
       "        vertical-align: middle;\n",
       "    }\n",
       "\n",
       "    .dataframe tbody tr th {\n",
       "        vertical-align: top;\n",
       "    }\n",
       "\n",
       "    .dataframe thead th {\n",
       "        text-align: right;\n",
       "    }\n",
       "</style>\n",
       "<table border=\"1\" class=\"dataframe\">\n",
       "  <thead>\n",
       "    <tr style=\"text-align: right;\">\n",
       "      <th></th>\n",
       "      <th>senlength_derived</th>\n",
       "      <th>decisiontree</th>\n",
       "    </tr>\n",
       "  </thead>\n",
       "  <tbody>\n",
       "    <tr>\n",
       "      <th>0</th>\n",
       "      <td>3.0</td>\n",
       "      <td>3.936249</td>\n",
       "    </tr>\n",
       "    <tr>\n",
       "      <th>1</th>\n",
       "      <td>2.0</td>\n",
       "      <td>2.103353</td>\n",
       "    </tr>\n",
       "    <tr>\n",
       "      <th>2</th>\n",
       "      <td>4.0</td>\n",
       "      <td>12.193548</td>\n",
       "    </tr>\n",
       "    <tr>\n",
       "      <th>3</th>\n",
       "      <td>3.0</td>\n",
       "      <td>3.936249</td>\n",
       "    </tr>\n",
       "    <tr>\n",
       "      <th>4</th>\n",
       "      <td>6.0</td>\n",
       "      <td>8.787037</td>\n",
       "    </tr>\n",
       "  </tbody>\n",
       "</table>\n",
       "</div>"
      ],
      "text/plain": [
       "   senlength_derived  decisiontree\n",
       "0                3.0      3.936249\n",
       "1                2.0      2.103353\n",
       "2                4.0     12.193548\n",
       "3                3.0      3.936249\n",
       "4                6.0      8.787037"
      ]
     },
     "execution_count": 237,
     "metadata": {},
     "output_type": "execute_result"
    }
   ],
   "source": [
    "y_train_pred = tree.predict(X_train)\n",
    "y_test_pred = tree.predict(X_test)\n",
    "y_pre_df_decisiontree = pd.DataFrame(y_test_pred)\n",
    "y_test_df = y_test.reset_index().drop(columns=['index'])\n",
    "y_pre_df_decisiontree.columns = ['decisiontree']\n",
    "pd.concat([y_test_df, y_pre_df_decisiontree],axis=1).head()"
   ]
  },
  {
   "cell_type": "code",
   "execution_count": 238,
   "id": "257e0df1",
   "metadata": {},
   "outputs": [
    {
     "name": "stdout",
     "output_type": "stream",
     "text": [
      "Train Results for Decision Tree Regressor Model:\n",
      "Root Mean Squared Error:  1.8256693609738825\n",
      "R-Squared:  0.6293387974999282\n"
     ]
    }
   ],
   "source": [
    "## The result of train dataset\n",
    "print(\"Train Results for Decision Tree Regressor Model:\")\n",
    "print(\"Root Mean Squared Error: \", sqrt(mse(y_train.values, y_train_pred)))\n",
    "print(\"R-Squared: \", r2_score(y_train.values, y_train_pred))"
   ]
  },
  {
   "cell_type": "code",
   "execution_count": 239,
   "id": "a47612e2",
   "metadata": {},
   "outputs": [
    {
     "name": "stdout",
     "output_type": "stream",
     "text": [
      "Test Results for Decision Tree Regressor Model:\n",
      "Root Mean Squared Error:  1.8632435349788756\n",
      "R-Squared:  0.6336890242933861\n"
     ]
    }
   ],
   "source": [
    "## The result of test dataset\n",
    "print(\"Test Results for Decision Tree Regressor Model:\")\n",
    "print(\"Root Mean Squared Error: \", sqrt(mse(y_test, y_test_pred)))\n",
    "print(\"R-Squared: \", r2_score(y_test, y_test_pred))"
   ]
  },
  {
   "cell_type": "markdown",
   "id": "d1f45095",
   "metadata": {},
   "source": [
    "### Random Forest"
   ]
  },
  {
   "cell_type": "code",
   "execution_count": 242,
   "id": "5270bcc6",
   "metadata": {},
   "outputs": [
    {
     "data": {
      "text/plain": [
       "GridSearchCV(estimator=RandomForestRegressor(),\n",
       "             param_grid={'max_depth': [5, 6, 7, 8],\n",
       "                         'max_features': [0.3, 0.4, 0.5],\n",
       "                         'min_samples_split': [4, 8, 12, 16],\n",
       "                         'n_estimators': [11, 13, 15]})"
      ]
     },
     "execution_count": 242,
     "metadata": {},
     "output_type": "execute_result"
    }
   ],
   "source": [
    "from sklearn.ensemble import RandomForestRegressor\n",
    "param_grid = {\n",
    "    'max_depth':[5, 6, 7, 8],    \n",
    "    'n_estimators':[11,13,15], \n",
    "    'max_features':[0.3,0.4,0.5],\n",
    "    'min_samples_split':[4,8,12,16]\n",
    "}\n",
    "forest = GridSearchCV(RandomForestRegressor(), param_grid)\n",
    "forest.fit(X_train,y_train)"
   ]
  },
  {
   "cell_type": "code",
   "execution_count": 243,
   "id": "59188ae5",
   "metadata": {},
   "outputs": [
    {
     "data": {
      "text/plain": [
       "RandomForestRegressor(max_depth=8, max_features=0.5, min_samples_split=12,\n",
       "                      n_estimators=13)"
      ]
     },
     "execution_count": 243,
     "metadata": {},
     "output_type": "execute_result"
    }
   ],
   "source": [
    "forest.best_estimator_"
   ]
  },
  {
   "cell_type": "code",
   "execution_count": 244,
   "id": "5a1b5e23",
   "metadata": {},
   "outputs": [
    {
     "data": {
      "text/html": [
       "<div>\n",
       "<style scoped>\n",
       "    .dataframe tbody tr th:only-of-type {\n",
       "        vertical-align: middle;\n",
       "    }\n",
       "\n",
       "    .dataframe tbody tr th {\n",
       "        vertical-align: top;\n",
       "    }\n",
       "\n",
       "    .dataframe thead th {\n",
       "        text-align: right;\n",
       "    }\n",
       "</style>\n",
       "<table border=\"1\" class=\"dataframe\">\n",
       "  <thead>\n",
       "    <tr style=\"text-align: right;\">\n",
       "      <th></th>\n",
       "      <th>senlength_derived</th>\n",
       "      <th>randomforest</th>\n",
       "    </tr>\n",
       "  </thead>\n",
       "  <tbody>\n",
       "    <tr>\n",
       "      <th>0</th>\n",
       "      <td>3.0</td>\n",
       "      <td>6.997542</td>\n",
       "    </tr>\n",
       "    <tr>\n",
       "      <th>1</th>\n",
       "      <td>2.0</td>\n",
       "      <td>2.040969</td>\n",
       "    </tr>\n",
       "    <tr>\n",
       "      <th>2</th>\n",
       "      <td>4.0</td>\n",
       "      <td>8.897704</td>\n",
       "    </tr>\n",
       "    <tr>\n",
       "      <th>3</th>\n",
       "      <td>3.0</td>\n",
       "      <td>4.443057</td>\n",
       "    </tr>\n",
       "    <tr>\n",
       "      <th>4</th>\n",
       "      <td>6.0</td>\n",
       "      <td>7.978600</td>\n",
       "    </tr>\n",
       "  </tbody>\n",
       "</table>\n",
       "</div>"
      ],
      "text/plain": [
       "   senlength_derived  randomforest\n",
       "0                3.0      6.997542\n",
       "1                2.0      2.040969\n",
       "2                4.0      8.897704\n",
       "3                3.0      4.443057\n",
       "4                6.0      7.978600"
      ]
     },
     "execution_count": 244,
     "metadata": {},
     "output_type": "execute_result"
    }
   ],
   "source": [
    "y_train_pred = forest.predict(X_train)\n",
    "y_test_pred = forest.predict(X_test)\n",
    "y_pre_df_randomforest = pd.DataFrame(y_test_pred)\n",
    "y_test_df = y_test.reset_index().drop(columns=['index'])\n",
    "y_pre_df_randomforest.columns = ['randomforest']\n",
    "pd.concat([y_test_df, y_pre_df_randomforest],axis=1).head()"
   ]
  },
  {
   "cell_type": "code",
   "execution_count": 245,
   "id": "e95f45a7",
   "metadata": {},
   "outputs": [
    {
     "name": "stdout",
     "output_type": "stream",
     "text": [
      "Train Results for Random Forest Regressor Model:\n",
      "Root Mean Squared Error:  1.7186972946351582\n",
      "R-Squared:  0.6715028070709346\n"
     ]
    }
   ],
   "source": [
    "## The result of train dataset\n",
    "print(\"Train Results for Random Forest Regressor Model:\")\n",
    "print(\"Root Mean Squared Error: \", sqrt(mse(y_train.values, y_train_pred)))\n",
    "print(\"R-Squared: \", r2_score(y_train.values, y_train_pred))"
   ]
  },
  {
   "cell_type": "code",
   "execution_count": 246,
   "id": "b9ec3300",
   "metadata": {},
   "outputs": [
    {
     "name": "stdout",
     "output_type": "stream",
     "text": [
      "Test Results for Random Forest Regressor Model:\n",
      "Root Mean Squared Error:  1.8376587321423916\n",
      "R-Squared:  0.6436798268550705\n"
     ]
    }
   ],
   "source": [
    "## The result of test dataset\n",
    "print(\"Test Results for Random Forest Regressor Model:\")\n",
    "print(\"Root Mean Squared Error: \", sqrt(mse(y_test, y_test_pred)))\n",
    "print(\"R-Squared: \", r2_score(y_test, y_test_pred))"
   ]
  },
  {
   "cell_type": "markdown",
   "id": "42687e5f",
   "metadata": {},
   "source": [
    "### Refined Decision Tree Model"
   ]
  },
  {
   "cell_type": "code",
   "execution_count": 247,
   "id": "9bf26cb8",
   "metadata": {},
   "outputs": [
    {
     "data": {
      "text/plain": [
       "GridSearchCV(estimator=DecisionTreeRegressor(),\n",
       "             param_grid=[{'max_depth': [5, 6, 7],\n",
       "                          'max_features': ['auto', 'sqrt', 'log2'],\n",
       "                          'min_samples_leaf': [5, 6, 7, 8, 9, 10],\n",
       "                          'min_samples_split': [3, 4, 5, 6]}])"
      ]
     },
     "execution_count": 247,
     "metadata": {},
     "output_type": "execute_result"
    }
   ],
   "source": [
    "param_grid = [\n",
    "    {\n",
    "        'max_features':['auto','sqrt','log2'],\n",
    "        'min_samples_split':[3,4,5,6],\n",
    "        'min_samples_leaf':[5,6,7,8,9,10],\n",
    "        'max_depth':[5, 6, 7]\n",
    "    }\n",
    "]\n",
    "tree1 = GridSearchCV(DecisionTreeRegressor(), param_grid)\n",
    "tree1.fit(X_train,y_train)"
   ]
  },
  {
   "cell_type": "code",
   "execution_count": 248,
   "id": "5bbf50bd",
   "metadata": {},
   "outputs": [
    {
     "data": {
      "text/plain": [
       "DecisionTreeRegressor(max_depth=6, max_features='auto', min_samples_leaf=9,\n",
       "                      min_samples_split=5)"
      ]
     },
     "execution_count": 248,
     "metadata": {},
     "output_type": "execute_result"
    }
   ],
   "source": [
    "tree1.best_estimator_"
   ]
  },
  {
   "cell_type": "code",
   "execution_count": 252,
   "id": "c77d87d2",
   "metadata": {},
   "outputs": [
    {
     "data": {
      "text/html": [
       "<div>\n",
       "<style scoped>\n",
       "    .dataframe tbody tr th:only-of-type {\n",
       "        vertical-align: middle;\n",
       "    }\n",
       "\n",
       "    .dataframe tbody tr th {\n",
       "        vertical-align: top;\n",
       "    }\n",
       "\n",
       "    .dataframe thead th {\n",
       "        text-align: right;\n",
       "    }\n",
       "</style>\n",
       "<table border=\"1\" class=\"dataframe\">\n",
       "  <thead>\n",
       "    <tr style=\"text-align: right;\">\n",
       "      <th></th>\n",
       "      <th>senlength_derived</th>\n",
       "      <th>decisiontree1</th>\n",
       "    </tr>\n",
       "  </thead>\n",
       "  <tbody>\n",
       "    <tr>\n",
       "      <th>0</th>\n",
       "      <td>3.0</td>\n",
       "      <td>3.936249</td>\n",
       "    </tr>\n",
       "    <tr>\n",
       "      <th>1</th>\n",
       "      <td>2.0</td>\n",
       "      <td>2.103353</td>\n",
       "    </tr>\n",
       "    <tr>\n",
       "      <th>2</th>\n",
       "      <td>4.0</td>\n",
       "      <td>12.193548</td>\n",
       "    </tr>\n",
       "    <tr>\n",
       "      <th>3</th>\n",
       "      <td>3.0</td>\n",
       "      <td>3.936249</td>\n",
       "    </tr>\n",
       "    <tr>\n",
       "      <th>4</th>\n",
       "      <td>6.0</td>\n",
       "      <td>8.787037</td>\n",
       "    </tr>\n",
       "  </tbody>\n",
       "</table>\n",
       "</div>"
      ],
      "text/plain": [
       "   senlength_derived  decisiontree1\n",
       "0                3.0       3.936249\n",
       "1                2.0       2.103353\n",
       "2                4.0      12.193548\n",
       "3                3.0       3.936249\n",
       "4                6.0       8.787037"
      ]
     },
     "execution_count": 252,
     "metadata": {},
     "output_type": "execute_result"
    }
   ],
   "source": [
    "y_train_pred = tree1.predict(X_train)\n",
    "y_test_pred = tree1.predict(X_test)\n",
    "y_pre_df_decisiontree1 = pd.DataFrame(y_test_pred)\n",
    "y_test_df = y_test.reset_index().drop(columns=['index'])\n",
    "y_pre_df_decisiontree1.columns = ['decisiontree1']\n",
    "pd.concat([y_test_df, y_pre_df_decisiontree1],axis=1).head()"
   ]
  },
  {
   "cell_type": "code",
   "execution_count": 253,
   "id": "0a895af5",
   "metadata": {},
   "outputs": [
    {
     "name": "stdout",
     "output_type": "stream",
     "text": [
      "Train Results for Decision Tree Regressor Model:\n",
      "Root Mean Squared Error:  1.8393675065682231\n",
      "R-Squared:  0.623755728417388\n"
     ]
    }
   ],
   "source": [
    "## The result of train dataset\n",
    "print(\"Train Results for Decision Tree Regressor Refined Model:\")\n",
    "print(\"Root Mean Squared Error: \", sqrt(mse(y_train.values, y_train_pred)))\n",
    "print(\"R-Squared: \", r2_score(y_train.values, y_train_pred))"
   ]
  },
  {
   "cell_type": "code",
   "execution_count": 254,
   "id": "8238a274",
   "metadata": {},
   "outputs": [
    {
     "name": "stdout",
     "output_type": "stream",
     "text": [
      "Test Results for Decision Tree Regressor Model:\n",
      "Root Mean Squared Error:  1.8707459179914627\n",
      "R-Squared:  0.6307331701194698\n"
     ]
    }
   ],
   "source": [
    "## The result of test dataset\n",
    "print(\"Test Results for Decision Tree Regressor Refined Model:\")\n",
    "print(\"Root Mean Squared Error: \", sqrt(mse(y_test, y_test_pred)))\n",
    "print(\"R-Squared: \", r2_score(y_test, y_test_pred))"
   ]
  },
  {
   "cell_type": "markdown",
   "id": "5c9d7247",
   "metadata": {},
   "source": [
    "### Refined Random Tree Model"
   ]
  },
  {
   "cell_type": "code",
   "execution_count": 255,
   "id": "b0445724",
   "metadata": {},
   "outputs": [
    {
     "data": {
      "text/plain": [
       "GridSearchCV(estimator=RandomForestRegressor(),\n",
       "             param_grid={'max_depth': [8, 9, 10, 11, 12],\n",
       "                         'max_features': [0.3, 0.4, 0.5],\n",
       "                         'min_samples_split': [4, 8, 12, 16],\n",
       "                         'n_estimators': [15, 17, 19, 21]})"
      ]
     },
     "execution_count": 255,
     "metadata": {},
     "output_type": "execute_result"
    }
   ],
   "source": [
    "param_grid = {\n",
    "    'max_depth':[8,9,10,11,12],    \n",
    "    'n_estimators':[15,17,19,21], \n",
    "    'max_features':[0.3,0.4,0.5],\n",
    "    'min_samples_split':[4,8,12,16]\n",
    "}\n",
    "forest1 = GridSearchCV(RandomForestRegressor(), param_grid)\n",
    "forest1.fit(X_train,y_train)"
   ]
  },
  {
   "cell_type": "code",
   "execution_count": 256,
   "id": "0c343b2e",
   "metadata": {},
   "outputs": [
    {
     "data": {
      "text/plain": [
       "RandomForestRegressor(max_depth=11, max_features=0.4, min_samples_split=12,\n",
       "                      n_estimators=15)"
      ]
     },
     "execution_count": 256,
     "metadata": {},
     "output_type": "execute_result"
    }
   ],
   "source": [
    "forest1.best_estimator_"
   ]
  },
  {
   "cell_type": "code",
   "execution_count": 257,
   "id": "3fe00c03",
   "metadata": {},
   "outputs": [
    {
     "data": {
      "text/html": [
       "<div>\n",
       "<style scoped>\n",
       "    .dataframe tbody tr th:only-of-type {\n",
       "        vertical-align: middle;\n",
       "    }\n",
       "\n",
       "    .dataframe tbody tr th {\n",
       "        vertical-align: top;\n",
       "    }\n",
       "\n",
       "    .dataframe thead th {\n",
       "        text-align: right;\n",
       "    }\n",
       "</style>\n",
       "<table border=\"1\" class=\"dataframe\">\n",
       "  <thead>\n",
       "    <tr style=\"text-align: right;\">\n",
       "      <th></th>\n",
       "      <th>senlength_derived</th>\n",
       "      <th>randomforest1</th>\n",
       "    </tr>\n",
       "  </thead>\n",
       "  <tbody>\n",
       "    <tr>\n",
       "      <th>0</th>\n",
       "      <td>3.0</td>\n",
       "      <td>6.461406</td>\n",
       "    </tr>\n",
       "    <tr>\n",
       "      <th>1</th>\n",
       "      <td>2.0</td>\n",
       "      <td>2.189284</td>\n",
       "    </tr>\n",
       "    <tr>\n",
       "      <th>2</th>\n",
       "      <td>4.0</td>\n",
       "      <td>10.528315</td>\n",
       "    </tr>\n",
       "    <tr>\n",
       "      <th>3</th>\n",
       "      <td>3.0</td>\n",
       "      <td>3.995868</td>\n",
       "    </tr>\n",
       "    <tr>\n",
       "      <th>4</th>\n",
       "      <td>6.0</td>\n",
       "      <td>8.095472</td>\n",
       "    </tr>\n",
       "  </tbody>\n",
       "</table>\n",
       "</div>"
      ],
      "text/plain": [
       "   senlength_derived  randomforest1\n",
       "0                3.0       6.461406\n",
       "1                2.0       2.189284\n",
       "2                4.0      10.528315\n",
       "3                3.0       3.995868\n",
       "4                6.0       8.095472"
      ]
     },
     "execution_count": 257,
     "metadata": {},
     "output_type": "execute_result"
    }
   ],
   "source": [
    "y_train_pred = forest1.predict(X_train)\n",
    "y_test_pred = forest1.predict(X_test)\n",
    "y_pre_df_randomforest1 = pd.DataFrame(y_test_pred)\n",
    "y_test_df = y_test.reset_index().drop(columns=['index'])\n",
    "y_pre_df_randomforest1.columns = ['randomforest1']\n",
    "pd.concat([y_test_df, y_pre_df_randomforest1],axis=1).head()"
   ]
  },
  {
   "cell_type": "code",
   "execution_count": 258,
   "id": "9b39e50b",
   "metadata": {},
   "outputs": [
    {
     "name": "stdout",
     "output_type": "stream",
     "text": [
      "Train Results for Random Forest Regressor Refined Model:\n",
      "Root Mean Squared Error:  1.6406143312743864\n",
      "R-Squared:  0.7006730103827872\n"
     ]
    }
   ],
   "source": [
    "## The result of train dataset\n",
    "print(\"Train Results for Random Forest Regressor Refined Model:\")\n",
    "print(\"Root Mean Squared Error: \", sqrt(mse(y_train.values, y_train_pred)))\n",
    "print(\"R-Squared: \", r2_score(y_train.values, y_train_pred))"
   ]
  },
  {
   "cell_type": "code",
   "execution_count": 259,
   "id": "b421cffa",
   "metadata": {},
   "outputs": [
    {
     "name": "stdout",
     "output_type": "stream",
     "text": [
      "Test Results for Random Forest Regressor Refined Model:\n",
      "Root Mean Squared Error:  1.8406713435601274\n",
      "R-Squared:  0.6425105846012227\n"
     ]
    }
   ],
   "source": [
    "## The result of test dataset\n",
    "print(\"Test Results for Random Forest Regressor Refined Model:\")\n",
    "print(\"Root Mean Squared Error: \", sqrt(mse(y_test, y_test_pred)))\n",
    "print(\"R-Squared: \", r2_score(y_test, y_test_pred))"
   ]
  },
  {
   "cell_type": "markdown",
   "id": "a582d63e",
   "metadata": {},
   "source": [
    "### Compare the predict results"
   ]
  },
  {
   "cell_type": "code",
   "execution_count": 272,
   "id": "16143afc",
   "metadata": {},
   "outputs": [
    {
     "data": {
      "text/html": [
       "<div>\n",
       "<style scoped>\n",
       "    .dataframe tbody tr th:only-of-type {\n",
       "        vertical-align: middle;\n",
       "    }\n",
       "\n",
       "    .dataframe tbody tr th {\n",
       "        vertical-align: top;\n",
       "    }\n",
       "\n",
       "    .dataframe thead th {\n",
       "        text-align: right;\n",
       "    }\n",
       "</style>\n",
       "<table border=\"1\" class=\"dataframe\">\n",
       "  <thead>\n",
       "    <tr style=\"text-align: right;\">\n",
       "      <th></th>\n",
       "      <th>senlength_derived</th>\n",
       "      <th>ridge</th>\n",
       "      <th>lasso</th>\n",
       "      <th>elastic</th>\n",
       "      <th>knn</th>\n",
       "      <th>decisiontree</th>\n",
       "      <th>randomforest</th>\n",
       "    </tr>\n",
       "  </thead>\n",
       "  <tbody>\n",
       "    <tr>\n",
       "      <th>0</th>\n",
       "      <td>3.0</td>\n",
       "      <td>6.692148</td>\n",
       "      <td>6.654204</td>\n",
       "      <td>6.688482</td>\n",
       "      <td>4.538865</td>\n",
       "      <td>3.936249</td>\n",
       "      <td>6.997542</td>\n",
       "    </tr>\n",
       "    <tr>\n",
       "      <th>1</th>\n",
       "      <td>2.0</td>\n",
       "      <td>3.618246</td>\n",
       "      <td>3.688057</td>\n",
       "      <td>3.625609</td>\n",
       "      <td>2.312500</td>\n",
       "      <td>2.103353</td>\n",
       "      <td>2.040969</td>\n",
       "    </tr>\n",
       "    <tr>\n",
       "      <th>2</th>\n",
       "      <td>4.0</td>\n",
       "      <td>7.835323</td>\n",
       "      <td>7.807579</td>\n",
       "      <td>7.832513</td>\n",
       "      <td>5.525144</td>\n",
       "      <td>12.193548</td>\n",
       "      <td>8.897704</td>\n",
       "    </tr>\n",
       "    <tr>\n",
       "      <th>3</th>\n",
       "      <td>3.0</td>\n",
       "      <td>3.555535</td>\n",
       "      <td>3.568014</td>\n",
       "      <td>3.558363</td>\n",
       "      <td>3.292032</td>\n",
       "      <td>3.936249</td>\n",
       "      <td>4.443057</td>\n",
       "    </tr>\n",
       "    <tr>\n",
       "      <th>4</th>\n",
       "      <td>6.0</td>\n",
       "      <td>5.859142</td>\n",
       "      <td>5.869148</td>\n",
       "      <td>5.865026</td>\n",
       "      <td>6.000000</td>\n",
       "      <td>8.787037</td>\n",
       "      <td>7.978600</td>\n",
       "    </tr>\n",
       "    <tr>\n",
       "      <th>5</th>\n",
       "      <td>2.0</td>\n",
       "      <td>1.882734</td>\n",
       "      <td>1.859158</td>\n",
       "      <td>1.881195</td>\n",
       "      <td>2.142857</td>\n",
       "      <td>1.836030</td>\n",
       "      <td>1.804478</td>\n",
       "    </tr>\n",
       "    <tr>\n",
       "      <th>6</th>\n",
       "      <td>2.0</td>\n",
       "      <td>1.257538</td>\n",
       "      <td>1.277653</td>\n",
       "      <td>1.258633</td>\n",
       "      <td>1.886792</td>\n",
       "      <td>1.878073</td>\n",
       "      <td>1.906392</td>\n",
       "    </tr>\n",
       "    <tr>\n",
       "      <th>7</th>\n",
       "      <td>2.0</td>\n",
       "      <td>1.605244</td>\n",
       "      <td>1.632200</td>\n",
       "      <td>1.605852</td>\n",
       "      <td>1.644460</td>\n",
       "      <td>1.343563</td>\n",
       "      <td>1.446278</td>\n",
       "    </tr>\n",
       "    <tr>\n",
       "      <th>8</th>\n",
       "      <td>18.0</td>\n",
       "      <td>26.520159</td>\n",
       "      <td>26.351281</td>\n",
       "      <td>26.323511</td>\n",
       "      <td>3.118742</td>\n",
       "      <td>14.636364</td>\n",
       "      <td>15.495358</td>\n",
       "    </tr>\n",
       "    <tr>\n",
       "      <th>9</th>\n",
       "      <td>2.0</td>\n",
       "      <td>1.146137</td>\n",
       "      <td>1.156871</td>\n",
       "      <td>1.145428</td>\n",
       "      <td>1.875000</td>\n",
       "      <td>1.836030</td>\n",
       "      <td>1.887560</td>\n",
       "    </tr>\n",
       "    <tr>\n",
       "      <th>10</th>\n",
       "      <td>2.0</td>\n",
       "      <td>1.297590</td>\n",
       "      <td>1.284620</td>\n",
       "      <td>1.296262</td>\n",
       "      <td>2.000000</td>\n",
       "      <td>1.836030</td>\n",
       "      <td>1.869425</td>\n",
       "    </tr>\n",
       "    <tr>\n",
       "      <th>11</th>\n",
       "      <td>3.5</td>\n",
       "      <td>4.047538</td>\n",
       "      <td>4.037970</td>\n",
       "      <td>4.048123</td>\n",
       "      <td>3.000000</td>\n",
       "      <td>3.936249</td>\n",
       "      <td>3.859624</td>\n",
       "    </tr>\n",
       "    <tr>\n",
       "      <th>12</th>\n",
       "      <td>6.0</td>\n",
       "      <td>4.811556</td>\n",
       "      <td>4.833927</td>\n",
       "      <td>4.815754</td>\n",
       "      <td>6.453126</td>\n",
       "      <td>5.011350</td>\n",
       "      <td>5.270255</td>\n",
       "    </tr>\n",
       "    <tr>\n",
       "      <th>13</th>\n",
       "      <td>1.5</td>\n",
       "      <td>1.389996</td>\n",
       "      <td>1.416881</td>\n",
       "      <td>1.392132</td>\n",
       "      <td>1.876844</td>\n",
       "      <td>1.878073</td>\n",
       "      <td>1.875058</td>\n",
       "    </tr>\n",
       "    <tr>\n",
       "      <th>14</th>\n",
       "      <td>2.0</td>\n",
       "      <td>2.170335</td>\n",
       "      <td>2.147799</td>\n",
       "      <td>2.168497</td>\n",
       "      <td>2.500000</td>\n",
       "      <td>1.965295</td>\n",
       "      <td>1.981756</td>\n",
       "    </tr>\n",
       "    <tr>\n",
       "      <th>15</th>\n",
       "      <td>2.0</td>\n",
       "      <td>3.311084</td>\n",
       "      <td>3.296765</td>\n",
       "      <td>3.311219</td>\n",
       "      <td>1.961637</td>\n",
       "      <td>3.689732</td>\n",
       "      <td>3.569152</td>\n",
       "    </tr>\n",
       "    <tr>\n",
       "      <th>16</th>\n",
       "      <td>3.0</td>\n",
       "      <td>4.568748</td>\n",
       "      <td>4.586963</td>\n",
       "      <td>4.573220</td>\n",
       "      <td>4.000000</td>\n",
       "      <td>4.918449</td>\n",
       "      <td>4.339231</td>\n",
       "    </tr>\n",
       "    <tr>\n",
       "      <th>17</th>\n",
       "      <td>2.0</td>\n",
       "      <td>1.925619</td>\n",
       "      <td>1.926813</td>\n",
       "      <td>1.925649</td>\n",
       "      <td>2.000000</td>\n",
       "      <td>1.836030</td>\n",
       "      <td>1.782746</td>\n",
       "    </tr>\n",
       "    <tr>\n",
       "      <th>18</th>\n",
       "      <td>9.0</td>\n",
       "      <td>4.669968</td>\n",
       "      <td>4.663839</td>\n",
       "      <td>4.673136</td>\n",
       "      <td>3.900000</td>\n",
       "      <td>4.918449</td>\n",
       "      <td>4.260858</td>\n",
       "    </tr>\n",
       "    <tr>\n",
       "      <th>19</th>\n",
       "      <td>6.0</td>\n",
       "      <td>7.627753</td>\n",
       "      <td>7.572541</td>\n",
       "      <td>7.624029</td>\n",
       "      <td>5.785714</td>\n",
       "      <td>4.918449</td>\n",
       "      <td>5.917310</td>\n",
       "    </tr>\n",
       "  </tbody>\n",
       "</table>\n",
       "</div>"
      ],
      "text/plain": [
       "    senlength_derived      ridge      lasso    elastic       knn  \\\n",
       "0                 3.0   6.692148   6.654204   6.688482  4.538865   \n",
       "1                 2.0   3.618246   3.688057   3.625609  2.312500   \n",
       "2                 4.0   7.835323   7.807579   7.832513  5.525144   \n",
       "3                 3.0   3.555535   3.568014   3.558363  3.292032   \n",
       "4                 6.0   5.859142   5.869148   5.865026  6.000000   \n",
       "5                 2.0   1.882734   1.859158   1.881195  2.142857   \n",
       "6                 2.0   1.257538   1.277653   1.258633  1.886792   \n",
       "7                 2.0   1.605244   1.632200   1.605852  1.644460   \n",
       "8                18.0  26.520159  26.351281  26.323511  3.118742   \n",
       "9                 2.0   1.146137   1.156871   1.145428  1.875000   \n",
       "10                2.0   1.297590   1.284620   1.296262  2.000000   \n",
       "11                3.5   4.047538   4.037970   4.048123  3.000000   \n",
       "12                6.0   4.811556   4.833927   4.815754  6.453126   \n",
       "13                1.5   1.389996   1.416881   1.392132  1.876844   \n",
       "14                2.0   2.170335   2.147799   2.168497  2.500000   \n",
       "15                2.0   3.311084   3.296765   3.311219  1.961637   \n",
       "16                3.0   4.568748   4.586963   4.573220  4.000000   \n",
       "17                2.0   1.925619   1.926813   1.925649  2.000000   \n",
       "18                9.0   4.669968   4.663839   4.673136  3.900000   \n",
       "19                6.0   7.627753   7.572541   7.624029  5.785714   \n",
       "\n",
       "    decisiontree  randomforest  \n",
       "0       3.936249      6.997542  \n",
       "1       2.103353      2.040969  \n",
       "2      12.193548      8.897704  \n",
       "3       3.936249      4.443057  \n",
       "4       8.787037      7.978600  \n",
       "5       1.836030      1.804478  \n",
       "6       1.878073      1.906392  \n",
       "7       1.343563      1.446278  \n",
       "8      14.636364     15.495358  \n",
       "9       1.836030      1.887560  \n",
       "10      1.836030      1.869425  \n",
       "11      3.936249      3.859624  \n",
       "12      5.011350      5.270255  \n",
       "13      1.878073      1.875058  \n",
       "14      1.965295      1.981756  \n",
       "15      3.689732      3.569152  \n",
       "16      4.918449      4.339231  \n",
       "17      1.836030      1.782746  \n",
       "18      4.918449      4.260858  \n",
       "19      4.918449      5.917310  "
      ]
     },
     "execution_count": 272,
     "metadata": {},
     "output_type": "execute_result"
    }
   ],
   "source": [
    "df = pd.concat([y_test_df, y_pre_df_ridge,y_pre_df_lasso, y_pre_df_elastic, y_pre_df_knn, \\\n",
    "                y_pre_df_decisiontree, y_pre_df_randomforest],axis=1)\n",
    "df.head(20)"
   ]
  },
  {
   "cell_type": "markdown",
   "id": "0b046d49",
   "metadata": {},
   "source": [
    "### Plot the best prediction model results\n",
    "Random Forest Model Refined"
   ]
  },
  {
   "cell_type": "code",
   "execution_count": 273,
   "id": "c81ae602",
   "metadata": {},
   "outputs": [
    {
     "data": {
      "text/html": [
       "<div>\n",
       "<style scoped>\n",
       "    .dataframe tbody tr th:only-of-type {\n",
       "        vertical-align: middle;\n",
       "    }\n",
       "\n",
       "    .dataframe tbody tr th {\n",
       "        vertical-align: top;\n",
       "    }\n",
       "\n",
       "    .dataframe thead th {\n",
       "        text-align: right;\n",
       "    }\n",
       "</style>\n",
       "<table border=\"1\" class=\"dataframe\">\n",
       "  <thead>\n",
       "    <tr style=\"text-align: right;\">\n",
       "      <th></th>\n",
       "      <th>senlength_derived</th>\n",
       "      <th>randomforest1</th>\n",
       "    </tr>\n",
       "  </thead>\n",
       "  <tbody>\n",
       "    <tr>\n",
       "      <th>0</th>\n",
       "      <td>3.0</td>\n",
       "      <td>6.461406</td>\n",
       "    </tr>\n",
       "    <tr>\n",
       "      <th>1</th>\n",
       "      <td>2.0</td>\n",
       "      <td>2.189284</td>\n",
       "    </tr>\n",
       "    <tr>\n",
       "      <th>2</th>\n",
       "      <td>4.0</td>\n",
       "      <td>10.528315</td>\n",
       "    </tr>\n",
       "    <tr>\n",
       "      <th>3</th>\n",
       "      <td>3.0</td>\n",
       "      <td>3.995868</td>\n",
       "    </tr>\n",
       "    <tr>\n",
       "      <th>4</th>\n",
       "      <td>6.0</td>\n",
       "      <td>8.095472</td>\n",
       "    </tr>\n",
       "  </tbody>\n",
       "</table>\n",
       "</div>"
      ],
      "text/plain": [
       "   senlength_derived  randomforest1\n",
       "0                3.0       6.461406\n",
       "1                2.0       2.189284\n",
       "2                4.0      10.528315\n",
       "3                3.0       3.995868\n",
       "4                6.0       8.095472"
      ]
     },
     "execution_count": 273,
     "metadata": {},
     "output_type": "execute_result"
    }
   ],
   "source": [
    "pre = pd.concat([y_test_df, y_pre_df_randomforest1],axis=1)\n",
    "pre.head()"
   ]
  },
  {
   "cell_type": "code",
   "execution_count": 282,
   "id": "9bd004b6",
   "metadata": {},
   "outputs": [
    {
     "data": {
      "image/png": "[encoded data removed]",
      "text/plain": [
       "<Figure size 640x480 with 1 Axes>"
      ]
     },
     "metadata": {},
     "output_type": "display_data"
    },
    {
     "data": {
      "text/plain": [
       "<ggplot: (8767138109588)>"
      ]
     },
     "execution_count": 282,
     "metadata": {},
     "output_type": "execute_result"
    }
   ],
   "source": [
    "ggplot(pre,aes(x='senlength_derived',y='randomforest1'))+\\\n",
    "geom_point() +\\\n",
    "geom_line(color='blue')+\\\n",
    "geom_smooth(color = \"red\", alpha = 0.2)+\\\n",
    "labs(title = 'Prediction value vs Actual value',\n",
    "     x = 'Actual value', y = 'Prediction value')+\\\n",
    "theme_bw()"
   ]
  },
  {
   "cell_type": "markdown",
   "id": "037e036a",
   "metadata": {},
   "source": [
    "### Compare these six models"
   ]
  },
  {
   "cell_type": "code",
   "execution_count": 283,
   "id": "83edb212",
   "metadata": {},
   "outputs": [],
   "source": [
    "linear_regression_score = round(lr.score(X_train, y_train) * 100, 2)\n",
    "linear_regression_score_test = round(lr.score(X_test, y_test) * 100, 2)\n",
    "\n",
    "ridge_score = round(ridge_regressor.score(X_train, y_train) * 100, 2)\n",
    "ridge_score_test = round(ridge_regressor.score(X_test, y_test) * 100, 2)\n",
    "\n",
    "lasso_score = round(lasso_regressor.score(X_train, y_train) * 100, 2)\n",
    "lasso_score_test = round(lasso_regressor.score(X_test, y_test) * 100, 2)\n",
    "\n",
    "elastic_score = round(elastic_regressor.score(X_train, y_train) * 100, 2)\n",
    "elastic_score_test = round(elastic_regressor.score(X_test, y_test) * 100, 2)\n",
    "\n",
    "knn_score = round(knn.score(X_train, y_train) * 100, 2)\n",
    "knn_score_test = round(knn.score(X_test, y_test) * 100, 2)\n",
    "\n",
    "decision_score = round(tree.score(X_train, y_train) * 100, 2)\n",
    "decision_score_test = round(tree.score(X_test, y_test) * 100, 2)\n",
    "\n",
    "random_score = round(forest.score(X_train, y_train) * 100, 2)\n",
    "random_score_test = round(forest.score(X_test, y_test) * 100, 2)\n",
    "\n",
    "decision_r_score = round(tree1.score(X_train, y_train) * 100, 2)\n",
    "decision_r_score_test = round(tree1.score(X_test, y_test) * 100, 2)\n",
    "\n",
    "random_r_score = round(forest1.score(X_train, y_train) * 100, 2)\n",
    "random_r_score_test = round(forest1.score(X_test, y_test) * 100, 2)"
   ]
  },
  {
   "cell_type": "code",
   "execution_count": 284,
   "id": "1f6ef467",
   "metadata": {},
   "outputs": [
    {
     "data": {
      "text/html": [
       "<div>\n",
       "<style scoped>\n",
       "    .dataframe tbody tr th:only-of-type {\n",
       "        vertical-align: middle;\n",
       "    }\n",
       "\n",
       "    .dataframe tbody tr th {\n",
       "        vertical-align: top;\n",
       "    }\n",
       "\n",
       "    .dataframe thead th {\n",
       "        text-align: right;\n",
       "    }\n",
       "</style>\n",
       "<table border=\"1\" class=\"dataframe\">\n",
       "  <thead>\n",
       "    <tr style=\"text-align: right;\">\n",
       "      <th></th>\n",
       "      <th>Model</th>\n",
       "      <th>Score</th>\n",
       "      <th>Test Score</th>\n",
       "    </tr>\n",
       "  </thead>\n",
       "  <tbody>\n",
       "    <tr>\n",
       "      <th>6</th>\n",
       "      <td>Random Forest Regression</td>\n",
       "      <td>67.15</td>\n",
       "      <td>64.37</td>\n",
       "    </tr>\n",
       "    <tr>\n",
       "      <th>8</th>\n",
       "      <td>Random Forest Refined Regression</td>\n",
       "      <td>70.07</td>\n",
       "      <td>64.25</td>\n",
       "    </tr>\n",
       "    <tr>\n",
       "      <th>5</th>\n",
       "      <td>Decision Tree Regression</td>\n",
       "      <td>62.93</td>\n",
       "      <td>63.37</td>\n",
       "    </tr>\n",
       "    <tr>\n",
       "      <th>7</th>\n",
       "      <td>Decision Tree Refined Regression</td>\n",
       "      <td>62.38</td>\n",
       "      <td>63.07</td>\n",
       "    </tr>\n",
       "    <tr>\n",
       "      <th>0</th>\n",
       "      <td>Linear Regression</td>\n",
       "      <td>43.05</td>\n",
       "      <td>48.55</td>\n",
       "    </tr>\n",
       "    <tr>\n",
       "      <th>1</th>\n",
       "      <td>Ridge Regression</td>\n",
       "      <td>43.04</td>\n",
       "      <td>48.51</td>\n",
       "    </tr>\n",
       "    <tr>\n",
       "      <th>2</th>\n",
       "      <td>Lasso Regression</td>\n",
       "      <td>43.03</td>\n",
       "      <td>48.51</td>\n",
       "    </tr>\n",
       "    <tr>\n",
       "      <th>3</th>\n",
       "      <td>ElasticNet Regression</td>\n",
       "      <td>43.04</td>\n",
       "      <td>48.48</td>\n",
       "    </tr>\n",
       "    <tr>\n",
       "      <th>4</th>\n",
       "      <td>KNN Regression</td>\n",
       "      <td>91.77</td>\n",
       "      <td>46.87</td>\n",
       "    </tr>\n",
       "  </tbody>\n",
       "</table>\n",
       "</div>"
      ],
      "text/plain": [
       "                              Model  Score  Test Score\n",
       "6          Random Forest Regression  67.15       64.37\n",
       "8  Random Forest Refined Regression  70.07       64.25\n",
       "5          Decision Tree Regression  62.93       63.37\n",
       "7  Decision Tree Refined Regression  62.38       63.07\n",
       "0                 Linear Regression  43.05       48.55\n",
       "1                  Ridge Regression  43.04       48.51\n",
       "2                  Lasso Regression  43.03       48.51\n",
       "3             ElasticNet Regression  43.04       48.48\n",
       "4                    KNN Regression  91.77       46.87"
      ]
     },
     "execution_count": 284,
     "metadata": {},
     "output_type": "execute_result"
    }
   ],
   "source": [
    "models = pd.DataFrame({\n",
    "    'Model': [ 'Linear Regression','Ridge Regression', 'Lasso Regression', 'ElasticNet Regression','KNN Regression', \\\n",
    "              'Decision Tree Regression','Random Forest Regression','Decision Tree Refined Regression',\\\n",
    "              'Random Forest Refined Regression'],\n",
    "    'Score': [ linear_regression_score, ridge_score, lasso_score, elastic_score, knn_score, decision_score, random_score,\\\n",
    "              decision_r_score,random_r_score],\n",
    "    'Test Score': [ linear_regression_score_test,ridge_score_test, lasso_score_test, elastic_score_test, knn_score_test, \\\n",
    "                   decision_score_test, random_score_test,decision_r_score_test,random_r_score_test]})\n",
    "models.sort_values(by='Test Score', ascending=False)"
   ]
  },
  {
   "cell_type": "code",
   "execution_count": 285,
   "id": "7a3702ef",
   "metadata": {},
   "outputs": [
    {
     "name": "stdout",
     "output_type": "stream",
     "text": [
      "+--------------------------+----------+---------------+----------+---------------+\n",
      "|        Model Name        | Tr. RMSE | Tr. R-Squared | Te. RMSE | Te. R-Squared |\n",
      "+--------------------------+----------+---------------+----------+---------------+\n",
      "|    Linear Regression     | 2.263071 |    0.430453   | 2.208297 |    0.485451   |\n",
      "|     Ridge Regression     | 2.263106 |    0.430435   | 2.208985 |    0.485131   |\n",
      "|     Lasso Regression     | 2.263368 |    0.430303   | 2.209096 |    0.485079   |\n",
      "|  ElasticNet Regression   | 2.263190 |    0.430393   | 2.209598 |    0.484845   |\n",
      "|      KNN Regression      | 0.860378 |    0.917678   | 2.244052 |    0.468654   |\n",
      "| Decision Tree Regression | 1.825669 |    0.629338   | 1.863243 |    0.633689   |\n",
      "| Random Forest Regression | 1.718697 |    0.671502   | 1.837658 |    0.643679   |\n",
      "| Decision Tree Regression | 1.839367 |    0.623755   | 1.870745 |    0.630733   |\n",
      "| Random Forest Regression | 1.640614 |    0.700673   | 1.840671 |    0.642510   |\n",
      "+--------------------------+----------+---------------+----------+---------------+\n"
     ]
    }
   ],
   "source": [
    "from prettytable import PrettyTable   \n",
    "x = PrettyTable()\n",
    "x.field_names = [\"Model Name\", \"Tr. RMSE\",\"Tr. R-Squared\", \"Te. RMSE\", \"Te. R-Squared\",]\n",
    "x.add_row(['Linear Regression','2.263071','0.430453','2.208297','0.485451'])\n",
    "x.add_row(['Ridge Regression','2.263106','0.430435','2.208985','0.485131'])\n",
    "x.add_row(['Lasso Regression','2.263368','0.430303','2.209096','0.485079'])\n",
    "x.add_row(['ElasticNet Regression','2.263190',' 0.430393','2.209598','0.484845'])\n",
    "x.add_row(['KNN Regression','0.860378','0.917678','2.244052','0.468654'])\n",
    "x.add_row(['Decision Tree Regression','1.825669','0.629338','1.863243','0.633689'])\n",
    "x.add_row(['Random Forest Regression', '1.718697','0.671502','1.837658','0.643679'])\n",
    "x.add_row(['Decision Tree Regression','1.839367','0.623755','1.870745','0.630733'])\n",
    "x.add_row(['Random Forest Regression', '1.640614','0.700673','1.840671','0.642510'])\n",
    "print(x)"
   ]
  },
  {
   "cell_type": "markdown",
   "id": "fb5d54f2",
   "metadata": {},
   "source": [
    "### Compare the feature importances of Decision Tree and Random Forest"
   ]
  },
  {
   "cell_type": "markdown",
   "id": "15ad1c46",
   "metadata": {},
   "source": [
    "### Decision Tree"
   ]
  },
  {
   "cell_type": "code",
   "execution_count": 260,
   "id": "f9a05a19",
   "metadata": {},
   "outputs": [
    {
     "name": "stdout",
     "output_type": "stream",
     "text": [
      "Variable: DISPOSITION_CHARGED_CLASS Importance: 0.57\n",
      "Variable: is_homi_derived      Importance: 0.22\n",
      "Variable: Incar                Importance: 0.09\n",
      "Variable: is_nar_derived       Importance: 0.05\n",
      "Variable: AGE_AT_INCIDENT      Importance: 0.02\n",
      "Variable: is_wea_derived       Importance: 0.02\n",
      "Variable: Livability           Importance: 0.01\n",
      "Variable: his_prop             Importance: 0.01\n",
      "Variable: is_rob_derived       Importance: 0.01\n",
      "Variable: CHARGE_COUNT         Importance: 0.0\n",
      "Variable: is_changed_offense   Importance: 0.0\n",
      "Variable: is_black_derived     Importance: 0.0\n",
      "Variable: is_hisp_derived      Importance: 0.0\n",
      "Variable: is_other_derived     Importance: 0.0\n",
      "Variable: is_white_derived     Importance: 0.0\n",
      "Variable: is_defendant_male    Importance: 0.0\n",
      "Variable: is_judge_male        Importance: 0.0\n",
      "Variable: is_covid             Importance: 0.0\n",
      "Variable: is_sex_derived       Importance: 0.0\n",
      "Variable: is_vehi_derived      Importance: 0.0\n",
      "Variable: is_theft_derived     Importance: 0.0\n",
      "Variable: is_bur_derived       Importance: 0.0\n",
      "Variable: is_bat_derived       Importance: 0.0\n",
      "Variable: is_DUI_derived       Importance: 0.0\n",
      "Variable: is_district1_derived Importance: 0.0\n",
      "Variable: is_district2_derived Importance: 0.0\n",
      "Variable: is_district3_derived Importance: 0.0\n",
      "Variable: is_district4_derived Importance: 0.0\n",
      "Variable: is_district5_derived Importance: 0.0\n",
      "Variable: is_district6_derived Importance: 0.0\n"
     ]
    }
   ],
   "source": [
    "# Get numerical feature importances\n",
    "importances = list(tree.best_estimator_.feature_importances_)\n",
    "\n",
    "# List of tuples with variable and importance\n",
    "feature_importances = [(feature, round(importance, 2)) for feature, importance in zip(feature_list, importances)]\n",
    "\n",
    "# Sort the feature importances by most important first\n",
    "feature_importances = sorted(feature_importances, key = lambda x: x[1], reverse = True)\n",
    "\n",
    "# Print out the feature and importances \n",
    "[print('Variable: {:20} Importance: {}'.format(*pair)) for pair in feature_importances];"
   ]
  },
  {
   "cell_type": "markdown",
   "id": "ba378b14",
   "metadata": {},
   "source": [
    "### Random Forest"
   ]
  },
  {
   "cell_type": "code",
   "execution_count": 262,
   "id": "9019abcf",
   "metadata": {},
   "outputs": [
    {
     "name": "stdout",
     "output_type": "stream",
     "text": [
      "Variable: DISPOSITION_CHARGED_CLASS Importance: 0.52\n",
      "Variable: is_homi_derived      Importance: 0.19\n",
      "Variable: Incar                Importance: 0.08\n",
      "Variable: is_rob_derived       Importance: 0.05\n",
      "Variable: AGE_AT_INCIDENT      Importance: 0.04\n",
      "Variable: is_nar_derived       Importance: 0.03\n",
      "Variable: Livability           Importance: 0.02\n",
      "Variable: his_prop             Importance: 0.02\n",
      "Variable: is_defendant_male    Importance: 0.01\n",
      "Variable: is_wea_derived       Importance: 0.01\n",
      "Variable: is_bur_derived       Importance: 0.01\n",
      "Variable: is_district2_derived Importance: 0.01\n",
      "Variable: CHARGE_COUNT         Importance: 0.0\n",
      "Variable: is_changed_offense   Importance: 0.0\n",
      "Variable: is_black_derived     Importance: 0.0\n",
      "Variable: is_hisp_derived      Importance: 0.0\n",
      "Variable: is_other_derived     Importance: 0.0\n",
      "Variable: is_white_derived     Importance: 0.0\n",
      "Variable: is_judge_male        Importance: 0.0\n",
      "Variable: is_covid             Importance: 0.0\n",
      "Variable: is_sex_derived       Importance: 0.0\n",
      "Variable: is_vehi_derived      Importance: 0.0\n",
      "Variable: is_theft_derived     Importance: 0.0\n",
      "Variable: is_bat_derived       Importance: 0.0\n",
      "Variable: is_DUI_derived       Importance: 0.0\n",
      "Variable: is_district1_derived Importance: 0.0\n",
      "Variable: is_district3_derived Importance: 0.0\n",
      "Variable: is_district4_derived Importance: 0.0\n",
      "Variable: is_district5_derived Importance: 0.0\n",
      "Variable: is_district6_derived Importance: 0.0\n"
     ]
    }
   ],
   "source": [
    "# Get numerical feature importances\n",
    "importances = list(forest.best_estimator_.feature_importances_)\n",
    "\n",
    "# List of tuples with variable and importance\n",
    "feature_importances = [(feature, round(importance, 2)) for feature, importance in zip(feature_list, importances)]\n",
    "\n",
    "# Sort the feature importances by most important first\n",
    "feature_importances = sorted(feature_importances, key = lambda x: x[1], reverse = True)\n",
    "\n",
    "# Print out the feature and importances \n",
    "[print('Variable: {:20} Importance: {}'.format(*pair)) for pair in feature_importances];"
   ]
  },
  {
   "cell_type": "markdown",
   "id": "d448a576",
   "metadata": {},
   "source": [
    "### Decision Tree Refined"
   ]
  },
  {
   "cell_type": "code",
   "execution_count": 263,
   "id": "e6678050",
   "metadata": {},
   "outputs": [
    {
     "name": "stdout",
     "output_type": "stream",
     "text": [
      "Variable: DISPOSITION_CHARGED_CLASS Importance: 0.57\n",
      "Variable: is_homi_derived      Importance: 0.22\n",
      "Variable: Incar                Importance: 0.09\n",
      "Variable: is_nar_derived       Importance: 0.05\n",
      "Variable: AGE_AT_INCIDENT      Importance: 0.02\n",
      "Variable: is_wea_derived       Importance: 0.02\n",
      "Variable: Livability           Importance: 0.01\n",
      "Variable: is_rob_derived       Importance: 0.01\n",
      "Variable: CHARGE_COUNT         Importance: 0.0\n",
      "Variable: is_changed_offense   Importance: 0.0\n",
      "Variable: is_black_derived     Importance: 0.0\n",
      "Variable: is_hisp_derived      Importance: 0.0\n",
      "Variable: is_other_derived     Importance: 0.0\n",
      "Variable: is_white_derived     Importance: 0.0\n",
      "Variable: is_defendant_male    Importance: 0.0\n",
      "Variable: is_judge_male        Importance: 0.0\n",
      "Variable: is_covid             Importance: 0.0\n",
      "Variable: his_prop             Importance: 0.0\n",
      "Variable: is_sex_derived       Importance: 0.0\n",
      "Variable: is_vehi_derived      Importance: 0.0\n",
      "Variable: is_theft_derived     Importance: 0.0\n",
      "Variable: is_bur_derived       Importance: 0.0\n",
      "Variable: is_bat_derived       Importance: 0.0\n",
      "Variable: is_DUI_derived       Importance: 0.0\n",
      "Variable: is_district1_derived Importance: 0.0\n",
      "Variable: is_district2_derived Importance: 0.0\n",
      "Variable: is_district3_derived Importance: 0.0\n",
      "Variable: is_district4_derived Importance: 0.0\n",
      "Variable: is_district5_derived Importance: 0.0\n",
      "Variable: is_district6_derived Importance: 0.0\n"
     ]
    }
   ],
   "source": [
    "# Get numerical feature importances\n",
    "importances = list(tree1.best_estimator_.feature_importances_)\n",
    "\n",
    "# List of tuples with variable and importance\n",
    "feature_importances = [(feature, round(importance, 2)) for feature, importance in zip(feature_list, importances)]\n",
    "\n",
    "# Sort the feature importances by most important first\n",
    "feature_importances = sorted(feature_importances, key = lambda x: x[1], reverse = True)\n",
    "\n",
    "# Print out the feature and importances \n",
    "[print('Variable: {:20} Importance: {}'.format(*pair)) for pair in feature_importances];"
   ]
  },
  {
   "cell_type": "markdown",
   "id": "edc5e21a",
   "metadata": {},
   "source": [
    "### Random Forest Refined"
   ]
  },
  {
   "cell_type": "code",
   "execution_count": 264,
   "id": "85d4d37d",
   "metadata": {},
   "outputs": [
    {
     "name": "stdout",
     "output_type": "stream",
     "text": [
      "Variable: DISPOSITION_CHARGED_CLASS Importance: 0.52\n",
      "Variable: is_homi_derived      Importance: 0.16\n",
      "Variable: Incar                Importance: 0.07\n",
      "Variable: AGE_AT_INCIDENT      Importance: 0.06\n",
      "Variable: is_rob_derived       Importance: 0.04\n",
      "Variable: his_prop             Importance: 0.03\n",
      "Variable: is_nar_derived       Importance: 0.03\n",
      "Variable: Livability           Importance: 0.02\n",
      "Variable: is_defendant_male    Importance: 0.01\n",
      "Variable: is_wea_derived       Importance: 0.01\n",
      "Variable: is_bur_derived       Importance: 0.01\n",
      "Variable: CHARGE_COUNT         Importance: 0.0\n",
      "Variable: is_changed_offense   Importance: 0.0\n",
      "Variable: is_black_derived     Importance: 0.0\n",
      "Variable: is_hisp_derived      Importance: 0.0\n",
      "Variable: is_other_derived     Importance: 0.0\n",
      "Variable: is_white_derived     Importance: 0.0\n",
      "Variable: is_judge_male        Importance: 0.0\n",
      "Variable: is_covid             Importance: 0.0\n",
      "Variable: is_sex_derived       Importance: 0.0\n",
      "Variable: is_vehi_derived      Importance: 0.0\n",
      "Variable: is_theft_derived     Importance: 0.0\n",
      "Variable: is_bat_derived       Importance: 0.0\n",
      "Variable: is_DUI_derived       Importance: 0.0\n",
      "Variable: is_district1_derived Importance: 0.0\n",
      "Variable: is_district2_derived Importance: 0.0\n",
      "Variable: is_district3_derived Importance: 0.0\n",
      "Variable: is_district4_derived Importance: 0.0\n",
      "Variable: is_district5_derived Importance: 0.0\n",
      "Variable: is_district6_derived Importance: 0.0\n"
     ]
    }
   ],
   "source": [
    "# Get numerical feature importances\n",
    "importances = list(forest1.best_estimator_.feature_importances_)\n",
    "\n",
    "# List of tuples with variable and importance\n",
    "feature_importances = [(feature, round(importance, 2)) for feature, importance in zip(feature_list, importances)]\n",
    "\n",
    "# Sort the feature importances by most important first\n",
    "feature_importances = sorted(feature_importances, key = lambda x: x[1], reverse = True)\n",
    "\n",
    "# Print out the feature and importances \n",
    "[print('Variable: {:20} Importance: {}'.format(*pair)) for pair in feature_importances];"
   ]
  },
  {
   "cell_type": "markdown",
   "id": "aafad6bc",
   "metadata": {},
   "source": [
    "### Plot comparison"
   ]
  },
  {
   "cell_type": "code",
   "execution_count": 266,
   "id": "22210781",
   "metadata": {},
   "outputs": [
    {
     "data": {
      "image/png": "[encoded data removed]",
      "text/plain": [
       "<Figure size 1800x800 with 1 Axes>"
      ]
     },
     "metadata": {},
     "output_type": "display_data"
    }
   ],
   "source": [
    "import matplotlib.pyplot as plt\n",
    "feature_importance1=pd.DataFrame({\n",
    "    'rfc':forest.best_estimator_.feature_importances_,\n",
    "    'dt':tree.best_estimator_.feature_importances_,\n",
    "    'dt1':tree1.best_estimator_.feature_importances_,\n",
    "    'rfc1':forest1.best_estimator_.feature_importances_,\n",
    "},index=new_df.drop(['senlength_derived'], axis = 1).columns)\n",
    "feature_importance1.sort_values(by='rfc',ascending=True,inplace=True)\n",
    "\n",
    "index = np.arange(len(feature_importance1))\n",
    "fig, ax = plt.subplots(figsize=(18,8))\n",
    "dt_feature=ax.barh(index,feature_importance1['dt'],0.2,color='red',label='Decision Tree')\n",
    "rfc_feature=ax.barh(index+0.2,feature_importance1['rfc'],0.2,color='purple',label='Random Forest')\n",
    "dt_feature1=ax.barh(index+0.4,feature_importance1['dt1'],0.2,color='yellow',label='Decision Tree Refined')\n",
    "rfc_feature1=ax.barh(index+0.6,feature_importance1['rfc1'],0.2,color='green',label='Random Forest Refined')\n",
    "ax.set(yticks=index+0.4,yticklabels=feature_importance1.index)\n",
    "\n",
    "ax.legend()\n",
    "plt.show()"
   ]
  }
 ],
 "metadata": {
  "kernelspec": {
   "display_name": "Python 3 (ipykernel)",
   "language": "python",
   "name": "python3"
  },
  "language_info": {
   "codemirror_mode": {
    "name": "ipython",
    "version": 3
   },
   "file_extension": ".py",
   "mimetype": "text/x-python",
   "name": "python",
   "nbconvert_exporter": "python",
   "pygments_lexer": "ipython3",
   "version": "3.9.15"
  }
 },
 "nbformat": 4,
 "nbformat_minor": 5
}
